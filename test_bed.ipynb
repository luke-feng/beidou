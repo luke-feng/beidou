{
 "cells": [
  {
   "cell_type": "code",
   "execution_count": 1,
   "metadata": {},
   "outputs": [],
   "source": [
    "import os, sys\n",
    "from datetime import datetime\n",
    "import networkx as nx\n",
    "from util import adjacency_matrix_to_nei_list, dirichlet_sampling_balanced, \\\n",
    "    get_adjacency_matrix, generate_node_configs, generate_attack_matrix\n",
    "from torchvision.datasets import MNIST\n",
    "from torchvision import transforms\n",
    "from local_node import local_node\n",
    "import pickle"
   ]
  },
  {
   "cell_type": "markdown",
   "metadata": {},
   "source": [
    "Configs"
   ]
  },
  {
   "cell_type": "code",
   "execution_count": 16,
   "metadata": {},
   "outputs": [],
   "source": [
    "num_peers = 10\n",
    "alpha = 100\n",
    "node_list = {}\n",
    "maxRound = 5\n",
    "maxEpoch = 3\n",
    "dataset_name = \"MNIST\"\n",
    "topology = \"ring\""
   ]
  },
  {
   "cell_type": "code",
   "execution_count": 17,
   "metadata": {},
   "outputs": [
    {
     "name": "stderr",
     "output_type": "stream",
     "text": [
      "GPU available: True (cuda), used: True\n",
      "TPU available: False, using: 0 TPU cores\n",
      "IPU available: False, using: 0 IPUs\n",
      "HPU available: False, using: 0 HPUs\n",
      "You are using a CUDA device ('NVIDIA GeForce RTX 4070 Ti') that has Tensor Cores. To properly utilize them, you should set `torch.set_float32_matmul_precision('medium' | 'high')` which will trade-off precision for performance. For more details, read https://pytorch.org/docs/stable/generated/torch.set_float32_matmul_precision.html#torch.set_float32_matmul_precision\n",
      "Missing logger folder: d:\\git\\beidou/experiments/10_clients_alpha_100_MNIST_ring_03_06_2024_16_51_13\\node_0\n",
      "LOCAL_RANK: 0 - CUDA_VISIBLE_DEVICES: [0,1]\n",
      "\n",
      "  | Name          | Type                      | Params | In sizes | Out sizes\n",
      "-----------------------------------------------------------------------------------\n",
      "0 | train_metrics | MetricCollection          | 0      | ?        | ?        \n",
      "1 | val_metrics   | MetricCollection          | 0      | ?        | ?        \n",
      "2 | test_metrics  | MetricCollection          | 0      | ?        | ?        \n",
      "3 | cm            | MulticlassConfusionMatrix | 0      | ?        | ?        \n",
      "4 | criterion     | CrossEntropyLoss          | 0      | ?        | ?        \n",
      "5 | l1            | Linear                    | 200 K  | [1, 784] | [1, 256] \n",
      "6 | l2            | Linear                    | 32.9 K | [1, 256] | [1, 128] \n",
      "7 | l3            | Linear                    | 1.3 K  | [1, 128] | [1, 10]  \n",
      "-----------------------------------------------------------------------------------\n",
      "235 K     Trainable params\n",
      "0         Non-trainable params\n",
      "235 K     Total params\n",
      "0.941     Total estimated model params size (MB)\n",
      "d:\\git\\beidou\\venv\\Lib\\site-packages\\lightning\\pytorch\\trainer\\connectors\\data_connector.py:430: PossibleUserWarning: The dataloader, val_dataloader, does not have many workers which may be a bottleneck. Consider increasing the value of the `num_workers` argument` (try 16 which is the number of cpus on this machine) in the `DataLoader` init to improve performance.\n",
      "  rank_zero_warn(\n",
      "d:\\git\\beidou\\venv\\Lib\\site-packages\\lightning\\pytorch\\trainer\\connectors\\data_connector.py:430: PossibleUserWarning: The dataloader, train_dataloader, does not have many workers which may be a bottleneck. Consider increasing the value of the `num_workers` argument` (try 16 which is the number of cpus on this machine) in the `DataLoader` init to improve performance.\n",
      "  rank_zero_warn(\n"
     ]
    },
    {
     "name": "stdout",
     "output_type": "stream",
     "text": [
      "Epoch end: Validation, epoch number: 0\n",
      "Epoch end: Validation, epoch number: 1\n",
      "Epoch end: Train, epoch number: 0\n",
      "Epoch end: Validation, epoch number: 2\n",
      "Epoch end: Train, epoch number: 1\n"
     ]
    },
    {
     "name": "stderr",
     "output_type": "stream",
     "text": [
      "`Trainer.fit` stopped: `max_epochs=3` reached.\n",
      "You are using a CUDA device ('NVIDIA GeForce RTX 4070 Ti') that has Tensor Cores. To properly utilize them, you should set `torch.set_float32_matmul_precision('medium' | 'high')` which will trade-off precision for performance. For more details, read https://pytorch.org/docs/stable/generated/torch.set_float32_matmul_precision.html#torch.set_float32_matmul_precision\n",
      "LOCAL_RANK: 0 - CUDA_VISIBLE_DEVICES: [0,1]\n"
     ]
    },
    {
     "name": "stdout",
     "output_type": "stream",
     "text": [
      "Epoch end: Validation, epoch number: 3\n",
      "Epoch end: Train, epoch number: 2\n",
      "Performance of Node 0 before aggregation at round 1\n"
     ]
    },
    {
     "name": "stderr",
     "output_type": "stream",
     "text": [
      "d:\\git\\beidou\\venv\\Lib\\site-packages\\lightning\\pytorch\\trainer\\connectors\\data_connector.py:430: PossibleUserWarning: The dataloader, test_dataloader, does not have many workers which may be a bottleneck. Consider increasing the value of the `num_workers` argument` (try 16 which is the number of cpus on this machine) in the `DataLoader` init to improve performance.\n",
      "  rank_zero_warn(\n"
     ]
    },
    {
     "name": "stdout",
     "output_type": "stream",
     "text": [
      "Epoch end: Test, epoch number: 0\n"
     ]
    },
    {
     "data": {
      "text/html": [
       "<pre style=\"white-space:pre;overflow-x:auto;line-height:normal;font-family:Menlo,'DejaVu Sans Mono',consolas,'Courier New',monospace\">┏━━━━━━━━━━━━━━━━━━━━━━━━━━━┳━━━━━━━━━━━━━━━━━━━━━━━━━━━┓\n",
       "┃<span style=\"font-weight: bold\">   Runningstage.testing    </span>┃<span style=\"font-weight: bold\">                           </span>┃\n",
       "┃<span style=\"font-weight: bold\">          metric           </span>┃<span style=\"font-weight: bold\">       DataLoader 0        </span>┃\n",
       "┡━━━━━━━━━━━━━━━━━━━━━━━━━━━╇━━━━━━━━━━━━━━━━━━━━━━━━━━━┩\n",
       "│<span style=\"color: #008080; text-decoration-color: #008080\">       Test/Accuracy       </span>│<span style=\"color: #800080; text-decoration-color: #800080\">    0.8929693698883057     </span>│\n",
       "│<span style=\"color: #008080; text-decoration-color: #008080\">       Test/F1Score        </span>│<span style=\"color: #800080; text-decoration-color: #800080\">     0.887327253818512     </span>│\n",
       "│<span style=\"color: #008080; text-decoration-color: #008080\">         Test/Loss         </span>│<span style=\"color: #800080; text-decoration-color: #800080\">     0.343293160200119     </span>│\n",
       "│<span style=\"color: #008080; text-decoration-color: #008080\">      Test/Precision       </span>│<span style=\"color: #800080; text-decoration-color: #800080\">    0.8978712558746338     </span>│\n",
       "│<span style=\"color: #008080; text-decoration-color: #008080\">        Test/Recall        </span>│<span style=\"color: #800080; text-decoration-color: #800080\">    0.8929693698883057     </span>│\n",
       "│<span style=\"color: #008080; text-decoration-color: #008080\">    TestEpoch/Accuracy     </span>│<span style=\"color: #800080; text-decoration-color: #800080\">    0.8954479694366455     </span>│\n",
       "│<span style=\"color: #008080; text-decoration-color: #008080\">     TestEpoch/F1Score     </span>│<span style=\"color: #800080; text-decoration-color: #800080\">    0.8951262831687927     </span>│\n",
       "│<span style=\"color: #008080; text-decoration-color: #008080\">    TestEpoch/Precision    </span>│<span style=\"color: #800080; text-decoration-color: #800080\">    0.8978027105331421     </span>│\n",
       "│<span style=\"color: #008080; text-decoration-color: #008080\">     TestEpoch/Recall      </span>│<span style=\"color: #800080; text-decoration-color: #800080\">    0.8954479694366455     </span>│\n",
       "└───────────────────────────┴───────────────────────────┘\n",
       "</pre>\n"
      ],
      "text/plain": [
       "┏━━━━━━━━━━━━━━━━━━━━━━━━━━━┳━━━━━━━━━━━━━━━━━━━━━━━━━━━┓\n",
       "┃\u001b[1m \u001b[0m\u001b[1m  Runningstage.testing   \u001b[0m\u001b[1m \u001b[0m┃\u001b[1m                           \u001b[0m┃\n",
       "┃\u001b[1m \u001b[0m\u001b[1m         metric          \u001b[0m\u001b[1m \u001b[0m┃\u001b[1m \u001b[0m\u001b[1m      DataLoader 0       \u001b[0m\u001b[1m \u001b[0m┃\n",
       "┡━━━━━━━━━━━━━━━━━━━━━━━━━━━╇━━━━━━━━━━━━━━━━━━━━━━━━━━━┩\n",
       "│\u001b[36m \u001b[0m\u001b[36m      Test/Accuracy      \u001b[0m\u001b[36m \u001b[0m│\u001b[35m \u001b[0m\u001b[35m   0.8929693698883057    \u001b[0m\u001b[35m \u001b[0m│\n",
       "│\u001b[36m \u001b[0m\u001b[36m      Test/F1Score       \u001b[0m\u001b[36m \u001b[0m│\u001b[35m \u001b[0m\u001b[35m    0.887327253818512    \u001b[0m\u001b[35m \u001b[0m│\n",
       "│\u001b[36m \u001b[0m\u001b[36m        Test/Loss        \u001b[0m\u001b[36m \u001b[0m│\u001b[35m \u001b[0m\u001b[35m    0.343293160200119    \u001b[0m\u001b[35m \u001b[0m│\n",
       "│\u001b[36m \u001b[0m\u001b[36m     Test/Precision      \u001b[0m\u001b[36m \u001b[0m│\u001b[35m \u001b[0m\u001b[35m   0.8978712558746338    \u001b[0m\u001b[35m \u001b[0m│\n",
       "│\u001b[36m \u001b[0m\u001b[36m       Test/Recall       \u001b[0m\u001b[36m \u001b[0m│\u001b[35m \u001b[0m\u001b[35m   0.8929693698883057    \u001b[0m\u001b[35m \u001b[0m│\n",
       "│\u001b[36m \u001b[0m\u001b[36m   TestEpoch/Accuracy    \u001b[0m\u001b[36m \u001b[0m│\u001b[35m \u001b[0m\u001b[35m   0.8954479694366455    \u001b[0m\u001b[35m \u001b[0m│\n",
       "│\u001b[36m \u001b[0m\u001b[36m    TestEpoch/F1Score    \u001b[0m\u001b[36m \u001b[0m│\u001b[35m \u001b[0m\u001b[35m   0.8951262831687927    \u001b[0m\u001b[35m \u001b[0m│\n",
       "│\u001b[36m \u001b[0m\u001b[36m   TestEpoch/Precision   \u001b[0m\u001b[36m \u001b[0m│\u001b[35m \u001b[0m\u001b[35m   0.8978027105331421    \u001b[0m\u001b[35m \u001b[0m│\n",
       "│\u001b[36m \u001b[0m\u001b[36m    TestEpoch/Recall     \u001b[0m\u001b[36m \u001b[0m│\u001b[35m \u001b[0m\u001b[35m   0.8954479694366455    \u001b[0m\u001b[35m \u001b[0m│\n",
       "└───────────────────────────┴───────────────────────────┘\n"
      ]
     },
     "metadata": {},
     "output_type": "display_data"
    },
    {
     "name": "stderr",
     "output_type": "stream",
     "text": [
      "GPU available: True (cuda), used: True\n",
      "TPU available: False, using: 0 TPU cores\n",
      "IPU available: False, using: 0 IPUs\n",
      "HPU available: False, using: 0 HPUs\n",
      "You are using a CUDA device ('NVIDIA GeForce RTX 4070 Ti') that has Tensor Cores. To properly utilize them, you should set `torch.set_float32_matmul_precision('medium' | 'high')` which will trade-off precision for performance. For more details, read https://pytorch.org/docs/stable/generated/torch.set_float32_matmul_precision.html#torch.set_float32_matmul_precision\n",
      "Missing logger folder: d:\\git\\beidou/experiments/10_clients_alpha_100_MNIST_ring_03_06_2024_16_51_13\\node_1\n",
      "LOCAL_RANK: 0 - CUDA_VISIBLE_DEVICES: [0,1]\n",
      "\n",
      "  | Name          | Type                      | Params | In sizes | Out sizes\n",
      "-----------------------------------------------------------------------------------\n",
      "0 | train_metrics | MetricCollection          | 0      | ?        | ?        \n",
      "1 | val_metrics   | MetricCollection          | 0      | ?        | ?        \n",
      "2 | test_metrics  | MetricCollection          | 0      | ?        | ?        \n",
      "3 | cm            | MulticlassConfusionMatrix | 0      | ?        | ?        \n",
      "4 | criterion     | CrossEntropyLoss          | 0      | ?        | ?        \n",
      "5 | l1            | Linear                    | 200 K  | [1, 784] | [1, 256] \n",
      "6 | l2            | Linear                    | 32.9 K | [1, 256] | [1, 128] \n",
      "7 | l3            | Linear                    | 1.3 K  | [1, 128] | [1, 10]  \n",
      "-----------------------------------------------------------------------------------\n",
      "235 K     Trainable params\n",
      "0         Non-trainable params\n",
      "235 K     Total params\n",
      "0.941     Total estimated model params size (MB)\n"
     ]
    },
    {
     "name": "stdout",
     "output_type": "stream",
     "text": [
      "Epoch end: Validation, epoch number: 0\n",
      "Epoch end: Validation, epoch number: 1\n",
      "Epoch end: Train, epoch number: 0\n",
      "Epoch end: Validation, epoch number: 2\n",
      "Epoch end: Train, epoch number: 1\n"
     ]
    },
    {
     "name": "stderr",
     "output_type": "stream",
     "text": [
      "`Trainer.fit` stopped: `max_epochs=3` reached.\n",
      "You are using a CUDA device ('NVIDIA GeForce RTX 4070 Ti') that has Tensor Cores. To properly utilize them, you should set `torch.set_float32_matmul_precision('medium' | 'high')` which will trade-off precision for performance. For more details, read https://pytorch.org/docs/stable/generated/torch.set_float32_matmul_precision.html#torch.set_float32_matmul_precision\n",
      "LOCAL_RANK: 0 - CUDA_VISIBLE_DEVICES: [0,1]\n"
     ]
    },
    {
     "name": "stdout",
     "output_type": "stream",
     "text": [
      "Epoch end: Validation, epoch number: 3\n",
      "Epoch end: Train, epoch number: 2\n",
      "Performance of Node 1 before aggregation at round 1\n",
      "Epoch end: Test, epoch number: 0\n"
     ]
    },
    {
     "data": {
      "text/html": [
       "<pre style=\"white-space:pre;overflow-x:auto;line-height:normal;font-family:Menlo,'DejaVu Sans Mono',consolas,'Courier New',monospace\">┏━━━━━━━━━━━━━━━━━━━━━━━━━━━┳━━━━━━━━━━━━━━━━━━━━━━━━━━━┓\n",
       "┃<span style=\"font-weight: bold\">   Runningstage.testing    </span>┃<span style=\"font-weight: bold\">                           </span>┃\n",
       "┃<span style=\"font-weight: bold\">          metric           </span>┃<span style=\"font-weight: bold\">       DataLoader 0        </span>┃\n",
       "┡━━━━━━━━━━━━━━━━━━━━━━━━━━━╇━━━━━━━━━━━━━━━━━━━━━━━━━━━┩\n",
       "│<span style=\"color: #008080; text-decoration-color: #008080\">       Test/Accuracy       </span>│<span style=\"color: #800080; text-decoration-color: #800080\">    0.9050168991088867     </span>│\n",
       "│<span style=\"color: #008080; text-decoration-color: #008080\">       Test/F1Score        </span>│<span style=\"color: #800080; text-decoration-color: #800080\">    0.8975604772567749     </span>│\n",
       "│<span style=\"color: #008080; text-decoration-color: #008080\">         Test/Loss         </span>│<span style=\"color: #800080; text-decoration-color: #800080\">    0.28814607858657837    </span>│\n",
       "│<span style=\"color: #008080; text-decoration-color: #008080\">      Test/Precision       </span>│<span style=\"color: #800080; text-decoration-color: #800080\">    0.9099013805389404     </span>│\n",
       "│<span style=\"color: #008080; text-decoration-color: #008080\">        Test/Recall        </span>│<span style=\"color: #800080; text-decoration-color: #800080\">    0.9050168991088867     </span>│\n",
       "│<span style=\"color: #008080; text-decoration-color: #008080\">    TestEpoch/Accuracy     </span>│<span style=\"color: #800080; text-decoration-color: #800080\">    0.9078863859176636     </span>│\n",
       "│<span style=\"color: #008080; text-decoration-color: #008080\">     TestEpoch/F1Score     </span>│<span style=\"color: #800080; text-decoration-color: #800080\">     0.907087504863739     </span>│\n",
       "│<span style=\"color: #008080; text-decoration-color: #008080\">    TestEpoch/Precision    </span>│<span style=\"color: #800080; text-decoration-color: #800080\">    0.9136998057365417     </span>│\n",
       "│<span style=\"color: #008080; text-decoration-color: #008080\">     TestEpoch/Recall      </span>│<span style=\"color: #800080; text-decoration-color: #800080\">    0.9078863859176636     </span>│\n",
       "└───────────────────────────┴───────────────────────────┘\n",
       "</pre>\n"
      ],
      "text/plain": [
       "┏━━━━━━━━━━━━━━━━━━━━━━━━━━━┳━━━━━━━━━━━━━━━━━━━━━━━━━━━┓\n",
       "┃\u001b[1m \u001b[0m\u001b[1m  Runningstage.testing   \u001b[0m\u001b[1m \u001b[0m┃\u001b[1m                           \u001b[0m┃\n",
       "┃\u001b[1m \u001b[0m\u001b[1m         metric          \u001b[0m\u001b[1m \u001b[0m┃\u001b[1m \u001b[0m\u001b[1m      DataLoader 0       \u001b[0m\u001b[1m \u001b[0m┃\n",
       "┡━━━━━━━━━━━━━━━━━━━━━━━━━━━╇━━━━━━━━━━━━━━━━━━━━━━━━━━━┩\n",
       "│\u001b[36m \u001b[0m\u001b[36m      Test/Accuracy      \u001b[0m\u001b[36m \u001b[0m│\u001b[35m \u001b[0m\u001b[35m   0.9050168991088867    \u001b[0m\u001b[35m \u001b[0m│\n",
       "│\u001b[36m \u001b[0m\u001b[36m      Test/F1Score       \u001b[0m\u001b[36m \u001b[0m│\u001b[35m \u001b[0m\u001b[35m   0.8975604772567749    \u001b[0m\u001b[35m \u001b[0m│\n",
       "│\u001b[36m \u001b[0m\u001b[36m        Test/Loss        \u001b[0m\u001b[36m \u001b[0m│\u001b[35m \u001b[0m\u001b[35m   0.28814607858657837   \u001b[0m\u001b[35m \u001b[0m│\n",
       "│\u001b[36m \u001b[0m\u001b[36m     Test/Precision      \u001b[0m\u001b[36m \u001b[0m│\u001b[35m \u001b[0m\u001b[35m   0.9099013805389404    \u001b[0m\u001b[35m \u001b[0m│\n",
       "│\u001b[36m \u001b[0m\u001b[36m       Test/Recall       \u001b[0m\u001b[36m \u001b[0m│\u001b[35m \u001b[0m\u001b[35m   0.9050168991088867    \u001b[0m\u001b[35m \u001b[0m│\n",
       "│\u001b[36m \u001b[0m\u001b[36m   TestEpoch/Accuracy    \u001b[0m\u001b[36m \u001b[0m│\u001b[35m \u001b[0m\u001b[35m   0.9078863859176636    \u001b[0m\u001b[35m \u001b[0m│\n",
       "│\u001b[36m \u001b[0m\u001b[36m    TestEpoch/F1Score    \u001b[0m\u001b[36m \u001b[0m│\u001b[35m \u001b[0m\u001b[35m    0.907087504863739    \u001b[0m\u001b[35m \u001b[0m│\n",
       "│\u001b[36m \u001b[0m\u001b[36m   TestEpoch/Precision   \u001b[0m\u001b[36m \u001b[0m│\u001b[35m \u001b[0m\u001b[35m   0.9136998057365417    \u001b[0m\u001b[35m \u001b[0m│\n",
       "│\u001b[36m \u001b[0m\u001b[36m    TestEpoch/Recall     \u001b[0m\u001b[36m \u001b[0m│\u001b[35m \u001b[0m\u001b[35m   0.9078863859176636    \u001b[0m\u001b[35m \u001b[0m│\n",
       "└───────────────────────────┴───────────────────────────┘\n"
      ]
     },
     "metadata": {},
     "output_type": "display_data"
    },
    {
     "name": "stderr",
     "output_type": "stream",
     "text": [
      "GPU available: True (cuda), used: True\n",
      "TPU available: False, using: 0 TPU cores\n",
      "IPU available: False, using: 0 IPUs\n",
      "HPU available: False, using: 0 HPUs\n",
      "You are using a CUDA device ('NVIDIA GeForce RTX 4070 Ti') that has Tensor Cores. To properly utilize them, you should set `torch.set_float32_matmul_precision('medium' | 'high')` which will trade-off precision for performance. For more details, read https://pytorch.org/docs/stable/generated/torch.set_float32_matmul_precision.html#torch.set_float32_matmul_precision\n",
      "Missing logger folder: d:\\git\\beidou/experiments/10_clients_alpha_100_MNIST_ring_03_06_2024_16_51_13\\node_2\n",
      "LOCAL_RANK: 0 - CUDA_VISIBLE_DEVICES: [0,1]\n",
      "\n",
      "  | Name          | Type                      | Params | In sizes | Out sizes\n",
      "-----------------------------------------------------------------------------------\n",
      "0 | train_metrics | MetricCollection          | 0      | ?        | ?        \n",
      "1 | val_metrics   | MetricCollection          | 0      | ?        | ?        \n",
      "2 | test_metrics  | MetricCollection          | 0      | ?        | ?        \n",
      "3 | cm            | MulticlassConfusionMatrix | 0      | ?        | ?        \n",
      "4 | criterion     | CrossEntropyLoss          | 0      | ?        | ?        \n",
      "5 | l1            | Linear                    | 200 K  | [1, 784] | [1, 256] \n",
      "6 | l2            | Linear                    | 32.9 K | [1, 256] | [1, 128] \n",
      "7 | l3            | Linear                    | 1.3 K  | [1, 128] | [1, 10]  \n",
      "-----------------------------------------------------------------------------------\n",
      "235 K     Trainable params\n",
      "0         Non-trainable params\n",
      "235 K     Total params\n",
      "0.941     Total estimated model params size (MB)\n"
     ]
    },
    {
     "name": "stdout",
     "output_type": "stream",
     "text": [
      "Epoch end: Validation, epoch number: 0\n",
      "Epoch end: Validation, epoch number: 1\n",
      "Epoch end: Train, epoch number: 0\n",
      "Epoch end: Validation, epoch number: 2\n",
      "Epoch end: Train, epoch number: 1\n"
     ]
    },
    {
     "name": "stderr",
     "output_type": "stream",
     "text": [
      "`Trainer.fit` stopped: `max_epochs=3` reached.\n",
      "You are using a CUDA device ('NVIDIA GeForce RTX 4070 Ti') that has Tensor Cores. To properly utilize them, you should set `torch.set_float32_matmul_precision('medium' | 'high')` which will trade-off precision for performance. For more details, read https://pytorch.org/docs/stable/generated/torch.set_float32_matmul_precision.html#torch.set_float32_matmul_precision\n"
     ]
    },
    {
     "name": "stdout",
     "output_type": "stream",
     "text": [
      "Epoch end: Validation, epoch number: 3\n",
      "Epoch end: Train, epoch number: 2\n",
      "Performance of Node 2 before aggregation at round 1\n"
     ]
    },
    {
     "name": "stderr",
     "output_type": "stream",
     "text": [
      "LOCAL_RANK: 0 - CUDA_VISIBLE_DEVICES: [0,1]\n"
     ]
    },
    {
     "name": "stdout",
     "output_type": "stream",
     "text": [
      "Epoch end: Test, epoch number: 0\n"
     ]
    },
    {
     "data": {
      "text/html": [
       "<pre style=\"white-space:pre;overflow-x:auto;line-height:normal;font-family:Menlo,'DejaVu Sans Mono',consolas,'Courier New',monospace\">┏━━━━━━━━━━━━━━━━━━━━━━━━━━━┳━━━━━━━━━━━━━━━━━━━━━━━━━━━┓\n",
       "┃<span style=\"font-weight: bold\">   Runningstage.testing    </span>┃<span style=\"font-weight: bold\">                           </span>┃\n",
       "┃<span style=\"font-weight: bold\">          metric           </span>┃<span style=\"font-weight: bold\">       DataLoader 0        </span>┃\n",
       "┡━━━━━━━━━━━━━━━━━━━━━━━━━━━╇━━━━━━━━━━━━━━━━━━━━━━━━━━━┩\n",
       "│<span style=\"color: #008080; text-decoration-color: #008080\">       Test/Accuracy       </span>│<span style=\"color: #800080; text-decoration-color: #800080\">    0.9201801419258118     </span>│\n",
       "│<span style=\"color: #008080; text-decoration-color: #008080\">       Test/F1Score        </span>│<span style=\"color: #800080; text-decoration-color: #800080\">    0.9107360243797302     </span>│\n",
       "│<span style=\"color: #008080; text-decoration-color: #008080\">         Test/Loss         </span>│<span style=\"color: #800080; text-decoration-color: #800080\">    0.26692652702331543    </span>│\n",
       "│<span style=\"color: #008080; text-decoration-color: #008080\">      Test/Precision       </span>│<span style=\"color: #800080; text-decoration-color: #800080\">    0.9202078580856323     </span>│\n",
       "│<span style=\"color: #008080; text-decoration-color: #008080\">        Test/Recall        </span>│<span style=\"color: #800080; text-decoration-color: #800080\">    0.9201801419258118     </span>│\n",
       "│<span style=\"color: #008080; text-decoration-color: #008080\">    TestEpoch/Accuracy     </span>│<span style=\"color: #800080; text-decoration-color: #800080\">     0.917585551738739     </span>│\n",
       "│<span style=\"color: #008080; text-decoration-color: #008080\">     TestEpoch/F1Score     </span>│<span style=\"color: #800080; text-decoration-color: #800080\">    0.9167702794075012     </span>│\n",
       "│<span style=\"color: #008080; text-decoration-color: #008080\">    TestEpoch/Precision    </span>│<span style=\"color: #800080; text-decoration-color: #800080\">    0.9227688312530518     </span>│\n",
       "│<span style=\"color: #008080; text-decoration-color: #008080\">     TestEpoch/Recall      </span>│<span style=\"color: #800080; text-decoration-color: #800080\">     0.917585551738739     </span>│\n",
       "└───────────────────────────┴───────────────────────────┘\n",
       "</pre>\n"
      ],
      "text/plain": [
       "┏━━━━━━━━━━━━━━━━━━━━━━━━━━━┳━━━━━━━━━━━━━━━━━━━━━━━━━━━┓\n",
       "┃\u001b[1m \u001b[0m\u001b[1m  Runningstage.testing   \u001b[0m\u001b[1m \u001b[0m┃\u001b[1m                           \u001b[0m┃\n",
       "┃\u001b[1m \u001b[0m\u001b[1m         metric          \u001b[0m\u001b[1m \u001b[0m┃\u001b[1m \u001b[0m\u001b[1m      DataLoader 0       \u001b[0m\u001b[1m \u001b[0m┃\n",
       "┡━━━━━━━━━━━━━━━━━━━━━━━━━━━╇━━━━━━━━━━━━━━━━━━━━━━━━━━━┩\n",
       "│\u001b[36m \u001b[0m\u001b[36m      Test/Accuracy      \u001b[0m\u001b[36m \u001b[0m│\u001b[35m \u001b[0m\u001b[35m   0.9201801419258118    \u001b[0m\u001b[35m \u001b[0m│\n",
       "│\u001b[36m \u001b[0m\u001b[36m      Test/F1Score       \u001b[0m\u001b[36m \u001b[0m│\u001b[35m \u001b[0m\u001b[35m   0.9107360243797302    \u001b[0m\u001b[35m \u001b[0m│\n",
       "│\u001b[36m \u001b[0m\u001b[36m        Test/Loss        \u001b[0m\u001b[36m \u001b[0m│\u001b[35m \u001b[0m\u001b[35m   0.26692652702331543   \u001b[0m\u001b[35m \u001b[0m│\n",
       "│\u001b[36m \u001b[0m\u001b[36m     Test/Precision      \u001b[0m\u001b[36m \u001b[0m│\u001b[35m \u001b[0m\u001b[35m   0.9202078580856323    \u001b[0m\u001b[35m \u001b[0m│\n",
       "│\u001b[36m \u001b[0m\u001b[36m       Test/Recall       \u001b[0m\u001b[36m \u001b[0m│\u001b[35m \u001b[0m\u001b[35m   0.9201801419258118    \u001b[0m\u001b[35m \u001b[0m│\n",
       "│\u001b[36m \u001b[0m\u001b[36m   TestEpoch/Accuracy    \u001b[0m\u001b[36m \u001b[0m│\u001b[35m \u001b[0m\u001b[35m    0.917585551738739    \u001b[0m\u001b[35m \u001b[0m│\n",
       "│\u001b[36m \u001b[0m\u001b[36m    TestEpoch/F1Score    \u001b[0m\u001b[36m \u001b[0m│\u001b[35m \u001b[0m\u001b[35m   0.9167702794075012    \u001b[0m\u001b[35m \u001b[0m│\n",
       "│\u001b[36m \u001b[0m\u001b[36m   TestEpoch/Precision   \u001b[0m\u001b[36m \u001b[0m│\u001b[35m \u001b[0m\u001b[35m   0.9227688312530518    \u001b[0m\u001b[35m \u001b[0m│\n",
       "│\u001b[36m \u001b[0m\u001b[36m    TestEpoch/Recall     \u001b[0m\u001b[36m \u001b[0m│\u001b[35m \u001b[0m\u001b[35m    0.917585551738739    \u001b[0m\u001b[35m \u001b[0m│\n",
       "└───────────────────────────┴───────────────────────────┘\n"
      ]
     },
     "metadata": {},
     "output_type": "display_data"
    },
    {
     "name": "stderr",
     "output_type": "stream",
     "text": [
      "GPU available: True (cuda), used: True\n",
      "TPU available: False, using: 0 TPU cores\n",
      "IPU available: False, using: 0 IPUs\n",
      "HPU available: False, using: 0 HPUs\n",
      "You are using a CUDA device ('NVIDIA GeForce RTX 4070 Ti') that has Tensor Cores. To properly utilize them, you should set `torch.set_float32_matmul_precision('medium' | 'high')` which will trade-off precision for performance. For more details, read https://pytorch.org/docs/stable/generated/torch.set_float32_matmul_precision.html#torch.set_float32_matmul_precision\n",
      "Missing logger folder: d:\\git\\beidou/experiments/10_clients_alpha_100_MNIST_ring_03_06_2024_16_51_13\\node_3\n",
      "LOCAL_RANK: 0 - CUDA_VISIBLE_DEVICES: [0,1]\n",
      "\n",
      "  | Name          | Type                      | Params | In sizes | Out sizes\n",
      "-----------------------------------------------------------------------------------\n",
      "0 | train_metrics | MetricCollection          | 0      | ?        | ?        \n",
      "1 | val_metrics   | MetricCollection          | 0      | ?        | ?        \n",
      "2 | test_metrics  | MetricCollection          | 0      | ?        | ?        \n",
      "3 | cm            | MulticlassConfusionMatrix | 0      | ?        | ?        \n",
      "4 | criterion     | CrossEntropyLoss          | 0      | ?        | ?        \n",
      "5 | l1            | Linear                    | 200 K  | [1, 784] | [1, 256] \n",
      "6 | l2            | Linear                    | 32.9 K | [1, 256] | [1, 128] \n",
      "7 | l3            | Linear                    | 1.3 K  | [1, 128] | [1, 10]  \n",
      "-----------------------------------------------------------------------------------\n",
      "235 K     Trainable params\n",
      "0         Non-trainable params\n",
      "235 K     Total params\n",
      "0.941     Total estimated model params size (MB)\n"
     ]
    },
    {
     "name": "stdout",
     "output_type": "stream",
     "text": [
      "Epoch end: Validation, epoch number: 0\n",
      "Epoch end: Validation, epoch number: 1\n",
      "Epoch end: Train, epoch number: 0\n",
      "Epoch end: Validation, epoch number: 2\n",
      "Epoch end: Train, epoch number: 1\n"
     ]
    },
    {
     "name": "stderr",
     "output_type": "stream",
     "text": [
      "`Trainer.fit` stopped: `max_epochs=3` reached.\n",
      "You are using a CUDA device ('NVIDIA GeForce RTX 4070 Ti') that has Tensor Cores. To properly utilize them, you should set `torch.set_float32_matmul_precision('medium' | 'high')` which will trade-off precision for performance. For more details, read https://pytorch.org/docs/stable/generated/torch.set_float32_matmul_precision.html#torch.set_float32_matmul_precision\n"
     ]
    },
    {
     "name": "stdout",
     "output_type": "stream",
     "text": [
      "Epoch end: Validation, epoch number: 3\n",
      "Epoch end: Train, epoch number: 2\n",
      "Performance of Node 3 before aggregation at round 1\n"
     ]
    },
    {
     "name": "stderr",
     "output_type": "stream",
     "text": [
      "LOCAL_RANK: 0 - CUDA_VISIBLE_DEVICES: [0,1]\n"
     ]
    },
    {
     "name": "stdout",
     "output_type": "stream",
     "text": [
      "Epoch end: Test, epoch number: 0\n"
     ]
    },
    {
     "data": {
      "text/html": [
       "<pre style=\"white-space:pre;overflow-x:auto;line-height:normal;font-family:Menlo,'DejaVu Sans Mono',consolas,'Courier New',monospace\">┏━━━━━━━━━━━━━━━━━━━━━━━━━━━┳━━━━━━━━━━━━━━━━━━━━━━━━━━━┓\n",
       "┃<span style=\"font-weight: bold\">   Runningstage.testing    </span>┃<span style=\"font-weight: bold\">                           </span>┃\n",
       "┃<span style=\"font-weight: bold\">          metric           </span>┃<span style=\"font-weight: bold\">       DataLoader 0        </span>┃\n",
       "┡━━━━━━━━━━━━━━━━━━━━━━━━━━━╇━━━━━━━━━━━━━━━━━━━━━━━━━━━┩\n",
       "│<span style=\"color: #008080; text-decoration-color: #008080\">       Test/Accuracy       </span>│<span style=\"color: #800080; text-decoration-color: #800080\">    0.9093675017356873     </span>│\n",
       "│<span style=\"color: #008080; text-decoration-color: #008080\">       Test/F1Score        </span>│<span style=\"color: #800080; text-decoration-color: #800080\">    0.9013852477073669     </span>│\n",
       "│<span style=\"color: #008080; text-decoration-color: #008080\">         Test/Loss         </span>│<span style=\"color: #800080; text-decoration-color: #800080\">    0.3178766369819641     </span>│\n",
       "│<span style=\"color: #008080; text-decoration-color: #008080\">      Test/Precision       </span>│<span style=\"color: #800080; text-decoration-color: #800080\">    0.9105818867683411     </span>│\n",
       "│<span style=\"color: #008080; text-decoration-color: #008080\">        Test/Recall        </span>│<span style=\"color: #800080; text-decoration-color: #800080\">    0.9093675017356873     </span>│\n",
       "│<span style=\"color: #008080; text-decoration-color: #008080\">    TestEpoch/Accuracy     </span>│<span style=\"color: #800080; text-decoration-color: #800080\">    0.9088906645774841     </span>│\n",
       "│<span style=\"color: #008080; text-decoration-color: #008080\">     TestEpoch/F1Score     </span>│<span style=\"color: #800080; text-decoration-color: #800080\">    0.9053278565406799     </span>│\n",
       "│<span style=\"color: #008080; text-decoration-color: #008080\">    TestEpoch/Precision    </span>│<span style=\"color: #800080; text-decoration-color: #800080\">    0.9044275283813477     </span>│\n",
       "│<span style=\"color: #008080; text-decoration-color: #008080\">     TestEpoch/Recall      </span>│<span style=\"color: #800080; text-decoration-color: #800080\">    0.9088906645774841     </span>│\n",
       "└───────────────────────────┴───────────────────────────┘\n",
       "</pre>\n"
      ],
      "text/plain": [
       "┏━━━━━━━━━━━━━━━━━━━━━━━━━━━┳━━━━━━━━━━━━━━━━━━━━━━━━━━━┓\n",
       "┃\u001b[1m \u001b[0m\u001b[1m  Runningstage.testing   \u001b[0m\u001b[1m \u001b[0m┃\u001b[1m                           \u001b[0m┃\n",
       "┃\u001b[1m \u001b[0m\u001b[1m         metric          \u001b[0m\u001b[1m \u001b[0m┃\u001b[1m \u001b[0m\u001b[1m      DataLoader 0       \u001b[0m\u001b[1m \u001b[0m┃\n",
       "┡━━━━━━━━━━━━━━━━━━━━━━━━━━━╇━━━━━━━━━━━━━━━━━━━━━━━━━━━┩\n",
       "│\u001b[36m \u001b[0m\u001b[36m      Test/Accuracy      \u001b[0m\u001b[36m \u001b[0m│\u001b[35m \u001b[0m\u001b[35m   0.9093675017356873    \u001b[0m\u001b[35m \u001b[0m│\n",
       "│\u001b[36m \u001b[0m\u001b[36m      Test/F1Score       \u001b[0m\u001b[36m \u001b[0m│\u001b[35m \u001b[0m\u001b[35m   0.9013852477073669    \u001b[0m\u001b[35m \u001b[0m│\n",
       "│\u001b[36m \u001b[0m\u001b[36m        Test/Loss        \u001b[0m\u001b[36m \u001b[0m│\u001b[35m \u001b[0m\u001b[35m   0.3178766369819641    \u001b[0m\u001b[35m \u001b[0m│\n",
       "│\u001b[36m \u001b[0m\u001b[36m     Test/Precision      \u001b[0m\u001b[36m \u001b[0m│\u001b[35m \u001b[0m\u001b[35m   0.9105818867683411    \u001b[0m\u001b[35m \u001b[0m│\n",
       "│\u001b[36m \u001b[0m\u001b[36m       Test/Recall       \u001b[0m\u001b[36m \u001b[0m│\u001b[35m \u001b[0m\u001b[35m   0.9093675017356873    \u001b[0m\u001b[35m \u001b[0m│\n",
       "│\u001b[36m \u001b[0m\u001b[36m   TestEpoch/Accuracy    \u001b[0m\u001b[36m \u001b[0m│\u001b[35m \u001b[0m\u001b[35m   0.9088906645774841    \u001b[0m\u001b[35m \u001b[0m│\n",
       "│\u001b[36m \u001b[0m\u001b[36m    TestEpoch/F1Score    \u001b[0m\u001b[36m \u001b[0m│\u001b[35m \u001b[0m\u001b[35m   0.9053278565406799    \u001b[0m\u001b[35m \u001b[0m│\n",
       "│\u001b[36m \u001b[0m\u001b[36m   TestEpoch/Precision   \u001b[0m\u001b[36m \u001b[0m│\u001b[35m \u001b[0m\u001b[35m   0.9044275283813477    \u001b[0m\u001b[35m \u001b[0m│\n",
       "│\u001b[36m \u001b[0m\u001b[36m    TestEpoch/Recall     \u001b[0m\u001b[36m \u001b[0m│\u001b[35m \u001b[0m\u001b[35m   0.9088906645774841    \u001b[0m\u001b[35m \u001b[0m│\n",
       "└───────────────────────────┴───────────────────────────┘\n"
      ]
     },
     "metadata": {},
     "output_type": "display_data"
    },
    {
     "name": "stderr",
     "output_type": "stream",
     "text": [
      "GPU available: True (cuda), used: True\n",
      "TPU available: False, using: 0 TPU cores\n",
      "IPU available: False, using: 0 IPUs\n",
      "HPU available: False, using: 0 HPUs\n",
      "You are using a CUDA device ('NVIDIA GeForce RTX 4070 Ti') that has Tensor Cores. To properly utilize them, you should set `torch.set_float32_matmul_precision('medium' | 'high')` which will trade-off precision for performance. For more details, read https://pytorch.org/docs/stable/generated/torch.set_float32_matmul_precision.html#torch.set_float32_matmul_precision\n",
      "Missing logger folder: d:\\git\\beidou/experiments/10_clients_alpha_100_MNIST_ring_03_06_2024_16_51_13\\node_4\n",
      "LOCAL_RANK: 0 - CUDA_VISIBLE_DEVICES: [0,1]\n",
      "\n",
      "  | Name          | Type                      | Params | In sizes | Out sizes\n",
      "-----------------------------------------------------------------------------------\n",
      "0 | train_metrics | MetricCollection          | 0      | ?        | ?        \n",
      "1 | val_metrics   | MetricCollection          | 0      | ?        | ?        \n",
      "2 | test_metrics  | MetricCollection          | 0      | ?        | ?        \n",
      "3 | cm            | MulticlassConfusionMatrix | 0      | ?        | ?        \n",
      "4 | criterion     | CrossEntropyLoss          | 0      | ?        | ?        \n",
      "5 | l1            | Linear                    | 200 K  | [1, 784] | [1, 256] \n",
      "6 | l2            | Linear                    | 32.9 K | [1, 256] | [1, 128] \n",
      "7 | l3            | Linear                    | 1.3 K  | [1, 128] | [1, 10]  \n",
      "-----------------------------------------------------------------------------------\n",
      "235 K     Trainable params\n",
      "0         Non-trainable params\n",
      "235 K     Total params\n",
      "0.941     Total estimated model params size (MB)\n"
     ]
    },
    {
     "name": "stdout",
     "output_type": "stream",
     "text": [
      "Epoch end: Validation, epoch number: 0\n",
      "Epoch end: Validation, epoch number: 1\n",
      "Epoch end: Train, epoch number: 0\n",
      "Epoch end: Validation, epoch number: 2\n",
      "Epoch end: Train, epoch number: 1\n"
     ]
    },
    {
     "name": "stderr",
     "output_type": "stream",
     "text": [
      "`Trainer.fit` stopped: `max_epochs=3` reached.\n",
      "You are using a CUDA device ('NVIDIA GeForce RTX 4070 Ti') that has Tensor Cores. To properly utilize them, you should set `torch.set_float32_matmul_precision('medium' | 'high')` which will trade-off precision for performance. For more details, read https://pytorch.org/docs/stable/generated/torch.set_float32_matmul_precision.html#torch.set_float32_matmul_precision\n"
     ]
    },
    {
     "name": "stdout",
     "output_type": "stream",
     "text": [
      "Epoch end: Validation, epoch number: 3\n",
      "Epoch end: Train, epoch number: 2\n",
      "Performance of Node 4 before aggregation at round 1\n"
     ]
    },
    {
     "name": "stderr",
     "output_type": "stream",
     "text": [
      "LOCAL_RANK: 0 - CUDA_VISIBLE_DEVICES: [0,1]\n"
     ]
    },
    {
     "name": "stdout",
     "output_type": "stream",
     "text": [
      "Epoch end: Test, epoch number: 0\n"
     ]
    },
    {
     "data": {
      "text/html": [
       "<pre style=\"white-space:pre;overflow-x:auto;line-height:normal;font-family:Menlo,'DejaVu Sans Mono',consolas,'Courier New',monospace\">┏━━━━━━━━━━━━━━━━━━━━━━━━━━━┳━━━━━━━━━━━━━━━━━━━━━━━━━━━┓\n",
       "┃<span style=\"font-weight: bold\">   Runningstage.testing    </span>┃<span style=\"font-weight: bold\">                           </span>┃\n",
       "┃<span style=\"font-weight: bold\">          metric           </span>┃<span style=\"font-weight: bold\">       DataLoader 0        </span>┃\n",
       "┡━━━━━━━━━━━━━━━━━━━━━━━━━━━╇━━━━━━━━━━━━━━━━━━━━━━━━━━━┩\n",
       "│<span style=\"color: #008080; text-decoration-color: #008080\">       Test/Accuracy       </span>│<span style=\"color: #800080; text-decoration-color: #800080\">    0.8968166708946228     </span>│\n",
       "│<span style=\"color: #008080; text-decoration-color: #008080\">       Test/F1Score        </span>│<span style=\"color: #800080; text-decoration-color: #800080\">    0.8885594606399536     </span>│\n",
       "│<span style=\"color: #008080; text-decoration-color: #008080\">         Test/Loss         </span>│<span style=\"color: #800080; text-decoration-color: #800080\">    0.32001349329948425    </span>│\n",
       "│<span style=\"color: #008080; text-decoration-color: #008080\">      Test/Precision       </span>│<span style=\"color: #800080; text-decoration-color: #800080\">    0.9065088629722595     </span>│\n",
       "│<span style=\"color: #008080; text-decoration-color: #008080\">        Test/Recall        </span>│<span style=\"color: #800080; text-decoration-color: #800080\">    0.8968166708946228     </span>│\n",
       "│<span style=\"color: #008080; text-decoration-color: #008080\">    TestEpoch/Accuracy     </span>│<span style=\"color: #800080; text-decoration-color: #800080\">    0.8990492224693298     </span>│\n",
       "│<span style=\"color: #008080; text-decoration-color: #008080\">     TestEpoch/F1Score     </span>│<span style=\"color: #800080; text-decoration-color: #800080\">    0.8987903594970703     </span>│\n",
       "│<span style=\"color: #008080; text-decoration-color: #008080\">    TestEpoch/Precision    </span>│<span style=\"color: #800080; text-decoration-color: #800080\">    0.9061890840530396     </span>│\n",
       "│<span style=\"color: #008080; text-decoration-color: #008080\">     TestEpoch/Recall      </span>│<span style=\"color: #800080; text-decoration-color: #800080\">    0.8990492224693298     </span>│\n",
       "└───────────────────────────┴───────────────────────────┘\n",
       "</pre>\n"
      ],
      "text/plain": [
       "┏━━━━━━━━━━━━━━━━━━━━━━━━━━━┳━━━━━━━━━━━━━━━━━━━━━━━━━━━┓\n",
       "┃\u001b[1m \u001b[0m\u001b[1m  Runningstage.testing   \u001b[0m\u001b[1m \u001b[0m┃\u001b[1m                           \u001b[0m┃\n",
       "┃\u001b[1m \u001b[0m\u001b[1m         metric          \u001b[0m\u001b[1m \u001b[0m┃\u001b[1m \u001b[0m\u001b[1m      DataLoader 0       \u001b[0m\u001b[1m \u001b[0m┃\n",
       "┡━━━━━━━━━━━━━━━━━━━━━━━━━━━╇━━━━━━━━━━━━━━━━━━━━━━━━━━━┩\n",
       "│\u001b[36m \u001b[0m\u001b[36m      Test/Accuracy      \u001b[0m\u001b[36m \u001b[0m│\u001b[35m \u001b[0m\u001b[35m   0.8968166708946228    \u001b[0m\u001b[35m \u001b[0m│\n",
       "│\u001b[36m \u001b[0m\u001b[36m      Test/F1Score       \u001b[0m\u001b[36m \u001b[0m│\u001b[35m \u001b[0m\u001b[35m   0.8885594606399536    \u001b[0m\u001b[35m \u001b[0m│\n",
       "│\u001b[36m \u001b[0m\u001b[36m        Test/Loss        \u001b[0m\u001b[36m \u001b[0m│\u001b[35m \u001b[0m\u001b[35m   0.32001349329948425   \u001b[0m\u001b[35m \u001b[0m│\n",
       "│\u001b[36m \u001b[0m\u001b[36m     Test/Precision      \u001b[0m\u001b[36m \u001b[0m│\u001b[35m \u001b[0m\u001b[35m   0.9065088629722595    \u001b[0m\u001b[35m \u001b[0m│\n",
       "│\u001b[36m \u001b[0m\u001b[36m       Test/Recall       \u001b[0m\u001b[36m \u001b[0m│\u001b[35m \u001b[0m\u001b[35m   0.8968166708946228    \u001b[0m\u001b[35m \u001b[0m│\n",
       "│\u001b[36m \u001b[0m\u001b[36m   TestEpoch/Accuracy    \u001b[0m\u001b[36m \u001b[0m│\u001b[35m \u001b[0m\u001b[35m   0.8990492224693298    \u001b[0m\u001b[35m \u001b[0m│\n",
       "│\u001b[36m \u001b[0m\u001b[36m    TestEpoch/F1Score    \u001b[0m\u001b[36m \u001b[0m│\u001b[35m \u001b[0m\u001b[35m   0.8987903594970703    \u001b[0m\u001b[35m \u001b[0m│\n",
       "│\u001b[36m \u001b[0m\u001b[36m   TestEpoch/Precision   \u001b[0m\u001b[36m \u001b[0m│\u001b[35m \u001b[0m\u001b[35m   0.9061890840530396    \u001b[0m\u001b[35m \u001b[0m│\n",
       "│\u001b[36m \u001b[0m\u001b[36m    TestEpoch/Recall     \u001b[0m\u001b[36m \u001b[0m│\u001b[35m \u001b[0m\u001b[35m   0.8990492224693298    \u001b[0m\u001b[35m \u001b[0m│\n",
       "└───────────────────────────┴───────────────────────────┘\n"
      ]
     },
     "metadata": {},
     "output_type": "display_data"
    },
    {
     "name": "stderr",
     "output_type": "stream",
     "text": [
      "GPU available: True (cuda), used: True\n",
      "TPU available: False, using: 0 TPU cores\n",
      "IPU available: False, using: 0 IPUs\n",
      "HPU available: False, using: 0 HPUs\n",
      "You are using a CUDA device ('NVIDIA GeForce RTX 4070 Ti') that has Tensor Cores. To properly utilize them, you should set `torch.set_float32_matmul_precision('medium' | 'high')` which will trade-off precision for performance. For more details, read https://pytorch.org/docs/stable/generated/torch.set_float32_matmul_precision.html#torch.set_float32_matmul_precision\n",
      "Missing logger folder: d:\\git\\beidou/experiments/10_clients_alpha_100_MNIST_ring_03_06_2024_16_51_13\\node_5\n",
      "LOCAL_RANK: 0 - CUDA_VISIBLE_DEVICES: [0,1]\n",
      "\n",
      "  | Name          | Type                      | Params | In sizes | Out sizes\n",
      "-----------------------------------------------------------------------------------\n",
      "0 | train_metrics | MetricCollection          | 0      | ?        | ?        \n",
      "1 | val_metrics   | MetricCollection          | 0      | ?        | ?        \n",
      "2 | test_metrics  | MetricCollection          | 0      | ?        | ?        \n",
      "3 | cm            | MulticlassConfusionMatrix | 0      | ?        | ?        \n",
      "4 | criterion     | CrossEntropyLoss          | 0      | ?        | ?        \n",
      "5 | l1            | Linear                    | 200 K  | [1, 784] | [1, 256] \n",
      "6 | l2            | Linear                    | 32.9 K | [1, 256] | [1, 128] \n",
      "7 | l3            | Linear                    | 1.3 K  | [1, 128] | [1, 10]  \n",
      "-----------------------------------------------------------------------------------\n",
      "235 K     Trainable params\n",
      "0         Non-trainable params\n",
      "235 K     Total params\n",
      "0.941     Total estimated model params size (MB)\n"
     ]
    },
    {
     "name": "stdout",
     "output_type": "stream",
     "text": [
      "Epoch end: Validation, epoch number: 0\n",
      "Epoch end: Validation, epoch number: 1\n",
      "Epoch end: Train, epoch number: 0\n",
      "Epoch end: Validation, epoch number: 2\n",
      "Epoch end: Train, epoch number: 1\n"
     ]
    },
    {
     "name": "stderr",
     "output_type": "stream",
     "text": [
      "`Trainer.fit` stopped: `max_epochs=3` reached.\n",
      "You are using a CUDA device ('NVIDIA GeForce RTX 4070 Ti') that has Tensor Cores. To properly utilize them, you should set `torch.set_float32_matmul_precision('medium' | 'high')` which will trade-off precision for performance. For more details, read https://pytorch.org/docs/stable/generated/torch.set_float32_matmul_precision.html#torch.set_float32_matmul_precision\n"
     ]
    },
    {
     "name": "stdout",
     "output_type": "stream",
     "text": [
      "Epoch end: Validation, epoch number: 3\n",
      "Epoch end: Train, epoch number: 2\n",
      "Performance of Node 5 before aggregation at round 1\n"
     ]
    },
    {
     "name": "stderr",
     "output_type": "stream",
     "text": [
      "LOCAL_RANK: 0 - CUDA_VISIBLE_DEVICES: [0,1]\n"
     ]
    },
    {
     "name": "stdout",
     "output_type": "stream",
     "text": [
      "Epoch end: Test, epoch number: 0\n"
     ]
    },
    {
     "data": {
      "text/html": [
       "<pre style=\"white-space:pre;overflow-x:auto;line-height:normal;font-family:Menlo,'DejaVu Sans Mono',consolas,'Courier New',monospace\">┏━━━━━━━━━━━━━━━━━━━━━━━━━━━┳━━━━━━━━━━━━━━━━━━━━━━━━━━━┓\n",
       "┃<span style=\"font-weight: bold\">   Runningstage.testing    </span>┃<span style=\"font-weight: bold\">                           </span>┃\n",
       "┃<span style=\"font-weight: bold\">          metric           </span>┃<span style=\"font-weight: bold\">       DataLoader 0        </span>┃\n",
       "┡━━━━━━━━━━━━━━━━━━━━━━━━━━━╇━━━━━━━━━━━━━━━━━━━━━━━━━━━┩\n",
       "│<span style=\"color: #008080; text-decoration-color: #008080\">       Test/Accuracy       </span>│<span style=\"color: #800080; text-decoration-color: #800080\">    0.9048920273780823     </span>│\n",
       "│<span style=\"color: #008080; text-decoration-color: #008080\">       Test/F1Score        </span>│<span style=\"color: #800080; text-decoration-color: #800080\">    0.8966192603111267     </span>│\n",
       "│<span style=\"color: #008080; text-decoration-color: #008080\">         Test/Loss         </span>│<span style=\"color: #800080; text-decoration-color: #800080\">    0.3148370683193207     </span>│\n",
       "│<span style=\"color: #008080; text-decoration-color: #008080\">      Test/Precision       </span>│<span style=\"color: #800080; text-decoration-color: #800080\">    0.9043259024620056     </span>│\n",
       "│<span style=\"color: #008080; text-decoration-color: #008080\">        Test/Recall        </span>│<span style=\"color: #800080; text-decoration-color: #800080\">    0.9048920273780823     </span>│\n",
       "│<span style=\"color: #008080; text-decoration-color: #008080\">    TestEpoch/Accuracy     </span>│<span style=\"color: #800080; text-decoration-color: #800080\">    0.9008111357688904     </span>│\n",
       "│<span style=\"color: #008080; text-decoration-color: #008080\">     TestEpoch/F1Score     </span>│<span style=\"color: #800080; text-decoration-color: #800080\">    0.9015026688575745     </span>│\n",
       "│<span style=\"color: #008080; text-decoration-color: #008080\">    TestEpoch/Precision    </span>│<span style=\"color: #800080; text-decoration-color: #800080\">    0.9048023223876953     </span>│\n",
       "│<span style=\"color: #008080; text-decoration-color: #008080\">     TestEpoch/Recall      </span>│<span style=\"color: #800080; text-decoration-color: #800080\">    0.9008111357688904     </span>│\n",
       "└───────────────────────────┴───────────────────────────┘\n",
       "</pre>\n"
      ],
      "text/plain": [
       "┏━━━━━━━━━━━━━━━━━━━━━━━━━━━┳━━━━━━━━━━━━━━━━━━━━━━━━━━━┓\n",
       "┃\u001b[1m \u001b[0m\u001b[1m  Runningstage.testing   \u001b[0m\u001b[1m \u001b[0m┃\u001b[1m                           \u001b[0m┃\n",
       "┃\u001b[1m \u001b[0m\u001b[1m         metric          \u001b[0m\u001b[1m \u001b[0m┃\u001b[1m \u001b[0m\u001b[1m      DataLoader 0       \u001b[0m\u001b[1m \u001b[0m┃\n",
       "┡━━━━━━━━━━━━━━━━━━━━━━━━━━━╇━━━━━━━━━━━━━━━━━━━━━━━━━━━┩\n",
       "│\u001b[36m \u001b[0m\u001b[36m      Test/Accuracy      \u001b[0m\u001b[36m \u001b[0m│\u001b[35m \u001b[0m\u001b[35m   0.9048920273780823    \u001b[0m\u001b[35m \u001b[0m│\n",
       "│\u001b[36m \u001b[0m\u001b[36m      Test/F1Score       \u001b[0m\u001b[36m \u001b[0m│\u001b[35m \u001b[0m\u001b[35m   0.8966192603111267    \u001b[0m\u001b[35m \u001b[0m│\n",
       "│\u001b[36m \u001b[0m\u001b[36m        Test/Loss        \u001b[0m\u001b[36m \u001b[0m│\u001b[35m \u001b[0m\u001b[35m   0.3148370683193207    \u001b[0m\u001b[35m \u001b[0m│\n",
       "│\u001b[36m \u001b[0m\u001b[36m     Test/Precision      \u001b[0m\u001b[36m \u001b[0m│\u001b[35m \u001b[0m\u001b[35m   0.9043259024620056    \u001b[0m\u001b[35m \u001b[0m│\n",
       "│\u001b[36m \u001b[0m\u001b[36m       Test/Recall       \u001b[0m\u001b[36m \u001b[0m│\u001b[35m \u001b[0m\u001b[35m   0.9048920273780823    \u001b[0m\u001b[35m \u001b[0m│\n",
       "│\u001b[36m \u001b[0m\u001b[36m   TestEpoch/Accuracy    \u001b[0m\u001b[36m \u001b[0m│\u001b[35m \u001b[0m\u001b[35m   0.9008111357688904    \u001b[0m\u001b[35m \u001b[0m│\n",
       "│\u001b[36m \u001b[0m\u001b[36m    TestEpoch/F1Score    \u001b[0m\u001b[36m \u001b[0m│\u001b[35m \u001b[0m\u001b[35m   0.9015026688575745    \u001b[0m\u001b[35m \u001b[0m│\n",
       "│\u001b[36m \u001b[0m\u001b[36m   TestEpoch/Precision   \u001b[0m\u001b[36m \u001b[0m│\u001b[35m \u001b[0m\u001b[35m   0.9048023223876953    \u001b[0m\u001b[35m \u001b[0m│\n",
       "│\u001b[36m \u001b[0m\u001b[36m    TestEpoch/Recall     \u001b[0m\u001b[36m \u001b[0m│\u001b[35m \u001b[0m\u001b[35m   0.9008111357688904    \u001b[0m\u001b[35m \u001b[0m│\n",
       "└───────────────────────────┴───────────────────────────┘\n"
      ]
     },
     "metadata": {},
     "output_type": "display_data"
    },
    {
     "name": "stderr",
     "output_type": "stream",
     "text": [
      "GPU available: True (cuda), used: True\n",
      "TPU available: False, using: 0 TPU cores\n",
      "IPU available: False, using: 0 IPUs\n",
      "HPU available: False, using: 0 HPUs\n",
      "You are using a CUDA device ('NVIDIA GeForce RTX 4070 Ti') that has Tensor Cores. To properly utilize them, you should set `torch.set_float32_matmul_precision('medium' | 'high')` which will trade-off precision for performance. For more details, read https://pytorch.org/docs/stable/generated/torch.set_float32_matmul_precision.html#torch.set_float32_matmul_precision\n",
      "Missing logger folder: d:\\git\\beidou/experiments/10_clients_alpha_100_MNIST_ring_03_06_2024_16_51_13\\node_6\n",
      "LOCAL_RANK: 0 - CUDA_VISIBLE_DEVICES: [0,1]\n",
      "\n",
      "  | Name          | Type                      | Params | In sizes | Out sizes\n",
      "-----------------------------------------------------------------------------------\n",
      "0 | train_metrics | MetricCollection          | 0      | ?        | ?        \n",
      "1 | val_metrics   | MetricCollection          | 0      | ?        | ?        \n",
      "2 | test_metrics  | MetricCollection          | 0      | ?        | ?        \n",
      "3 | cm            | MulticlassConfusionMatrix | 0      | ?        | ?        \n",
      "4 | criterion     | CrossEntropyLoss          | 0      | ?        | ?        \n",
      "5 | l1            | Linear                    | 200 K  | [1, 784] | [1, 256] \n",
      "6 | l2            | Linear                    | 32.9 K | [1, 256] | [1, 128] \n",
      "7 | l3            | Linear                    | 1.3 K  | [1, 128] | [1, 10]  \n",
      "-----------------------------------------------------------------------------------\n",
      "235 K     Trainable params\n",
      "0         Non-trainable params\n",
      "235 K     Total params\n",
      "0.941     Total estimated model params size (MB)\n"
     ]
    },
    {
     "name": "stdout",
     "output_type": "stream",
     "text": [
      "Epoch end: Validation, epoch number: 0\n",
      "Epoch end: Validation, epoch number: 1\n",
      "Epoch end: Train, epoch number: 0\n",
      "Epoch end: Validation, epoch number: 2\n",
      "Epoch end: Train, epoch number: 1\n"
     ]
    },
    {
     "name": "stderr",
     "output_type": "stream",
     "text": [
      "`Trainer.fit` stopped: `max_epochs=3` reached.\n"
     ]
    },
    {
     "name": "stdout",
     "output_type": "stream",
     "text": [
      "Epoch end: Validation, epoch number: 3\n",
      "Epoch end: Train, epoch number: 2\n"
     ]
    },
    {
     "name": "stderr",
     "output_type": "stream",
     "text": [
      "You are using a CUDA device ('NVIDIA GeForce RTX 4070 Ti') that has Tensor Cores. To properly utilize them, you should set `torch.set_float32_matmul_precision('medium' | 'high')` which will trade-off precision for performance. For more details, read https://pytorch.org/docs/stable/generated/torch.set_float32_matmul_precision.html#torch.set_float32_matmul_precision\n",
      "LOCAL_RANK: 0 - CUDA_VISIBLE_DEVICES: [0,1]\n"
     ]
    },
    {
     "name": "stdout",
     "output_type": "stream",
     "text": [
      "Performance of Node 6 before aggregation at round 1\n",
      "Epoch end: Test, epoch number: 0\n"
     ]
    },
    {
     "data": {
      "text/html": [
       "<pre style=\"white-space:pre;overflow-x:auto;line-height:normal;font-family:Menlo,'DejaVu Sans Mono',consolas,'Courier New',monospace\">┏━━━━━━━━━━━━━━━━━━━━━━━━━━━┳━━━━━━━━━━━━━━━━━━━━━━━━━━━┓\n",
       "┃<span style=\"font-weight: bold\">   Runningstage.testing    </span>┃<span style=\"font-weight: bold\">                           </span>┃\n",
       "┃<span style=\"font-weight: bold\">          metric           </span>┃<span style=\"font-weight: bold\">       DataLoader 0        </span>┃\n",
       "┡━━━━━━━━━━━━━━━━━━━━━━━━━━━╇━━━━━━━━━━━━━━━━━━━━━━━━━━━┩\n",
       "│<span style=\"color: #008080; text-decoration-color: #008080\">       Test/Accuracy       </span>│<span style=\"color: #800080; text-decoration-color: #800080\">     0.888119637966156     </span>│\n",
       "│<span style=\"color: #008080; text-decoration-color: #008080\">       Test/F1Score        </span>│<span style=\"color: #800080; text-decoration-color: #800080\">     0.884058952331543     </span>│\n",
       "│<span style=\"color: #008080; text-decoration-color: #008080\">         Test/Loss         </span>│<span style=\"color: #800080; text-decoration-color: #800080\">    0.33572250604629517    </span>│\n",
       "│<span style=\"color: #008080; text-decoration-color: #008080\">      Test/Precision       </span>│<span style=\"color: #800080; text-decoration-color: #800080\">    0.9016454219818115     </span>│\n",
       "│<span style=\"color: #008080; text-decoration-color: #008080\">        Test/Recall        </span>│<span style=\"color: #800080; text-decoration-color: #800080\">     0.888119637966156     </span>│\n",
       "│<span style=\"color: #008080; text-decoration-color: #008080\">    TestEpoch/Accuracy     </span>│<span style=\"color: #800080; text-decoration-color: #800080\">    0.8908218741416931     </span>│\n",
       "│<span style=\"color: #008080; text-decoration-color: #008080\">     TestEpoch/F1Score     </span>│<span style=\"color: #800080; text-decoration-color: #800080\">    0.8904913067817688     </span>│\n",
       "│<span style=\"color: #008080; text-decoration-color: #008080\">    TestEpoch/Precision    </span>│<span style=\"color: #800080; text-decoration-color: #800080\">    0.8952890634536743     </span>│\n",
       "│<span style=\"color: #008080; text-decoration-color: #008080\">     TestEpoch/Recall      </span>│<span style=\"color: #800080; text-decoration-color: #800080\">    0.8908218741416931     </span>│\n",
       "└───────────────────────────┴───────────────────────────┘\n",
       "</pre>\n"
      ],
      "text/plain": [
       "┏━━━━━━━━━━━━━━━━━━━━━━━━━━━┳━━━━━━━━━━━━━━━━━━━━━━━━━━━┓\n",
       "┃\u001b[1m \u001b[0m\u001b[1m  Runningstage.testing   \u001b[0m\u001b[1m \u001b[0m┃\u001b[1m                           \u001b[0m┃\n",
       "┃\u001b[1m \u001b[0m\u001b[1m         metric          \u001b[0m\u001b[1m \u001b[0m┃\u001b[1m \u001b[0m\u001b[1m      DataLoader 0       \u001b[0m\u001b[1m \u001b[0m┃\n",
       "┡━━━━━━━━━━━━━━━━━━━━━━━━━━━╇━━━━━━━━━━━━━━━━━━━━━━━━━━━┩\n",
       "│\u001b[36m \u001b[0m\u001b[36m      Test/Accuracy      \u001b[0m\u001b[36m \u001b[0m│\u001b[35m \u001b[0m\u001b[35m    0.888119637966156    \u001b[0m\u001b[35m \u001b[0m│\n",
       "│\u001b[36m \u001b[0m\u001b[36m      Test/F1Score       \u001b[0m\u001b[36m \u001b[0m│\u001b[35m \u001b[0m\u001b[35m    0.884058952331543    \u001b[0m\u001b[35m \u001b[0m│\n",
       "│\u001b[36m \u001b[0m\u001b[36m        Test/Loss        \u001b[0m\u001b[36m \u001b[0m│\u001b[35m \u001b[0m\u001b[35m   0.33572250604629517   \u001b[0m\u001b[35m \u001b[0m│\n",
       "│\u001b[36m \u001b[0m\u001b[36m     Test/Precision      \u001b[0m\u001b[36m \u001b[0m│\u001b[35m \u001b[0m\u001b[35m   0.9016454219818115    \u001b[0m\u001b[35m \u001b[0m│\n",
       "│\u001b[36m \u001b[0m\u001b[36m       Test/Recall       \u001b[0m\u001b[36m \u001b[0m│\u001b[35m \u001b[0m\u001b[35m    0.888119637966156    \u001b[0m\u001b[35m \u001b[0m│\n",
       "│\u001b[36m \u001b[0m\u001b[36m   TestEpoch/Accuracy    \u001b[0m\u001b[36m \u001b[0m│\u001b[35m \u001b[0m\u001b[35m   0.8908218741416931    \u001b[0m\u001b[35m \u001b[0m│\n",
       "│\u001b[36m \u001b[0m\u001b[36m    TestEpoch/F1Score    \u001b[0m\u001b[36m \u001b[0m│\u001b[35m \u001b[0m\u001b[35m   0.8904913067817688    \u001b[0m\u001b[35m \u001b[0m│\n",
       "│\u001b[36m \u001b[0m\u001b[36m   TestEpoch/Precision   \u001b[0m\u001b[36m \u001b[0m│\u001b[35m \u001b[0m\u001b[35m   0.8952890634536743    \u001b[0m\u001b[35m \u001b[0m│\n",
       "│\u001b[36m \u001b[0m\u001b[36m    TestEpoch/Recall     \u001b[0m\u001b[36m \u001b[0m│\u001b[35m \u001b[0m\u001b[35m   0.8908218741416931    \u001b[0m\u001b[35m \u001b[0m│\n",
       "└───────────────────────────┴───────────────────────────┘\n"
      ]
     },
     "metadata": {},
     "output_type": "display_data"
    },
    {
     "name": "stderr",
     "output_type": "stream",
     "text": [
      "GPU available: True (cuda), used: True\n",
      "TPU available: False, using: 0 TPU cores\n",
      "IPU available: False, using: 0 IPUs\n",
      "HPU available: False, using: 0 HPUs\n",
      "You are using a CUDA device ('NVIDIA GeForce RTX 4070 Ti') that has Tensor Cores. To properly utilize them, you should set `torch.set_float32_matmul_precision('medium' | 'high')` which will trade-off precision for performance. For more details, read https://pytorch.org/docs/stable/generated/torch.set_float32_matmul_precision.html#torch.set_float32_matmul_precision\n",
      "Missing logger folder: d:\\git\\beidou/experiments/10_clients_alpha_100_MNIST_ring_03_06_2024_16_51_13\\node_7\n",
      "LOCAL_RANK: 0 - CUDA_VISIBLE_DEVICES: [0,1]\n",
      "\n",
      "  | Name          | Type                      | Params | In sizes | Out sizes\n",
      "-----------------------------------------------------------------------------------\n",
      "0 | train_metrics | MetricCollection          | 0      | ?        | ?        \n",
      "1 | val_metrics   | MetricCollection          | 0      | ?        | ?        \n",
      "2 | test_metrics  | MetricCollection          | 0      | ?        | ?        \n",
      "3 | cm            | MulticlassConfusionMatrix | 0      | ?        | ?        \n",
      "4 | criterion     | CrossEntropyLoss          | 0      | ?        | ?        \n",
      "5 | l1            | Linear                    | 200 K  | [1, 784] | [1, 256] \n",
      "6 | l2            | Linear                    | 32.9 K | [1, 256] | [1, 128] \n",
      "7 | l3            | Linear                    | 1.3 K  | [1, 128] | [1, 10]  \n",
      "-----------------------------------------------------------------------------------\n",
      "235 K     Trainable params\n",
      "0         Non-trainable params\n",
      "235 K     Total params\n",
      "0.941     Total estimated model params size (MB)\n"
     ]
    },
    {
     "name": "stdout",
     "output_type": "stream",
     "text": [
      "Epoch end: Validation, epoch number: 0\n",
      "Epoch end: Validation, epoch number: 1\n",
      "Epoch end: Train, epoch number: 0\n",
      "Epoch end: Validation, epoch number: 2\n",
      "Epoch end: Train, epoch number: 1\n"
     ]
    },
    {
     "name": "stderr",
     "output_type": "stream",
     "text": [
      "`Trainer.fit` stopped: `max_epochs=3` reached.\n",
      "You are using a CUDA device ('NVIDIA GeForce RTX 4070 Ti') that has Tensor Cores. To properly utilize them, you should set `torch.set_float32_matmul_precision('medium' | 'high')` which will trade-off precision for performance. For more details, read https://pytorch.org/docs/stable/generated/torch.set_float32_matmul_precision.html#torch.set_float32_matmul_precision\n"
     ]
    },
    {
     "name": "stdout",
     "output_type": "stream",
     "text": [
      "Epoch end: Validation, epoch number: 3\n",
      "Epoch end: Train, epoch number: 2\n",
      "Performance of Node 7 before aggregation at round 1\n"
     ]
    },
    {
     "name": "stderr",
     "output_type": "stream",
     "text": [
      "LOCAL_RANK: 0 - CUDA_VISIBLE_DEVICES: [0,1]\n"
     ]
    },
    {
     "name": "stdout",
     "output_type": "stream",
     "text": [
      "Epoch end: Test, epoch number: 0\n"
     ]
    },
    {
     "data": {
      "text/html": [
       "<pre style=\"white-space:pre;overflow-x:auto;line-height:normal;font-family:Menlo,'DejaVu Sans Mono',consolas,'Courier New',monospace\">┏━━━━━━━━━━━━━━━━━━━━━━━━━━━┳━━━━━━━━━━━━━━━━━━━━━━━━━━━┓\n",
       "┃<span style=\"font-weight: bold\">   Runningstage.testing    </span>┃<span style=\"font-weight: bold\">                           </span>┃\n",
       "┃<span style=\"font-weight: bold\">          metric           </span>┃<span style=\"font-weight: bold\">       DataLoader 0        </span>┃\n",
       "┡━━━━━━━━━━━━━━━━━━━━━━━━━━━╇━━━━━━━━━━━━━━━━━━━━━━━━━━━┩\n",
       "│<span style=\"color: #008080; text-decoration-color: #008080\">       Test/Accuracy       </span>│<span style=\"color: #800080; text-decoration-color: #800080\">    0.9031873941421509     </span>│\n",
       "│<span style=\"color: #008080; text-decoration-color: #008080\">       Test/F1Score        </span>│<span style=\"color: #800080; text-decoration-color: #800080\">    0.8942229747772217     </span>│\n",
       "│<span style=\"color: #008080; text-decoration-color: #008080\">         Test/Loss         </span>│<span style=\"color: #800080; text-decoration-color: #800080\">    0.3148594796657562     </span>│\n",
       "│<span style=\"color: #008080; text-decoration-color: #008080\">      Test/Precision       </span>│<span style=\"color: #800080; text-decoration-color: #800080\">    0.9090022444725037     </span>│\n",
       "│<span style=\"color: #008080; text-decoration-color: #008080\">        Test/Recall        </span>│<span style=\"color: #800080; text-decoration-color: #800080\">    0.9031873941421509     </span>│\n",
       "│<span style=\"color: #008080; text-decoration-color: #008080\">    TestEpoch/Accuracy     </span>│<span style=\"color: #800080; text-decoration-color: #800080\">     0.903684139251709     </span>│\n",
       "│<span style=\"color: #008080; text-decoration-color: #008080\">     TestEpoch/F1Score     </span>│<span style=\"color: #800080; text-decoration-color: #800080\">    0.9037006497383118     </span>│\n",
       "│<span style=\"color: #008080; text-decoration-color: #008080\">    TestEpoch/Precision    </span>│<span style=\"color: #800080; text-decoration-color: #800080\">    0.9086053371429443     </span>│\n",
       "│<span style=\"color: #008080; text-decoration-color: #008080\">     TestEpoch/Recall      </span>│<span style=\"color: #800080; text-decoration-color: #800080\">     0.903684139251709     </span>│\n",
       "└───────────────────────────┴───────────────────────────┘\n",
       "</pre>\n"
      ],
      "text/plain": [
       "┏━━━━━━━━━━━━━━━━━━━━━━━━━━━┳━━━━━━━━━━━━━━━━━━━━━━━━━━━┓\n",
       "┃\u001b[1m \u001b[0m\u001b[1m  Runningstage.testing   \u001b[0m\u001b[1m \u001b[0m┃\u001b[1m                           \u001b[0m┃\n",
       "┃\u001b[1m \u001b[0m\u001b[1m         metric          \u001b[0m\u001b[1m \u001b[0m┃\u001b[1m \u001b[0m\u001b[1m      DataLoader 0       \u001b[0m\u001b[1m \u001b[0m┃\n",
       "┡━━━━━━━━━━━━━━━━━━━━━━━━━━━╇━━━━━━━━━━━━━━━━━━━━━━━━━━━┩\n",
       "│\u001b[36m \u001b[0m\u001b[36m      Test/Accuracy      \u001b[0m\u001b[36m \u001b[0m│\u001b[35m \u001b[0m\u001b[35m   0.9031873941421509    \u001b[0m\u001b[35m \u001b[0m│\n",
       "│\u001b[36m \u001b[0m\u001b[36m      Test/F1Score       \u001b[0m\u001b[36m \u001b[0m│\u001b[35m \u001b[0m\u001b[35m   0.8942229747772217    \u001b[0m\u001b[35m \u001b[0m│\n",
       "│\u001b[36m \u001b[0m\u001b[36m        Test/Loss        \u001b[0m\u001b[36m \u001b[0m│\u001b[35m \u001b[0m\u001b[35m   0.3148594796657562    \u001b[0m\u001b[35m \u001b[0m│\n",
       "│\u001b[36m \u001b[0m\u001b[36m     Test/Precision      \u001b[0m\u001b[36m \u001b[0m│\u001b[35m \u001b[0m\u001b[35m   0.9090022444725037    \u001b[0m\u001b[35m \u001b[0m│\n",
       "│\u001b[36m \u001b[0m\u001b[36m       Test/Recall       \u001b[0m\u001b[36m \u001b[0m│\u001b[35m \u001b[0m\u001b[35m   0.9031873941421509    \u001b[0m\u001b[35m \u001b[0m│\n",
       "│\u001b[36m \u001b[0m\u001b[36m   TestEpoch/Accuracy    \u001b[0m\u001b[36m \u001b[0m│\u001b[35m \u001b[0m\u001b[35m    0.903684139251709    \u001b[0m\u001b[35m \u001b[0m│\n",
       "│\u001b[36m \u001b[0m\u001b[36m    TestEpoch/F1Score    \u001b[0m\u001b[36m \u001b[0m│\u001b[35m \u001b[0m\u001b[35m   0.9037006497383118    \u001b[0m\u001b[35m \u001b[0m│\n",
       "│\u001b[36m \u001b[0m\u001b[36m   TestEpoch/Precision   \u001b[0m\u001b[36m \u001b[0m│\u001b[35m \u001b[0m\u001b[35m   0.9086053371429443    \u001b[0m\u001b[35m \u001b[0m│\n",
       "│\u001b[36m \u001b[0m\u001b[36m    TestEpoch/Recall     \u001b[0m\u001b[36m \u001b[0m│\u001b[35m \u001b[0m\u001b[35m    0.903684139251709    \u001b[0m\u001b[35m \u001b[0m│\n",
       "└───────────────────────────┴───────────────────────────┘\n"
      ]
     },
     "metadata": {},
     "output_type": "display_data"
    },
    {
     "name": "stderr",
     "output_type": "stream",
     "text": [
      "GPU available: True (cuda), used: True\n",
      "TPU available: False, using: 0 TPU cores\n",
      "IPU available: False, using: 0 IPUs\n",
      "HPU available: False, using: 0 HPUs\n",
      "You are using a CUDA device ('NVIDIA GeForce RTX 4070 Ti') that has Tensor Cores. To properly utilize them, you should set `torch.set_float32_matmul_precision('medium' | 'high')` which will trade-off precision for performance. For more details, read https://pytorch.org/docs/stable/generated/torch.set_float32_matmul_precision.html#torch.set_float32_matmul_precision\n",
      "Missing logger folder: d:\\git\\beidou/experiments/10_clients_alpha_100_MNIST_ring_03_06_2024_16_51_13\\node_8\n",
      "LOCAL_RANK: 0 - CUDA_VISIBLE_DEVICES: [0,1]\n",
      "\n",
      "  | Name          | Type                      | Params | In sizes | Out sizes\n",
      "-----------------------------------------------------------------------------------\n",
      "0 | train_metrics | MetricCollection          | 0      | ?        | ?        \n",
      "1 | val_metrics   | MetricCollection          | 0      | ?        | ?        \n",
      "2 | test_metrics  | MetricCollection          | 0      | ?        | ?        \n",
      "3 | cm            | MulticlassConfusionMatrix | 0      | ?        | ?        \n",
      "4 | criterion     | CrossEntropyLoss          | 0      | ?        | ?        \n",
      "5 | l1            | Linear                    | 200 K  | [1, 784] | [1, 256] \n",
      "6 | l2            | Linear                    | 32.9 K | [1, 256] | [1, 128] \n",
      "7 | l3            | Linear                    | 1.3 K  | [1, 128] | [1, 10]  \n",
      "-----------------------------------------------------------------------------------\n",
      "235 K     Trainable params\n",
      "0         Non-trainable params\n",
      "235 K     Total params\n",
      "0.941     Total estimated model params size (MB)\n"
     ]
    },
    {
     "name": "stdout",
     "output_type": "stream",
     "text": [
      "Epoch end: Validation, epoch number: 0\n",
      "Epoch end: Validation, epoch number: 1\n",
      "Epoch end: Train, epoch number: 0\n",
      "Epoch end: Validation, epoch number: 2\n",
      "Epoch end: Train, epoch number: 1\n"
     ]
    },
    {
     "name": "stderr",
     "output_type": "stream",
     "text": [
      "`Trainer.fit` stopped: `max_epochs=3` reached.\n",
      "You are using a CUDA device ('NVIDIA GeForce RTX 4070 Ti') that has Tensor Cores. To properly utilize them, you should set `torch.set_float32_matmul_precision('medium' | 'high')` which will trade-off precision for performance. For more details, read https://pytorch.org/docs/stable/generated/torch.set_float32_matmul_precision.html#torch.set_float32_matmul_precision\n",
      "LOCAL_RANK: 0 - CUDA_VISIBLE_DEVICES: [0,1]\n"
     ]
    },
    {
     "name": "stdout",
     "output_type": "stream",
     "text": [
      "Epoch end: Validation, epoch number: 3\n",
      "Epoch end: Train, epoch number: 2\n",
      "Performance of Node 8 before aggregation at round 1\n",
      "Epoch end: Test, epoch number: 0\n"
     ]
    },
    {
     "data": {
      "text/html": [
       "<pre style=\"white-space:pre;overflow-x:auto;line-height:normal;font-family:Menlo,'DejaVu Sans Mono',consolas,'Courier New',monospace\">┏━━━━━━━━━━━━━━━━━━━━━━━━━━━┳━━━━━━━━━━━━━━━━━━━━━━━━━━━┓\n",
       "┃<span style=\"font-weight: bold\">   Runningstage.testing    </span>┃<span style=\"font-weight: bold\">                           </span>┃\n",
       "┃<span style=\"font-weight: bold\">          metric           </span>┃<span style=\"font-weight: bold\">       DataLoader 0        </span>┃\n",
       "┡━━━━━━━━━━━━━━━━━━━━━━━━━━━╇━━━━━━━━━━━━━━━━━━━━━━━━━━━┩\n",
       "│<span style=\"color: #008080; text-decoration-color: #008080\">       Test/Accuracy       </span>│<span style=\"color: #800080; text-decoration-color: #800080\">    0.9072490334510803     </span>│\n",
       "│<span style=\"color: #008080; text-decoration-color: #008080\">       Test/F1Score        </span>│<span style=\"color: #800080; text-decoration-color: #800080\">     0.900213360786438     </span>│\n",
       "│<span style=\"color: #008080; text-decoration-color: #008080\">         Test/Loss         </span>│<span style=\"color: #800080; text-decoration-color: #800080\">    0.3333318531513214     </span>│\n",
       "│<span style=\"color: #008080; text-decoration-color: #008080\">      Test/Precision       </span>│<span style=\"color: #800080; text-decoration-color: #800080\">    0.9176552295684814     </span>│\n",
       "│<span style=\"color: #008080; text-decoration-color: #008080\">        Test/Recall        </span>│<span style=\"color: #800080; text-decoration-color: #800080\">    0.9072490334510803     </span>│\n",
       "│<span style=\"color: #008080; text-decoration-color: #008080\">    TestEpoch/Accuracy     </span>│<span style=\"color: #800080; text-decoration-color: #800080\">    0.9067181944847107     </span>│\n",
       "│<span style=\"color: #008080; text-decoration-color: #008080\">     TestEpoch/F1Score     </span>│<span style=\"color: #800080; text-decoration-color: #800080\">    0.9051389098167419     </span>│\n",
       "│<span style=\"color: #008080; text-decoration-color: #008080\">    TestEpoch/Precision    </span>│<span style=\"color: #800080; text-decoration-color: #800080\">    0.9079087376594543     </span>│\n",
       "│<span style=\"color: #008080; text-decoration-color: #008080\">     TestEpoch/Recall      </span>│<span style=\"color: #800080; text-decoration-color: #800080\">    0.9067181944847107     </span>│\n",
       "└───────────────────────────┴───────────────────────────┘\n",
       "</pre>\n"
      ],
      "text/plain": [
       "┏━━━━━━━━━━━━━━━━━━━━━━━━━━━┳━━━━━━━━━━━━━━━━━━━━━━━━━━━┓\n",
       "┃\u001b[1m \u001b[0m\u001b[1m  Runningstage.testing   \u001b[0m\u001b[1m \u001b[0m┃\u001b[1m                           \u001b[0m┃\n",
       "┃\u001b[1m \u001b[0m\u001b[1m         metric          \u001b[0m\u001b[1m \u001b[0m┃\u001b[1m \u001b[0m\u001b[1m      DataLoader 0       \u001b[0m\u001b[1m \u001b[0m┃\n",
       "┡━━━━━━━━━━━━━━━━━━━━━━━━━━━╇━━━━━━━━━━━━━━━━━━━━━━━━━━━┩\n",
       "│\u001b[36m \u001b[0m\u001b[36m      Test/Accuracy      \u001b[0m\u001b[36m \u001b[0m│\u001b[35m \u001b[0m\u001b[35m   0.9072490334510803    \u001b[0m\u001b[35m \u001b[0m│\n",
       "│\u001b[36m \u001b[0m\u001b[36m      Test/F1Score       \u001b[0m\u001b[36m \u001b[0m│\u001b[35m \u001b[0m\u001b[35m    0.900213360786438    \u001b[0m\u001b[35m \u001b[0m│\n",
       "│\u001b[36m \u001b[0m\u001b[36m        Test/Loss        \u001b[0m\u001b[36m \u001b[0m│\u001b[35m \u001b[0m\u001b[35m   0.3333318531513214    \u001b[0m\u001b[35m \u001b[0m│\n",
       "│\u001b[36m \u001b[0m\u001b[36m     Test/Precision      \u001b[0m\u001b[36m \u001b[0m│\u001b[35m \u001b[0m\u001b[35m   0.9176552295684814    \u001b[0m\u001b[35m \u001b[0m│\n",
       "│\u001b[36m \u001b[0m\u001b[36m       Test/Recall       \u001b[0m\u001b[36m \u001b[0m│\u001b[35m \u001b[0m\u001b[35m   0.9072490334510803    \u001b[0m\u001b[35m \u001b[0m│\n",
       "│\u001b[36m \u001b[0m\u001b[36m   TestEpoch/Accuracy    \u001b[0m\u001b[36m \u001b[0m│\u001b[35m \u001b[0m\u001b[35m   0.9067181944847107    \u001b[0m\u001b[35m \u001b[0m│\n",
       "│\u001b[36m \u001b[0m\u001b[36m    TestEpoch/F1Score    \u001b[0m\u001b[36m \u001b[0m│\u001b[35m \u001b[0m\u001b[35m   0.9051389098167419    \u001b[0m\u001b[35m \u001b[0m│\n",
       "│\u001b[36m \u001b[0m\u001b[36m   TestEpoch/Precision   \u001b[0m\u001b[36m \u001b[0m│\u001b[35m \u001b[0m\u001b[35m   0.9079087376594543    \u001b[0m\u001b[35m \u001b[0m│\n",
       "│\u001b[36m \u001b[0m\u001b[36m    TestEpoch/Recall     \u001b[0m\u001b[36m \u001b[0m│\u001b[35m \u001b[0m\u001b[35m   0.9067181944847107    \u001b[0m\u001b[35m \u001b[0m│\n",
       "└───────────────────────────┴───────────────────────────┘\n"
      ]
     },
     "metadata": {},
     "output_type": "display_data"
    },
    {
     "name": "stderr",
     "output_type": "stream",
     "text": [
      "GPU available: True (cuda), used: True\n",
      "TPU available: False, using: 0 TPU cores\n",
      "IPU available: False, using: 0 IPUs\n",
      "HPU available: False, using: 0 HPUs\n",
      "You are using a CUDA device ('NVIDIA GeForce RTX 4070 Ti') that has Tensor Cores. To properly utilize them, you should set `torch.set_float32_matmul_precision('medium' | 'high')` which will trade-off precision for performance. For more details, read https://pytorch.org/docs/stable/generated/torch.set_float32_matmul_precision.html#torch.set_float32_matmul_precision\n",
      "Missing logger folder: d:\\git\\beidou/experiments/10_clients_alpha_100_MNIST_ring_03_06_2024_16_51_13\\node_9\n",
      "LOCAL_RANK: 0 - CUDA_VISIBLE_DEVICES: [0,1]\n",
      "\n",
      "  | Name          | Type                      | Params | In sizes | Out sizes\n",
      "-----------------------------------------------------------------------------------\n",
      "0 | train_metrics | MetricCollection          | 0      | ?        | ?        \n",
      "1 | val_metrics   | MetricCollection          | 0      | ?        | ?        \n",
      "2 | test_metrics  | MetricCollection          | 0      | ?        | ?        \n",
      "3 | cm            | MulticlassConfusionMatrix | 0      | ?        | ?        \n",
      "4 | criterion     | CrossEntropyLoss          | 0      | ?        | ?        \n",
      "5 | l1            | Linear                    | 200 K  | [1, 784] | [1, 256] \n",
      "6 | l2            | Linear                    | 32.9 K | [1, 256] | [1, 128] \n",
      "7 | l3            | Linear                    | 1.3 K  | [1, 128] | [1, 10]  \n",
      "-----------------------------------------------------------------------------------\n",
      "235 K     Trainable params\n",
      "0         Non-trainable params\n",
      "235 K     Total params\n",
      "0.941     Total estimated model params size (MB)\n"
     ]
    },
    {
     "name": "stdout",
     "output_type": "stream",
     "text": [
      "Epoch end: Validation, epoch number: 0\n",
      "Epoch end: Validation, epoch number: 1\n",
      "Epoch end: Train, epoch number: 0\n",
      "Epoch end: Validation, epoch number: 2\n",
      "Epoch end: Train, epoch number: 1\n"
     ]
    },
    {
     "name": "stderr",
     "output_type": "stream",
     "text": [
      "`Trainer.fit` stopped: `max_epochs=3` reached.\n",
      "You are using a CUDA device ('NVIDIA GeForce RTX 4070 Ti') that has Tensor Cores. To properly utilize them, you should set `torch.set_float32_matmul_precision('medium' | 'high')` which will trade-off precision for performance. For more details, read https://pytorch.org/docs/stable/generated/torch.set_float32_matmul_precision.html#torch.set_float32_matmul_precision\n",
      "LOCAL_RANK: 0 - CUDA_VISIBLE_DEVICES: [0,1]\n"
     ]
    },
    {
     "name": "stdout",
     "output_type": "stream",
     "text": [
      "Epoch end: Validation, epoch number: 3\n",
      "Epoch end: Train, epoch number: 2\n",
      "Performance of Node 9 before aggregation at round 1\n",
      "Epoch end: Test, epoch number: 0\n"
     ]
    },
    {
     "data": {
      "text/html": [
       "<pre style=\"white-space:pre;overflow-x:auto;line-height:normal;font-family:Menlo,'DejaVu Sans Mono',consolas,'Courier New',monospace\">┏━━━━━━━━━━━━━━━━━━━━━━━━━━━┳━━━━━━━━━━━━━━━━━━━━━━━━━━━┓\n",
       "┃<span style=\"font-weight: bold\">   Runningstage.testing    </span>┃<span style=\"font-weight: bold\">                           </span>┃\n",
       "┃<span style=\"font-weight: bold\">          metric           </span>┃<span style=\"font-weight: bold\">       DataLoader 0        </span>┃\n",
       "┡━━━━━━━━━━━━━━━━━━━━━━━━━━━╇━━━━━━━━━━━━━━━━━━━━━━━━━━━┩\n",
       "│<span style=\"color: #008080; text-decoration-color: #008080\">       Test/Accuracy       </span>│<span style=\"color: #800080; text-decoration-color: #800080\">    0.9065403342247009     </span>│\n",
       "│<span style=\"color: #008080; text-decoration-color: #008080\">       Test/F1Score        </span>│<span style=\"color: #800080; text-decoration-color: #800080\">    0.8950178027153015     </span>│\n",
       "│<span style=\"color: #008080; text-decoration-color: #008080\">         Test/Loss         </span>│<span style=\"color: #800080; text-decoration-color: #800080\">    0.3073243498802185     </span>│\n",
       "│<span style=\"color: #008080; text-decoration-color: #008080\">      Test/Precision       </span>│<span style=\"color: #800080; text-decoration-color: #800080\">    0.9117442965507507     </span>│\n",
       "│<span style=\"color: #008080; text-decoration-color: #008080\">        Test/Recall        </span>│<span style=\"color: #800080; text-decoration-color: #800080\">    0.9065403342247009     </span>│\n",
       "│<span style=\"color: #008080; text-decoration-color: #008080\">    TestEpoch/Accuracy     </span>│<span style=\"color: #800080; text-decoration-color: #800080\">    0.9002997875213623     </span>│\n",
       "│<span style=\"color: #008080; text-decoration-color: #008080\">     TestEpoch/F1Score     </span>│<span style=\"color: #800080; text-decoration-color: #800080\">    0.8997836112976074     </span>│\n",
       "│<span style=\"color: #008080; text-decoration-color: #008080\">    TestEpoch/Precision    </span>│<span style=\"color: #800080; text-decoration-color: #800080\">    0.9065050482749939     </span>│\n",
       "│<span style=\"color: #008080; text-decoration-color: #008080\">     TestEpoch/Recall      </span>│<span style=\"color: #800080; text-decoration-color: #800080\">    0.9002997875213623     </span>│\n",
       "└───────────────────────────┴───────────────────────────┘\n",
       "</pre>\n"
      ],
      "text/plain": [
       "┏━━━━━━━━━━━━━━━━━━━━━━━━━━━┳━━━━━━━━━━━━━━━━━━━━━━━━━━━┓\n",
       "┃\u001b[1m \u001b[0m\u001b[1m  Runningstage.testing   \u001b[0m\u001b[1m \u001b[0m┃\u001b[1m                           \u001b[0m┃\n",
       "┃\u001b[1m \u001b[0m\u001b[1m         metric          \u001b[0m\u001b[1m \u001b[0m┃\u001b[1m \u001b[0m\u001b[1m      DataLoader 0       \u001b[0m\u001b[1m \u001b[0m┃\n",
       "┡━━━━━━━━━━━━━━━━━━━━━━━━━━━╇━━━━━━━━━━━━━━━━━━━━━━━━━━━┩\n",
       "│\u001b[36m \u001b[0m\u001b[36m      Test/Accuracy      \u001b[0m\u001b[36m \u001b[0m│\u001b[35m \u001b[0m\u001b[35m   0.9065403342247009    \u001b[0m\u001b[35m \u001b[0m│\n",
       "│\u001b[36m \u001b[0m\u001b[36m      Test/F1Score       \u001b[0m\u001b[36m \u001b[0m│\u001b[35m \u001b[0m\u001b[35m   0.8950178027153015    \u001b[0m\u001b[35m \u001b[0m│\n",
       "│\u001b[36m \u001b[0m\u001b[36m        Test/Loss        \u001b[0m\u001b[36m \u001b[0m│\u001b[35m \u001b[0m\u001b[35m   0.3073243498802185    \u001b[0m\u001b[35m \u001b[0m│\n",
       "│\u001b[36m \u001b[0m\u001b[36m     Test/Precision      \u001b[0m\u001b[36m \u001b[0m│\u001b[35m \u001b[0m\u001b[35m   0.9117442965507507    \u001b[0m\u001b[35m \u001b[0m│\n",
       "│\u001b[36m \u001b[0m\u001b[36m       Test/Recall       \u001b[0m\u001b[36m \u001b[0m│\u001b[35m \u001b[0m\u001b[35m   0.9065403342247009    \u001b[0m\u001b[35m \u001b[0m│\n",
       "│\u001b[36m \u001b[0m\u001b[36m   TestEpoch/Accuracy    \u001b[0m\u001b[36m \u001b[0m│\u001b[35m \u001b[0m\u001b[35m   0.9002997875213623    \u001b[0m\u001b[35m \u001b[0m│\n",
       "│\u001b[36m \u001b[0m\u001b[36m    TestEpoch/F1Score    \u001b[0m\u001b[36m \u001b[0m│\u001b[35m \u001b[0m\u001b[35m   0.8997836112976074    \u001b[0m\u001b[35m \u001b[0m│\n",
       "│\u001b[36m \u001b[0m\u001b[36m   TestEpoch/Precision   \u001b[0m\u001b[36m \u001b[0m│\u001b[35m \u001b[0m\u001b[35m   0.9065050482749939    \u001b[0m\u001b[35m \u001b[0m│\n",
       "│\u001b[36m \u001b[0m\u001b[36m    TestEpoch/Recall     \u001b[0m\u001b[36m \u001b[0m│\u001b[35m \u001b[0m\u001b[35m   0.9002997875213623    \u001b[0m\u001b[35m \u001b[0m│\n",
       "└───────────────────────────┴───────────────────────────┘\n"
      ]
     },
     "metadata": {},
     "output_type": "display_data"
    },
    {
     "name": "stderr",
     "output_type": "stream",
     "text": [
      "GPU available: True (cuda), used: True\n",
      "TPU available: False, using: 0 TPU cores\n",
      "IPU available: False, using: 0 IPUs\n",
      "HPU available: False, using: 0 HPUs\n",
      "You are using a CUDA device ('NVIDIA GeForce RTX 4070 Ti') that has Tensor Cores. To properly utilize them, you should set `torch.set_float32_matmul_precision('medium' | 'high')` which will trade-off precision for performance. For more details, read https://pytorch.org/docs/stable/generated/torch.set_float32_matmul_precision.html#torch.set_float32_matmul_precision\n",
      "LOCAL_RANK: 0 - CUDA_VISIBLE_DEVICES: [0,1]\n"
     ]
    },
    {
     "name": "stdout",
     "output_type": "stream",
     "text": [
      "Node 0 aggregate model with [1, 9]\n",
      "Performance of Node 0 after aggregation at round 1\n"
     ]
    },
    {
     "data": {
      "application/vnd.jupyter.widget-view+json": {
       "model_id": "0aca6fdb95d348bfbcbadab2d19a0a3e",
       "version_major": 2,
       "version_minor": 0
      },
      "text/plain": [
       "Testing: 0it [00:00, ?it/s]"
      ]
     },
     "metadata": {},
     "output_type": "display_data"
    },
    {
     "name": "stdout",
     "output_type": "stream",
     "text": [
      "Epoch end: Test, epoch number: 0\n"
     ]
    },
    {
     "data": {
      "text/html": [
       "<pre style=\"white-space:pre;overflow-x:auto;line-height:normal;font-family:Menlo,'DejaVu Sans Mono',consolas,'Courier New',monospace\">┏━━━━━━━━━━━━━━━━━━━━━━━━━━━┳━━━━━━━━━━━━━━━━━━━━━━━━━━━┓\n",
       "┃<span style=\"font-weight: bold\">   Runningstage.testing    </span>┃<span style=\"font-weight: bold\">                           </span>┃\n",
       "┃<span style=\"font-weight: bold\">          metric           </span>┃<span style=\"font-weight: bold\">       DataLoader 0        </span>┃\n",
       "┡━━━━━━━━━━━━━━━━━━━━━━━━━━━╇━━━━━━━━━━━━━━━━━━━━━━━━━━━┩\n",
       "│<span style=\"color: #008080; text-decoration-color: #008080\">       Test/Accuracy       </span>│<span style=\"color: #800080; text-decoration-color: #800080\">     0.457844078540802     </span>│\n",
       "│<span style=\"color: #008080; text-decoration-color: #008080\">       Test/F1Score        </span>│<span style=\"color: #800080; text-decoration-color: #800080\">    0.4094978868961334     </span>│\n",
       "│<span style=\"color: #008080; text-decoration-color: #008080\">         Test/Loss         </span>│<span style=\"color: #800080; text-decoration-color: #800080\">    1.6528276205062866     </span>│\n",
       "│<span style=\"color: #008080; text-decoration-color: #008080\">      Test/Precision       </span>│<span style=\"color: #800080; text-decoration-color: #800080\">     0.565353274345398     </span>│\n",
       "│<span style=\"color: #008080; text-decoration-color: #008080\">        Test/Recall        </span>│<span style=\"color: #800080; text-decoration-color: #800080\">     0.457844078540802     </span>│\n",
       "│<span style=\"color: #008080; text-decoration-color: #008080\">    TestEpoch/Accuracy     </span>│<span style=\"color: #800080; text-decoration-color: #800080\">    0.4623481333255768     </span>│\n",
       "│<span style=\"color: #008080; text-decoration-color: #008080\">     TestEpoch/F1Score     </span>│<span style=\"color: #800080; text-decoration-color: #800080\">    0.43500077724456787    </span>│\n",
       "│<span style=\"color: #008080; text-decoration-color: #008080\">    TestEpoch/Precision    </span>│<span style=\"color: #800080; text-decoration-color: #800080\">    0.6706679463386536     </span>│\n",
       "│<span style=\"color: #008080; text-decoration-color: #008080\">     TestEpoch/Recall      </span>│<span style=\"color: #800080; text-decoration-color: #800080\">    0.4623481333255768     </span>│\n",
       "└───────────────────────────┴───────────────────────────┘\n",
       "</pre>\n"
      ],
      "text/plain": [
       "┏━━━━━━━━━━━━━━━━━━━━━━━━━━━┳━━━━━━━━━━━━━━━━━━━━━━━━━━━┓\n",
       "┃\u001b[1m \u001b[0m\u001b[1m  Runningstage.testing   \u001b[0m\u001b[1m \u001b[0m┃\u001b[1m                           \u001b[0m┃\n",
       "┃\u001b[1m \u001b[0m\u001b[1m         metric          \u001b[0m\u001b[1m \u001b[0m┃\u001b[1m \u001b[0m\u001b[1m      DataLoader 0       \u001b[0m\u001b[1m \u001b[0m┃\n",
       "┡━━━━━━━━━━━━━━━━━━━━━━━━━━━╇━━━━━━━━━━━━━━━━━━━━━━━━━━━┩\n",
       "│\u001b[36m \u001b[0m\u001b[36m      Test/Accuracy      \u001b[0m\u001b[36m \u001b[0m│\u001b[35m \u001b[0m\u001b[35m    0.457844078540802    \u001b[0m\u001b[35m \u001b[0m│\n",
       "│\u001b[36m \u001b[0m\u001b[36m      Test/F1Score       \u001b[0m\u001b[36m \u001b[0m│\u001b[35m \u001b[0m\u001b[35m   0.4094978868961334    \u001b[0m\u001b[35m \u001b[0m│\n",
       "│\u001b[36m \u001b[0m\u001b[36m        Test/Loss        \u001b[0m\u001b[36m \u001b[0m│\u001b[35m \u001b[0m\u001b[35m   1.6528276205062866    \u001b[0m\u001b[35m \u001b[0m│\n",
       "│\u001b[36m \u001b[0m\u001b[36m     Test/Precision      \u001b[0m\u001b[36m \u001b[0m│\u001b[35m \u001b[0m\u001b[35m    0.565353274345398    \u001b[0m\u001b[35m \u001b[0m│\n",
       "│\u001b[36m \u001b[0m\u001b[36m       Test/Recall       \u001b[0m\u001b[36m \u001b[0m│\u001b[35m \u001b[0m\u001b[35m    0.457844078540802    \u001b[0m\u001b[35m \u001b[0m│\n",
       "│\u001b[36m \u001b[0m\u001b[36m   TestEpoch/Accuracy    \u001b[0m\u001b[36m \u001b[0m│\u001b[35m \u001b[0m\u001b[35m   0.4623481333255768    \u001b[0m\u001b[35m \u001b[0m│\n",
       "│\u001b[36m \u001b[0m\u001b[36m    TestEpoch/F1Score    \u001b[0m\u001b[36m \u001b[0m│\u001b[35m \u001b[0m\u001b[35m   0.43500077724456787   \u001b[0m\u001b[35m \u001b[0m│\n",
       "│\u001b[36m \u001b[0m\u001b[36m   TestEpoch/Precision   \u001b[0m\u001b[36m \u001b[0m│\u001b[35m \u001b[0m\u001b[35m   0.6706679463386536    \u001b[0m\u001b[35m \u001b[0m│\n",
       "│\u001b[36m \u001b[0m\u001b[36m    TestEpoch/Recall     \u001b[0m\u001b[36m \u001b[0m│\u001b[35m \u001b[0m\u001b[35m   0.4623481333255768    \u001b[0m\u001b[35m \u001b[0m│\n",
       "└───────────────────────────┴───────────────────────────┘\n"
      ]
     },
     "metadata": {},
     "output_type": "display_data"
    },
    {
     "name": "stderr",
     "output_type": "stream",
     "text": [
      "GPU available: True (cuda), used: True\n",
      "TPU available: False, using: 0 TPU cores\n",
      "IPU available: False, using: 0 IPUs\n",
      "HPU available: False, using: 0 HPUs\n",
      "You are using a CUDA device ('NVIDIA GeForce RTX 4070 Ti') that has Tensor Cores. To properly utilize them, you should set `torch.set_float32_matmul_precision('medium' | 'high')` which will trade-off precision for performance. For more details, read https://pytorch.org/docs/stable/generated/torch.set_float32_matmul_precision.html#torch.set_float32_matmul_precision\n",
      "LOCAL_RANK: 0 - CUDA_VISIBLE_DEVICES: [0,1]\n"
     ]
    },
    {
     "name": "stdout",
     "output_type": "stream",
     "text": [
      "Node 1 aggregate model with [0, 2]\n",
      "Performance of Node 1 after aggregation at round 1\n"
     ]
    },
    {
     "data": {
      "application/vnd.jupyter.widget-view+json": {
       "model_id": "a497df7a671c4df598210619a858d391",
       "version_major": 2,
       "version_minor": 0
      },
      "text/plain": [
       "Testing: 0it [00:00, ?it/s]"
      ]
     },
     "metadata": {},
     "output_type": "display_data"
    },
    {
     "name": "stdout",
     "output_type": "stream",
     "text": [
      "Epoch end: Test, epoch number: 0\n"
     ]
    },
    {
     "data": {
      "text/html": [
       "<pre style=\"white-space:pre;overflow-x:auto;line-height:normal;font-family:Menlo,'DejaVu Sans Mono',consolas,'Courier New',monospace\">┏━━━━━━━━━━━━━━━━━━━━━━━━━━━┳━━━━━━━━━━━━━━━━━━━━━━━━━━━┓\n",
       "┃<span style=\"font-weight: bold\">   Runningstage.testing    </span>┃<span style=\"font-weight: bold\">                           </span>┃\n",
       "┃<span style=\"font-weight: bold\">          metric           </span>┃<span style=\"font-weight: bold\">       DataLoader 0        </span>┃\n",
       "┡━━━━━━━━━━━━━━━━━━━━━━━━━━━╇━━━━━━━━━━━━━━━━━━━━━━━━━━━┩\n",
       "│<span style=\"color: #008080; text-decoration-color: #008080\">       Test/Accuracy       </span>│<span style=\"color: #800080; text-decoration-color: #800080\">    0.3723289370536804     </span>│\n",
       "│<span style=\"color: #008080; text-decoration-color: #008080\">       Test/F1Score        </span>│<span style=\"color: #800080; text-decoration-color: #800080\">    0.2982305884361267     </span>│\n",
       "│<span style=\"color: #008080; text-decoration-color: #008080\">         Test/Loss         </span>│<span style=\"color: #800080; text-decoration-color: #800080\">    1.6354472637176514     </span>│\n",
       "│<span style=\"color: #008080; text-decoration-color: #008080\">      Test/Precision       </span>│<span style=\"color: #800080; text-decoration-color: #800080\">    0.3927122950553894     </span>│\n",
       "│<span style=\"color: #008080; text-decoration-color: #008080\">        Test/Recall        </span>│<span style=\"color: #800080; text-decoration-color: #800080\">    0.3723289370536804     </span>│\n",
       "│<span style=\"color: #008080; text-decoration-color: #008080\">    TestEpoch/Accuracy     </span>│<span style=\"color: #800080; text-decoration-color: #800080\">    0.37240761518478394    </span>│\n",
       "│<span style=\"color: #008080; text-decoration-color: #008080\">     TestEpoch/F1Score     </span>│<span style=\"color: #800080; text-decoration-color: #800080\">    0.3098907470703125     </span>│\n",
       "│<span style=\"color: #008080; text-decoration-color: #008080\">    TestEpoch/Precision    </span>│<span style=\"color: #800080; text-decoration-color: #800080\">    0.5906047821044922     </span>│\n",
       "│<span style=\"color: #008080; text-decoration-color: #008080\">     TestEpoch/Recall      </span>│<span style=\"color: #800080; text-decoration-color: #800080\">    0.37240761518478394    </span>│\n",
       "└───────────────────────────┴───────────────────────────┘\n",
       "</pre>\n"
      ],
      "text/plain": [
       "┏━━━━━━━━━━━━━━━━━━━━━━━━━━━┳━━━━━━━━━━━━━━━━━━━━━━━━━━━┓\n",
       "┃\u001b[1m \u001b[0m\u001b[1m  Runningstage.testing   \u001b[0m\u001b[1m \u001b[0m┃\u001b[1m                           \u001b[0m┃\n",
       "┃\u001b[1m \u001b[0m\u001b[1m         metric          \u001b[0m\u001b[1m \u001b[0m┃\u001b[1m \u001b[0m\u001b[1m      DataLoader 0       \u001b[0m\u001b[1m \u001b[0m┃\n",
       "┡━━━━━━━━━━━━━━━━━━━━━━━━━━━╇━━━━━━━━━━━━━━━━━━━━━━━━━━━┩\n",
       "│\u001b[36m \u001b[0m\u001b[36m      Test/Accuracy      \u001b[0m\u001b[36m \u001b[0m│\u001b[35m \u001b[0m\u001b[35m   0.3723289370536804    \u001b[0m\u001b[35m \u001b[0m│\n",
       "│\u001b[36m \u001b[0m\u001b[36m      Test/F1Score       \u001b[0m\u001b[36m \u001b[0m│\u001b[35m \u001b[0m\u001b[35m   0.2982305884361267    \u001b[0m\u001b[35m \u001b[0m│\n",
       "│\u001b[36m \u001b[0m\u001b[36m        Test/Loss        \u001b[0m\u001b[36m \u001b[0m│\u001b[35m \u001b[0m\u001b[35m   1.6354472637176514    \u001b[0m\u001b[35m \u001b[0m│\n",
       "│\u001b[36m \u001b[0m\u001b[36m     Test/Precision      \u001b[0m\u001b[36m \u001b[0m│\u001b[35m \u001b[0m\u001b[35m   0.3927122950553894    \u001b[0m\u001b[35m \u001b[0m│\n",
       "│\u001b[36m \u001b[0m\u001b[36m       Test/Recall       \u001b[0m\u001b[36m \u001b[0m│\u001b[35m \u001b[0m\u001b[35m   0.3723289370536804    \u001b[0m\u001b[35m \u001b[0m│\n",
       "│\u001b[36m \u001b[0m\u001b[36m   TestEpoch/Accuracy    \u001b[0m\u001b[36m \u001b[0m│\u001b[35m \u001b[0m\u001b[35m   0.37240761518478394   \u001b[0m\u001b[35m \u001b[0m│\n",
       "│\u001b[36m \u001b[0m\u001b[36m    TestEpoch/F1Score    \u001b[0m\u001b[36m \u001b[0m│\u001b[35m \u001b[0m\u001b[35m   0.3098907470703125    \u001b[0m\u001b[35m \u001b[0m│\n",
       "│\u001b[36m \u001b[0m\u001b[36m   TestEpoch/Precision   \u001b[0m\u001b[36m \u001b[0m│\u001b[35m \u001b[0m\u001b[35m   0.5906047821044922    \u001b[0m\u001b[35m \u001b[0m│\n",
       "│\u001b[36m \u001b[0m\u001b[36m    TestEpoch/Recall     \u001b[0m\u001b[36m \u001b[0m│\u001b[35m \u001b[0m\u001b[35m   0.37240761518478394   \u001b[0m\u001b[35m \u001b[0m│\n",
       "└───────────────────────────┴───────────────────────────┘\n"
      ]
     },
     "metadata": {},
     "output_type": "display_data"
    },
    {
     "name": "stderr",
     "output_type": "stream",
     "text": [
      "GPU available: True (cuda), used: True\n",
      "TPU available: False, using: 0 TPU cores\n",
      "IPU available: False, using: 0 IPUs\n",
      "HPU available: False, using: 0 HPUs\n",
      "You are using a CUDA device ('NVIDIA GeForce RTX 4070 Ti') that has Tensor Cores. To properly utilize them, you should set `torch.set_float32_matmul_precision('medium' | 'high')` which will trade-off precision for performance. For more details, read https://pytorch.org/docs/stable/generated/torch.set_float32_matmul_precision.html#torch.set_float32_matmul_precision\n",
      "LOCAL_RANK: 0 - CUDA_VISIBLE_DEVICES: [0,1]\n"
     ]
    },
    {
     "name": "stdout",
     "output_type": "stream",
     "text": [
      "Node 2 aggregate model with [1, 3]\n",
      "Performance of Node 2 after aggregation at round 1\n"
     ]
    },
    {
     "data": {
      "application/vnd.jupyter.widget-view+json": {
       "model_id": "95032bdfc48149cba0175dfd3a1efb43",
       "version_major": 2,
       "version_minor": 0
      },
      "text/plain": [
       "Testing: 0it [00:00, ?it/s]"
      ]
     },
     "metadata": {},
     "output_type": "display_data"
    },
    {
     "name": "stdout",
     "output_type": "stream",
     "text": [
      "Epoch end: Test, epoch number: 0\n"
     ]
    },
    {
     "data": {
      "text/html": [
       "<pre style=\"white-space:pre;overflow-x:auto;line-height:normal;font-family:Menlo,'DejaVu Sans Mono',consolas,'Courier New',monospace\">┏━━━━━━━━━━━━━━━━━━━━━━━━━━━┳━━━━━━━━━━━━━━━━━━━━━━━━━━━┓\n",
       "┃<span style=\"font-weight: bold\">   Runningstage.testing    </span>┃<span style=\"font-weight: bold\">                           </span>┃\n",
       "┃<span style=\"font-weight: bold\">          metric           </span>┃<span style=\"font-weight: bold\">       DataLoader 0        </span>┃\n",
       "┡━━━━━━━━━━━━━━━━━━━━━━━━━━━╇━━━━━━━━━━━━━━━━━━━━━━━━━━━┩\n",
       "│<span style=\"color: #008080; text-decoration-color: #008080\">       Test/Accuracy       </span>│<span style=\"color: #800080; text-decoration-color: #800080\">    0.6010212898254395     </span>│\n",
       "│<span style=\"color: #008080; text-decoration-color: #008080\">       Test/F1Score        </span>│<span style=\"color: #800080; text-decoration-color: #800080\">    0.5559419989585876     </span>│\n",
       "│<span style=\"color: #008080; text-decoration-color: #008080\">         Test/Loss         </span>│<span style=\"color: #800080; text-decoration-color: #800080\">    1.5015228986740112     </span>│\n",
       "│<span style=\"color: #008080; text-decoration-color: #008080\">      Test/Precision       </span>│<span style=\"color: #800080; text-decoration-color: #800080\">    0.6253727674484253     </span>│\n",
       "│<span style=\"color: #008080; text-decoration-color: #008080\">        Test/Recall        </span>│<span style=\"color: #800080; text-decoration-color: #800080\">    0.6010212898254395     </span>│\n",
       "│<span style=\"color: #008080; text-decoration-color: #008080\">    TestEpoch/Accuracy     </span>│<span style=\"color: #800080; text-decoration-color: #800080\">    0.6032313108444214     </span>│\n",
       "│<span style=\"color: #008080; text-decoration-color: #008080\">     TestEpoch/F1Score     </span>│<span style=\"color: #800080; text-decoration-color: #800080\">     0.573030948638916     </span>│\n",
       "│<span style=\"color: #008080; text-decoration-color: #008080\">    TestEpoch/Precision    </span>│<span style=\"color: #800080; text-decoration-color: #800080\">    0.7296676635742188     </span>│\n",
       "│<span style=\"color: #008080; text-decoration-color: #008080\">     TestEpoch/Recall      </span>│<span style=\"color: #800080; text-decoration-color: #800080\">    0.6032313108444214     </span>│\n",
       "└───────────────────────────┴───────────────────────────┘\n",
       "</pre>\n"
      ],
      "text/plain": [
       "┏━━━━━━━━━━━━━━━━━━━━━━━━━━━┳━━━━━━━━━━━━━━━━━━━━━━━━━━━┓\n",
       "┃\u001b[1m \u001b[0m\u001b[1m  Runningstage.testing   \u001b[0m\u001b[1m \u001b[0m┃\u001b[1m                           \u001b[0m┃\n",
       "┃\u001b[1m \u001b[0m\u001b[1m         metric          \u001b[0m\u001b[1m \u001b[0m┃\u001b[1m \u001b[0m\u001b[1m      DataLoader 0       \u001b[0m\u001b[1m \u001b[0m┃\n",
       "┡━━━━━━━━━━━━━━━━━━━━━━━━━━━╇━━━━━━━━━━━━━━━━━━━━━━━━━━━┩\n",
       "│\u001b[36m \u001b[0m\u001b[36m      Test/Accuracy      \u001b[0m\u001b[36m \u001b[0m│\u001b[35m \u001b[0m\u001b[35m   0.6010212898254395    \u001b[0m\u001b[35m \u001b[0m│\n",
       "│\u001b[36m \u001b[0m\u001b[36m      Test/F1Score       \u001b[0m\u001b[36m \u001b[0m│\u001b[35m \u001b[0m\u001b[35m   0.5559419989585876    \u001b[0m\u001b[35m \u001b[0m│\n",
       "│\u001b[36m \u001b[0m\u001b[36m        Test/Loss        \u001b[0m\u001b[36m \u001b[0m│\u001b[35m \u001b[0m\u001b[35m   1.5015228986740112    \u001b[0m\u001b[35m \u001b[0m│\n",
       "│\u001b[36m \u001b[0m\u001b[36m     Test/Precision      \u001b[0m\u001b[36m \u001b[0m│\u001b[35m \u001b[0m\u001b[35m   0.6253727674484253    \u001b[0m\u001b[35m \u001b[0m│\n",
       "│\u001b[36m \u001b[0m\u001b[36m       Test/Recall       \u001b[0m\u001b[36m \u001b[0m│\u001b[35m \u001b[0m\u001b[35m   0.6010212898254395    \u001b[0m\u001b[35m \u001b[0m│\n",
       "│\u001b[36m \u001b[0m\u001b[36m   TestEpoch/Accuracy    \u001b[0m\u001b[36m \u001b[0m│\u001b[35m \u001b[0m\u001b[35m   0.6032313108444214    \u001b[0m\u001b[35m \u001b[0m│\n",
       "│\u001b[36m \u001b[0m\u001b[36m    TestEpoch/F1Score    \u001b[0m\u001b[36m \u001b[0m│\u001b[35m \u001b[0m\u001b[35m    0.573030948638916    \u001b[0m\u001b[35m \u001b[0m│\n",
       "│\u001b[36m \u001b[0m\u001b[36m   TestEpoch/Precision   \u001b[0m\u001b[36m \u001b[0m│\u001b[35m \u001b[0m\u001b[35m   0.7296676635742188    \u001b[0m\u001b[35m \u001b[0m│\n",
       "│\u001b[36m \u001b[0m\u001b[36m    TestEpoch/Recall     \u001b[0m\u001b[36m \u001b[0m│\u001b[35m \u001b[0m\u001b[35m   0.6032313108444214    \u001b[0m\u001b[35m \u001b[0m│\n",
       "└───────────────────────────┴───────────────────────────┘\n"
      ]
     },
     "metadata": {},
     "output_type": "display_data"
    },
    {
     "name": "stderr",
     "output_type": "stream",
     "text": [
      "GPU available: True (cuda), used: True\n",
      "TPU available: False, using: 0 TPU cores\n",
      "IPU available: False, using: 0 IPUs\n",
      "HPU available: False, using: 0 HPUs\n",
      "You are using a CUDA device ('NVIDIA GeForce RTX 4070 Ti') that has Tensor Cores. To properly utilize them, you should set `torch.set_float32_matmul_precision('medium' | 'high')` which will trade-off precision for performance. For more details, read https://pytorch.org/docs/stable/generated/torch.set_float32_matmul_precision.html#torch.set_float32_matmul_precision\n",
      "LOCAL_RANK: 0 - CUDA_VISIBLE_DEVICES: [0,1]\n"
     ]
    },
    {
     "name": "stdout",
     "output_type": "stream",
     "text": [
      "Node 3 aggregate model with [2, 4]\n",
      "Performance of Node 3 after aggregation at round 1\n"
     ]
    },
    {
     "data": {
      "application/vnd.jupyter.widget-view+json": {
       "model_id": "b247ff07a64d40b2b6c41c9548949e81",
       "version_major": 2,
       "version_minor": 0
      },
      "text/plain": [
       "Testing: 0it [00:00, ?it/s]"
      ]
     },
     "metadata": {},
     "output_type": "display_data"
    },
    {
     "name": "stdout",
     "output_type": "stream",
     "text": [
      "Epoch end: Test, epoch number: 0\n"
     ]
    },
    {
     "data": {
      "text/html": [
       "<pre style=\"white-space:pre;overflow-x:auto;line-height:normal;font-family:Menlo,'DejaVu Sans Mono',consolas,'Courier New',monospace\">┏━━━━━━━━━━━━━━━━━━━━━━━━━━━┳━━━━━━━━━━━━━━━━━━━━━━━━━━━┓\n",
       "┃<span style=\"font-weight: bold\">   Runningstage.testing    </span>┃<span style=\"font-weight: bold\">                           </span>┃\n",
       "┃<span style=\"font-weight: bold\">          metric           </span>┃<span style=\"font-weight: bold\">       DataLoader 0        </span>┃\n",
       "┡━━━━━━━━━━━━━━━━━━━━━━━━━━━╇━━━━━━━━━━━━━━━━━━━━━━━━━━━┩\n",
       "│<span style=\"color: #008080; text-decoration-color: #008080\">       Test/Accuracy       </span>│<span style=\"color: #800080; text-decoration-color: #800080\">    0.5945310592651367     </span>│\n",
       "│<span style=\"color: #008080; text-decoration-color: #008080\">       Test/F1Score        </span>│<span style=\"color: #800080; text-decoration-color: #800080\">    0.5494806170463562     </span>│\n",
       "│<span style=\"color: #008080; text-decoration-color: #008080\">         Test/Loss         </span>│<span style=\"color: #800080; text-decoration-color: #800080\">    1.5946890115737915     </span>│\n",
       "│<span style=\"color: #008080; text-decoration-color: #008080\">      Test/Precision       </span>│<span style=\"color: #800080; text-decoration-color: #800080\">    0.6322588920593262     </span>│\n",
       "│<span style=\"color: #008080; text-decoration-color: #008080\">        Test/Recall        </span>│<span style=\"color: #800080; text-decoration-color: #800080\">    0.5945310592651367     </span>│\n",
       "│<span style=\"color: #008080; text-decoration-color: #008080\">    TestEpoch/Accuracy     </span>│<span style=\"color: #800080; text-decoration-color: #800080\">    0.5918933153152466     </span>│\n",
       "│<span style=\"color: #008080; text-decoration-color: #008080\">     TestEpoch/F1Score     </span>│<span style=\"color: #800080; text-decoration-color: #800080\">    0.5567405223846436     </span>│\n",
       "│<span style=\"color: #008080; text-decoration-color: #008080\">    TestEpoch/Precision    </span>│<span style=\"color: #800080; text-decoration-color: #800080\">    0.6317833065986633     </span>│\n",
       "│<span style=\"color: #008080; text-decoration-color: #008080\">     TestEpoch/Recall      </span>│<span style=\"color: #800080; text-decoration-color: #800080\">    0.5918933153152466     </span>│\n",
       "└───────────────────────────┴───────────────────────────┘\n",
       "</pre>\n"
      ],
      "text/plain": [
       "┏━━━━━━━━━━━━━━━━━━━━━━━━━━━┳━━━━━━━━━━━━━━━━━━━━━━━━━━━┓\n",
       "┃\u001b[1m \u001b[0m\u001b[1m  Runningstage.testing   \u001b[0m\u001b[1m \u001b[0m┃\u001b[1m                           \u001b[0m┃\n",
       "┃\u001b[1m \u001b[0m\u001b[1m         metric          \u001b[0m\u001b[1m \u001b[0m┃\u001b[1m \u001b[0m\u001b[1m      DataLoader 0       \u001b[0m\u001b[1m \u001b[0m┃\n",
       "┡━━━━━━━━━━━━━━━━━━━━━━━━━━━╇━━━━━━━━━━━━━━━━━━━━━━━━━━━┩\n",
       "│\u001b[36m \u001b[0m\u001b[36m      Test/Accuracy      \u001b[0m\u001b[36m \u001b[0m│\u001b[35m \u001b[0m\u001b[35m   0.5945310592651367    \u001b[0m\u001b[35m \u001b[0m│\n",
       "│\u001b[36m \u001b[0m\u001b[36m      Test/F1Score       \u001b[0m\u001b[36m \u001b[0m│\u001b[35m \u001b[0m\u001b[35m   0.5494806170463562    \u001b[0m\u001b[35m \u001b[0m│\n",
       "│\u001b[36m \u001b[0m\u001b[36m        Test/Loss        \u001b[0m\u001b[36m \u001b[0m│\u001b[35m \u001b[0m\u001b[35m   1.5946890115737915    \u001b[0m\u001b[35m \u001b[0m│\n",
       "│\u001b[36m \u001b[0m\u001b[36m     Test/Precision      \u001b[0m\u001b[36m \u001b[0m│\u001b[35m \u001b[0m\u001b[35m   0.6322588920593262    \u001b[0m\u001b[35m \u001b[0m│\n",
       "│\u001b[36m \u001b[0m\u001b[36m       Test/Recall       \u001b[0m\u001b[36m \u001b[0m│\u001b[35m \u001b[0m\u001b[35m   0.5945310592651367    \u001b[0m\u001b[35m \u001b[0m│\n",
       "│\u001b[36m \u001b[0m\u001b[36m   TestEpoch/Accuracy    \u001b[0m\u001b[36m \u001b[0m│\u001b[35m \u001b[0m\u001b[35m   0.5918933153152466    \u001b[0m\u001b[35m \u001b[0m│\n",
       "│\u001b[36m \u001b[0m\u001b[36m    TestEpoch/F1Score    \u001b[0m\u001b[36m \u001b[0m│\u001b[35m \u001b[0m\u001b[35m   0.5567405223846436    \u001b[0m\u001b[35m \u001b[0m│\n",
       "│\u001b[36m \u001b[0m\u001b[36m   TestEpoch/Precision   \u001b[0m\u001b[36m \u001b[0m│\u001b[35m \u001b[0m\u001b[35m   0.6317833065986633    \u001b[0m\u001b[35m \u001b[0m│\n",
       "│\u001b[36m \u001b[0m\u001b[36m    TestEpoch/Recall     \u001b[0m\u001b[36m \u001b[0m│\u001b[35m \u001b[0m\u001b[35m   0.5918933153152466    \u001b[0m\u001b[35m \u001b[0m│\n",
       "└───────────────────────────┴───────────────────────────┘\n"
      ]
     },
     "metadata": {},
     "output_type": "display_data"
    },
    {
     "name": "stderr",
     "output_type": "stream",
     "text": [
      "GPU available: True (cuda), used: True\n",
      "TPU available: False, using: 0 TPU cores\n",
      "IPU available: False, using: 0 IPUs\n",
      "HPU available: False, using: 0 HPUs\n",
      "You are using a CUDA device ('NVIDIA GeForce RTX 4070 Ti') that has Tensor Cores. To properly utilize them, you should set `torch.set_float32_matmul_precision('medium' | 'high')` which will trade-off precision for performance. For more details, read https://pytorch.org/docs/stable/generated/torch.set_float32_matmul_precision.html#torch.set_float32_matmul_precision\n",
      "LOCAL_RANK: 0 - CUDA_VISIBLE_DEVICES: [0,1]\n"
     ]
    },
    {
     "name": "stdout",
     "output_type": "stream",
     "text": [
      "Node 4 aggregate model with [3, 5]\n",
      "Performance of Node 4 after aggregation at round 1\n"
     ]
    },
    {
     "data": {
      "application/vnd.jupyter.widget-view+json": {
       "model_id": "a7322cfeea194b3c95adc8b03f86fcd8",
       "version_major": 2,
       "version_minor": 0
      },
      "text/plain": [
       "Testing: 0it [00:00, ?it/s]"
      ]
     },
     "metadata": {},
     "output_type": "display_data"
    },
    {
     "name": "stdout",
     "output_type": "stream",
     "text": [
      "Epoch end: Test, epoch number: 0\n"
     ]
    },
    {
     "data": {
      "text/html": [
       "<pre style=\"white-space:pre;overflow-x:auto;line-height:normal;font-family:Menlo,'DejaVu Sans Mono',consolas,'Courier New',monospace\">┏━━━━━━━━━━━━━━━━━━━━━━━━━━━┳━━━━━━━━━━━━━━━━━━━━━━━━━━━┓\n",
       "┃<span style=\"font-weight: bold\">   Runningstage.testing    </span>┃<span style=\"font-weight: bold\">                           </span>┃\n",
       "┃<span style=\"font-weight: bold\">          metric           </span>┃<span style=\"font-weight: bold\">       DataLoader 0        </span>┃\n",
       "┡━━━━━━━━━━━━━━━━━━━━━━━━━━━╇━━━━━━━━━━━━━━━━━━━━━━━━━━━┩\n",
       "│<span style=\"color: #008080; text-decoration-color: #008080\">       Test/Accuracy       </span>│<span style=\"color: #800080; text-decoration-color: #800080\">    0.6112698912620544     </span>│\n",
       "│<span style=\"color: #008080; text-decoration-color: #008080\">       Test/F1Score        </span>│<span style=\"color: #800080; text-decoration-color: #800080\">    0.5597809553146362     </span>│\n",
       "│<span style=\"color: #008080; text-decoration-color: #008080\">         Test/Loss         </span>│<span style=\"color: #800080; text-decoration-color: #800080\">     1.627658486366272     </span>│\n",
       "│<span style=\"color: #008080; text-decoration-color: #008080\">      Test/Precision       </span>│<span style=\"color: #800080; text-decoration-color: #800080\">    0.6487171649932861     </span>│\n",
       "│<span style=\"color: #008080; text-decoration-color: #008080\">        Test/Recall        </span>│<span style=\"color: #800080; text-decoration-color: #800080\">    0.6112698912620544     </span>│\n",
       "│<span style=\"color: #008080; text-decoration-color: #008080\">    TestEpoch/Accuracy     </span>│<span style=\"color: #800080; text-decoration-color: #800080\">     0.62093186378479      </span>│\n",
       "│<span style=\"color: #008080; text-decoration-color: #008080\">     TestEpoch/F1Score     </span>│<span style=\"color: #800080; text-decoration-color: #800080\">    0.5822835564613342     </span>│\n",
       "│<span style=\"color: #008080; text-decoration-color: #008080\">    TestEpoch/Precision    </span>│<span style=\"color: #800080; text-decoration-color: #800080\">    0.6581063270568848     </span>│\n",
       "│<span style=\"color: #008080; text-decoration-color: #008080\">     TestEpoch/Recall      </span>│<span style=\"color: #800080; text-decoration-color: #800080\">     0.62093186378479      </span>│\n",
       "└───────────────────────────┴───────────────────────────┘\n",
       "</pre>\n"
      ],
      "text/plain": [
       "┏━━━━━━━━━━━━━━━━━━━━━━━━━━━┳━━━━━━━━━━━━━━━━━━━━━━━━━━━┓\n",
       "┃\u001b[1m \u001b[0m\u001b[1m  Runningstage.testing   \u001b[0m\u001b[1m \u001b[0m┃\u001b[1m                           \u001b[0m┃\n",
       "┃\u001b[1m \u001b[0m\u001b[1m         metric          \u001b[0m\u001b[1m \u001b[0m┃\u001b[1m \u001b[0m\u001b[1m      DataLoader 0       \u001b[0m\u001b[1m \u001b[0m┃\n",
       "┡━━━━━━━━━━━━━━━━━━━━━━━━━━━╇━━━━━━━━━━━━━━━━━━━━━━━━━━━┩\n",
       "│\u001b[36m \u001b[0m\u001b[36m      Test/Accuracy      \u001b[0m\u001b[36m \u001b[0m│\u001b[35m \u001b[0m\u001b[35m   0.6112698912620544    \u001b[0m\u001b[35m \u001b[0m│\n",
       "│\u001b[36m \u001b[0m\u001b[36m      Test/F1Score       \u001b[0m\u001b[36m \u001b[0m│\u001b[35m \u001b[0m\u001b[35m   0.5597809553146362    \u001b[0m\u001b[35m \u001b[0m│\n",
       "│\u001b[36m \u001b[0m\u001b[36m        Test/Loss        \u001b[0m\u001b[36m \u001b[0m│\u001b[35m \u001b[0m\u001b[35m    1.627658486366272    \u001b[0m\u001b[35m \u001b[0m│\n",
       "│\u001b[36m \u001b[0m\u001b[36m     Test/Precision      \u001b[0m\u001b[36m \u001b[0m│\u001b[35m \u001b[0m\u001b[35m   0.6487171649932861    \u001b[0m\u001b[35m \u001b[0m│\n",
       "│\u001b[36m \u001b[0m\u001b[36m       Test/Recall       \u001b[0m\u001b[36m \u001b[0m│\u001b[35m \u001b[0m\u001b[35m   0.6112698912620544    \u001b[0m\u001b[35m \u001b[0m│\n",
       "│\u001b[36m \u001b[0m\u001b[36m   TestEpoch/Accuracy    \u001b[0m\u001b[36m \u001b[0m│\u001b[35m \u001b[0m\u001b[35m    0.62093186378479     \u001b[0m\u001b[35m \u001b[0m│\n",
       "│\u001b[36m \u001b[0m\u001b[36m    TestEpoch/F1Score    \u001b[0m\u001b[36m \u001b[0m│\u001b[35m \u001b[0m\u001b[35m   0.5822835564613342    \u001b[0m\u001b[35m \u001b[0m│\n",
       "│\u001b[36m \u001b[0m\u001b[36m   TestEpoch/Precision   \u001b[0m\u001b[36m \u001b[0m│\u001b[35m \u001b[0m\u001b[35m   0.6581063270568848    \u001b[0m\u001b[35m \u001b[0m│\n",
       "│\u001b[36m \u001b[0m\u001b[36m    TestEpoch/Recall     \u001b[0m\u001b[36m \u001b[0m│\u001b[35m \u001b[0m\u001b[35m    0.62093186378479     \u001b[0m\u001b[35m \u001b[0m│\n",
       "└───────────────────────────┴───────────────────────────┘\n"
      ]
     },
     "metadata": {},
     "output_type": "display_data"
    },
    {
     "name": "stderr",
     "output_type": "stream",
     "text": [
      "GPU available: True (cuda), used: True\n",
      "TPU available: False, using: 0 TPU cores\n",
      "IPU available: False, using: 0 IPUs\n",
      "HPU available: False, using: 0 HPUs\n",
      "You are using a CUDA device ('NVIDIA GeForce RTX 4070 Ti') that has Tensor Cores. To properly utilize them, you should set `torch.set_float32_matmul_precision('medium' | 'high')` which will trade-off precision for performance. For more details, read https://pytorch.org/docs/stable/generated/torch.set_float32_matmul_precision.html#torch.set_float32_matmul_precision\n",
      "LOCAL_RANK: 0 - CUDA_VISIBLE_DEVICES: [0,1]\n"
     ]
    },
    {
     "name": "stdout",
     "output_type": "stream",
     "text": [
      "Node 5 aggregate model with [4, 6]\n",
      "Performance of Node 5 after aggregation at round 1\n"
     ]
    },
    {
     "data": {
      "application/vnd.jupyter.widget-view+json": {
       "model_id": "1bf54c5dcec54c7fa134f6ff7a3e953e",
       "version_major": 2,
       "version_minor": 0
      },
      "text/plain": [
       "Testing: 0it [00:00, ?it/s]"
      ]
     },
     "metadata": {},
     "output_type": "display_data"
    },
    {
     "name": "stdout",
     "output_type": "stream",
     "text": [
      "Epoch end: Test, epoch number: 0\n"
     ]
    },
    {
     "data": {
      "text/html": [
       "<pre style=\"white-space:pre;overflow-x:auto;line-height:normal;font-family:Menlo,'DejaVu Sans Mono',consolas,'Courier New',monospace\">┏━━━━━━━━━━━━━━━━━━━━━━━━━━━┳━━━━━━━━━━━━━━━━━━━━━━━━━━━┓\n",
       "┃<span style=\"font-weight: bold\">   Runningstage.testing    </span>┃<span style=\"font-weight: bold\">                           </span>┃\n",
       "┃<span style=\"font-weight: bold\">          metric           </span>┃<span style=\"font-weight: bold\">       DataLoader 0        </span>┃\n",
       "┡━━━━━━━━━━━━━━━━━━━━━━━━━━━╇━━━━━━━━━━━━━━━━━━━━━━━━━━━┩\n",
       "│<span style=\"color: #008080; text-decoration-color: #008080\">       Test/Accuracy       </span>│<span style=\"color: #800080; text-decoration-color: #800080\">    0.3709906041622162     </span>│\n",
       "│<span style=\"color: #008080; text-decoration-color: #008080\">       Test/F1Score        </span>│<span style=\"color: #800080; text-decoration-color: #800080\">    0.2822869122028351     </span>│\n",
       "│<span style=\"color: #008080; text-decoration-color: #008080\">         Test/Loss         </span>│<span style=\"color: #800080; text-decoration-color: #800080\">    1.6720538139343262     </span>│\n",
       "│<span style=\"color: #008080; text-decoration-color: #008080\">      Test/Precision       </span>│<span style=\"color: #800080; text-decoration-color: #800080\">    0.36935827136039734    </span>│\n",
       "│<span style=\"color: #008080; text-decoration-color: #008080\">        Test/Recall        </span>│<span style=\"color: #800080; text-decoration-color: #800080\">    0.3709906041622162     </span>│\n",
       "│<span style=\"color: #008080; text-decoration-color: #008080\">    TestEpoch/Accuracy     </span>│<span style=\"color: #800080; text-decoration-color: #800080\">    0.3702612519264221     </span>│\n",
       "│<span style=\"color: #008080; text-decoration-color: #008080\">     TestEpoch/F1Score     </span>│<span style=\"color: #800080; text-decoration-color: #800080\">    0.30106258392333984    </span>│\n",
       "│<span style=\"color: #008080; text-decoration-color: #008080\">    TestEpoch/Precision    </span>│<span style=\"color: #800080; text-decoration-color: #800080\">    0.6067913770675659     </span>│\n",
       "│<span style=\"color: #008080; text-decoration-color: #008080\">     TestEpoch/Recall      </span>│<span style=\"color: #800080; text-decoration-color: #800080\">    0.3702612519264221     </span>│\n",
       "└───────────────────────────┴───────────────────────────┘\n",
       "</pre>\n"
      ],
      "text/plain": [
       "┏━━━━━━━━━━━━━━━━━━━━━━━━━━━┳━━━━━━━━━━━━━━━━━━━━━━━━━━━┓\n",
       "┃\u001b[1m \u001b[0m\u001b[1m  Runningstage.testing   \u001b[0m\u001b[1m \u001b[0m┃\u001b[1m                           \u001b[0m┃\n",
       "┃\u001b[1m \u001b[0m\u001b[1m         metric          \u001b[0m\u001b[1m \u001b[0m┃\u001b[1m \u001b[0m\u001b[1m      DataLoader 0       \u001b[0m\u001b[1m \u001b[0m┃\n",
       "┡━━━━━━━━━━━━━━━━━━━━━━━━━━━╇━━━━━━━━━━━━━━━━━━━━━━━━━━━┩\n",
       "│\u001b[36m \u001b[0m\u001b[36m      Test/Accuracy      \u001b[0m\u001b[36m \u001b[0m│\u001b[35m \u001b[0m\u001b[35m   0.3709906041622162    \u001b[0m\u001b[35m \u001b[0m│\n",
       "│\u001b[36m \u001b[0m\u001b[36m      Test/F1Score       \u001b[0m\u001b[36m \u001b[0m│\u001b[35m \u001b[0m\u001b[35m   0.2822869122028351    \u001b[0m\u001b[35m \u001b[0m│\n",
       "│\u001b[36m \u001b[0m\u001b[36m        Test/Loss        \u001b[0m\u001b[36m \u001b[0m│\u001b[35m \u001b[0m\u001b[35m   1.6720538139343262    \u001b[0m\u001b[35m \u001b[0m│\n",
       "│\u001b[36m \u001b[0m\u001b[36m     Test/Precision      \u001b[0m\u001b[36m \u001b[0m│\u001b[35m \u001b[0m\u001b[35m   0.36935827136039734   \u001b[0m\u001b[35m \u001b[0m│\n",
       "│\u001b[36m \u001b[0m\u001b[36m       Test/Recall       \u001b[0m\u001b[36m \u001b[0m│\u001b[35m \u001b[0m\u001b[35m   0.3709906041622162    \u001b[0m\u001b[35m \u001b[0m│\n",
       "│\u001b[36m \u001b[0m\u001b[36m   TestEpoch/Accuracy    \u001b[0m\u001b[36m \u001b[0m│\u001b[35m \u001b[0m\u001b[35m   0.3702612519264221    \u001b[0m\u001b[35m \u001b[0m│\n",
       "│\u001b[36m \u001b[0m\u001b[36m    TestEpoch/F1Score    \u001b[0m\u001b[36m \u001b[0m│\u001b[35m \u001b[0m\u001b[35m   0.30106258392333984   \u001b[0m\u001b[35m \u001b[0m│\n",
       "│\u001b[36m \u001b[0m\u001b[36m   TestEpoch/Precision   \u001b[0m\u001b[36m \u001b[0m│\u001b[35m \u001b[0m\u001b[35m   0.6067913770675659    \u001b[0m\u001b[35m \u001b[0m│\n",
       "│\u001b[36m \u001b[0m\u001b[36m    TestEpoch/Recall     \u001b[0m\u001b[36m \u001b[0m│\u001b[35m \u001b[0m\u001b[35m   0.3702612519264221    \u001b[0m\u001b[35m \u001b[0m│\n",
       "└───────────────────────────┴───────────────────────────┘\n"
      ]
     },
     "metadata": {},
     "output_type": "display_data"
    },
    {
     "name": "stderr",
     "output_type": "stream",
     "text": [
      "GPU available: True (cuda), used: True\n",
      "TPU available: False, using: 0 TPU cores\n",
      "IPU available: False, using: 0 IPUs\n",
      "HPU available: False, using: 0 HPUs\n",
      "You are using a CUDA device ('NVIDIA GeForce RTX 4070 Ti') that has Tensor Cores. To properly utilize them, you should set `torch.set_float32_matmul_precision('medium' | 'high')` which will trade-off precision for performance. For more details, read https://pytorch.org/docs/stable/generated/torch.set_float32_matmul_precision.html#torch.set_float32_matmul_precision\n",
      "LOCAL_RANK: 0 - CUDA_VISIBLE_DEVICES: [0,1]\n"
     ]
    },
    {
     "name": "stdout",
     "output_type": "stream",
     "text": [
      "Node 6 aggregate model with [5, 7]\n",
      "Performance of Node 6 after aggregation at round 1\n"
     ]
    },
    {
     "data": {
      "application/vnd.jupyter.widget-view+json": {
       "model_id": "2c1a09a240da42d5b17a4b347fd3a4cb",
       "version_major": 2,
       "version_minor": 0
      },
      "text/plain": [
       "Testing: 0it [00:00, ?it/s]"
      ]
     },
     "metadata": {},
     "output_type": "display_data"
    },
    {
     "name": "stdout",
     "output_type": "stream",
     "text": [
      "Epoch end: Test, epoch number: 0\n"
     ]
    },
    {
     "data": {
      "text/html": [
       "<pre style=\"white-space:pre;overflow-x:auto;line-height:normal;font-family:Menlo,'DejaVu Sans Mono',consolas,'Courier New',monospace\">┏━━━━━━━━━━━━━━━━━━━━━━━━━━━┳━━━━━━━━━━━━━━━━━━━━━━━━━━━┓\n",
       "┃<span style=\"font-weight: bold\">   Runningstage.testing    </span>┃<span style=\"font-weight: bold\">                           </span>┃\n",
       "┃<span style=\"font-weight: bold\">          metric           </span>┃<span style=\"font-weight: bold\">       DataLoader 0        </span>┃\n",
       "┡━━━━━━━━━━━━━━━━━━━━━━━━━━━╇━━━━━━━━━━━━━━━━━━━━━━━━━━━┩\n",
       "│<span style=\"color: #008080; text-decoration-color: #008080\">       Test/Accuracy       </span>│<span style=\"color: #800080; text-decoration-color: #800080\">    0.36340194940567017    </span>│\n",
       "│<span style=\"color: #008080; text-decoration-color: #008080\">       Test/F1Score        </span>│<span style=\"color: #800080; text-decoration-color: #800080\">     0.300326943397522     </span>│\n",
       "│<span style=\"color: #008080; text-decoration-color: #008080\">         Test/Loss         </span>│<span style=\"color: #800080; text-decoration-color: #800080\">    1.6556893587112427     </span>│\n",
       "│<span style=\"color: #008080; text-decoration-color: #008080\">      Test/Precision       </span>│<span style=\"color: #800080; text-decoration-color: #800080\">    0.3787749409675598     </span>│\n",
       "│<span style=\"color: #008080; text-decoration-color: #008080\">        Test/Recall        </span>│<span style=\"color: #800080; text-decoration-color: #800080\">    0.36340194940567017    </span>│\n",
       "│<span style=\"color: #008080; text-decoration-color: #008080\">    TestEpoch/Accuracy     </span>│<span style=\"color: #800080; text-decoration-color: #800080\">    0.3700755536556244     </span>│\n",
       "│<span style=\"color: #008080; text-decoration-color: #008080\">     TestEpoch/F1Score     </span>│<span style=\"color: #800080; text-decoration-color: #800080\">    0.31585264205932617    </span>│\n",
       "│<span style=\"color: #008080; text-decoration-color: #008080\">    TestEpoch/Precision    </span>│<span style=\"color: #800080; text-decoration-color: #800080\">    0.5535891056060791     </span>│\n",
       "│<span style=\"color: #008080; text-decoration-color: #008080\">     TestEpoch/Recall      </span>│<span style=\"color: #800080; text-decoration-color: #800080\">    0.3700755536556244     </span>│\n",
       "└───────────────────────────┴───────────────────────────┘\n",
       "</pre>\n"
      ],
      "text/plain": [
       "┏━━━━━━━━━━━━━━━━━━━━━━━━━━━┳━━━━━━━━━━━━━━━━━━━━━━━━━━━┓\n",
       "┃\u001b[1m \u001b[0m\u001b[1m  Runningstage.testing   \u001b[0m\u001b[1m \u001b[0m┃\u001b[1m                           \u001b[0m┃\n",
       "┃\u001b[1m \u001b[0m\u001b[1m         metric          \u001b[0m\u001b[1m \u001b[0m┃\u001b[1m \u001b[0m\u001b[1m      DataLoader 0       \u001b[0m\u001b[1m \u001b[0m┃\n",
       "┡━━━━━━━━━━━━━━━━━━━━━━━━━━━╇━━━━━━━━━━━━━━━━━━━━━━━━━━━┩\n",
       "│\u001b[36m \u001b[0m\u001b[36m      Test/Accuracy      \u001b[0m\u001b[36m \u001b[0m│\u001b[35m \u001b[0m\u001b[35m   0.36340194940567017   \u001b[0m\u001b[35m \u001b[0m│\n",
       "│\u001b[36m \u001b[0m\u001b[36m      Test/F1Score       \u001b[0m\u001b[36m \u001b[0m│\u001b[35m \u001b[0m\u001b[35m    0.300326943397522    \u001b[0m\u001b[35m \u001b[0m│\n",
       "│\u001b[36m \u001b[0m\u001b[36m        Test/Loss        \u001b[0m\u001b[36m \u001b[0m│\u001b[35m \u001b[0m\u001b[35m   1.6556893587112427    \u001b[0m\u001b[35m \u001b[0m│\n",
       "│\u001b[36m \u001b[0m\u001b[36m     Test/Precision      \u001b[0m\u001b[36m \u001b[0m│\u001b[35m \u001b[0m\u001b[35m   0.3787749409675598    \u001b[0m\u001b[35m \u001b[0m│\n",
       "│\u001b[36m \u001b[0m\u001b[36m       Test/Recall       \u001b[0m\u001b[36m \u001b[0m│\u001b[35m \u001b[0m\u001b[35m   0.36340194940567017   \u001b[0m\u001b[35m \u001b[0m│\n",
       "│\u001b[36m \u001b[0m\u001b[36m   TestEpoch/Accuracy    \u001b[0m\u001b[36m \u001b[0m│\u001b[35m \u001b[0m\u001b[35m   0.3700755536556244    \u001b[0m\u001b[35m \u001b[0m│\n",
       "│\u001b[36m \u001b[0m\u001b[36m    TestEpoch/F1Score    \u001b[0m\u001b[36m \u001b[0m│\u001b[35m \u001b[0m\u001b[35m   0.31585264205932617   \u001b[0m\u001b[35m \u001b[0m│\n",
       "│\u001b[36m \u001b[0m\u001b[36m   TestEpoch/Precision   \u001b[0m\u001b[36m \u001b[0m│\u001b[35m \u001b[0m\u001b[35m   0.5535891056060791    \u001b[0m\u001b[35m \u001b[0m│\n",
       "│\u001b[36m \u001b[0m\u001b[36m    TestEpoch/Recall     \u001b[0m\u001b[36m \u001b[0m│\u001b[35m \u001b[0m\u001b[35m   0.3700755536556244    \u001b[0m\u001b[35m \u001b[0m│\n",
       "└───────────────────────────┴───────────────────────────┘\n"
      ]
     },
     "metadata": {},
     "output_type": "display_data"
    },
    {
     "name": "stderr",
     "output_type": "stream",
     "text": [
      "GPU available: True (cuda), used: True\n",
      "TPU available: False, using: 0 TPU cores\n",
      "IPU available: False, using: 0 IPUs\n",
      "HPU available: False, using: 0 HPUs\n",
      "You are using a CUDA device ('NVIDIA GeForce RTX 4070 Ti') that has Tensor Cores. To properly utilize them, you should set `torch.set_float32_matmul_precision('medium' | 'high')` which will trade-off precision for performance. For more details, read https://pytorch.org/docs/stable/generated/torch.set_float32_matmul_precision.html#torch.set_float32_matmul_precision\n",
      "LOCAL_RANK: 0 - CUDA_VISIBLE_DEVICES: [0,1]\n"
     ]
    },
    {
     "name": "stdout",
     "output_type": "stream",
     "text": [
      "Node 7 aggregate model with [6, 8]\n",
      "Performance of Node 7 after aggregation at round 1\n"
     ]
    },
    {
     "data": {
      "application/vnd.jupyter.widget-view+json": {
       "model_id": "b7af59ede5d646eea4c6ab3f7d6ac2f8",
       "version_major": 2,
       "version_minor": 0
      },
      "text/plain": [
       "Testing: 0it [00:00, ?it/s]"
      ]
     },
     "metadata": {},
     "output_type": "display_data"
    },
    {
     "name": "stdout",
     "output_type": "stream",
     "text": [
      "Epoch end: Test, epoch number: 0\n"
     ]
    },
    {
     "data": {
      "text/html": [
       "<pre style=\"white-space:pre;overflow-x:auto;line-height:normal;font-family:Menlo,'DejaVu Sans Mono',consolas,'Courier New',monospace\">┏━━━━━━━━━━━━━━━━━━━━━━━━━━━┳━━━━━━━━━━━━━━━━━━━━━━━━━━━┓\n",
       "┃<span style=\"font-weight: bold\">   Runningstage.testing    </span>┃<span style=\"font-weight: bold\">                           </span>┃\n",
       "┃<span style=\"font-weight: bold\">          metric           </span>┃<span style=\"font-weight: bold\">       DataLoader 0        </span>┃\n",
       "┡━━━━━━━━━━━━━━━━━━━━━━━━━━━╇━━━━━━━━━━━━━━━━━━━━━━━━━━━┩\n",
       "│<span style=\"color: #008080; text-decoration-color: #008080\">       Test/Accuracy       </span>│<span style=\"color: #800080; text-decoration-color: #800080\">    0.6637017726898193     </span>│\n",
       "│<span style=\"color: #008080; text-decoration-color: #008080\">       Test/F1Score        </span>│<span style=\"color: #800080; text-decoration-color: #800080\">    0.6161407828330994     </span>│\n",
       "│<span style=\"color: #008080; text-decoration-color: #008080\">         Test/Loss         </span>│<span style=\"color: #800080; text-decoration-color: #800080\">     1.490371584892273     </span>│\n",
       "│<span style=\"color: #008080; text-decoration-color: #008080\">      Test/Precision       </span>│<span style=\"color: #800080; text-decoration-color: #800080\">    0.6955996751785278     </span>│\n",
       "│<span style=\"color: #008080; text-decoration-color: #008080\">        Test/Recall        </span>│<span style=\"color: #800080; text-decoration-color: #800080\">    0.6637017726898193     </span>│\n",
       "│<span style=\"color: #008080; text-decoration-color: #008080\">    TestEpoch/Accuracy     </span>│<span style=\"color: #800080; text-decoration-color: #800080\">    0.6644071340560913     </span>│\n",
       "│<span style=\"color: #008080; text-decoration-color: #008080\">     TestEpoch/F1Score     </span>│<span style=\"color: #800080; text-decoration-color: #800080\">    0.6323056817054749     </span>│\n",
       "│<span style=\"color: #008080; text-decoration-color: #008080\">    TestEpoch/Precision    </span>│<span style=\"color: #800080; text-decoration-color: #800080\">    0.7074785232543945     </span>│\n",
       "│<span style=\"color: #008080; text-decoration-color: #008080\">     TestEpoch/Recall      </span>│<span style=\"color: #800080; text-decoration-color: #800080\">    0.6644071340560913     </span>│\n",
       "└───────────────────────────┴───────────────────────────┘\n",
       "</pre>\n"
      ],
      "text/plain": [
       "┏━━━━━━━━━━━━━━━━━━━━━━━━━━━┳━━━━━━━━━━━━━━━━━━━━━━━━━━━┓\n",
       "┃\u001b[1m \u001b[0m\u001b[1m  Runningstage.testing   \u001b[0m\u001b[1m \u001b[0m┃\u001b[1m                           \u001b[0m┃\n",
       "┃\u001b[1m \u001b[0m\u001b[1m         metric          \u001b[0m\u001b[1m \u001b[0m┃\u001b[1m \u001b[0m\u001b[1m      DataLoader 0       \u001b[0m\u001b[1m \u001b[0m┃\n",
       "┡━━━━━━━━━━━━━━━━━━━━━━━━━━━╇━━━━━━━━━━━━━━━━━━━━━━━━━━━┩\n",
       "│\u001b[36m \u001b[0m\u001b[36m      Test/Accuracy      \u001b[0m\u001b[36m \u001b[0m│\u001b[35m \u001b[0m\u001b[35m   0.6637017726898193    \u001b[0m\u001b[35m \u001b[0m│\n",
       "│\u001b[36m \u001b[0m\u001b[36m      Test/F1Score       \u001b[0m\u001b[36m \u001b[0m│\u001b[35m \u001b[0m\u001b[35m   0.6161407828330994    \u001b[0m\u001b[35m \u001b[0m│\n",
       "│\u001b[36m \u001b[0m\u001b[36m        Test/Loss        \u001b[0m\u001b[36m \u001b[0m│\u001b[35m \u001b[0m\u001b[35m    1.490371584892273    \u001b[0m\u001b[35m \u001b[0m│\n",
       "│\u001b[36m \u001b[0m\u001b[36m     Test/Precision      \u001b[0m\u001b[36m \u001b[0m│\u001b[35m \u001b[0m\u001b[35m   0.6955996751785278    \u001b[0m\u001b[35m \u001b[0m│\n",
       "│\u001b[36m \u001b[0m\u001b[36m       Test/Recall       \u001b[0m\u001b[36m \u001b[0m│\u001b[35m \u001b[0m\u001b[35m   0.6637017726898193    \u001b[0m\u001b[35m \u001b[0m│\n",
       "│\u001b[36m \u001b[0m\u001b[36m   TestEpoch/Accuracy    \u001b[0m\u001b[36m \u001b[0m│\u001b[35m \u001b[0m\u001b[35m   0.6644071340560913    \u001b[0m\u001b[35m \u001b[0m│\n",
       "│\u001b[36m \u001b[0m\u001b[36m    TestEpoch/F1Score    \u001b[0m\u001b[36m \u001b[0m│\u001b[35m \u001b[0m\u001b[35m   0.6323056817054749    \u001b[0m\u001b[35m \u001b[0m│\n",
       "│\u001b[36m \u001b[0m\u001b[36m   TestEpoch/Precision   \u001b[0m\u001b[36m \u001b[0m│\u001b[35m \u001b[0m\u001b[35m   0.7074785232543945    \u001b[0m\u001b[35m \u001b[0m│\n",
       "│\u001b[36m \u001b[0m\u001b[36m    TestEpoch/Recall     \u001b[0m\u001b[36m \u001b[0m│\u001b[35m \u001b[0m\u001b[35m   0.6644071340560913    \u001b[0m\u001b[35m \u001b[0m│\n",
       "└───────────────────────────┴───────────────────────────┘\n"
      ]
     },
     "metadata": {},
     "output_type": "display_data"
    },
    {
     "name": "stderr",
     "output_type": "stream",
     "text": [
      "GPU available: True (cuda), used: True\n",
      "TPU available: False, using: 0 TPU cores\n",
      "IPU available: False, using: 0 IPUs\n",
      "HPU available: False, using: 0 HPUs\n",
      "You are using a CUDA device ('NVIDIA GeForce RTX 4070 Ti') that has Tensor Cores. To properly utilize them, you should set `torch.set_float32_matmul_precision('medium' | 'high')` which will trade-off precision for performance. For more details, read https://pytorch.org/docs/stable/generated/torch.set_float32_matmul_precision.html#torch.set_float32_matmul_precision\n",
      "LOCAL_RANK: 0 - CUDA_VISIBLE_DEVICES: [0,1]\n"
     ]
    },
    {
     "name": "stdout",
     "output_type": "stream",
     "text": [
      "Node 8 aggregate model with [7, 9]\n",
      "Performance of Node 8 after aggregation at round 1\n"
     ]
    },
    {
     "data": {
      "application/vnd.jupyter.widget-view+json": {
       "model_id": "ecadb8515f3f40698f8c9742344bd751",
       "version_major": 2,
       "version_minor": 0
      },
      "text/plain": [
       "Testing: 0it [00:00, ?it/s]"
      ]
     },
     "metadata": {},
     "output_type": "display_data"
    },
    {
     "name": "stdout",
     "output_type": "stream",
     "text": [
      "Epoch end: Test, epoch number: 0\n"
     ]
    },
    {
     "data": {
      "text/html": [
       "<pre style=\"white-space:pre;overflow-x:auto;line-height:normal;font-family:Menlo,'DejaVu Sans Mono',consolas,'Courier New',monospace\">┏━━━━━━━━━━━━━━━━━━━━━━━━━━━┳━━━━━━━━━━━━━━━━━━━━━━━━━━━┓\n",
       "┃<span style=\"font-weight: bold\">   Runningstage.testing    </span>┃<span style=\"font-weight: bold\">                           </span>┃\n",
       "┃<span style=\"font-weight: bold\">          metric           </span>┃<span style=\"font-weight: bold\">       DataLoader 0        </span>┃\n",
       "┡━━━━━━━━━━━━━━━━━━━━━━━━━━━╇━━━━━━━━━━━━━━━━━━━━━━━━━━━┩\n",
       "│<span style=\"color: #008080; text-decoration-color: #008080\">       Test/Accuracy       </span>│<span style=\"color: #800080; text-decoration-color: #800080\">    0.5627517700195312     </span>│\n",
       "│<span style=\"color: #008080; text-decoration-color: #008080\">       Test/F1Score        </span>│<span style=\"color: #800080; text-decoration-color: #800080\">    0.5212018489837646     </span>│\n",
       "│<span style=\"color: #008080; text-decoration-color: #008080\">         Test/Loss         </span>│<span style=\"color: #800080; text-decoration-color: #800080\">    1.6381492614746094     </span>│\n",
       "│<span style=\"color: #008080; text-decoration-color: #008080\">      Test/Precision       </span>│<span style=\"color: #800080; text-decoration-color: #800080\">     0.630868136882782     </span>│\n",
       "│<span style=\"color: #008080; text-decoration-color: #008080\">        Test/Recall        </span>│<span style=\"color: #800080; text-decoration-color: #800080\">    0.5627517700195312     </span>│\n",
       "│<span style=\"color: #008080; text-decoration-color: #008080\">    TestEpoch/Accuracy     </span>│<span style=\"color: #800080; text-decoration-color: #800080\">    0.5596657395362854     </span>│\n",
       "│<span style=\"color: #008080; text-decoration-color: #008080\">     TestEpoch/F1Score     </span>│<span style=\"color: #800080; text-decoration-color: #800080\">    0.5387648940086365     </span>│\n",
       "│<span style=\"color: #008080; text-decoration-color: #008080\">    TestEpoch/Precision    </span>│<span style=\"color: #800080; text-decoration-color: #800080\">    0.6388947367668152     </span>│\n",
       "│<span style=\"color: #008080; text-decoration-color: #008080\">     TestEpoch/Recall      </span>│<span style=\"color: #800080; text-decoration-color: #800080\">    0.5596657395362854     </span>│\n",
       "└───────────────────────────┴───────────────────────────┘\n",
       "</pre>\n"
      ],
      "text/plain": [
       "┏━━━━━━━━━━━━━━━━━━━━━━━━━━━┳━━━━━━━━━━━━━━━━━━━━━━━━━━━┓\n",
       "┃\u001b[1m \u001b[0m\u001b[1m  Runningstage.testing   \u001b[0m\u001b[1m \u001b[0m┃\u001b[1m                           \u001b[0m┃\n",
       "┃\u001b[1m \u001b[0m\u001b[1m         metric          \u001b[0m\u001b[1m \u001b[0m┃\u001b[1m \u001b[0m\u001b[1m      DataLoader 0       \u001b[0m\u001b[1m \u001b[0m┃\n",
       "┡━━━━━━━━━━━━━━━━━━━━━━━━━━━╇━━━━━━━━━━━━━━━━━━━━━━━━━━━┩\n",
       "│\u001b[36m \u001b[0m\u001b[36m      Test/Accuracy      \u001b[0m\u001b[36m \u001b[0m│\u001b[35m \u001b[0m\u001b[35m   0.5627517700195312    \u001b[0m\u001b[35m \u001b[0m│\n",
       "│\u001b[36m \u001b[0m\u001b[36m      Test/F1Score       \u001b[0m\u001b[36m \u001b[0m│\u001b[35m \u001b[0m\u001b[35m   0.5212018489837646    \u001b[0m\u001b[35m \u001b[0m│\n",
       "│\u001b[36m \u001b[0m\u001b[36m        Test/Loss        \u001b[0m\u001b[36m \u001b[0m│\u001b[35m \u001b[0m\u001b[35m   1.6381492614746094    \u001b[0m\u001b[35m \u001b[0m│\n",
       "│\u001b[36m \u001b[0m\u001b[36m     Test/Precision      \u001b[0m\u001b[36m \u001b[0m│\u001b[35m \u001b[0m\u001b[35m    0.630868136882782    \u001b[0m\u001b[35m \u001b[0m│\n",
       "│\u001b[36m \u001b[0m\u001b[36m       Test/Recall       \u001b[0m\u001b[36m \u001b[0m│\u001b[35m \u001b[0m\u001b[35m   0.5627517700195312    \u001b[0m\u001b[35m \u001b[0m│\n",
       "│\u001b[36m \u001b[0m\u001b[36m   TestEpoch/Accuracy    \u001b[0m\u001b[36m \u001b[0m│\u001b[35m \u001b[0m\u001b[35m   0.5596657395362854    \u001b[0m\u001b[35m \u001b[0m│\n",
       "│\u001b[36m \u001b[0m\u001b[36m    TestEpoch/F1Score    \u001b[0m\u001b[36m \u001b[0m│\u001b[35m \u001b[0m\u001b[35m   0.5387648940086365    \u001b[0m\u001b[35m \u001b[0m│\n",
       "│\u001b[36m \u001b[0m\u001b[36m   TestEpoch/Precision   \u001b[0m\u001b[36m \u001b[0m│\u001b[35m \u001b[0m\u001b[35m   0.6388947367668152    \u001b[0m\u001b[35m \u001b[0m│\n",
       "│\u001b[36m \u001b[0m\u001b[36m    TestEpoch/Recall     \u001b[0m\u001b[36m \u001b[0m│\u001b[35m \u001b[0m\u001b[35m   0.5596657395362854    \u001b[0m\u001b[35m \u001b[0m│\n",
       "└───────────────────────────┴───────────────────────────┘\n"
      ]
     },
     "metadata": {},
     "output_type": "display_data"
    },
    {
     "name": "stderr",
     "output_type": "stream",
     "text": [
      "GPU available: True (cuda), used: True\n",
      "TPU available: False, using: 0 TPU cores\n",
      "IPU available: False, using: 0 IPUs\n",
      "HPU available: False, using: 0 HPUs\n",
      "You are using a CUDA device ('NVIDIA GeForce RTX 4070 Ti') that has Tensor Cores. To properly utilize them, you should set `torch.set_float32_matmul_precision('medium' | 'high')` which will trade-off precision for performance. For more details, read https://pytorch.org/docs/stable/generated/torch.set_float32_matmul_precision.html#torch.set_float32_matmul_precision\n",
      "LOCAL_RANK: 0 - CUDA_VISIBLE_DEVICES: [0,1]\n"
     ]
    },
    {
     "name": "stdout",
     "output_type": "stream",
     "text": [
      "Node 9 aggregate model with [0, 8]\n",
      "Performance of Node 9 after aggregation at round 1\n"
     ]
    },
    {
     "data": {
      "application/vnd.jupyter.widget-view+json": {
       "model_id": "0558423be4cd4fc0b4444ddb7bb45838",
       "version_major": 2,
       "version_minor": 0
      },
      "text/plain": [
       "Testing: 0it [00:00, ?it/s]"
      ]
     },
     "metadata": {},
     "output_type": "display_data"
    },
    {
     "name": "stdout",
     "output_type": "stream",
     "text": [
      "Epoch end: Test, epoch number: 0\n"
     ]
    },
    {
     "data": {
      "text/html": [
       "<pre style=\"white-space:pre;overflow-x:auto;line-height:normal;font-family:Menlo,'DejaVu Sans Mono',consolas,'Courier New',monospace\">┏━━━━━━━━━━━━━━━━━━━━━━━━━━━┳━━━━━━━━━━━━━━━━━━━━━━━━━━━┓\n",
       "┃<span style=\"font-weight: bold\">   Runningstage.testing    </span>┃<span style=\"font-weight: bold\">                           </span>┃\n",
       "┃<span style=\"font-weight: bold\">          metric           </span>┃<span style=\"font-weight: bold\">       DataLoader 0        </span>┃\n",
       "┡━━━━━━━━━━━━━━━━━━━━━━━━━━━╇━━━━━━━━━━━━━━━━━━━━━━━━━━━┩\n",
       "│<span style=\"color: #008080; text-decoration-color: #008080\">       Test/Accuracy       </span>│<span style=\"color: #800080; text-decoration-color: #800080\">     0.455629825592041     </span>│\n",
       "│<span style=\"color: #008080; text-decoration-color: #008080\">       Test/F1Score        </span>│<span style=\"color: #800080; text-decoration-color: #800080\">    0.41098636388778687    </span>│\n",
       "│<span style=\"color: #008080; text-decoration-color: #008080\">         Test/Loss         </span>│<span style=\"color: #800080; text-decoration-color: #800080\">    1.6831493377685547     </span>│\n",
       "│<span style=\"color: #008080; text-decoration-color: #008080\">      Test/Precision       </span>│<span style=\"color: #800080; text-decoration-color: #800080\">    0.5029821395874023     </span>│\n",
       "│<span style=\"color: #008080; text-decoration-color: #008080\">        Test/Recall        </span>│<span style=\"color: #800080; text-decoration-color: #800080\">     0.455629825592041     </span>│\n",
       "│<span style=\"color: #008080; text-decoration-color: #008080\">    TestEpoch/Accuracy     </span>│<span style=\"color: #800080; text-decoration-color: #800080\">    0.4603094458580017     </span>│\n",
       "│<span style=\"color: #008080; text-decoration-color: #008080\">     TestEpoch/F1Score     </span>│<span style=\"color: #800080; text-decoration-color: #800080\">    0.42986205220222473    </span>│\n",
       "│<span style=\"color: #008080; text-decoration-color: #008080\">    TestEpoch/Precision    </span>│<span style=\"color: #800080; text-decoration-color: #800080\">    0.5905460119247437     </span>│\n",
       "│<span style=\"color: #008080; text-decoration-color: #008080\">     TestEpoch/Recall      </span>│<span style=\"color: #800080; text-decoration-color: #800080\">    0.4603094458580017     </span>│\n",
       "└───────────────────────────┴───────────────────────────┘\n",
       "</pre>\n"
      ],
      "text/plain": [
       "┏━━━━━━━━━━━━━━━━━━━━━━━━━━━┳━━━━━━━━━━━━━━━━━━━━━━━━━━━┓\n",
       "┃\u001b[1m \u001b[0m\u001b[1m  Runningstage.testing   \u001b[0m\u001b[1m \u001b[0m┃\u001b[1m                           \u001b[0m┃\n",
       "┃\u001b[1m \u001b[0m\u001b[1m         metric          \u001b[0m\u001b[1m \u001b[0m┃\u001b[1m \u001b[0m\u001b[1m      DataLoader 0       \u001b[0m\u001b[1m \u001b[0m┃\n",
       "┡━━━━━━━━━━━━━━━━━━━━━━━━━━━╇━━━━━━━━━━━━━━━━━━━━━━━━━━━┩\n",
       "│\u001b[36m \u001b[0m\u001b[36m      Test/Accuracy      \u001b[0m\u001b[36m \u001b[0m│\u001b[35m \u001b[0m\u001b[35m    0.455629825592041    \u001b[0m\u001b[35m \u001b[0m│\n",
       "│\u001b[36m \u001b[0m\u001b[36m      Test/F1Score       \u001b[0m\u001b[36m \u001b[0m│\u001b[35m \u001b[0m\u001b[35m   0.41098636388778687   \u001b[0m\u001b[35m \u001b[0m│\n",
       "│\u001b[36m \u001b[0m\u001b[36m        Test/Loss        \u001b[0m\u001b[36m \u001b[0m│\u001b[35m \u001b[0m\u001b[35m   1.6831493377685547    \u001b[0m\u001b[35m \u001b[0m│\n",
       "│\u001b[36m \u001b[0m\u001b[36m     Test/Precision      \u001b[0m\u001b[36m \u001b[0m│\u001b[35m \u001b[0m\u001b[35m   0.5029821395874023    \u001b[0m\u001b[35m \u001b[0m│\n",
       "│\u001b[36m \u001b[0m\u001b[36m       Test/Recall       \u001b[0m\u001b[36m \u001b[0m│\u001b[35m \u001b[0m\u001b[35m    0.455629825592041    \u001b[0m\u001b[35m \u001b[0m│\n",
       "│\u001b[36m \u001b[0m\u001b[36m   TestEpoch/Accuracy    \u001b[0m\u001b[36m \u001b[0m│\u001b[35m \u001b[0m\u001b[35m   0.4603094458580017    \u001b[0m\u001b[35m \u001b[0m│\n",
       "│\u001b[36m \u001b[0m\u001b[36m    TestEpoch/F1Score    \u001b[0m\u001b[36m \u001b[0m│\u001b[35m \u001b[0m\u001b[35m   0.42986205220222473   \u001b[0m\u001b[35m \u001b[0m│\n",
       "│\u001b[36m \u001b[0m\u001b[36m   TestEpoch/Precision   \u001b[0m\u001b[36m \u001b[0m│\u001b[35m \u001b[0m\u001b[35m   0.5905460119247437    \u001b[0m\u001b[35m \u001b[0m│\n",
       "│\u001b[36m \u001b[0m\u001b[36m    TestEpoch/Recall     \u001b[0m\u001b[36m \u001b[0m│\u001b[35m \u001b[0m\u001b[35m   0.4603094458580017    \u001b[0m\u001b[35m \u001b[0m│\n",
       "└───────────────────────────┴───────────────────────────┘\n"
      ]
     },
     "metadata": {},
     "output_type": "display_data"
    },
    {
     "name": "stderr",
     "output_type": "stream",
     "text": [
      "GPU available: True (cuda), used: True\n",
      "TPU available: False, using: 0 TPU cores\n",
      "IPU available: False, using: 0 IPUs\n",
      "HPU available: False, using: 0 HPUs\n",
      "You are using a CUDA device ('NVIDIA GeForce RTX 4070 Ti') that has Tensor Cores. To properly utilize them, you should set `torch.set_float32_matmul_precision('medium' | 'high')` which will trade-off precision for performance. For more details, read https://pytorch.org/docs/stable/generated/torch.set_float32_matmul_precision.html#torch.set_float32_matmul_precision\n",
      "d:\\git\\beidou\\venv\\Lib\\site-packages\\lightning\\pytorch\\callbacks\\model_checkpoint.py:612: UserWarning: Checkpoint directory d:\\git\\beidou/experiments/10_clients_alpha_100_MNIST_ring_03_06_2024_16_51_13\\node_0\\version_0\\checkpoints exists and is not empty.\n",
      "  rank_zero_warn(f\"Checkpoint directory {dirpath} exists and is not empty.\")\n",
      "LOCAL_RANK: 0 - CUDA_VISIBLE_DEVICES: [0,1]\n",
      "\n",
      "  | Name          | Type                      | Params | In sizes | Out sizes\n",
      "-----------------------------------------------------------------------------------\n",
      "0 | train_metrics | MetricCollection          | 0      | ?        | ?        \n",
      "1 | val_metrics   | MetricCollection          | 0      | ?        | ?        \n",
      "2 | test_metrics  | MetricCollection          | 0      | ?        | ?        \n",
      "3 | cm            | MulticlassConfusionMatrix | 0      | ?        | ?        \n",
      "4 | criterion     | CrossEntropyLoss          | 0      | ?        | ?        \n",
      "5 | l1            | Linear                    | 200 K  | [1, 784] | [1, 256] \n",
      "6 | l2            | Linear                    | 32.9 K | [1, 256] | [1, 128] \n",
      "7 | l3            | Linear                    | 1.3 K  | [1, 128] | [1, 10]  \n",
      "-----------------------------------------------------------------------------------\n",
      "235 K     Trainable params\n",
      "0         Non-trainable params\n",
      "235 K     Total params\n",
      "0.941     Total estimated model params size (MB)\n"
     ]
    },
    {
     "name": "stdout",
     "output_type": "stream",
     "text": [
      "Epoch end: Validation, epoch number: 0\n",
      "Epoch end: Validation, epoch number: 1\n",
      "Epoch end: Train, epoch number: 0\n",
      "Epoch end: Validation, epoch number: 2\n",
      "Epoch end: Train, epoch number: 1\n"
     ]
    },
    {
     "name": "stderr",
     "output_type": "stream",
     "text": [
      "`Trainer.fit` stopped: `max_epochs=3` reached.\n",
      "You are using a CUDA device ('NVIDIA GeForce RTX 4070 Ti') that has Tensor Cores. To properly utilize them, you should set `torch.set_float32_matmul_precision('medium' | 'high')` which will trade-off precision for performance. For more details, read https://pytorch.org/docs/stable/generated/torch.set_float32_matmul_precision.html#torch.set_float32_matmul_precision\n"
     ]
    },
    {
     "name": "stdout",
     "output_type": "stream",
     "text": [
      "Epoch end: Validation, epoch number: 3\n",
      "Epoch end: Train, epoch number: 2\n",
      "Performance of Node 0 before aggregation at round 2\n"
     ]
    },
    {
     "name": "stderr",
     "output_type": "stream",
     "text": [
      "LOCAL_RANK: 0 - CUDA_VISIBLE_DEVICES: [0,1]\n"
     ]
    },
    {
     "name": "stdout",
     "output_type": "stream",
     "text": [
      "Epoch end: Test, epoch number: 1\n"
     ]
    },
    {
     "data": {
      "text/html": [
       "<pre style=\"white-space:pre;overflow-x:auto;line-height:normal;font-family:Menlo,'DejaVu Sans Mono',consolas,'Courier New',monospace\">┏━━━━━━━━━━━━━━━━━━━━━━━━━━━┳━━━━━━━━━━━━━━━━━━━━━━━━━━━┓\n",
       "┃<span style=\"font-weight: bold\">   Runningstage.testing    </span>┃<span style=\"font-weight: bold\">                           </span>┃\n",
       "┃<span style=\"font-weight: bold\">          metric           </span>┃<span style=\"font-weight: bold\">       DataLoader 0        </span>┃\n",
       "┡━━━━━━━━━━━━━━━━━━━━━━━━━━━╇━━━━━━━━━━━━━━━━━━━━━━━━━━━┩\n",
       "│<span style=\"color: #008080; text-decoration-color: #008080\">       Test/Accuracy       </span>│<span style=\"color: #800080; text-decoration-color: #800080\">    0.8996607661247253     </span>│\n",
       "│<span style=\"color: #008080; text-decoration-color: #008080\">       Test/F1Score        </span>│<span style=\"color: #800080; text-decoration-color: #800080\">    0.8940332531929016     </span>│\n",
       "│<span style=\"color: #008080; text-decoration-color: #008080\">         Test/Loss         </span>│<span style=\"color: #800080; text-decoration-color: #800080\">    0.33253857493400574    </span>│\n",
       "│<span style=\"color: #008080; text-decoration-color: #008080\">      Test/Precision       </span>│<span style=\"color: #800080; text-decoration-color: #800080\">    0.9042016863822937     </span>│\n",
       "│<span style=\"color: #008080; text-decoration-color: #008080\">        Test/Recall        </span>│<span style=\"color: #800080; text-decoration-color: #800080\">    0.8996607661247253     </span>│\n",
       "│<span style=\"color: #008080; text-decoration-color: #008080\">    TestEpoch/Accuracy     </span>│<span style=\"color: #800080; text-decoration-color: #800080\">     0.902703046798706     </span>│\n",
       "│<span style=\"color: #008080; text-decoration-color: #008080\">     TestEpoch/F1Score     </span>│<span style=\"color: #800080; text-decoration-color: #800080\">    0.9025099277496338     </span>│\n",
       "│<span style=\"color: #008080; text-decoration-color: #008080\">    TestEpoch/Precision    </span>│<span style=\"color: #800080; text-decoration-color: #800080\">    0.9055227041244507     </span>│\n",
       "│<span style=\"color: #008080; text-decoration-color: #008080\">     TestEpoch/Recall      </span>│<span style=\"color: #800080; text-decoration-color: #800080\">     0.902703046798706     </span>│\n",
       "└───────────────────────────┴───────────────────────────┘\n",
       "</pre>\n"
      ],
      "text/plain": [
       "┏━━━━━━━━━━━━━━━━━━━━━━━━━━━┳━━━━━━━━━━━━━━━━━━━━━━━━━━━┓\n",
       "┃\u001b[1m \u001b[0m\u001b[1m  Runningstage.testing   \u001b[0m\u001b[1m \u001b[0m┃\u001b[1m                           \u001b[0m┃\n",
       "┃\u001b[1m \u001b[0m\u001b[1m         metric          \u001b[0m\u001b[1m \u001b[0m┃\u001b[1m \u001b[0m\u001b[1m      DataLoader 0       \u001b[0m\u001b[1m \u001b[0m┃\n",
       "┡━━━━━━━━━━━━━━━━━━━━━━━━━━━╇━━━━━━━━━━━━━━━━━━━━━━━━━━━┩\n",
       "│\u001b[36m \u001b[0m\u001b[36m      Test/Accuracy      \u001b[0m\u001b[36m \u001b[0m│\u001b[35m \u001b[0m\u001b[35m   0.8996607661247253    \u001b[0m\u001b[35m \u001b[0m│\n",
       "│\u001b[36m \u001b[0m\u001b[36m      Test/F1Score       \u001b[0m\u001b[36m \u001b[0m│\u001b[35m \u001b[0m\u001b[35m   0.8940332531929016    \u001b[0m\u001b[35m \u001b[0m│\n",
       "│\u001b[36m \u001b[0m\u001b[36m        Test/Loss        \u001b[0m\u001b[36m \u001b[0m│\u001b[35m \u001b[0m\u001b[35m   0.33253857493400574   \u001b[0m\u001b[35m \u001b[0m│\n",
       "│\u001b[36m \u001b[0m\u001b[36m     Test/Precision      \u001b[0m\u001b[36m \u001b[0m│\u001b[35m \u001b[0m\u001b[35m   0.9042016863822937    \u001b[0m\u001b[35m \u001b[0m│\n",
       "│\u001b[36m \u001b[0m\u001b[36m       Test/Recall       \u001b[0m\u001b[36m \u001b[0m│\u001b[35m \u001b[0m\u001b[35m   0.8996607661247253    \u001b[0m\u001b[35m \u001b[0m│\n",
       "│\u001b[36m \u001b[0m\u001b[36m   TestEpoch/Accuracy    \u001b[0m\u001b[36m \u001b[0m│\u001b[35m \u001b[0m\u001b[35m    0.902703046798706    \u001b[0m\u001b[35m \u001b[0m│\n",
       "│\u001b[36m \u001b[0m\u001b[36m    TestEpoch/F1Score    \u001b[0m\u001b[36m \u001b[0m│\u001b[35m \u001b[0m\u001b[35m   0.9025099277496338    \u001b[0m\u001b[35m \u001b[0m│\n",
       "│\u001b[36m \u001b[0m\u001b[36m   TestEpoch/Precision   \u001b[0m\u001b[36m \u001b[0m│\u001b[35m \u001b[0m\u001b[35m   0.9055227041244507    \u001b[0m\u001b[35m \u001b[0m│\n",
       "│\u001b[36m \u001b[0m\u001b[36m    TestEpoch/Recall     \u001b[0m\u001b[36m \u001b[0m│\u001b[35m \u001b[0m\u001b[35m    0.902703046798706    \u001b[0m\u001b[35m \u001b[0m│\n",
       "└───────────────────────────┴───────────────────────────┘\n"
      ]
     },
     "metadata": {},
     "output_type": "display_data"
    },
    {
     "name": "stderr",
     "output_type": "stream",
     "text": [
      "GPU available: True (cuda), used: True\n",
      "TPU available: False, using: 0 TPU cores\n",
      "IPU available: False, using: 0 IPUs\n",
      "HPU available: False, using: 0 HPUs\n",
      "You are using a CUDA device ('NVIDIA GeForce RTX 4070 Ti') that has Tensor Cores. To properly utilize them, you should set `torch.set_float32_matmul_precision('medium' | 'high')` which will trade-off precision for performance. For more details, read https://pytorch.org/docs/stable/generated/torch.set_float32_matmul_precision.html#torch.set_float32_matmul_precision\n",
      "d:\\git\\beidou\\venv\\Lib\\site-packages\\lightning\\pytorch\\callbacks\\model_checkpoint.py:612: UserWarning: Checkpoint directory d:\\git\\beidou/experiments/10_clients_alpha_100_MNIST_ring_03_06_2024_16_51_13\\node_1\\version_0\\checkpoints exists and is not empty.\n",
      "  rank_zero_warn(f\"Checkpoint directory {dirpath} exists and is not empty.\")\n",
      "LOCAL_RANK: 0 - CUDA_VISIBLE_DEVICES: [0,1]\n",
      "\n",
      "  | Name          | Type                      | Params | In sizes | Out sizes\n",
      "-----------------------------------------------------------------------------------\n",
      "0 | train_metrics | MetricCollection          | 0      | ?        | ?        \n",
      "1 | val_metrics   | MetricCollection          | 0      | ?        | ?        \n",
      "2 | test_metrics  | MetricCollection          | 0      | ?        | ?        \n",
      "3 | cm            | MulticlassConfusionMatrix | 0      | ?        | ?        \n",
      "4 | criterion     | CrossEntropyLoss          | 0      | ?        | ?        \n",
      "5 | l1            | Linear                    | 200 K  | [1, 784] | [1, 256] \n",
      "6 | l2            | Linear                    | 32.9 K | [1, 256] | [1, 128] \n",
      "7 | l3            | Linear                    | 1.3 K  | [1, 128] | [1, 10]  \n",
      "-----------------------------------------------------------------------------------\n",
      "235 K     Trainable params\n",
      "0         Non-trainable params\n",
      "235 K     Total params\n",
      "0.941     Total estimated model params size (MB)\n"
     ]
    },
    {
     "name": "stdout",
     "output_type": "stream",
     "text": [
      "Epoch end: Validation, epoch number: 0\n",
      "Epoch end: Validation, epoch number: 1\n",
      "Epoch end: Train, epoch number: 0\n",
      "Epoch end: Validation, epoch number: 2\n",
      "Epoch end: Train, epoch number: 1\n"
     ]
    },
    {
     "name": "stderr",
     "output_type": "stream",
     "text": [
      "`Trainer.fit` stopped: `max_epochs=3` reached.\n",
      "You are using a CUDA device ('NVIDIA GeForce RTX 4070 Ti') that has Tensor Cores. To properly utilize them, you should set `torch.set_float32_matmul_precision('medium' | 'high')` which will trade-off precision for performance. For more details, read https://pytorch.org/docs/stable/generated/torch.set_float32_matmul_precision.html#torch.set_float32_matmul_precision\n"
     ]
    },
    {
     "name": "stdout",
     "output_type": "stream",
     "text": [
      "Epoch end: Validation, epoch number: 3\n",
      "Epoch end: Train, epoch number: 2\n",
      "Performance of Node 1 before aggregation at round 2\n"
     ]
    },
    {
     "name": "stderr",
     "output_type": "stream",
     "text": [
      "LOCAL_RANK: 0 - CUDA_VISIBLE_DEVICES: [0,1]\n"
     ]
    },
    {
     "name": "stdout",
     "output_type": "stream",
     "text": [
      "Epoch end: Test, epoch number: 1\n"
     ]
    },
    {
     "data": {
      "text/html": [
       "<pre style=\"white-space:pre;overflow-x:auto;line-height:normal;font-family:Menlo,'DejaVu Sans Mono',consolas,'Courier New',monospace\">┏━━━━━━━━━━━━━━━━━━━━━━━━━━━┳━━━━━━━━━━━━━━━━━━━━━━━━━━━┓\n",
       "┃<span style=\"font-weight: bold\">   Runningstage.testing    </span>┃<span style=\"font-weight: bold\">                           </span>┃\n",
       "┃<span style=\"font-weight: bold\">          metric           </span>┃<span style=\"font-weight: bold\">       DataLoader 0        </span>┃\n",
       "┡━━━━━━━━━━━━━━━━━━━━━━━━━━━╇━━━━━━━━━━━━━━━━━━━━━━━━━━━┩\n",
       "│<span style=\"color: #008080; text-decoration-color: #008080\">       Test/Accuracy       </span>│<span style=\"color: #800080; text-decoration-color: #800080\">     0.907427191734314     </span>│\n",
       "│<span style=\"color: #008080; text-decoration-color: #008080\">       Test/F1Score        </span>│<span style=\"color: #800080; text-decoration-color: #800080\">    0.9003332853317261     </span>│\n",
       "│<span style=\"color: #008080; text-decoration-color: #008080\">         Test/Loss         </span>│<span style=\"color: #800080; text-decoration-color: #800080\">    0.26317375898361206    </span>│\n",
       "│<span style=\"color: #008080; text-decoration-color: #008080\">      Test/Precision       </span>│<span style=\"color: #800080; text-decoration-color: #800080\">    0.9130131006240845     </span>│\n",
       "│<span style=\"color: #008080; text-decoration-color: #008080\">        Test/Recall        </span>│<span style=\"color: #800080; text-decoration-color: #800080\">     0.907427191734314     </span>│\n",
       "│<span style=\"color: #008080; text-decoration-color: #008080\">    TestEpoch/Accuracy     </span>│<span style=\"color: #800080; text-decoration-color: #800080\">    0.9065600037574768     </span>│\n",
       "│<span style=\"color: #008080; text-decoration-color: #008080\">     TestEpoch/F1Score     </span>│<span style=\"color: #800080; text-decoration-color: #800080\">    0.9059292674064636     </span>│\n",
       "│<span style=\"color: #008080; text-decoration-color: #008080\">    TestEpoch/Precision    </span>│<span style=\"color: #800080; text-decoration-color: #800080\">    0.9105584621429443     </span>│\n",
       "│<span style=\"color: #008080; text-decoration-color: #008080\">     TestEpoch/Recall      </span>│<span style=\"color: #800080; text-decoration-color: #800080\">    0.9065600037574768     </span>│\n",
       "└───────────────────────────┴───────────────────────────┘\n",
       "</pre>\n"
      ],
      "text/plain": [
       "┏━━━━━━━━━━━━━━━━━━━━━━━━━━━┳━━━━━━━━━━━━━━━━━━━━━━━━━━━┓\n",
       "┃\u001b[1m \u001b[0m\u001b[1m  Runningstage.testing   \u001b[0m\u001b[1m \u001b[0m┃\u001b[1m                           \u001b[0m┃\n",
       "┃\u001b[1m \u001b[0m\u001b[1m         metric          \u001b[0m\u001b[1m \u001b[0m┃\u001b[1m \u001b[0m\u001b[1m      DataLoader 0       \u001b[0m\u001b[1m \u001b[0m┃\n",
       "┡━━━━━━━━━━━━━━━━━━━━━━━━━━━╇━━━━━━━━━━━━━━━━━━━━━━━━━━━┩\n",
       "│\u001b[36m \u001b[0m\u001b[36m      Test/Accuracy      \u001b[0m\u001b[36m \u001b[0m│\u001b[35m \u001b[0m\u001b[35m    0.907427191734314    \u001b[0m\u001b[35m \u001b[0m│\n",
       "│\u001b[36m \u001b[0m\u001b[36m      Test/F1Score       \u001b[0m\u001b[36m \u001b[0m│\u001b[35m \u001b[0m\u001b[35m   0.9003332853317261    \u001b[0m\u001b[35m \u001b[0m│\n",
       "│\u001b[36m \u001b[0m\u001b[36m        Test/Loss        \u001b[0m\u001b[36m \u001b[0m│\u001b[35m \u001b[0m\u001b[35m   0.26317375898361206   \u001b[0m\u001b[35m \u001b[0m│\n",
       "│\u001b[36m \u001b[0m\u001b[36m     Test/Precision      \u001b[0m\u001b[36m \u001b[0m│\u001b[35m \u001b[0m\u001b[35m   0.9130131006240845    \u001b[0m\u001b[35m \u001b[0m│\n",
       "│\u001b[36m \u001b[0m\u001b[36m       Test/Recall       \u001b[0m\u001b[36m \u001b[0m│\u001b[35m \u001b[0m\u001b[35m    0.907427191734314    \u001b[0m\u001b[35m \u001b[0m│\n",
       "│\u001b[36m \u001b[0m\u001b[36m   TestEpoch/Accuracy    \u001b[0m\u001b[36m \u001b[0m│\u001b[35m \u001b[0m\u001b[35m   0.9065600037574768    \u001b[0m\u001b[35m \u001b[0m│\n",
       "│\u001b[36m \u001b[0m\u001b[36m    TestEpoch/F1Score    \u001b[0m\u001b[36m \u001b[0m│\u001b[35m \u001b[0m\u001b[35m   0.9059292674064636    \u001b[0m\u001b[35m \u001b[0m│\n",
       "│\u001b[36m \u001b[0m\u001b[36m   TestEpoch/Precision   \u001b[0m\u001b[36m \u001b[0m│\u001b[35m \u001b[0m\u001b[35m   0.9105584621429443    \u001b[0m\u001b[35m \u001b[0m│\n",
       "│\u001b[36m \u001b[0m\u001b[36m    TestEpoch/Recall     \u001b[0m\u001b[36m \u001b[0m│\u001b[35m \u001b[0m\u001b[35m   0.9065600037574768    \u001b[0m\u001b[35m \u001b[0m│\n",
       "└───────────────────────────┴───────────────────────────┘\n"
      ]
     },
     "metadata": {},
     "output_type": "display_data"
    },
    {
     "name": "stderr",
     "output_type": "stream",
     "text": [
      "GPU available: True (cuda), used: True\n",
      "TPU available: False, using: 0 TPU cores\n",
      "IPU available: False, using: 0 IPUs\n",
      "HPU available: False, using: 0 HPUs\n",
      "You are using a CUDA device ('NVIDIA GeForce RTX 4070 Ti') that has Tensor Cores. To properly utilize them, you should set `torch.set_float32_matmul_precision('medium' | 'high')` which will trade-off precision for performance. For more details, read https://pytorch.org/docs/stable/generated/torch.set_float32_matmul_precision.html#torch.set_float32_matmul_precision\n",
      "d:\\git\\beidou\\venv\\Lib\\site-packages\\lightning\\pytorch\\callbacks\\model_checkpoint.py:612: UserWarning: Checkpoint directory d:\\git\\beidou/experiments/10_clients_alpha_100_MNIST_ring_03_06_2024_16_51_13\\node_2\\version_0\\checkpoints exists and is not empty.\n",
      "  rank_zero_warn(f\"Checkpoint directory {dirpath} exists and is not empty.\")\n",
      "LOCAL_RANK: 0 - CUDA_VISIBLE_DEVICES: [0,1]\n",
      "\n",
      "  | Name          | Type                      | Params | In sizes | Out sizes\n",
      "-----------------------------------------------------------------------------------\n",
      "0 | train_metrics | MetricCollection          | 0      | ?        | ?        \n",
      "1 | val_metrics   | MetricCollection          | 0      | ?        | ?        \n",
      "2 | test_metrics  | MetricCollection          | 0      | ?        | ?        \n",
      "3 | cm            | MulticlassConfusionMatrix | 0      | ?        | ?        \n",
      "4 | criterion     | CrossEntropyLoss          | 0      | ?        | ?        \n",
      "5 | l1            | Linear                    | 200 K  | [1, 784] | [1, 256] \n",
      "6 | l2            | Linear                    | 32.9 K | [1, 256] | [1, 128] \n",
      "7 | l3            | Linear                    | 1.3 K  | [1, 128] | [1, 10]  \n",
      "-----------------------------------------------------------------------------------\n",
      "235 K     Trainable params\n",
      "0         Non-trainable params\n",
      "235 K     Total params\n",
      "0.941     Total estimated model params size (MB)\n"
     ]
    },
    {
     "name": "stdout",
     "output_type": "stream",
     "text": [
      "Epoch end: Validation, epoch number: 0\n",
      "Epoch end: Validation, epoch number: 1\n",
      "Epoch end: Train, epoch number: 0\n",
      "Epoch end: Validation, epoch number: 2\n",
      "Epoch end: Train, epoch number: 1\n"
     ]
    },
    {
     "name": "stderr",
     "output_type": "stream",
     "text": [
      "`Trainer.fit` stopped: `max_epochs=3` reached.\n",
      "You are using a CUDA device ('NVIDIA GeForce RTX 4070 Ti') that has Tensor Cores. To properly utilize them, you should set `torch.set_float32_matmul_precision('medium' | 'high')` which will trade-off precision for performance. For more details, read https://pytorch.org/docs/stable/generated/torch.set_float32_matmul_precision.html#torch.set_float32_matmul_precision\n"
     ]
    },
    {
     "name": "stdout",
     "output_type": "stream",
     "text": [
      "Epoch end: Validation, epoch number: 3\n",
      "Epoch end: Train, epoch number: 2\n",
      "Performance of Node 2 before aggregation at round 2\n"
     ]
    },
    {
     "name": "stderr",
     "output_type": "stream",
     "text": [
      "LOCAL_RANK: 0 - CUDA_VISIBLE_DEVICES: [0,1]\n"
     ]
    },
    {
     "name": "stdout",
     "output_type": "stream",
     "text": [
      "Epoch end: Test, epoch number: 1\n"
     ]
    },
    {
     "data": {
      "text/html": [
       "<pre style=\"white-space:pre;overflow-x:auto;line-height:normal;font-family:Menlo,'DejaVu Sans Mono',consolas,'Courier New',monospace\">┏━━━━━━━━━━━━━━━━━━━━━━━━━━━┳━━━━━━━━━━━━━━━━━━━━━━━━━━━┓\n",
       "┃<span style=\"font-weight: bold\">   Runningstage.testing    </span>┃<span style=\"font-weight: bold\">                           </span>┃\n",
       "┃<span style=\"font-weight: bold\">          metric           </span>┃<span style=\"font-weight: bold\">       DataLoader 0        </span>┃\n",
       "┡━━━━━━━━━━━━━━━━━━━━━━━━━━━╇━━━━━━━━━━━━━━━━━━━━━━━━━━━┩\n",
       "│<span style=\"color: #008080; text-decoration-color: #008080\">       Test/Accuracy       </span>│<span style=\"color: #800080; text-decoration-color: #800080\">    0.9163786172866821     </span>│\n",
       "│<span style=\"color: #008080; text-decoration-color: #008080\">       Test/F1Score        </span>│<span style=\"color: #800080; text-decoration-color: #800080\">    0.9066253304481506     </span>│\n",
       "│<span style=\"color: #008080; text-decoration-color: #008080\">         Test/Loss         </span>│<span style=\"color: #800080; text-decoration-color: #800080\">    0.29763150215148926    </span>│\n",
       "│<span style=\"color: #008080; text-decoration-color: #008080\">      Test/Precision       </span>│<span style=\"color: #800080; text-decoration-color: #800080\">    0.9178948402404785     </span>│\n",
       "│<span style=\"color: #008080; text-decoration-color: #008080\">        Test/Recall        </span>│<span style=\"color: #800080; text-decoration-color: #800080\">    0.9163786172866821     </span>│\n",
       "│<span style=\"color: #008080; text-decoration-color: #008080\">    TestEpoch/Accuracy     </span>│<span style=\"color: #800080; text-decoration-color: #800080\">    0.9150047898292542     </span>│\n",
       "│<span style=\"color: #008080; text-decoration-color: #008080\">     TestEpoch/F1Score     </span>│<span style=\"color: #800080; text-decoration-color: #800080\">    0.9132691621780396     </span>│\n",
       "│<span style=\"color: #008080; text-decoration-color: #008080\">    TestEpoch/Precision    </span>│<span style=\"color: #800080; text-decoration-color: #800080\">    0.9173524379730225     </span>│\n",
       "│<span style=\"color: #008080; text-decoration-color: #008080\">     TestEpoch/Recall      </span>│<span style=\"color: #800080; text-decoration-color: #800080\">    0.9150047898292542     </span>│\n",
       "└───────────────────────────┴───────────────────────────┘\n",
       "</pre>\n"
      ],
      "text/plain": [
       "┏━━━━━━━━━━━━━━━━━━━━━━━━━━━┳━━━━━━━━━━━━━━━━━━━━━━━━━━━┓\n",
       "┃\u001b[1m \u001b[0m\u001b[1m  Runningstage.testing   \u001b[0m\u001b[1m \u001b[0m┃\u001b[1m                           \u001b[0m┃\n",
       "┃\u001b[1m \u001b[0m\u001b[1m         metric          \u001b[0m\u001b[1m \u001b[0m┃\u001b[1m \u001b[0m\u001b[1m      DataLoader 0       \u001b[0m\u001b[1m \u001b[0m┃\n",
       "┡━━━━━━━━━━━━━━━━━━━━━━━━━━━╇━━━━━━━━━━━━━━━━━━━━━━━━━━━┩\n",
       "│\u001b[36m \u001b[0m\u001b[36m      Test/Accuracy      \u001b[0m\u001b[36m \u001b[0m│\u001b[35m \u001b[0m\u001b[35m   0.9163786172866821    \u001b[0m\u001b[35m \u001b[0m│\n",
       "│\u001b[36m \u001b[0m\u001b[36m      Test/F1Score       \u001b[0m\u001b[36m \u001b[0m│\u001b[35m \u001b[0m\u001b[35m   0.9066253304481506    \u001b[0m\u001b[35m \u001b[0m│\n",
       "│\u001b[36m \u001b[0m\u001b[36m        Test/Loss        \u001b[0m\u001b[36m \u001b[0m│\u001b[35m \u001b[0m\u001b[35m   0.29763150215148926   \u001b[0m\u001b[35m \u001b[0m│\n",
       "│\u001b[36m \u001b[0m\u001b[36m     Test/Precision      \u001b[0m\u001b[36m \u001b[0m│\u001b[35m \u001b[0m\u001b[35m   0.9178948402404785    \u001b[0m\u001b[35m \u001b[0m│\n",
       "│\u001b[36m \u001b[0m\u001b[36m       Test/Recall       \u001b[0m\u001b[36m \u001b[0m│\u001b[35m \u001b[0m\u001b[35m   0.9163786172866821    \u001b[0m\u001b[35m \u001b[0m│\n",
       "│\u001b[36m \u001b[0m\u001b[36m   TestEpoch/Accuracy    \u001b[0m\u001b[36m \u001b[0m│\u001b[35m \u001b[0m\u001b[35m   0.9150047898292542    \u001b[0m\u001b[35m \u001b[0m│\n",
       "│\u001b[36m \u001b[0m\u001b[36m    TestEpoch/F1Score    \u001b[0m\u001b[36m \u001b[0m│\u001b[35m \u001b[0m\u001b[35m   0.9132691621780396    \u001b[0m\u001b[35m \u001b[0m│\n",
       "│\u001b[36m \u001b[0m\u001b[36m   TestEpoch/Precision   \u001b[0m\u001b[36m \u001b[0m│\u001b[35m \u001b[0m\u001b[35m   0.9173524379730225    \u001b[0m\u001b[35m \u001b[0m│\n",
       "│\u001b[36m \u001b[0m\u001b[36m    TestEpoch/Recall     \u001b[0m\u001b[36m \u001b[0m│\u001b[35m \u001b[0m\u001b[35m   0.9150047898292542    \u001b[0m\u001b[35m \u001b[0m│\n",
       "└───────────────────────────┴───────────────────────────┘\n"
      ]
     },
     "metadata": {},
     "output_type": "display_data"
    },
    {
     "name": "stderr",
     "output_type": "stream",
     "text": [
      "GPU available: True (cuda), used: True\n",
      "TPU available: False, using: 0 TPU cores\n",
      "IPU available: False, using: 0 IPUs\n",
      "HPU available: False, using: 0 HPUs\n",
      "You are using a CUDA device ('NVIDIA GeForce RTX 4070 Ti') that has Tensor Cores. To properly utilize them, you should set `torch.set_float32_matmul_precision('medium' | 'high')` which will trade-off precision for performance. For more details, read https://pytorch.org/docs/stable/generated/torch.set_float32_matmul_precision.html#torch.set_float32_matmul_precision\n",
      "d:\\git\\beidou\\venv\\Lib\\site-packages\\lightning\\pytorch\\callbacks\\model_checkpoint.py:612: UserWarning: Checkpoint directory d:\\git\\beidou/experiments/10_clients_alpha_100_MNIST_ring_03_06_2024_16_51_13\\node_3\\version_0\\checkpoints exists and is not empty.\n",
      "  rank_zero_warn(f\"Checkpoint directory {dirpath} exists and is not empty.\")\n",
      "LOCAL_RANK: 0 - CUDA_VISIBLE_DEVICES: [0,1]\n",
      "\n",
      "  | Name          | Type                      | Params | In sizes | Out sizes\n",
      "-----------------------------------------------------------------------------------\n",
      "0 | train_metrics | MetricCollection          | 0      | ?        | ?        \n",
      "1 | val_metrics   | MetricCollection          | 0      | ?        | ?        \n",
      "2 | test_metrics  | MetricCollection          | 0      | ?        | ?        \n",
      "3 | cm            | MulticlassConfusionMatrix | 0      | ?        | ?        \n",
      "4 | criterion     | CrossEntropyLoss          | 0      | ?        | ?        \n",
      "5 | l1            | Linear                    | 200 K  | [1, 784] | [1, 256] \n",
      "6 | l2            | Linear                    | 32.9 K | [1, 256] | [1, 128] \n",
      "7 | l3            | Linear                    | 1.3 K  | [1, 128] | [1, 10]  \n",
      "-----------------------------------------------------------------------------------\n",
      "235 K     Trainable params\n",
      "0         Non-trainable params\n",
      "235 K     Total params\n",
      "0.941     Total estimated model params size (MB)\n"
     ]
    },
    {
     "name": "stdout",
     "output_type": "stream",
     "text": [
      "Epoch end: Validation, epoch number: 0\n",
      "Epoch end: Validation, epoch number: 1\n",
      "Epoch end: Train, epoch number: 0\n",
      "Epoch end: Validation, epoch number: 2\n",
      "Epoch end: Train, epoch number: 1\n"
     ]
    },
    {
     "name": "stderr",
     "output_type": "stream",
     "text": [
      "`Trainer.fit` stopped: `max_epochs=3` reached.\n",
      "You are using a CUDA device ('NVIDIA GeForce RTX 4070 Ti') that has Tensor Cores. To properly utilize them, you should set `torch.set_float32_matmul_precision('medium' | 'high')` which will trade-off precision for performance. For more details, read https://pytorch.org/docs/stable/generated/torch.set_float32_matmul_precision.html#torch.set_float32_matmul_precision\n"
     ]
    },
    {
     "name": "stdout",
     "output_type": "stream",
     "text": [
      "Epoch end: Validation, epoch number: 3\n",
      "Epoch end: Train, epoch number: 2\n",
      "Performance of Node 3 before aggregation at round 2\n"
     ]
    },
    {
     "name": "stderr",
     "output_type": "stream",
     "text": [
      "LOCAL_RANK: 0 - CUDA_VISIBLE_DEVICES: [0,1]\n"
     ]
    },
    {
     "name": "stdout",
     "output_type": "stream",
     "text": [
      "Epoch end: Test, epoch number: 1\n"
     ]
    },
    {
     "data": {
      "text/html": [
       "<pre style=\"white-space:pre;overflow-x:auto;line-height:normal;font-family:Menlo,'DejaVu Sans Mono',consolas,'Courier New',monospace\">┏━━━━━━━━━━━━━━━━━━━━━━━━━━━┳━━━━━━━━━━━━━━━━━━━━━━━━━━━┓\n",
       "┃<span style=\"font-weight: bold\">   Runningstage.testing    </span>┃<span style=\"font-weight: bold\">                           </span>┃\n",
       "┃<span style=\"font-weight: bold\">          metric           </span>┃<span style=\"font-weight: bold\">       DataLoader 0        </span>┃\n",
       "┡━━━━━━━━━━━━━━━━━━━━━━━━━━━╇━━━━━━━━━━━━━━━━━━━━━━━━━━━┩\n",
       "│<span style=\"color: #008080; text-decoration-color: #008080\">       Test/Accuracy       </span>│<span style=\"color: #800080; text-decoration-color: #800080\">    0.9095633625984192     </span>│\n",
       "│<span style=\"color: #008080; text-decoration-color: #008080\">       Test/F1Score        </span>│<span style=\"color: #800080; text-decoration-color: #800080\">    0.9037621021270752     </span>│\n",
       "│<span style=\"color: #008080; text-decoration-color: #008080\">         Test/Loss         </span>│<span style=\"color: #800080; text-decoration-color: #800080\">    0.27923330664634705    </span>│\n",
       "│<span style=\"color: #008080; text-decoration-color: #008080\">      Test/Precision       </span>│<span style=\"color: #800080; text-decoration-color: #800080\">    0.9133910536766052     </span>│\n",
       "│<span style=\"color: #008080; text-decoration-color: #008080\">        Test/Recall        </span>│<span style=\"color: #800080; text-decoration-color: #800080\">    0.9095633625984192     </span>│\n",
       "│<span style=\"color: #008080; text-decoration-color: #008080\">    TestEpoch/Accuracy     </span>│<span style=\"color: #800080; text-decoration-color: #800080\">    0.9140070676803589     </span>│\n",
       "│<span style=\"color: #008080; text-decoration-color: #008080\">     TestEpoch/F1Score     </span>│<span style=\"color: #800080; text-decoration-color: #800080\">    0.9144172668457031     </span>│\n",
       "│<span style=\"color: #008080; text-decoration-color: #008080\">    TestEpoch/Precision    </span>│<span style=\"color: #800080; text-decoration-color: #800080\">    0.9163655638694763     </span>│\n",
       "│<span style=\"color: #008080; text-decoration-color: #008080\">     TestEpoch/Recall      </span>│<span style=\"color: #800080; text-decoration-color: #800080\">    0.9140070676803589     </span>│\n",
       "└───────────────────────────┴───────────────────────────┘\n",
       "</pre>\n"
      ],
      "text/plain": [
       "┏━━━━━━━━━━━━━━━━━━━━━━━━━━━┳━━━━━━━━━━━━━━━━━━━━━━━━━━━┓\n",
       "┃\u001b[1m \u001b[0m\u001b[1m  Runningstage.testing   \u001b[0m\u001b[1m \u001b[0m┃\u001b[1m                           \u001b[0m┃\n",
       "┃\u001b[1m \u001b[0m\u001b[1m         metric          \u001b[0m\u001b[1m \u001b[0m┃\u001b[1m \u001b[0m\u001b[1m      DataLoader 0       \u001b[0m\u001b[1m \u001b[0m┃\n",
       "┡━━━━━━━━━━━━━━━━━━━━━━━━━━━╇━━━━━━━━━━━━━━━━━━━━━━━━━━━┩\n",
       "│\u001b[36m \u001b[0m\u001b[36m      Test/Accuracy      \u001b[0m\u001b[36m \u001b[0m│\u001b[35m \u001b[0m\u001b[35m   0.9095633625984192    \u001b[0m\u001b[35m \u001b[0m│\n",
       "│\u001b[36m \u001b[0m\u001b[36m      Test/F1Score       \u001b[0m\u001b[36m \u001b[0m│\u001b[35m \u001b[0m\u001b[35m   0.9037621021270752    \u001b[0m\u001b[35m \u001b[0m│\n",
       "│\u001b[36m \u001b[0m\u001b[36m        Test/Loss        \u001b[0m\u001b[36m \u001b[0m│\u001b[35m \u001b[0m\u001b[35m   0.27923330664634705   \u001b[0m\u001b[35m \u001b[0m│\n",
       "│\u001b[36m \u001b[0m\u001b[36m     Test/Precision      \u001b[0m\u001b[36m \u001b[0m│\u001b[35m \u001b[0m\u001b[35m   0.9133910536766052    \u001b[0m\u001b[35m \u001b[0m│\n",
       "│\u001b[36m \u001b[0m\u001b[36m       Test/Recall       \u001b[0m\u001b[36m \u001b[0m│\u001b[35m \u001b[0m\u001b[35m   0.9095633625984192    \u001b[0m\u001b[35m \u001b[0m│\n",
       "│\u001b[36m \u001b[0m\u001b[36m   TestEpoch/Accuracy    \u001b[0m\u001b[36m \u001b[0m│\u001b[35m \u001b[0m\u001b[35m   0.9140070676803589    \u001b[0m\u001b[35m \u001b[0m│\n",
       "│\u001b[36m \u001b[0m\u001b[36m    TestEpoch/F1Score    \u001b[0m\u001b[36m \u001b[0m│\u001b[35m \u001b[0m\u001b[35m   0.9144172668457031    \u001b[0m\u001b[35m \u001b[0m│\n",
       "│\u001b[36m \u001b[0m\u001b[36m   TestEpoch/Precision   \u001b[0m\u001b[36m \u001b[0m│\u001b[35m \u001b[0m\u001b[35m   0.9163655638694763    \u001b[0m\u001b[35m \u001b[0m│\n",
       "│\u001b[36m \u001b[0m\u001b[36m    TestEpoch/Recall     \u001b[0m\u001b[36m \u001b[0m│\u001b[35m \u001b[0m\u001b[35m   0.9140070676803589    \u001b[0m\u001b[35m \u001b[0m│\n",
       "└───────────────────────────┴───────────────────────────┘\n"
      ]
     },
     "metadata": {},
     "output_type": "display_data"
    },
    {
     "name": "stderr",
     "output_type": "stream",
     "text": [
      "GPU available: True (cuda), used: True\n",
      "TPU available: False, using: 0 TPU cores\n",
      "IPU available: False, using: 0 IPUs\n",
      "HPU available: False, using: 0 HPUs\n",
      "You are using a CUDA device ('NVIDIA GeForce RTX 4070 Ti') that has Tensor Cores. To properly utilize them, you should set `torch.set_float32_matmul_precision('medium' | 'high')` which will trade-off precision for performance. For more details, read https://pytorch.org/docs/stable/generated/torch.set_float32_matmul_precision.html#torch.set_float32_matmul_precision\n",
      "d:\\git\\beidou\\venv\\Lib\\site-packages\\lightning\\pytorch\\callbacks\\model_checkpoint.py:612: UserWarning: Checkpoint directory d:\\git\\beidou/experiments/10_clients_alpha_100_MNIST_ring_03_06_2024_16_51_13\\node_4\\version_0\\checkpoints exists and is not empty.\n",
      "  rank_zero_warn(f\"Checkpoint directory {dirpath} exists and is not empty.\")\n",
      "LOCAL_RANK: 0 - CUDA_VISIBLE_DEVICES: [0,1]\n",
      "\n",
      "  | Name          | Type                      | Params | In sizes | Out sizes\n",
      "-----------------------------------------------------------------------------------\n",
      "0 | train_metrics | MetricCollection          | 0      | ?        | ?        \n",
      "1 | val_metrics   | MetricCollection          | 0      | ?        | ?        \n",
      "2 | test_metrics  | MetricCollection          | 0      | ?        | ?        \n",
      "3 | cm            | MulticlassConfusionMatrix | 0      | ?        | ?        \n",
      "4 | criterion     | CrossEntropyLoss          | 0      | ?        | ?        \n",
      "5 | l1            | Linear                    | 200 K  | [1, 784] | [1, 256] \n",
      "6 | l2            | Linear                    | 32.9 K | [1, 256] | [1, 128] \n",
      "7 | l3            | Linear                    | 1.3 K  | [1, 128] | [1, 10]  \n",
      "-----------------------------------------------------------------------------------\n",
      "235 K     Trainable params\n",
      "0         Non-trainable params\n",
      "235 K     Total params\n",
      "0.941     Total estimated model params size (MB)\n"
     ]
    },
    {
     "name": "stdout",
     "output_type": "stream",
     "text": [
      "Epoch end: Validation, epoch number: 0\n",
      "Epoch end: Validation, epoch number: 1\n",
      "Epoch end: Train, epoch number: 0\n",
      "Epoch end: Validation, epoch number: 2\n",
      "Epoch end: Train, epoch number: 1\n",
      "Epoch end: Validation, epoch number: 3\n",
      "Epoch end: Train, epoch number: 2\n"
     ]
    },
    {
     "name": "stderr",
     "output_type": "stream",
     "text": [
      "`Trainer.fit` stopped: `max_epochs=3` reached.\n",
      "You are using a CUDA device ('NVIDIA GeForce RTX 4070 Ti') that has Tensor Cores. To properly utilize them, you should set `torch.set_float32_matmul_precision('medium' | 'high')` which will trade-off precision for performance. For more details, read https://pytorch.org/docs/stable/generated/torch.set_float32_matmul_precision.html#torch.set_float32_matmul_precision\n",
      "LOCAL_RANK: 0 - CUDA_VISIBLE_DEVICES: [0,1]\n"
     ]
    },
    {
     "name": "stdout",
     "output_type": "stream",
     "text": [
      "Performance of Node 4 before aggregation at round 2\n",
      "Epoch end: Test, epoch number: 1\n"
     ]
    },
    {
     "data": {
      "text/html": [
       "<pre style=\"white-space:pre;overflow-x:auto;line-height:normal;font-family:Menlo,'DejaVu Sans Mono',consolas,'Courier New',monospace\">┏━━━━━━━━━━━━━━━━━━━━━━━━━━━┳━━━━━━━━━━━━━━━━━━━━━━━━━━━┓\n",
       "┃<span style=\"font-weight: bold\">   Runningstage.testing    </span>┃<span style=\"font-weight: bold\">                           </span>┃\n",
       "┃<span style=\"font-weight: bold\">          metric           </span>┃<span style=\"font-weight: bold\">       DataLoader 0        </span>┃\n",
       "┡━━━━━━━━━━━━━━━━━━━━━━━━━━━╇━━━━━━━━━━━━━━━━━━━━━━━━━━━┩\n",
       "│<span style=\"color: #008080; text-decoration-color: #008080\">       Test/Accuracy       </span>│<span style=\"color: #800080; text-decoration-color: #800080\">    0.9113373756408691     </span>│\n",
       "│<span style=\"color: #008080; text-decoration-color: #008080\">       Test/F1Score        </span>│<span style=\"color: #800080; text-decoration-color: #800080\">    0.9035955667495728     </span>│\n",
       "│<span style=\"color: #008080; text-decoration-color: #008080\">         Test/Loss         </span>│<span style=\"color: #800080; text-decoration-color: #800080\">    0.29587841033935547    </span>│\n",
       "│<span style=\"color: #008080; text-decoration-color: #008080\">      Test/Precision       </span>│<span style=\"color: #800080; text-decoration-color: #800080\">    0.9163749814033508     </span>│\n",
       "│<span style=\"color: #008080; text-decoration-color: #008080\">        Test/Recall        </span>│<span style=\"color: #800080; text-decoration-color: #800080\">    0.9113373756408691     </span>│\n",
       "│<span style=\"color: #008080; text-decoration-color: #008080\">    TestEpoch/Accuracy     </span>│<span style=\"color: #800080; text-decoration-color: #800080\">    0.9130653142929077     </span>│\n",
       "│<span style=\"color: #008080; text-decoration-color: #008080\">     TestEpoch/F1Score     </span>│<span style=\"color: #800080; text-decoration-color: #800080\">     0.913404107093811     </span>│\n",
       "│<span style=\"color: #008080; text-decoration-color: #008080\">    TestEpoch/Precision    </span>│<span style=\"color: #800080; text-decoration-color: #800080\">    0.9178717732429504     </span>│\n",
       "│<span style=\"color: #008080; text-decoration-color: #008080\">     TestEpoch/Recall      </span>│<span style=\"color: #800080; text-decoration-color: #800080\">    0.9130653142929077     </span>│\n",
       "└───────────────────────────┴───────────────────────────┘\n",
       "</pre>\n"
      ],
      "text/plain": [
       "┏━━━━━━━━━━━━━━━━━━━━━━━━━━━┳━━━━━━━━━━━━━━━━━━━━━━━━━━━┓\n",
       "┃\u001b[1m \u001b[0m\u001b[1m  Runningstage.testing   \u001b[0m\u001b[1m \u001b[0m┃\u001b[1m                           \u001b[0m┃\n",
       "┃\u001b[1m \u001b[0m\u001b[1m         metric          \u001b[0m\u001b[1m \u001b[0m┃\u001b[1m \u001b[0m\u001b[1m      DataLoader 0       \u001b[0m\u001b[1m \u001b[0m┃\n",
       "┡━━━━━━━━━━━━━━━━━━━━━━━━━━━╇━━━━━━━━━━━━━━━━━━━━━━━━━━━┩\n",
       "│\u001b[36m \u001b[0m\u001b[36m      Test/Accuracy      \u001b[0m\u001b[36m \u001b[0m│\u001b[35m \u001b[0m\u001b[35m   0.9113373756408691    \u001b[0m\u001b[35m \u001b[0m│\n",
       "│\u001b[36m \u001b[0m\u001b[36m      Test/F1Score       \u001b[0m\u001b[36m \u001b[0m│\u001b[35m \u001b[0m\u001b[35m   0.9035955667495728    \u001b[0m\u001b[35m \u001b[0m│\n",
       "│\u001b[36m \u001b[0m\u001b[36m        Test/Loss        \u001b[0m\u001b[36m \u001b[0m│\u001b[35m \u001b[0m\u001b[35m   0.29587841033935547   \u001b[0m\u001b[35m \u001b[0m│\n",
       "│\u001b[36m \u001b[0m\u001b[36m     Test/Precision      \u001b[0m\u001b[36m \u001b[0m│\u001b[35m \u001b[0m\u001b[35m   0.9163749814033508    \u001b[0m\u001b[35m \u001b[0m│\n",
       "│\u001b[36m \u001b[0m\u001b[36m       Test/Recall       \u001b[0m\u001b[36m \u001b[0m│\u001b[35m \u001b[0m\u001b[35m   0.9113373756408691    \u001b[0m\u001b[35m \u001b[0m│\n",
       "│\u001b[36m \u001b[0m\u001b[36m   TestEpoch/Accuracy    \u001b[0m\u001b[36m \u001b[0m│\u001b[35m \u001b[0m\u001b[35m   0.9130653142929077    \u001b[0m\u001b[35m \u001b[0m│\n",
       "│\u001b[36m \u001b[0m\u001b[36m    TestEpoch/F1Score    \u001b[0m\u001b[36m \u001b[0m│\u001b[35m \u001b[0m\u001b[35m    0.913404107093811    \u001b[0m\u001b[35m \u001b[0m│\n",
       "│\u001b[36m \u001b[0m\u001b[36m   TestEpoch/Precision   \u001b[0m\u001b[36m \u001b[0m│\u001b[35m \u001b[0m\u001b[35m   0.9178717732429504    \u001b[0m\u001b[35m \u001b[0m│\n",
       "│\u001b[36m \u001b[0m\u001b[36m    TestEpoch/Recall     \u001b[0m\u001b[36m \u001b[0m│\u001b[35m \u001b[0m\u001b[35m   0.9130653142929077    \u001b[0m\u001b[35m \u001b[0m│\n",
       "└───────────────────────────┴───────────────────────────┘\n"
      ]
     },
     "metadata": {},
     "output_type": "display_data"
    },
    {
     "name": "stderr",
     "output_type": "stream",
     "text": [
      "GPU available: True (cuda), used: True\n",
      "TPU available: False, using: 0 TPU cores\n",
      "IPU available: False, using: 0 IPUs\n",
      "HPU available: False, using: 0 HPUs\n",
      "You are using a CUDA device ('NVIDIA GeForce RTX 4070 Ti') that has Tensor Cores. To properly utilize them, you should set `torch.set_float32_matmul_precision('medium' | 'high')` which will trade-off precision for performance. For more details, read https://pytorch.org/docs/stable/generated/torch.set_float32_matmul_precision.html#torch.set_float32_matmul_precision\n",
      "d:\\git\\beidou\\venv\\Lib\\site-packages\\lightning\\pytorch\\callbacks\\model_checkpoint.py:612: UserWarning: Checkpoint directory d:\\git\\beidou/experiments/10_clients_alpha_100_MNIST_ring_03_06_2024_16_51_13\\node_5\\version_0\\checkpoints exists and is not empty.\n",
      "  rank_zero_warn(f\"Checkpoint directory {dirpath} exists and is not empty.\")\n",
      "LOCAL_RANK: 0 - CUDA_VISIBLE_DEVICES: [0,1]\n",
      "\n",
      "  | Name          | Type                      | Params | In sizes | Out sizes\n",
      "-----------------------------------------------------------------------------------\n",
      "0 | train_metrics | MetricCollection          | 0      | ?        | ?        \n",
      "1 | val_metrics   | MetricCollection          | 0      | ?        | ?        \n",
      "2 | test_metrics  | MetricCollection          | 0      | ?        | ?        \n",
      "3 | cm            | MulticlassConfusionMatrix | 0      | ?        | ?        \n",
      "4 | criterion     | CrossEntropyLoss          | 0      | ?        | ?        \n",
      "5 | l1            | Linear                    | 200 K  | [1, 784] | [1, 256] \n",
      "6 | l2            | Linear                    | 32.9 K | [1, 256] | [1, 128] \n",
      "7 | l3            | Linear                    | 1.3 K  | [1, 128] | [1, 10]  \n",
      "-----------------------------------------------------------------------------------\n",
      "235 K     Trainable params\n",
      "0         Non-trainable params\n",
      "235 K     Total params\n",
      "0.941     Total estimated model params size (MB)\n"
     ]
    },
    {
     "name": "stdout",
     "output_type": "stream",
     "text": [
      "Epoch end: Validation, epoch number: 0\n",
      "Epoch end: Validation, epoch number: 1\n",
      "Epoch end: Train, epoch number: 0\n",
      "Epoch end: Validation, epoch number: 2\n",
      "Epoch end: Train, epoch number: 1\n"
     ]
    },
    {
     "name": "stderr",
     "output_type": "stream",
     "text": [
      "`Trainer.fit` stopped: `max_epochs=3` reached.\n",
      "You are using a CUDA device ('NVIDIA GeForce RTX 4070 Ti') that has Tensor Cores. To properly utilize them, you should set `torch.set_float32_matmul_precision('medium' | 'high')` which will trade-off precision for performance. For more details, read https://pytorch.org/docs/stable/generated/torch.set_float32_matmul_precision.html#torch.set_float32_matmul_precision\n"
     ]
    },
    {
     "name": "stdout",
     "output_type": "stream",
     "text": [
      "Epoch end: Validation, epoch number: 3\n",
      "Epoch end: Train, epoch number: 2\n",
      "Performance of Node 5 before aggregation at round 2\n"
     ]
    },
    {
     "name": "stderr",
     "output_type": "stream",
     "text": [
      "LOCAL_RANK: 0 - CUDA_VISIBLE_DEVICES: [0,1]\n"
     ]
    },
    {
     "name": "stdout",
     "output_type": "stream",
     "text": [
      "Epoch end: Test, epoch number: 1\n"
     ]
    },
    {
     "data": {
      "text/html": [
       "<pre style=\"white-space:pre;overflow-x:auto;line-height:normal;font-family:Menlo,'DejaVu Sans Mono',consolas,'Courier New',monospace\">┏━━━━━━━━━━━━━━━━━━━━━━━━━━━┳━━━━━━━━━━━━━━━━━━━━━━━━━━━┓\n",
       "┃<span style=\"font-weight: bold\">   Runningstage.testing    </span>┃<span style=\"font-weight: bold\">                           </span>┃\n",
       "┃<span style=\"font-weight: bold\">          metric           </span>┃<span style=\"font-weight: bold\">       DataLoader 0        </span>┃\n",
       "┡━━━━━━━━━━━━━━━━━━━━━━━━━━━╇━━━━━━━━━━━━━━━━━━━━━━━━━━━┩\n",
       "│<span style=\"color: #008080; text-decoration-color: #008080\">       Test/Accuracy       </span>│<span style=\"color: #800080; text-decoration-color: #800080\">    0.9145429134368896     </span>│\n",
       "│<span style=\"color: #008080; text-decoration-color: #008080\">       Test/F1Score        </span>│<span style=\"color: #800080; text-decoration-color: #800080\">    0.9013848304748535     </span>│\n",
       "│<span style=\"color: #008080; text-decoration-color: #008080\">         Test/Loss         </span>│<span style=\"color: #800080; text-decoration-color: #800080\">    0.32814517617225647    </span>│\n",
       "│<span style=\"color: #008080; text-decoration-color: #008080\">      Test/Precision       </span>│<span style=\"color: #800080; text-decoration-color: #800080\">    0.9086794257164001     </span>│\n",
       "│<span style=\"color: #008080; text-decoration-color: #008080\">        Test/Recall        </span>│<span style=\"color: #800080; text-decoration-color: #800080\">    0.9145429134368896     </span>│\n",
       "│<span style=\"color: #008080; text-decoration-color: #008080\">    TestEpoch/Accuracy     </span>│<span style=\"color: #800080; text-decoration-color: #800080\">    0.9069566130638123     </span>│\n",
       "│<span style=\"color: #008080; text-decoration-color: #008080\">     TestEpoch/F1Score     </span>│<span style=\"color: #800080; text-decoration-color: #800080\">     0.905272364616394     </span>│\n",
       "│<span style=\"color: #008080; text-decoration-color: #008080\">    TestEpoch/Precision    </span>│<span style=\"color: #800080; text-decoration-color: #800080\">    0.9069477915763855     </span>│\n",
       "│<span style=\"color: #008080; text-decoration-color: #008080\">     TestEpoch/Recall      </span>│<span style=\"color: #800080; text-decoration-color: #800080\">    0.9069566130638123     </span>│\n",
       "└───────────────────────────┴───────────────────────────┘\n",
       "</pre>\n"
      ],
      "text/plain": [
       "┏━━━━━━━━━━━━━━━━━━━━━━━━━━━┳━━━━━━━━━━━━━━━━━━━━━━━━━━━┓\n",
       "┃\u001b[1m \u001b[0m\u001b[1m  Runningstage.testing   \u001b[0m\u001b[1m \u001b[0m┃\u001b[1m                           \u001b[0m┃\n",
       "┃\u001b[1m \u001b[0m\u001b[1m         metric          \u001b[0m\u001b[1m \u001b[0m┃\u001b[1m \u001b[0m\u001b[1m      DataLoader 0       \u001b[0m\u001b[1m \u001b[0m┃\n",
       "┡━━━━━━━━━━━━━━━━━━━━━━━━━━━╇━━━━━━━━━━━━━━━━━━━━━━━━━━━┩\n",
       "│\u001b[36m \u001b[0m\u001b[36m      Test/Accuracy      \u001b[0m\u001b[36m \u001b[0m│\u001b[35m \u001b[0m\u001b[35m   0.9145429134368896    \u001b[0m\u001b[35m \u001b[0m│\n",
       "│\u001b[36m \u001b[0m\u001b[36m      Test/F1Score       \u001b[0m\u001b[36m \u001b[0m│\u001b[35m \u001b[0m\u001b[35m   0.9013848304748535    \u001b[0m\u001b[35m \u001b[0m│\n",
       "│\u001b[36m \u001b[0m\u001b[36m        Test/Loss        \u001b[0m\u001b[36m \u001b[0m│\u001b[35m \u001b[0m\u001b[35m   0.32814517617225647   \u001b[0m\u001b[35m \u001b[0m│\n",
       "│\u001b[36m \u001b[0m\u001b[36m     Test/Precision      \u001b[0m\u001b[36m \u001b[0m│\u001b[35m \u001b[0m\u001b[35m   0.9086794257164001    \u001b[0m\u001b[35m \u001b[0m│\n",
       "│\u001b[36m \u001b[0m\u001b[36m       Test/Recall       \u001b[0m\u001b[36m \u001b[0m│\u001b[35m \u001b[0m\u001b[35m   0.9145429134368896    \u001b[0m\u001b[35m \u001b[0m│\n",
       "│\u001b[36m \u001b[0m\u001b[36m   TestEpoch/Accuracy    \u001b[0m\u001b[36m \u001b[0m│\u001b[35m \u001b[0m\u001b[35m   0.9069566130638123    \u001b[0m\u001b[35m \u001b[0m│\n",
       "│\u001b[36m \u001b[0m\u001b[36m    TestEpoch/F1Score    \u001b[0m\u001b[36m \u001b[0m│\u001b[35m \u001b[0m\u001b[35m    0.905272364616394    \u001b[0m\u001b[35m \u001b[0m│\n",
       "│\u001b[36m \u001b[0m\u001b[36m   TestEpoch/Precision   \u001b[0m\u001b[36m \u001b[0m│\u001b[35m \u001b[0m\u001b[35m   0.9069477915763855    \u001b[0m\u001b[35m \u001b[0m│\n",
       "│\u001b[36m \u001b[0m\u001b[36m    TestEpoch/Recall     \u001b[0m\u001b[36m \u001b[0m│\u001b[35m \u001b[0m\u001b[35m   0.9069566130638123    \u001b[0m\u001b[35m \u001b[0m│\n",
       "└───────────────────────────┴───────────────────────────┘\n"
      ]
     },
     "metadata": {},
     "output_type": "display_data"
    },
    {
     "name": "stderr",
     "output_type": "stream",
     "text": [
      "GPU available: True (cuda), used: True\n",
      "TPU available: False, using: 0 TPU cores\n",
      "IPU available: False, using: 0 IPUs\n",
      "HPU available: False, using: 0 HPUs\n",
      "You are using a CUDA device ('NVIDIA GeForce RTX 4070 Ti') that has Tensor Cores. To properly utilize them, you should set `torch.set_float32_matmul_precision('medium' | 'high')` which will trade-off precision for performance. For more details, read https://pytorch.org/docs/stable/generated/torch.set_float32_matmul_precision.html#torch.set_float32_matmul_precision\n",
      "d:\\git\\beidou\\venv\\Lib\\site-packages\\lightning\\pytorch\\callbacks\\model_checkpoint.py:612: UserWarning: Checkpoint directory d:\\git\\beidou/experiments/10_clients_alpha_100_MNIST_ring_03_06_2024_16_51_13\\node_6\\version_0\\checkpoints exists and is not empty.\n",
      "  rank_zero_warn(f\"Checkpoint directory {dirpath} exists and is not empty.\")\n",
      "LOCAL_RANK: 0 - CUDA_VISIBLE_DEVICES: [0,1]\n",
      "\n",
      "  | Name          | Type                      | Params | In sizes | Out sizes\n",
      "-----------------------------------------------------------------------------------\n",
      "0 | train_metrics | MetricCollection          | 0      | ?        | ?        \n",
      "1 | val_metrics   | MetricCollection          | 0      | ?        | ?        \n",
      "2 | test_metrics  | MetricCollection          | 0      | ?        | ?        \n",
      "3 | cm            | MulticlassConfusionMatrix | 0      | ?        | ?        \n",
      "4 | criterion     | CrossEntropyLoss          | 0      | ?        | ?        \n",
      "5 | l1            | Linear                    | 200 K  | [1, 784] | [1, 256] \n",
      "6 | l2            | Linear                    | 32.9 K | [1, 256] | [1, 128] \n",
      "7 | l3            | Linear                    | 1.3 K  | [1, 128] | [1, 10]  \n",
      "-----------------------------------------------------------------------------------\n",
      "235 K     Trainable params\n",
      "0         Non-trainable params\n",
      "235 K     Total params\n",
      "0.941     Total estimated model params size (MB)\n"
     ]
    },
    {
     "name": "stdout",
     "output_type": "stream",
     "text": [
      "Epoch end: Validation, epoch number: 0\n",
      "Epoch end: Validation, epoch number: 1\n",
      "Epoch end: Train, epoch number: 0\n",
      "Epoch end: Validation, epoch number: 2\n",
      "Epoch end: Train, epoch number: 1\n"
     ]
    },
    {
     "name": "stderr",
     "output_type": "stream",
     "text": [
      "`Trainer.fit` stopped: `max_epochs=3` reached.\n",
      "You are using a CUDA device ('NVIDIA GeForce RTX 4070 Ti') that has Tensor Cores. To properly utilize them, you should set `torch.set_float32_matmul_precision('medium' | 'high')` which will trade-off precision for performance. For more details, read https://pytorch.org/docs/stable/generated/torch.set_float32_matmul_precision.html#torch.set_float32_matmul_precision\n"
     ]
    },
    {
     "name": "stdout",
     "output_type": "stream",
     "text": [
      "Epoch end: Validation, epoch number: 3\n",
      "Epoch end: Train, epoch number: 2\n",
      "Performance of Node 6 before aggregation at round 2\n"
     ]
    },
    {
     "name": "stderr",
     "output_type": "stream",
     "text": [
      "LOCAL_RANK: 0 - CUDA_VISIBLE_DEVICES: [0,1]\n"
     ]
    },
    {
     "name": "stdout",
     "output_type": "stream",
     "text": [
      "Epoch end: Test, epoch number: 1\n"
     ]
    },
    {
     "data": {
      "text/html": [
       "<pre style=\"white-space:pre;overflow-x:auto;line-height:normal;font-family:Menlo,'DejaVu Sans Mono',consolas,'Courier New',monospace\">┏━━━━━━━━━━━━━━━━━━━━━━━━━━━┳━━━━━━━━━━━━━━━━━━━━━━━━━━━┓\n",
       "┃<span style=\"font-weight: bold\">   Runningstage.testing    </span>┃<span style=\"font-weight: bold\">                           </span>┃\n",
       "┃<span style=\"font-weight: bold\">          metric           </span>┃<span style=\"font-weight: bold\">       DataLoader 0        </span>┃\n",
       "┡━━━━━━━━━━━━━━━━━━━━━━━━━━━╇━━━━━━━━━━━━━━━━━━━━━━━━━━━┩\n",
       "│<span style=\"color: #008080; text-decoration-color: #008080\">       Test/Accuracy       </span>│<span style=\"color: #800080; text-decoration-color: #800080\">    0.8912848830223083     </span>│\n",
       "│<span style=\"color: #008080; text-decoration-color: #008080\">       Test/F1Score        </span>│<span style=\"color: #800080; text-decoration-color: #800080\">    0.8843196034431458     </span>│\n",
       "│<span style=\"color: #008080; text-decoration-color: #008080\">         Test/Loss         </span>│<span style=\"color: #800080; text-decoration-color: #800080\">    0.3522847294807434     </span>│\n",
       "│<span style=\"color: #008080; text-decoration-color: #008080\">      Test/Precision       </span>│<span style=\"color: #800080; text-decoration-color: #800080\">    0.9011589288711548     </span>│\n",
       "│<span style=\"color: #008080; text-decoration-color: #008080\">        Test/Recall        </span>│<span style=\"color: #800080; text-decoration-color: #800080\">    0.8912848830223083     </span>│\n",
       "│<span style=\"color: #008080; text-decoration-color: #008080\">    TestEpoch/Accuracy     </span>│<span style=\"color: #800080; text-decoration-color: #800080\">    0.8957952260971069     </span>│\n",
       "│<span style=\"color: #008080; text-decoration-color: #008080\">     TestEpoch/F1Score     </span>│<span style=\"color: #800080; text-decoration-color: #800080\">    0.8952980041503906     </span>│\n",
       "│<span style=\"color: #008080; text-decoration-color: #008080\">    TestEpoch/Precision    </span>│<span style=\"color: #800080; text-decoration-color: #800080\">    0.9019641280174255     </span>│\n",
       "│<span style=\"color: #008080; text-decoration-color: #008080\">     TestEpoch/Recall      </span>│<span style=\"color: #800080; text-decoration-color: #800080\">    0.8957952260971069     </span>│\n",
       "└───────────────────────────┴───────────────────────────┘\n",
       "</pre>\n"
      ],
      "text/plain": [
       "┏━━━━━━━━━━━━━━━━━━━━━━━━━━━┳━━━━━━━━━━━━━━━━━━━━━━━━━━━┓\n",
       "┃\u001b[1m \u001b[0m\u001b[1m  Runningstage.testing   \u001b[0m\u001b[1m \u001b[0m┃\u001b[1m                           \u001b[0m┃\n",
       "┃\u001b[1m \u001b[0m\u001b[1m         metric          \u001b[0m\u001b[1m \u001b[0m┃\u001b[1m \u001b[0m\u001b[1m      DataLoader 0       \u001b[0m\u001b[1m \u001b[0m┃\n",
       "┡━━━━━━━━━━━━━━━━━━━━━━━━━━━╇━━━━━━━━━━━━━━━━━━━━━━━━━━━┩\n",
       "│\u001b[36m \u001b[0m\u001b[36m      Test/Accuracy      \u001b[0m\u001b[36m \u001b[0m│\u001b[35m \u001b[0m\u001b[35m   0.8912848830223083    \u001b[0m\u001b[35m \u001b[0m│\n",
       "│\u001b[36m \u001b[0m\u001b[36m      Test/F1Score       \u001b[0m\u001b[36m \u001b[0m│\u001b[35m \u001b[0m\u001b[35m   0.8843196034431458    \u001b[0m\u001b[35m \u001b[0m│\n",
       "│\u001b[36m \u001b[0m\u001b[36m        Test/Loss        \u001b[0m\u001b[36m \u001b[0m│\u001b[35m \u001b[0m\u001b[35m   0.3522847294807434    \u001b[0m\u001b[35m \u001b[0m│\n",
       "│\u001b[36m \u001b[0m\u001b[36m     Test/Precision      \u001b[0m\u001b[36m \u001b[0m│\u001b[35m \u001b[0m\u001b[35m   0.9011589288711548    \u001b[0m\u001b[35m \u001b[0m│\n",
       "│\u001b[36m \u001b[0m\u001b[36m       Test/Recall       \u001b[0m\u001b[36m \u001b[0m│\u001b[35m \u001b[0m\u001b[35m   0.8912848830223083    \u001b[0m\u001b[35m \u001b[0m│\n",
       "│\u001b[36m \u001b[0m\u001b[36m   TestEpoch/Accuracy    \u001b[0m\u001b[36m \u001b[0m│\u001b[35m \u001b[0m\u001b[35m   0.8957952260971069    \u001b[0m\u001b[35m \u001b[0m│\n",
       "│\u001b[36m \u001b[0m\u001b[36m    TestEpoch/F1Score    \u001b[0m\u001b[36m \u001b[0m│\u001b[35m \u001b[0m\u001b[35m   0.8952980041503906    \u001b[0m\u001b[35m \u001b[0m│\n",
       "│\u001b[36m \u001b[0m\u001b[36m   TestEpoch/Precision   \u001b[0m\u001b[36m \u001b[0m│\u001b[35m \u001b[0m\u001b[35m   0.9019641280174255    \u001b[0m\u001b[35m \u001b[0m│\n",
       "│\u001b[36m \u001b[0m\u001b[36m    TestEpoch/Recall     \u001b[0m\u001b[36m \u001b[0m│\u001b[35m \u001b[0m\u001b[35m   0.8957952260971069    \u001b[0m\u001b[35m \u001b[0m│\n",
       "└───────────────────────────┴───────────────────────────┘\n"
      ]
     },
     "metadata": {},
     "output_type": "display_data"
    },
    {
     "name": "stderr",
     "output_type": "stream",
     "text": [
      "GPU available: True (cuda), used: True\n",
      "TPU available: False, using: 0 TPU cores\n",
      "IPU available: False, using: 0 IPUs\n",
      "HPU available: False, using: 0 HPUs\n",
      "You are using a CUDA device ('NVIDIA GeForce RTX 4070 Ti') that has Tensor Cores. To properly utilize them, you should set `torch.set_float32_matmul_precision('medium' | 'high')` which will trade-off precision for performance. For more details, read https://pytorch.org/docs/stable/generated/torch.set_float32_matmul_precision.html#torch.set_float32_matmul_precision\n",
      "d:\\git\\beidou\\venv\\Lib\\site-packages\\lightning\\pytorch\\callbacks\\model_checkpoint.py:612: UserWarning: Checkpoint directory d:\\git\\beidou/experiments/10_clients_alpha_100_MNIST_ring_03_06_2024_16_51_13\\node_7\\version_0\\checkpoints exists and is not empty.\n",
      "  rank_zero_warn(f\"Checkpoint directory {dirpath} exists and is not empty.\")\n",
      "LOCAL_RANK: 0 - CUDA_VISIBLE_DEVICES: [0,1]\n",
      "\n",
      "  | Name          | Type                      | Params | In sizes | Out sizes\n",
      "-----------------------------------------------------------------------------------\n",
      "0 | train_metrics | MetricCollection          | 0      | ?        | ?        \n",
      "1 | val_metrics   | MetricCollection          | 0      | ?        | ?        \n",
      "2 | test_metrics  | MetricCollection          | 0      | ?        | ?        \n",
      "3 | cm            | MulticlassConfusionMatrix | 0      | ?        | ?        \n",
      "4 | criterion     | CrossEntropyLoss          | 0      | ?        | ?        \n",
      "5 | l1            | Linear                    | 200 K  | [1, 784] | [1, 256] \n",
      "6 | l2            | Linear                    | 32.9 K | [1, 256] | [1, 128] \n",
      "7 | l3            | Linear                    | 1.3 K  | [1, 128] | [1, 10]  \n",
      "-----------------------------------------------------------------------------------\n",
      "235 K     Trainable params\n",
      "0         Non-trainable params\n",
      "235 K     Total params\n",
      "0.941     Total estimated model params size (MB)\n"
     ]
    },
    {
     "name": "stdout",
     "output_type": "stream",
     "text": [
      "Epoch end: Validation, epoch number: 0\n",
      "Epoch end: Validation, epoch number: 1\n",
      "Epoch end: Train, epoch number: 0\n",
      "Epoch end: Validation, epoch number: 2\n",
      "Epoch end: Train, epoch number: 1\n"
     ]
    },
    {
     "name": "stderr",
     "output_type": "stream",
     "text": [
      "`Trainer.fit` stopped: `max_epochs=3` reached.\n",
      "You are using a CUDA device ('NVIDIA GeForce RTX 4070 Ti') that has Tensor Cores. To properly utilize them, you should set `torch.set_float32_matmul_precision('medium' | 'high')` which will trade-off precision for performance. For more details, read https://pytorch.org/docs/stable/generated/torch.set_float32_matmul_precision.html#torch.set_float32_matmul_precision\n"
     ]
    },
    {
     "name": "stdout",
     "output_type": "stream",
     "text": [
      "Epoch end: Validation, epoch number: 3\n",
      "Epoch end: Train, epoch number: 2\n",
      "Performance of Node 7 before aggregation at round 2\n"
     ]
    },
    {
     "name": "stderr",
     "output_type": "stream",
     "text": [
      "LOCAL_RANK: 0 - CUDA_VISIBLE_DEVICES: [0,1]\n"
     ]
    },
    {
     "name": "stdout",
     "output_type": "stream",
     "text": [
      "Epoch end: Test, epoch number: 1\n"
     ]
    },
    {
     "data": {
      "text/html": [
       "<pre style=\"white-space:pre;overflow-x:auto;line-height:normal;font-family:Menlo,'DejaVu Sans Mono',consolas,'Courier New',monospace\">┏━━━━━━━━━━━━━━━━━━━━━━━━━━━┳━━━━━━━━━━━━━━━━━━━━━━━━━━━┓\n",
       "┃<span style=\"font-weight: bold\">   Runningstage.testing    </span>┃<span style=\"font-weight: bold\">                           </span>┃\n",
       "┃<span style=\"font-weight: bold\">          metric           </span>┃<span style=\"font-weight: bold\">       DataLoader 0        </span>┃\n",
       "┡━━━━━━━━━━━━━━━━━━━━━━━━━━━╇━━━━━━━━━━━━━━━━━━━━━━━━━━━┩\n",
       "│<span style=\"color: #008080; text-decoration-color: #008080\">       Test/Accuracy       </span>│<span style=\"color: #800080; text-decoration-color: #800080\">    0.9178974628448486     </span>│\n",
       "│<span style=\"color: #008080; text-decoration-color: #008080\">       Test/F1Score        </span>│<span style=\"color: #800080; text-decoration-color: #800080\">    0.9120577573776245     </span>│\n",
       "│<span style=\"color: #008080; text-decoration-color: #008080\">         Test/Loss         </span>│<span style=\"color: #800080; text-decoration-color: #800080\">    0.29420801997184753    </span>│\n",
       "│<span style=\"color: #008080; text-decoration-color: #008080\">      Test/Precision       </span>│<span style=\"color: #800080; text-decoration-color: #800080\">    0.9268904328346252     </span>│\n",
       "│<span style=\"color: #008080; text-decoration-color: #008080\">        Test/Recall        </span>│<span style=\"color: #800080; text-decoration-color: #800080\">    0.9178974628448486     </span>│\n",
       "│<span style=\"color: #008080; text-decoration-color: #008080\">    TestEpoch/Accuracy     </span>│<span style=\"color: #800080; text-decoration-color: #800080\">    0.9196301102638245     </span>│\n",
       "│<span style=\"color: #008080; text-decoration-color: #008080\">     TestEpoch/F1Score     </span>│<span style=\"color: #800080; text-decoration-color: #800080\">    0.9198357462882996     </span>│\n",
       "│<span style=\"color: #008080; text-decoration-color: #008080\">    TestEpoch/Precision    </span>│<span style=\"color: #800080; text-decoration-color: #800080\">    0.9231463670730591     </span>│\n",
       "│<span style=\"color: #008080; text-decoration-color: #008080\">     TestEpoch/Recall      </span>│<span style=\"color: #800080; text-decoration-color: #800080\">    0.9196301102638245     </span>│\n",
       "└───────────────────────────┴───────────────────────────┘\n",
       "</pre>\n"
      ],
      "text/plain": [
       "┏━━━━━━━━━━━━━━━━━━━━━━━━━━━┳━━━━━━━━━━━━━━━━━━━━━━━━━━━┓\n",
       "┃\u001b[1m \u001b[0m\u001b[1m  Runningstage.testing   \u001b[0m\u001b[1m \u001b[0m┃\u001b[1m                           \u001b[0m┃\n",
       "┃\u001b[1m \u001b[0m\u001b[1m         metric          \u001b[0m\u001b[1m \u001b[0m┃\u001b[1m \u001b[0m\u001b[1m      DataLoader 0       \u001b[0m\u001b[1m \u001b[0m┃\n",
       "┡━━━━━━━━━━━━━━━━━━━━━━━━━━━╇━━━━━━━━━━━━━━━━━━━━━━━━━━━┩\n",
       "│\u001b[36m \u001b[0m\u001b[36m      Test/Accuracy      \u001b[0m\u001b[36m \u001b[0m│\u001b[35m \u001b[0m\u001b[35m   0.9178974628448486    \u001b[0m\u001b[35m \u001b[0m│\n",
       "│\u001b[36m \u001b[0m\u001b[36m      Test/F1Score       \u001b[0m\u001b[36m \u001b[0m│\u001b[35m \u001b[0m\u001b[35m   0.9120577573776245    \u001b[0m\u001b[35m \u001b[0m│\n",
       "│\u001b[36m \u001b[0m\u001b[36m        Test/Loss        \u001b[0m\u001b[36m \u001b[0m│\u001b[35m \u001b[0m\u001b[35m   0.29420801997184753   \u001b[0m\u001b[35m \u001b[0m│\n",
       "│\u001b[36m \u001b[0m\u001b[36m     Test/Precision      \u001b[0m\u001b[36m \u001b[0m│\u001b[35m \u001b[0m\u001b[35m   0.9268904328346252    \u001b[0m\u001b[35m \u001b[0m│\n",
       "│\u001b[36m \u001b[0m\u001b[36m       Test/Recall       \u001b[0m\u001b[36m \u001b[0m│\u001b[35m \u001b[0m\u001b[35m   0.9178974628448486    \u001b[0m\u001b[35m \u001b[0m│\n",
       "│\u001b[36m \u001b[0m\u001b[36m   TestEpoch/Accuracy    \u001b[0m\u001b[36m \u001b[0m│\u001b[35m \u001b[0m\u001b[35m   0.9196301102638245    \u001b[0m\u001b[35m \u001b[0m│\n",
       "│\u001b[36m \u001b[0m\u001b[36m    TestEpoch/F1Score    \u001b[0m\u001b[36m \u001b[0m│\u001b[35m \u001b[0m\u001b[35m   0.9198357462882996    \u001b[0m\u001b[35m \u001b[0m│\n",
       "│\u001b[36m \u001b[0m\u001b[36m   TestEpoch/Precision   \u001b[0m\u001b[36m \u001b[0m│\u001b[35m \u001b[0m\u001b[35m   0.9231463670730591    \u001b[0m\u001b[35m \u001b[0m│\n",
       "│\u001b[36m \u001b[0m\u001b[36m    TestEpoch/Recall     \u001b[0m\u001b[36m \u001b[0m│\u001b[35m \u001b[0m\u001b[35m   0.9196301102638245    \u001b[0m\u001b[35m \u001b[0m│\n",
       "└───────────────────────────┴───────────────────────────┘\n"
      ]
     },
     "metadata": {},
     "output_type": "display_data"
    },
    {
     "name": "stderr",
     "output_type": "stream",
     "text": [
      "GPU available: True (cuda), used: True\n",
      "TPU available: False, using: 0 TPU cores\n",
      "IPU available: False, using: 0 IPUs\n",
      "HPU available: False, using: 0 HPUs\n",
      "You are using a CUDA device ('NVIDIA GeForce RTX 4070 Ti') that has Tensor Cores. To properly utilize them, you should set `torch.set_float32_matmul_precision('medium' | 'high')` which will trade-off precision for performance. For more details, read https://pytorch.org/docs/stable/generated/torch.set_float32_matmul_precision.html#torch.set_float32_matmul_precision\n",
      "d:\\git\\beidou\\venv\\Lib\\site-packages\\lightning\\pytorch\\callbacks\\model_checkpoint.py:612: UserWarning: Checkpoint directory d:\\git\\beidou/experiments/10_clients_alpha_100_MNIST_ring_03_06_2024_16_51_13\\node_8\\version_0\\checkpoints exists and is not empty.\n",
      "  rank_zero_warn(f\"Checkpoint directory {dirpath} exists and is not empty.\")\n",
      "LOCAL_RANK: 0 - CUDA_VISIBLE_DEVICES: [0,1]\n",
      "\n",
      "  | Name          | Type                      | Params | In sizes | Out sizes\n",
      "-----------------------------------------------------------------------------------\n",
      "0 | train_metrics | MetricCollection          | 0      | ?        | ?        \n",
      "1 | val_metrics   | MetricCollection          | 0      | ?        | ?        \n",
      "2 | test_metrics  | MetricCollection          | 0      | ?        | ?        \n",
      "3 | cm            | MulticlassConfusionMatrix | 0      | ?        | ?        \n",
      "4 | criterion     | CrossEntropyLoss          | 0      | ?        | ?        \n",
      "5 | l1            | Linear                    | 200 K  | [1, 784] | [1, 256] \n",
      "6 | l2            | Linear                    | 32.9 K | [1, 256] | [1, 128] \n",
      "7 | l3            | Linear                    | 1.3 K  | [1, 128] | [1, 10]  \n",
      "-----------------------------------------------------------------------------------\n",
      "235 K     Trainable params\n",
      "0         Non-trainable params\n",
      "235 K     Total params\n",
      "0.941     Total estimated model params size (MB)\n"
     ]
    },
    {
     "name": "stdout",
     "output_type": "stream",
     "text": [
      "Epoch end: Validation, epoch number: 0\n",
      "Epoch end: Validation, epoch number: 1\n",
      "Epoch end: Train, epoch number: 0\n",
      "Epoch end: Validation, epoch number: 2\n",
      "Epoch end: Train, epoch number: 1\n"
     ]
    },
    {
     "name": "stderr",
     "output_type": "stream",
     "text": [
      "`Trainer.fit` stopped: `max_epochs=3` reached.\n",
      "You are using a CUDA device ('NVIDIA GeForce RTX 4070 Ti') that has Tensor Cores. To properly utilize them, you should set `torch.set_float32_matmul_precision('medium' | 'high')` which will trade-off precision for performance. For more details, read https://pytorch.org/docs/stable/generated/torch.set_float32_matmul_precision.html#torch.set_float32_matmul_precision\n"
     ]
    },
    {
     "name": "stdout",
     "output_type": "stream",
     "text": [
      "Epoch end: Validation, epoch number: 3\n",
      "Epoch end: Train, epoch number: 2\n",
      "Performance of Node 8 before aggregation at round 2\n"
     ]
    },
    {
     "name": "stderr",
     "output_type": "stream",
     "text": [
      "LOCAL_RANK: 0 - CUDA_VISIBLE_DEVICES: [0,1]\n"
     ]
    },
    {
     "name": "stdout",
     "output_type": "stream",
     "text": [
      "Epoch end: Test, epoch number: 1\n"
     ]
    },
    {
     "data": {
      "text/html": [
       "<pre style=\"white-space:pre;overflow-x:auto;line-height:normal;font-family:Menlo,'DejaVu Sans Mono',consolas,'Courier New',monospace\">┏━━━━━━━━━━━━━━━━━━━━━━━━━━━┳━━━━━━━━━━━━━━━━━━━━━━━━━━━┓\n",
       "┃<span style=\"font-weight: bold\">   Runningstage.testing    </span>┃<span style=\"font-weight: bold\">                           </span>┃\n",
       "┃<span style=\"font-weight: bold\">          metric           </span>┃<span style=\"font-weight: bold\">       DataLoader 0        </span>┃\n",
       "┡━━━━━━━━━━━━━━━━━━━━━━━━━━━╇━━━━━━━━━━━━━━━━━━━━━━━━━━━┩\n",
       "│<span style=\"color: #008080; text-decoration-color: #008080\">       Test/Accuracy       </span>│<span style=\"color: #800080; text-decoration-color: #800080\">    0.9131616950035095     </span>│\n",
       "│<span style=\"color: #008080; text-decoration-color: #008080\">       Test/F1Score        </span>│<span style=\"color: #800080; text-decoration-color: #800080\">    0.9052514433860779     </span>│\n",
       "│<span style=\"color: #008080; text-decoration-color: #008080\">         Test/Loss         </span>│<span style=\"color: #800080; text-decoration-color: #800080\">    0.3217445909976959     </span>│\n",
       "│<span style=\"color: #008080; text-decoration-color: #008080\">      Test/Precision       </span>│<span style=\"color: #800080; text-decoration-color: #800080\">    0.9149127006530762     </span>│\n",
       "│<span style=\"color: #008080; text-decoration-color: #008080\">        Test/Recall        </span>│<span style=\"color: #800080; text-decoration-color: #800080\">    0.9131616950035095     </span>│\n",
       "│<span style=\"color: #008080; text-decoration-color: #008080\">    TestEpoch/Accuracy     </span>│<span style=\"color: #800080; text-decoration-color: #800080\">    0.9144800901412964     </span>│\n",
       "│<span style=\"color: #008080; text-decoration-color: #008080\">     TestEpoch/F1Score     </span>│<span style=\"color: #800080; text-decoration-color: #800080\">    0.9133988618850708     </span>│\n",
       "│<span style=\"color: #008080; text-decoration-color: #008080\">    TestEpoch/Precision    </span>│<span style=\"color: #800080; text-decoration-color: #800080\">    0.9141767024993896     </span>│\n",
       "│<span style=\"color: #008080; text-decoration-color: #008080\">     TestEpoch/Recall      </span>│<span style=\"color: #800080; text-decoration-color: #800080\">    0.9144800901412964     </span>│\n",
       "└───────────────────────────┴───────────────────────────┘\n",
       "</pre>\n"
      ],
      "text/plain": [
       "┏━━━━━━━━━━━━━━━━━━━━━━━━━━━┳━━━━━━━━━━━━━━━━━━━━━━━━━━━┓\n",
       "┃\u001b[1m \u001b[0m\u001b[1m  Runningstage.testing   \u001b[0m\u001b[1m \u001b[0m┃\u001b[1m                           \u001b[0m┃\n",
       "┃\u001b[1m \u001b[0m\u001b[1m         metric          \u001b[0m\u001b[1m \u001b[0m┃\u001b[1m \u001b[0m\u001b[1m      DataLoader 0       \u001b[0m\u001b[1m \u001b[0m┃\n",
       "┡━━━━━━━━━━━━━━━━━━━━━━━━━━━╇━━━━━━━━━━━━━━━━━━━━━━━━━━━┩\n",
       "│\u001b[36m \u001b[0m\u001b[36m      Test/Accuracy      \u001b[0m\u001b[36m \u001b[0m│\u001b[35m \u001b[0m\u001b[35m   0.9131616950035095    \u001b[0m\u001b[35m \u001b[0m│\n",
       "│\u001b[36m \u001b[0m\u001b[36m      Test/F1Score       \u001b[0m\u001b[36m \u001b[0m│\u001b[35m \u001b[0m\u001b[35m   0.9052514433860779    \u001b[0m\u001b[35m \u001b[0m│\n",
       "│\u001b[36m \u001b[0m\u001b[36m        Test/Loss        \u001b[0m\u001b[36m \u001b[0m│\u001b[35m \u001b[0m\u001b[35m   0.3217445909976959    \u001b[0m\u001b[35m \u001b[0m│\n",
       "│\u001b[36m \u001b[0m\u001b[36m     Test/Precision      \u001b[0m\u001b[36m \u001b[0m│\u001b[35m \u001b[0m\u001b[35m   0.9149127006530762    \u001b[0m\u001b[35m \u001b[0m│\n",
       "│\u001b[36m \u001b[0m\u001b[36m       Test/Recall       \u001b[0m\u001b[36m \u001b[0m│\u001b[35m \u001b[0m\u001b[35m   0.9131616950035095    \u001b[0m\u001b[35m \u001b[0m│\n",
       "│\u001b[36m \u001b[0m\u001b[36m   TestEpoch/Accuracy    \u001b[0m\u001b[36m \u001b[0m│\u001b[35m \u001b[0m\u001b[35m   0.9144800901412964    \u001b[0m\u001b[35m \u001b[0m│\n",
       "│\u001b[36m \u001b[0m\u001b[36m    TestEpoch/F1Score    \u001b[0m\u001b[36m \u001b[0m│\u001b[35m \u001b[0m\u001b[35m   0.9133988618850708    \u001b[0m\u001b[35m \u001b[0m│\n",
       "│\u001b[36m \u001b[0m\u001b[36m   TestEpoch/Precision   \u001b[0m\u001b[36m \u001b[0m│\u001b[35m \u001b[0m\u001b[35m   0.9141767024993896    \u001b[0m\u001b[35m \u001b[0m│\n",
       "│\u001b[36m \u001b[0m\u001b[36m    TestEpoch/Recall     \u001b[0m\u001b[36m \u001b[0m│\u001b[35m \u001b[0m\u001b[35m   0.9144800901412964    \u001b[0m\u001b[35m \u001b[0m│\n",
       "└───────────────────────────┴───────────────────────────┘\n"
      ]
     },
     "metadata": {},
     "output_type": "display_data"
    },
    {
     "name": "stderr",
     "output_type": "stream",
     "text": [
      "GPU available: True (cuda), used: True\n",
      "TPU available: False, using: 0 TPU cores\n",
      "IPU available: False, using: 0 IPUs\n",
      "HPU available: False, using: 0 HPUs\n",
      "You are using a CUDA device ('NVIDIA GeForce RTX 4070 Ti') that has Tensor Cores. To properly utilize them, you should set `torch.set_float32_matmul_precision('medium' | 'high')` which will trade-off precision for performance. For more details, read https://pytorch.org/docs/stable/generated/torch.set_float32_matmul_precision.html#torch.set_float32_matmul_precision\n",
      "d:\\git\\beidou\\venv\\Lib\\site-packages\\lightning\\pytorch\\callbacks\\model_checkpoint.py:612: UserWarning: Checkpoint directory d:\\git\\beidou/experiments/10_clients_alpha_100_MNIST_ring_03_06_2024_16_51_13\\node_9\\version_0\\checkpoints exists and is not empty.\n",
      "  rank_zero_warn(f\"Checkpoint directory {dirpath} exists and is not empty.\")\n",
      "LOCAL_RANK: 0 - CUDA_VISIBLE_DEVICES: [0,1]\n",
      "\n",
      "  | Name          | Type                      | Params | In sizes | Out sizes\n",
      "-----------------------------------------------------------------------------------\n",
      "0 | train_metrics | MetricCollection          | 0      | ?        | ?        \n",
      "1 | val_metrics   | MetricCollection          | 0      | ?        | ?        \n",
      "2 | test_metrics  | MetricCollection          | 0      | ?        | ?        \n",
      "3 | cm            | MulticlassConfusionMatrix | 0      | ?        | ?        \n",
      "4 | criterion     | CrossEntropyLoss          | 0      | ?        | ?        \n",
      "5 | l1            | Linear                    | 200 K  | [1, 784] | [1, 256] \n",
      "6 | l2            | Linear                    | 32.9 K | [1, 256] | [1, 128] \n",
      "7 | l3            | Linear                    | 1.3 K  | [1, 128] | [1, 10]  \n",
      "-----------------------------------------------------------------------------------\n",
      "235 K     Trainable params\n",
      "0         Non-trainable params\n",
      "235 K     Total params\n",
      "0.941     Total estimated model params size (MB)\n"
     ]
    },
    {
     "name": "stdout",
     "output_type": "stream",
     "text": [
      "Epoch end: Validation, epoch number: 0\n",
      "Epoch end: Validation, epoch number: 1\n",
      "Epoch end: Train, epoch number: 0\n",
      "Epoch end: Validation, epoch number: 2\n",
      "Epoch end: Train, epoch number: 1\n"
     ]
    },
    {
     "name": "stderr",
     "output_type": "stream",
     "text": [
      "`Trainer.fit` stopped: `max_epochs=3` reached.\n",
      "You are using a CUDA device ('NVIDIA GeForce RTX 4070 Ti') that has Tensor Cores. To properly utilize them, you should set `torch.set_float32_matmul_precision('medium' | 'high')` which will trade-off precision for performance. For more details, read https://pytorch.org/docs/stable/generated/torch.set_float32_matmul_precision.html#torch.set_float32_matmul_precision\n"
     ]
    },
    {
     "name": "stdout",
     "output_type": "stream",
     "text": [
      "Epoch end: Validation, epoch number: 3\n",
      "Epoch end: Train, epoch number: 2\n",
      "Performance of Node 9 before aggregation at round 2\n"
     ]
    },
    {
     "name": "stderr",
     "output_type": "stream",
     "text": [
      "LOCAL_RANK: 0 - CUDA_VISIBLE_DEVICES: [0,1]\n"
     ]
    },
    {
     "name": "stdout",
     "output_type": "stream",
     "text": [
      "Epoch end: Test, epoch number: 1\n"
     ]
    },
    {
     "data": {
      "text/html": [
       "<pre style=\"white-space:pre;overflow-x:auto;line-height:normal;font-family:Menlo,'DejaVu Sans Mono',consolas,'Courier New',monospace\">┏━━━━━━━━━━━━━━━━━━━━━━━━━━━┳━━━━━━━━━━━━━━━━━━━━━━━━━━━┓\n",
       "┃<span style=\"font-weight: bold\">   Runningstage.testing    </span>┃<span style=\"font-weight: bold\">                           </span>┃\n",
       "┃<span style=\"font-weight: bold\">          metric           </span>┃<span style=\"font-weight: bold\">       DataLoader 0        </span>┃\n",
       "┡━━━━━━━━━━━━━━━━━━━━━━━━━━━╇━━━━━━━━━━━━━━━━━━━━━━━━━━━┩\n",
       "│<span style=\"color: #008080; text-decoration-color: #008080\">       Test/Accuracy       </span>│<span style=\"color: #800080; text-decoration-color: #800080\">    0.9044797420501709     </span>│\n",
       "│<span style=\"color: #008080; text-decoration-color: #008080\">       Test/F1Score        </span>│<span style=\"color: #800080; text-decoration-color: #800080\">    0.8933593034744263     </span>│\n",
       "│<span style=\"color: #008080; text-decoration-color: #008080\">         Test/Loss         </span>│<span style=\"color: #800080; text-decoration-color: #800080\">     0.326854944229126     </span>│\n",
       "│<span style=\"color: #008080; text-decoration-color: #008080\">      Test/Precision       </span>│<span style=\"color: #800080; text-decoration-color: #800080\">    0.9080813527107239     </span>│\n",
       "│<span style=\"color: #008080; text-decoration-color: #008080\">        Test/Recall        </span>│<span style=\"color: #800080; text-decoration-color: #800080\">    0.9044797420501709     </span>│\n",
       "│<span style=\"color: #008080; text-decoration-color: #008080\">    TestEpoch/Accuracy     </span>│<span style=\"color: #800080; text-decoration-color: #800080\">    0.8972874879837036     </span>│\n",
       "│<span style=\"color: #008080; text-decoration-color: #008080\">     TestEpoch/F1Score     </span>│<span style=\"color: #800080; text-decoration-color: #800080\">    0.8978546857833862     </span>│\n",
       "│<span style=\"color: #008080; text-decoration-color: #008080\">    TestEpoch/Precision    </span>│<span style=\"color: #800080; text-decoration-color: #800080\">    0.9064900875091553     </span>│\n",
       "│<span style=\"color: #008080; text-decoration-color: #008080\">     TestEpoch/Recall      </span>│<span style=\"color: #800080; text-decoration-color: #800080\">    0.8972874879837036     </span>│\n",
       "└───────────────────────────┴───────────────────────────┘\n",
       "</pre>\n"
      ],
      "text/plain": [
       "┏━━━━━━━━━━━━━━━━━━━━━━━━━━━┳━━━━━━━━━━━━━━━━━━━━━━━━━━━┓\n",
       "┃\u001b[1m \u001b[0m\u001b[1m  Runningstage.testing   \u001b[0m\u001b[1m \u001b[0m┃\u001b[1m                           \u001b[0m┃\n",
       "┃\u001b[1m \u001b[0m\u001b[1m         metric          \u001b[0m\u001b[1m \u001b[0m┃\u001b[1m \u001b[0m\u001b[1m      DataLoader 0       \u001b[0m\u001b[1m \u001b[0m┃\n",
       "┡━━━━━━━━━━━━━━━━━━━━━━━━━━━╇━━━━━━━━━━━━━━━━━━━━━━━━━━━┩\n",
       "│\u001b[36m \u001b[0m\u001b[36m      Test/Accuracy      \u001b[0m\u001b[36m \u001b[0m│\u001b[35m \u001b[0m\u001b[35m   0.9044797420501709    \u001b[0m\u001b[35m \u001b[0m│\n",
       "│\u001b[36m \u001b[0m\u001b[36m      Test/F1Score       \u001b[0m\u001b[36m \u001b[0m│\u001b[35m \u001b[0m\u001b[35m   0.8933593034744263    \u001b[0m\u001b[35m \u001b[0m│\n",
       "│\u001b[36m \u001b[0m\u001b[36m        Test/Loss        \u001b[0m\u001b[36m \u001b[0m│\u001b[35m \u001b[0m\u001b[35m    0.326854944229126    \u001b[0m\u001b[35m \u001b[0m│\n",
       "│\u001b[36m \u001b[0m\u001b[36m     Test/Precision      \u001b[0m\u001b[36m \u001b[0m│\u001b[35m \u001b[0m\u001b[35m   0.9080813527107239    \u001b[0m\u001b[35m \u001b[0m│\n",
       "│\u001b[36m \u001b[0m\u001b[36m       Test/Recall       \u001b[0m\u001b[36m \u001b[0m│\u001b[35m \u001b[0m\u001b[35m   0.9044797420501709    \u001b[0m\u001b[35m \u001b[0m│\n",
       "│\u001b[36m \u001b[0m\u001b[36m   TestEpoch/Accuracy    \u001b[0m\u001b[36m \u001b[0m│\u001b[35m \u001b[0m\u001b[35m   0.8972874879837036    \u001b[0m\u001b[35m \u001b[0m│\n",
       "│\u001b[36m \u001b[0m\u001b[36m    TestEpoch/F1Score    \u001b[0m\u001b[36m \u001b[0m│\u001b[35m \u001b[0m\u001b[35m   0.8978546857833862    \u001b[0m\u001b[35m \u001b[0m│\n",
       "│\u001b[36m \u001b[0m\u001b[36m   TestEpoch/Precision   \u001b[0m\u001b[36m \u001b[0m│\u001b[35m \u001b[0m\u001b[35m   0.9064900875091553    \u001b[0m\u001b[35m \u001b[0m│\n",
       "│\u001b[36m \u001b[0m\u001b[36m    TestEpoch/Recall     \u001b[0m\u001b[36m \u001b[0m│\u001b[35m \u001b[0m\u001b[35m   0.8972874879837036    \u001b[0m\u001b[35m \u001b[0m│\n",
       "└───────────────────────────┴───────────────────────────┘\n"
      ]
     },
     "metadata": {},
     "output_type": "display_data"
    },
    {
     "name": "stderr",
     "output_type": "stream",
     "text": [
      "GPU available: True (cuda), used: True\n",
      "TPU available: False, using: 0 TPU cores\n",
      "IPU available: False, using: 0 IPUs\n",
      "HPU available: False, using: 0 HPUs\n",
      "You are using a CUDA device ('NVIDIA GeForce RTX 4070 Ti') that has Tensor Cores. To properly utilize them, you should set `torch.set_float32_matmul_precision('medium' | 'high')` which will trade-off precision for performance. For more details, read https://pytorch.org/docs/stable/generated/torch.set_float32_matmul_precision.html#torch.set_float32_matmul_precision\n",
      "LOCAL_RANK: 0 - CUDA_VISIBLE_DEVICES: [0,1]\n"
     ]
    },
    {
     "name": "stdout",
     "output_type": "stream",
     "text": [
      "Node 0 aggregate model with [1, 9]\n",
      "Performance of Node 0 after aggregation at round 2\n"
     ]
    },
    {
     "data": {
      "application/vnd.jupyter.widget-view+json": {
       "model_id": "96ac5b82e12c422ba40bd918bfb22fae",
       "version_major": 2,
       "version_minor": 0
      },
      "text/plain": [
       "Testing: 0it [00:00, ?it/s]"
      ]
     },
     "metadata": {},
     "output_type": "display_data"
    },
    {
     "name": "stdout",
     "output_type": "stream",
     "text": [
      "Epoch end: Test, epoch number: 2\n"
     ]
    },
    {
     "data": {
      "text/html": [
       "<pre style=\"white-space:pre;overflow-x:auto;line-height:normal;font-family:Menlo,'DejaVu Sans Mono',consolas,'Courier New',monospace\">┏━━━━━━━━━━━━━━━━━━━━━━━━━━━┳━━━━━━━━━━━━━━━━━━━━━━━━━━━┓\n",
       "┃<span style=\"font-weight: bold\">   Runningstage.testing    </span>┃<span style=\"font-weight: bold\">                           </span>┃\n",
       "┃<span style=\"font-weight: bold\">          metric           </span>┃<span style=\"font-weight: bold\">       DataLoader 0        </span>┃\n",
       "┡━━━━━━━━━━━━━━━━━━━━━━━━━━━╇━━━━━━━━━━━━━━━━━━━━━━━━━━━┩\n",
       "│<span style=\"color: #008080; text-decoration-color: #008080\">       Test/Accuracy       </span>│<span style=\"color: #800080; text-decoration-color: #800080\">    0.8756067752838135     </span>│\n",
       "│<span style=\"color: #008080; text-decoration-color: #008080\">       Test/F1Score        </span>│<span style=\"color: #800080; text-decoration-color: #800080\">    0.8672246336936951     </span>│\n",
       "│<span style=\"color: #008080; text-decoration-color: #008080\">         Test/Loss         </span>│<span style=\"color: #800080; text-decoration-color: #800080\">     0.476867139339447     </span>│\n",
       "│<span style=\"color: #008080; text-decoration-color: #008080\">      Test/Precision       </span>│<span style=\"color: #800080; text-decoration-color: #800080\">    0.8791015148162842     </span>│\n",
       "│<span style=\"color: #008080; text-decoration-color: #008080\">        Test/Recall        </span>│<span style=\"color: #800080; text-decoration-color: #800080\">    0.8756067752838135     </span>│\n",
       "│<span style=\"color: #008080; text-decoration-color: #008080\">    TestEpoch/Accuracy     </span>│<span style=\"color: #800080; text-decoration-color: #800080\">    0.8788397312164307     </span>│\n",
       "│<span style=\"color: #008080; text-decoration-color: #008080\">     TestEpoch/F1Score     </span>│<span style=\"color: #800080; text-decoration-color: #800080\">    0.8791080713272095     </span>│\n",
       "│<span style=\"color: #008080; text-decoration-color: #008080\">    TestEpoch/Precision    </span>│<span style=\"color: #800080; text-decoration-color: #800080\">    0.8833514451980591     </span>│\n",
       "│<span style=\"color: #008080; text-decoration-color: #008080\">     TestEpoch/Recall      </span>│<span style=\"color: #800080; text-decoration-color: #800080\">    0.8788397312164307     </span>│\n",
       "└───────────────────────────┴───────────────────────────┘\n",
       "</pre>\n"
      ],
      "text/plain": [
       "┏━━━━━━━━━━━━━━━━━━━━━━━━━━━┳━━━━━━━━━━━━━━━━━━━━━━━━━━━┓\n",
       "┃\u001b[1m \u001b[0m\u001b[1m  Runningstage.testing   \u001b[0m\u001b[1m \u001b[0m┃\u001b[1m                           \u001b[0m┃\n",
       "┃\u001b[1m \u001b[0m\u001b[1m         metric          \u001b[0m\u001b[1m \u001b[0m┃\u001b[1m \u001b[0m\u001b[1m      DataLoader 0       \u001b[0m\u001b[1m \u001b[0m┃\n",
       "┡━━━━━━━━━━━━━━━━━━━━━━━━━━━╇━━━━━━━━━━━━━━━━━━━━━━━━━━━┩\n",
       "│\u001b[36m \u001b[0m\u001b[36m      Test/Accuracy      \u001b[0m\u001b[36m \u001b[0m│\u001b[35m \u001b[0m\u001b[35m   0.8756067752838135    \u001b[0m\u001b[35m \u001b[0m│\n",
       "│\u001b[36m \u001b[0m\u001b[36m      Test/F1Score       \u001b[0m\u001b[36m \u001b[0m│\u001b[35m \u001b[0m\u001b[35m   0.8672246336936951    \u001b[0m\u001b[35m \u001b[0m│\n",
       "│\u001b[36m \u001b[0m\u001b[36m        Test/Loss        \u001b[0m\u001b[36m \u001b[0m│\u001b[35m \u001b[0m\u001b[35m    0.476867139339447    \u001b[0m\u001b[35m \u001b[0m│\n",
       "│\u001b[36m \u001b[0m\u001b[36m     Test/Precision      \u001b[0m\u001b[36m \u001b[0m│\u001b[35m \u001b[0m\u001b[35m   0.8791015148162842    \u001b[0m\u001b[35m \u001b[0m│\n",
       "│\u001b[36m \u001b[0m\u001b[36m       Test/Recall       \u001b[0m\u001b[36m \u001b[0m│\u001b[35m \u001b[0m\u001b[35m   0.8756067752838135    \u001b[0m\u001b[35m \u001b[0m│\n",
       "│\u001b[36m \u001b[0m\u001b[36m   TestEpoch/Accuracy    \u001b[0m\u001b[36m \u001b[0m│\u001b[35m \u001b[0m\u001b[35m   0.8788397312164307    \u001b[0m\u001b[35m \u001b[0m│\n",
       "│\u001b[36m \u001b[0m\u001b[36m    TestEpoch/F1Score    \u001b[0m\u001b[36m \u001b[0m│\u001b[35m \u001b[0m\u001b[35m   0.8791080713272095    \u001b[0m\u001b[35m \u001b[0m│\n",
       "│\u001b[36m \u001b[0m\u001b[36m   TestEpoch/Precision   \u001b[0m\u001b[36m \u001b[0m│\u001b[35m \u001b[0m\u001b[35m   0.8833514451980591    \u001b[0m\u001b[35m \u001b[0m│\n",
       "│\u001b[36m \u001b[0m\u001b[36m    TestEpoch/Recall     \u001b[0m\u001b[36m \u001b[0m│\u001b[35m \u001b[0m\u001b[35m   0.8788397312164307    \u001b[0m\u001b[35m \u001b[0m│\n",
       "└───────────────────────────┴───────────────────────────┘\n"
      ]
     },
     "metadata": {},
     "output_type": "display_data"
    },
    {
     "name": "stderr",
     "output_type": "stream",
     "text": [
      "GPU available: True (cuda), used: True\n",
      "TPU available: False, using: 0 TPU cores\n",
      "IPU available: False, using: 0 IPUs\n",
      "HPU available: False, using: 0 HPUs\n",
      "You are using a CUDA device ('NVIDIA GeForce RTX 4070 Ti') that has Tensor Cores. To properly utilize them, you should set `torch.set_float32_matmul_precision('medium' | 'high')` which will trade-off precision for performance. For more details, read https://pytorch.org/docs/stable/generated/torch.set_float32_matmul_precision.html#torch.set_float32_matmul_precision\n",
      "LOCAL_RANK: 0 - CUDA_VISIBLE_DEVICES: [0,1]\n"
     ]
    },
    {
     "name": "stdout",
     "output_type": "stream",
     "text": [
      "Node 1 aggregate model with [0, 2]\n",
      "Performance of Node 1 after aggregation at round 2\n"
     ]
    },
    {
     "data": {
      "application/vnd.jupyter.widget-view+json": {
       "model_id": "b96d69a863ff4d719c498da6aff40022",
       "version_major": 2,
       "version_minor": 0
      },
      "text/plain": [
       "Testing: 0it [00:00, ?it/s]"
      ]
     },
     "metadata": {},
     "output_type": "display_data"
    },
    {
     "name": "stdout",
     "output_type": "stream",
     "text": [
      "Epoch end: Test, epoch number: 2\n"
     ]
    },
    {
     "data": {
      "text/html": [
       "<pre style=\"white-space:pre;overflow-x:auto;line-height:normal;font-family:Menlo,'DejaVu Sans Mono',consolas,'Courier New',monospace\">┏━━━━━━━━━━━━━━━━━━━━━━━━━━━┳━━━━━━━━━━━━━━━━━━━━━━━━━━━┓\n",
       "┃<span style=\"font-weight: bold\">   Runningstage.testing    </span>┃<span style=\"font-weight: bold\">                           </span>┃\n",
       "┃<span style=\"font-weight: bold\">          metric           </span>┃<span style=\"font-weight: bold\">       DataLoader 0        </span>┃\n",
       "┡━━━━━━━━━━━━━━━━━━━━━━━━━━━╇━━━━━━━━━━━━━━━━━━━━━━━━━━━┩\n",
       "│<span style=\"color: #008080; text-decoration-color: #008080\">       Test/Accuracy       </span>│<span style=\"color: #800080; text-decoration-color: #800080\">    0.9080691337585449     </span>│\n",
       "│<span style=\"color: #008080; text-decoration-color: #008080\">       Test/F1Score        </span>│<span style=\"color: #800080; text-decoration-color: #800080\">    0.9010494947433472     </span>│\n",
       "│<span style=\"color: #008080; text-decoration-color: #008080\">         Test/Loss         </span>│<span style=\"color: #800080; text-decoration-color: #800080\">    0.45308226346969604    </span>│\n",
       "│<span style=\"color: #008080; text-decoration-color: #008080\">      Test/Precision       </span>│<span style=\"color: #800080; text-decoration-color: #800080\">     0.91307532787323      </span>│\n",
       "│<span style=\"color: #008080; text-decoration-color: #008080\">        Test/Recall        </span>│<span style=\"color: #800080; text-decoration-color: #800080\">    0.9080691337585449     </span>│\n",
       "│<span style=\"color: #008080; text-decoration-color: #008080\">    TestEpoch/Accuracy     </span>│<span style=\"color: #800080; text-decoration-color: #800080\">    0.9105339646339417     </span>│\n",
       "│<span style=\"color: #008080; text-decoration-color: #008080\">     TestEpoch/F1Score     </span>│<span style=\"color: #800080; text-decoration-color: #800080\">    0.9102368354797363     </span>│\n",
       "│<span style=\"color: #008080; text-decoration-color: #008080\">    TestEpoch/Precision    </span>│<span style=\"color: #800080; text-decoration-color: #800080\">    0.9145026803016663     </span>│\n",
       "│<span style=\"color: #008080; text-decoration-color: #008080\">     TestEpoch/Recall      </span>│<span style=\"color: #800080; text-decoration-color: #800080\">    0.9105339646339417     </span>│\n",
       "└───────────────────────────┴───────────────────────────┘\n",
       "</pre>\n"
      ],
      "text/plain": [
       "┏━━━━━━━━━━━━━━━━━━━━━━━━━━━┳━━━━━━━━━━━━━━━━━━━━━━━━━━━┓\n",
       "┃\u001b[1m \u001b[0m\u001b[1m  Runningstage.testing   \u001b[0m\u001b[1m \u001b[0m┃\u001b[1m                           \u001b[0m┃\n",
       "┃\u001b[1m \u001b[0m\u001b[1m         metric          \u001b[0m\u001b[1m \u001b[0m┃\u001b[1m \u001b[0m\u001b[1m      DataLoader 0       \u001b[0m\u001b[1m \u001b[0m┃\n",
       "┡━━━━━━━━━━━━━━━━━━━━━━━━━━━╇━━━━━━━━━━━━━━━━━━━━━━━━━━━┩\n",
       "│\u001b[36m \u001b[0m\u001b[36m      Test/Accuracy      \u001b[0m\u001b[36m \u001b[0m│\u001b[35m \u001b[0m\u001b[35m   0.9080691337585449    \u001b[0m\u001b[35m \u001b[0m│\n",
       "│\u001b[36m \u001b[0m\u001b[36m      Test/F1Score       \u001b[0m\u001b[36m \u001b[0m│\u001b[35m \u001b[0m\u001b[35m   0.9010494947433472    \u001b[0m\u001b[35m \u001b[0m│\n",
       "│\u001b[36m \u001b[0m\u001b[36m        Test/Loss        \u001b[0m\u001b[36m \u001b[0m│\u001b[35m \u001b[0m\u001b[35m   0.45308226346969604   \u001b[0m\u001b[35m \u001b[0m│\n",
       "│\u001b[36m \u001b[0m\u001b[36m     Test/Precision      \u001b[0m\u001b[36m \u001b[0m│\u001b[35m \u001b[0m\u001b[35m    0.91307532787323     \u001b[0m\u001b[35m \u001b[0m│\n",
       "│\u001b[36m \u001b[0m\u001b[36m       Test/Recall       \u001b[0m\u001b[36m \u001b[0m│\u001b[35m \u001b[0m\u001b[35m   0.9080691337585449    \u001b[0m\u001b[35m \u001b[0m│\n",
       "│\u001b[36m \u001b[0m\u001b[36m   TestEpoch/Accuracy    \u001b[0m\u001b[36m \u001b[0m│\u001b[35m \u001b[0m\u001b[35m   0.9105339646339417    \u001b[0m\u001b[35m \u001b[0m│\n",
       "│\u001b[36m \u001b[0m\u001b[36m    TestEpoch/F1Score    \u001b[0m\u001b[36m \u001b[0m│\u001b[35m \u001b[0m\u001b[35m   0.9102368354797363    \u001b[0m\u001b[35m \u001b[0m│\n",
       "│\u001b[36m \u001b[0m\u001b[36m   TestEpoch/Precision   \u001b[0m\u001b[36m \u001b[0m│\u001b[35m \u001b[0m\u001b[35m   0.9145026803016663    \u001b[0m\u001b[35m \u001b[0m│\n",
       "│\u001b[36m \u001b[0m\u001b[36m    TestEpoch/Recall     \u001b[0m\u001b[36m \u001b[0m│\u001b[35m \u001b[0m\u001b[35m   0.9105339646339417    \u001b[0m\u001b[35m \u001b[0m│\n",
       "└───────────────────────────┴───────────────────────────┘\n"
      ]
     },
     "metadata": {},
     "output_type": "display_data"
    },
    {
     "name": "stderr",
     "output_type": "stream",
     "text": [
      "GPU available: True (cuda), used: True\n",
      "TPU available: False, using: 0 TPU cores\n",
      "IPU available: False, using: 0 IPUs\n",
      "HPU available: False, using: 0 HPUs\n",
      "You are using a CUDA device ('NVIDIA GeForce RTX 4070 Ti') that has Tensor Cores. To properly utilize them, you should set `torch.set_float32_matmul_precision('medium' | 'high')` which will trade-off precision for performance. For more details, read https://pytorch.org/docs/stable/generated/torch.set_float32_matmul_precision.html#torch.set_float32_matmul_precision\n",
      "LOCAL_RANK: 0 - CUDA_VISIBLE_DEVICES: [0,1]\n"
     ]
    },
    {
     "name": "stdout",
     "output_type": "stream",
     "text": [
      "Node 2 aggregate model with [1, 3]\n",
      "Performance of Node 2 after aggregation at round 2\n"
     ]
    },
    {
     "data": {
      "application/vnd.jupyter.widget-view+json": {
       "model_id": "10cbd5d665c24f93a104cdbbe0cbc9e5",
       "version_major": 2,
       "version_minor": 0
      },
      "text/plain": [
       "Testing: 0it [00:00, ?it/s]"
      ]
     },
     "metadata": {},
     "output_type": "display_data"
    },
    {
     "name": "stdout",
     "output_type": "stream",
     "text": [
      "Epoch end: Test, epoch number: 2\n"
     ]
    },
    {
     "data": {
      "text/html": [
       "<pre style=\"white-space:pre;overflow-x:auto;line-height:normal;font-family:Menlo,'DejaVu Sans Mono',consolas,'Courier New',monospace\">┏━━━━━━━━━━━━━━━━━━━━━━━━━━━┳━━━━━━━━━━━━━━━━━━━━━━━━━━━┓\n",
       "┃<span style=\"font-weight: bold\">   Runningstage.testing    </span>┃<span style=\"font-weight: bold\">                           </span>┃\n",
       "┃<span style=\"font-weight: bold\">          metric           </span>┃<span style=\"font-weight: bold\">       DataLoader 0        </span>┃\n",
       "┡━━━━━━━━━━━━━━━━━━━━━━━━━━━╇━━━━━━━━━━━━━━━━━━━━━━━━━━━┩\n",
       "│<span style=\"color: #008080; text-decoration-color: #008080\">       Test/Accuracy       </span>│<span style=\"color: #800080; text-decoration-color: #800080\">    0.9374653100967407     </span>│\n",
       "│<span style=\"color: #008080; text-decoration-color: #008080\">       Test/F1Score        </span>│<span style=\"color: #800080; text-decoration-color: #800080\">    0.9332942366600037     </span>│\n",
       "│<span style=\"color: #008080; text-decoration-color: #008080\">         Test/Loss         </span>│<span style=\"color: #800080; text-decoration-color: #800080\">    0.39563679695129395    </span>│\n",
       "│<span style=\"color: #008080; text-decoration-color: #008080\">      Test/Precision       </span>│<span style=\"color: #800080; text-decoration-color: #800080\">    0.9410114288330078     </span>│\n",
       "│<span style=\"color: #008080; text-decoration-color: #008080\">        Test/Recall        </span>│<span style=\"color: #800080; text-decoration-color: #800080\">    0.9374653100967407     </span>│\n",
       "│<span style=\"color: #008080; text-decoration-color: #008080\">    TestEpoch/Accuracy     </span>│<span style=\"color: #800080; text-decoration-color: #800080\">    0.9340011477470398     </span>│\n",
       "│<span style=\"color: #008080; text-decoration-color: #008080\">     TestEpoch/F1Score     </span>│<span style=\"color: #800080; text-decoration-color: #800080\">    0.9334740042686462     </span>│\n",
       "│<span style=\"color: #008080; text-decoration-color: #008080\">    TestEpoch/Precision    </span>│<span style=\"color: #800080; text-decoration-color: #800080\">    0.9342665076255798     </span>│\n",
       "│<span style=\"color: #008080; text-decoration-color: #008080\">     TestEpoch/Recall      </span>│<span style=\"color: #800080; text-decoration-color: #800080\">    0.9340011477470398     </span>│\n",
       "└───────────────────────────┴───────────────────────────┘\n",
       "</pre>\n"
      ],
      "text/plain": [
       "┏━━━━━━━━━━━━━━━━━━━━━━━━━━━┳━━━━━━━━━━━━━━━━━━━━━━━━━━━┓\n",
       "┃\u001b[1m \u001b[0m\u001b[1m  Runningstage.testing   \u001b[0m\u001b[1m \u001b[0m┃\u001b[1m                           \u001b[0m┃\n",
       "┃\u001b[1m \u001b[0m\u001b[1m         metric          \u001b[0m\u001b[1m \u001b[0m┃\u001b[1m \u001b[0m\u001b[1m      DataLoader 0       \u001b[0m\u001b[1m \u001b[0m┃\n",
       "┡━━━━━━━━━━━━━━━━━━━━━━━━━━━╇━━━━━━━━━━━━━━━━━━━━━━━━━━━┩\n",
       "│\u001b[36m \u001b[0m\u001b[36m      Test/Accuracy      \u001b[0m\u001b[36m \u001b[0m│\u001b[35m \u001b[0m\u001b[35m   0.9374653100967407    \u001b[0m\u001b[35m \u001b[0m│\n",
       "│\u001b[36m \u001b[0m\u001b[36m      Test/F1Score       \u001b[0m\u001b[36m \u001b[0m│\u001b[35m \u001b[0m\u001b[35m   0.9332942366600037    \u001b[0m\u001b[35m \u001b[0m│\n",
       "│\u001b[36m \u001b[0m\u001b[36m        Test/Loss        \u001b[0m\u001b[36m \u001b[0m│\u001b[35m \u001b[0m\u001b[35m   0.39563679695129395   \u001b[0m\u001b[35m \u001b[0m│\n",
       "│\u001b[36m \u001b[0m\u001b[36m     Test/Precision      \u001b[0m\u001b[36m \u001b[0m│\u001b[35m \u001b[0m\u001b[35m   0.9410114288330078    \u001b[0m\u001b[35m \u001b[0m│\n",
       "│\u001b[36m \u001b[0m\u001b[36m       Test/Recall       \u001b[0m\u001b[36m \u001b[0m│\u001b[35m \u001b[0m\u001b[35m   0.9374653100967407    \u001b[0m\u001b[35m \u001b[0m│\n",
       "│\u001b[36m \u001b[0m\u001b[36m   TestEpoch/Accuracy    \u001b[0m\u001b[36m \u001b[0m│\u001b[35m \u001b[0m\u001b[35m   0.9340011477470398    \u001b[0m\u001b[35m \u001b[0m│\n",
       "│\u001b[36m \u001b[0m\u001b[36m    TestEpoch/F1Score    \u001b[0m\u001b[36m \u001b[0m│\u001b[35m \u001b[0m\u001b[35m   0.9334740042686462    \u001b[0m\u001b[35m \u001b[0m│\n",
       "│\u001b[36m \u001b[0m\u001b[36m   TestEpoch/Precision   \u001b[0m\u001b[36m \u001b[0m│\u001b[35m \u001b[0m\u001b[35m   0.9342665076255798    \u001b[0m\u001b[35m \u001b[0m│\n",
       "│\u001b[36m \u001b[0m\u001b[36m    TestEpoch/Recall     \u001b[0m\u001b[36m \u001b[0m│\u001b[35m \u001b[0m\u001b[35m   0.9340011477470398    \u001b[0m\u001b[35m \u001b[0m│\n",
       "└───────────────────────────┴───────────────────────────┘\n"
      ]
     },
     "metadata": {},
     "output_type": "display_data"
    },
    {
     "name": "stderr",
     "output_type": "stream",
     "text": [
      "GPU available: True (cuda), used: True\n",
      "TPU available: False, using: 0 TPU cores\n",
      "IPU available: False, using: 0 IPUs\n",
      "HPU available: False, using: 0 HPUs\n",
      "You are using a CUDA device ('NVIDIA GeForce RTX 4070 Ti') that has Tensor Cores. To properly utilize them, you should set `torch.set_float32_matmul_precision('medium' | 'high')` which will trade-off precision for performance. For more details, read https://pytorch.org/docs/stable/generated/torch.set_float32_matmul_precision.html#torch.set_float32_matmul_precision\n",
      "LOCAL_RANK: 0 - CUDA_VISIBLE_DEVICES: [0,1]\n"
     ]
    },
    {
     "name": "stdout",
     "output_type": "stream",
     "text": [
      "Node 3 aggregate model with [2, 4]\n",
      "Performance of Node 3 after aggregation at round 2\n"
     ]
    },
    {
     "data": {
      "application/vnd.jupyter.widget-view+json": {
       "model_id": "a84818db489549d29e26c6848706bad5",
       "version_major": 2,
       "version_minor": 0
      },
      "text/plain": [
       "Testing: 0it [00:00, ?it/s]"
      ]
     },
     "metadata": {},
     "output_type": "display_data"
    },
    {
     "name": "stdout",
     "output_type": "stream",
     "text": [
      "Epoch end: Test, epoch number: 2\n"
     ]
    },
    {
     "data": {
      "text/html": [
       "<pre style=\"white-space:pre;overflow-x:auto;line-height:normal;font-family:Menlo,'DejaVu Sans Mono',consolas,'Courier New',monospace\">┏━━━━━━━━━━━━━━━━━━━━━━━━━━━┳━━━━━━━━━━━━━━━━━━━━━━━━━━━┓\n",
       "┃<span style=\"font-weight: bold\">   Runningstage.testing    </span>┃<span style=\"font-weight: bold\">                           </span>┃\n",
       "┃<span style=\"font-weight: bold\">          metric           </span>┃<span style=\"font-weight: bold\">       DataLoader 0        </span>┃\n",
       "┡━━━━━━━━━━━━━━━━━━━━━━━━━━━╇━━━━━━━━━━━━━━━━━━━━━━━━━━━┩\n",
       "│<span style=\"color: #008080; text-decoration-color: #008080\">       Test/Accuracy       </span>│<span style=\"color: #800080; text-decoration-color: #800080\">    0.9093636870384216     </span>│\n",
       "│<span style=\"color: #008080; text-decoration-color: #008080\">       Test/F1Score        </span>│<span style=\"color: #800080; text-decoration-color: #800080\">    0.9018904566764832     </span>│\n",
       "│<span style=\"color: #008080; text-decoration-color: #008080\">         Test/Loss         </span>│<span style=\"color: #800080; text-decoration-color: #800080\">    0.4276232123374939     </span>│\n",
       "│<span style=\"color: #008080; text-decoration-color: #008080\">      Test/Precision       </span>│<span style=\"color: #800080; text-decoration-color: #800080\">    0.9100021123886108     </span>│\n",
       "│<span style=\"color: #008080; text-decoration-color: #008080\">        Test/Recall        </span>│<span style=\"color: #800080; text-decoration-color: #800080\">    0.9093636870384216     </span>│\n",
       "│<span style=\"color: #008080; text-decoration-color: #008080\">    TestEpoch/Accuracy     </span>│<span style=\"color: #800080; text-decoration-color: #800080\">    0.9075644016265869     </span>│\n",
       "│<span style=\"color: #008080; text-decoration-color: #008080\">     TestEpoch/F1Score     </span>│<span style=\"color: #800080; text-decoration-color: #800080\">    0.9079710841178894     </span>│\n",
       "│<span style=\"color: #008080; text-decoration-color: #008080\">    TestEpoch/Precision    </span>│<span style=\"color: #800080; text-decoration-color: #800080\">    0.9099249243736267     </span>│\n",
       "│<span style=\"color: #008080; text-decoration-color: #008080\">     TestEpoch/Recall      </span>│<span style=\"color: #800080; text-decoration-color: #800080\">    0.9075644016265869     </span>│\n",
       "└───────────────────────────┴───────────────────────────┘\n",
       "</pre>\n"
      ],
      "text/plain": [
       "┏━━━━━━━━━━━━━━━━━━━━━━━━━━━┳━━━━━━━━━━━━━━━━━━━━━━━━━━━┓\n",
       "┃\u001b[1m \u001b[0m\u001b[1m  Runningstage.testing   \u001b[0m\u001b[1m \u001b[0m┃\u001b[1m                           \u001b[0m┃\n",
       "┃\u001b[1m \u001b[0m\u001b[1m         metric          \u001b[0m\u001b[1m \u001b[0m┃\u001b[1m \u001b[0m\u001b[1m      DataLoader 0       \u001b[0m\u001b[1m \u001b[0m┃\n",
       "┡━━━━━━━━━━━━━━━━━━━━━━━━━━━╇━━━━━━━━━━━━━━━━━━━━━━━━━━━┩\n",
       "│\u001b[36m \u001b[0m\u001b[36m      Test/Accuracy      \u001b[0m\u001b[36m \u001b[0m│\u001b[35m \u001b[0m\u001b[35m   0.9093636870384216    \u001b[0m\u001b[35m \u001b[0m│\n",
       "│\u001b[36m \u001b[0m\u001b[36m      Test/F1Score       \u001b[0m\u001b[36m \u001b[0m│\u001b[35m \u001b[0m\u001b[35m   0.9018904566764832    \u001b[0m\u001b[35m \u001b[0m│\n",
       "│\u001b[36m \u001b[0m\u001b[36m        Test/Loss        \u001b[0m\u001b[36m \u001b[0m│\u001b[35m \u001b[0m\u001b[35m   0.4276232123374939    \u001b[0m\u001b[35m \u001b[0m│\n",
       "│\u001b[36m \u001b[0m\u001b[36m     Test/Precision      \u001b[0m\u001b[36m \u001b[0m│\u001b[35m \u001b[0m\u001b[35m   0.9100021123886108    \u001b[0m\u001b[35m \u001b[0m│\n",
       "│\u001b[36m \u001b[0m\u001b[36m       Test/Recall       \u001b[0m\u001b[36m \u001b[0m│\u001b[35m \u001b[0m\u001b[35m   0.9093636870384216    \u001b[0m\u001b[35m \u001b[0m│\n",
       "│\u001b[36m \u001b[0m\u001b[36m   TestEpoch/Accuracy    \u001b[0m\u001b[36m \u001b[0m│\u001b[35m \u001b[0m\u001b[35m   0.9075644016265869    \u001b[0m\u001b[35m \u001b[0m│\n",
       "│\u001b[36m \u001b[0m\u001b[36m    TestEpoch/F1Score    \u001b[0m\u001b[36m \u001b[0m│\u001b[35m \u001b[0m\u001b[35m   0.9079710841178894    \u001b[0m\u001b[35m \u001b[0m│\n",
       "│\u001b[36m \u001b[0m\u001b[36m   TestEpoch/Precision   \u001b[0m\u001b[36m \u001b[0m│\u001b[35m \u001b[0m\u001b[35m   0.9099249243736267    \u001b[0m\u001b[35m \u001b[0m│\n",
       "│\u001b[36m \u001b[0m\u001b[36m    TestEpoch/Recall     \u001b[0m\u001b[36m \u001b[0m│\u001b[35m \u001b[0m\u001b[35m   0.9075644016265869    \u001b[0m\u001b[35m \u001b[0m│\n",
       "└───────────────────────────┴───────────────────────────┘\n"
      ]
     },
     "metadata": {},
     "output_type": "display_data"
    },
    {
     "name": "stderr",
     "output_type": "stream",
     "text": [
      "GPU available: True (cuda), used: True\n",
      "TPU available: False, using: 0 TPU cores\n",
      "IPU available: False, using: 0 IPUs\n",
      "HPU available: False, using: 0 HPUs\n",
      "You are using a CUDA device ('NVIDIA GeForce RTX 4070 Ti') that has Tensor Cores. To properly utilize them, you should set `torch.set_float32_matmul_precision('medium' | 'high')` which will trade-off precision for performance. For more details, read https://pytorch.org/docs/stable/generated/torch.set_float32_matmul_precision.html#torch.set_float32_matmul_precision\n",
      "LOCAL_RANK: 0 - CUDA_VISIBLE_DEVICES: [0,1]\n"
     ]
    },
    {
     "name": "stdout",
     "output_type": "stream",
     "text": [
      "Node 4 aggregate model with [3, 5]\n",
      "Performance of Node 4 after aggregation at round 2\n"
     ]
    },
    {
     "data": {
      "application/vnd.jupyter.widget-view+json": {
       "model_id": "13499b29bd824e89a1bd26d9cce982ff",
       "version_major": 2,
       "version_minor": 0
      },
      "text/plain": [
       "Testing: 0it [00:00, ?it/s]"
      ]
     },
     "metadata": {},
     "output_type": "display_data"
    },
    {
     "name": "stdout",
     "output_type": "stream",
     "text": [
      "Epoch end: Test, epoch number: 2\n"
     ]
    },
    {
     "data": {
      "text/html": [
       "<pre style=\"white-space:pre;overflow-x:auto;line-height:normal;font-family:Menlo,'DejaVu Sans Mono',consolas,'Courier New',monospace\">┏━━━━━━━━━━━━━━━━━━━━━━━━━━━┳━━━━━━━━━━━━━━━━━━━━━━━━━━━┓\n",
       "┃<span style=\"font-weight: bold\">   Runningstage.testing    </span>┃<span style=\"font-weight: bold\">                           </span>┃\n",
       "┃<span style=\"font-weight: bold\">          metric           </span>┃<span style=\"font-weight: bold\">       DataLoader 0        </span>┃\n",
       "┡━━━━━━━━━━━━━━━━━━━━━━━━━━━╇━━━━━━━━━━━━━━━━━━━━━━━━━━━┩\n",
       "│<span style=\"color: #008080; text-decoration-color: #008080\">       Test/Accuracy       </span>│<span style=\"color: #800080; text-decoration-color: #800080\">    0.9072383642196655     </span>│\n",
       "│<span style=\"color: #008080; text-decoration-color: #008080\">       Test/F1Score        </span>│<span style=\"color: #800080; text-decoration-color: #800080\">    0.8985809683799744     </span>│\n",
       "│<span style=\"color: #008080; text-decoration-color: #008080\">         Test/Loss         </span>│<span style=\"color: #800080; text-decoration-color: #800080\">    0.42677274346351624    </span>│\n",
       "│<span style=\"color: #008080; text-decoration-color: #008080\">      Test/Precision       </span>│<span style=\"color: #800080; text-decoration-color: #800080\">    0.9082757234573364     </span>│\n",
       "│<span style=\"color: #008080; text-decoration-color: #008080\">        Test/Recall        </span>│<span style=\"color: #800080; text-decoration-color: #800080\">    0.9072383642196655     </span>│\n",
       "│<span style=\"color: #008080; text-decoration-color: #008080\">    TestEpoch/Accuracy     </span>│<span style=\"color: #800080; text-decoration-color: #800080\">    0.9096561670303345     </span>│\n",
       "│<span style=\"color: #008080; text-decoration-color: #008080\">     TestEpoch/F1Score     </span>│<span style=\"color: #800080; text-decoration-color: #800080\">    0.9097545146942139     </span>│\n",
       "│<span style=\"color: #008080; text-decoration-color: #008080\">    TestEpoch/Precision    </span>│<span style=\"color: #800080; text-decoration-color: #800080\">    0.9122755527496338     </span>│\n",
       "│<span style=\"color: #008080; text-decoration-color: #008080\">     TestEpoch/Recall      </span>│<span style=\"color: #800080; text-decoration-color: #800080\">    0.9096561670303345     </span>│\n",
       "└───────────────────────────┴───────────────────────────┘\n",
       "</pre>\n"
      ],
      "text/plain": [
       "┏━━━━━━━━━━━━━━━━━━━━━━━━━━━┳━━━━━━━━━━━━━━━━━━━━━━━━━━━┓\n",
       "┃\u001b[1m \u001b[0m\u001b[1m  Runningstage.testing   \u001b[0m\u001b[1m \u001b[0m┃\u001b[1m                           \u001b[0m┃\n",
       "┃\u001b[1m \u001b[0m\u001b[1m         metric          \u001b[0m\u001b[1m \u001b[0m┃\u001b[1m \u001b[0m\u001b[1m      DataLoader 0       \u001b[0m\u001b[1m \u001b[0m┃\n",
       "┡━━━━━━━━━━━━━━━━━━━━━━━━━━━╇━━━━━━━━━━━━━━━━━━━━━━━━━━━┩\n",
       "│\u001b[36m \u001b[0m\u001b[36m      Test/Accuracy      \u001b[0m\u001b[36m \u001b[0m│\u001b[35m \u001b[0m\u001b[35m   0.9072383642196655    \u001b[0m\u001b[35m \u001b[0m│\n",
       "│\u001b[36m \u001b[0m\u001b[36m      Test/F1Score       \u001b[0m\u001b[36m \u001b[0m│\u001b[35m \u001b[0m\u001b[35m   0.8985809683799744    \u001b[0m\u001b[35m \u001b[0m│\n",
       "│\u001b[36m \u001b[0m\u001b[36m        Test/Loss        \u001b[0m\u001b[36m \u001b[0m│\u001b[35m \u001b[0m\u001b[35m   0.42677274346351624   \u001b[0m\u001b[35m \u001b[0m│\n",
       "│\u001b[36m \u001b[0m\u001b[36m     Test/Precision      \u001b[0m\u001b[36m \u001b[0m│\u001b[35m \u001b[0m\u001b[35m   0.9082757234573364    \u001b[0m\u001b[35m \u001b[0m│\n",
       "│\u001b[36m \u001b[0m\u001b[36m       Test/Recall       \u001b[0m\u001b[36m \u001b[0m│\u001b[35m \u001b[0m\u001b[35m   0.9072383642196655    \u001b[0m\u001b[35m \u001b[0m│\n",
       "│\u001b[36m \u001b[0m\u001b[36m   TestEpoch/Accuracy    \u001b[0m\u001b[36m \u001b[0m│\u001b[35m \u001b[0m\u001b[35m   0.9096561670303345    \u001b[0m\u001b[35m \u001b[0m│\n",
       "│\u001b[36m \u001b[0m\u001b[36m    TestEpoch/F1Score    \u001b[0m\u001b[36m \u001b[0m│\u001b[35m \u001b[0m\u001b[35m   0.9097545146942139    \u001b[0m\u001b[35m \u001b[0m│\n",
       "│\u001b[36m \u001b[0m\u001b[36m   TestEpoch/Precision   \u001b[0m\u001b[36m \u001b[0m│\u001b[35m \u001b[0m\u001b[35m   0.9122755527496338    \u001b[0m\u001b[35m \u001b[0m│\n",
       "│\u001b[36m \u001b[0m\u001b[36m    TestEpoch/Recall     \u001b[0m\u001b[36m \u001b[0m│\u001b[35m \u001b[0m\u001b[35m   0.9096561670303345    \u001b[0m\u001b[35m \u001b[0m│\n",
       "└───────────────────────────┴───────────────────────────┘\n"
      ]
     },
     "metadata": {},
     "output_type": "display_data"
    },
    {
     "name": "stderr",
     "output_type": "stream",
     "text": [
      "GPU available: True (cuda), used: True\n",
      "TPU available: False, using: 0 TPU cores\n",
      "IPU available: False, using: 0 IPUs\n",
      "HPU available: False, using: 0 HPUs\n",
      "You are using a CUDA device ('NVIDIA GeForce RTX 4070 Ti') that has Tensor Cores. To properly utilize them, you should set `torch.set_float32_matmul_precision('medium' | 'high')` which will trade-off precision for performance. For more details, read https://pytorch.org/docs/stable/generated/torch.set_float32_matmul_precision.html#torch.set_float32_matmul_precision\n",
      "LOCAL_RANK: 0 - CUDA_VISIBLE_DEVICES: [0,1]\n"
     ]
    },
    {
     "name": "stdout",
     "output_type": "stream",
     "text": [
      "Node 5 aggregate model with [4, 6]\n",
      "Performance of Node 5 after aggregation at round 2\n"
     ]
    },
    {
     "data": {
      "application/vnd.jupyter.widget-view+json": {
       "model_id": "39dd49cf5bef41969eedb2465f3e419b",
       "version_major": 2,
       "version_minor": 0
      },
      "text/plain": [
       "Testing: 0it [00:00, ?it/s]"
      ]
     },
     "metadata": {},
     "output_type": "display_data"
    },
    {
     "name": "stdout",
     "output_type": "stream",
     "text": [
      "Epoch end: Test, epoch number: 2\n"
     ]
    },
    {
     "data": {
      "text/html": [
       "<pre style=\"white-space:pre;overflow-x:auto;line-height:normal;font-family:Menlo,'DejaVu Sans Mono',consolas,'Courier New',monospace\">┏━━━━━━━━━━━━━━━━━━━━━━━━━━━┳━━━━━━━━━━━━━━━━━━━━━━━━━━━┓\n",
       "┃<span style=\"font-weight: bold\">   Runningstage.testing    </span>┃<span style=\"font-weight: bold\">                           </span>┃\n",
       "┃<span style=\"font-weight: bold\">          metric           </span>┃<span style=\"font-weight: bold\">       DataLoader 0        </span>┃\n",
       "┡━━━━━━━━━━━━━━━━━━━━━━━━━━━╇━━━━━━━━━━━━━━━━━━━━━━━━━━━┩\n",
       "│<span style=\"color: #008080; text-decoration-color: #008080\">       Test/Accuracy       </span>│<span style=\"color: #800080; text-decoration-color: #800080\">    0.9120489358901978     </span>│\n",
       "│<span style=\"color: #008080; text-decoration-color: #008080\">       Test/F1Score        </span>│<span style=\"color: #800080; text-decoration-color: #800080\">    0.9005662798881531     </span>│\n",
       "│<span style=\"color: #008080; text-decoration-color: #008080\">         Test/Loss         </span>│<span style=\"color: #800080; text-decoration-color: #800080\">    0.4773428738117218     </span>│\n",
       "│<span style=\"color: #008080; text-decoration-color: #008080\">      Test/Precision       </span>│<span style=\"color: #800080; text-decoration-color: #800080\">    0.9111228585243225     </span>│\n",
       "│<span style=\"color: #008080; text-decoration-color: #008080\">        Test/Recall        </span>│<span style=\"color: #800080; text-decoration-color: #800080\">    0.9120489358901978     </span>│\n",
       "│<span style=\"color: #008080; text-decoration-color: #008080\">    TestEpoch/Accuracy     </span>│<span style=\"color: #800080; text-decoration-color: #800080\">     0.905278205871582     </span>│\n",
       "│<span style=\"color: #008080; text-decoration-color: #008080\">     TestEpoch/F1Score     </span>│<span style=\"color: #800080; text-decoration-color: #800080\">    0.9041025042533875     </span>│\n",
       "│<span style=\"color: #008080; text-decoration-color: #008080\">    TestEpoch/Precision    </span>│<span style=\"color: #800080; text-decoration-color: #800080\">    0.9072452783584595     </span>│\n",
       "│<span style=\"color: #008080; text-decoration-color: #008080\">     TestEpoch/Recall      </span>│<span style=\"color: #800080; text-decoration-color: #800080\">     0.905278205871582     </span>│\n",
       "└───────────────────────────┴───────────────────────────┘\n",
       "</pre>\n"
      ],
      "text/plain": [
       "┏━━━━━━━━━━━━━━━━━━━━━━━━━━━┳━━━━━━━━━━━━━━━━━━━━━━━━━━━┓\n",
       "┃\u001b[1m \u001b[0m\u001b[1m  Runningstage.testing   \u001b[0m\u001b[1m \u001b[0m┃\u001b[1m                           \u001b[0m┃\n",
       "┃\u001b[1m \u001b[0m\u001b[1m         metric          \u001b[0m\u001b[1m \u001b[0m┃\u001b[1m \u001b[0m\u001b[1m      DataLoader 0       \u001b[0m\u001b[1m \u001b[0m┃\n",
       "┡━━━━━━━━━━━━━━━━━━━━━━━━━━━╇━━━━━━━━━━━━━━━━━━━━━━━━━━━┩\n",
       "│\u001b[36m \u001b[0m\u001b[36m      Test/Accuracy      \u001b[0m\u001b[36m \u001b[0m│\u001b[35m \u001b[0m\u001b[35m   0.9120489358901978    \u001b[0m\u001b[35m \u001b[0m│\n",
       "│\u001b[36m \u001b[0m\u001b[36m      Test/F1Score       \u001b[0m\u001b[36m \u001b[0m│\u001b[35m \u001b[0m\u001b[35m   0.9005662798881531    \u001b[0m\u001b[35m \u001b[0m│\n",
       "│\u001b[36m \u001b[0m\u001b[36m        Test/Loss        \u001b[0m\u001b[36m \u001b[0m│\u001b[35m \u001b[0m\u001b[35m   0.4773428738117218    \u001b[0m\u001b[35m \u001b[0m│\n",
       "│\u001b[36m \u001b[0m\u001b[36m     Test/Precision      \u001b[0m\u001b[36m \u001b[0m│\u001b[35m \u001b[0m\u001b[35m   0.9111228585243225    \u001b[0m\u001b[35m \u001b[0m│\n",
       "│\u001b[36m \u001b[0m\u001b[36m       Test/Recall       \u001b[0m\u001b[36m \u001b[0m│\u001b[35m \u001b[0m\u001b[35m   0.9120489358901978    \u001b[0m\u001b[35m \u001b[0m│\n",
       "│\u001b[36m \u001b[0m\u001b[36m   TestEpoch/Accuracy    \u001b[0m\u001b[36m \u001b[0m│\u001b[35m \u001b[0m\u001b[35m    0.905278205871582    \u001b[0m\u001b[35m \u001b[0m│\n",
       "│\u001b[36m \u001b[0m\u001b[36m    TestEpoch/F1Score    \u001b[0m\u001b[36m \u001b[0m│\u001b[35m \u001b[0m\u001b[35m   0.9041025042533875    \u001b[0m\u001b[35m \u001b[0m│\n",
       "│\u001b[36m \u001b[0m\u001b[36m   TestEpoch/Precision   \u001b[0m\u001b[36m \u001b[0m│\u001b[35m \u001b[0m\u001b[35m   0.9072452783584595    \u001b[0m\u001b[35m \u001b[0m│\n",
       "│\u001b[36m \u001b[0m\u001b[36m    TestEpoch/Recall     \u001b[0m\u001b[36m \u001b[0m│\u001b[35m \u001b[0m\u001b[35m    0.905278205871582    \u001b[0m\u001b[35m \u001b[0m│\n",
       "└───────────────────────────┴───────────────────────────┘\n"
      ]
     },
     "metadata": {},
     "output_type": "display_data"
    },
    {
     "name": "stderr",
     "output_type": "stream",
     "text": [
      "GPU available: True (cuda), used: True\n",
      "TPU available: False, using: 0 TPU cores\n",
      "IPU available: False, using: 0 IPUs\n",
      "HPU available: False, using: 0 HPUs\n",
      "You are using a CUDA device ('NVIDIA GeForce RTX 4070 Ti') that has Tensor Cores. To properly utilize them, you should set `torch.set_float32_matmul_precision('medium' | 'high')` which will trade-off precision for performance. For more details, read https://pytorch.org/docs/stable/generated/torch.set_float32_matmul_precision.html#torch.set_float32_matmul_precision\n",
      "LOCAL_RANK: 0 - CUDA_VISIBLE_DEVICES: [0,1]\n"
     ]
    },
    {
     "name": "stdout",
     "output_type": "stream",
     "text": [
      "Node 6 aggregate model with [5, 7]\n",
      "Performance of Node 6 after aggregation at round 2\n"
     ]
    },
    {
     "data": {
      "application/vnd.jupyter.widget-view+json": {
       "model_id": "0aca7a3fc5014d59b897f579dc4a231a",
       "version_major": 2,
       "version_minor": 0
      },
      "text/plain": [
       "Testing: 0it [00:00, ?it/s]"
      ]
     },
     "metadata": {},
     "output_type": "display_data"
    },
    {
     "name": "stdout",
     "output_type": "stream",
     "text": [
      "Epoch end: Test, epoch number: 2\n"
     ]
    },
    {
     "data": {
      "text/html": [
       "<pre style=\"white-space:pre;overflow-x:auto;line-height:normal;font-family:Menlo,'DejaVu Sans Mono',consolas,'Courier New',monospace\">┏━━━━━━━━━━━━━━━━━━━━━━━━━━━┳━━━━━━━━━━━━━━━━━━━━━━━━━━━┓\n",
       "┃<span style=\"font-weight: bold\">   Runningstage.testing    </span>┃<span style=\"font-weight: bold\">                           </span>┃\n",
       "┃<span style=\"font-weight: bold\">          metric           </span>┃<span style=\"font-weight: bold\">       DataLoader 0        </span>┃\n",
       "┡━━━━━━━━━━━━━━━━━━━━━━━━━━━╇━━━━━━━━━━━━━━━━━━━━━━━━━━━┩\n",
       "│<span style=\"color: #008080; text-decoration-color: #008080\">       Test/Accuracy       </span>│<span style=\"color: #800080; text-decoration-color: #800080\">    0.8975411057472229     </span>│\n",
       "│<span style=\"color: #008080; text-decoration-color: #008080\">       Test/F1Score        </span>│<span style=\"color: #800080; text-decoration-color: #800080\">    0.8915060758590698     </span>│\n",
       "│<span style=\"color: #008080; text-decoration-color: #008080\">         Test/Loss         </span>│<span style=\"color: #800080; text-decoration-color: #800080\">    0.47406524419784546    </span>│\n",
       "│<span style=\"color: #008080; text-decoration-color: #008080\">      Test/Precision       </span>│<span style=\"color: #800080; text-decoration-color: #800080\">    0.9050601124763489     </span>│\n",
       "│<span style=\"color: #008080; text-decoration-color: #008080\">        Test/Recall        </span>│<span style=\"color: #800080; text-decoration-color: #800080\">    0.8975411057472229     </span>│\n",
       "│<span style=\"color: #008080; text-decoration-color: #008080\">    TestEpoch/Accuracy     </span>│<span style=\"color: #800080; text-decoration-color: #800080\">    0.9019356966018677     </span>│\n",
       "│<span style=\"color: #008080; text-decoration-color: #008080\">     TestEpoch/F1Score     </span>│<span style=\"color: #800080; text-decoration-color: #800080\">    0.9019389748573303     </span>│\n",
       "│<span style=\"color: #008080; text-decoration-color: #008080\">    TestEpoch/Precision    </span>│<span style=\"color: #800080; text-decoration-color: #800080\">     0.907339334487915     </span>│\n",
       "│<span style=\"color: #008080; text-decoration-color: #008080\">     TestEpoch/Recall      </span>│<span style=\"color: #800080; text-decoration-color: #800080\">    0.9019356966018677     </span>│\n",
       "└───────────────────────────┴───────────────────────────┘\n",
       "</pre>\n"
      ],
      "text/plain": [
       "┏━━━━━━━━━━━━━━━━━━━━━━━━━━━┳━━━━━━━━━━━━━━━━━━━━━━━━━━━┓\n",
       "┃\u001b[1m \u001b[0m\u001b[1m  Runningstage.testing   \u001b[0m\u001b[1m \u001b[0m┃\u001b[1m                           \u001b[0m┃\n",
       "┃\u001b[1m \u001b[0m\u001b[1m         metric          \u001b[0m\u001b[1m \u001b[0m┃\u001b[1m \u001b[0m\u001b[1m      DataLoader 0       \u001b[0m\u001b[1m \u001b[0m┃\n",
       "┡━━━━━━━━━━━━━━━━━━━━━━━━━━━╇━━━━━━━━━━━━━━━━━━━━━━━━━━━┩\n",
       "│\u001b[36m \u001b[0m\u001b[36m      Test/Accuracy      \u001b[0m\u001b[36m \u001b[0m│\u001b[35m \u001b[0m\u001b[35m   0.8975411057472229    \u001b[0m\u001b[35m \u001b[0m│\n",
       "│\u001b[36m \u001b[0m\u001b[36m      Test/F1Score       \u001b[0m\u001b[36m \u001b[0m│\u001b[35m \u001b[0m\u001b[35m   0.8915060758590698    \u001b[0m\u001b[35m \u001b[0m│\n",
       "│\u001b[36m \u001b[0m\u001b[36m        Test/Loss        \u001b[0m\u001b[36m \u001b[0m│\u001b[35m \u001b[0m\u001b[35m   0.47406524419784546   \u001b[0m\u001b[35m \u001b[0m│\n",
       "│\u001b[36m \u001b[0m\u001b[36m     Test/Precision      \u001b[0m\u001b[36m \u001b[0m│\u001b[35m \u001b[0m\u001b[35m   0.9050601124763489    \u001b[0m\u001b[35m \u001b[0m│\n",
       "│\u001b[36m \u001b[0m\u001b[36m       Test/Recall       \u001b[0m\u001b[36m \u001b[0m│\u001b[35m \u001b[0m\u001b[35m   0.8975411057472229    \u001b[0m\u001b[35m \u001b[0m│\n",
       "│\u001b[36m \u001b[0m\u001b[36m   TestEpoch/Accuracy    \u001b[0m\u001b[36m \u001b[0m│\u001b[35m \u001b[0m\u001b[35m   0.9019356966018677    \u001b[0m\u001b[35m \u001b[0m│\n",
       "│\u001b[36m \u001b[0m\u001b[36m    TestEpoch/F1Score    \u001b[0m\u001b[36m \u001b[0m│\u001b[35m \u001b[0m\u001b[35m   0.9019389748573303    \u001b[0m\u001b[35m \u001b[0m│\n",
       "│\u001b[36m \u001b[0m\u001b[36m   TestEpoch/Precision   \u001b[0m\u001b[36m \u001b[0m│\u001b[35m \u001b[0m\u001b[35m    0.907339334487915    \u001b[0m\u001b[35m \u001b[0m│\n",
       "│\u001b[36m \u001b[0m\u001b[36m    TestEpoch/Recall     \u001b[0m\u001b[36m \u001b[0m│\u001b[35m \u001b[0m\u001b[35m   0.9019356966018677    \u001b[0m\u001b[35m \u001b[0m│\n",
       "└───────────────────────────┴───────────────────────────┘\n"
      ]
     },
     "metadata": {},
     "output_type": "display_data"
    },
    {
     "name": "stderr",
     "output_type": "stream",
     "text": [
      "GPU available: True (cuda), used: True\n",
      "TPU available: False, using: 0 TPU cores\n",
      "IPU available: False, using: 0 IPUs\n",
      "HPU available: False, using: 0 HPUs\n",
      "You are using a CUDA device ('NVIDIA GeForce RTX 4070 Ti') that has Tensor Cores. To properly utilize them, you should set `torch.set_float32_matmul_precision('medium' | 'high')` which will trade-off precision for performance. For more details, read https://pytorch.org/docs/stable/generated/torch.set_float32_matmul_precision.html#torch.set_float32_matmul_precision\n",
      "LOCAL_RANK: 0 - CUDA_VISIBLE_DEVICES: [0,1]\n"
     ]
    },
    {
     "name": "stdout",
     "output_type": "stream",
     "text": [
      "Node 7 aggregate model with [6, 8]\n",
      "Performance of Node 7 after aggregation at round 2\n"
     ]
    },
    {
     "data": {
      "application/vnd.jupyter.widget-view+json": {
       "model_id": "b8db4f0c3c5d4679b846cde8a2f4c8fa",
       "version_major": 2,
       "version_minor": 0
      },
      "text/plain": [
       "Testing: 0it [00:00, ?it/s]"
      ]
     },
     "metadata": {},
     "output_type": "display_data"
    },
    {
     "name": "stdout",
     "output_type": "stream",
     "text": [
      "Epoch end: Test, epoch number: 2\n"
     ]
    },
    {
     "data": {
      "text/html": [
       "<pre style=\"white-space:pre;overflow-x:auto;line-height:normal;font-family:Menlo,'DejaVu Sans Mono',consolas,'Courier New',monospace\">┏━━━━━━━━━━━━━━━━━━━━━━━━━━━┳━━━━━━━━━━━━━━━━━━━━━━━━━━━┓\n",
       "┃<span style=\"font-weight: bold\">   Runningstage.testing    </span>┃<span style=\"font-weight: bold\">                           </span>┃\n",
       "┃<span style=\"font-weight: bold\">          metric           </span>┃<span style=\"font-weight: bold\">       DataLoader 0        </span>┃\n",
       "┡━━━━━━━━━━━━━━━━━━━━━━━━━━━╇━━━━━━━━━━━━━━━━━━━━━━━━━━━┩\n",
       "│<span style=\"color: #008080; text-decoration-color: #008080\">       Test/Accuracy       </span>│<span style=\"color: #800080; text-decoration-color: #800080\">    0.9152004718780518     </span>│\n",
       "│<span style=\"color: #008080; text-decoration-color: #008080\">       Test/F1Score        </span>│<span style=\"color: #800080; text-decoration-color: #800080\">     0.908815324306488     </span>│\n",
       "│<span style=\"color: #008080; text-decoration-color: #008080\">         Test/Loss         </span>│<span style=\"color: #800080; text-decoration-color: #800080\">    0.41603854298591614    </span>│\n",
       "│<span style=\"color: #008080; text-decoration-color: #008080\">      Test/Precision       </span>│<span style=\"color: #800080; text-decoration-color: #800080\">    0.9246490597724915     </span>│\n",
       "│<span style=\"color: #008080; text-decoration-color: #008080\">        Test/Recall        </span>│<span style=\"color: #800080; text-decoration-color: #800080\">    0.9152004718780518     </span>│\n",
       "│<span style=\"color: #008080; text-decoration-color: #008080\">    TestEpoch/Accuracy     </span>│<span style=\"color: #800080; text-decoration-color: #800080\">    0.9162992238998413     </span>│\n",
       "│<span style=\"color: #008080; text-decoration-color: #008080\">     TestEpoch/F1Score     </span>│<span style=\"color: #800080; text-decoration-color: #800080\">    0.9162888526916504     </span>│\n",
       "│<span style=\"color: #008080; text-decoration-color: #008080\">    TestEpoch/Precision    </span>│<span style=\"color: #800080; text-decoration-color: #800080\">    0.9187239408493042     </span>│\n",
       "│<span style=\"color: #008080; text-decoration-color: #008080\">     TestEpoch/Recall      </span>│<span style=\"color: #800080; text-decoration-color: #800080\">    0.9162992238998413     </span>│\n",
       "└───────────────────────────┴───────────────────────────┘\n",
       "</pre>\n"
      ],
      "text/plain": [
       "┏━━━━━━━━━━━━━━━━━━━━━━━━━━━┳━━━━━━━━━━━━━━━━━━━━━━━━━━━┓\n",
       "┃\u001b[1m \u001b[0m\u001b[1m  Runningstage.testing   \u001b[0m\u001b[1m \u001b[0m┃\u001b[1m                           \u001b[0m┃\n",
       "┃\u001b[1m \u001b[0m\u001b[1m         metric          \u001b[0m\u001b[1m \u001b[0m┃\u001b[1m \u001b[0m\u001b[1m      DataLoader 0       \u001b[0m\u001b[1m \u001b[0m┃\n",
       "┡━━━━━━━━━━━━━━━━━━━━━━━━━━━╇━━━━━━━━━━━━━━━━━━━━━━━━━━━┩\n",
       "│\u001b[36m \u001b[0m\u001b[36m      Test/Accuracy      \u001b[0m\u001b[36m \u001b[0m│\u001b[35m \u001b[0m\u001b[35m   0.9152004718780518    \u001b[0m\u001b[35m \u001b[0m│\n",
       "│\u001b[36m \u001b[0m\u001b[36m      Test/F1Score       \u001b[0m\u001b[36m \u001b[0m│\u001b[35m \u001b[0m\u001b[35m    0.908815324306488    \u001b[0m\u001b[35m \u001b[0m│\n",
       "│\u001b[36m \u001b[0m\u001b[36m        Test/Loss        \u001b[0m\u001b[36m \u001b[0m│\u001b[35m \u001b[0m\u001b[35m   0.41603854298591614   \u001b[0m\u001b[35m \u001b[0m│\n",
       "│\u001b[36m \u001b[0m\u001b[36m     Test/Precision      \u001b[0m\u001b[36m \u001b[0m│\u001b[35m \u001b[0m\u001b[35m   0.9246490597724915    \u001b[0m\u001b[35m \u001b[0m│\n",
       "│\u001b[36m \u001b[0m\u001b[36m       Test/Recall       \u001b[0m\u001b[36m \u001b[0m│\u001b[35m \u001b[0m\u001b[35m   0.9152004718780518    \u001b[0m\u001b[35m \u001b[0m│\n",
       "│\u001b[36m \u001b[0m\u001b[36m   TestEpoch/Accuracy    \u001b[0m\u001b[36m \u001b[0m│\u001b[35m \u001b[0m\u001b[35m   0.9162992238998413    \u001b[0m\u001b[35m \u001b[0m│\n",
       "│\u001b[36m \u001b[0m\u001b[36m    TestEpoch/F1Score    \u001b[0m\u001b[36m \u001b[0m│\u001b[35m \u001b[0m\u001b[35m   0.9162888526916504    \u001b[0m\u001b[35m \u001b[0m│\n",
       "│\u001b[36m \u001b[0m\u001b[36m   TestEpoch/Precision   \u001b[0m\u001b[36m \u001b[0m│\u001b[35m \u001b[0m\u001b[35m   0.9187239408493042    \u001b[0m\u001b[35m \u001b[0m│\n",
       "│\u001b[36m \u001b[0m\u001b[36m    TestEpoch/Recall     \u001b[0m\u001b[36m \u001b[0m│\u001b[35m \u001b[0m\u001b[35m   0.9162992238998413    \u001b[0m\u001b[35m \u001b[0m│\n",
       "└───────────────────────────┴───────────────────────────┘\n"
      ]
     },
     "metadata": {},
     "output_type": "display_data"
    },
    {
     "name": "stderr",
     "output_type": "stream",
     "text": [
      "GPU available: True (cuda), used: True\n",
      "TPU available: False, using: 0 TPU cores\n",
      "IPU available: False, using: 0 IPUs\n",
      "HPU available: False, using: 0 HPUs\n",
      "You are using a CUDA device ('NVIDIA GeForce RTX 4070 Ti') that has Tensor Cores. To properly utilize them, you should set `torch.set_float32_matmul_precision('medium' | 'high')` which will trade-off precision for performance. For more details, read https://pytorch.org/docs/stable/generated/torch.set_float32_matmul_precision.html#torch.set_float32_matmul_precision\n",
      "LOCAL_RANK: 0 - CUDA_VISIBLE_DEVICES: [0,1]\n"
     ]
    },
    {
     "name": "stdout",
     "output_type": "stream",
     "text": [
      "Node 8 aggregate model with [7, 9]\n",
      "Performance of Node 8 after aggregation at round 2\n"
     ]
    },
    {
     "data": {
      "application/vnd.jupyter.widget-view+json": {
       "model_id": "5f41574736734a588ae0a53ffa2a2bc8",
       "version_major": 2,
       "version_minor": 0
      },
      "text/plain": [
       "Testing: 0it [00:00, ?it/s]"
      ]
     },
     "metadata": {},
     "output_type": "display_data"
    },
    {
     "name": "stdout",
     "output_type": "stream",
     "text": [
      "Epoch end: Test, epoch number: 2\n"
     ]
    },
    {
     "data": {
      "text/html": [
       "<pre style=\"white-space:pre;overflow-x:auto;line-height:normal;font-family:Menlo,'DejaVu Sans Mono',consolas,'Courier New',monospace\">┏━━━━━━━━━━━━━━━━━━━━━━━━━━━┳━━━━━━━━━━━━━━━━━━━━━━━━━━━┓\n",
       "┃<span style=\"font-weight: bold\">   Runningstage.testing    </span>┃<span style=\"font-weight: bold\">                           </span>┃\n",
       "┃<span style=\"font-weight: bold\">          metric           </span>┃<span style=\"font-weight: bold\">       DataLoader 0        </span>┃\n",
       "┡━━━━━━━━━━━━━━━━━━━━━━━━━━━╇━━━━━━━━━━━━━━━━━━━━━━━━━━━┩\n",
       "│<span style=\"color: #008080; text-decoration-color: #008080\">       Test/Accuracy       </span>│<span style=\"color: #800080; text-decoration-color: #800080\">    0.8933666944503784     </span>│\n",
       "│<span style=\"color: #008080; text-decoration-color: #008080\">       Test/F1Score        </span>│<span style=\"color: #800080; text-decoration-color: #800080\">    0.8834823369979858     </span>│\n",
       "│<span style=\"color: #008080; text-decoration-color: #008080\">         Test/Loss         </span>│<span style=\"color: #800080; text-decoration-color: #800080\">    0.5031745433807373     </span>│\n",
       "│<span style=\"color: #008080; text-decoration-color: #008080\">      Test/Precision       </span>│<span style=\"color: #800080; text-decoration-color: #800080\">    0.8989760875701904     </span>│\n",
       "│<span style=\"color: #008080; text-decoration-color: #008080\">        Test/Recall        </span>│<span style=\"color: #800080; text-decoration-color: #800080\">    0.8933666944503784     </span>│\n",
       "│<span style=\"color: #008080; text-decoration-color: #008080\">    TestEpoch/Accuracy     </span>│<span style=\"color: #800080; text-decoration-color: #800080\">    0.8897699117660522     </span>│\n",
       "│<span style=\"color: #008080; text-decoration-color: #008080\">     TestEpoch/F1Score     </span>│<span style=\"color: #800080; text-decoration-color: #800080\">    0.8896962404251099     </span>│\n",
       "│<span style=\"color: #008080; text-decoration-color: #008080\">    TestEpoch/Precision    </span>│<span style=\"color: #800080; text-decoration-color: #800080\">    0.8964027762413025     </span>│\n",
       "│<span style=\"color: #008080; text-decoration-color: #008080\">     TestEpoch/Recall      </span>│<span style=\"color: #800080; text-decoration-color: #800080\">    0.8897699117660522     </span>│\n",
       "└───────────────────────────┴───────────────────────────┘\n",
       "</pre>\n"
      ],
      "text/plain": [
       "┏━━━━━━━━━━━━━━━━━━━━━━━━━━━┳━━━━━━━━━━━━━━━━━━━━━━━━━━━┓\n",
       "┃\u001b[1m \u001b[0m\u001b[1m  Runningstage.testing   \u001b[0m\u001b[1m \u001b[0m┃\u001b[1m                           \u001b[0m┃\n",
       "┃\u001b[1m \u001b[0m\u001b[1m         metric          \u001b[0m\u001b[1m \u001b[0m┃\u001b[1m \u001b[0m\u001b[1m      DataLoader 0       \u001b[0m\u001b[1m \u001b[0m┃\n",
       "┡━━━━━━━━━━━━━━━━━━━━━━━━━━━╇━━━━━━━━━━━━━━━━━━━━━━━━━━━┩\n",
       "│\u001b[36m \u001b[0m\u001b[36m      Test/Accuracy      \u001b[0m\u001b[36m \u001b[0m│\u001b[35m \u001b[0m\u001b[35m   0.8933666944503784    \u001b[0m\u001b[35m \u001b[0m│\n",
       "│\u001b[36m \u001b[0m\u001b[36m      Test/F1Score       \u001b[0m\u001b[36m \u001b[0m│\u001b[35m \u001b[0m\u001b[35m   0.8834823369979858    \u001b[0m\u001b[35m \u001b[0m│\n",
       "│\u001b[36m \u001b[0m\u001b[36m        Test/Loss        \u001b[0m\u001b[36m \u001b[0m│\u001b[35m \u001b[0m\u001b[35m   0.5031745433807373    \u001b[0m\u001b[35m \u001b[0m│\n",
       "│\u001b[36m \u001b[0m\u001b[36m     Test/Precision      \u001b[0m\u001b[36m \u001b[0m│\u001b[35m \u001b[0m\u001b[35m   0.8989760875701904    \u001b[0m\u001b[35m \u001b[0m│\n",
       "│\u001b[36m \u001b[0m\u001b[36m       Test/Recall       \u001b[0m\u001b[36m \u001b[0m│\u001b[35m \u001b[0m\u001b[35m   0.8933666944503784    \u001b[0m\u001b[35m \u001b[0m│\n",
       "│\u001b[36m \u001b[0m\u001b[36m   TestEpoch/Accuracy    \u001b[0m\u001b[36m \u001b[0m│\u001b[35m \u001b[0m\u001b[35m   0.8897699117660522    \u001b[0m\u001b[35m \u001b[0m│\n",
       "│\u001b[36m \u001b[0m\u001b[36m    TestEpoch/F1Score    \u001b[0m\u001b[36m \u001b[0m│\u001b[35m \u001b[0m\u001b[35m   0.8896962404251099    \u001b[0m\u001b[35m \u001b[0m│\n",
       "│\u001b[36m \u001b[0m\u001b[36m   TestEpoch/Precision   \u001b[0m\u001b[36m \u001b[0m│\u001b[35m \u001b[0m\u001b[35m   0.8964027762413025    \u001b[0m\u001b[35m \u001b[0m│\n",
       "│\u001b[36m \u001b[0m\u001b[36m    TestEpoch/Recall     \u001b[0m\u001b[36m \u001b[0m│\u001b[35m \u001b[0m\u001b[35m   0.8897699117660522    \u001b[0m\u001b[35m \u001b[0m│\n",
       "└───────────────────────────┴───────────────────────────┘\n"
      ]
     },
     "metadata": {},
     "output_type": "display_data"
    },
    {
     "name": "stderr",
     "output_type": "stream",
     "text": [
      "GPU available: True (cuda), used: True\n",
      "TPU available: False, using: 0 TPU cores\n",
      "IPU available: False, using: 0 IPUs\n",
      "HPU available: False, using: 0 HPUs\n",
      "You are using a CUDA device ('NVIDIA GeForce RTX 4070 Ti') that has Tensor Cores. To properly utilize them, you should set `torch.set_float32_matmul_precision('medium' | 'high')` which will trade-off precision for performance. For more details, read https://pytorch.org/docs/stable/generated/torch.set_float32_matmul_precision.html#torch.set_float32_matmul_precision\n",
      "LOCAL_RANK: 0 - CUDA_VISIBLE_DEVICES: [0,1]\n"
     ]
    },
    {
     "name": "stdout",
     "output_type": "stream",
     "text": [
      "Node 9 aggregate model with [0, 8]\n",
      "Performance of Node 9 after aggregation at round 2\n"
     ]
    },
    {
     "data": {
      "application/vnd.jupyter.widget-view+json": {
       "model_id": "3c0f87c73d7b42bf91bce4304a49b16f",
       "version_major": 2,
       "version_minor": 0
      },
      "text/plain": [
       "Testing: 0it [00:00, ?it/s]"
      ]
     },
     "metadata": {},
     "output_type": "display_data"
    },
    {
     "name": "stdout",
     "output_type": "stream",
     "text": [
      "Epoch end: Test, epoch number: 2\n"
     ]
    },
    {
     "data": {
      "text/html": [
       "<pre style=\"white-space:pre;overflow-x:auto;line-height:normal;font-family:Menlo,'DejaVu Sans Mono',consolas,'Courier New',monospace\">┏━━━━━━━━━━━━━━━━━━━━━━━━━━━┳━━━━━━━━━━━━━━━━━━━━━━━━━━━┓\n",
       "┃<span style=\"font-weight: bold\">   Runningstage.testing    </span>┃<span style=\"font-weight: bold\">                           </span>┃\n",
       "┃<span style=\"font-weight: bold\">          metric           </span>┃<span style=\"font-weight: bold\">       DataLoader 0        </span>┃\n",
       "┡━━━━━━━━━━━━━━━━━━━━━━━━━━━╇━━━━━━━━━━━━━━━━━━━━━━━━━━━┩\n",
       "│<span style=\"color: #008080; text-decoration-color: #008080\">       Test/Accuracy       </span>│<span style=\"color: #800080; text-decoration-color: #800080\">    0.8847569227218628     </span>│\n",
       "│<span style=\"color: #008080; text-decoration-color: #008080\">       Test/F1Score        </span>│<span style=\"color: #800080; text-decoration-color: #800080\">    0.8734005093574524     </span>│\n",
       "│<span style=\"color: #008080; text-decoration-color: #008080\">         Test/Loss         </span>│<span style=\"color: #800080; text-decoration-color: #800080\">    0.5363358855247498     </span>│\n",
       "│<span style=\"color: #008080; text-decoration-color: #008080\">      Test/Precision       </span>│<span style=\"color: #800080; text-decoration-color: #800080\">    0.8918277025222778     </span>│\n",
       "│<span style=\"color: #008080; text-decoration-color: #008080\">        Test/Recall        </span>│<span style=\"color: #800080; text-decoration-color: #800080\">    0.8847569227218628     </span>│\n",
       "│<span style=\"color: #008080; text-decoration-color: #008080\">    TestEpoch/Accuracy     </span>│<span style=\"color: #800080; text-decoration-color: #800080\">    0.8784034848213196     </span>│\n",
       "│<span style=\"color: #008080; text-decoration-color: #008080\">     TestEpoch/F1Score     </span>│<span style=\"color: #800080; text-decoration-color: #800080\">    0.8787559270858765     </span>│\n",
       "│<span style=\"color: #008080; text-decoration-color: #008080\">    TestEpoch/Precision    </span>│<span style=\"color: #800080; text-decoration-color: #800080\">    0.8946932554244995     </span>│\n",
       "│<span style=\"color: #008080; text-decoration-color: #008080\">     TestEpoch/Recall      </span>│<span style=\"color: #800080; text-decoration-color: #800080\">    0.8784034848213196     </span>│\n",
       "└───────────────────────────┴───────────────────────────┘\n",
       "</pre>\n"
      ],
      "text/plain": [
       "┏━━━━━━━━━━━━━━━━━━━━━━━━━━━┳━━━━━━━━━━━━━━━━━━━━━━━━━━━┓\n",
       "┃\u001b[1m \u001b[0m\u001b[1m  Runningstage.testing   \u001b[0m\u001b[1m \u001b[0m┃\u001b[1m                           \u001b[0m┃\n",
       "┃\u001b[1m \u001b[0m\u001b[1m         metric          \u001b[0m\u001b[1m \u001b[0m┃\u001b[1m \u001b[0m\u001b[1m      DataLoader 0       \u001b[0m\u001b[1m \u001b[0m┃\n",
       "┡━━━━━━━━━━━━━━━━━━━━━━━━━━━╇━━━━━━━━━━━━━━━━━━━━━━━━━━━┩\n",
       "│\u001b[36m \u001b[0m\u001b[36m      Test/Accuracy      \u001b[0m\u001b[36m \u001b[0m│\u001b[35m \u001b[0m\u001b[35m   0.8847569227218628    \u001b[0m\u001b[35m \u001b[0m│\n",
       "│\u001b[36m \u001b[0m\u001b[36m      Test/F1Score       \u001b[0m\u001b[36m \u001b[0m│\u001b[35m \u001b[0m\u001b[35m   0.8734005093574524    \u001b[0m\u001b[35m \u001b[0m│\n",
       "│\u001b[36m \u001b[0m\u001b[36m        Test/Loss        \u001b[0m\u001b[36m \u001b[0m│\u001b[35m \u001b[0m\u001b[35m   0.5363358855247498    \u001b[0m\u001b[35m \u001b[0m│\n",
       "│\u001b[36m \u001b[0m\u001b[36m     Test/Precision      \u001b[0m\u001b[36m \u001b[0m│\u001b[35m \u001b[0m\u001b[35m   0.8918277025222778    \u001b[0m\u001b[35m \u001b[0m│\n",
       "│\u001b[36m \u001b[0m\u001b[36m       Test/Recall       \u001b[0m\u001b[36m \u001b[0m│\u001b[35m \u001b[0m\u001b[35m   0.8847569227218628    \u001b[0m\u001b[35m \u001b[0m│\n",
       "│\u001b[36m \u001b[0m\u001b[36m   TestEpoch/Accuracy    \u001b[0m\u001b[36m \u001b[0m│\u001b[35m \u001b[0m\u001b[35m   0.8784034848213196    \u001b[0m\u001b[35m \u001b[0m│\n",
       "│\u001b[36m \u001b[0m\u001b[36m    TestEpoch/F1Score    \u001b[0m\u001b[36m \u001b[0m│\u001b[35m \u001b[0m\u001b[35m   0.8787559270858765    \u001b[0m\u001b[35m \u001b[0m│\n",
       "│\u001b[36m \u001b[0m\u001b[36m   TestEpoch/Precision   \u001b[0m\u001b[36m \u001b[0m│\u001b[35m \u001b[0m\u001b[35m   0.8946932554244995    \u001b[0m\u001b[35m \u001b[0m│\n",
       "│\u001b[36m \u001b[0m\u001b[36m    TestEpoch/Recall     \u001b[0m\u001b[36m \u001b[0m│\u001b[35m \u001b[0m\u001b[35m   0.8784034848213196    \u001b[0m\u001b[35m \u001b[0m│\n",
       "└───────────────────────────┴───────────────────────────┘\n"
      ]
     },
     "metadata": {},
     "output_type": "display_data"
    },
    {
     "name": "stderr",
     "output_type": "stream",
     "text": [
      "GPU available: True (cuda), used: True\n",
      "TPU available: False, using: 0 TPU cores\n",
      "IPU available: False, using: 0 IPUs\n",
      "HPU available: False, using: 0 HPUs\n",
      "You are using a CUDA device ('NVIDIA GeForce RTX 4070 Ti') that has Tensor Cores. To properly utilize them, you should set `torch.set_float32_matmul_precision('medium' | 'high')` which will trade-off precision for performance. For more details, read https://pytorch.org/docs/stable/generated/torch.set_float32_matmul_precision.html#torch.set_float32_matmul_precision\n",
      "LOCAL_RANK: 0 - CUDA_VISIBLE_DEVICES: [0,1]\n",
      "\n",
      "  | Name          | Type                      | Params | In sizes | Out sizes\n",
      "-----------------------------------------------------------------------------------\n",
      "0 | train_metrics | MetricCollection          | 0      | ?        | ?        \n",
      "1 | val_metrics   | MetricCollection          | 0      | ?        | ?        \n",
      "2 | test_metrics  | MetricCollection          | 0      | ?        | ?        \n",
      "3 | cm            | MulticlassConfusionMatrix | 0      | ?        | ?        \n",
      "4 | criterion     | CrossEntropyLoss          | 0      | ?        | ?        \n",
      "5 | l1            | Linear                    | 200 K  | [1, 784] | [1, 256] \n",
      "6 | l2            | Linear                    | 32.9 K | [1, 256] | [1, 128] \n",
      "7 | l3            | Linear                    | 1.3 K  | [1, 128] | [1, 10]  \n",
      "-----------------------------------------------------------------------------------\n",
      "235 K     Trainable params\n",
      "0         Non-trainable params\n",
      "235 K     Total params\n",
      "0.941     Total estimated model params size (MB)\n"
     ]
    },
    {
     "name": "stdout",
     "output_type": "stream",
     "text": [
      "Epoch end: Validation, epoch number: 4\n",
      "Epoch end: Validation, epoch number: 5\n",
      "Epoch end: Train, epoch number: 3\n",
      "Epoch end: Validation, epoch number: 6\n",
      "Epoch end: Train, epoch number: 4\n"
     ]
    },
    {
     "name": "stderr",
     "output_type": "stream",
     "text": [
      "`Trainer.fit` stopped: `max_epochs=3` reached.\n",
      "You are using a CUDA device ('NVIDIA GeForce RTX 4070 Ti') that has Tensor Cores. To properly utilize them, you should set `torch.set_float32_matmul_precision('medium' | 'high')` which will trade-off precision for performance. For more details, read https://pytorch.org/docs/stable/generated/torch.set_float32_matmul_precision.html#torch.set_float32_matmul_precision\n"
     ]
    },
    {
     "name": "stdout",
     "output_type": "stream",
     "text": [
      "Epoch end: Validation, epoch number: 7\n",
      "Epoch end: Train, epoch number: 5\n",
      "Performance of Node 0 before aggregation at round 3\n"
     ]
    },
    {
     "name": "stderr",
     "output_type": "stream",
     "text": [
      "LOCAL_RANK: 0 - CUDA_VISIBLE_DEVICES: [0,1]\n"
     ]
    },
    {
     "name": "stdout",
     "output_type": "stream",
     "text": [
      "Epoch end: Test, epoch number: 3\n"
     ]
    },
    {
     "data": {
      "text/html": [
       "<pre style=\"white-space:pre;overflow-x:auto;line-height:normal;font-family:Menlo,'DejaVu Sans Mono',consolas,'Courier New',monospace\">┏━━━━━━━━━━━━━━━━━━━━━━━━━━━┳━━━━━━━━━━━━━━━━━━━━━━━━━━━┓\n",
       "┃<span style=\"font-weight: bold\">   Runningstage.testing    </span>┃<span style=\"font-weight: bold\">                           </span>┃\n",
       "┃<span style=\"font-weight: bold\">          metric           </span>┃<span style=\"font-weight: bold\">       DataLoader 0        </span>┃\n",
       "┡━━━━━━━━━━━━━━━━━━━━━━━━━━━╇━━━━━━━━━━━━━━━━━━━━━━━━━━━┩\n",
       "│<span style=\"color: #008080; text-decoration-color: #008080\">       Test/Accuracy       </span>│<span style=\"color: #800080; text-decoration-color: #800080\">    0.9081861972808838     </span>│\n",
       "│<span style=\"color: #008080; text-decoration-color: #008080\">       Test/F1Score        </span>│<span style=\"color: #800080; text-decoration-color: #800080\">    0.9024963974952698     </span>│\n",
       "│<span style=\"color: #008080; text-decoration-color: #008080\">         Test/Loss         </span>│<span style=\"color: #800080; text-decoration-color: #800080\">    0.26842620968818665    </span>│\n",
       "│<span style=\"color: #008080; text-decoration-color: #008080\">      Test/Precision       </span>│<span style=\"color: #800080; text-decoration-color: #800080\">     0.910161018371582     </span>│\n",
       "│<span style=\"color: #008080; text-decoration-color: #008080\">        Test/Recall        </span>│<span style=\"color: #800080; text-decoration-color: #800080\">    0.9081861972808838     </span>│\n",
       "│<span style=\"color: #008080; text-decoration-color: #008080\">    TestEpoch/Accuracy     </span>│<span style=\"color: #800080; text-decoration-color: #800080\">    0.9123691320419312     </span>│\n",
       "│<span style=\"color: #008080; text-decoration-color: #008080\">     TestEpoch/F1Score     </span>│<span style=\"color: #800080; text-decoration-color: #800080\">    0.9125930070877075     </span>│\n",
       "│<span style=\"color: #008080; text-decoration-color: #008080\">    TestEpoch/Precision    </span>│<span style=\"color: #800080; text-decoration-color: #800080\">    0.9140495657920837     </span>│\n",
       "│<span style=\"color: #008080; text-decoration-color: #008080\">     TestEpoch/Recall      </span>│<span style=\"color: #800080; text-decoration-color: #800080\">    0.9123691320419312     </span>│\n",
       "└───────────────────────────┴───────────────────────────┘\n",
       "</pre>\n"
      ],
      "text/plain": [
       "┏━━━━━━━━━━━━━━━━━━━━━━━━━━━┳━━━━━━━━━━━━━━━━━━━━━━━━━━━┓\n",
       "┃\u001b[1m \u001b[0m\u001b[1m  Runningstage.testing   \u001b[0m\u001b[1m \u001b[0m┃\u001b[1m                           \u001b[0m┃\n",
       "┃\u001b[1m \u001b[0m\u001b[1m         metric          \u001b[0m\u001b[1m \u001b[0m┃\u001b[1m \u001b[0m\u001b[1m      DataLoader 0       \u001b[0m\u001b[1m \u001b[0m┃\n",
       "┡━━━━━━━━━━━━━━━━━━━━━━━━━━━╇━━━━━━━━━━━━━━━━━━━━━━━━━━━┩\n",
       "│\u001b[36m \u001b[0m\u001b[36m      Test/Accuracy      \u001b[0m\u001b[36m \u001b[0m│\u001b[35m \u001b[0m\u001b[35m   0.9081861972808838    \u001b[0m\u001b[35m \u001b[0m│\n",
       "│\u001b[36m \u001b[0m\u001b[36m      Test/F1Score       \u001b[0m\u001b[36m \u001b[0m│\u001b[35m \u001b[0m\u001b[35m   0.9024963974952698    \u001b[0m\u001b[35m \u001b[0m│\n",
       "│\u001b[36m \u001b[0m\u001b[36m        Test/Loss        \u001b[0m\u001b[36m \u001b[0m│\u001b[35m \u001b[0m\u001b[35m   0.26842620968818665   \u001b[0m\u001b[35m \u001b[0m│\n",
       "│\u001b[36m \u001b[0m\u001b[36m     Test/Precision      \u001b[0m\u001b[36m \u001b[0m│\u001b[35m \u001b[0m\u001b[35m    0.910161018371582    \u001b[0m\u001b[35m \u001b[0m│\n",
       "│\u001b[36m \u001b[0m\u001b[36m       Test/Recall       \u001b[0m\u001b[36m \u001b[0m│\u001b[35m \u001b[0m\u001b[35m   0.9081861972808838    \u001b[0m\u001b[35m \u001b[0m│\n",
       "│\u001b[36m \u001b[0m\u001b[36m   TestEpoch/Accuracy    \u001b[0m\u001b[36m \u001b[0m│\u001b[35m \u001b[0m\u001b[35m   0.9123691320419312    \u001b[0m\u001b[35m \u001b[0m│\n",
       "│\u001b[36m \u001b[0m\u001b[36m    TestEpoch/F1Score    \u001b[0m\u001b[36m \u001b[0m│\u001b[35m \u001b[0m\u001b[35m   0.9125930070877075    \u001b[0m\u001b[35m \u001b[0m│\n",
       "│\u001b[36m \u001b[0m\u001b[36m   TestEpoch/Precision   \u001b[0m\u001b[36m \u001b[0m│\u001b[35m \u001b[0m\u001b[35m   0.9140495657920837    \u001b[0m\u001b[35m \u001b[0m│\n",
       "│\u001b[36m \u001b[0m\u001b[36m    TestEpoch/Recall     \u001b[0m\u001b[36m \u001b[0m│\u001b[35m \u001b[0m\u001b[35m   0.9123691320419312    \u001b[0m\u001b[35m \u001b[0m│\n",
       "└───────────────────────────┴───────────────────────────┘\n"
      ]
     },
     "metadata": {},
     "output_type": "display_data"
    },
    {
     "name": "stderr",
     "output_type": "stream",
     "text": [
      "GPU available: True (cuda), used: True\n",
      "TPU available: False, using: 0 TPU cores\n",
      "IPU available: False, using: 0 IPUs\n",
      "HPU available: False, using: 0 HPUs\n",
      "You are using a CUDA device ('NVIDIA GeForce RTX 4070 Ti') that has Tensor Cores. To properly utilize them, you should set `torch.set_float32_matmul_precision('medium' | 'high')` which will trade-off precision for performance. For more details, read https://pytorch.org/docs/stable/generated/torch.set_float32_matmul_precision.html#torch.set_float32_matmul_precision\n",
      "LOCAL_RANK: 0 - CUDA_VISIBLE_DEVICES: [0,1]\n",
      "\n",
      "  | Name          | Type                      | Params | In sizes | Out sizes\n",
      "-----------------------------------------------------------------------------------\n",
      "0 | train_metrics | MetricCollection          | 0      | ?        | ?        \n",
      "1 | val_metrics   | MetricCollection          | 0      | ?        | ?        \n",
      "2 | test_metrics  | MetricCollection          | 0      | ?        | ?        \n",
      "3 | cm            | MulticlassConfusionMatrix | 0      | ?        | ?        \n",
      "4 | criterion     | CrossEntropyLoss          | 0      | ?        | ?        \n",
      "5 | l1            | Linear                    | 200 K  | [1, 784] | [1, 256] \n",
      "6 | l2            | Linear                    | 32.9 K | [1, 256] | [1, 128] \n",
      "7 | l3            | Linear                    | 1.3 K  | [1, 128] | [1, 10]  \n",
      "-----------------------------------------------------------------------------------\n",
      "235 K     Trainable params\n",
      "0         Non-trainable params\n",
      "235 K     Total params\n",
      "0.941     Total estimated model params size (MB)\n"
     ]
    },
    {
     "name": "stdout",
     "output_type": "stream",
     "text": [
      "Epoch end: Validation, epoch number: 4\n",
      "Epoch end: Validation, epoch number: 5\n",
      "Epoch end: Train, epoch number: 3\n",
      "Epoch end: Validation, epoch number: 6\n",
      "Epoch end: Train, epoch number: 4\n"
     ]
    },
    {
     "name": "stderr",
     "output_type": "stream",
     "text": [
      "`Trainer.fit` stopped: `max_epochs=3` reached.\n",
      "You are using a CUDA device ('NVIDIA GeForce RTX 4070 Ti') that has Tensor Cores. To properly utilize them, you should set `torch.set_float32_matmul_precision('medium' | 'high')` which will trade-off precision for performance. For more details, read https://pytorch.org/docs/stable/generated/torch.set_float32_matmul_precision.html#torch.set_float32_matmul_precision\n"
     ]
    },
    {
     "name": "stdout",
     "output_type": "stream",
     "text": [
      "Epoch end: Validation, epoch number: 7\n",
      "Epoch end: Train, epoch number: 5\n",
      "Performance of Node 1 before aggregation at round 3\n"
     ]
    },
    {
     "name": "stderr",
     "output_type": "stream",
     "text": [
      "LOCAL_RANK: 0 - CUDA_VISIBLE_DEVICES: [0,1]\n"
     ]
    },
    {
     "name": "stdout",
     "output_type": "stream",
     "text": [
      "Epoch end: Test, epoch number: 3\n"
     ]
    },
    {
     "data": {
      "text/html": [
       "<pre style=\"white-space:pre;overflow-x:auto;line-height:normal;font-family:Menlo,'DejaVu Sans Mono',consolas,'Courier New',monospace\">┏━━━━━━━━━━━━━━━━━━━━━━━━━━━┳━━━━━━━━━━━━━━━━━━━━━━━━━━━┓\n",
       "┃<span style=\"font-weight: bold\">   Runningstage.testing    </span>┃<span style=\"font-weight: bold\">                           </span>┃\n",
       "┃<span style=\"font-weight: bold\">          metric           </span>┃<span style=\"font-weight: bold\">       DataLoader 0        </span>┃\n",
       "┡━━━━━━━━━━━━━━━━━━━━━━━━━━━╇━━━━━━━━━━━━━━━━━━━━━━━━━━━┩\n",
       "│<span style=\"color: #008080; text-decoration-color: #008080\">       Test/Accuracy       </span>│<span style=\"color: #800080; text-decoration-color: #800080\">    0.9039320945739746     </span>│\n",
       "│<span style=\"color: #008080; text-decoration-color: #008080\">       Test/F1Score        </span>│<span style=\"color: #800080; text-decoration-color: #800080\">    0.8929052352905273     </span>│\n",
       "│<span style=\"color: #008080; text-decoration-color: #008080\">         Test/Loss         </span>│<span style=\"color: #800080; text-decoration-color: #800080\">    0.2707725763320923     </span>│\n",
       "│<span style=\"color: #008080; text-decoration-color: #008080\">      Test/Precision       </span>│<span style=\"color: #800080; text-decoration-color: #800080\">    0.9043985605239868     </span>│\n",
       "│<span style=\"color: #008080; text-decoration-color: #008080\">        Test/Recall        </span>│<span style=\"color: #800080; text-decoration-color: #800080\">    0.9039320945739746     </span>│\n",
       "│<span style=\"color: #008080; text-decoration-color: #008080\">    TestEpoch/Accuracy     </span>│<span style=\"color: #800080; text-decoration-color: #800080\">    0.9059780240058899     </span>│\n",
       "│<span style=\"color: #008080; text-decoration-color: #008080\">     TestEpoch/F1Score     </span>│<span style=\"color: #800080; text-decoration-color: #800080\">    0.9052712917327881     </span>│\n",
       "│<span style=\"color: #008080; text-decoration-color: #008080\">    TestEpoch/Precision    </span>│<span style=\"color: #800080; text-decoration-color: #800080\">     0.913913369178772     </span>│\n",
       "│<span style=\"color: #008080; text-decoration-color: #008080\">     TestEpoch/Recall      </span>│<span style=\"color: #800080; text-decoration-color: #800080\">    0.9059780240058899     </span>│\n",
       "└───────────────────────────┴───────────────────────────┘\n",
       "</pre>\n"
      ],
      "text/plain": [
       "┏━━━━━━━━━━━━━━━━━━━━━━━━━━━┳━━━━━━━━━━━━━━━━━━━━━━━━━━━┓\n",
       "┃\u001b[1m \u001b[0m\u001b[1m  Runningstage.testing   \u001b[0m\u001b[1m \u001b[0m┃\u001b[1m                           \u001b[0m┃\n",
       "┃\u001b[1m \u001b[0m\u001b[1m         metric          \u001b[0m\u001b[1m \u001b[0m┃\u001b[1m \u001b[0m\u001b[1m      DataLoader 0       \u001b[0m\u001b[1m \u001b[0m┃\n",
       "┡━━━━━━━━━━━━━━━━━━━━━━━━━━━╇━━━━━━━━━━━━━━━━━━━━━━━━━━━┩\n",
       "│\u001b[36m \u001b[0m\u001b[36m      Test/Accuracy      \u001b[0m\u001b[36m \u001b[0m│\u001b[35m \u001b[0m\u001b[35m   0.9039320945739746    \u001b[0m\u001b[35m \u001b[0m│\n",
       "│\u001b[36m \u001b[0m\u001b[36m      Test/F1Score       \u001b[0m\u001b[36m \u001b[0m│\u001b[35m \u001b[0m\u001b[35m   0.8929052352905273    \u001b[0m\u001b[35m \u001b[0m│\n",
       "│\u001b[36m \u001b[0m\u001b[36m        Test/Loss        \u001b[0m\u001b[36m \u001b[0m│\u001b[35m \u001b[0m\u001b[35m   0.2707725763320923    \u001b[0m\u001b[35m \u001b[0m│\n",
       "│\u001b[36m \u001b[0m\u001b[36m     Test/Precision      \u001b[0m\u001b[36m \u001b[0m│\u001b[35m \u001b[0m\u001b[35m   0.9043985605239868    \u001b[0m\u001b[35m \u001b[0m│\n",
       "│\u001b[36m \u001b[0m\u001b[36m       Test/Recall       \u001b[0m\u001b[36m \u001b[0m│\u001b[35m \u001b[0m\u001b[35m   0.9039320945739746    \u001b[0m\u001b[35m \u001b[0m│\n",
       "│\u001b[36m \u001b[0m\u001b[36m   TestEpoch/Accuracy    \u001b[0m\u001b[36m \u001b[0m│\u001b[35m \u001b[0m\u001b[35m   0.9059780240058899    \u001b[0m\u001b[35m \u001b[0m│\n",
       "│\u001b[36m \u001b[0m\u001b[36m    TestEpoch/F1Score    \u001b[0m\u001b[36m \u001b[0m│\u001b[35m \u001b[0m\u001b[35m   0.9052712917327881    \u001b[0m\u001b[35m \u001b[0m│\n",
       "│\u001b[36m \u001b[0m\u001b[36m   TestEpoch/Precision   \u001b[0m\u001b[36m \u001b[0m│\u001b[35m \u001b[0m\u001b[35m    0.913913369178772    \u001b[0m\u001b[35m \u001b[0m│\n",
       "│\u001b[36m \u001b[0m\u001b[36m    TestEpoch/Recall     \u001b[0m\u001b[36m \u001b[0m│\u001b[35m \u001b[0m\u001b[35m   0.9059780240058899    \u001b[0m\u001b[35m \u001b[0m│\n",
       "└───────────────────────────┴───────────────────────────┘\n"
      ]
     },
     "metadata": {},
     "output_type": "display_data"
    },
    {
     "name": "stderr",
     "output_type": "stream",
     "text": [
      "GPU available: True (cuda), used: True\n",
      "TPU available: False, using: 0 TPU cores\n",
      "IPU available: False, using: 0 IPUs\n",
      "HPU available: False, using: 0 HPUs\n",
      "You are using a CUDA device ('NVIDIA GeForce RTX 4070 Ti') that has Tensor Cores. To properly utilize them, you should set `torch.set_float32_matmul_precision('medium' | 'high')` which will trade-off precision for performance. For more details, read https://pytorch.org/docs/stable/generated/torch.set_float32_matmul_precision.html#torch.set_float32_matmul_precision\n",
      "LOCAL_RANK: 0 - CUDA_VISIBLE_DEVICES: [0,1]\n",
      "\n",
      "  | Name          | Type                      | Params | In sizes | Out sizes\n",
      "-----------------------------------------------------------------------------------\n",
      "0 | train_metrics | MetricCollection          | 0      | ?        | ?        \n",
      "1 | val_metrics   | MetricCollection          | 0      | ?        | ?        \n",
      "2 | test_metrics  | MetricCollection          | 0      | ?        | ?        \n",
      "3 | cm            | MulticlassConfusionMatrix | 0      | ?        | ?        \n",
      "4 | criterion     | CrossEntropyLoss          | 0      | ?        | ?        \n",
      "5 | l1            | Linear                    | 200 K  | [1, 784] | [1, 256] \n",
      "6 | l2            | Linear                    | 32.9 K | [1, 256] | [1, 128] \n",
      "7 | l3            | Linear                    | 1.3 K  | [1, 128] | [1, 10]  \n",
      "-----------------------------------------------------------------------------------\n",
      "235 K     Trainable params\n",
      "0         Non-trainable params\n",
      "235 K     Total params\n",
      "0.941     Total estimated model params size (MB)\n"
     ]
    },
    {
     "name": "stdout",
     "output_type": "stream",
     "text": [
      "Epoch end: Validation, epoch number: 4\n",
      "Epoch end: Validation, epoch number: 5\n",
      "Epoch end: Train, epoch number: 3\n",
      "Epoch end: Validation, epoch number: 6\n",
      "Epoch end: Train, epoch number: 4\n"
     ]
    },
    {
     "name": "stderr",
     "output_type": "stream",
     "text": [
      "`Trainer.fit` stopped: `max_epochs=3` reached.\n",
      "You are using a CUDA device ('NVIDIA GeForce RTX 4070 Ti') that has Tensor Cores. To properly utilize them, you should set `torch.set_float32_matmul_precision('medium' | 'high')` which will trade-off precision for performance. For more details, read https://pytorch.org/docs/stable/generated/torch.set_float32_matmul_precision.html#torch.set_float32_matmul_precision\n"
     ]
    },
    {
     "name": "stdout",
     "output_type": "stream",
     "text": [
      "Epoch end: Validation, epoch number: 7\n",
      "Epoch end: Train, epoch number: 5\n",
      "Performance of Node 2 before aggregation at round 3\n"
     ]
    },
    {
     "name": "stderr",
     "output_type": "stream",
     "text": [
      "LOCAL_RANK: 0 - CUDA_VISIBLE_DEVICES: [0,1]\n"
     ]
    },
    {
     "name": "stdout",
     "output_type": "stream",
     "text": [
      "Epoch end: Test, epoch number: 3\n"
     ]
    },
    {
     "data": {
      "text/html": [
       "<pre style=\"white-space:pre;overflow-x:auto;line-height:normal;font-family:Menlo,'DejaVu Sans Mono',consolas,'Courier New',monospace\">┏━━━━━━━━━━━━━━━━━━━━━━━━━━━┳━━━━━━━━━━━━━━━━━━━━━━━━━━━┓\n",
       "┃<span style=\"font-weight: bold\">   Runningstage.testing    </span>┃<span style=\"font-weight: bold\">                           </span>┃\n",
       "┃<span style=\"font-weight: bold\">          metric           </span>┃<span style=\"font-weight: bold\">       DataLoader 0        </span>┃\n",
       "┡━━━━━━━━━━━━━━━━━━━━━━━━━━━╇━━━━━━━━━━━━━━━━━━━━━━━━━━━┩\n",
       "│<span style=\"color: #008080; text-decoration-color: #008080\">       Test/Accuracy       </span>│<span style=\"color: #800080; text-decoration-color: #800080\">    0.9279407262802124     </span>│\n",
       "│<span style=\"color: #008080; text-decoration-color: #008080\">       Test/F1Score        </span>│<span style=\"color: #800080; text-decoration-color: #800080\">    0.9226546883583069     </span>│\n",
       "│<span style=\"color: #008080; text-decoration-color: #008080\">         Test/Loss         </span>│<span style=\"color: #800080; text-decoration-color: #800080\">    0.22572533786296844    </span>│\n",
       "│<span style=\"color: #008080; text-decoration-color: #008080\">      Test/Precision       </span>│<span style=\"color: #800080; text-decoration-color: #800080\">    0.9348124265670776     </span>│\n",
       "│<span style=\"color: #008080; text-decoration-color: #008080\">        Test/Recall        </span>│<span style=\"color: #800080; text-decoration-color: #800080\">    0.9279407262802124     </span>│\n",
       "│<span style=\"color: #008080; text-decoration-color: #008080\">    TestEpoch/Accuracy     </span>│<span style=\"color: #800080; text-decoration-color: #800080\">    0.9277930855751038     </span>│\n",
       "│<span style=\"color: #008080; text-decoration-color: #008080\">     TestEpoch/F1Score     </span>│<span style=\"color: #800080; text-decoration-color: #800080\">    0.9265977740287781     </span>│\n",
       "│<span style=\"color: #008080; text-decoration-color: #008080\">    TestEpoch/Precision    </span>│<span style=\"color: #800080; text-decoration-color: #800080\">    0.9315416812896729     </span>│\n",
       "│<span style=\"color: #008080; text-decoration-color: #008080\">     TestEpoch/Recall      </span>│<span style=\"color: #800080; text-decoration-color: #800080\">    0.9277930855751038     </span>│\n",
       "└───────────────────────────┴───────────────────────────┘\n",
       "</pre>\n"
      ],
      "text/plain": [
       "┏━━━━━━━━━━━━━━━━━━━━━━━━━━━┳━━━━━━━━━━━━━━━━━━━━━━━━━━━┓\n",
       "┃\u001b[1m \u001b[0m\u001b[1m  Runningstage.testing   \u001b[0m\u001b[1m \u001b[0m┃\u001b[1m                           \u001b[0m┃\n",
       "┃\u001b[1m \u001b[0m\u001b[1m         metric          \u001b[0m\u001b[1m \u001b[0m┃\u001b[1m \u001b[0m\u001b[1m      DataLoader 0       \u001b[0m\u001b[1m \u001b[0m┃\n",
       "┡━━━━━━━━━━━━━━━━━━━━━━━━━━━╇━━━━━━━━━━━━━━━━━━━━━━━━━━━┩\n",
       "│\u001b[36m \u001b[0m\u001b[36m      Test/Accuracy      \u001b[0m\u001b[36m \u001b[0m│\u001b[35m \u001b[0m\u001b[35m   0.9279407262802124    \u001b[0m\u001b[35m \u001b[0m│\n",
       "│\u001b[36m \u001b[0m\u001b[36m      Test/F1Score       \u001b[0m\u001b[36m \u001b[0m│\u001b[35m \u001b[0m\u001b[35m   0.9226546883583069    \u001b[0m\u001b[35m \u001b[0m│\n",
       "│\u001b[36m \u001b[0m\u001b[36m        Test/Loss        \u001b[0m\u001b[36m \u001b[0m│\u001b[35m \u001b[0m\u001b[35m   0.22572533786296844   \u001b[0m\u001b[35m \u001b[0m│\n",
       "│\u001b[36m \u001b[0m\u001b[36m     Test/Precision      \u001b[0m\u001b[36m \u001b[0m│\u001b[35m \u001b[0m\u001b[35m   0.9348124265670776    \u001b[0m\u001b[35m \u001b[0m│\n",
       "│\u001b[36m \u001b[0m\u001b[36m       Test/Recall       \u001b[0m\u001b[36m \u001b[0m│\u001b[35m \u001b[0m\u001b[35m   0.9279407262802124    \u001b[0m\u001b[35m \u001b[0m│\n",
       "│\u001b[36m \u001b[0m\u001b[36m   TestEpoch/Accuracy    \u001b[0m\u001b[36m \u001b[0m│\u001b[35m \u001b[0m\u001b[35m   0.9277930855751038    \u001b[0m\u001b[35m \u001b[0m│\n",
       "│\u001b[36m \u001b[0m\u001b[36m    TestEpoch/F1Score    \u001b[0m\u001b[36m \u001b[0m│\u001b[35m \u001b[0m\u001b[35m   0.9265977740287781    \u001b[0m\u001b[35m \u001b[0m│\n",
       "│\u001b[36m \u001b[0m\u001b[36m   TestEpoch/Precision   \u001b[0m\u001b[36m \u001b[0m│\u001b[35m \u001b[0m\u001b[35m   0.9315416812896729    \u001b[0m\u001b[35m \u001b[0m│\n",
       "│\u001b[36m \u001b[0m\u001b[36m    TestEpoch/Recall     \u001b[0m\u001b[36m \u001b[0m│\u001b[35m \u001b[0m\u001b[35m   0.9277930855751038    \u001b[0m\u001b[35m \u001b[0m│\n",
       "└───────────────────────────┴───────────────────────────┘\n"
      ]
     },
     "metadata": {},
     "output_type": "display_data"
    },
    {
     "name": "stderr",
     "output_type": "stream",
     "text": [
      "GPU available: True (cuda), used: True\n",
      "TPU available: False, using: 0 TPU cores\n",
      "IPU available: False, using: 0 IPUs\n",
      "HPU available: False, using: 0 HPUs\n",
      "You are using a CUDA device ('NVIDIA GeForce RTX 4070 Ti') that has Tensor Cores. To properly utilize them, you should set `torch.set_float32_matmul_precision('medium' | 'high')` which will trade-off precision for performance. For more details, read https://pytorch.org/docs/stable/generated/torch.set_float32_matmul_precision.html#torch.set_float32_matmul_precision\n",
      "LOCAL_RANK: 0 - CUDA_VISIBLE_DEVICES: [0,1]\n",
      "\n",
      "  | Name          | Type                      | Params | In sizes | Out sizes\n",
      "-----------------------------------------------------------------------------------\n",
      "0 | train_metrics | MetricCollection          | 0      | ?        | ?        \n",
      "1 | val_metrics   | MetricCollection          | 0      | ?        | ?        \n",
      "2 | test_metrics  | MetricCollection          | 0      | ?        | ?        \n",
      "3 | cm            | MulticlassConfusionMatrix | 0      | ?        | ?        \n",
      "4 | criterion     | CrossEntropyLoss          | 0      | ?        | ?        \n",
      "5 | l1            | Linear                    | 200 K  | [1, 784] | [1, 256] \n",
      "6 | l2            | Linear                    | 32.9 K | [1, 256] | [1, 128] \n",
      "7 | l3            | Linear                    | 1.3 K  | [1, 128] | [1, 10]  \n",
      "-----------------------------------------------------------------------------------\n",
      "235 K     Trainable params\n",
      "0         Non-trainable params\n",
      "235 K     Total params\n",
      "0.941     Total estimated model params size (MB)\n"
     ]
    },
    {
     "name": "stdout",
     "output_type": "stream",
     "text": [
      "Epoch end: Validation, epoch number: 4\n",
      "Epoch end: Validation, epoch number: 5\n",
      "Epoch end: Train, epoch number: 3\n",
      "Epoch end: Validation, epoch number: 6\n",
      "Epoch end: Train, epoch number: 4\n"
     ]
    },
    {
     "name": "stderr",
     "output_type": "stream",
     "text": [
      "`Trainer.fit` stopped: `max_epochs=3` reached.\n",
      "You are using a CUDA device ('NVIDIA GeForce RTX 4070 Ti') that has Tensor Cores. To properly utilize them, you should set `torch.set_float32_matmul_precision('medium' | 'high')` which will trade-off precision for performance. For more details, read https://pytorch.org/docs/stable/generated/torch.set_float32_matmul_precision.html#torch.set_float32_matmul_precision\n",
      "LOCAL_RANK: 0 - CUDA_VISIBLE_DEVICES: [0,1]\n"
     ]
    },
    {
     "name": "stdout",
     "output_type": "stream",
     "text": [
      "Epoch end: Validation, epoch number: 7\n",
      "Epoch end: Train, epoch number: 5\n",
      "Performance of Node 3 before aggregation at round 3\n",
      "Epoch end: Test, epoch number: 3\n"
     ]
    },
    {
     "data": {
      "text/html": [
       "<pre style=\"white-space:pre;overflow-x:auto;line-height:normal;font-family:Menlo,'DejaVu Sans Mono',consolas,'Courier New',monospace\">┏━━━━━━━━━━━━━━━━━━━━━━━━━━━┳━━━━━━━━━━━━━━━━━━━━━━━━━━━┓\n",
       "┃<span style=\"font-weight: bold\">   Runningstage.testing    </span>┃<span style=\"font-weight: bold\">                           </span>┃\n",
       "┃<span style=\"font-weight: bold\">          metric           </span>┃<span style=\"font-weight: bold\">       DataLoader 0        </span>┃\n",
       "┡━━━━━━━━━━━━━━━━━━━━━━━━━━━╇━━━━━━━━━━━━━━━━━━━━━━━━━━━┩\n",
       "│<span style=\"color: #008080; text-decoration-color: #008080\">       Test/Accuracy       </span>│<span style=\"color: #800080; text-decoration-color: #800080\">    0.9351400136947632     </span>│\n",
       "│<span style=\"color: #008080; text-decoration-color: #008080\">       Test/F1Score        </span>│<span style=\"color: #800080; text-decoration-color: #800080\">     0.92961186170578      </span>│\n",
       "│<span style=\"color: #008080; text-decoration-color: #008080\">         Test/Loss         </span>│<span style=\"color: #800080; text-decoration-color: #800080\">    0.22202280163764954    </span>│\n",
       "│<span style=\"color: #008080; text-decoration-color: #008080\">      Test/Precision       </span>│<span style=\"color: #800080; text-decoration-color: #800080\">    0.9351328611373901     </span>│\n",
       "│<span style=\"color: #008080; text-decoration-color: #008080\">        Test/Recall        </span>│<span style=\"color: #800080; text-decoration-color: #800080\">    0.9351400136947632     </span>│\n",
       "│<span style=\"color: #008080; text-decoration-color: #008080\">    TestEpoch/Accuracy     </span>│<span style=\"color: #800080; text-decoration-color: #800080\">    0.9336808919906616     </span>│\n",
       "│<span style=\"color: #008080; text-decoration-color: #008080\">     TestEpoch/F1Score     </span>│<span style=\"color: #800080; text-decoration-color: #800080\">    0.9322623610496521     </span>│\n",
       "│<span style=\"color: #008080; text-decoration-color: #008080\">    TestEpoch/Precision    </span>│<span style=\"color: #800080; text-decoration-color: #800080\">     0.931657075881958     </span>│\n",
       "│<span style=\"color: #008080; text-decoration-color: #008080\">     TestEpoch/Recall      </span>│<span style=\"color: #800080; text-decoration-color: #800080\">    0.9336808919906616     </span>│\n",
       "└───────────────────────────┴───────────────────────────┘\n",
       "</pre>\n"
      ],
      "text/plain": [
       "┏━━━━━━━━━━━━━━━━━━━━━━━━━━━┳━━━━━━━━━━━━━━━━━━━━━━━━━━━┓\n",
       "┃\u001b[1m \u001b[0m\u001b[1m  Runningstage.testing   \u001b[0m\u001b[1m \u001b[0m┃\u001b[1m                           \u001b[0m┃\n",
       "┃\u001b[1m \u001b[0m\u001b[1m         metric          \u001b[0m\u001b[1m \u001b[0m┃\u001b[1m \u001b[0m\u001b[1m      DataLoader 0       \u001b[0m\u001b[1m \u001b[0m┃\n",
       "┡━━━━━━━━━━━━━━━━━━━━━━━━━━━╇━━━━━━━━━━━━━━━━━━━━━━━━━━━┩\n",
       "│\u001b[36m \u001b[0m\u001b[36m      Test/Accuracy      \u001b[0m\u001b[36m \u001b[0m│\u001b[35m \u001b[0m\u001b[35m   0.9351400136947632    \u001b[0m\u001b[35m \u001b[0m│\n",
       "│\u001b[36m \u001b[0m\u001b[36m      Test/F1Score       \u001b[0m\u001b[36m \u001b[0m│\u001b[35m \u001b[0m\u001b[35m    0.92961186170578     \u001b[0m\u001b[35m \u001b[0m│\n",
       "│\u001b[36m \u001b[0m\u001b[36m        Test/Loss        \u001b[0m\u001b[36m \u001b[0m│\u001b[35m \u001b[0m\u001b[35m   0.22202280163764954   \u001b[0m\u001b[35m \u001b[0m│\n",
       "│\u001b[36m \u001b[0m\u001b[36m     Test/Precision      \u001b[0m\u001b[36m \u001b[0m│\u001b[35m \u001b[0m\u001b[35m   0.9351328611373901    \u001b[0m\u001b[35m \u001b[0m│\n",
       "│\u001b[36m \u001b[0m\u001b[36m       Test/Recall       \u001b[0m\u001b[36m \u001b[0m│\u001b[35m \u001b[0m\u001b[35m   0.9351400136947632    \u001b[0m\u001b[35m \u001b[0m│\n",
       "│\u001b[36m \u001b[0m\u001b[36m   TestEpoch/Accuracy    \u001b[0m\u001b[36m \u001b[0m│\u001b[35m \u001b[0m\u001b[35m   0.9336808919906616    \u001b[0m\u001b[35m \u001b[0m│\n",
       "│\u001b[36m \u001b[0m\u001b[36m    TestEpoch/F1Score    \u001b[0m\u001b[36m \u001b[0m│\u001b[35m \u001b[0m\u001b[35m   0.9322623610496521    \u001b[0m\u001b[35m \u001b[0m│\n",
       "│\u001b[36m \u001b[0m\u001b[36m   TestEpoch/Precision   \u001b[0m\u001b[36m \u001b[0m│\u001b[35m \u001b[0m\u001b[35m    0.931657075881958    \u001b[0m\u001b[35m \u001b[0m│\n",
       "│\u001b[36m \u001b[0m\u001b[36m    TestEpoch/Recall     \u001b[0m\u001b[36m \u001b[0m│\u001b[35m \u001b[0m\u001b[35m   0.9336808919906616    \u001b[0m\u001b[35m \u001b[0m│\n",
       "└───────────────────────────┴───────────────────────────┘\n"
      ]
     },
     "metadata": {},
     "output_type": "display_data"
    },
    {
     "name": "stderr",
     "output_type": "stream",
     "text": [
      "GPU available: True (cuda), used: True\n",
      "TPU available: False, using: 0 TPU cores\n",
      "IPU available: False, using: 0 IPUs\n",
      "HPU available: False, using: 0 HPUs\n",
      "You are using a CUDA device ('NVIDIA GeForce RTX 4070 Ti') that has Tensor Cores. To properly utilize them, you should set `torch.set_float32_matmul_precision('medium' | 'high')` which will trade-off precision for performance. For more details, read https://pytorch.org/docs/stable/generated/torch.set_float32_matmul_precision.html#torch.set_float32_matmul_precision\n",
      "LOCAL_RANK: 0 - CUDA_VISIBLE_DEVICES: [0,1]\n",
      "\n",
      "  | Name          | Type                      | Params | In sizes | Out sizes\n",
      "-----------------------------------------------------------------------------------\n",
      "0 | train_metrics | MetricCollection          | 0      | ?        | ?        \n",
      "1 | val_metrics   | MetricCollection          | 0      | ?        | ?        \n",
      "2 | test_metrics  | MetricCollection          | 0      | ?        | ?        \n",
      "3 | cm            | MulticlassConfusionMatrix | 0      | ?        | ?        \n",
      "4 | criterion     | CrossEntropyLoss          | 0      | ?        | ?        \n",
      "5 | l1            | Linear                    | 200 K  | [1, 784] | [1, 256] \n",
      "6 | l2            | Linear                    | 32.9 K | [1, 256] | [1, 128] \n",
      "7 | l3            | Linear                    | 1.3 K  | [1, 128] | [1, 10]  \n",
      "-----------------------------------------------------------------------------------\n",
      "235 K     Trainable params\n",
      "0         Non-trainable params\n",
      "235 K     Total params\n",
      "0.941     Total estimated model params size (MB)\n"
     ]
    },
    {
     "name": "stdout",
     "output_type": "stream",
     "text": [
      "Epoch end: Validation, epoch number: 4\n",
      "Epoch end: Validation, epoch number: 5\n",
      "Epoch end: Train, epoch number: 3\n",
      "Epoch end: Validation, epoch number: 6\n",
      "Epoch end: Train, epoch number: 4\n"
     ]
    },
    {
     "name": "stderr",
     "output_type": "stream",
     "text": [
      "`Trainer.fit` stopped: `max_epochs=3` reached.\n",
      "You are using a CUDA device ('NVIDIA GeForce RTX 4070 Ti') that has Tensor Cores. To properly utilize them, you should set `torch.set_float32_matmul_precision('medium' | 'high')` which will trade-off precision for performance. For more details, read https://pytorch.org/docs/stable/generated/torch.set_float32_matmul_precision.html#torch.set_float32_matmul_precision\n"
     ]
    },
    {
     "name": "stdout",
     "output_type": "stream",
     "text": [
      "Epoch end: Validation, epoch number: 7\n",
      "Epoch end: Train, epoch number: 5\n",
      "Performance of Node 4 before aggregation at round 3\n"
     ]
    },
    {
     "name": "stderr",
     "output_type": "stream",
     "text": [
      "LOCAL_RANK: 0 - CUDA_VISIBLE_DEVICES: [0,1]\n"
     ]
    },
    {
     "name": "stdout",
     "output_type": "stream",
     "text": [
      "Epoch end: Test, epoch number: 3\n"
     ]
    },
    {
     "data": {
      "text/html": [
       "<pre style=\"white-space:pre;overflow-x:auto;line-height:normal;font-family:Menlo,'DejaVu Sans Mono',consolas,'Courier New',monospace\">┏━━━━━━━━━━━━━━━━━━━━━━━━━━━┳━━━━━━━━━━━━━━━━━━━━━━━━━━━┓\n",
       "┃<span style=\"font-weight: bold\">   Runningstage.testing    </span>┃<span style=\"font-weight: bold\">                           </span>┃\n",
       "┃<span style=\"font-weight: bold\">          metric           </span>┃<span style=\"font-weight: bold\">       DataLoader 0        </span>┃\n",
       "┡━━━━━━━━━━━━━━━━━━━━━━━━━━━╇━━━━━━━━━━━━━━━━━━━━━━━━━━━┩\n",
       "│<span style=\"color: #008080; text-decoration-color: #008080\">       Test/Accuracy       </span>│<span style=\"color: #800080; text-decoration-color: #800080\">    0.9179651141166687     </span>│\n",
       "│<span style=\"color: #008080; text-decoration-color: #008080\">       Test/F1Score        </span>│<span style=\"color: #800080; text-decoration-color: #800080\">    0.9118503928184509     </span>│\n",
       "│<span style=\"color: #008080; text-decoration-color: #008080\">         Test/Loss         </span>│<span style=\"color: #800080; text-decoration-color: #800080\">    0.26891690492630005    </span>│\n",
       "│<span style=\"color: #008080; text-decoration-color: #008080\">      Test/Precision       </span>│<span style=\"color: #800080; text-decoration-color: #800080\">    0.9209688901901245     </span>│\n",
       "│<span style=\"color: #008080; text-decoration-color: #008080\">        Test/Recall        </span>│<span style=\"color: #800080; text-decoration-color: #800080\">    0.9179651141166687     </span>│\n",
       "│<span style=\"color: #008080; text-decoration-color: #008080\">    TestEpoch/Accuracy     </span>│<span style=\"color: #800080; text-decoration-color: #800080\">    0.9222968816757202     </span>│\n",
       "│<span style=\"color: #008080; text-decoration-color: #008080\">     TestEpoch/F1Score     </span>│<span style=\"color: #800080; text-decoration-color: #800080\">    0.9226029515266418     </span>│\n",
       "│<span style=\"color: #008080; text-decoration-color: #008080\">    TestEpoch/Precision    </span>│<span style=\"color: #800080; text-decoration-color: #800080\">    0.9250009059906006     </span>│\n",
       "│<span style=\"color: #008080; text-decoration-color: #008080\">     TestEpoch/Recall      </span>│<span style=\"color: #800080; text-decoration-color: #800080\">    0.9222968816757202     </span>│\n",
       "└───────────────────────────┴───────────────────────────┘\n",
       "</pre>\n"
      ],
      "text/plain": [
       "┏━━━━━━━━━━━━━━━━━━━━━━━━━━━┳━━━━━━━━━━━━━━━━━━━━━━━━━━━┓\n",
       "┃\u001b[1m \u001b[0m\u001b[1m  Runningstage.testing   \u001b[0m\u001b[1m \u001b[0m┃\u001b[1m                           \u001b[0m┃\n",
       "┃\u001b[1m \u001b[0m\u001b[1m         metric          \u001b[0m\u001b[1m \u001b[0m┃\u001b[1m \u001b[0m\u001b[1m      DataLoader 0       \u001b[0m\u001b[1m \u001b[0m┃\n",
       "┡━━━━━━━━━━━━━━━━━━━━━━━━━━━╇━━━━━━━━━━━━━━━━━━━━━━━━━━━┩\n",
       "│\u001b[36m \u001b[0m\u001b[36m      Test/Accuracy      \u001b[0m\u001b[36m \u001b[0m│\u001b[35m \u001b[0m\u001b[35m   0.9179651141166687    \u001b[0m\u001b[35m \u001b[0m│\n",
       "│\u001b[36m \u001b[0m\u001b[36m      Test/F1Score       \u001b[0m\u001b[36m \u001b[0m│\u001b[35m \u001b[0m\u001b[35m   0.9118503928184509    \u001b[0m\u001b[35m \u001b[0m│\n",
       "│\u001b[36m \u001b[0m\u001b[36m        Test/Loss        \u001b[0m\u001b[36m \u001b[0m│\u001b[35m \u001b[0m\u001b[35m   0.26891690492630005   \u001b[0m\u001b[35m \u001b[0m│\n",
       "│\u001b[36m \u001b[0m\u001b[36m     Test/Precision      \u001b[0m\u001b[36m \u001b[0m│\u001b[35m \u001b[0m\u001b[35m   0.9209688901901245    \u001b[0m\u001b[35m \u001b[0m│\n",
       "│\u001b[36m \u001b[0m\u001b[36m       Test/Recall       \u001b[0m\u001b[36m \u001b[0m│\u001b[35m \u001b[0m\u001b[35m   0.9179651141166687    \u001b[0m\u001b[35m \u001b[0m│\n",
       "│\u001b[36m \u001b[0m\u001b[36m   TestEpoch/Accuracy    \u001b[0m\u001b[36m \u001b[0m│\u001b[35m \u001b[0m\u001b[35m   0.9222968816757202    \u001b[0m\u001b[35m \u001b[0m│\n",
       "│\u001b[36m \u001b[0m\u001b[36m    TestEpoch/F1Score    \u001b[0m\u001b[36m \u001b[0m│\u001b[35m \u001b[0m\u001b[35m   0.9226029515266418    \u001b[0m\u001b[35m \u001b[0m│\n",
       "│\u001b[36m \u001b[0m\u001b[36m   TestEpoch/Precision   \u001b[0m\u001b[36m \u001b[0m│\u001b[35m \u001b[0m\u001b[35m   0.9250009059906006    \u001b[0m\u001b[35m \u001b[0m│\n",
       "│\u001b[36m \u001b[0m\u001b[36m    TestEpoch/Recall     \u001b[0m\u001b[36m \u001b[0m│\u001b[35m \u001b[0m\u001b[35m   0.9222968816757202    \u001b[0m\u001b[35m \u001b[0m│\n",
       "└───────────────────────────┴───────────────────────────┘\n"
      ]
     },
     "metadata": {},
     "output_type": "display_data"
    },
    {
     "name": "stderr",
     "output_type": "stream",
     "text": [
      "GPU available: True (cuda), used: True\n",
      "TPU available: False, using: 0 TPU cores\n",
      "IPU available: False, using: 0 IPUs\n",
      "HPU available: False, using: 0 HPUs\n",
      "You are using a CUDA device ('NVIDIA GeForce RTX 4070 Ti') that has Tensor Cores. To properly utilize them, you should set `torch.set_float32_matmul_precision('medium' | 'high')` which will trade-off precision for performance. For more details, read https://pytorch.org/docs/stable/generated/torch.set_float32_matmul_precision.html#torch.set_float32_matmul_precision\n",
      "LOCAL_RANK: 0 - CUDA_VISIBLE_DEVICES: [0,1]\n",
      "\n",
      "  | Name          | Type                      | Params | In sizes | Out sizes\n",
      "-----------------------------------------------------------------------------------\n",
      "0 | train_metrics | MetricCollection          | 0      | ?        | ?        \n",
      "1 | val_metrics   | MetricCollection          | 0      | ?        | ?        \n",
      "2 | test_metrics  | MetricCollection          | 0      | ?        | ?        \n",
      "3 | cm            | MulticlassConfusionMatrix | 0      | ?        | ?        \n",
      "4 | criterion     | CrossEntropyLoss          | 0      | ?        | ?        \n",
      "5 | l1            | Linear                    | 200 K  | [1, 784] | [1, 256] \n",
      "6 | l2            | Linear                    | 32.9 K | [1, 256] | [1, 128] \n",
      "7 | l3            | Linear                    | 1.3 K  | [1, 128] | [1, 10]  \n",
      "-----------------------------------------------------------------------------------\n",
      "235 K     Trainable params\n",
      "0         Non-trainable params\n",
      "235 K     Total params\n",
      "0.941     Total estimated model params size (MB)\n"
     ]
    },
    {
     "name": "stdout",
     "output_type": "stream",
     "text": [
      "Epoch end: Validation, epoch number: 4\n",
      "Epoch end: Validation, epoch number: 5\n",
      "Epoch end: Train, epoch number: 3\n",
      "Epoch end: Validation, epoch number: 6\n",
      "Epoch end: Train, epoch number: 4\n",
      "Epoch end: Validation, epoch number: 7\n"
     ]
    },
    {
     "name": "stderr",
     "output_type": "stream",
     "text": [
      "`Trainer.fit` stopped: `max_epochs=3` reached.\n",
      "You are using a CUDA device ('NVIDIA GeForce RTX 4070 Ti') that has Tensor Cores. To properly utilize them, you should set `torch.set_float32_matmul_precision('medium' | 'high')` which will trade-off precision for performance. For more details, read https://pytorch.org/docs/stable/generated/torch.set_float32_matmul_precision.html#torch.set_float32_matmul_precision\n",
      "LOCAL_RANK: 0 - CUDA_VISIBLE_DEVICES: [0,1]\n"
     ]
    },
    {
     "name": "stdout",
     "output_type": "stream",
     "text": [
      "Epoch end: Train, epoch number: 5\n",
      "Performance of Node 5 before aggregation at round 3\n",
      "Epoch end: Test, epoch number: 3\n"
     ]
    },
    {
     "data": {
      "text/html": [
       "<pre style=\"white-space:pre;overflow-x:auto;line-height:normal;font-family:Menlo,'DejaVu Sans Mono',consolas,'Courier New',monospace\">┏━━━━━━━━━━━━━━━━━━━━━━━━━━━┳━━━━━━━━━━━━━━━━━━━━━━━━━━━┓\n",
       "┃<span style=\"font-weight: bold\">   Runningstage.testing    </span>┃<span style=\"font-weight: bold\">                           </span>┃\n",
       "┃<span style=\"font-weight: bold\">          metric           </span>┃<span style=\"font-weight: bold\">       DataLoader 0        </span>┃\n",
       "┡━━━━━━━━━━━━━━━━━━━━━━━━━━━╇━━━━━━━━━━━━━━━━━━━━━━━━━━━┩\n",
       "│<span style=\"color: #008080; text-decoration-color: #008080\">       Test/Accuracy       </span>│<span style=\"color: #800080; text-decoration-color: #800080\">    0.9090837240219116     </span>│\n",
       "│<span style=\"color: #008080; text-decoration-color: #008080\">       Test/F1Score        </span>│<span style=\"color: #800080; text-decoration-color: #800080\">    0.8998384475708008     </span>│\n",
       "│<span style=\"color: #008080; text-decoration-color: #008080\">         Test/Loss         </span>│<span style=\"color: #800080; text-decoration-color: #800080\">    0.3011739253997803     </span>│\n",
       "│<span style=\"color: #008080; text-decoration-color: #008080\">      Test/Precision       </span>│<span style=\"color: #800080; text-decoration-color: #800080\">    0.9107890725135803     </span>│\n",
       "│<span style=\"color: #008080; text-decoration-color: #008080\">        Test/Recall        </span>│<span style=\"color: #800080; text-decoration-color: #800080\">    0.9090837240219116     </span>│\n",
       "│<span style=\"color: #008080; text-decoration-color: #008080\">    TestEpoch/Accuracy     </span>│<span style=\"color: #800080; text-decoration-color: #800080\">     0.909525990486145     </span>│\n",
       "│<span style=\"color: #008080; text-decoration-color: #008080\">     TestEpoch/F1Score     </span>│<span style=\"color: #800080; text-decoration-color: #800080\">     0.909226655960083     </span>│\n",
       "│<span style=\"color: #008080; text-decoration-color: #008080\">    TestEpoch/Precision    </span>│<span style=\"color: #800080; text-decoration-color: #800080\">    0.9130759835243225     </span>│\n",
       "│<span style=\"color: #008080; text-decoration-color: #008080\">     TestEpoch/Recall      </span>│<span style=\"color: #800080; text-decoration-color: #800080\">     0.909525990486145     </span>│\n",
       "└───────────────────────────┴───────────────────────────┘\n",
       "</pre>\n"
      ],
      "text/plain": [
       "┏━━━━━━━━━━━━━━━━━━━━━━━━━━━┳━━━━━━━━━━━━━━━━━━━━━━━━━━━┓\n",
       "┃\u001b[1m \u001b[0m\u001b[1m  Runningstage.testing   \u001b[0m\u001b[1m \u001b[0m┃\u001b[1m                           \u001b[0m┃\n",
       "┃\u001b[1m \u001b[0m\u001b[1m         metric          \u001b[0m\u001b[1m \u001b[0m┃\u001b[1m \u001b[0m\u001b[1m      DataLoader 0       \u001b[0m\u001b[1m \u001b[0m┃\n",
       "┡━━━━━━━━━━━━━━━━━━━━━━━━━━━╇━━━━━━━━━━━━━━━━━━━━━━━━━━━┩\n",
       "│\u001b[36m \u001b[0m\u001b[36m      Test/Accuracy      \u001b[0m\u001b[36m \u001b[0m│\u001b[35m \u001b[0m\u001b[35m   0.9090837240219116    \u001b[0m\u001b[35m \u001b[0m│\n",
       "│\u001b[36m \u001b[0m\u001b[36m      Test/F1Score       \u001b[0m\u001b[36m \u001b[0m│\u001b[35m \u001b[0m\u001b[35m   0.8998384475708008    \u001b[0m\u001b[35m \u001b[0m│\n",
       "│\u001b[36m \u001b[0m\u001b[36m        Test/Loss        \u001b[0m\u001b[36m \u001b[0m│\u001b[35m \u001b[0m\u001b[35m   0.3011739253997803    \u001b[0m\u001b[35m \u001b[0m│\n",
       "│\u001b[36m \u001b[0m\u001b[36m     Test/Precision      \u001b[0m\u001b[36m \u001b[0m│\u001b[35m \u001b[0m\u001b[35m   0.9107890725135803    \u001b[0m\u001b[35m \u001b[0m│\n",
       "│\u001b[36m \u001b[0m\u001b[36m       Test/Recall       \u001b[0m\u001b[36m \u001b[0m│\u001b[35m \u001b[0m\u001b[35m   0.9090837240219116    \u001b[0m\u001b[35m \u001b[0m│\n",
       "│\u001b[36m \u001b[0m\u001b[36m   TestEpoch/Accuracy    \u001b[0m\u001b[36m \u001b[0m│\u001b[35m \u001b[0m\u001b[35m    0.909525990486145    \u001b[0m\u001b[35m \u001b[0m│\n",
       "│\u001b[36m \u001b[0m\u001b[36m    TestEpoch/F1Score    \u001b[0m\u001b[36m \u001b[0m│\u001b[35m \u001b[0m\u001b[35m    0.909226655960083    \u001b[0m\u001b[35m \u001b[0m│\n",
       "│\u001b[36m \u001b[0m\u001b[36m   TestEpoch/Precision   \u001b[0m\u001b[36m \u001b[0m│\u001b[35m \u001b[0m\u001b[35m   0.9130759835243225    \u001b[0m\u001b[35m \u001b[0m│\n",
       "│\u001b[36m \u001b[0m\u001b[36m    TestEpoch/Recall     \u001b[0m\u001b[36m \u001b[0m│\u001b[35m \u001b[0m\u001b[35m    0.909525990486145    \u001b[0m\u001b[35m \u001b[0m│\n",
       "└───────────────────────────┴───────────────────────────┘\n"
      ]
     },
     "metadata": {},
     "output_type": "display_data"
    },
    {
     "name": "stderr",
     "output_type": "stream",
     "text": [
      "GPU available: True (cuda), used: True\n",
      "TPU available: False, using: 0 TPU cores\n",
      "IPU available: False, using: 0 IPUs\n",
      "HPU available: False, using: 0 HPUs\n",
      "You are using a CUDA device ('NVIDIA GeForce RTX 4070 Ti') that has Tensor Cores. To properly utilize them, you should set `torch.set_float32_matmul_precision('medium' | 'high')` which will trade-off precision for performance. For more details, read https://pytorch.org/docs/stable/generated/torch.set_float32_matmul_precision.html#torch.set_float32_matmul_precision\n",
      "LOCAL_RANK: 0 - CUDA_VISIBLE_DEVICES: [0,1]\n",
      "\n",
      "  | Name          | Type                      | Params | In sizes | Out sizes\n",
      "-----------------------------------------------------------------------------------\n",
      "0 | train_metrics | MetricCollection          | 0      | ?        | ?        \n",
      "1 | val_metrics   | MetricCollection          | 0      | ?        | ?        \n",
      "2 | test_metrics  | MetricCollection          | 0      | ?        | ?        \n",
      "3 | cm            | MulticlassConfusionMatrix | 0      | ?        | ?        \n",
      "4 | criterion     | CrossEntropyLoss          | 0      | ?        | ?        \n",
      "5 | l1            | Linear                    | 200 K  | [1, 784] | [1, 256] \n",
      "6 | l2            | Linear                    | 32.9 K | [1, 256] | [1, 128] \n",
      "7 | l3            | Linear                    | 1.3 K  | [1, 128] | [1, 10]  \n",
      "-----------------------------------------------------------------------------------\n",
      "235 K     Trainable params\n",
      "0         Non-trainable params\n",
      "235 K     Total params\n",
      "0.941     Total estimated model params size (MB)\n"
     ]
    },
    {
     "name": "stdout",
     "output_type": "stream",
     "text": [
      "Epoch end: Validation, epoch number: 4\n",
      "Epoch end: Validation, epoch number: 5\n",
      "Epoch end: Train, epoch number: 3\n",
      "Epoch end: Validation, epoch number: 6\n",
      "Epoch end: Train, epoch number: 4\n"
     ]
    },
    {
     "name": "stderr",
     "output_type": "stream",
     "text": [
      "`Trainer.fit` stopped: `max_epochs=3` reached.\n"
     ]
    },
    {
     "name": "stdout",
     "output_type": "stream",
     "text": [
      "Epoch end: Validation, epoch number: 7\n",
      "Epoch end: Train, epoch number: 5\n"
     ]
    },
    {
     "name": "stderr",
     "output_type": "stream",
     "text": [
      "You are using a CUDA device ('NVIDIA GeForce RTX 4070 Ti') that has Tensor Cores. To properly utilize them, you should set `torch.set_float32_matmul_precision('medium' | 'high')` which will trade-off precision for performance. For more details, read https://pytorch.org/docs/stable/generated/torch.set_float32_matmul_precision.html#torch.set_float32_matmul_precision\n",
      "LOCAL_RANK: 0 - CUDA_VISIBLE_DEVICES: [0,1]\n"
     ]
    },
    {
     "name": "stdout",
     "output_type": "stream",
     "text": [
      "Performance of Node 6 before aggregation at round 3\n",
      "Epoch end: Test, epoch number: 3\n"
     ]
    },
    {
     "data": {
      "text/html": [
       "<pre style=\"white-space:pre;overflow-x:auto;line-height:normal;font-family:Menlo,'DejaVu Sans Mono',consolas,'Courier New',monospace\">┏━━━━━━━━━━━━━━━━━━━━━━━━━━━┳━━━━━━━━━━━━━━━━━━━━━━━━━━━┓\n",
       "┃<span style=\"font-weight: bold\">   Runningstage.testing    </span>┃<span style=\"font-weight: bold\">                           </span>┃\n",
       "┃<span style=\"font-weight: bold\">          metric           </span>┃<span style=\"font-weight: bold\">       DataLoader 0        </span>┃\n",
       "┡━━━━━━━━━━━━━━━━━━━━━━━━━━━╇━━━━━━━━━━━━━━━━━━━━━━━━━━━┩\n",
       "│<span style=\"color: #008080; text-decoration-color: #008080\">       Test/Accuracy       </span>│<span style=\"color: #800080; text-decoration-color: #800080\">    0.9136730432510376     </span>│\n",
       "│<span style=\"color: #008080; text-decoration-color: #008080\">       Test/F1Score        </span>│<span style=\"color: #800080; text-decoration-color: #800080\">    0.9065520167350769     </span>│\n",
       "│<span style=\"color: #008080; text-decoration-color: #008080\">         Test/Loss         </span>│<span style=\"color: #800080; text-decoration-color: #800080\">    0.27625778317451477    </span>│\n",
       "│<span style=\"color: #008080; text-decoration-color: #008080\">      Test/Precision       </span>│<span style=\"color: #800080; text-decoration-color: #800080\">    0.9121094346046448     </span>│\n",
       "│<span style=\"color: #008080; text-decoration-color: #008080\">        Test/Recall        </span>│<span style=\"color: #800080; text-decoration-color: #800080\">    0.9136730432510376     </span>│\n",
       "│<span style=\"color: #008080; text-decoration-color: #008080\">    TestEpoch/Accuracy     </span>│<span style=\"color: #800080; text-decoration-color: #800080\">    0.9147244691848755     </span>│\n",
       "│<span style=\"color: #008080; text-decoration-color: #008080\">     TestEpoch/F1Score     </span>│<span style=\"color: #800080; text-decoration-color: #800080\">    0.9138555526733398     </span>│\n",
       "│<span style=\"color: #008080; text-decoration-color: #008080\">    TestEpoch/Precision    </span>│<span style=\"color: #800080; text-decoration-color: #800080\">    0.9152997732162476     </span>│\n",
       "│<span style=\"color: #008080; text-decoration-color: #008080\">     TestEpoch/Recall      </span>│<span style=\"color: #800080; text-decoration-color: #800080\">    0.9147244691848755     </span>│\n",
       "└───────────────────────────┴───────────────────────────┘\n",
       "</pre>\n"
      ],
      "text/plain": [
       "┏━━━━━━━━━━━━━━━━━━━━━━━━━━━┳━━━━━━━━━━━━━━━━━━━━━━━━━━━┓\n",
       "┃\u001b[1m \u001b[0m\u001b[1m  Runningstage.testing   \u001b[0m\u001b[1m \u001b[0m┃\u001b[1m                           \u001b[0m┃\n",
       "┃\u001b[1m \u001b[0m\u001b[1m         metric          \u001b[0m\u001b[1m \u001b[0m┃\u001b[1m \u001b[0m\u001b[1m      DataLoader 0       \u001b[0m\u001b[1m \u001b[0m┃\n",
       "┡━━━━━━━━━━━━━━━━━━━━━━━━━━━╇━━━━━━━━━━━━━━━━━━━━━━━━━━━┩\n",
       "│\u001b[36m \u001b[0m\u001b[36m      Test/Accuracy      \u001b[0m\u001b[36m \u001b[0m│\u001b[35m \u001b[0m\u001b[35m   0.9136730432510376    \u001b[0m\u001b[35m \u001b[0m│\n",
       "│\u001b[36m \u001b[0m\u001b[36m      Test/F1Score       \u001b[0m\u001b[36m \u001b[0m│\u001b[35m \u001b[0m\u001b[35m   0.9065520167350769    \u001b[0m\u001b[35m \u001b[0m│\n",
       "│\u001b[36m \u001b[0m\u001b[36m        Test/Loss        \u001b[0m\u001b[36m \u001b[0m│\u001b[35m \u001b[0m\u001b[35m   0.27625778317451477   \u001b[0m\u001b[35m \u001b[0m│\n",
       "│\u001b[36m \u001b[0m\u001b[36m     Test/Precision      \u001b[0m\u001b[36m \u001b[0m│\u001b[35m \u001b[0m\u001b[35m   0.9121094346046448    \u001b[0m\u001b[35m \u001b[0m│\n",
       "│\u001b[36m \u001b[0m\u001b[36m       Test/Recall       \u001b[0m\u001b[36m \u001b[0m│\u001b[35m \u001b[0m\u001b[35m   0.9136730432510376    \u001b[0m\u001b[35m \u001b[0m│\n",
       "│\u001b[36m \u001b[0m\u001b[36m   TestEpoch/Accuracy    \u001b[0m\u001b[36m \u001b[0m│\u001b[35m \u001b[0m\u001b[35m   0.9147244691848755    \u001b[0m\u001b[35m \u001b[0m│\n",
       "│\u001b[36m \u001b[0m\u001b[36m    TestEpoch/F1Score    \u001b[0m\u001b[36m \u001b[0m│\u001b[35m \u001b[0m\u001b[35m   0.9138555526733398    \u001b[0m\u001b[35m \u001b[0m│\n",
       "│\u001b[36m \u001b[0m\u001b[36m   TestEpoch/Precision   \u001b[0m\u001b[36m \u001b[0m│\u001b[35m \u001b[0m\u001b[35m   0.9152997732162476    \u001b[0m\u001b[35m \u001b[0m│\n",
       "│\u001b[36m \u001b[0m\u001b[36m    TestEpoch/Recall     \u001b[0m\u001b[36m \u001b[0m│\u001b[35m \u001b[0m\u001b[35m   0.9147244691848755    \u001b[0m\u001b[35m \u001b[0m│\n",
       "└───────────────────────────┴───────────────────────────┘\n"
      ]
     },
     "metadata": {},
     "output_type": "display_data"
    },
    {
     "name": "stderr",
     "output_type": "stream",
     "text": [
      "GPU available: True (cuda), used: True\n",
      "TPU available: False, using: 0 TPU cores\n",
      "IPU available: False, using: 0 IPUs\n",
      "HPU available: False, using: 0 HPUs\n",
      "You are using a CUDA device ('NVIDIA GeForce RTX 4070 Ti') that has Tensor Cores. To properly utilize them, you should set `torch.set_float32_matmul_precision('medium' | 'high')` which will trade-off precision for performance. For more details, read https://pytorch.org/docs/stable/generated/torch.set_float32_matmul_precision.html#torch.set_float32_matmul_precision\n",
      "LOCAL_RANK: 0 - CUDA_VISIBLE_DEVICES: [0,1]\n",
      "\n",
      "  | Name          | Type                      | Params | In sizes | Out sizes\n",
      "-----------------------------------------------------------------------------------\n",
      "0 | train_metrics | MetricCollection          | 0      | ?        | ?        \n",
      "1 | val_metrics   | MetricCollection          | 0      | ?        | ?        \n",
      "2 | test_metrics  | MetricCollection          | 0      | ?        | ?        \n",
      "3 | cm            | MulticlassConfusionMatrix | 0      | ?        | ?        \n",
      "4 | criterion     | CrossEntropyLoss          | 0      | ?        | ?        \n",
      "5 | l1            | Linear                    | 200 K  | [1, 784] | [1, 256] \n",
      "6 | l2            | Linear                    | 32.9 K | [1, 256] | [1, 128] \n",
      "7 | l3            | Linear                    | 1.3 K  | [1, 128] | [1, 10]  \n",
      "-----------------------------------------------------------------------------------\n",
      "235 K     Trainable params\n",
      "0         Non-trainable params\n",
      "235 K     Total params\n",
      "0.941     Total estimated model params size (MB)\n"
     ]
    },
    {
     "name": "stdout",
     "output_type": "stream",
     "text": [
      "Epoch end: Validation, epoch number: 4\n",
      "Epoch end: Validation, epoch number: 5\n",
      "Epoch end: Train, epoch number: 3\n",
      "Epoch end: Validation, epoch number: 6\n",
      "Epoch end: Train, epoch number: 4\n"
     ]
    },
    {
     "name": "stderr",
     "output_type": "stream",
     "text": [
      "`Trainer.fit` stopped: `max_epochs=3` reached.\n",
      "You are using a CUDA device ('NVIDIA GeForce RTX 4070 Ti') that has Tensor Cores. To properly utilize them, you should set `torch.set_float32_matmul_precision('medium' | 'high')` which will trade-off precision for performance. For more details, read https://pytorch.org/docs/stable/generated/torch.set_float32_matmul_precision.html#torch.set_float32_matmul_precision\n"
     ]
    },
    {
     "name": "stdout",
     "output_type": "stream",
     "text": [
      "Epoch end: Validation, epoch number: 7\n",
      "Epoch end: Train, epoch number: 5\n",
      "Performance of Node 7 before aggregation at round 3\n"
     ]
    },
    {
     "name": "stderr",
     "output_type": "stream",
     "text": [
      "LOCAL_RANK: 0 - CUDA_VISIBLE_DEVICES: [0,1]\n"
     ]
    },
    {
     "name": "stdout",
     "output_type": "stream",
     "text": [
      "Epoch end: Test, epoch number: 3\n"
     ]
    },
    {
     "data": {
      "text/html": [
       "<pre style=\"white-space:pre;overflow-x:auto;line-height:normal;font-family:Menlo,'DejaVu Sans Mono',consolas,'Courier New',monospace\">┏━━━━━━━━━━━━━━━━━━━━━━━━━━━┳━━━━━━━━━━━━━━━━━━━━━━━━━━━┓\n",
       "┃<span style=\"font-weight: bold\">   Runningstage.testing    </span>┃<span style=\"font-weight: bold\">                           </span>┃\n",
       "┃<span style=\"font-weight: bold\">          metric           </span>┃<span style=\"font-weight: bold\">       DataLoader 0        </span>┃\n",
       "┡━━━━━━━━━━━━━━━━━━━━━━━━━━━╇━━━━━━━━━━━━━━━━━━━━━━━━━━━┩\n",
       "│<span style=\"color: #008080; text-decoration-color: #008080\">       Test/Accuracy       </span>│<span style=\"color: #800080; text-decoration-color: #800080\">    0.9186194539070129     </span>│\n",
       "│<span style=\"color: #008080; text-decoration-color: #008080\">       Test/F1Score        </span>│<span style=\"color: #800080; text-decoration-color: #800080\">     0.913797914981842     </span>│\n",
       "│<span style=\"color: #008080; text-decoration-color: #008080\">         Test/Loss         </span>│<span style=\"color: #800080; text-decoration-color: #800080\">    0.2480342984199524     </span>│\n",
       "│<span style=\"color: #008080; text-decoration-color: #008080\">      Test/Precision       </span>│<span style=\"color: #800080; text-decoration-color: #800080\">    0.9240776896476746     </span>│\n",
       "│<span style=\"color: #008080; text-decoration-color: #008080\">        Test/Recall        </span>│<span style=\"color: #800080; text-decoration-color: #800080\">    0.9186194539070129     </span>│\n",
       "│<span style=\"color: #008080; text-decoration-color: #008080\">    TestEpoch/Accuracy     </span>│<span style=\"color: #800080; text-decoration-color: #800080\">     0.92539381980896      </span>│\n",
       "│<span style=\"color: #008080; text-decoration-color: #008080\">     TestEpoch/F1Score     </span>│<span style=\"color: #800080; text-decoration-color: #800080\">    0.9256458282470703     </span>│\n",
       "│<span style=\"color: #008080; text-decoration-color: #008080\">    TestEpoch/Precision    </span>│<span style=\"color: #800080; text-decoration-color: #800080\">    0.9279634952545166     </span>│\n",
       "│<span style=\"color: #008080; text-decoration-color: #008080\">     TestEpoch/Recall      </span>│<span style=\"color: #800080; text-decoration-color: #800080\">     0.92539381980896      </span>│\n",
       "└───────────────────────────┴───────────────────────────┘\n",
       "</pre>\n"
      ],
      "text/plain": [
       "┏━━━━━━━━━━━━━━━━━━━━━━━━━━━┳━━━━━━━━━━━━━━━━━━━━━━━━━━━┓\n",
       "┃\u001b[1m \u001b[0m\u001b[1m  Runningstage.testing   \u001b[0m\u001b[1m \u001b[0m┃\u001b[1m                           \u001b[0m┃\n",
       "┃\u001b[1m \u001b[0m\u001b[1m         metric          \u001b[0m\u001b[1m \u001b[0m┃\u001b[1m \u001b[0m\u001b[1m      DataLoader 0       \u001b[0m\u001b[1m \u001b[0m┃\n",
       "┡━━━━━━━━━━━━━━━━━━━━━━━━━━━╇━━━━━━━━━━━━━━━━━━━━━━━━━━━┩\n",
       "│\u001b[36m \u001b[0m\u001b[36m      Test/Accuracy      \u001b[0m\u001b[36m \u001b[0m│\u001b[35m \u001b[0m\u001b[35m   0.9186194539070129    \u001b[0m\u001b[35m \u001b[0m│\n",
       "│\u001b[36m \u001b[0m\u001b[36m      Test/F1Score       \u001b[0m\u001b[36m \u001b[0m│\u001b[35m \u001b[0m\u001b[35m    0.913797914981842    \u001b[0m\u001b[35m \u001b[0m│\n",
       "│\u001b[36m \u001b[0m\u001b[36m        Test/Loss        \u001b[0m\u001b[36m \u001b[0m│\u001b[35m \u001b[0m\u001b[35m   0.2480342984199524    \u001b[0m\u001b[35m \u001b[0m│\n",
       "│\u001b[36m \u001b[0m\u001b[36m     Test/Precision      \u001b[0m\u001b[36m \u001b[0m│\u001b[35m \u001b[0m\u001b[35m   0.9240776896476746    \u001b[0m\u001b[35m \u001b[0m│\n",
       "│\u001b[36m \u001b[0m\u001b[36m       Test/Recall       \u001b[0m\u001b[36m \u001b[0m│\u001b[35m \u001b[0m\u001b[35m   0.9186194539070129    \u001b[0m\u001b[35m \u001b[0m│\n",
       "│\u001b[36m \u001b[0m\u001b[36m   TestEpoch/Accuracy    \u001b[0m\u001b[36m \u001b[0m│\u001b[35m \u001b[0m\u001b[35m    0.92539381980896     \u001b[0m\u001b[35m \u001b[0m│\n",
       "│\u001b[36m \u001b[0m\u001b[36m    TestEpoch/F1Score    \u001b[0m\u001b[36m \u001b[0m│\u001b[35m \u001b[0m\u001b[35m   0.9256458282470703    \u001b[0m\u001b[35m \u001b[0m│\n",
       "│\u001b[36m \u001b[0m\u001b[36m   TestEpoch/Precision   \u001b[0m\u001b[36m \u001b[0m│\u001b[35m \u001b[0m\u001b[35m   0.9279634952545166    \u001b[0m\u001b[35m \u001b[0m│\n",
       "│\u001b[36m \u001b[0m\u001b[36m    TestEpoch/Recall     \u001b[0m\u001b[36m \u001b[0m│\u001b[35m \u001b[0m\u001b[35m    0.92539381980896     \u001b[0m\u001b[35m \u001b[0m│\n",
       "└───────────────────────────┴───────────────────────────┘\n"
      ]
     },
     "metadata": {},
     "output_type": "display_data"
    },
    {
     "name": "stderr",
     "output_type": "stream",
     "text": [
      "GPU available: True (cuda), used: True\n",
      "TPU available: False, using: 0 TPU cores\n",
      "IPU available: False, using: 0 IPUs\n",
      "HPU available: False, using: 0 HPUs\n",
      "You are using a CUDA device ('NVIDIA GeForce RTX 4070 Ti') that has Tensor Cores. To properly utilize them, you should set `torch.set_float32_matmul_precision('medium' | 'high')` which will trade-off precision for performance. For more details, read https://pytorch.org/docs/stable/generated/torch.set_float32_matmul_precision.html#torch.set_float32_matmul_precision\n",
      "LOCAL_RANK: 0 - CUDA_VISIBLE_DEVICES: [0,1]\n",
      "\n",
      "  | Name          | Type                      | Params | In sizes | Out sizes\n",
      "-----------------------------------------------------------------------------------\n",
      "0 | train_metrics | MetricCollection          | 0      | ?        | ?        \n",
      "1 | val_metrics   | MetricCollection          | 0      | ?        | ?        \n",
      "2 | test_metrics  | MetricCollection          | 0      | ?        | ?        \n",
      "3 | cm            | MulticlassConfusionMatrix | 0      | ?        | ?        \n",
      "4 | criterion     | CrossEntropyLoss          | 0      | ?        | ?        \n",
      "5 | l1            | Linear                    | 200 K  | [1, 784] | [1, 256] \n",
      "6 | l2            | Linear                    | 32.9 K | [1, 256] | [1, 128] \n",
      "7 | l3            | Linear                    | 1.3 K  | [1, 128] | [1, 10]  \n",
      "-----------------------------------------------------------------------------------\n",
      "235 K     Trainable params\n",
      "0         Non-trainable params\n",
      "235 K     Total params\n",
      "0.941     Total estimated model params size (MB)\n"
     ]
    },
    {
     "name": "stdout",
     "output_type": "stream",
     "text": [
      "Epoch end: Validation, epoch number: 4\n",
      "Epoch end: Validation, epoch number: 5\n",
      "Epoch end: Train, epoch number: 3\n",
      "Epoch end: Validation, epoch number: 6\n",
      "Epoch end: Train, epoch number: 4\n"
     ]
    },
    {
     "name": "stderr",
     "output_type": "stream",
     "text": [
      "`Trainer.fit` stopped: `max_epochs=3` reached.\n",
      "You are using a CUDA device ('NVIDIA GeForce RTX 4070 Ti') that has Tensor Cores. To properly utilize them, you should set `torch.set_float32_matmul_precision('medium' | 'high')` which will trade-off precision for performance. For more details, read https://pytorch.org/docs/stable/generated/torch.set_float32_matmul_precision.html#torch.set_float32_matmul_precision\n"
     ]
    },
    {
     "name": "stdout",
     "output_type": "stream",
     "text": [
      "Epoch end: Validation, epoch number: 7\n",
      "Epoch end: Train, epoch number: 5\n",
      "Performance of Node 8 before aggregation at round 3\n"
     ]
    },
    {
     "name": "stderr",
     "output_type": "stream",
     "text": [
      "LOCAL_RANK: 0 - CUDA_VISIBLE_DEVICES: [0,1]\n"
     ]
    },
    {
     "name": "stdout",
     "output_type": "stream",
     "text": [
      "Epoch end: Test, epoch number: 3\n"
     ]
    },
    {
     "data": {
      "text/html": [
       "<pre style=\"white-space:pre;overflow-x:auto;line-height:normal;font-family:Menlo,'DejaVu Sans Mono',consolas,'Courier New',monospace\">┏━━━━━━━━━━━━━━━━━━━━━━━━━━━┳━━━━━━━━━━━━━━━━━━━━━━━━━━━┓\n",
       "┃<span style=\"font-weight: bold\">   Runningstage.testing    </span>┃<span style=\"font-weight: bold\">                           </span>┃\n",
       "┃<span style=\"font-weight: bold\">          metric           </span>┃<span style=\"font-weight: bold\">       DataLoader 0        </span>┃\n",
       "┡━━━━━━━━━━━━━━━━━━━━━━━━━━━╇━━━━━━━━━━━━━━━━━━━━━━━━━━━┩\n",
       "│<span style=\"color: #008080; text-decoration-color: #008080\">       Test/Accuracy       </span>│<span style=\"color: #800080; text-decoration-color: #800080\">     0.919185221195221     </span>│\n",
       "│<span style=\"color: #008080; text-decoration-color: #008080\">       Test/F1Score        </span>│<span style=\"color: #800080; text-decoration-color: #800080\">    0.9126070141792297     </span>│\n",
       "│<span style=\"color: #008080; text-decoration-color: #008080\">         Test/Loss         </span>│<span style=\"color: #800080; text-decoration-color: #800080\">    0.28837859630584717    </span>│\n",
       "│<span style=\"color: #008080; text-decoration-color: #008080\">      Test/Precision       </span>│<span style=\"color: #800080; text-decoration-color: #800080\">    0.9226093292236328     </span>│\n",
       "│<span style=\"color: #008080; text-decoration-color: #008080\">        Test/Recall        </span>│<span style=\"color: #800080; text-decoration-color: #800080\">     0.919185221195221     </span>│\n",
       "│<span style=\"color: #008080; text-decoration-color: #008080\">    TestEpoch/Accuracy     </span>│<span style=\"color: #800080; text-decoration-color: #800080\">    0.9179435968399048     </span>│\n",
       "│<span style=\"color: #008080; text-decoration-color: #008080\">     TestEpoch/F1Score     </span>│<span style=\"color: #800080; text-decoration-color: #800080\">    0.9177370071411133     </span>│\n",
       "│<span style=\"color: #008080; text-decoration-color: #008080\">    TestEpoch/Precision    </span>│<span style=\"color: #800080; text-decoration-color: #800080\">     0.920836865901947     </span>│\n",
       "│<span style=\"color: #008080; text-decoration-color: #008080\">     TestEpoch/Recall      </span>│<span style=\"color: #800080; text-decoration-color: #800080\">    0.9179435968399048     </span>│\n",
       "└───────────────────────────┴───────────────────────────┘\n",
       "</pre>\n"
      ],
      "text/plain": [
       "┏━━━━━━━━━━━━━━━━━━━━━━━━━━━┳━━━━━━━━━━━━━━━━━━━━━━━━━━━┓\n",
       "┃\u001b[1m \u001b[0m\u001b[1m  Runningstage.testing   \u001b[0m\u001b[1m \u001b[0m┃\u001b[1m                           \u001b[0m┃\n",
       "┃\u001b[1m \u001b[0m\u001b[1m         metric          \u001b[0m\u001b[1m \u001b[0m┃\u001b[1m \u001b[0m\u001b[1m      DataLoader 0       \u001b[0m\u001b[1m \u001b[0m┃\n",
       "┡━━━━━━━━━━━━━━━━━━━━━━━━━━━╇━━━━━━━━━━━━━━━━━━━━━━━━━━━┩\n",
       "│\u001b[36m \u001b[0m\u001b[36m      Test/Accuracy      \u001b[0m\u001b[36m \u001b[0m│\u001b[35m \u001b[0m\u001b[35m    0.919185221195221    \u001b[0m\u001b[35m \u001b[0m│\n",
       "│\u001b[36m \u001b[0m\u001b[36m      Test/F1Score       \u001b[0m\u001b[36m \u001b[0m│\u001b[35m \u001b[0m\u001b[35m   0.9126070141792297    \u001b[0m\u001b[35m \u001b[0m│\n",
       "│\u001b[36m \u001b[0m\u001b[36m        Test/Loss        \u001b[0m\u001b[36m \u001b[0m│\u001b[35m \u001b[0m\u001b[35m   0.28837859630584717   \u001b[0m\u001b[35m \u001b[0m│\n",
       "│\u001b[36m \u001b[0m\u001b[36m     Test/Precision      \u001b[0m\u001b[36m \u001b[0m│\u001b[35m \u001b[0m\u001b[35m   0.9226093292236328    \u001b[0m\u001b[35m \u001b[0m│\n",
       "│\u001b[36m \u001b[0m\u001b[36m       Test/Recall       \u001b[0m\u001b[36m \u001b[0m│\u001b[35m \u001b[0m\u001b[35m    0.919185221195221    \u001b[0m\u001b[35m \u001b[0m│\n",
       "│\u001b[36m \u001b[0m\u001b[36m   TestEpoch/Accuracy    \u001b[0m\u001b[36m \u001b[0m│\u001b[35m \u001b[0m\u001b[35m   0.9179435968399048    \u001b[0m\u001b[35m \u001b[0m│\n",
       "│\u001b[36m \u001b[0m\u001b[36m    TestEpoch/F1Score    \u001b[0m\u001b[36m \u001b[0m│\u001b[35m \u001b[0m\u001b[35m   0.9177370071411133    \u001b[0m\u001b[35m \u001b[0m│\n",
       "│\u001b[36m \u001b[0m\u001b[36m   TestEpoch/Precision   \u001b[0m\u001b[36m \u001b[0m│\u001b[35m \u001b[0m\u001b[35m    0.920836865901947    \u001b[0m\u001b[35m \u001b[0m│\n",
       "│\u001b[36m \u001b[0m\u001b[36m    TestEpoch/Recall     \u001b[0m\u001b[36m \u001b[0m│\u001b[35m \u001b[0m\u001b[35m   0.9179435968399048    \u001b[0m\u001b[35m \u001b[0m│\n",
       "└───────────────────────────┴───────────────────────────┘\n"
      ]
     },
     "metadata": {},
     "output_type": "display_data"
    },
    {
     "name": "stderr",
     "output_type": "stream",
     "text": [
      "GPU available: True (cuda), used: True\n",
      "TPU available: False, using: 0 TPU cores\n",
      "IPU available: False, using: 0 IPUs\n",
      "HPU available: False, using: 0 HPUs\n",
      "You are using a CUDA device ('NVIDIA GeForce RTX 4070 Ti') that has Tensor Cores. To properly utilize them, you should set `torch.set_float32_matmul_precision('medium' | 'high')` which will trade-off precision for performance. For more details, read https://pytorch.org/docs/stable/generated/torch.set_float32_matmul_precision.html#torch.set_float32_matmul_precision\n",
      "LOCAL_RANK: 0 - CUDA_VISIBLE_DEVICES: [0,1]\n",
      "\n",
      "  | Name          | Type                      | Params | In sizes | Out sizes\n",
      "-----------------------------------------------------------------------------------\n",
      "0 | train_metrics | MetricCollection          | 0      | ?        | ?        \n",
      "1 | val_metrics   | MetricCollection          | 0      | ?        | ?        \n",
      "2 | test_metrics  | MetricCollection          | 0      | ?        | ?        \n",
      "3 | cm            | MulticlassConfusionMatrix | 0      | ?        | ?        \n",
      "4 | criterion     | CrossEntropyLoss          | 0      | ?        | ?        \n",
      "5 | l1            | Linear                    | 200 K  | [1, 784] | [1, 256] \n",
      "6 | l2            | Linear                    | 32.9 K | [1, 256] | [1, 128] \n",
      "7 | l3            | Linear                    | 1.3 K  | [1, 128] | [1, 10]  \n",
      "-----------------------------------------------------------------------------------\n",
      "235 K     Trainable params\n",
      "0         Non-trainable params\n",
      "235 K     Total params\n",
      "0.941     Total estimated model params size (MB)\n"
     ]
    },
    {
     "name": "stdout",
     "output_type": "stream",
     "text": [
      "Epoch end: Validation, epoch number: 4\n",
      "Epoch end: Validation, epoch number: 5\n",
      "Epoch end: Train, epoch number: 3\n",
      "Epoch end: Validation, epoch number: 6\n",
      "Epoch end: Train, epoch number: 4\n"
     ]
    },
    {
     "name": "stderr",
     "output_type": "stream",
     "text": [
      "`Trainer.fit` stopped: `max_epochs=3` reached.\n",
      "You are using a CUDA device ('NVIDIA GeForce RTX 4070 Ti') that has Tensor Cores. To properly utilize them, you should set `torch.set_float32_matmul_precision('medium' | 'high')` which will trade-off precision for performance. For more details, read https://pytorch.org/docs/stable/generated/torch.set_float32_matmul_precision.html#torch.set_float32_matmul_precision\n"
     ]
    },
    {
     "name": "stdout",
     "output_type": "stream",
     "text": [
      "Epoch end: Validation, epoch number: 7\n",
      "Epoch end: Train, epoch number: 5\n",
      "Performance of Node 9 before aggregation at round 3\n"
     ]
    },
    {
     "name": "stderr",
     "output_type": "stream",
     "text": [
      "LOCAL_RANK: 0 - CUDA_VISIBLE_DEVICES: [0,1]\n"
     ]
    },
    {
     "name": "stdout",
     "output_type": "stream",
     "text": [
      "Epoch end: Test, epoch number: 3\n"
     ]
    },
    {
     "data": {
      "text/html": [
       "<pre style=\"white-space:pre;overflow-x:auto;line-height:normal;font-family:Menlo,'DejaVu Sans Mono',consolas,'Courier New',monospace\">┏━━━━━━━━━━━━━━━━━━━━━━━━━━━┳━━━━━━━━━━━━━━━━━━━━━━━━━━━┓\n",
       "┃<span style=\"font-weight: bold\">   Runningstage.testing    </span>┃<span style=\"font-weight: bold\">                           </span>┃\n",
       "┃<span style=\"font-weight: bold\">          metric           </span>┃<span style=\"font-weight: bold\">       DataLoader 0        </span>┃\n",
       "┡━━━━━━━━━━━━━━━━━━━━━━━━━━━╇━━━━━━━━━━━━━━━━━━━━━━━━━━━┩\n",
       "│<span style=\"color: #008080; text-decoration-color: #008080\">       Test/Accuracy       </span>│<span style=\"color: #800080; text-decoration-color: #800080\">    0.9115314483642578     </span>│\n",
       "│<span style=\"color: #008080; text-decoration-color: #008080\">       Test/F1Score        </span>│<span style=\"color: #800080; text-decoration-color: #800080\">    0.9017495512962341     </span>│\n",
       "│<span style=\"color: #008080; text-decoration-color: #008080\">         Test/Loss         </span>│<span style=\"color: #800080; text-decoration-color: #800080\">    0.3046291172504425     </span>│\n",
       "│<span style=\"color: #008080; text-decoration-color: #008080\">      Test/Precision       </span>│<span style=\"color: #800080; text-decoration-color: #800080\">    0.9152059555053711     </span>│\n",
       "│<span style=\"color: #008080; text-decoration-color: #008080\">        Test/Recall        </span>│<span style=\"color: #800080; text-decoration-color: #800080\">    0.9115314483642578     </span>│\n",
       "│<span style=\"color: #008080; text-decoration-color: #008080\">    TestEpoch/Accuracy     </span>│<span style=\"color: #800080; text-decoration-color: #800080\">    0.9057511687278748     </span>│\n",
       "│<span style=\"color: #008080; text-decoration-color: #008080\">     TestEpoch/F1Score     </span>│<span style=\"color: #800080; text-decoration-color: #800080\">    0.9050524234771729     </span>│\n",
       "│<span style=\"color: #008080; text-decoration-color: #008080\">    TestEpoch/Precision    </span>│<span style=\"color: #800080; text-decoration-color: #800080\">    0.9135031700134277     </span>│\n",
       "│<span style=\"color: #008080; text-decoration-color: #008080\">     TestEpoch/Recall      </span>│<span style=\"color: #800080; text-decoration-color: #800080\">    0.9057511687278748     </span>│\n",
       "└───────────────────────────┴───────────────────────────┘\n",
       "</pre>\n"
      ],
      "text/plain": [
       "┏━━━━━━━━━━━━━━━━━━━━━━━━━━━┳━━━━━━━━━━━━━━━━━━━━━━━━━━━┓\n",
       "┃\u001b[1m \u001b[0m\u001b[1m  Runningstage.testing   \u001b[0m\u001b[1m \u001b[0m┃\u001b[1m                           \u001b[0m┃\n",
       "┃\u001b[1m \u001b[0m\u001b[1m         metric          \u001b[0m\u001b[1m \u001b[0m┃\u001b[1m \u001b[0m\u001b[1m      DataLoader 0       \u001b[0m\u001b[1m \u001b[0m┃\n",
       "┡━━━━━━━━━━━━━━━━━━━━━━━━━━━╇━━━━━━━━━━━━━━━━━━━━━━━━━━━┩\n",
       "│\u001b[36m \u001b[0m\u001b[36m      Test/Accuracy      \u001b[0m\u001b[36m \u001b[0m│\u001b[35m \u001b[0m\u001b[35m   0.9115314483642578    \u001b[0m\u001b[35m \u001b[0m│\n",
       "│\u001b[36m \u001b[0m\u001b[36m      Test/F1Score       \u001b[0m\u001b[36m \u001b[0m│\u001b[35m \u001b[0m\u001b[35m   0.9017495512962341    \u001b[0m\u001b[35m \u001b[0m│\n",
       "│\u001b[36m \u001b[0m\u001b[36m        Test/Loss        \u001b[0m\u001b[36m \u001b[0m│\u001b[35m \u001b[0m\u001b[35m   0.3046291172504425    \u001b[0m\u001b[35m \u001b[0m│\n",
       "│\u001b[36m \u001b[0m\u001b[36m     Test/Precision      \u001b[0m\u001b[36m \u001b[0m│\u001b[35m \u001b[0m\u001b[35m   0.9152059555053711    \u001b[0m\u001b[35m \u001b[0m│\n",
       "│\u001b[36m \u001b[0m\u001b[36m       Test/Recall       \u001b[0m\u001b[36m \u001b[0m│\u001b[35m \u001b[0m\u001b[35m   0.9115314483642578    \u001b[0m\u001b[35m \u001b[0m│\n",
       "│\u001b[36m \u001b[0m\u001b[36m   TestEpoch/Accuracy    \u001b[0m\u001b[36m \u001b[0m│\u001b[35m \u001b[0m\u001b[35m   0.9057511687278748    \u001b[0m\u001b[35m \u001b[0m│\n",
       "│\u001b[36m \u001b[0m\u001b[36m    TestEpoch/F1Score    \u001b[0m\u001b[36m \u001b[0m│\u001b[35m \u001b[0m\u001b[35m   0.9050524234771729    \u001b[0m\u001b[35m \u001b[0m│\n",
       "│\u001b[36m \u001b[0m\u001b[36m   TestEpoch/Precision   \u001b[0m\u001b[36m \u001b[0m│\u001b[35m \u001b[0m\u001b[35m   0.9135031700134277    \u001b[0m\u001b[35m \u001b[0m│\n",
       "│\u001b[36m \u001b[0m\u001b[36m    TestEpoch/Recall     \u001b[0m\u001b[36m \u001b[0m│\u001b[35m \u001b[0m\u001b[35m   0.9057511687278748    \u001b[0m\u001b[35m \u001b[0m│\n",
       "└───────────────────────────┴───────────────────────────┘\n"
      ]
     },
     "metadata": {},
     "output_type": "display_data"
    },
    {
     "name": "stderr",
     "output_type": "stream",
     "text": [
      "GPU available: True (cuda), used: True\n",
      "TPU available: False, using: 0 TPU cores\n",
      "IPU available: False, using: 0 IPUs\n",
      "HPU available: False, using: 0 HPUs\n",
      "You are using a CUDA device ('NVIDIA GeForce RTX 4070 Ti') that has Tensor Cores. To properly utilize them, you should set `torch.set_float32_matmul_precision('medium' | 'high')` which will trade-off precision for performance. For more details, read https://pytorch.org/docs/stable/generated/torch.set_float32_matmul_precision.html#torch.set_float32_matmul_precision\n",
      "LOCAL_RANK: 0 - CUDA_VISIBLE_DEVICES: [0,1]\n"
     ]
    },
    {
     "name": "stdout",
     "output_type": "stream",
     "text": [
      "Node 0 aggregate model with [1, 9]\n",
      "Performance of Node 0 after aggregation at round 3\n"
     ]
    },
    {
     "data": {
      "application/vnd.jupyter.widget-view+json": {
       "model_id": "dea5aa92195049888afa4200bffa79e4",
       "version_major": 2,
       "version_minor": 0
      },
      "text/plain": [
       "Testing: 0it [00:00, ?it/s]"
      ]
     },
     "metadata": {},
     "output_type": "display_data"
    },
    {
     "name": "stdout",
     "output_type": "stream",
     "text": [
      "Epoch end: Test, epoch number: 4\n"
     ]
    },
    {
     "data": {
      "text/html": [
       "<pre style=\"white-space:pre;overflow-x:auto;line-height:normal;font-family:Menlo,'DejaVu Sans Mono',consolas,'Courier New',monospace\">┏━━━━━━━━━━━━━━━━━━━━━━━━━━━┳━━━━━━━━━━━━━━━━━━━━━━━━━━━┓\n",
       "┃<span style=\"font-weight: bold\">   Runningstage.testing    </span>┃<span style=\"font-weight: bold\">                           </span>┃\n",
       "┃<span style=\"font-weight: bold\">          metric           </span>┃<span style=\"font-weight: bold\">       DataLoader 0        </span>┃\n",
       "┡━━━━━━━━━━━━━━━━━━━━━━━━━━━╇━━━━━━━━━━━━━━━━━━━━━━━━━━━┩\n",
       "│<span style=\"color: #008080; text-decoration-color: #008080\">       Test/Accuracy       </span>│<span style=\"color: #800080; text-decoration-color: #800080\">    0.9026166200637817     </span>│\n",
       "│<span style=\"color: #008080; text-decoration-color: #008080\">       Test/F1Score        </span>│<span style=\"color: #800080; text-decoration-color: #800080\">    0.8965973258018494     </span>│\n",
       "│<span style=\"color: #008080; text-decoration-color: #008080\">         Test/Loss         </span>│<span style=\"color: #800080; text-decoration-color: #800080\">    0.31178101897239685    </span>│\n",
       "│<span style=\"color: #008080; text-decoration-color: #008080\">      Test/Precision       </span>│<span style=\"color: #800080; text-decoration-color: #800080\">    0.9081971049308777     </span>│\n",
       "│<span style=\"color: #008080; text-decoration-color: #008080\">        Test/Recall        </span>│<span style=\"color: #800080; text-decoration-color: #800080\">    0.9026166200637817     </span>│\n",
       "│<span style=\"color: #008080; text-decoration-color: #008080\">    TestEpoch/Accuracy     </span>│<span style=\"color: #800080; text-decoration-color: #800080\">    0.9070925116539001     </span>│\n",
       "│<span style=\"color: #008080; text-decoration-color: #008080\">     TestEpoch/F1Score     </span>│<span style=\"color: #800080; text-decoration-color: #800080\">    0.9074134826660156     </span>│\n",
       "│<span style=\"color: #008080; text-decoration-color: #008080\">    TestEpoch/Precision    </span>│<span style=\"color: #800080; text-decoration-color: #800080\">     0.910345196723938     </span>│\n",
       "│<span style=\"color: #008080; text-decoration-color: #008080\">     TestEpoch/Recall      </span>│<span style=\"color: #800080; text-decoration-color: #800080\">    0.9070925116539001     </span>│\n",
       "└───────────────────────────┴───────────────────────────┘\n",
       "</pre>\n"
      ],
      "text/plain": [
       "┏━━━━━━━━━━━━━━━━━━━━━━━━━━━┳━━━━━━━━━━━━━━━━━━━━━━━━━━━┓\n",
       "┃\u001b[1m \u001b[0m\u001b[1m  Runningstage.testing   \u001b[0m\u001b[1m \u001b[0m┃\u001b[1m                           \u001b[0m┃\n",
       "┃\u001b[1m \u001b[0m\u001b[1m         metric          \u001b[0m\u001b[1m \u001b[0m┃\u001b[1m \u001b[0m\u001b[1m      DataLoader 0       \u001b[0m\u001b[1m \u001b[0m┃\n",
       "┡━━━━━━━━━━━━━━━━━━━━━━━━━━━╇━━━━━━━━━━━━━━━━━━━━━━━━━━━┩\n",
       "│\u001b[36m \u001b[0m\u001b[36m      Test/Accuracy      \u001b[0m\u001b[36m \u001b[0m│\u001b[35m \u001b[0m\u001b[35m   0.9026166200637817    \u001b[0m\u001b[35m \u001b[0m│\n",
       "│\u001b[36m \u001b[0m\u001b[36m      Test/F1Score       \u001b[0m\u001b[36m \u001b[0m│\u001b[35m \u001b[0m\u001b[35m   0.8965973258018494    \u001b[0m\u001b[35m \u001b[0m│\n",
       "│\u001b[36m \u001b[0m\u001b[36m        Test/Loss        \u001b[0m\u001b[36m \u001b[0m│\u001b[35m \u001b[0m\u001b[35m   0.31178101897239685   \u001b[0m\u001b[35m \u001b[0m│\n",
       "│\u001b[36m \u001b[0m\u001b[36m     Test/Precision      \u001b[0m\u001b[36m \u001b[0m│\u001b[35m \u001b[0m\u001b[35m   0.9081971049308777    \u001b[0m\u001b[35m \u001b[0m│\n",
       "│\u001b[36m \u001b[0m\u001b[36m       Test/Recall       \u001b[0m\u001b[36m \u001b[0m│\u001b[35m \u001b[0m\u001b[35m   0.9026166200637817    \u001b[0m\u001b[35m \u001b[0m│\n",
       "│\u001b[36m \u001b[0m\u001b[36m   TestEpoch/Accuracy    \u001b[0m\u001b[36m \u001b[0m│\u001b[35m \u001b[0m\u001b[35m   0.9070925116539001    \u001b[0m\u001b[35m \u001b[0m│\n",
       "│\u001b[36m \u001b[0m\u001b[36m    TestEpoch/F1Score    \u001b[0m\u001b[36m \u001b[0m│\u001b[35m \u001b[0m\u001b[35m   0.9074134826660156    \u001b[0m\u001b[35m \u001b[0m│\n",
       "│\u001b[36m \u001b[0m\u001b[36m   TestEpoch/Precision   \u001b[0m\u001b[36m \u001b[0m│\u001b[35m \u001b[0m\u001b[35m    0.910345196723938    \u001b[0m\u001b[35m \u001b[0m│\n",
       "│\u001b[36m \u001b[0m\u001b[36m    TestEpoch/Recall     \u001b[0m\u001b[36m \u001b[0m│\u001b[35m \u001b[0m\u001b[35m   0.9070925116539001    \u001b[0m\u001b[35m \u001b[0m│\n",
       "└───────────────────────────┴───────────────────────────┘\n"
      ]
     },
     "metadata": {},
     "output_type": "display_data"
    },
    {
     "name": "stderr",
     "output_type": "stream",
     "text": [
      "GPU available: True (cuda), used: True\n",
      "TPU available: False, using: 0 TPU cores\n",
      "IPU available: False, using: 0 IPUs\n",
      "HPU available: False, using: 0 HPUs\n",
      "You are using a CUDA device ('NVIDIA GeForce RTX 4070 Ti') that has Tensor Cores. To properly utilize them, you should set `torch.set_float32_matmul_precision('medium' | 'high')` which will trade-off precision for performance. For more details, read https://pytorch.org/docs/stable/generated/torch.set_float32_matmul_precision.html#torch.set_float32_matmul_precision\n",
      "LOCAL_RANK: 0 - CUDA_VISIBLE_DEVICES: [0,1]\n"
     ]
    },
    {
     "name": "stdout",
     "output_type": "stream",
     "text": [
      "Node 1 aggregate model with [0, 2]\n",
      "Performance of Node 1 after aggregation at round 3\n"
     ]
    },
    {
     "data": {
      "application/vnd.jupyter.widget-view+json": {
       "model_id": "f2105ddaa2fa4807a63e97c66cb482fb",
       "version_major": 2,
       "version_minor": 0
      },
      "text/plain": [
       "Testing: 0it [00:00, ?it/s]"
      ]
     },
     "metadata": {},
     "output_type": "display_data"
    },
    {
     "name": "stdout",
     "output_type": "stream",
     "text": [
      "Epoch end: Test, epoch number: 4\n"
     ]
    },
    {
     "data": {
      "text/html": [
       "<pre style=\"white-space:pre;overflow-x:auto;line-height:normal;font-family:Menlo,'DejaVu Sans Mono',consolas,'Courier New',monospace\">┏━━━━━━━━━━━━━━━━━━━━━━━━━━━┳━━━━━━━━━━━━━━━━━━━━━━━━━━━┓\n",
       "┃<span style=\"font-weight: bold\">   Runningstage.testing    </span>┃<span style=\"font-weight: bold\">                           </span>┃\n",
       "┃<span style=\"font-weight: bold\">          metric           </span>┃<span style=\"font-weight: bold\">       DataLoader 0        </span>┃\n",
       "┡━━━━━━━━━━━━━━━━━━━━━━━━━━━╇━━━━━━━━━━━━━━━━━━━━━━━━━━━┩\n",
       "│<span style=\"color: #008080; text-decoration-color: #008080\">       Test/Accuracy       </span>│<span style=\"color: #800080; text-decoration-color: #800080\">    0.9295429587364197     </span>│\n",
       "│<span style=\"color: #008080; text-decoration-color: #008080\">       Test/F1Score        </span>│<span style=\"color: #800080; text-decoration-color: #800080\">    0.9233261942863464     </span>│\n",
       "│<span style=\"color: #008080; text-decoration-color: #008080\">         Test/Loss         </span>│<span style=\"color: #800080; text-decoration-color: #800080\">    0.2737158536911011     </span>│\n",
       "│<span style=\"color: #008080; text-decoration-color: #008080\">      Test/Precision       </span>│<span style=\"color: #800080; text-decoration-color: #800080\">    0.9316930770874023     </span>│\n",
       "│<span style=\"color: #008080; text-decoration-color: #008080\">        Test/Recall        </span>│<span style=\"color: #800080; text-decoration-color: #800080\">    0.9295429587364197     </span>│\n",
       "│<span style=\"color: #008080; text-decoration-color: #008080\">    TestEpoch/Accuracy     </span>│<span style=\"color: #800080; text-decoration-color: #800080\">    0.9318220019340515     </span>│\n",
       "│<span style=\"color: #008080; text-decoration-color: #008080\">     TestEpoch/F1Score     </span>│<span style=\"color: #800080; text-decoration-color: #800080\">    0.9317171573638916     </span>│\n",
       "│<span style=\"color: #008080; text-decoration-color: #008080\">    TestEpoch/Precision    </span>│<span style=\"color: #800080; text-decoration-color: #800080\">    0.9327298402786255     </span>│\n",
       "│<span style=\"color: #008080; text-decoration-color: #008080\">     TestEpoch/Recall      </span>│<span style=\"color: #800080; text-decoration-color: #800080\">    0.9318220019340515     </span>│\n",
       "└───────────────────────────┴───────────────────────────┘\n",
       "</pre>\n"
      ],
      "text/plain": [
       "┏━━━━━━━━━━━━━━━━━━━━━━━━━━━┳━━━━━━━━━━━━━━━━━━━━━━━━━━━┓\n",
       "┃\u001b[1m \u001b[0m\u001b[1m  Runningstage.testing   \u001b[0m\u001b[1m \u001b[0m┃\u001b[1m                           \u001b[0m┃\n",
       "┃\u001b[1m \u001b[0m\u001b[1m         metric          \u001b[0m\u001b[1m \u001b[0m┃\u001b[1m \u001b[0m\u001b[1m      DataLoader 0       \u001b[0m\u001b[1m \u001b[0m┃\n",
       "┡━━━━━━━━━━━━━━━━━━━━━━━━━━━╇━━━━━━━━━━━━━━━━━━━━━━━━━━━┩\n",
       "│\u001b[36m \u001b[0m\u001b[36m      Test/Accuracy      \u001b[0m\u001b[36m \u001b[0m│\u001b[35m \u001b[0m\u001b[35m   0.9295429587364197    \u001b[0m\u001b[35m \u001b[0m│\n",
       "│\u001b[36m \u001b[0m\u001b[36m      Test/F1Score       \u001b[0m\u001b[36m \u001b[0m│\u001b[35m \u001b[0m\u001b[35m   0.9233261942863464    \u001b[0m\u001b[35m \u001b[0m│\n",
       "│\u001b[36m \u001b[0m\u001b[36m        Test/Loss        \u001b[0m\u001b[36m \u001b[0m│\u001b[35m \u001b[0m\u001b[35m   0.2737158536911011    \u001b[0m\u001b[35m \u001b[0m│\n",
       "│\u001b[36m \u001b[0m\u001b[36m     Test/Precision      \u001b[0m\u001b[36m \u001b[0m│\u001b[35m \u001b[0m\u001b[35m   0.9316930770874023    \u001b[0m\u001b[35m \u001b[0m│\n",
       "│\u001b[36m \u001b[0m\u001b[36m       Test/Recall       \u001b[0m\u001b[36m \u001b[0m│\u001b[35m \u001b[0m\u001b[35m   0.9295429587364197    \u001b[0m\u001b[35m \u001b[0m│\n",
       "│\u001b[36m \u001b[0m\u001b[36m   TestEpoch/Accuracy    \u001b[0m\u001b[36m \u001b[0m│\u001b[35m \u001b[0m\u001b[35m   0.9318220019340515    \u001b[0m\u001b[35m \u001b[0m│\n",
       "│\u001b[36m \u001b[0m\u001b[36m    TestEpoch/F1Score    \u001b[0m\u001b[36m \u001b[0m│\u001b[35m \u001b[0m\u001b[35m   0.9317171573638916    \u001b[0m\u001b[35m \u001b[0m│\n",
       "│\u001b[36m \u001b[0m\u001b[36m   TestEpoch/Precision   \u001b[0m\u001b[36m \u001b[0m│\u001b[35m \u001b[0m\u001b[35m   0.9327298402786255    \u001b[0m\u001b[35m \u001b[0m│\n",
       "│\u001b[36m \u001b[0m\u001b[36m    TestEpoch/Recall     \u001b[0m\u001b[36m \u001b[0m│\u001b[35m \u001b[0m\u001b[35m   0.9318220019340515    \u001b[0m\u001b[35m \u001b[0m│\n",
       "└───────────────────────────┴───────────────────────────┘\n"
      ]
     },
     "metadata": {},
     "output_type": "display_data"
    },
    {
     "name": "stderr",
     "output_type": "stream",
     "text": [
      "GPU available: True (cuda), used: True\n",
      "TPU available: False, using: 0 TPU cores\n",
      "IPU available: False, using: 0 IPUs\n",
      "HPU available: False, using: 0 HPUs\n",
      "You are using a CUDA device ('NVIDIA GeForce RTX 4070 Ti') that has Tensor Cores. To properly utilize them, you should set `torch.set_float32_matmul_precision('medium' | 'high')` which will trade-off precision for performance. For more details, read https://pytorch.org/docs/stable/generated/torch.set_float32_matmul_precision.html#torch.set_float32_matmul_precision\n",
      "LOCAL_RANK: 0 - CUDA_VISIBLE_DEVICES: [0,1]\n"
     ]
    },
    {
     "name": "stdout",
     "output_type": "stream",
     "text": [
      "Node 2 aggregate model with [1, 3]\n",
      "Performance of Node 2 after aggregation at round 3\n"
     ]
    },
    {
     "data": {
      "application/vnd.jupyter.widget-view+json": {
       "model_id": "216733c5f65b4e8aabf4b650ccc3f543",
       "version_major": 2,
       "version_minor": 0
      },
      "text/plain": [
       "Testing: 0it [00:00, ?it/s]"
      ]
     },
     "metadata": {},
     "output_type": "display_data"
    },
    {
     "name": "stdout",
     "output_type": "stream",
     "text": [
      "Epoch end: Test, epoch number: 4\n"
     ]
    },
    {
     "data": {
      "text/html": [
       "<pre style=\"white-space:pre;overflow-x:auto;line-height:normal;font-family:Menlo,'DejaVu Sans Mono',consolas,'Courier New',monospace\">┏━━━━━━━━━━━━━━━━━━━━━━━━━━━┳━━━━━━━━━━━━━━━━━━━━━━━━━━━┓\n",
       "┃<span style=\"font-weight: bold\">   Runningstage.testing    </span>┃<span style=\"font-weight: bold\">                           </span>┃\n",
       "┃<span style=\"font-weight: bold\">          metric           </span>┃<span style=\"font-weight: bold\">       DataLoader 0        </span>┃\n",
       "┡━━━━━━━━━━━━━━━━━━━━━━━━━━━╇━━━━━━━━━━━━━━━━━━━━━━━━━━━┩\n",
       "│<span style=\"color: #008080; text-decoration-color: #008080\">       Test/Accuracy       </span>│<span style=\"color: #800080; text-decoration-color: #800080\">     0.948891818523407     </span>│\n",
       "│<span style=\"color: #008080; text-decoration-color: #008080\">       Test/F1Score        </span>│<span style=\"color: #800080; text-decoration-color: #800080\">    0.9438631534576416     </span>│\n",
       "│<span style=\"color: #008080; text-decoration-color: #008080\">         Test/Loss         </span>│<span style=\"color: #800080; text-decoration-color: #800080\">    0.23545211553573608    </span>│\n",
       "│<span style=\"color: #008080; text-decoration-color: #008080\">      Test/Precision       </span>│<span style=\"color: #800080; text-decoration-color: #800080\">    0.9482101798057556     </span>│\n",
       "│<span style=\"color: #008080; text-decoration-color: #008080\">        Test/Recall        </span>│<span style=\"color: #800080; text-decoration-color: #800080\">     0.948891818523407     </span>│\n",
       "│<span style=\"color: #008080; text-decoration-color: #008080\">    TestEpoch/Accuracy     </span>│<span style=\"color: #800080; text-decoration-color: #800080\">    0.9466513395309448     </span>│\n",
       "│<span style=\"color: #008080; text-decoration-color: #008080\">     TestEpoch/F1Score     </span>│<span style=\"color: #800080; text-decoration-color: #800080\">    0.9459475874900818     </span>│\n",
       "│<span style=\"color: #008080; text-decoration-color: #008080\">    TestEpoch/Precision    </span>│<span style=\"color: #800080; text-decoration-color: #800080\">    0.9467586874961853     </span>│\n",
       "│<span style=\"color: #008080; text-decoration-color: #008080\">     TestEpoch/Recall      </span>│<span style=\"color: #800080; text-decoration-color: #800080\">    0.9466513395309448     </span>│\n",
       "└───────────────────────────┴───────────────────────────┘\n",
       "</pre>\n"
      ],
      "text/plain": [
       "┏━━━━━━━━━━━━━━━━━━━━━━━━━━━┳━━━━━━━━━━━━━━━━━━━━━━━━━━━┓\n",
       "┃\u001b[1m \u001b[0m\u001b[1m  Runningstage.testing   \u001b[0m\u001b[1m \u001b[0m┃\u001b[1m                           \u001b[0m┃\n",
       "┃\u001b[1m \u001b[0m\u001b[1m         metric          \u001b[0m\u001b[1m \u001b[0m┃\u001b[1m \u001b[0m\u001b[1m      DataLoader 0       \u001b[0m\u001b[1m \u001b[0m┃\n",
       "┡━━━━━━━━━━━━━━━━━━━━━━━━━━━╇━━━━━━━━━━━━━━━━━━━━━━━━━━━┩\n",
       "│\u001b[36m \u001b[0m\u001b[36m      Test/Accuracy      \u001b[0m\u001b[36m \u001b[0m│\u001b[35m \u001b[0m\u001b[35m    0.948891818523407    \u001b[0m\u001b[35m \u001b[0m│\n",
       "│\u001b[36m \u001b[0m\u001b[36m      Test/F1Score       \u001b[0m\u001b[36m \u001b[0m│\u001b[35m \u001b[0m\u001b[35m   0.9438631534576416    \u001b[0m\u001b[35m \u001b[0m│\n",
       "│\u001b[36m \u001b[0m\u001b[36m        Test/Loss        \u001b[0m\u001b[36m \u001b[0m│\u001b[35m \u001b[0m\u001b[35m   0.23545211553573608   \u001b[0m\u001b[35m \u001b[0m│\n",
       "│\u001b[36m \u001b[0m\u001b[36m     Test/Precision      \u001b[0m\u001b[36m \u001b[0m│\u001b[35m \u001b[0m\u001b[35m   0.9482101798057556    \u001b[0m\u001b[35m \u001b[0m│\n",
       "│\u001b[36m \u001b[0m\u001b[36m       Test/Recall       \u001b[0m\u001b[36m \u001b[0m│\u001b[35m \u001b[0m\u001b[35m    0.948891818523407    \u001b[0m\u001b[35m \u001b[0m│\n",
       "│\u001b[36m \u001b[0m\u001b[36m   TestEpoch/Accuracy    \u001b[0m\u001b[36m \u001b[0m│\u001b[35m \u001b[0m\u001b[35m   0.9466513395309448    \u001b[0m\u001b[35m \u001b[0m│\n",
       "│\u001b[36m \u001b[0m\u001b[36m    TestEpoch/F1Score    \u001b[0m\u001b[36m \u001b[0m│\u001b[35m \u001b[0m\u001b[35m   0.9459475874900818    \u001b[0m\u001b[35m \u001b[0m│\n",
       "│\u001b[36m \u001b[0m\u001b[36m   TestEpoch/Precision   \u001b[0m\u001b[36m \u001b[0m│\u001b[35m \u001b[0m\u001b[35m   0.9467586874961853    \u001b[0m\u001b[35m \u001b[0m│\n",
       "│\u001b[36m \u001b[0m\u001b[36m    TestEpoch/Recall     \u001b[0m\u001b[36m \u001b[0m│\u001b[35m \u001b[0m\u001b[35m   0.9466513395309448    \u001b[0m\u001b[35m \u001b[0m│\n",
       "└───────────────────────────┴───────────────────────────┘\n"
      ]
     },
     "metadata": {},
     "output_type": "display_data"
    },
    {
     "name": "stderr",
     "output_type": "stream",
     "text": [
      "GPU available: True (cuda), used: True\n",
      "TPU available: False, using: 0 TPU cores\n",
      "IPU available: False, using: 0 IPUs\n",
      "HPU available: False, using: 0 HPUs\n",
      "You are using a CUDA device ('NVIDIA GeForce RTX 4070 Ti') that has Tensor Cores. To properly utilize them, you should set `torch.set_float32_matmul_precision('medium' | 'high')` which will trade-off precision for performance. For more details, read https://pytorch.org/docs/stable/generated/torch.set_float32_matmul_precision.html#torch.set_float32_matmul_precision\n",
      "LOCAL_RANK: 0 - CUDA_VISIBLE_DEVICES: [0,1]\n"
     ]
    },
    {
     "name": "stdout",
     "output_type": "stream",
     "text": [
      "Node 3 aggregate model with [2, 4]\n",
      "Performance of Node 3 after aggregation at round 3\n"
     ]
    },
    {
     "data": {
      "application/vnd.jupyter.widget-view+json": {
       "model_id": "6c95a277ce0940ba85a06879556bc2a5",
       "version_major": 2,
       "version_minor": 0
      },
      "text/plain": [
       "Testing: 0it [00:00, ?it/s]"
      ]
     },
     "metadata": {},
     "output_type": "display_data"
    },
    {
     "name": "stdout",
     "output_type": "stream",
     "text": [
      "Epoch end: Test, epoch number: 4\n"
     ]
    },
    {
     "data": {
      "text/html": [
       "<pre style=\"white-space:pre;overflow-x:auto;line-height:normal;font-family:Menlo,'DejaVu Sans Mono',consolas,'Courier New',monospace\">┏━━━━━━━━━━━━━━━━━━━━━━━━━━━┳━━━━━━━━━━━━━━━━━━━━━━━━━━━┓\n",
       "┃<span style=\"font-weight: bold\">   Runningstage.testing    </span>┃<span style=\"font-weight: bold\">                           </span>┃\n",
       "┃<span style=\"font-weight: bold\">          metric           </span>┃<span style=\"font-weight: bold\">       DataLoader 0        </span>┃\n",
       "┡━━━━━━━━━━━━━━━━━━━━━━━━━━━╇━━━━━━━━━━━━━━━━━━━━━━━━━━━┩\n",
       "│<span style=\"color: #008080; text-decoration-color: #008080\">       Test/Accuracy       </span>│<span style=\"color: #800080; text-decoration-color: #800080\">    0.9418140649795532     </span>│\n",
       "│<span style=\"color: #008080; text-decoration-color: #008080\">       Test/F1Score        </span>│<span style=\"color: #800080; text-decoration-color: #800080\">    0.9351533055305481     </span>│\n",
       "│<span style=\"color: #008080; text-decoration-color: #008080\">         Test/Loss         </span>│<span style=\"color: #800080; text-decoration-color: #800080\">    0.2680492103099823     </span>│\n",
       "│<span style=\"color: #008080; text-decoration-color: #008080\">      Test/Precision       </span>│<span style=\"color: #800080; text-decoration-color: #800080\">    0.9397194981575012     </span>│\n",
       "│<span style=\"color: #008080; text-decoration-color: #008080\">        Test/Recall        </span>│<span style=\"color: #800080; text-decoration-color: #800080\">    0.9418140649795532     </span>│\n",
       "│<span style=\"color: #008080; text-decoration-color: #008080\">    TestEpoch/Accuracy     </span>│<span style=\"color: #800080; text-decoration-color: #800080\">    0.9384037256240845     </span>│\n",
       "│<span style=\"color: #008080; text-decoration-color: #008080\">     TestEpoch/F1Score     </span>│<span style=\"color: #800080; text-decoration-color: #800080\">    0.9361056685447693     </span>│\n",
       "│<span style=\"color: #008080; text-decoration-color: #008080\">    TestEpoch/Precision    </span>│<span style=\"color: #800080; text-decoration-color: #800080\">     0.934761643409729     </span>│\n",
       "│<span style=\"color: #008080; text-decoration-color: #008080\">     TestEpoch/Recall      </span>│<span style=\"color: #800080; text-decoration-color: #800080\">    0.9384037256240845     </span>│\n",
       "└───────────────────────────┴───────────────────────────┘\n",
       "</pre>\n"
      ],
      "text/plain": [
       "┏━━━━━━━━━━━━━━━━━━━━━━━━━━━┳━━━━━━━━━━━━━━━━━━━━━━━━━━━┓\n",
       "┃\u001b[1m \u001b[0m\u001b[1m  Runningstage.testing   \u001b[0m\u001b[1m \u001b[0m┃\u001b[1m                           \u001b[0m┃\n",
       "┃\u001b[1m \u001b[0m\u001b[1m         metric          \u001b[0m\u001b[1m \u001b[0m┃\u001b[1m \u001b[0m\u001b[1m      DataLoader 0       \u001b[0m\u001b[1m \u001b[0m┃\n",
       "┡━━━━━━━━━━━━━━━━━━━━━━━━━━━╇━━━━━━━━━━━━━━━━━━━━━━━━━━━┩\n",
       "│\u001b[36m \u001b[0m\u001b[36m      Test/Accuracy      \u001b[0m\u001b[36m \u001b[0m│\u001b[35m \u001b[0m\u001b[35m   0.9418140649795532    \u001b[0m\u001b[35m \u001b[0m│\n",
       "│\u001b[36m \u001b[0m\u001b[36m      Test/F1Score       \u001b[0m\u001b[36m \u001b[0m│\u001b[35m \u001b[0m\u001b[35m   0.9351533055305481    \u001b[0m\u001b[35m \u001b[0m│\n",
       "│\u001b[36m \u001b[0m\u001b[36m        Test/Loss        \u001b[0m\u001b[36m \u001b[0m│\u001b[35m \u001b[0m\u001b[35m   0.2680492103099823    \u001b[0m\u001b[35m \u001b[0m│\n",
       "│\u001b[36m \u001b[0m\u001b[36m     Test/Precision      \u001b[0m\u001b[36m \u001b[0m│\u001b[35m \u001b[0m\u001b[35m   0.9397194981575012    \u001b[0m\u001b[35m \u001b[0m│\n",
       "│\u001b[36m \u001b[0m\u001b[36m       Test/Recall       \u001b[0m\u001b[36m \u001b[0m│\u001b[35m \u001b[0m\u001b[35m   0.9418140649795532    \u001b[0m\u001b[35m \u001b[0m│\n",
       "│\u001b[36m \u001b[0m\u001b[36m   TestEpoch/Accuracy    \u001b[0m\u001b[36m \u001b[0m│\u001b[35m \u001b[0m\u001b[35m   0.9384037256240845    \u001b[0m\u001b[35m \u001b[0m│\n",
       "│\u001b[36m \u001b[0m\u001b[36m    TestEpoch/F1Score    \u001b[0m\u001b[36m \u001b[0m│\u001b[35m \u001b[0m\u001b[35m   0.9361056685447693    \u001b[0m\u001b[35m \u001b[0m│\n",
       "│\u001b[36m \u001b[0m\u001b[36m   TestEpoch/Precision   \u001b[0m\u001b[36m \u001b[0m│\u001b[35m \u001b[0m\u001b[35m    0.934761643409729    \u001b[0m\u001b[35m \u001b[0m│\n",
       "│\u001b[36m \u001b[0m\u001b[36m    TestEpoch/Recall     \u001b[0m\u001b[36m \u001b[0m│\u001b[35m \u001b[0m\u001b[35m   0.9384037256240845    \u001b[0m\u001b[35m \u001b[0m│\n",
       "└───────────────────────────┴───────────────────────────┘\n"
      ]
     },
     "metadata": {},
     "output_type": "display_data"
    },
    {
     "name": "stderr",
     "output_type": "stream",
     "text": [
      "GPU available: True (cuda), used: True\n",
      "TPU available: False, using: 0 TPU cores\n",
      "IPU available: False, using: 0 IPUs\n",
      "HPU available: False, using: 0 HPUs\n",
      "You are using a CUDA device ('NVIDIA GeForce RTX 4070 Ti') that has Tensor Cores. To properly utilize them, you should set `torch.set_float32_matmul_precision('medium' | 'high')` which will trade-off precision for performance. For more details, read https://pytorch.org/docs/stable/generated/torch.set_float32_matmul_precision.html#torch.set_float32_matmul_precision\n",
      "LOCAL_RANK: 0 - CUDA_VISIBLE_DEVICES: [0,1]\n"
     ]
    },
    {
     "name": "stdout",
     "output_type": "stream",
     "text": [
      "Node 4 aggregate model with [3, 5]\n",
      "Performance of Node 4 after aggregation at round 3\n"
     ]
    },
    {
     "data": {
      "application/vnd.jupyter.widget-view+json": {
       "model_id": "b46ab9f49543400786b67c5ba820dd28",
       "version_major": 2,
       "version_minor": 0
      },
      "text/plain": [
       "Testing: 0it [00:00, ?it/s]"
      ]
     },
     "metadata": {},
     "output_type": "display_data"
    },
    {
     "name": "stdout",
     "output_type": "stream",
     "text": [
      "Epoch end: Test, epoch number: 4\n"
     ]
    },
    {
     "data": {
      "text/html": [
       "<pre style=\"white-space:pre;overflow-x:auto;line-height:normal;font-family:Menlo,'DejaVu Sans Mono',consolas,'Courier New',monospace\">┏━━━━━━━━━━━━━━━━━━━━━━━━━━━┳━━━━━━━━━━━━━━━━━━━━━━━━━━━┓\n",
       "┃<span style=\"font-weight: bold\">   Runningstage.testing    </span>┃<span style=\"font-weight: bold\">                           </span>┃\n",
       "┃<span style=\"font-weight: bold\">          metric           </span>┃<span style=\"font-weight: bold\">       DataLoader 0        </span>┃\n",
       "┡━━━━━━━━━━━━━━━━━━━━━━━━━━━╇━━━━━━━━━━━━━━━━━━━━━━━━━━━┩\n",
       "│<span style=\"color: #008080; text-decoration-color: #008080\">       Test/Accuracy       </span>│<span style=\"color: #800080; text-decoration-color: #800080\">    0.9204714298248291     </span>│\n",
       "│<span style=\"color: #008080; text-decoration-color: #008080\">       Test/F1Score        </span>│<span style=\"color: #800080; text-decoration-color: #800080\">     0.914508581161499     </span>│\n",
       "│<span style=\"color: #008080; text-decoration-color: #008080\">         Test/Loss         </span>│<span style=\"color: #800080; text-decoration-color: #800080\">    0.29795894026756287    </span>│\n",
       "│<span style=\"color: #008080; text-decoration-color: #008080\">      Test/Precision       </span>│<span style=\"color: #800080; text-decoration-color: #800080\">    0.9241207838058472     </span>│\n",
       "│<span style=\"color: #008080; text-decoration-color: #008080\">        Test/Recall        </span>│<span style=\"color: #800080; text-decoration-color: #800080\">    0.9204714298248291     </span>│\n",
       "│<span style=\"color: #008080; text-decoration-color: #008080\">    TestEpoch/Accuracy     </span>│<span style=\"color: #800080; text-decoration-color: #800080\">    0.9269707798957825     </span>│\n",
       "│<span style=\"color: #008080; text-decoration-color: #008080\">     TestEpoch/F1Score     </span>│<span style=\"color: #800080; text-decoration-color: #800080\">    0.9268760681152344     </span>│\n",
       "│<span style=\"color: #008080; text-decoration-color: #008080\">    TestEpoch/Precision    </span>│<span style=\"color: #800080; text-decoration-color: #800080\">    0.9286335706710815     </span>│\n",
       "│<span style=\"color: #008080; text-decoration-color: #008080\">     TestEpoch/Recall      </span>│<span style=\"color: #800080; text-decoration-color: #800080\">    0.9269707798957825     </span>│\n",
       "└───────────────────────────┴───────────────────────────┘\n",
       "</pre>\n"
      ],
      "text/plain": [
       "┏━━━━━━━━━━━━━━━━━━━━━━━━━━━┳━━━━━━━━━━━━━━━━━━━━━━━━━━━┓\n",
       "┃\u001b[1m \u001b[0m\u001b[1m  Runningstage.testing   \u001b[0m\u001b[1m \u001b[0m┃\u001b[1m                           \u001b[0m┃\n",
       "┃\u001b[1m \u001b[0m\u001b[1m         metric          \u001b[0m\u001b[1m \u001b[0m┃\u001b[1m \u001b[0m\u001b[1m      DataLoader 0       \u001b[0m\u001b[1m \u001b[0m┃\n",
       "┡━━━━━━━━━━━━━━━━━━━━━━━━━━━╇━━━━━━━━━━━━━━━━━━━━━━━━━━━┩\n",
       "│\u001b[36m \u001b[0m\u001b[36m      Test/Accuracy      \u001b[0m\u001b[36m \u001b[0m│\u001b[35m \u001b[0m\u001b[35m   0.9204714298248291    \u001b[0m\u001b[35m \u001b[0m│\n",
       "│\u001b[36m \u001b[0m\u001b[36m      Test/F1Score       \u001b[0m\u001b[36m \u001b[0m│\u001b[35m \u001b[0m\u001b[35m    0.914508581161499    \u001b[0m\u001b[35m \u001b[0m│\n",
       "│\u001b[36m \u001b[0m\u001b[36m        Test/Loss        \u001b[0m\u001b[36m \u001b[0m│\u001b[35m \u001b[0m\u001b[35m   0.29795894026756287   \u001b[0m\u001b[35m \u001b[0m│\n",
       "│\u001b[36m \u001b[0m\u001b[36m     Test/Precision      \u001b[0m\u001b[36m \u001b[0m│\u001b[35m \u001b[0m\u001b[35m   0.9241207838058472    \u001b[0m\u001b[35m \u001b[0m│\n",
       "│\u001b[36m \u001b[0m\u001b[36m       Test/Recall       \u001b[0m\u001b[36m \u001b[0m│\u001b[35m \u001b[0m\u001b[35m   0.9204714298248291    \u001b[0m\u001b[35m \u001b[0m│\n",
       "│\u001b[36m \u001b[0m\u001b[36m   TestEpoch/Accuracy    \u001b[0m\u001b[36m \u001b[0m│\u001b[35m \u001b[0m\u001b[35m   0.9269707798957825    \u001b[0m\u001b[35m \u001b[0m│\n",
       "│\u001b[36m \u001b[0m\u001b[36m    TestEpoch/F1Score    \u001b[0m\u001b[36m \u001b[0m│\u001b[35m \u001b[0m\u001b[35m   0.9268760681152344    \u001b[0m\u001b[35m \u001b[0m│\n",
       "│\u001b[36m \u001b[0m\u001b[36m   TestEpoch/Precision   \u001b[0m\u001b[36m \u001b[0m│\u001b[35m \u001b[0m\u001b[35m   0.9286335706710815    \u001b[0m\u001b[35m \u001b[0m│\n",
       "│\u001b[36m \u001b[0m\u001b[36m    TestEpoch/Recall     \u001b[0m\u001b[36m \u001b[0m│\u001b[35m \u001b[0m\u001b[35m   0.9269707798957825    \u001b[0m\u001b[35m \u001b[0m│\n",
       "└───────────────────────────┴───────────────────────────┘\n"
      ]
     },
     "metadata": {},
     "output_type": "display_data"
    },
    {
     "name": "stderr",
     "output_type": "stream",
     "text": [
      "GPU available: True (cuda), used: True\n",
      "TPU available: False, using: 0 TPU cores\n",
      "IPU available: False, using: 0 IPUs\n",
      "HPU available: False, using: 0 HPUs\n",
      "You are using a CUDA device ('NVIDIA GeForce RTX 4070 Ti') that has Tensor Cores. To properly utilize them, you should set `torch.set_float32_matmul_precision('medium' | 'high')` which will trade-off precision for performance. For more details, read https://pytorch.org/docs/stable/generated/torch.set_float32_matmul_precision.html#torch.set_float32_matmul_precision\n",
      "LOCAL_RANK: 0 - CUDA_VISIBLE_DEVICES: [0,1]\n"
     ]
    },
    {
     "name": "stdout",
     "output_type": "stream",
     "text": [
      "Node 5 aggregate model with [4, 6]\n",
      "Performance of Node 5 after aggregation at round 3\n"
     ]
    },
    {
     "data": {
      "application/vnd.jupyter.widget-view+json": {
       "model_id": "28862ebc265e4d0ea335e3005f2f36aa",
       "version_major": 2,
       "version_minor": 0
      },
      "text/plain": [
       "Testing: 0it [00:00, ?it/s]"
      ]
     },
     "metadata": {},
     "output_type": "display_data"
    },
    {
     "name": "stdout",
     "output_type": "stream",
     "text": [
      "Epoch end: Test, epoch number: 4\n"
     ]
    },
    {
     "data": {
      "text/html": [
       "<pre style=\"white-space:pre;overflow-x:auto;line-height:normal;font-family:Menlo,'DejaVu Sans Mono',consolas,'Courier New',monospace\">┏━━━━━━━━━━━━━━━━━━━━━━━━━━━┳━━━━━━━━━━━━━━━━━━━━━━━━━━━┓\n",
       "┃<span style=\"font-weight: bold\">   Runningstage.testing    </span>┃<span style=\"font-weight: bold\">                           </span>┃\n",
       "┃<span style=\"font-weight: bold\">          metric           </span>┃<span style=\"font-weight: bold\">       DataLoader 0        </span>┃\n",
       "┡━━━━━━━━━━━━━━━━━━━━━━━━━━━╇━━━━━━━━━━━━━━━━━━━━━━━━━━━┩\n",
       "│<span style=\"color: #008080; text-decoration-color: #008080\">       Test/Accuracy       </span>│<span style=\"color: #800080; text-decoration-color: #800080\">    0.9291220903396606     </span>│\n",
       "│<span style=\"color: #008080; text-decoration-color: #008080\">       Test/F1Score        </span>│<span style=\"color: #800080; text-decoration-color: #800080\">    0.9202700257301331     </span>│\n",
       "│<span style=\"color: #008080; text-decoration-color: #008080\">         Test/Loss         </span>│<span style=\"color: #800080; text-decoration-color: #800080\">    0.31931403279304504    </span>│\n",
       "│<span style=\"color: #008080; text-decoration-color: #008080\">      Test/Precision       </span>│<span style=\"color: #800080; text-decoration-color: #800080\">     0.927156388759613     </span>│\n",
       "│<span style=\"color: #008080; text-decoration-color: #008080\">        Test/Recall        </span>│<span style=\"color: #800080; text-decoration-color: #800080\">    0.9291220903396606     </span>│\n",
       "│<span style=\"color: #008080; text-decoration-color: #008080\">    TestEpoch/Accuracy     </span>│<span style=\"color: #800080; text-decoration-color: #800080\">    0.9239102005958557     </span>│\n",
       "│<span style=\"color: #008080; text-decoration-color: #008080\">     TestEpoch/F1Score     </span>│<span style=\"color: #800080; text-decoration-color: #800080\">    0.9235079288482666     </span>│\n",
       "│<span style=\"color: #008080; text-decoration-color: #008080\">    TestEpoch/Precision    </span>│<span style=\"color: #800080; text-decoration-color: #800080\">    0.9245257377624512     </span>│\n",
       "│<span style=\"color: #008080; text-decoration-color: #008080\">     TestEpoch/Recall      </span>│<span style=\"color: #800080; text-decoration-color: #800080\">    0.9239102005958557     </span>│\n",
       "└───────────────────────────┴───────────────────────────┘\n",
       "</pre>\n"
      ],
      "text/plain": [
       "┏━━━━━━━━━━━━━━━━━━━━━━━━━━━┳━━━━━━━━━━━━━━━━━━━━━━━━━━━┓\n",
       "┃\u001b[1m \u001b[0m\u001b[1m  Runningstage.testing   \u001b[0m\u001b[1m \u001b[0m┃\u001b[1m                           \u001b[0m┃\n",
       "┃\u001b[1m \u001b[0m\u001b[1m         metric          \u001b[0m\u001b[1m \u001b[0m┃\u001b[1m \u001b[0m\u001b[1m      DataLoader 0       \u001b[0m\u001b[1m \u001b[0m┃\n",
       "┡━━━━━━━━━━━━━━━━━━━━━━━━━━━╇━━━━━━━━━━━━━━━━━━━━━━━━━━━┩\n",
       "│\u001b[36m \u001b[0m\u001b[36m      Test/Accuracy      \u001b[0m\u001b[36m \u001b[0m│\u001b[35m \u001b[0m\u001b[35m   0.9291220903396606    \u001b[0m\u001b[35m \u001b[0m│\n",
       "│\u001b[36m \u001b[0m\u001b[36m      Test/F1Score       \u001b[0m\u001b[36m \u001b[0m│\u001b[35m \u001b[0m\u001b[35m   0.9202700257301331    \u001b[0m\u001b[35m \u001b[0m│\n",
       "│\u001b[36m \u001b[0m\u001b[36m        Test/Loss        \u001b[0m\u001b[36m \u001b[0m│\u001b[35m \u001b[0m\u001b[35m   0.31931403279304504   \u001b[0m\u001b[35m \u001b[0m│\n",
       "│\u001b[36m \u001b[0m\u001b[36m     Test/Precision      \u001b[0m\u001b[36m \u001b[0m│\u001b[35m \u001b[0m\u001b[35m    0.927156388759613    \u001b[0m\u001b[35m \u001b[0m│\n",
       "│\u001b[36m \u001b[0m\u001b[36m       Test/Recall       \u001b[0m\u001b[36m \u001b[0m│\u001b[35m \u001b[0m\u001b[35m   0.9291220903396606    \u001b[0m\u001b[35m \u001b[0m│\n",
       "│\u001b[36m \u001b[0m\u001b[36m   TestEpoch/Accuracy    \u001b[0m\u001b[36m \u001b[0m│\u001b[35m \u001b[0m\u001b[35m   0.9239102005958557    \u001b[0m\u001b[35m \u001b[0m│\n",
       "│\u001b[36m \u001b[0m\u001b[36m    TestEpoch/F1Score    \u001b[0m\u001b[36m \u001b[0m│\u001b[35m \u001b[0m\u001b[35m   0.9235079288482666    \u001b[0m\u001b[35m \u001b[0m│\n",
       "│\u001b[36m \u001b[0m\u001b[36m   TestEpoch/Precision   \u001b[0m\u001b[36m \u001b[0m│\u001b[35m \u001b[0m\u001b[35m   0.9245257377624512    \u001b[0m\u001b[35m \u001b[0m│\n",
       "│\u001b[36m \u001b[0m\u001b[36m    TestEpoch/Recall     \u001b[0m\u001b[36m \u001b[0m│\u001b[35m \u001b[0m\u001b[35m   0.9239102005958557    \u001b[0m\u001b[35m \u001b[0m│\n",
       "└───────────────────────────┴───────────────────────────┘\n"
      ]
     },
     "metadata": {},
     "output_type": "display_data"
    },
    {
     "name": "stderr",
     "output_type": "stream",
     "text": [
      "GPU available: True (cuda), used: True\n",
      "TPU available: False, using: 0 TPU cores\n",
      "IPU available: False, using: 0 IPUs\n",
      "HPU available: False, using: 0 HPUs\n",
      "You are using a CUDA device ('NVIDIA GeForce RTX 4070 Ti') that has Tensor Cores. To properly utilize them, you should set `torch.set_float32_matmul_precision('medium' | 'high')` which will trade-off precision for performance. For more details, read https://pytorch.org/docs/stable/generated/torch.set_float32_matmul_precision.html#torch.set_float32_matmul_precision\n",
      "LOCAL_RANK: 0 - CUDA_VISIBLE_DEVICES: [0,1]\n"
     ]
    },
    {
     "name": "stdout",
     "output_type": "stream",
     "text": [
      "Node 6 aggregate model with [5, 7]\n",
      "Performance of Node 6 after aggregation at round 3\n"
     ]
    },
    {
     "data": {
      "application/vnd.jupyter.widget-view+json": {
       "model_id": "e0931f2880f54d2da696db2f680f51b4",
       "version_major": 2,
       "version_minor": 0
      },
      "text/plain": [
       "Testing: 0it [00:00, ?it/s]"
      ]
     },
     "metadata": {},
     "output_type": "display_data"
    },
    {
     "name": "stdout",
     "output_type": "stream",
     "text": [
      "Epoch end: Test, epoch number: 4\n"
     ]
    },
    {
     "data": {
      "text/html": [
       "<pre style=\"white-space:pre;overflow-x:auto;line-height:normal;font-family:Menlo,'DejaVu Sans Mono',consolas,'Courier New',monospace\">┏━━━━━━━━━━━━━━━━━━━━━━━━━━━┳━━━━━━━━━━━━━━━━━━━━━━━━━━━┓\n",
       "┃<span style=\"font-weight: bold\">   Runningstage.testing    </span>┃<span style=\"font-weight: bold\">                           </span>┃\n",
       "┃<span style=\"font-weight: bold\">          metric           </span>┃<span style=\"font-weight: bold\">       DataLoader 0        </span>┃\n",
       "┡━━━━━━━━━━━━━━━━━━━━━━━━━━━╇━━━━━━━━━━━━━━━━━━━━━━━━━━━┩\n",
       "│<span style=\"color: #008080; text-decoration-color: #008080\">       Test/Accuracy       </span>│<span style=\"color: #800080; text-decoration-color: #800080\">     0.91194748878479      </span>│\n",
       "│<span style=\"color: #008080; text-decoration-color: #008080\">       Test/F1Score        </span>│<span style=\"color: #800080; text-decoration-color: #800080\">    0.9055953621864319     </span>│\n",
       "│<span style=\"color: #008080; text-decoration-color: #008080\">         Test/Loss         </span>│<span style=\"color: #800080; text-decoration-color: #800080\">    0.3199412226676941     </span>│\n",
       "│<span style=\"color: #008080; text-decoration-color: #008080\">      Test/Precision       </span>│<span style=\"color: #800080; text-decoration-color: #800080\">    0.9126186370849609     </span>│\n",
       "│<span style=\"color: #008080; text-decoration-color: #008080\">        Test/Recall        </span>│<span style=\"color: #800080; text-decoration-color: #800080\">     0.91194748878479      </span>│\n",
       "│<span style=\"color: #008080; text-decoration-color: #008080\">    TestEpoch/Accuracy     </span>│<span style=\"color: #800080; text-decoration-color: #800080\">    0.9166990518569946     </span>│\n",
       "│<span style=\"color: #008080; text-decoration-color: #008080\">     TestEpoch/F1Score     </span>│<span style=\"color: #800080; text-decoration-color: #800080\">    0.9159514307975769     </span>│\n",
       "│<span style=\"color: #008080; text-decoration-color: #008080\">    TestEpoch/Precision    </span>│<span style=\"color: #800080; text-decoration-color: #800080\">    0.9181874394416809     </span>│\n",
       "│<span style=\"color: #008080; text-decoration-color: #008080\">     TestEpoch/Recall      </span>│<span style=\"color: #800080; text-decoration-color: #800080\">    0.9166990518569946     </span>│\n",
       "└───────────────────────────┴───────────────────────────┘\n",
       "</pre>\n"
      ],
      "text/plain": [
       "┏━━━━━━━━━━━━━━━━━━━━━━━━━━━┳━━━━━━━━━━━━━━━━━━━━━━━━━━━┓\n",
       "┃\u001b[1m \u001b[0m\u001b[1m  Runningstage.testing   \u001b[0m\u001b[1m \u001b[0m┃\u001b[1m                           \u001b[0m┃\n",
       "┃\u001b[1m \u001b[0m\u001b[1m         metric          \u001b[0m\u001b[1m \u001b[0m┃\u001b[1m \u001b[0m\u001b[1m      DataLoader 0       \u001b[0m\u001b[1m \u001b[0m┃\n",
       "┡━━━━━━━━━━━━━━━━━━━━━━━━━━━╇━━━━━━━━━━━━━━━━━━━━━━━━━━━┩\n",
       "│\u001b[36m \u001b[0m\u001b[36m      Test/Accuracy      \u001b[0m\u001b[36m \u001b[0m│\u001b[35m \u001b[0m\u001b[35m    0.91194748878479     \u001b[0m\u001b[35m \u001b[0m│\n",
       "│\u001b[36m \u001b[0m\u001b[36m      Test/F1Score       \u001b[0m\u001b[36m \u001b[0m│\u001b[35m \u001b[0m\u001b[35m   0.9055953621864319    \u001b[0m\u001b[35m \u001b[0m│\n",
       "│\u001b[36m \u001b[0m\u001b[36m        Test/Loss        \u001b[0m\u001b[36m \u001b[0m│\u001b[35m \u001b[0m\u001b[35m   0.3199412226676941    \u001b[0m\u001b[35m \u001b[0m│\n",
       "│\u001b[36m \u001b[0m\u001b[36m     Test/Precision      \u001b[0m\u001b[36m \u001b[0m│\u001b[35m \u001b[0m\u001b[35m   0.9126186370849609    \u001b[0m\u001b[35m \u001b[0m│\n",
       "│\u001b[36m \u001b[0m\u001b[36m       Test/Recall       \u001b[0m\u001b[36m \u001b[0m│\u001b[35m \u001b[0m\u001b[35m    0.91194748878479     \u001b[0m\u001b[35m \u001b[0m│\n",
       "│\u001b[36m \u001b[0m\u001b[36m   TestEpoch/Accuracy    \u001b[0m\u001b[36m \u001b[0m│\u001b[35m \u001b[0m\u001b[35m   0.9166990518569946    \u001b[0m\u001b[35m \u001b[0m│\n",
       "│\u001b[36m \u001b[0m\u001b[36m    TestEpoch/F1Score    \u001b[0m\u001b[36m \u001b[0m│\u001b[35m \u001b[0m\u001b[35m   0.9159514307975769    \u001b[0m\u001b[35m \u001b[0m│\n",
       "│\u001b[36m \u001b[0m\u001b[36m   TestEpoch/Precision   \u001b[0m\u001b[36m \u001b[0m│\u001b[35m \u001b[0m\u001b[35m   0.9181874394416809    \u001b[0m\u001b[35m \u001b[0m│\n",
       "│\u001b[36m \u001b[0m\u001b[36m    TestEpoch/Recall     \u001b[0m\u001b[36m \u001b[0m│\u001b[35m \u001b[0m\u001b[35m   0.9166990518569946    \u001b[0m\u001b[35m \u001b[0m│\n",
       "└───────────────────────────┴───────────────────────────┘\n"
      ]
     },
     "metadata": {},
     "output_type": "display_data"
    },
    {
     "name": "stderr",
     "output_type": "stream",
     "text": [
      "GPU available: True (cuda), used: True\n",
      "TPU available: False, using: 0 TPU cores\n",
      "IPU available: False, using: 0 IPUs\n",
      "HPU available: False, using: 0 HPUs\n",
      "You are using a CUDA device ('NVIDIA GeForce RTX 4070 Ti') that has Tensor Cores. To properly utilize them, you should set `torch.set_float32_matmul_precision('medium' | 'high')` which will trade-off precision for performance. For more details, read https://pytorch.org/docs/stable/generated/torch.set_float32_matmul_precision.html#torch.set_float32_matmul_precision\n",
      "LOCAL_RANK: 0 - CUDA_VISIBLE_DEVICES: [0,1]\n"
     ]
    },
    {
     "name": "stdout",
     "output_type": "stream",
     "text": [
      "Node 7 aggregate model with [6, 8]\n",
      "Performance of Node 7 after aggregation at round 3\n"
     ]
    },
    {
     "data": {
      "application/vnd.jupyter.widget-view+json": {
       "model_id": "9c3241f20f094d82afab5aa82f8281c3",
       "version_major": 2,
       "version_minor": 0
      },
      "text/plain": [
       "Testing: 0it [00:00, ?it/s]"
      ]
     },
     "metadata": {},
     "output_type": "display_data"
    },
    {
     "name": "stdout",
     "output_type": "stream",
     "text": [
      "Epoch end: Test, epoch number: 4\n"
     ]
    },
    {
     "data": {
      "text/html": [
       "<pre style=\"white-space:pre;overflow-x:auto;line-height:normal;font-family:Menlo,'DejaVu Sans Mono',consolas,'Courier New',monospace\">┏━━━━━━━━━━━━━━━━━━━━━━━━━━━┳━━━━━━━━━━━━━━━━━━━━━━━━━━━┓\n",
       "┃<span style=\"font-weight: bold\">   Runningstage.testing    </span>┃<span style=\"font-weight: bold\">                           </span>┃\n",
       "┃<span style=\"font-weight: bold\">          metric           </span>┃<span style=\"font-weight: bold\">       DataLoader 0        </span>┃\n",
       "┡━━━━━━━━━━━━━━━━━━━━━━━━━━━╇━━━━━━━━━━━━━━━━━━━━━━━━━━━┩\n",
       "│<span style=\"color: #008080; text-decoration-color: #008080\">       Test/Accuracy       </span>│<span style=\"color: #800080; text-decoration-color: #800080\">    0.9303247928619385     </span>│\n",
       "│<span style=\"color: #008080; text-decoration-color: #008080\">       Test/F1Score        </span>│<span style=\"color: #800080; text-decoration-color: #800080\">    0.9244120121002197     </span>│\n",
       "│<span style=\"color: #008080; text-decoration-color: #008080\">         Test/Loss         </span>│<span style=\"color: #800080; text-decoration-color: #800080\">    0.27513277530670166    </span>│\n",
       "│<span style=\"color: #008080; text-decoration-color: #008080\">      Test/Precision       </span>│<span style=\"color: #800080; text-decoration-color: #800080\">    0.9360039830207825     </span>│\n",
       "│<span style=\"color: #008080; text-decoration-color: #008080\">        Test/Recall        </span>│<span style=\"color: #800080; text-decoration-color: #800080\">    0.9303247928619385     </span>│\n",
       "│<span style=\"color: #008080; text-decoration-color: #008080\">    TestEpoch/Accuracy     </span>│<span style=\"color: #800080; text-decoration-color: #800080\">    0.9326295852661133     </span>│\n",
       "│<span style=\"color: #008080; text-decoration-color: #008080\">     TestEpoch/F1Score     </span>│<span style=\"color: #800080; text-decoration-color: #800080\">    0.9324887990951538     </span>│\n",
       "│<span style=\"color: #008080; text-decoration-color: #008080\">    TestEpoch/Precision    </span>│<span style=\"color: #800080; text-decoration-color: #800080\">    0.9337673187255859     </span>│\n",
       "│<span style=\"color: #008080; text-decoration-color: #008080\">     TestEpoch/Recall      </span>│<span style=\"color: #800080; text-decoration-color: #800080\">    0.9326295852661133     </span>│\n",
       "└───────────────────────────┴───────────────────────────┘\n",
       "</pre>\n"
      ],
      "text/plain": [
       "┏━━━━━━━━━━━━━━━━━━━━━━━━━━━┳━━━━━━━━━━━━━━━━━━━━━━━━━━━┓\n",
       "┃\u001b[1m \u001b[0m\u001b[1m  Runningstage.testing   \u001b[0m\u001b[1m \u001b[0m┃\u001b[1m                           \u001b[0m┃\n",
       "┃\u001b[1m \u001b[0m\u001b[1m         metric          \u001b[0m\u001b[1m \u001b[0m┃\u001b[1m \u001b[0m\u001b[1m      DataLoader 0       \u001b[0m\u001b[1m \u001b[0m┃\n",
       "┡━━━━━━━━━━━━━━━━━━━━━━━━━━━╇━━━━━━━━━━━━━━━━━━━━━━━━━━━┩\n",
       "│\u001b[36m \u001b[0m\u001b[36m      Test/Accuracy      \u001b[0m\u001b[36m \u001b[0m│\u001b[35m \u001b[0m\u001b[35m   0.9303247928619385    \u001b[0m\u001b[35m \u001b[0m│\n",
       "│\u001b[36m \u001b[0m\u001b[36m      Test/F1Score       \u001b[0m\u001b[36m \u001b[0m│\u001b[35m \u001b[0m\u001b[35m   0.9244120121002197    \u001b[0m\u001b[35m \u001b[0m│\n",
       "│\u001b[36m \u001b[0m\u001b[36m        Test/Loss        \u001b[0m\u001b[36m \u001b[0m│\u001b[35m \u001b[0m\u001b[35m   0.27513277530670166   \u001b[0m\u001b[35m \u001b[0m│\n",
       "│\u001b[36m \u001b[0m\u001b[36m     Test/Precision      \u001b[0m\u001b[36m \u001b[0m│\u001b[35m \u001b[0m\u001b[35m   0.9360039830207825    \u001b[0m\u001b[35m \u001b[0m│\n",
       "│\u001b[36m \u001b[0m\u001b[36m       Test/Recall       \u001b[0m\u001b[36m \u001b[0m│\u001b[35m \u001b[0m\u001b[35m   0.9303247928619385    \u001b[0m\u001b[35m \u001b[0m│\n",
       "│\u001b[36m \u001b[0m\u001b[36m   TestEpoch/Accuracy    \u001b[0m\u001b[36m \u001b[0m│\u001b[35m \u001b[0m\u001b[35m   0.9326295852661133    \u001b[0m\u001b[35m \u001b[0m│\n",
       "│\u001b[36m \u001b[0m\u001b[36m    TestEpoch/F1Score    \u001b[0m\u001b[36m \u001b[0m│\u001b[35m \u001b[0m\u001b[35m   0.9324887990951538    \u001b[0m\u001b[35m \u001b[0m│\n",
       "│\u001b[36m \u001b[0m\u001b[36m   TestEpoch/Precision   \u001b[0m\u001b[36m \u001b[0m│\u001b[35m \u001b[0m\u001b[35m   0.9337673187255859    \u001b[0m\u001b[35m \u001b[0m│\n",
       "│\u001b[36m \u001b[0m\u001b[36m    TestEpoch/Recall     \u001b[0m\u001b[36m \u001b[0m│\u001b[35m \u001b[0m\u001b[35m   0.9326295852661133    \u001b[0m\u001b[35m \u001b[0m│\n",
       "└───────────────────────────┴───────────────────────────┘\n"
      ]
     },
     "metadata": {},
     "output_type": "display_data"
    },
    {
     "name": "stderr",
     "output_type": "stream",
     "text": [
      "GPU available: True (cuda), used: True\n",
      "TPU available: False, using: 0 TPU cores\n",
      "IPU available: False, using: 0 IPUs\n",
      "HPU available: False, using: 0 HPUs\n",
      "You are using a CUDA device ('NVIDIA GeForce RTX 4070 Ti') that has Tensor Cores. To properly utilize them, you should set `torch.set_float32_matmul_precision('medium' | 'high')` which will trade-off precision for performance. For more details, read https://pytorch.org/docs/stable/generated/torch.set_float32_matmul_precision.html#torch.set_float32_matmul_precision\n",
      "LOCAL_RANK: 0 - CUDA_VISIBLE_DEVICES: [0,1]\n"
     ]
    },
    {
     "name": "stdout",
     "output_type": "stream",
     "text": [
      "Node 8 aggregate model with [7, 9]\n",
      "Performance of Node 8 after aggregation at round 3\n"
     ]
    },
    {
     "data": {
      "application/vnd.jupyter.widget-view+json": {
       "model_id": "0c9d58e7ba53437fb8e90ce9bb03b6a1",
       "version_major": 2,
       "version_minor": 0
      },
      "text/plain": [
       "Testing: 0it [00:00, ?it/s]"
      ]
     },
     "metadata": {},
     "output_type": "display_data"
    },
    {
     "name": "stdout",
     "output_type": "stream",
     "text": [
      "Epoch end: Test, epoch number: 4\n"
     ]
    },
    {
     "data": {
      "text/html": [
       "<pre style=\"white-space:pre;overflow-x:auto;line-height:normal;font-family:Menlo,'DejaVu Sans Mono',consolas,'Courier New',monospace\">┏━━━━━━━━━━━━━━━━━━━━━━━━━━━┳━━━━━━━━━━━━━━━━━━━━━━━━━━━┓\n",
       "┃<span style=\"font-weight: bold\">   Runningstage.testing    </span>┃<span style=\"font-weight: bold\">                           </span>┃\n",
       "┃<span style=\"font-weight: bold\">          metric           </span>┃<span style=\"font-weight: bold\">       DataLoader 0        </span>┃\n",
       "┡━━━━━━━━━━━━━━━━━━━━━━━━━━━╇━━━━━━━━━━━━━━━━━━━━━━━━━━━┩\n",
       "│<span style=\"color: #008080; text-decoration-color: #008080\">       Test/Accuracy       </span>│<span style=\"color: #800080; text-decoration-color: #800080\">    0.9259966611862183     </span>│\n",
       "│<span style=\"color: #008080; text-decoration-color: #008080\">       Test/F1Score        </span>│<span style=\"color: #800080; text-decoration-color: #800080\">    0.9183173775672913     </span>│\n",
       "│<span style=\"color: #008080; text-decoration-color: #008080\">         Test/Loss         </span>│<span style=\"color: #800080; text-decoration-color: #800080\">    0.2994830310344696     </span>│\n",
       "│<span style=\"color: #008080; text-decoration-color: #008080\">      Test/Precision       </span>│<span style=\"color: #800080; text-decoration-color: #800080\">    0.9251648783683777     </span>│\n",
       "│<span style=\"color: #008080; text-decoration-color: #008080\">        Test/Recall        </span>│<span style=\"color: #800080; text-decoration-color: #800080\">    0.9259966611862183     </span>│\n",
       "│<span style=\"color: #008080; text-decoration-color: #008080\">    TestEpoch/Accuracy     </span>│<span style=\"color: #800080; text-decoration-color: #800080\">     0.921721339225769     </span>│\n",
       "│<span style=\"color: #008080; text-decoration-color: #008080\">     TestEpoch/F1Score     </span>│<span style=\"color: #800080; text-decoration-color: #800080\">    0.9221056699752808     </span>│\n",
       "│<span style=\"color: #008080; text-decoration-color: #008080\">    TestEpoch/Precision    </span>│<span style=\"color: #800080; text-decoration-color: #800080\">    0.9240922331809998     </span>│\n",
       "│<span style=\"color: #008080; text-decoration-color: #008080\">     TestEpoch/Recall      </span>│<span style=\"color: #800080; text-decoration-color: #800080\">     0.921721339225769     </span>│\n",
       "└───────────────────────────┴───────────────────────────┘\n",
       "</pre>\n"
      ],
      "text/plain": [
       "┏━━━━━━━━━━━━━━━━━━━━━━━━━━━┳━━━━━━━━━━━━━━━━━━━━━━━━━━━┓\n",
       "┃\u001b[1m \u001b[0m\u001b[1m  Runningstage.testing   \u001b[0m\u001b[1m \u001b[0m┃\u001b[1m                           \u001b[0m┃\n",
       "┃\u001b[1m \u001b[0m\u001b[1m         metric          \u001b[0m\u001b[1m \u001b[0m┃\u001b[1m \u001b[0m\u001b[1m      DataLoader 0       \u001b[0m\u001b[1m \u001b[0m┃\n",
       "┡━━━━━━━━━━━━━━━━━━━━━━━━━━━╇━━━━━━━━━━━━━━━━━━━━━━━━━━━┩\n",
       "│\u001b[36m \u001b[0m\u001b[36m      Test/Accuracy      \u001b[0m\u001b[36m \u001b[0m│\u001b[35m \u001b[0m\u001b[35m   0.9259966611862183    \u001b[0m\u001b[35m \u001b[0m│\n",
       "│\u001b[36m \u001b[0m\u001b[36m      Test/F1Score       \u001b[0m\u001b[36m \u001b[0m│\u001b[35m \u001b[0m\u001b[35m   0.9183173775672913    \u001b[0m\u001b[35m \u001b[0m│\n",
       "│\u001b[36m \u001b[0m\u001b[36m        Test/Loss        \u001b[0m\u001b[36m \u001b[0m│\u001b[35m \u001b[0m\u001b[35m   0.2994830310344696    \u001b[0m\u001b[35m \u001b[0m│\n",
       "│\u001b[36m \u001b[0m\u001b[36m     Test/Precision      \u001b[0m\u001b[36m \u001b[0m│\u001b[35m \u001b[0m\u001b[35m   0.9251648783683777    \u001b[0m\u001b[35m \u001b[0m│\n",
       "│\u001b[36m \u001b[0m\u001b[36m       Test/Recall       \u001b[0m\u001b[36m \u001b[0m│\u001b[35m \u001b[0m\u001b[35m   0.9259966611862183    \u001b[0m\u001b[35m \u001b[0m│\n",
       "│\u001b[36m \u001b[0m\u001b[36m   TestEpoch/Accuracy    \u001b[0m\u001b[36m \u001b[0m│\u001b[35m \u001b[0m\u001b[35m    0.921721339225769    \u001b[0m\u001b[35m \u001b[0m│\n",
       "│\u001b[36m \u001b[0m\u001b[36m    TestEpoch/F1Score    \u001b[0m\u001b[36m \u001b[0m│\u001b[35m \u001b[0m\u001b[35m   0.9221056699752808    \u001b[0m\u001b[35m \u001b[0m│\n",
       "│\u001b[36m \u001b[0m\u001b[36m   TestEpoch/Precision   \u001b[0m\u001b[36m \u001b[0m│\u001b[35m \u001b[0m\u001b[35m   0.9240922331809998    \u001b[0m\u001b[35m \u001b[0m│\n",
       "│\u001b[36m \u001b[0m\u001b[36m    TestEpoch/Recall     \u001b[0m\u001b[36m \u001b[0m│\u001b[35m \u001b[0m\u001b[35m    0.921721339225769    \u001b[0m\u001b[35m \u001b[0m│\n",
       "└───────────────────────────┴───────────────────────────┘\n"
      ]
     },
     "metadata": {},
     "output_type": "display_data"
    },
    {
     "name": "stderr",
     "output_type": "stream",
     "text": [
      "GPU available: True (cuda), used: True\n",
      "TPU available: False, using: 0 TPU cores\n",
      "IPU available: False, using: 0 IPUs\n",
      "HPU available: False, using: 0 HPUs\n",
      "You are using a CUDA device ('NVIDIA GeForce RTX 4070 Ti') that has Tensor Cores. To properly utilize them, you should set `torch.set_float32_matmul_precision('medium' | 'high')` which will trade-off precision for performance. For more details, read https://pytorch.org/docs/stable/generated/torch.set_float32_matmul_precision.html#torch.set_float32_matmul_precision\n",
      "LOCAL_RANK: 0 - CUDA_VISIBLE_DEVICES: [0,1]\n"
     ]
    },
    {
     "name": "stdout",
     "output_type": "stream",
     "text": [
      "Node 9 aggregate model with [0, 8]\n",
      "Performance of Node 9 after aggregation at round 3\n"
     ]
    },
    {
     "data": {
      "application/vnd.jupyter.widget-view+json": {
       "model_id": "c5077a207e854e969b45c702d20ab47b",
       "version_major": 2,
       "version_minor": 0
      },
      "text/plain": [
       "Testing: 0it [00:00, ?it/s]"
      ]
     },
     "metadata": {},
     "output_type": "display_data"
    },
    {
     "name": "stdout",
     "output_type": "stream",
     "text": [
      "Epoch end: Test, epoch number: 4\n"
     ]
    },
    {
     "data": {
      "text/html": [
       "<pre style=\"white-space:pre;overflow-x:auto;line-height:normal;font-family:Menlo,'DejaVu Sans Mono',consolas,'Courier New',monospace\">┏━━━━━━━━━━━━━━━━━━━━━━━━━━━┳━━━━━━━━━━━━━━━━━━━━━━━━━━━┓\n",
       "┃<span style=\"font-weight: bold\">   Runningstage.testing    </span>┃<span style=\"font-weight: bold\">                           </span>┃\n",
       "┃<span style=\"font-weight: bold\">          metric           </span>┃<span style=\"font-weight: bold\">       DataLoader 0        </span>┃\n",
       "┡━━━━━━━━━━━━━━━━━━━━━━━━━━━╇━━━━━━━━━━━━━━━━━━━━━━━━━━━┩\n",
       "│<span style=\"color: #008080; text-decoration-color: #008080\">       Test/Accuracy       </span>│<span style=\"color: #800080; text-decoration-color: #800080\">    0.9192470908164978     </span>│\n",
       "│<span style=\"color: #008080; text-decoration-color: #008080\">       Test/F1Score        </span>│<span style=\"color: #800080; text-decoration-color: #800080\">    0.9114526510238647     </span>│\n",
       "│<span style=\"color: #008080; text-decoration-color: #008080\">         Test/Loss         </span>│<span style=\"color: #800080; text-decoration-color: #800080\">    0.3166981339454651     </span>│\n",
       "│<span style=\"color: #008080; text-decoration-color: #008080\">      Test/Precision       </span>│<span style=\"color: #800080; text-decoration-color: #800080\">    0.9241479635238647     </span>│\n",
       "│<span style=\"color: #008080; text-decoration-color: #008080\">        Test/Recall        </span>│<span style=\"color: #800080; text-decoration-color: #800080\">    0.9192470908164978     </span>│\n",
       "│<span style=\"color: #008080; text-decoration-color: #008080\">    TestEpoch/Accuracy     </span>│<span style=\"color: #800080; text-decoration-color: #800080\">     0.915075421333313     </span>│\n",
       "│<span style=\"color: #008080; text-decoration-color: #008080\">     TestEpoch/F1Score     </span>│<span style=\"color: #800080; text-decoration-color: #800080\">    0.9151524305343628     </span>│\n",
       "│<span style=\"color: #008080; text-decoration-color: #008080\">    TestEpoch/Precision    </span>│<span style=\"color: #800080; text-decoration-color: #800080\">    0.9223841428756714     </span>│\n",
       "│<span style=\"color: #008080; text-decoration-color: #008080\">     TestEpoch/Recall      </span>│<span style=\"color: #800080; text-decoration-color: #800080\">     0.915075421333313     </span>│\n",
       "└───────────────────────────┴───────────────────────────┘\n",
       "</pre>\n"
      ],
      "text/plain": [
       "┏━━━━━━━━━━━━━━━━━━━━━━━━━━━┳━━━━━━━━━━━━━━━━━━━━━━━━━━━┓\n",
       "┃\u001b[1m \u001b[0m\u001b[1m  Runningstage.testing   \u001b[0m\u001b[1m \u001b[0m┃\u001b[1m                           \u001b[0m┃\n",
       "┃\u001b[1m \u001b[0m\u001b[1m         metric          \u001b[0m\u001b[1m \u001b[0m┃\u001b[1m \u001b[0m\u001b[1m      DataLoader 0       \u001b[0m\u001b[1m \u001b[0m┃\n",
       "┡━━━━━━━━━━━━━━━━━━━━━━━━━━━╇━━━━━━━━━━━━━━━━━━━━━━━━━━━┩\n",
       "│\u001b[36m \u001b[0m\u001b[36m      Test/Accuracy      \u001b[0m\u001b[36m \u001b[0m│\u001b[35m \u001b[0m\u001b[35m   0.9192470908164978    \u001b[0m\u001b[35m \u001b[0m│\n",
       "│\u001b[36m \u001b[0m\u001b[36m      Test/F1Score       \u001b[0m\u001b[36m \u001b[0m│\u001b[35m \u001b[0m\u001b[35m   0.9114526510238647    \u001b[0m\u001b[35m \u001b[0m│\n",
       "│\u001b[36m \u001b[0m\u001b[36m        Test/Loss        \u001b[0m\u001b[36m \u001b[0m│\u001b[35m \u001b[0m\u001b[35m   0.3166981339454651    \u001b[0m\u001b[35m \u001b[0m│\n",
       "│\u001b[36m \u001b[0m\u001b[36m     Test/Precision      \u001b[0m\u001b[36m \u001b[0m│\u001b[35m \u001b[0m\u001b[35m   0.9241479635238647    \u001b[0m\u001b[35m \u001b[0m│\n",
       "│\u001b[36m \u001b[0m\u001b[36m       Test/Recall       \u001b[0m\u001b[36m \u001b[0m│\u001b[35m \u001b[0m\u001b[35m   0.9192470908164978    \u001b[0m\u001b[35m \u001b[0m│\n",
       "│\u001b[36m \u001b[0m\u001b[36m   TestEpoch/Accuracy    \u001b[0m\u001b[36m \u001b[0m│\u001b[35m \u001b[0m\u001b[35m    0.915075421333313    \u001b[0m\u001b[35m \u001b[0m│\n",
       "│\u001b[36m \u001b[0m\u001b[36m    TestEpoch/F1Score    \u001b[0m\u001b[36m \u001b[0m│\u001b[35m \u001b[0m\u001b[35m   0.9151524305343628    \u001b[0m\u001b[35m \u001b[0m│\n",
       "│\u001b[36m \u001b[0m\u001b[36m   TestEpoch/Precision   \u001b[0m\u001b[36m \u001b[0m│\u001b[35m \u001b[0m\u001b[35m   0.9223841428756714    \u001b[0m\u001b[35m \u001b[0m│\n",
       "│\u001b[36m \u001b[0m\u001b[36m    TestEpoch/Recall     \u001b[0m\u001b[36m \u001b[0m│\u001b[35m \u001b[0m\u001b[35m    0.915075421333313    \u001b[0m\u001b[35m \u001b[0m│\n",
       "└───────────────────────────┴───────────────────────────┘\n"
      ]
     },
     "metadata": {},
     "output_type": "display_data"
    },
    {
     "name": "stderr",
     "output_type": "stream",
     "text": [
      "GPU available: True (cuda), used: True\n",
      "TPU available: False, using: 0 TPU cores\n",
      "IPU available: False, using: 0 IPUs\n",
      "HPU available: False, using: 0 HPUs\n",
      "You are using a CUDA device ('NVIDIA GeForce RTX 4070 Ti') that has Tensor Cores. To properly utilize them, you should set `torch.set_float32_matmul_precision('medium' | 'high')` which will trade-off precision for performance. For more details, read https://pytorch.org/docs/stable/generated/torch.set_float32_matmul_precision.html#torch.set_float32_matmul_precision\n",
      "LOCAL_RANK: 0 - CUDA_VISIBLE_DEVICES: [0,1]\n",
      "\n",
      "  | Name          | Type                      | Params | In sizes | Out sizes\n",
      "-----------------------------------------------------------------------------------\n",
      "0 | train_metrics | MetricCollection          | 0      | ?        | ?        \n",
      "1 | val_metrics   | MetricCollection          | 0      | ?        | ?        \n",
      "2 | test_metrics  | MetricCollection          | 0      | ?        | ?        \n",
      "3 | cm            | MulticlassConfusionMatrix | 0      | ?        | ?        \n",
      "4 | criterion     | CrossEntropyLoss          | 0      | ?        | ?        \n",
      "5 | l1            | Linear                    | 200 K  | [1, 784] | [1, 256] \n",
      "6 | l2            | Linear                    | 32.9 K | [1, 256] | [1, 128] \n",
      "7 | l3            | Linear                    | 1.3 K  | [1, 128] | [1, 10]  \n",
      "-----------------------------------------------------------------------------------\n",
      "235 K     Trainable params\n",
      "0         Non-trainable params\n",
      "235 K     Total params\n",
      "0.941     Total estimated model params size (MB)\n"
     ]
    },
    {
     "name": "stdout",
     "output_type": "stream",
     "text": [
      "Epoch end: Validation, epoch number: 8\n",
      "Epoch end: Validation, epoch number: 9\n",
      "Epoch end: Train, epoch number: 6\n",
      "Epoch end: Validation, epoch number: 10\n",
      "Epoch end: Train, epoch number: 7\n"
     ]
    },
    {
     "name": "stderr",
     "output_type": "stream",
     "text": [
      "`Trainer.fit` stopped: `max_epochs=3` reached.\n",
      "You are using a CUDA device ('NVIDIA GeForce RTX 4070 Ti') that has Tensor Cores. To properly utilize them, you should set `torch.set_float32_matmul_precision('medium' | 'high')` which will trade-off precision for performance. For more details, read https://pytorch.org/docs/stable/generated/torch.set_float32_matmul_precision.html#torch.set_float32_matmul_precision\n"
     ]
    },
    {
     "name": "stdout",
     "output_type": "stream",
     "text": [
      "Epoch end: Validation, epoch number: 11\n",
      "Epoch end: Train, epoch number: 8\n",
      "Performance of Node 0 before aggregation at round 4\n"
     ]
    },
    {
     "name": "stderr",
     "output_type": "stream",
     "text": [
      "LOCAL_RANK: 0 - CUDA_VISIBLE_DEVICES: [0,1]\n"
     ]
    },
    {
     "name": "stdout",
     "output_type": "stream",
     "text": [
      "Epoch end: Test, epoch number: 5\n"
     ]
    },
    {
     "data": {
      "text/html": [
       "<pre style=\"white-space:pre;overflow-x:auto;line-height:normal;font-family:Menlo,'DejaVu Sans Mono',consolas,'Courier New',monospace\">┏━━━━━━━━━━━━━━━━━━━━━━━━━━━┳━━━━━━━━━━━━━━━━━━━━━━━━━━━┓\n",
       "┃<span style=\"font-weight: bold\">   Runningstage.testing    </span>┃<span style=\"font-weight: bold\">                           </span>┃\n",
       "┃<span style=\"font-weight: bold\">          metric           </span>┃<span style=\"font-weight: bold\">       DataLoader 0        </span>┃\n",
       "┡━━━━━━━━━━━━━━━━━━━━━━━━━━━╇━━━━━━━━━━━━━━━━━━━━━━━━━━━┩\n",
       "│<span style=\"color: #008080; text-decoration-color: #008080\">       Test/Accuracy       </span>│<span style=\"color: #800080; text-decoration-color: #800080\">     0.917774498462677     </span>│\n",
       "│<span style=\"color: #008080; text-decoration-color: #008080\">       Test/F1Score        </span>│<span style=\"color: #800080; text-decoration-color: #800080\">    0.9164261817932129     </span>│\n",
       "│<span style=\"color: #008080; text-decoration-color: #008080\">         Test/Loss         </span>│<span style=\"color: #800080; text-decoration-color: #800080\">    0.24512127041816711    </span>│\n",
       "│<span style=\"color: #008080; text-decoration-color: #008080\">      Test/Precision       </span>│<span style=\"color: #800080; text-decoration-color: #800080\">    0.9262837767601013     </span>│\n",
       "│<span style=\"color: #008080; text-decoration-color: #008080\">        Test/Recall        </span>│<span style=\"color: #800080; text-decoration-color: #800080\">     0.917774498462677     </span>│\n",
       "│<span style=\"color: #008080; text-decoration-color: #008080\">    TestEpoch/Accuracy     </span>│<span style=\"color: #800080; text-decoration-color: #800080\">    0.9236034154891968     </span>│\n",
       "│<span style=\"color: #008080; text-decoration-color: #008080\">     TestEpoch/F1Score     </span>│<span style=\"color: #800080; text-decoration-color: #800080\">    0.9235901236534119     </span>│\n",
       "│<span style=\"color: #008080; text-decoration-color: #008080\">    TestEpoch/Precision    </span>│<span style=\"color: #800080; text-decoration-color: #800080\">    0.9243327975273132     </span>│\n",
       "│<span style=\"color: #008080; text-decoration-color: #008080\">     TestEpoch/Recall      </span>│<span style=\"color: #800080; text-decoration-color: #800080\">    0.9236034154891968     </span>│\n",
       "└───────────────────────────┴───────────────────────────┘\n",
       "</pre>\n"
      ],
      "text/plain": [
       "┏━━━━━━━━━━━━━━━━━━━━━━━━━━━┳━━━━━━━━━━━━━━━━━━━━━━━━━━━┓\n",
       "┃\u001b[1m \u001b[0m\u001b[1m  Runningstage.testing   \u001b[0m\u001b[1m \u001b[0m┃\u001b[1m                           \u001b[0m┃\n",
       "┃\u001b[1m \u001b[0m\u001b[1m         metric          \u001b[0m\u001b[1m \u001b[0m┃\u001b[1m \u001b[0m\u001b[1m      DataLoader 0       \u001b[0m\u001b[1m \u001b[0m┃\n",
       "┡━━━━━━━━━━━━━━━━━━━━━━━━━━━╇━━━━━━━━━━━━━━━━━━━━━━━━━━━┩\n",
       "│\u001b[36m \u001b[0m\u001b[36m      Test/Accuracy      \u001b[0m\u001b[36m \u001b[0m│\u001b[35m \u001b[0m\u001b[35m    0.917774498462677    \u001b[0m\u001b[35m \u001b[0m│\n",
       "│\u001b[36m \u001b[0m\u001b[36m      Test/F1Score       \u001b[0m\u001b[36m \u001b[0m│\u001b[35m \u001b[0m\u001b[35m   0.9164261817932129    \u001b[0m\u001b[35m \u001b[0m│\n",
       "│\u001b[36m \u001b[0m\u001b[36m        Test/Loss        \u001b[0m\u001b[36m \u001b[0m│\u001b[35m \u001b[0m\u001b[35m   0.24512127041816711   \u001b[0m\u001b[35m \u001b[0m│\n",
       "│\u001b[36m \u001b[0m\u001b[36m     Test/Precision      \u001b[0m\u001b[36m \u001b[0m│\u001b[35m \u001b[0m\u001b[35m   0.9262837767601013    \u001b[0m\u001b[35m \u001b[0m│\n",
       "│\u001b[36m \u001b[0m\u001b[36m       Test/Recall       \u001b[0m\u001b[36m \u001b[0m│\u001b[35m \u001b[0m\u001b[35m    0.917774498462677    \u001b[0m\u001b[35m \u001b[0m│\n",
       "│\u001b[36m \u001b[0m\u001b[36m   TestEpoch/Accuracy    \u001b[0m\u001b[36m \u001b[0m│\u001b[35m \u001b[0m\u001b[35m   0.9236034154891968    \u001b[0m\u001b[35m \u001b[0m│\n",
       "│\u001b[36m \u001b[0m\u001b[36m    TestEpoch/F1Score    \u001b[0m\u001b[36m \u001b[0m│\u001b[35m \u001b[0m\u001b[35m   0.9235901236534119    \u001b[0m\u001b[35m \u001b[0m│\n",
       "│\u001b[36m \u001b[0m\u001b[36m   TestEpoch/Precision   \u001b[0m\u001b[36m \u001b[0m│\u001b[35m \u001b[0m\u001b[35m   0.9243327975273132    \u001b[0m\u001b[35m \u001b[0m│\n",
       "│\u001b[36m \u001b[0m\u001b[36m    TestEpoch/Recall     \u001b[0m\u001b[36m \u001b[0m│\u001b[35m \u001b[0m\u001b[35m   0.9236034154891968    \u001b[0m\u001b[35m \u001b[0m│\n",
       "└───────────────────────────┴───────────────────────────┘\n"
      ]
     },
     "metadata": {},
     "output_type": "display_data"
    },
    {
     "name": "stderr",
     "output_type": "stream",
     "text": [
      "GPU available: True (cuda), used: True\n",
      "TPU available: False, using: 0 TPU cores\n",
      "IPU available: False, using: 0 IPUs\n",
      "HPU available: False, using: 0 HPUs\n",
      "You are using a CUDA device ('NVIDIA GeForce RTX 4070 Ti') that has Tensor Cores. To properly utilize them, you should set `torch.set_float32_matmul_precision('medium' | 'high')` which will trade-off precision for performance. For more details, read https://pytorch.org/docs/stable/generated/torch.set_float32_matmul_precision.html#torch.set_float32_matmul_precision\n",
      "LOCAL_RANK: 0 - CUDA_VISIBLE_DEVICES: [0,1]\n",
      "\n",
      "  | Name          | Type                      | Params | In sizes | Out sizes\n",
      "-----------------------------------------------------------------------------------\n",
      "0 | train_metrics | MetricCollection          | 0      | ?        | ?        \n",
      "1 | val_metrics   | MetricCollection          | 0      | ?        | ?        \n",
      "2 | test_metrics  | MetricCollection          | 0      | ?        | ?        \n",
      "3 | cm            | MulticlassConfusionMatrix | 0      | ?        | ?        \n",
      "4 | criterion     | CrossEntropyLoss          | 0      | ?        | ?        \n",
      "5 | l1            | Linear                    | 200 K  | [1, 784] | [1, 256] \n",
      "6 | l2            | Linear                    | 32.9 K | [1, 256] | [1, 128] \n",
      "7 | l3            | Linear                    | 1.3 K  | [1, 128] | [1, 10]  \n",
      "-----------------------------------------------------------------------------------\n",
      "235 K     Trainable params\n",
      "0         Non-trainable params\n",
      "235 K     Total params\n",
      "0.941     Total estimated model params size (MB)\n"
     ]
    },
    {
     "name": "stdout",
     "output_type": "stream",
     "text": [
      "Epoch end: Validation, epoch number: 8\n",
      "Epoch end: Validation, epoch number: 9\n",
      "Epoch end: Train, epoch number: 6\n",
      "Epoch end: Validation, epoch number: 10\n",
      "Epoch end: Train, epoch number: 7\n"
     ]
    },
    {
     "name": "stderr",
     "output_type": "stream",
     "text": [
      "`Trainer.fit` stopped: `max_epochs=3` reached.\n",
      "You are using a CUDA device ('NVIDIA GeForce RTX 4070 Ti') that has Tensor Cores. To properly utilize them, you should set `torch.set_float32_matmul_precision('medium' | 'high')` which will trade-off precision for performance. For more details, read https://pytorch.org/docs/stable/generated/torch.set_float32_matmul_precision.html#torch.set_float32_matmul_precision\n"
     ]
    },
    {
     "name": "stdout",
     "output_type": "stream",
     "text": [
      "Epoch end: Validation, epoch number: 11\n",
      "Epoch end: Train, epoch number: 8\n",
      "Performance of Node 1 before aggregation at round 4\n"
     ]
    },
    {
     "name": "stderr",
     "output_type": "stream",
     "text": [
      "LOCAL_RANK: 0 - CUDA_VISIBLE_DEVICES: [0,1]\n"
     ]
    },
    {
     "name": "stdout",
     "output_type": "stream",
     "text": [
      "Epoch end: Test, epoch number: 5\n"
     ]
    },
    {
     "data": {
      "text/html": [
       "<pre style=\"white-space:pre;overflow-x:auto;line-height:normal;font-family:Menlo,'DejaVu Sans Mono',consolas,'Courier New',monospace\">┏━━━━━━━━━━━━━━━━━━━━━━━━━━━┳━━━━━━━━━━━━━━━━━━━━━━━━━━━┓\n",
       "┃<span style=\"font-weight: bold\">   Runningstage.testing    </span>┃<span style=\"font-weight: bold\">                           </span>┃\n",
       "┃<span style=\"font-weight: bold\">          metric           </span>┃<span style=\"font-weight: bold\">       DataLoader 0        </span>┃\n",
       "┡━━━━━━━━━━━━━━━━━━━━━━━━━━━╇━━━━━━━━━━━━━━━━━━━━━━━━━━━┩\n",
       "│<span style=\"color: #008080; text-decoration-color: #008080\">       Test/Accuracy       </span>│<span style=\"color: #800080; text-decoration-color: #800080\">    0.9267628788948059     </span>│\n",
       "│<span style=\"color: #008080; text-decoration-color: #008080\">       Test/F1Score        </span>│<span style=\"color: #800080; text-decoration-color: #800080\">    0.9209757447242737     </span>│\n",
       "│<span style=\"color: #008080; text-decoration-color: #008080\">         Test/Loss         </span>│<span style=\"color: #800080; text-decoration-color: #800080\">    0.2187388837337494     </span>│\n",
       "│<span style=\"color: #008080; text-decoration-color: #008080\">      Test/Precision       </span>│<span style=\"color: #800080; text-decoration-color: #800080\">    0.9300541281700134     </span>│\n",
       "│<span style=\"color: #008080; text-decoration-color: #008080\">        Test/Recall        </span>│<span style=\"color: #800080; text-decoration-color: #800080\">    0.9267628788948059     </span>│\n",
       "│<span style=\"color: #008080; text-decoration-color: #008080\">    TestEpoch/Accuracy     </span>│<span style=\"color: #800080; text-decoration-color: #800080\">    0.9297322034835815     </span>│\n",
       "│<span style=\"color: #008080; text-decoration-color: #008080\">     TestEpoch/F1Score     </span>│<span style=\"color: #800080; text-decoration-color: #800080\">    0.9291654825210571     </span>│\n",
       "│<span style=\"color: #008080; text-decoration-color: #008080\">    TestEpoch/Precision    </span>│<span style=\"color: #800080; text-decoration-color: #800080\">    0.9318234324455261     </span>│\n",
       "│<span style=\"color: #008080; text-decoration-color: #008080\">     TestEpoch/Recall      </span>│<span style=\"color: #800080; text-decoration-color: #800080\">    0.9297322034835815     </span>│\n",
       "└───────────────────────────┴───────────────────────────┘\n",
       "</pre>\n"
      ],
      "text/plain": [
       "┏━━━━━━━━━━━━━━━━━━━━━━━━━━━┳━━━━━━━━━━━━━━━━━━━━━━━━━━━┓\n",
       "┃\u001b[1m \u001b[0m\u001b[1m  Runningstage.testing   \u001b[0m\u001b[1m \u001b[0m┃\u001b[1m                           \u001b[0m┃\n",
       "┃\u001b[1m \u001b[0m\u001b[1m         metric          \u001b[0m\u001b[1m \u001b[0m┃\u001b[1m \u001b[0m\u001b[1m      DataLoader 0       \u001b[0m\u001b[1m \u001b[0m┃\n",
       "┡━━━━━━━━━━━━━━━━━━━━━━━━━━━╇━━━━━━━━━━━━━━━━━━━━━━━━━━━┩\n",
       "│\u001b[36m \u001b[0m\u001b[36m      Test/Accuracy      \u001b[0m\u001b[36m \u001b[0m│\u001b[35m \u001b[0m\u001b[35m   0.9267628788948059    \u001b[0m\u001b[35m \u001b[0m│\n",
       "│\u001b[36m \u001b[0m\u001b[36m      Test/F1Score       \u001b[0m\u001b[36m \u001b[0m│\u001b[35m \u001b[0m\u001b[35m   0.9209757447242737    \u001b[0m\u001b[35m \u001b[0m│\n",
       "│\u001b[36m \u001b[0m\u001b[36m        Test/Loss        \u001b[0m\u001b[36m \u001b[0m│\u001b[35m \u001b[0m\u001b[35m   0.2187388837337494    \u001b[0m\u001b[35m \u001b[0m│\n",
       "│\u001b[36m \u001b[0m\u001b[36m     Test/Precision      \u001b[0m\u001b[36m \u001b[0m│\u001b[35m \u001b[0m\u001b[35m   0.9300541281700134    \u001b[0m\u001b[35m \u001b[0m│\n",
       "│\u001b[36m \u001b[0m\u001b[36m       Test/Recall       \u001b[0m\u001b[36m \u001b[0m│\u001b[35m \u001b[0m\u001b[35m   0.9267628788948059    \u001b[0m\u001b[35m \u001b[0m│\n",
       "│\u001b[36m \u001b[0m\u001b[36m   TestEpoch/Accuracy    \u001b[0m\u001b[36m \u001b[0m│\u001b[35m \u001b[0m\u001b[35m   0.9297322034835815    \u001b[0m\u001b[35m \u001b[0m│\n",
       "│\u001b[36m \u001b[0m\u001b[36m    TestEpoch/F1Score    \u001b[0m\u001b[36m \u001b[0m│\u001b[35m \u001b[0m\u001b[35m   0.9291654825210571    \u001b[0m\u001b[35m \u001b[0m│\n",
       "│\u001b[36m \u001b[0m\u001b[36m   TestEpoch/Precision   \u001b[0m\u001b[36m \u001b[0m│\u001b[35m \u001b[0m\u001b[35m   0.9318234324455261    \u001b[0m\u001b[35m \u001b[0m│\n",
       "│\u001b[36m \u001b[0m\u001b[36m    TestEpoch/Recall     \u001b[0m\u001b[36m \u001b[0m│\u001b[35m \u001b[0m\u001b[35m   0.9297322034835815    \u001b[0m\u001b[35m \u001b[0m│\n",
       "└───────────────────────────┴───────────────────────────┘\n"
      ]
     },
     "metadata": {},
     "output_type": "display_data"
    },
    {
     "name": "stderr",
     "output_type": "stream",
     "text": [
      "GPU available: True (cuda), used: True\n",
      "TPU available: False, using: 0 TPU cores\n",
      "IPU available: False, using: 0 IPUs\n",
      "HPU available: False, using: 0 HPUs\n",
      "You are using a CUDA device ('NVIDIA GeForce RTX 4070 Ti') that has Tensor Cores. To properly utilize them, you should set `torch.set_float32_matmul_precision('medium' | 'high')` which will trade-off precision for performance. For more details, read https://pytorch.org/docs/stable/generated/torch.set_float32_matmul_precision.html#torch.set_float32_matmul_precision\n",
      "LOCAL_RANK: 0 - CUDA_VISIBLE_DEVICES: [0,1]\n",
      "\n",
      "  | Name          | Type                      | Params | In sizes | Out sizes\n",
      "-----------------------------------------------------------------------------------\n",
      "0 | train_metrics | MetricCollection          | 0      | ?        | ?        \n",
      "1 | val_metrics   | MetricCollection          | 0      | ?        | ?        \n",
      "2 | test_metrics  | MetricCollection          | 0      | ?        | ?        \n",
      "3 | cm            | MulticlassConfusionMatrix | 0      | ?        | ?        \n",
      "4 | criterion     | CrossEntropyLoss          | 0      | ?        | ?        \n",
      "5 | l1            | Linear                    | 200 K  | [1, 784] | [1, 256] \n",
      "6 | l2            | Linear                    | 32.9 K | [1, 256] | [1, 128] \n",
      "7 | l3            | Linear                    | 1.3 K  | [1, 128] | [1, 10]  \n",
      "-----------------------------------------------------------------------------------\n",
      "235 K     Trainable params\n",
      "0         Non-trainable params\n",
      "235 K     Total params\n",
      "0.941     Total estimated model params size (MB)\n"
     ]
    },
    {
     "name": "stdout",
     "output_type": "stream",
     "text": [
      "Epoch end: Validation, epoch number: 8\n",
      "Epoch end: Validation, epoch number: 9\n",
      "Epoch end: Train, epoch number: 6\n",
      "Epoch end: Validation, epoch number: 10\n",
      "Epoch end: Train, epoch number: 7\n",
      "Epoch end: Validation, epoch number: 11\n",
      "Epoch end: Train, epoch number: 8\n"
     ]
    },
    {
     "name": "stderr",
     "output_type": "stream",
     "text": [
      "`Trainer.fit` stopped: `max_epochs=3` reached.\n",
      "You are using a CUDA device ('NVIDIA GeForce RTX 4070 Ti') that has Tensor Cores. To properly utilize them, you should set `torch.set_float32_matmul_precision('medium' | 'high')` which will trade-off precision for performance. For more details, read https://pytorch.org/docs/stable/generated/torch.set_float32_matmul_precision.html#torch.set_float32_matmul_precision\n",
      "LOCAL_RANK: 0 - CUDA_VISIBLE_DEVICES: [0,1]\n"
     ]
    },
    {
     "name": "stdout",
     "output_type": "stream",
     "text": [
      "Performance of Node 2 before aggregation at round 4\n",
      "Epoch end: Test, epoch number: 5\n"
     ]
    },
    {
     "data": {
      "text/html": [
       "<pre style=\"white-space:pre;overflow-x:auto;line-height:normal;font-family:Menlo,'DejaVu Sans Mono',consolas,'Courier New',monospace\">┏━━━━━━━━━━━━━━━━━━━━━━━━━━━┳━━━━━━━━━━━━━━━━━━━━━━━━━━━┓\n",
       "┃<span style=\"font-weight: bold\">   Runningstage.testing    </span>┃<span style=\"font-weight: bold\">                           </span>┃\n",
       "┃<span style=\"font-weight: bold\">          metric           </span>┃<span style=\"font-weight: bold\">       DataLoader 0        </span>┃\n",
       "┡━━━━━━━━━━━━━━━━━━━━━━━━━━━╇━━━━━━━━━━━━━━━━━━━━━━━━━━━┩\n",
       "│<span style=\"color: #008080; text-decoration-color: #008080\">       Test/Accuracy       </span>│<span style=\"color: #800080; text-decoration-color: #800080\">     0.951870858669281     </span>│\n",
       "│<span style=\"color: #008080; text-decoration-color: #008080\">       Test/F1Score        </span>│<span style=\"color: #800080; text-decoration-color: #800080\">    0.9470792412757874     </span>│\n",
       "│<span style=\"color: #008080; text-decoration-color: #008080\">         Test/Loss         </span>│<span style=\"color: #800080; text-decoration-color: #800080\">    0.18886849284172058    </span>│\n",
       "│<span style=\"color: #008080; text-decoration-color: #008080\">      Test/Precision       </span>│<span style=\"color: #800080; text-decoration-color: #800080\">    0.9515491127967834     </span>│\n",
       "│<span style=\"color: #008080; text-decoration-color: #008080\">        Test/Recall        </span>│<span style=\"color: #800080; text-decoration-color: #800080\">     0.951870858669281     </span>│\n",
       "│<span style=\"color: #008080; text-decoration-color: #008080\">    TestEpoch/Accuracy     </span>│<span style=\"color: #800080; text-decoration-color: #800080\">    0.9497978091239929     </span>│\n",
       "│<span style=\"color: #008080; text-decoration-color: #008080\">     TestEpoch/F1Score     </span>│<span style=\"color: #800080; text-decoration-color: #800080\">     0.949630618095398     </span>│\n",
       "│<span style=\"color: #008080; text-decoration-color: #008080\">    TestEpoch/Precision    </span>│<span style=\"color: #800080; text-decoration-color: #800080\">    0.9505674839019775     </span>│\n",
       "│<span style=\"color: #008080; text-decoration-color: #008080\">     TestEpoch/Recall      </span>│<span style=\"color: #800080; text-decoration-color: #800080\">    0.9497978091239929     </span>│\n",
       "└───────────────────────────┴───────────────────────────┘\n",
       "</pre>\n"
      ],
      "text/plain": [
       "┏━━━━━━━━━━━━━━━━━━━━━━━━━━━┳━━━━━━━━━━━━━━━━━━━━━━━━━━━┓\n",
       "┃\u001b[1m \u001b[0m\u001b[1m  Runningstage.testing   \u001b[0m\u001b[1m \u001b[0m┃\u001b[1m                           \u001b[0m┃\n",
       "┃\u001b[1m \u001b[0m\u001b[1m         metric          \u001b[0m\u001b[1m \u001b[0m┃\u001b[1m \u001b[0m\u001b[1m      DataLoader 0       \u001b[0m\u001b[1m \u001b[0m┃\n",
       "┡━━━━━━━━━━━━━━━━━━━━━━━━━━━╇━━━━━━━━━━━━━━━━━━━━━━━━━━━┩\n",
       "│\u001b[36m \u001b[0m\u001b[36m      Test/Accuracy      \u001b[0m\u001b[36m \u001b[0m│\u001b[35m \u001b[0m\u001b[35m    0.951870858669281    \u001b[0m\u001b[35m \u001b[0m│\n",
       "│\u001b[36m \u001b[0m\u001b[36m      Test/F1Score       \u001b[0m\u001b[36m \u001b[0m│\u001b[35m \u001b[0m\u001b[35m   0.9470792412757874    \u001b[0m\u001b[35m \u001b[0m│\n",
       "│\u001b[36m \u001b[0m\u001b[36m        Test/Loss        \u001b[0m\u001b[36m \u001b[0m│\u001b[35m \u001b[0m\u001b[35m   0.18886849284172058   \u001b[0m\u001b[35m \u001b[0m│\n",
       "│\u001b[36m \u001b[0m\u001b[36m     Test/Precision      \u001b[0m\u001b[36m \u001b[0m│\u001b[35m \u001b[0m\u001b[35m   0.9515491127967834    \u001b[0m\u001b[35m \u001b[0m│\n",
       "│\u001b[36m \u001b[0m\u001b[36m       Test/Recall       \u001b[0m\u001b[36m \u001b[0m│\u001b[35m \u001b[0m\u001b[35m    0.951870858669281    \u001b[0m\u001b[35m \u001b[0m│\n",
       "│\u001b[36m \u001b[0m\u001b[36m   TestEpoch/Accuracy    \u001b[0m\u001b[36m \u001b[0m│\u001b[35m \u001b[0m\u001b[35m   0.9497978091239929    \u001b[0m\u001b[35m \u001b[0m│\n",
       "│\u001b[36m \u001b[0m\u001b[36m    TestEpoch/F1Score    \u001b[0m\u001b[36m \u001b[0m│\u001b[35m \u001b[0m\u001b[35m    0.949630618095398    \u001b[0m\u001b[35m \u001b[0m│\n",
       "│\u001b[36m \u001b[0m\u001b[36m   TestEpoch/Precision   \u001b[0m\u001b[36m \u001b[0m│\u001b[35m \u001b[0m\u001b[35m   0.9505674839019775    \u001b[0m\u001b[35m \u001b[0m│\n",
       "│\u001b[36m \u001b[0m\u001b[36m    TestEpoch/Recall     \u001b[0m\u001b[36m \u001b[0m│\u001b[35m \u001b[0m\u001b[35m   0.9497978091239929    \u001b[0m\u001b[35m \u001b[0m│\n",
       "└───────────────────────────┴───────────────────────────┘\n"
      ]
     },
     "metadata": {},
     "output_type": "display_data"
    },
    {
     "name": "stderr",
     "output_type": "stream",
     "text": [
      "GPU available: True (cuda), used: True\n",
      "TPU available: False, using: 0 TPU cores\n",
      "IPU available: False, using: 0 IPUs\n",
      "HPU available: False, using: 0 HPUs\n",
      "You are using a CUDA device ('NVIDIA GeForce RTX 4070 Ti') that has Tensor Cores. To properly utilize them, you should set `torch.set_float32_matmul_precision('medium' | 'high')` which will trade-off precision for performance. For more details, read https://pytorch.org/docs/stable/generated/torch.set_float32_matmul_precision.html#torch.set_float32_matmul_precision\n",
      "LOCAL_RANK: 0 - CUDA_VISIBLE_DEVICES: [0,1]\n",
      "\n",
      "  | Name          | Type                      | Params | In sizes | Out sizes\n",
      "-----------------------------------------------------------------------------------\n",
      "0 | train_metrics | MetricCollection          | 0      | ?        | ?        \n",
      "1 | val_metrics   | MetricCollection          | 0      | ?        | ?        \n",
      "2 | test_metrics  | MetricCollection          | 0      | ?        | ?        \n",
      "3 | cm            | MulticlassConfusionMatrix | 0      | ?        | ?        \n",
      "4 | criterion     | CrossEntropyLoss          | 0      | ?        | ?        \n",
      "5 | l1            | Linear                    | 200 K  | [1, 784] | [1, 256] \n",
      "6 | l2            | Linear                    | 32.9 K | [1, 256] | [1, 128] \n",
      "7 | l3            | Linear                    | 1.3 K  | [1, 128] | [1, 10]  \n",
      "-----------------------------------------------------------------------------------\n",
      "235 K     Trainable params\n",
      "0         Non-trainable params\n",
      "235 K     Total params\n",
      "0.941     Total estimated model params size (MB)\n"
     ]
    },
    {
     "name": "stdout",
     "output_type": "stream",
     "text": [
      "Epoch end: Validation, epoch number: 8\n",
      "Epoch end: Validation, epoch number: 9\n",
      "Epoch end: Train, epoch number: 6\n",
      "Epoch end: Validation, epoch number: 10\n",
      "Epoch end: Train, epoch number: 7\n"
     ]
    },
    {
     "name": "stderr",
     "output_type": "stream",
     "text": [
      "`Trainer.fit` stopped: `max_epochs=3` reached.\n",
      "You are using a CUDA device ('NVIDIA GeForce RTX 4070 Ti') that has Tensor Cores. To properly utilize them, you should set `torch.set_float32_matmul_precision('medium' | 'high')` which will trade-off precision for performance. For more details, read https://pytorch.org/docs/stable/generated/torch.set_float32_matmul_precision.html#torch.set_float32_matmul_precision\n"
     ]
    },
    {
     "name": "stdout",
     "output_type": "stream",
     "text": [
      "Epoch end: Validation, epoch number: 11\n",
      "Epoch end: Train, epoch number: 8\n",
      "Performance of Node 3 before aggregation at round 4\n"
     ]
    },
    {
     "name": "stderr",
     "output_type": "stream",
     "text": [
      "LOCAL_RANK: 0 - CUDA_VISIBLE_DEVICES: [0,1]\n"
     ]
    },
    {
     "name": "stdout",
     "output_type": "stream",
     "text": [
      "Epoch end: Test, epoch number: 5\n"
     ]
    },
    {
     "data": {
      "text/html": [
       "<pre style=\"white-space:pre;overflow-x:auto;line-height:normal;font-family:Menlo,'DejaVu Sans Mono',consolas,'Courier New',monospace\">┏━━━━━━━━━━━━━━━━━━━━━━━━━━━┳━━━━━━━━━━━━━━━━━━━━━━━━━━━┓\n",
       "┃<span style=\"font-weight: bold\">   Runningstage.testing    </span>┃<span style=\"font-weight: bold\">                           </span>┃\n",
       "┃<span style=\"font-weight: bold\">          metric           </span>┃<span style=\"font-weight: bold\">       DataLoader 0        </span>┃\n",
       "┡━━━━━━━━━━━━━━━━━━━━━━━━━━━╇━━━━━━━━━━━━━━━━━━━━━━━━━━━┩\n",
       "│<span style=\"color: #008080; text-decoration-color: #008080\">       Test/Accuracy       </span>│<span style=\"color: #800080; text-decoration-color: #800080\">    0.9380209445953369     </span>│\n",
       "│<span style=\"color: #008080; text-decoration-color: #008080\">       Test/F1Score        </span>│<span style=\"color: #800080; text-decoration-color: #800080\">     0.933728814125061     </span>│\n",
       "│<span style=\"color: #008080; text-decoration-color: #008080\">         Test/Loss         </span>│<span style=\"color: #800080; text-decoration-color: #800080\">    0.2154555767774582     </span>│\n",
       "│<span style=\"color: #008080; text-decoration-color: #008080\">      Test/Precision       </span>│<span style=\"color: #800080; text-decoration-color: #800080\">     0.944472074508667     </span>│\n",
       "│<span style=\"color: #008080; text-decoration-color: #008080\">        Test/Recall        </span>│<span style=\"color: #800080; text-decoration-color: #800080\">    0.9380209445953369     </span>│\n",
       "│<span style=\"color: #008080; text-decoration-color: #008080\">    TestEpoch/Accuracy     </span>│<span style=\"color: #800080; text-decoration-color: #800080\">    0.9332023859024048     </span>│\n",
       "│<span style=\"color: #008080; text-decoration-color: #008080\">     TestEpoch/F1Score     </span>│<span style=\"color: #800080; text-decoration-color: #800080\">    0.9351584911346436     </span>│\n",
       "│<span style=\"color: #008080; text-decoration-color: #008080\">    TestEpoch/Precision    </span>│<span style=\"color: #800080; text-decoration-color: #800080\">     0.939750611782074     </span>│\n",
       "│<span style=\"color: #008080; text-decoration-color: #008080\">     TestEpoch/Recall      </span>│<span style=\"color: #800080; text-decoration-color: #800080\">    0.9332023859024048     </span>│\n",
       "└───────────────────────────┴───────────────────────────┘\n",
       "</pre>\n"
      ],
      "text/plain": [
       "┏━━━━━━━━━━━━━━━━━━━━━━━━━━━┳━━━━━━━━━━━━━━━━━━━━━━━━━━━┓\n",
       "┃\u001b[1m \u001b[0m\u001b[1m  Runningstage.testing   \u001b[0m\u001b[1m \u001b[0m┃\u001b[1m                           \u001b[0m┃\n",
       "┃\u001b[1m \u001b[0m\u001b[1m         metric          \u001b[0m\u001b[1m \u001b[0m┃\u001b[1m \u001b[0m\u001b[1m      DataLoader 0       \u001b[0m\u001b[1m \u001b[0m┃\n",
       "┡━━━━━━━━━━━━━━━━━━━━━━━━━━━╇━━━━━━━━━━━━━━━━━━━━━━━━━━━┩\n",
       "│\u001b[36m \u001b[0m\u001b[36m      Test/Accuracy      \u001b[0m\u001b[36m \u001b[0m│\u001b[35m \u001b[0m\u001b[35m   0.9380209445953369    \u001b[0m\u001b[35m \u001b[0m│\n",
       "│\u001b[36m \u001b[0m\u001b[36m      Test/F1Score       \u001b[0m\u001b[36m \u001b[0m│\u001b[35m \u001b[0m\u001b[35m    0.933728814125061    \u001b[0m\u001b[35m \u001b[0m│\n",
       "│\u001b[36m \u001b[0m\u001b[36m        Test/Loss        \u001b[0m\u001b[36m \u001b[0m│\u001b[35m \u001b[0m\u001b[35m   0.2154555767774582    \u001b[0m\u001b[35m \u001b[0m│\n",
       "│\u001b[36m \u001b[0m\u001b[36m     Test/Precision      \u001b[0m\u001b[36m \u001b[0m│\u001b[35m \u001b[0m\u001b[35m    0.944472074508667    \u001b[0m\u001b[35m \u001b[0m│\n",
       "│\u001b[36m \u001b[0m\u001b[36m       Test/Recall       \u001b[0m\u001b[36m \u001b[0m│\u001b[35m \u001b[0m\u001b[35m   0.9380209445953369    \u001b[0m\u001b[35m \u001b[0m│\n",
       "│\u001b[36m \u001b[0m\u001b[36m   TestEpoch/Accuracy    \u001b[0m\u001b[36m \u001b[0m│\u001b[35m \u001b[0m\u001b[35m   0.9332023859024048    \u001b[0m\u001b[35m \u001b[0m│\n",
       "│\u001b[36m \u001b[0m\u001b[36m    TestEpoch/F1Score    \u001b[0m\u001b[36m \u001b[0m│\u001b[35m \u001b[0m\u001b[35m   0.9351584911346436    \u001b[0m\u001b[35m \u001b[0m│\n",
       "│\u001b[36m \u001b[0m\u001b[36m   TestEpoch/Precision   \u001b[0m\u001b[36m \u001b[0m│\u001b[35m \u001b[0m\u001b[35m    0.939750611782074    \u001b[0m\u001b[35m \u001b[0m│\n",
       "│\u001b[36m \u001b[0m\u001b[36m    TestEpoch/Recall     \u001b[0m\u001b[36m \u001b[0m│\u001b[35m \u001b[0m\u001b[35m   0.9332023859024048    \u001b[0m\u001b[35m \u001b[0m│\n",
       "└───────────────────────────┴───────────────────────────┘\n"
      ]
     },
     "metadata": {},
     "output_type": "display_data"
    },
    {
     "name": "stderr",
     "output_type": "stream",
     "text": [
      "GPU available: True (cuda), used: True\n",
      "TPU available: False, using: 0 TPU cores\n",
      "IPU available: False, using: 0 IPUs\n",
      "HPU available: False, using: 0 HPUs\n",
      "You are using a CUDA device ('NVIDIA GeForce RTX 4070 Ti') that has Tensor Cores. To properly utilize them, you should set `torch.set_float32_matmul_precision('medium' | 'high')` which will trade-off precision for performance. For more details, read https://pytorch.org/docs/stable/generated/torch.set_float32_matmul_precision.html#torch.set_float32_matmul_precision\n",
      "LOCAL_RANK: 0 - CUDA_VISIBLE_DEVICES: [0,1]\n",
      "\n",
      "  | Name          | Type                      | Params | In sizes | Out sizes\n",
      "-----------------------------------------------------------------------------------\n",
      "0 | train_metrics | MetricCollection          | 0      | ?        | ?        \n",
      "1 | val_metrics   | MetricCollection          | 0      | ?        | ?        \n",
      "2 | test_metrics  | MetricCollection          | 0      | ?        | ?        \n",
      "3 | cm            | MulticlassConfusionMatrix | 0      | ?        | ?        \n",
      "4 | criterion     | CrossEntropyLoss          | 0      | ?        | ?        \n",
      "5 | l1            | Linear                    | 200 K  | [1, 784] | [1, 256] \n",
      "6 | l2            | Linear                    | 32.9 K | [1, 256] | [1, 128] \n",
      "7 | l3            | Linear                    | 1.3 K  | [1, 128] | [1, 10]  \n",
      "-----------------------------------------------------------------------------------\n",
      "235 K     Trainable params\n",
      "0         Non-trainable params\n",
      "235 K     Total params\n",
      "0.941     Total estimated model params size (MB)\n"
     ]
    },
    {
     "name": "stdout",
     "output_type": "stream",
     "text": [
      "Epoch end: Validation, epoch number: 8\n",
      "Epoch end: Validation, epoch number: 9\n",
      "Epoch end: Train, epoch number: 6\n",
      "Epoch end: Validation, epoch number: 10\n",
      "Epoch end: Train, epoch number: 7\n"
     ]
    },
    {
     "name": "stderr",
     "output_type": "stream",
     "text": [
      "`Trainer.fit` stopped: `max_epochs=3` reached.\n",
      "You are using a CUDA device ('NVIDIA GeForce RTX 4070 Ti') that has Tensor Cores. To properly utilize them, you should set `torch.set_float32_matmul_precision('medium' | 'high')` which will trade-off precision for performance. For more details, read https://pytorch.org/docs/stable/generated/torch.set_float32_matmul_precision.html#torch.set_float32_matmul_precision\n"
     ]
    },
    {
     "name": "stdout",
     "output_type": "stream",
     "text": [
      "Epoch end: Validation, epoch number: 11\n",
      "Epoch end: Train, epoch number: 8\n",
      "Performance of Node 4 before aggregation at round 4\n"
     ]
    },
    {
     "name": "stderr",
     "output_type": "stream",
     "text": [
      "LOCAL_RANK: 0 - CUDA_VISIBLE_DEVICES: [0,1]\n"
     ]
    },
    {
     "name": "stdout",
     "output_type": "stream",
     "text": [
      "Epoch end: Test, epoch number: 5\n"
     ]
    },
    {
     "data": {
      "text/html": [
       "<pre style=\"white-space:pre;overflow-x:auto;line-height:normal;font-family:Menlo,'DejaVu Sans Mono',consolas,'Courier New',monospace\">┏━━━━━━━━━━━━━━━━━━━━━━━━━━━┳━━━━━━━━━━━━━━━━━━━━━━━━━━━┓\n",
       "┃<span style=\"font-weight: bold\">   Runningstage.testing    </span>┃<span style=\"font-weight: bold\">                           </span>┃\n",
       "┃<span style=\"font-weight: bold\">          metric           </span>┃<span style=\"font-weight: bold\">       DataLoader 0        </span>┃\n",
       "┡━━━━━━━━━━━━━━━━━━━━━━━━━━━╇━━━━━━━━━━━━━━━━━━━━━━━━━━━┩\n",
       "│<span style=\"color: #008080; text-decoration-color: #008080\">       Test/Accuracy       </span>│<span style=\"color: #800080; text-decoration-color: #800080\">    0.9277045726776123     </span>│\n",
       "│<span style=\"color: #008080; text-decoration-color: #008080\">       Test/F1Score        </span>│<span style=\"color: #800080; text-decoration-color: #800080\">    0.9215251803398132     </span>│\n",
       "│<span style=\"color: #008080; text-decoration-color: #008080\">         Test/Loss         </span>│<span style=\"color: #800080; text-decoration-color: #800080\">    0.25049710273742676    </span>│\n",
       "│<span style=\"color: #008080; text-decoration-color: #008080\">      Test/Precision       </span>│<span style=\"color: #800080; text-decoration-color: #800080\">     0.933688223361969     </span>│\n",
       "│<span style=\"color: #008080; text-decoration-color: #008080\">        Test/Recall        </span>│<span style=\"color: #800080; text-decoration-color: #800080\">    0.9277045726776123     </span>│\n",
       "│<span style=\"color: #008080; text-decoration-color: #008080\">    TestEpoch/Accuracy     </span>│<span style=\"color: #800080; text-decoration-color: #800080\">    0.9327273964881897     </span>│\n",
       "│<span style=\"color: #008080; text-decoration-color: #008080\">     TestEpoch/F1Score     </span>│<span style=\"color: #800080; text-decoration-color: #800080\">    0.9332354068756104     </span>│\n",
       "│<span style=\"color: #008080; text-decoration-color: #008080\">    TestEpoch/Precision    </span>│<span style=\"color: #800080; text-decoration-color: #800080\">    0.9357969760894775     </span>│\n",
       "│<span style=\"color: #008080; text-decoration-color: #008080\">     TestEpoch/Recall      </span>│<span style=\"color: #800080; text-decoration-color: #800080\">    0.9327273964881897     </span>│\n",
       "└───────────────────────────┴───────────────────────────┘\n",
       "</pre>\n"
      ],
      "text/plain": [
       "┏━━━━━━━━━━━━━━━━━━━━━━━━━━━┳━━━━━━━━━━━━━━━━━━━━━━━━━━━┓\n",
       "┃\u001b[1m \u001b[0m\u001b[1m  Runningstage.testing   \u001b[0m\u001b[1m \u001b[0m┃\u001b[1m                           \u001b[0m┃\n",
       "┃\u001b[1m \u001b[0m\u001b[1m         metric          \u001b[0m\u001b[1m \u001b[0m┃\u001b[1m \u001b[0m\u001b[1m      DataLoader 0       \u001b[0m\u001b[1m \u001b[0m┃\n",
       "┡━━━━━━━━━━━━━━━━━━━━━━━━━━━╇━━━━━━━━━━━━━━━━━━━━━━━━━━━┩\n",
       "│\u001b[36m \u001b[0m\u001b[36m      Test/Accuracy      \u001b[0m\u001b[36m \u001b[0m│\u001b[35m \u001b[0m\u001b[35m   0.9277045726776123    \u001b[0m\u001b[35m \u001b[0m│\n",
       "│\u001b[36m \u001b[0m\u001b[36m      Test/F1Score       \u001b[0m\u001b[36m \u001b[0m│\u001b[35m \u001b[0m\u001b[35m   0.9215251803398132    \u001b[0m\u001b[35m \u001b[0m│\n",
       "│\u001b[36m \u001b[0m\u001b[36m        Test/Loss        \u001b[0m\u001b[36m \u001b[0m│\u001b[35m \u001b[0m\u001b[35m   0.25049710273742676   \u001b[0m\u001b[35m \u001b[0m│\n",
       "│\u001b[36m \u001b[0m\u001b[36m     Test/Precision      \u001b[0m\u001b[36m \u001b[0m│\u001b[35m \u001b[0m\u001b[35m    0.933688223361969    \u001b[0m\u001b[35m \u001b[0m│\n",
       "│\u001b[36m \u001b[0m\u001b[36m       Test/Recall       \u001b[0m\u001b[36m \u001b[0m│\u001b[35m \u001b[0m\u001b[35m   0.9277045726776123    \u001b[0m\u001b[35m \u001b[0m│\n",
       "│\u001b[36m \u001b[0m\u001b[36m   TestEpoch/Accuracy    \u001b[0m\u001b[36m \u001b[0m│\u001b[35m \u001b[0m\u001b[35m   0.9327273964881897    \u001b[0m\u001b[35m \u001b[0m│\n",
       "│\u001b[36m \u001b[0m\u001b[36m    TestEpoch/F1Score    \u001b[0m\u001b[36m \u001b[0m│\u001b[35m \u001b[0m\u001b[35m   0.9332354068756104    \u001b[0m\u001b[35m \u001b[0m│\n",
       "│\u001b[36m \u001b[0m\u001b[36m   TestEpoch/Precision   \u001b[0m\u001b[36m \u001b[0m│\u001b[35m \u001b[0m\u001b[35m   0.9357969760894775    \u001b[0m\u001b[35m \u001b[0m│\n",
       "│\u001b[36m \u001b[0m\u001b[36m    TestEpoch/Recall     \u001b[0m\u001b[36m \u001b[0m│\u001b[35m \u001b[0m\u001b[35m   0.9327273964881897    \u001b[0m\u001b[35m \u001b[0m│\n",
       "└───────────────────────────┴───────────────────────────┘\n"
      ]
     },
     "metadata": {},
     "output_type": "display_data"
    },
    {
     "name": "stderr",
     "output_type": "stream",
     "text": [
      "GPU available: True (cuda), used: True\n",
      "TPU available: False, using: 0 TPU cores\n",
      "IPU available: False, using: 0 IPUs\n",
      "HPU available: False, using: 0 HPUs\n",
      "You are using a CUDA device ('NVIDIA GeForce RTX 4070 Ti') that has Tensor Cores. To properly utilize them, you should set `torch.set_float32_matmul_precision('medium' | 'high')` which will trade-off precision for performance. For more details, read https://pytorch.org/docs/stable/generated/torch.set_float32_matmul_precision.html#torch.set_float32_matmul_precision\n",
      "LOCAL_RANK: 0 - CUDA_VISIBLE_DEVICES: [0,1]\n",
      "\n",
      "  | Name          | Type                      | Params | In sizes | Out sizes\n",
      "-----------------------------------------------------------------------------------\n",
      "0 | train_metrics | MetricCollection          | 0      | ?        | ?        \n",
      "1 | val_metrics   | MetricCollection          | 0      | ?        | ?        \n",
      "2 | test_metrics  | MetricCollection          | 0      | ?        | ?        \n",
      "3 | cm            | MulticlassConfusionMatrix | 0      | ?        | ?        \n",
      "4 | criterion     | CrossEntropyLoss          | 0      | ?        | ?        \n",
      "5 | l1            | Linear                    | 200 K  | [1, 784] | [1, 256] \n",
      "6 | l2            | Linear                    | 32.9 K | [1, 256] | [1, 128] \n",
      "7 | l3            | Linear                    | 1.3 K  | [1, 128] | [1, 10]  \n",
      "-----------------------------------------------------------------------------------\n",
      "235 K     Trainable params\n",
      "0         Non-trainable params\n",
      "235 K     Total params\n",
      "0.941     Total estimated model params size (MB)\n"
     ]
    },
    {
     "name": "stdout",
     "output_type": "stream",
     "text": [
      "Epoch end: Validation, epoch number: 8\n",
      "Epoch end: Validation, epoch number: 9\n",
      "Epoch end: Train, epoch number: 6\n",
      "Epoch end: Validation, epoch number: 10\n",
      "Epoch end: Train, epoch number: 7\n"
     ]
    },
    {
     "name": "stderr",
     "output_type": "stream",
     "text": [
      "`Trainer.fit` stopped: `max_epochs=3` reached.\n",
      "You are using a CUDA device ('NVIDIA GeForce RTX 4070 Ti') that has Tensor Cores. To properly utilize them, you should set `torch.set_float32_matmul_precision('medium' | 'high')` which will trade-off precision for performance. For more details, read https://pytorch.org/docs/stable/generated/torch.set_float32_matmul_precision.html#torch.set_float32_matmul_precision\n"
     ]
    },
    {
     "name": "stdout",
     "output_type": "stream",
     "text": [
      "Epoch end: Validation, epoch number: 11\n",
      "Epoch end: Train, epoch number: 8\n",
      "Performance of Node 5 before aggregation at round 4\n"
     ]
    },
    {
     "name": "stderr",
     "output_type": "stream",
     "text": [
      "LOCAL_RANK: 0 - CUDA_VISIBLE_DEVICES: [0,1]\n"
     ]
    },
    {
     "name": "stdout",
     "output_type": "stream",
     "text": [
      "Epoch end: Test, epoch number: 5\n"
     ]
    },
    {
     "data": {
      "text/html": [
       "<pre style=\"white-space:pre;overflow-x:auto;line-height:normal;font-family:Menlo,'DejaVu Sans Mono',consolas,'Courier New',monospace\">┏━━━━━━━━━━━━━━━━━━━━━━━━━━━┳━━━━━━━━━━━━━━━━━━━━━━━━━━━┓\n",
       "┃<span style=\"font-weight: bold\">   Runningstage.testing    </span>┃<span style=\"font-weight: bold\">                           </span>┃\n",
       "┃<span style=\"font-weight: bold\">          metric           </span>┃<span style=\"font-weight: bold\">       DataLoader 0        </span>┃\n",
       "┡━━━━━━━━━━━━━━━━━━━━━━━━━━━╇━━━━━━━━━━━━━━━━━━━━━━━━━━━┩\n",
       "│<span style=\"color: #008080; text-decoration-color: #008080\">       Test/Accuracy       </span>│<span style=\"color: #800080; text-decoration-color: #800080\">     0.942974865436554     </span>│\n",
       "│<span style=\"color: #008080; text-decoration-color: #008080\">       Test/F1Score        </span>│<span style=\"color: #800080; text-decoration-color: #800080\">    0.9362412095069885     </span>│\n",
       "│<span style=\"color: #008080; text-decoration-color: #008080\">         Test/Loss         </span>│<span style=\"color: #800080; text-decoration-color: #800080\">    0.23517535626888275    </span>│\n",
       "│<span style=\"color: #008080; text-decoration-color: #008080\">      Test/Precision       </span>│<span style=\"color: #800080; text-decoration-color: #800080\">    0.9399098753929138     </span>│\n",
       "│<span style=\"color: #008080; text-decoration-color: #008080\">        Test/Recall        </span>│<span style=\"color: #800080; text-decoration-color: #800080\">     0.942974865436554     </span>│\n",
       "│<span style=\"color: #008080; text-decoration-color: #008080\">    TestEpoch/Accuracy     </span>│<span style=\"color: #800080; text-decoration-color: #800080\">    0.9390422105789185     </span>│\n",
       "│<span style=\"color: #008080; text-decoration-color: #008080\">     TestEpoch/F1Score     </span>│<span style=\"color: #800080; text-decoration-color: #800080\">    0.9385901689529419     </span>│\n",
       "│<span style=\"color: #008080; text-decoration-color: #008080\">    TestEpoch/Precision    </span>│<span style=\"color: #800080; text-decoration-color: #800080\">    0.9396645426750183     </span>│\n",
       "│<span style=\"color: #008080; text-decoration-color: #008080\">     TestEpoch/Recall      </span>│<span style=\"color: #800080; text-decoration-color: #800080\">    0.9390422105789185     </span>│\n",
       "└───────────────────────────┴───────────────────────────┘\n",
       "</pre>\n"
      ],
      "text/plain": [
       "┏━━━━━━━━━━━━━━━━━━━━━━━━━━━┳━━━━━━━━━━━━━━━━━━━━━━━━━━━┓\n",
       "┃\u001b[1m \u001b[0m\u001b[1m  Runningstage.testing   \u001b[0m\u001b[1m \u001b[0m┃\u001b[1m                           \u001b[0m┃\n",
       "┃\u001b[1m \u001b[0m\u001b[1m         metric          \u001b[0m\u001b[1m \u001b[0m┃\u001b[1m \u001b[0m\u001b[1m      DataLoader 0       \u001b[0m\u001b[1m \u001b[0m┃\n",
       "┡━━━━━━━━━━━━━━━━━━━━━━━━━━━╇━━━━━━━━━━━━━━━━━━━━━━━━━━━┩\n",
       "│\u001b[36m \u001b[0m\u001b[36m      Test/Accuracy      \u001b[0m\u001b[36m \u001b[0m│\u001b[35m \u001b[0m\u001b[35m    0.942974865436554    \u001b[0m\u001b[35m \u001b[0m│\n",
       "│\u001b[36m \u001b[0m\u001b[36m      Test/F1Score       \u001b[0m\u001b[36m \u001b[0m│\u001b[35m \u001b[0m\u001b[35m   0.9362412095069885    \u001b[0m\u001b[35m \u001b[0m│\n",
       "│\u001b[36m \u001b[0m\u001b[36m        Test/Loss        \u001b[0m\u001b[36m \u001b[0m│\u001b[35m \u001b[0m\u001b[35m   0.23517535626888275   \u001b[0m\u001b[35m \u001b[0m│\n",
       "│\u001b[36m \u001b[0m\u001b[36m     Test/Precision      \u001b[0m\u001b[36m \u001b[0m│\u001b[35m \u001b[0m\u001b[35m   0.9399098753929138    \u001b[0m\u001b[35m \u001b[0m│\n",
       "│\u001b[36m \u001b[0m\u001b[36m       Test/Recall       \u001b[0m\u001b[36m \u001b[0m│\u001b[35m \u001b[0m\u001b[35m    0.942974865436554    \u001b[0m\u001b[35m \u001b[0m│\n",
       "│\u001b[36m \u001b[0m\u001b[36m   TestEpoch/Accuracy    \u001b[0m\u001b[36m \u001b[0m│\u001b[35m \u001b[0m\u001b[35m   0.9390422105789185    \u001b[0m\u001b[35m \u001b[0m│\n",
       "│\u001b[36m \u001b[0m\u001b[36m    TestEpoch/F1Score    \u001b[0m\u001b[36m \u001b[0m│\u001b[35m \u001b[0m\u001b[35m   0.9385901689529419    \u001b[0m\u001b[35m \u001b[0m│\n",
       "│\u001b[36m \u001b[0m\u001b[36m   TestEpoch/Precision   \u001b[0m\u001b[36m \u001b[0m│\u001b[35m \u001b[0m\u001b[35m   0.9396645426750183    \u001b[0m\u001b[35m \u001b[0m│\n",
       "│\u001b[36m \u001b[0m\u001b[36m    TestEpoch/Recall     \u001b[0m\u001b[36m \u001b[0m│\u001b[35m \u001b[0m\u001b[35m   0.9390422105789185    \u001b[0m\u001b[35m \u001b[0m│\n",
       "└───────────────────────────┴───────────────────────────┘\n"
      ]
     },
     "metadata": {},
     "output_type": "display_data"
    },
    {
     "name": "stderr",
     "output_type": "stream",
     "text": [
      "GPU available: True (cuda), used: True\n",
      "TPU available: False, using: 0 TPU cores\n",
      "IPU available: False, using: 0 IPUs\n",
      "HPU available: False, using: 0 HPUs\n",
      "You are using a CUDA device ('NVIDIA GeForce RTX 4070 Ti') that has Tensor Cores. To properly utilize them, you should set `torch.set_float32_matmul_precision('medium' | 'high')` which will trade-off precision for performance. For more details, read https://pytorch.org/docs/stable/generated/torch.set_float32_matmul_precision.html#torch.set_float32_matmul_precision\n",
      "LOCAL_RANK: 0 - CUDA_VISIBLE_DEVICES: [0,1]\n",
      "\n",
      "  | Name          | Type                      | Params | In sizes | Out sizes\n",
      "-----------------------------------------------------------------------------------\n",
      "0 | train_metrics | MetricCollection          | 0      | ?        | ?        \n",
      "1 | val_metrics   | MetricCollection          | 0      | ?        | ?        \n",
      "2 | test_metrics  | MetricCollection          | 0      | ?        | ?        \n",
      "3 | cm            | MulticlassConfusionMatrix | 0      | ?        | ?        \n",
      "4 | criterion     | CrossEntropyLoss          | 0      | ?        | ?        \n",
      "5 | l1            | Linear                    | 200 K  | [1, 784] | [1, 256] \n",
      "6 | l2            | Linear                    | 32.9 K | [1, 256] | [1, 128] \n",
      "7 | l3            | Linear                    | 1.3 K  | [1, 128] | [1, 10]  \n",
      "-----------------------------------------------------------------------------------\n",
      "235 K     Trainable params\n",
      "0         Non-trainable params\n",
      "235 K     Total params\n",
      "0.941     Total estimated model params size (MB)\n"
     ]
    },
    {
     "name": "stdout",
     "output_type": "stream",
     "text": [
      "Epoch end: Validation, epoch number: 8\n",
      "Epoch end: Validation, epoch number: 9\n",
      "Epoch end: Train, epoch number: 6\n",
      "Epoch end: Validation, epoch number: 10\n",
      "Epoch end: Train, epoch number: 7\n"
     ]
    },
    {
     "name": "stderr",
     "output_type": "stream",
     "text": [
      "`Trainer.fit` stopped: `max_epochs=3` reached.\n",
      "You are using a CUDA device ('NVIDIA GeForce RTX 4070 Ti') that has Tensor Cores. To properly utilize them, you should set `torch.set_float32_matmul_precision('medium' | 'high')` which will trade-off precision for performance. For more details, read https://pytorch.org/docs/stable/generated/torch.set_float32_matmul_precision.html#torch.set_float32_matmul_precision\n"
     ]
    },
    {
     "name": "stdout",
     "output_type": "stream",
     "text": [
      "Epoch end: Validation, epoch number: 11\n",
      "Epoch end: Train, epoch number: 8\n",
      "Performance of Node 6 before aggregation at round 4\n"
     ]
    },
    {
     "name": "stderr",
     "output_type": "stream",
     "text": [
      "LOCAL_RANK: 0 - CUDA_VISIBLE_DEVICES: [0,1]\n"
     ]
    },
    {
     "name": "stdout",
     "output_type": "stream",
     "text": [
      "Epoch end: Test, epoch number: 5\n"
     ]
    },
    {
     "data": {
      "text/html": [
       "<pre style=\"white-space:pre;overflow-x:auto;line-height:normal;font-family:Menlo,'DejaVu Sans Mono',consolas,'Courier New',monospace\">┏━━━━━━━━━━━━━━━━━━━━━━━━━━━┳━━━━━━━━━━━━━━━━━━━━━━━━━━━┓\n",
       "┃<span style=\"font-weight: bold\">   Runningstage.testing    </span>┃<span style=\"font-weight: bold\">                           </span>┃\n",
       "┃<span style=\"font-weight: bold\">          metric           </span>┃<span style=\"font-weight: bold\">       DataLoader 0        </span>┃\n",
       "┡━━━━━━━━━━━━━━━━━━━━━━━━━━━╇━━━━━━━━━━━━━━━━━━━━━━━━━━━┩\n",
       "│<span style=\"color: #008080; text-decoration-color: #008080\">       Test/Accuracy       </span>│<span style=\"color: #800080; text-decoration-color: #800080\">    0.9150109887123108     </span>│\n",
       "│<span style=\"color: #008080; text-decoration-color: #008080\">       Test/F1Score        </span>│<span style=\"color: #800080; text-decoration-color: #800080\">    0.9090098738670349     </span>│\n",
       "│<span style=\"color: #008080; text-decoration-color: #008080\">         Test/Loss         </span>│<span style=\"color: #800080; text-decoration-color: #800080\">    0.2701644003391266     </span>│\n",
       "│<span style=\"color: #008080; text-decoration-color: #008080\">      Test/Precision       </span>│<span style=\"color: #800080; text-decoration-color: #800080\">    0.9210792183876038     </span>│\n",
       "│<span style=\"color: #008080; text-decoration-color: #008080\">        Test/Recall        </span>│<span style=\"color: #800080; text-decoration-color: #800080\">    0.9150109887123108     </span>│\n",
       "│<span style=\"color: #008080; text-decoration-color: #008080\">    TestEpoch/Accuracy     </span>│<span style=\"color: #800080; text-decoration-color: #800080\">    0.9180390238761902     </span>│\n",
       "│<span style=\"color: #008080; text-decoration-color: #008080\">     TestEpoch/F1Score     </span>│<span style=\"color: #800080; text-decoration-color: #800080\">    0.9188942909240723     </span>│\n",
       "│<span style=\"color: #008080; text-decoration-color: #008080\">    TestEpoch/Precision    </span>│<span style=\"color: #800080; text-decoration-color: #800080\">    0.9238626956939697     </span>│\n",
       "│<span style=\"color: #008080; text-decoration-color: #008080\">     TestEpoch/Recall      </span>│<span style=\"color: #800080; text-decoration-color: #800080\">    0.9180390238761902     </span>│\n",
       "└───────────────────────────┴───────────────────────────┘\n",
       "</pre>\n"
      ],
      "text/plain": [
       "┏━━━━━━━━━━━━━━━━━━━━━━━━━━━┳━━━━━━━━━━━━━━━━━━━━━━━━━━━┓\n",
       "┃\u001b[1m \u001b[0m\u001b[1m  Runningstage.testing   \u001b[0m\u001b[1m \u001b[0m┃\u001b[1m                           \u001b[0m┃\n",
       "┃\u001b[1m \u001b[0m\u001b[1m         metric          \u001b[0m\u001b[1m \u001b[0m┃\u001b[1m \u001b[0m\u001b[1m      DataLoader 0       \u001b[0m\u001b[1m \u001b[0m┃\n",
       "┡━━━━━━━━━━━━━━━━━━━━━━━━━━━╇━━━━━━━━━━━━━━━━━━━━━━━━━━━┩\n",
       "│\u001b[36m \u001b[0m\u001b[36m      Test/Accuracy      \u001b[0m\u001b[36m \u001b[0m│\u001b[35m \u001b[0m\u001b[35m   0.9150109887123108    \u001b[0m\u001b[35m \u001b[0m│\n",
       "│\u001b[36m \u001b[0m\u001b[36m      Test/F1Score       \u001b[0m\u001b[36m \u001b[0m│\u001b[35m \u001b[0m\u001b[35m   0.9090098738670349    \u001b[0m\u001b[35m \u001b[0m│\n",
       "│\u001b[36m \u001b[0m\u001b[36m        Test/Loss        \u001b[0m\u001b[36m \u001b[0m│\u001b[35m \u001b[0m\u001b[35m   0.2701644003391266    \u001b[0m\u001b[35m \u001b[0m│\n",
       "│\u001b[36m \u001b[0m\u001b[36m     Test/Precision      \u001b[0m\u001b[36m \u001b[0m│\u001b[35m \u001b[0m\u001b[35m   0.9210792183876038    \u001b[0m\u001b[35m \u001b[0m│\n",
       "│\u001b[36m \u001b[0m\u001b[36m       Test/Recall       \u001b[0m\u001b[36m \u001b[0m│\u001b[35m \u001b[0m\u001b[35m   0.9150109887123108    \u001b[0m\u001b[35m \u001b[0m│\n",
       "│\u001b[36m \u001b[0m\u001b[36m   TestEpoch/Accuracy    \u001b[0m\u001b[36m \u001b[0m│\u001b[35m \u001b[0m\u001b[35m   0.9180390238761902    \u001b[0m\u001b[35m \u001b[0m│\n",
       "│\u001b[36m \u001b[0m\u001b[36m    TestEpoch/F1Score    \u001b[0m\u001b[36m \u001b[0m│\u001b[35m \u001b[0m\u001b[35m   0.9188942909240723    \u001b[0m\u001b[35m \u001b[0m│\n",
       "│\u001b[36m \u001b[0m\u001b[36m   TestEpoch/Precision   \u001b[0m\u001b[36m \u001b[0m│\u001b[35m \u001b[0m\u001b[35m   0.9238626956939697    \u001b[0m\u001b[35m \u001b[0m│\n",
       "│\u001b[36m \u001b[0m\u001b[36m    TestEpoch/Recall     \u001b[0m\u001b[36m \u001b[0m│\u001b[35m \u001b[0m\u001b[35m   0.9180390238761902    \u001b[0m\u001b[35m \u001b[0m│\n",
       "└───────────────────────────┴───────────────────────────┘\n"
      ]
     },
     "metadata": {},
     "output_type": "display_data"
    },
    {
     "name": "stderr",
     "output_type": "stream",
     "text": [
      "GPU available: True (cuda), used: True\n",
      "TPU available: False, using: 0 TPU cores\n",
      "IPU available: False, using: 0 IPUs\n",
      "HPU available: False, using: 0 HPUs\n",
      "You are using a CUDA device ('NVIDIA GeForce RTX 4070 Ti') that has Tensor Cores. To properly utilize them, you should set `torch.set_float32_matmul_precision('medium' | 'high')` which will trade-off precision for performance. For more details, read https://pytorch.org/docs/stable/generated/torch.set_float32_matmul_precision.html#torch.set_float32_matmul_precision\n",
      "LOCAL_RANK: 0 - CUDA_VISIBLE_DEVICES: [0,1]\n",
      "\n",
      "  | Name          | Type                      | Params | In sizes | Out sizes\n",
      "-----------------------------------------------------------------------------------\n",
      "0 | train_metrics | MetricCollection          | 0      | ?        | ?        \n",
      "1 | val_metrics   | MetricCollection          | 0      | ?        | ?        \n",
      "2 | test_metrics  | MetricCollection          | 0      | ?        | ?        \n",
      "3 | cm            | MulticlassConfusionMatrix | 0      | ?        | ?        \n",
      "4 | criterion     | CrossEntropyLoss          | 0      | ?        | ?        \n",
      "5 | l1            | Linear                    | 200 K  | [1, 784] | [1, 256] \n",
      "6 | l2            | Linear                    | 32.9 K | [1, 256] | [1, 128] \n",
      "7 | l3            | Linear                    | 1.3 K  | [1, 128] | [1, 10]  \n",
      "-----------------------------------------------------------------------------------\n",
      "235 K     Trainable params\n",
      "0         Non-trainable params\n",
      "235 K     Total params\n",
      "0.941     Total estimated model params size (MB)\n"
     ]
    },
    {
     "name": "stdout",
     "output_type": "stream",
     "text": [
      "Epoch end: Validation, epoch number: 8\n",
      "Epoch end: Validation, epoch number: 9\n",
      "Epoch end: Train, epoch number: 6\n",
      "Epoch end: Validation, epoch number: 10\n",
      "Epoch end: Train, epoch number: 7\n"
     ]
    },
    {
     "name": "stderr",
     "output_type": "stream",
     "text": [
      "`Trainer.fit` stopped: `max_epochs=3` reached.\n",
      "You are using a CUDA device ('NVIDIA GeForce RTX 4070 Ti') that has Tensor Cores. To properly utilize them, you should set `torch.set_float32_matmul_precision('medium' | 'high')` which will trade-off precision for performance. For more details, read https://pytorch.org/docs/stable/generated/torch.set_float32_matmul_precision.html#torch.set_float32_matmul_precision\n"
     ]
    },
    {
     "name": "stdout",
     "output_type": "stream",
     "text": [
      "Epoch end: Validation, epoch number: 11\n",
      "Epoch end: Train, epoch number: 8\n",
      "Performance of Node 7 before aggregation at round 4\n"
     ]
    },
    {
     "name": "stderr",
     "output_type": "stream",
     "text": [
      "LOCAL_RANK: 0 - CUDA_VISIBLE_DEVICES: [0,1]\n"
     ]
    },
    {
     "name": "stdout",
     "output_type": "stream",
     "text": [
      "Epoch end: Test, epoch number: 5\n"
     ]
    },
    {
     "data": {
      "text/html": [
       "<pre style=\"white-space:pre;overflow-x:auto;line-height:normal;font-family:Menlo,'DejaVu Sans Mono',consolas,'Courier New',monospace\">┏━━━━━━━━━━━━━━━━━━━━━━━━━━━┳━━━━━━━━━━━━━━━━━━━━━━━━━━━┓\n",
       "┃<span style=\"font-weight: bold\">   Runningstage.testing    </span>┃<span style=\"font-weight: bold\">                           </span>┃\n",
       "┃<span style=\"font-weight: bold\">          metric           </span>┃<span style=\"font-weight: bold\">       DataLoader 0        </span>┃\n",
       "┡━━━━━━━━━━━━━━━━━━━━━━━━━━━╇━━━━━━━━━━━━━━━━━━━━━━━━━━━┩\n",
       "│<span style=\"color: #008080; text-decoration-color: #008080\">       Test/Accuracy       </span>│<span style=\"color: #800080; text-decoration-color: #800080\">    0.9353235363960266     </span>│\n",
       "│<span style=\"color: #008080; text-decoration-color: #008080\">       Test/F1Score        </span>│<span style=\"color: #800080; text-decoration-color: #800080\">    0.9314696788787842     </span>│\n",
       "│<span style=\"color: #008080; text-decoration-color: #008080\">         Test/Loss         </span>│<span style=\"color: #800080; text-decoration-color: #800080\">    0.21422794461250305    </span>│\n",
       "│<span style=\"color: #008080; text-decoration-color: #008080\">      Test/Precision       </span>│<span style=\"color: #800080; text-decoration-color: #800080\">    0.9421828985214233     </span>│\n",
       "│<span style=\"color: #008080; text-decoration-color: #008080\">        Test/Recall        </span>│<span style=\"color: #800080; text-decoration-color: #800080\">    0.9353235363960266     </span>│\n",
       "│<span style=\"color: #008080; text-decoration-color: #008080\">    TestEpoch/Accuracy     </span>│<span style=\"color: #800080; text-decoration-color: #800080\">    0.9374180436134338     </span>│\n",
       "│<span style=\"color: #008080; text-decoration-color: #008080\">     TestEpoch/F1Score     </span>│<span style=\"color: #800080; text-decoration-color: #800080\">    0.9379845857620239     </span>│\n",
       "│<span style=\"color: #008080; text-decoration-color: #008080\">    TestEpoch/Precision    </span>│<span style=\"color: #800080; text-decoration-color: #800080\">    0.9401282668113708     </span>│\n",
       "│<span style=\"color: #008080; text-decoration-color: #008080\">     TestEpoch/Recall      </span>│<span style=\"color: #800080; text-decoration-color: #800080\">    0.9374180436134338     </span>│\n",
       "└───────────────────────────┴───────────────────────────┘\n",
       "</pre>\n"
      ],
      "text/plain": [
       "┏━━━━━━━━━━━━━━━━━━━━━━━━━━━┳━━━━━━━━━━━━━━━━━━━━━━━━━━━┓\n",
       "┃\u001b[1m \u001b[0m\u001b[1m  Runningstage.testing   \u001b[0m\u001b[1m \u001b[0m┃\u001b[1m                           \u001b[0m┃\n",
       "┃\u001b[1m \u001b[0m\u001b[1m         metric          \u001b[0m\u001b[1m \u001b[0m┃\u001b[1m \u001b[0m\u001b[1m      DataLoader 0       \u001b[0m\u001b[1m \u001b[0m┃\n",
       "┡━━━━━━━━━━━━━━━━━━━━━━━━━━━╇━━━━━━━━━━━━━━━━━━━━━━━━━━━┩\n",
       "│\u001b[36m \u001b[0m\u001b[36m      Test/Accuracy      \u001b[0m\u001b[36m \u001b[0m│\u001b[35m \u001b[0m\u001b[35m   0.9353235363960266    \u001b[0m\u001b[35m \u001b[0m│\n",
       "│\u001b[36m \u001b[0m\u001b[36m      Test/F1Score       \u001b[0m\u001b[36m \u001b[0m│\u001b[35m \u001b[0m\u001b[35m   0.9314696788787842    \u001b[0m\u001b[35m \u001b[0m│\n",
       "│\u001b[36m \u001b[0m\u001b[36m        Test/Loss        \u001b[0m\u001b[36m \u001b[0m│\u001b[35m \u001b[0m\u001b[35m   0.21422794461250305   \u001b[0m\u001b[35m \u001b[0m│\n",
       "│\u001b[36m \u001b[0m\u001b[36m     Test/Precision      \u001b[0m\u001b[36m \u001b[0m│\u001b[35m \u001b[0m\u001b[35m   0.9421828985214233    \u001b[0m\u001b[35m \u001b[0m│\n",
       "│\u001b[36m \u001b[0m\u001b[36m       Test/Recall       \u001b[0m\u001b[36m \u001b[0m│\u001b[35m \u001b[0m\u001b[35m   0.9353235363960266    \u001b[0m\u001b[35m \u001b[0m│\n",
       "│\u001b[36m \u001b[0m\u001b[36m   TestEpoch/Accuracy    \u001b[0m\u001b[36m \u001b[0m│\u001b[35m \u001b[0m\u001b[35m   0.9374180436134338    \u001b[0m\u001b[35m \u001b[0m│\n",
       "│\u001b[36m \u001b[0m\u001b[36m    TestEpoch/F1Score    \u001b[0m\u001b[36m \u001b[0m│\u001b[35m \u001b[0m\u001b[35m   0.9379845857620239    \u001b[0m\u001b[35m \u001b[0m│\n",
       "│\u001b[36m \u001b[0m\u001b[36m   TestEpoch/Precision   \u001b[0m\u001b[36m \u001b[0m│\u001b[35m \u001b[0m\u001b[35m   0.9401282668113708    \u001b[0m\u001b[35m \u001b[0m│\n",
       "│\u001b[36m \u001b[0m\u001b[36m    TestEpoch/Recall     \u001b[0m\u001b[36m \u001b[0m│\u001b[35m \u001b[0m\u001b[35m   0.9374180436134338    \u001b[0m\u001b[35m \u001b[0m│\n",
       "└───────────────────────────┴───────────────────────────┘\n"
      ]
     },
     "metadata": {},
     "output_type": "display_data"
    },
    {
     "name": "stderr",
     "output_type": "stream",
     "text": [
      "GPU available: True (cuda), used: True\n",
      "TPU available: False, using: 0 TPU cores\n",
      "IPU available: False, using: 0 IPUs\n",
      "HPU available: False, using: 0 HPUs\n",
      "You are using a CUDA device ('NVIDIA GeForce RTX 4070 Ti') that has Tensor Cores. To properly utilize them, you should set `torch.set_float32_matmul_precision('medium' | 'high')` which will trade-off precision for performance. For more details, read https://pytorch.org/docs/stable/generated/torch.set_float32_matmul_precision.html#torch.set_float32_matmul_precision\n",
      "LOCAL_RANK: 0 - CUDA_VISIBLE_DEVICES: [0,1]\n",
      "\n",
      "  | Name          | Type                      | Params | In sizes | Out sizes\n",
      "-----------------------------------------------------------------------------------\n",
      "0 | train_metrics | MetricCollection          | 0      | ?        | ?        \n",
      "1 | val_metrics   | MetricCollection          | 0      | ?        | ?        \n",
      "2 | test_metrics  | MetricCollection          | 0      | ?        | ?        \n",
      "3 | cm            | MulticlassConfusionMatrix | 0      | ?        | ?        \n",
      "4 | criterion     | CrossEntropyLoss          | 0      | ?        | ?        \n",
      "5 | l1            | Linear                    | 200 K  | [1, 784] | [1, 256] \n",
      "6 | l2            | Linear                    | 32.9 K | [1, 256] | [1, 128] \n",
      "7 | l3            | Linear                    | 1.3 K  | [1, 128] | [1, 10]  \n",
      "-----------------------------------------------------------------------------------\n",
      "235 K     Trainable params\n",
      "0         Non-trainable params\n",
      "235 K     Total params\n",
      "0.941     Total estimated model params size (MB)\n"
     ]
    },
    {
     "name": "stdout",
     "output_type": "stream",
     "text": [
      "Epoch end: Validation, epoch number: 8\n",
      "Epoch end: Validation, epoch number: 9\n",
      "Epoch end: Train, epoch number: 6\n",
      "Epoch end: Validation, epoch number: 10\n",
      "Epoch end: Train, epoch number: 7\n"
     ]
    },
    {
     "name": "stderr",
     "output_type": "stream",
     "text": [
      "`Trainer.fit` stopped: `max_epochs=3` reached.\n",
      "You are using a CUDA device ('NVIDIA GeForce RTX 4070 Ti') that has Tensor Cores. To properly utilize them, you should set `torch.set_float32_matmul_precision('medium' | 'high')` which will trade-off precision for performance. For more details, read https://pytorch.org/docs/stable/generated/torch.set_float32_matmul_precision.html#torch.set_float32_matmul_precision\n"
     ]
    },
    {
     "name": "stdout",
     "output_type": "stream",
     "text": [
      "Epoch end: Validation, epoch number: 11\n",
      "Epoch end: Train, epoch number: 8\n",
      "Performance of Node 8 before aggregation at round 4\n"
     ]
    },
    {
     "name": "stderr",
     "output_type": "stream",
     "text": [
      "LOCAL_RANK: 0 - CUDA_VISIBLE_DEVICES: [0,1]\n"
     ]
    },
    {
     "name": "stdout",
     "output_type": "stream",
     "text": [
      "Epoch end: Test, epoch number: 5\n"
     ]
    },
    {
     "data": {
      "text/html": [
       "<pre style=\"white-space:pre;overflow-x:auto;line-height:normal;font-family:Menlo,'DejaVu Sans Mono',consolas,'Courier New',monospace\">┏━━━━━━━━━━━━━━━━━━━━━━━━━━━┳━━━━━━━━━━━━━━━━━━━━━━━━━━━┓\n",
       "┃<span style=\"font-weight: bold\">   Runningstage.testing    </span>┃<span style=\"font-weight: bold\">                           </span>┃\n",
       "┃<span style=\"font-weight: bold\">          metric           </span>┃<span style=\"font-weight: bold\">       DataLoader 0        </span>┃\n",
       "┡━━━━━━━━━━━━━━━━━━━━━━━━━━━╇━━━━━━━━━━━━━━━━━━━━━━━━━━━┩\n",
       "│<span style=\"color: #008080; text-decoration-color: #008080\">       Test/Accuracy       </span>│<span style=\"color: #800080; text-decoration-color: #800080\">    0.9265404343605042     </span>│\n",
       "│<span style=\"color: #008080; text-decoration-color: #008080\">       Test/F1Score        </span>│<span style=\"color: #800080; text-decoration-color: #800080\">    0.9221583008766174     </span>│\n",
       "│<span style=\"color: #008080; text-decoration-color: #008080\">         Test/Loss         </span>│<span style=\"color: #800080; text-decoration-color: #800080\">    0.25514644384384155    </span>│\n",
       "│<span style=\"color: #008080; text-decoration-color: #008080\">      Test/Precision       </span>│<span style=\"color: #800080; text-decoration-color: #800080\">    0.9317840337753296     </span>│\n",
       "│<span style=\"color: #008080; text-decoration-color: #008080\">        Test/Recall        </span>│<span style=\"color: #800080; text-decoration-color: #800080\">    0.9265404343605042     </span>│\n",
       "│<span style=\"color: #008080; text-decoration-color: #008080\">    TestEpoch/Accuracy     </span>│<span style=\"color: #800080; text-decoration-color: #800080\">    0.9265334010124207     </span>│\n",
       "│<span style=\"color: #008080; text-decoration-color: #008080\">     TestEpoch/F1Score     </span>│<span style=\"color: #800080; text-decoration-color: #800080\">    0.9274236559867859     </span>│\n",
       "│<span style=\"color: #008080; text-decoration-color: #008080\">    TestEpoch/Precision    </span>│<span style=\"color: #800080; text-decoration-color: #800080\">    0.9297772645950317     </span>│\n",
       "│<span style=\"color: #008080; text-decoration-color: #008080\">     TestEpoch/Recall      </span>│<span style=\"color: #800080; text-decoration-color: #800080\">    0.9265334010124207     </span>│\n",
       "└───────────────────────────┴───────────────────────────┘\n",
       "</pre>\n"
      ],
      "text/plain": [
       "┏━━━━━━━━━━━━━━━━━━━━━━━━━━━┳━━━━━━━━━━━━━━━━━━━━━━━━━━━┓\n",
       "┃\u001b[1m \u001b[0m\u001b[1m  Runningstage.testing   \u001b[0m\u001b[1m \u001b[0m┃\u001b[1m                           \u001b[0m┃\n",
       "┃\u001b[1m \u001b[0m\u001b[1m         metric          \u001b[0m\u001b[1m \u001b[0m┃\u001b[1m \u001b[0m\u001b[1m      DataLoader 0       \u001b[0m\u001b[1m \u001b[0m┃\n",
       "┡━━━━━━━━━━━━━━━━━━━━━━━━━━━╇━━━━━━━━━━━━━━━━━━━━━━━━━━━┩\n",
       "│\u001b[36m \u001b[0m\u001b[36m      Test/Accuracy      \u001b[0m\u001b[36m \u001b[0m│\u001b[35m \u001b[0m\u001b[35m   0.9265404343605042    \u001b[0m\u001b[35m \u001b[0m│\n",
       "│\u001b[36m \u001b[0m\u001b[36m      Test/F1Score       \u001b[0m\u001b[36m \u001b[0m│\u001b[35m \u001b[0m\u001b[35m   0.9221583008766174    \u001b[0m\u001b[35m \u001b[0m│\n",
       "│\u001b[36m \u001b[0m\u001b[36m        Test/Loss        \u001b[0m\u001b[36m \u001b[0m│\u001b[35m \u001b[0m\u001b[35m   0.25514644384384155   \u001b[0m\u001b[35m \u001b[0m│\n",
       "│\u001b[36m \u001b[0m\u001b[36m     Test/Precision      \u001b[0m\u001b[36m \u001b[0m│\u001b[35m \u001b[0m\u001b[35m   0.9317840337753296    \u001b[0m\u001b[35m \u001b[0m│\n",
       "│\u001b[36m \u001b[0m\u001b[36m       Test/Recall       \u001b[0m\u001b[36m \u001b[0m│\u001b[35m \u001b[0m\u001b[35m   0.9265404343605042    \u001b[0m\u001b[35m \u001b[0m│\n",
       "│\u001b[36m \u001b[0m\u001b[36m   TestEpoch/Accuracy    \u001b[0m\u001b[36m \u001b[0m│\u001b[35m \u001b[0m\u001b[35m   0.9265334010124207    \u001b[0m\u001b[35m \u001b[0m│\n",
       "│\u001b[36m \u001b[0m\u001b[36m    TestEpoch/F1Score    \u001b[0m\u001b[36m \u001b[0m│\u001b[35m \u001b[0m\u001b[35m   0.9274236559867859    \u001b[0m\u001b[35m \u001b[0m│\n",
       "│\u001b[36m \u001b[0m\u001b[36m   TestEpoch/Precision   \u001b[0m\u001b[36m \u001b[0m│\u001b[35m \u001b[0m\u001b[35m   0.9297772645950317    \u001b[0m\u001b[35m \u001b[0m│\n",
       "│\u001b[36m \u001b[0m\u001b[36m    TestEpoch/Recall     \u001b[0m\u001b[36m \u001b[0m│\u001b[35m \u001b[0m\u001b[35m   0.9265334010124207    \u001b[0m\u001b[35m \u001b[0m│\n",
       "└───────────────────────────┴───────────────────────────┘\n"
      ]
     },
     "metadata": {},
     "output_type": "display_data"
    },
    {
     "name": "stderr",
     "output_type": "stream",
     "text": [
      "GPU available: True (cuda), used: True\n",
      "TPU available: False, using: 0 TPU cores\n",
      "IPU available: False, using: 0 IPUs\n",
      "HPU available: False, using: 0 HPUs\n",
      "You are using a CUDA device ('NVIDIA GeForce RTX 4070 Ti') that has Tensor Cores. To properly utilize them, you should set `torch.set_float32_matmul_precision('medium' | 'high')` which will trade-off precision for performance. For more details, read https://pytorch.org/docs/stable/generated/torch.set_float32_matmul_precision.html#torch.set_float32_matmul_precision\n",
      "LOCAL_RANK: 0 - CUDA_VISIBLE_DEVICES: [0,1]\n",
      "\n",
      "  | Name          | Type                      | Params | In sizes | Out sizes\n",
      "-----------------------------------------------------------------------------------\n",
      "0 | train_metrics | MetricCollection          | 0      | ?        | ?        \n",
      "1 | val_metrics   | MetricCollection          | 0      | ?        | ?        \n",
      "2 | test_metrics  | MetricCollection          | 0      | ?        | ?        \n",
      "3 | cm            | MulticlassConfusionMatrix | 0      | ?        | ?        \n",
      "4 | criterion     | CrossEntropyLoss          | 0      | ?        | ?        \n",
      "5 | l1            | Linear                    | 200 K  | [1, 784] | [1, 256] \n",
      "6 | l2            | Linear                    | 32.9 K | [1, 256] | [1, 128] \n",
      "7 | l3            | Linear                    | 1.3 K  | [1, 128] | [1, 10]  \n",
      "-----------------------------------------------------------------------------------\n",
      "235 K     Trainable params\n",
      "0         Non-trainable params\n",
      "235 K     Total params\n",
      "0.941     Total estimated model params size (MB)\n"
     ]
    },
    {
     "name": "stdout",
     "output_type": "stream",
     "text": [
      "Epoch end: Validation, epoch number: 8\n",
      "Epoch end: Validation, epoch number: 9\n",
      "Epoch end: Train, epoch number: 6\n",
      "Epoch end: Validation, epoch number: 10\n",
      "Epoch end: Train, epoch number: 7\n"
     ]
    },
    {
     "name": "stderr",
     "output_type": "stream",
     "text": [
      "`Trainer.fit` stopped: `max_epochs=3` reached.\n",
      "You are using a CUDA device ('NVIDIA GeForce RTX 4070 Ti') that has Tensor Cores. To properly utilize them, you should set `torch.set_float32_matmul_precision('medium' | 'high')` which will trade-off precision for performance. For more details, read https://pytorch.org/docs/stable/generated/torch.set_float32_matmul_precision.html#torch.set_float32_matmul_precision\n"
     ]
    },
    {
     "name": "stdout",
     "output_type": "stream",
     "text": [
      "Epoch end: Validation, epoch number: 11\n",
      "Epoch end: Train, epoch number: 8\n",
      "Performance of Node 9 before aggregation at round 4\n"
     ]
    },
    {
     "name": "stderr",
     "output_type": "stream",
     "text": [
      "LOCAL_RANK: 0 - CUDA_VISIBLE_DEVICES: [0,1]\n"
     ]
    },
    {
     "name": "stdout",
     "output_type": "stream",
     "text": [
      "Epoch end: Test, epoch number: 5\n"
     ]
    },
    {
     "data": {
      "text/html": [
       "<pre style=\"white-space:pre;overflow-x:auto;line-height:normal;font-family:Menlo,'DejaVu Sans Mono',consolas,'Courier New',monospace\">┏━━━━━━━━━━━━━━━━━━━━━━━━━━━┳━━━━━━━━━━━━━━━━━━━━━━━━━━━┓\n",
       "┃<span style=\"font-weight: bold\">   Runningstage.testing    </span>┃<span style=\"font-weight: bold\">                           </span>┃\n",
       "┃<span style=\"font-weight: bold\">          metric           </span>┃<span style=\"font-weight: bold\">       DataLoader 0        </span>┃\n",
       "┡━━━━━━━━━━━━━━━━━━━━━━━━━━━╇━━━━━━━━━━━━━━━━━━━━━━━━━━━┩\n",
       "│<span style=\"color: #008080; text-decoration-color: #008080\">       Test/Accuracy       </span>│<span style=\"color: #800080; text-decoration-color: #800080\">     0.929293692111969     </span>│\n",
       "│<span style=\"color: #008080; text-decoration-color: #008080\">       Test/F1Score        </span>│<span style=\"color: #800080; text-decoration-color: #800080\">    0.9206997752189636     </span>│\n",
       "│<span style=\"color: #008080; text-decoration-color: #008080\">         Test/Loss         </span>│<span style=\"color: #800080; text-decoration-color: #800080\">    0.2595212757587433     </span>│\n",
       "│<span style=\"color: #008080; text-decoration-color: #008080\">      Test/Precision       </span>│<span style=\"color: #800080; text-decoration-color: #800080\">    0.9271866679191589     </span>│\n",
       "│<span style=\"color: #008080; text-decoration-color: #008080\">        Test/Recall        </span>│<span style=\"color: #800080; text-decoration-color: #800080\">     0.929293692111969     </span>│\n",
       "│<span style=\"color: #008080; text-decoration-color: #008080\">    TestEpoch/Accuracy     </span>│<span style=\"color: #800080; text-decoration-color: #800080\">    0.9253445863723755     </span>│\n",
       "│<span style=\"color: #008080; text-decoration-color: #008080\">     TestEpoch/F1Score     </span>│<span style=\"color: #800080; text-decoration-color: #800080\">    0.9246140122413635     </span>│\n",
       "│<span style=\"color: #008080; text-decoration-color: #008080\">    TestEpoch/Precision    </span>│<span style=\"color: #800080; text-decoration-color: #800080\">    0.9275336265563965     </span>│\n",
       "│<span style=\"color: #008080; text-decoration-color: #008080\">     TestEpoch/Recall      </span>│<span style=\"color: #800080; text-decoration-color: #800080\">    0.9253445863723755     </span>│\n",
       "└───────────────────────────┴───────────────────────────┘\n",
       "</pre>\n"
      ],
      "text/plain": [
       "┏━━━━━━━━━━━━━━━━━━━━━━━━━━━┳━━━━━━━━━━━━━━━━━━━━━━━━━━━┓\n",
       "┃\u001b[1m \u001b[0m\u001b[1m  Runningstage.testing   \u001b[0m\u001b[1m \u001b[0m┃\u001b[1m                           \u001b[0m┃\n",
       "┃\u001b[1m \u001b[0m\u001b[1m         metric          \u001b[0m\u001b[1m \u001b[0m┃\u001b[1m \u001b[0m\u001b[1m      DataLoader 0       \u001b[0m\u001b[1m \u001b[0m┃\n",
       "┡━━━━━━━━━━━━━━━━━━━━━━━━━━━╇━━━━━━━━━━━━━━━━━━━━━━━━━━━┩\n",
       "│\u001b[36m \u001b[0m\u001b[36m      Test/Accuracy      \u001b[0m\u001b[36m \u001b[0m│\u001b[35m \u001b[0m\u001b[35m    0.929293692111969    \u001b[0m\u001b[35m \u001b[0m│\n",
       "│\u001b[36m \u001b[0m\u001b[36m      Test/F1Score       \u001b[0m\u001b[36m \u001b[0m│\u001b[35m \u001b[0m\u001b[35m   0.9206997752189636    \u001b[0m\u001b[35m \u001b[0m│\n",
       "│\u001b[36m \u001b[0m\u001b[36m        Test/Loss        \u001b[0m\u001b[36m \u001b[0m│\u001b[35m \u001b[0m\u001b[35m   0.2595212757587433    \u001b[0m\u001b[35m \u001b[0m│\n",
       "│\u001b[36m \u001b[0m\u001b[36m     Test/Precision      \u001b[0m\u001b[36m \u001b[0m│\u001b[35m \u001b[0m\u001b[35m   0.9271866679191589    \u001b[0m\u001b[35m \u001b[0m│\n",
       "│\u001b[36m \u001b[0m\u001b[36m       Test/Recall       \u001b[0m\u001b[36m \u001b[0m│\u001b[35m \u001b[0m\u001b[35m    0.929293692111969    \u001b[0m\u001b[35m \u001b[0m│\n",
       "│\u001b[36m \u001b[0m\u001b[36m   TestEpoch/Accuracy    \u001b[0m\u001b[36m \u001b[0m│\u001b[35m \u001b[0m\u001b[35m   0.9253445863723755    \u001b[0m\u001b[35m \u001b[0m│\n",
       "│\u001b[36m \u001b[0m\u001b[36m    TestEpoch/F1Score    \u001b[0m\u001b[36m \u001b[0m│\u001b[35m \u001b[0m\u001b[35m   0.9246140122413635    \u001b[0m\u001b[35m \u001b[0m│\n",
       "│\u001b[36m \u001b[0m\u001b[36m   TestEpoch/Precision   \u001b[0m\u001b[36m \u001b[0m│\u001b[35m \u001b[0m\u001b[35m   0.9275336265563965    \u001b[0m\u001b[35m \u001b[0m│\n",
       "│\u001b[36m \u001b[0m\u001b[36m    TestEpoch/Recall     \u001b[0m\u001b[36m \u001b[0m│\u001b[35m \u001b[0m\u001b[35m   0.9253445863723755    \u001b[0m\u001b[35m \u001b[0m│\n",
       "└───────────────────────────┴───────────────────────────┘\n"
      ]
     },
     "metadata": {},
     "output_type": "display_data"
    },
    {
     "name": "stderr",
     "output_type": "stream",
     "text": [
      "GPU available: True (cuda), used: True\n",
      "TPU available: False, using: 0 TPU cores\n",
      "IPU available: False, using: 0 IPUs\n",
      "HPU available: False, using: 0 HPUs\n",
      "You are using a CUDA device ('NVIDIA GeForce RTX 4070 Ti') that has Tensor Cores. To properly utilize them, you should set `torch.set_float32_matmul_precision('medium' | 'high')` which will trade-off precision for performance. For more details, read https://pytorch.org/docs/stable/generated/torch.set_float32_matmul_precision.html#torch.set_float32_matmul_precision\n",
      "LOCAL_RANK: 0 - CUDA_VISIBLE_DEVICES: [0,1]\n"
     ]
    },
    {
     "name": "stdout",
     "output_type": "stream",
     "text": [
      "Node 0 aggregate model with [1, 9]\n",
      "Performance of Node 0 after aggregation at round 4\n"
     ]
    },
    {
     "data": {
      "application/vnd.jupyter.widget-view+json": {
       "model_id": "92a7a53b1f2c480dbdbb88d24a00e052",
       "version_major": 2,
       "version_minor": 0
      },
      "text/plain": [
       "Testing: 0it [00:00, ?it/s]"
      ]
     },
     "metadata": {},
     "output_type": "display_data"
    },
    {
     "name": "stdout",
     "output_type": "stream",
     "text": [
      "Epoch end: Test, epoch number: 6\n"
     ]
    },
    {
     "data": {
      "text/html": [
       "<pre style=\"white-space:pre;overflow-x:auto;line-height:normal;font-family:Menlo,'DejaVu Sans Mono',consolas,'Courier New',monospace\">┏━━━━━━━━━━━━━━━━━━━━━━━━━━━┳━━━━━━━━━━━━━━━━━━━━━━━━━━━┓\n",
       "┃<span style=\"font-weight: bold\">   Runningstage.testing    </span>┃<span style=\"font-weight: bold\">                           </span>┃\n",
       "┃<span style=\"font-weight: bold\">          metric           </span>┃<span style=\"font-weight: bold\">       DataLoader 0        </span>┃\n",
       "┡━━━━━━━━━━━━━━━━━━━━━━━━━━━╇━━━━━━━━━━━━━━━━━━━━━━━━━━━┩\n",
       "│<span style=\"color: #008080; text-decoration-color: #008080\">       Test/Accuracy       </span>│<span style=\"color: #800080; text-decoration-color: #800080\">     0.910770833492279     </span>│\n",
       "│<span style=\"color: #008080; text-decoration-color: #008080\">       Test/F1Score        </span>│<span style=\"color: #800080; text-decoration-color: #800080\">    0.9065608382225037     </span>│\n",
       "│<span style=\"color: #008080; text-decoration-color: #008080\">         Test/Loss         </span>│<span style=\"color: #800080; text-decoration-color: #800080\">    0.25600898265838623    </span>│\n",
       "│<span style=\"color: #008080; text-decoration-color: #008080\">      Test/Precision       </span>│<span style=\"color: #800080; text-decoration-color: #800080\">    0.9181401133537292     </span>│\n",
       "│<span style=\"color: #008080; text-decoration-color: #008080\">        Test/Recall        </span>│<span style=\"color: #800080; text-decoration-color: #800080\">     0.910770833492279     </span>│\n",
       "│<span style=\"color: #008080; text-decoration-color: #008080\">    TestEpoch/Accuracy     </span>│<span style=\"color: #800080; text-decoration-color: #800080\">    0.9153587818145752     </span>│\n",
       "│<span style=\"color: #008080; text-decoration-color: #008080\">     TestEpoch/F1Score     </span>│<span style=\"color: #800080; text-decoration-color: #800080\">    0.9153943657875061     </span>│\n",
       "│<span style=\"color: #008080; text-decoration-color: #008080\">    TestEpoch/Precision    </span>│<span style=\"color: #800080; text-decoration-color: #800080\">    0.9168098568916321     </span>│\n",
       "│<span style=\"color: #008080; text-decoration-color: #008080\">     TestEpoch/Recall      </span>│<span style=\"color: #800080; text-decoration-color: #800080\">    0.9153587818145752     </span>│\n",
       "└───────────────────────────┴───────────────────────────┘\n",
       "</pre>\n"
      ],
      "text/plain": [
       "┏━━━━━━━━━━━━━━━━━━━━━━━━━━━┳━━━━━━━━━━━━━━━━━━━━━━━━━━━┓\n",
       "┃\u001b[1m \u001b[0m\u001b[1m  Runningstage.testing   \u001b[0m\u001b[1m \u001b[0m┃\u001b[1m                           \u001b[0m┃\n",
       "┃\u001b[1m \u001b[0m\u001b[1m         metric          \u001b[0m\u001b[1m \u001b[0m┃\u001b[1m \u001b[0m\u001b[1m      DataLoader 0       \u001b[0m\u001b[1m \u001b[0m┃\n",
       "┡━━━━━━━━━━━━━━━━━━━━━━━━━━━╇━━━━━━━━━━━━━━━━━━━━━━━━━━━┩\n",
       "│\u001b[36m \u001b[0m\u001b[36m      Test/Accuracy      \u001b[0m\u001b[36m \u001b[0m│\u001b[35m \u001b[0m\u001b[35m    0.910770833492279    \u001b[0m\u001b[35m \u001b[0m│\n",
       "│\u001b[36m \u001b[0m\u001b[36m      Test/F1Score       \u001b[0m\u001b[36m \u001b[0m│\u001b[35m \u001b[0m\u001b[35m   0.9065608382225037    \u001b[0m\u001b[35m \u001b[0m│\n",
       "│\u001b[36m \u001b[0m\u001b[36m        Test/Loss        \u001b[0m\u001b[36m \u001b[0m│\u001b[35m \u001b[0m\u001b[35m   0.25600898265838623   \u001b[0m\u001b[35m \u001b[0m│\n",
       "│\u001b[36m \u001b[0m\u001b[36m     Test/Precision      \u001b[0m\u001b[36m \u001b[0m│\u001b[35m \u001b[0m\u001b[35m   0.9181401133537292    \u001b[0m\u001b[35m \u001b[0m│\n",
       "│\u001b[36m \u001b[0m\u001b[36m       Test/Recall       \u001b[0m\u001b[36m \u001b[0m│\u001b[35m \u001b[0m\u001b[35m    0.910770833492279    \u001b[0m\u001b[35m \u001b[0m│\n",
       "│\u001b[36m \u001b[0m\u001b[36m   TestEpoch/Accuracy    \u001b[0m\u001b[36m \u001b[0m│\u001b[35m \u001b[0m\u001b[35m   0.9153587818145752    \u001b[0m\u001b[35m \u001b[0m│\n",
       "│\u001b[36m \u001b[0m\u001b[36m    TestEpoch/F1Score    \u001b[0m\u001b[36m \u001b[0m│\u001b[35m \u001b[0m\u001b[35m   0.9153943657875061    \u001b[0m\u001b[35m \u001b[0m│\n",
       "│\u001b[36m \u001b[0m\u001b[36m   TestEpoch/Precision   \u001b[0m\u001b[36m \u001b[0m│\u001b[35m \u001b[0m\u001b[35m   0.9168098568916321    \u001b[0m\u001b[35m \u001b[0m│\n",
       "│\u001b[36m \u001b[0m\u001b[36m    TestEpoch/Recall     \u001b[0m\u001b[36m \u001b[0m│\u001b[35m \u001b[0m\u001b[35m   0.9153587818145752    \u001b[0m\u001b[35m \u001b[0m│\n",
       "└───────────────────────────┴───────────────────────────┘\n"
      ]
     },
     "metadata": {},
     "output_type": "display_data"
    },
    {
     "name": "stderr",
     "output_type": "stream",
     "text": [
      "GPU available: True (cuda), used: True\n",
      "TPU available: False, using: 0 TPU cores\n",
      "IPU available: False, using: 0 IPUs\n",
      "HPU available: False, using: 0 HPUs\n",
      "You are using a CUDA device ('NVIDIA GeForce RTX 4070 Ti') that has Tensor Cores. To properly utilize them, you should set `torch.set_float32_matmul_precision('medium' | 'high')` which will trade-off precision for performance. For more details, read https://pytorch.org/docs/stable/generated/torch.set_float32_matmul_precision.html#torch.set_float32_matmul_precision\n",
      "LOCAL_RANK: 0 - CUDA_VISIBLE_DEVICES: [0,1]\n"
     ]
    },
    {
     "name": "stdout",
     "output_type": "stream",
     "text": [
      "Node 1 aggregate model with [0, 2]\n",
      "Performance of Node 1 after aggregation at round 4\n"
     ]
    },
    {
     "data": {
      "application/vnd.jupyter.widget-view+json": {
       "model_id": "fc06608b239342d4b6931126712c853f",
       "version_major": 2,
       "version_minor": 0
      },
      "text/plain": [
       "Testing: 0it [00:00, ?it/s]"
      ]
     },
     "metadata": {},
     "output_type": "display_data"
    },
    {
     "name": "stdout",
     "output_type": "stream",
     "text": [
      "Epoch end: Test, epoch number: 6\n"
     ]
    },
    {
     "data": {
      "text/html": [
       "<pre style=\"white-space:pre;overflow-x:auto;line-height:normal;font-family:Menlo,'DejaVu Sans Mono',consolas,'Courier New',monospace\">┏━━━━━━━━━━━━━━━━━━━━━━━━━━━┳━━━━━━━━━━━━━━━━━━━━━━━━━━━┓\n",
       "┃<span style=\"font-weight: bold\">   Runningstage.testing    </span>┃<span style=\"font-weight: bold\">                           </span>┃\n",
       "┃<span style=\"font-weight: bold\">          metric           </span>┃<span style=\"font-weight: bold\">       DataLoader 0        </span>┃\n",
       "┡━━━━━━━━━━━━━━━━━━━━━━━━━━━╇━━━━━━━━━━━━━━━━━━━━━━━━━━━┩\n",
       "│<span style=\"color: #008080; text-decoration-color: #008080\">       Test/Accuracy       </span>│<span style=\"color: #800080; text-decoration-color: #800080\">    0.9363893270492554     </span>│\n",
       "│<span style=\"color: #008080; text-decoration-color: #008080\">       Test/F1Score        </span>│<span style=\"color: #800080; text-decoration-color: #800080\">    0.9312061667442322     </span>│\n",
       "│<span style=\"color: #008080; text-decoration-color: #008080\">         Test/Loss         </span>│<span style=\"color: #800080; text-decoration-color: #800080\">    0.21011999249458313    </span>│\n",
       "│<span style=\"color: #008080; text-decoration-color: #008080\">      Test/Precision       </span>│<span style=\"color: #800080; text-decoration-color: #800080\">    0.9380773901939392     </span>│\n",
       "│<span style=\"color: #008080; text-decoration-color: #008080\">        Test/Recall        </span>│<span style=\"color: #800080; text-decoration-color: #800080\">    0.9363893270492554     </span>│\n",
       "│<span style=\"color: #008080; text-decoration-color: #008080\">    TestEpoch/Accuracy     </span>│<span style=\"color: #800080; text-decoration-color: #800080\">    0.9396307468414307     </span>│\n",
       "│<span style=\"color: #008080; text-decoration-color: #008080\">     TestEpoch/F1Score     </span>│<span style=\"color: #800080; text-decoration-color: #800080\">    0.9393728971481323     </span>│\n",
       "│<span style=\"color: #008080; text-decoration-color: #008080\">    TestEpoch/Precision    </span>│<span style=\"color: #800080; text-decoration-color: #800080\">    0.9402943849563599     </span>│\n",
       "│<span style=\"color: #008080; text-decoration-color: #008080\">     TestEpoch/Recall      </span>│<span style=\"color: #800080; text-decoration-color: #800080\">    0.9396307468414307     </span>│\n",
       "└───────────────────────────┴───────────────────────────┘\n",
       "</pre>\n"
      ],
      "text/plain": [
       "┏━━━━━━━━━━━━━━━━━━━━━━━━━━━┳━━━━━━━━━━━━━━━━━━━━━━━━━━━┓\n",
       "┃\u001b[1m \u001b[0m\u001b[1m  Runningstage.testing   \u001b[0m\u001b[1m \u001b[0m┃\u001b[1m                           \u001b[0m┃\n",
       "┃\u001b[1m \u001b[0m\u001b[1m         metric          \u001b[0m\u001b[1m \u001b[0m┃\u001b[1m \u001b[0m\u001b[1m      DataLoader 0       \u001b[0m\u001b[1m \u001b[0m┃\n",
       "┡━━━━━━━━━━━━━━━━━━━━━━━━━━━╇━━━━━━━━━━━━━━━━━━━━━━━━━━━┩\n",
       "│\u001b[36m \u001b[0m\u001b[36m      Test/Accuracy      \u001b[0m\u001b[36m \u001b[0m│\u001b[35m \u001b[0m\u001b[35m   0.9363893270492554    \u001b[0m\u001b[35m \u001b[0m│\n",
       "│\u001b[36m \u001b[0m\u001b[36m      Test/F1Score       \u001b[0m\u001b[36m \u001b[0m│\u001b[35m \u001b[0m\u001b[35m   0.9312061667442322    \u001b[0m\u001b[35m \u001b[0m│\n",
       "│\u001b[36m \u001b[0m\u001b[36m        Test/Loss        \u001b[0m\u001b[36m \u001b[0m│\u001b[35m \u001b[0m\u001b[35m   0.21011999249458313   \u001b[0m\u001b[35m \u001b[0m│\n",
       "│\u001b[36m \u001b[0m\u001b[36m     Test/Precision      \u001b[0m\u001b[36m \u001b[0m│\u001b[35m \u001b[0m\u001b[35m   0.9380773901939392    \u001b[0m\u001b[35m \u001b[0m│\n",
       "│\u001b[36m \u001b[0m\u001b[36m       Test/Recall       \u001b[0m\u001b[36m \u001b[0m│\u001b[35m \u001b[0m\u001b[35m   0.9363893270492554    \u001b[0m\u001b[35m \u001b[0m│\n",
       "│\u001b[36m \u001b[0m\u001b[36m   TestEpoch/Accuracy    \u001b[0m\u001b[36m \u001b[0m│\u001b[35m \u001b[0m\u001b[35m   0.9396307468414307    \u001b[0m\u001b[35m \u001b[0m│\n",
       "│\u001b[36m \u001b[0m\u001b[36m    TestEpoch/F1Score    \u001b[0m\u001b[36m \u001b[0m│\u001b[35m \u001b[0m\u001b[35m   0.9393728971481323    \u001b[0m\u001b[35m \u001b[0m│\n",
       "│\u001b[36m \u001b[0m\u001b[36m   TestEpoch/Precision   \u001b[0m\u001b[36m \u001b[0m│\u001b[35m \u001b[0m\u001b[35m   0.9402943849563599    \u001b[0m\u001b[35m \u001b[0m│\n",
       "│\u001b[36m \u001b[0m\u001b[36m    TestEpoch/Recall     \u001b[0m\u001b[36m \u001b[0m│\u001b[35m \u001b[0m\u001b[35m   0.9396307468414307    \u001b[0m\u001b[35m \u001b[0m│\n",
       "└───────────────────────────┴───────────────────────────┘\n"
      ]
     },
     "metadata": {},
     "output_type": "display_data"
    },
    {
     "name": "stderr",
     "output_type": "stream",
     "text": [
      "GPU available: True (cuda), used: True\n",
      "TPU available: False, using: 0 TPU cores\n",
      "IPU available: False, using: 0 IPUs\n",
      "HPU available: False, using: 0 HPUs\n",
      "You are using a CUDA device ('NVIDIA GeForce RTX 4070 Ti') that has Tensor Cores. To properly utilize them, you should set `torch.set_float32_matmul_precision('medium' | 'high')` which will trade-off precision for performance. For more details, read https://pytorch.org/docs/stable/generated/torch.set_float32_matmul_precision.html#torch.set_float32_matmul_precision\n",
      "LOCAL_RANK: 0 - CUDA_VISIBLE_DEVICES: [0,1]\n"
     ]
    },
    {
     "name": "stdout",
     "output_type": "stream",
     "text": [
      "Node 2 aggregate model with [1, 3]\n",
      "Performance of Node 2 after aggregation at round 4\n"
     ]
    },
    {
     "data": {
      "application/vnd.jupyter.widget-view+json": {
       "model_id": "2efc75b9728b4b8ebd0c9e383a1afa99",
       "version_major": 2,
       "version_minor": 0
      },
      "text/plain": [
       "Testing: 0it [00:00, ?it/s]"
      ]
     },
     "metadata": {},
     "output_type": "display_data"
    },
    {
     "name": "stdout",
     "output_type": "stream",
     "text": [
      "Epoch end: Test, epoch number: 6\n"
     ]
    },
    {
     "data": {
      "text/html": [
       "<pre style=\"white-space:pre;overflow-x:auto;line-height:normal;font-family:Menlo,'DejaVu Sans Mono',consolas,'Courier New',monospace\">┏━━━━━━━━━━━━━━━━━━━━━━━━━━━┳━━━━━━━━━━━━━━━━━━━━━━━━━━━┓\n",
       "┃<span style=\"font-weight: bold\">   Runningstage.testing    </span>┃<span style=\"font-weight: bold\">                           </span>┃\n",
       "┃<span style=\"font-weight: bold\">          metric           </span>┃<span style=\"font-weight: bold\">       DataLoader 0        </span>┃\n",
       "┡━━━━━━━━━━━━━━━━━━━━━━━━━━━╇━━━━━━━━━━━━━━━━━━━━━━━━━━━┩\n",
       "│<span style=\"color: #008080; text-decoration-color: #008080\">       Test/Accuracy       </span>│<span style=\"color: #800080; text-decoration-color: #800080\">    0.9553800821304321     </span>│\n",
       "│<span style=\"color: #008080; text-decoration-color: #008080\">       Test/F1Score        </span>│<span style=\"color: #800080; text-decoration-color: #800080\">    0.9525717496871948     </span>│\n",
       "│<span style=\"color: #008080; text-decoration-color: #008080\">         Test/Loss         </span>│<span style=\"color: #800080; text-decoration-color: #800080\">    0.18337152898311615    </span>│\n",
       "│<span style=\"color: #008080; text-decoration-color: #008080\">      Test/Precision       </span>│<span style=\"color: #800080; text-decoration-color: #800080\">    0.9569716453552246     </span>│\n",
       "│<span style=\"color: #008080; text-decoration-color: #008080\">        Test/Recall        </span>│<span style=\"color: #800080; text-decoration-color: #800080\">    0.9553800821304321     </span>│\n",
       "│<span style=\"color: #008080; text-decoration-color: #008080\">    TestEpoch/Accuracy     </span>│<span style=\"color: #800080; text-decoration-color: #800080\">    0.9542132019996643     </span>│\n",
       "│<span style=\"color: #008080; text-decoration-color: #008080\">     TestEpoch/F1Score     </span>│<span style=\"color: #800080; text-decoration-color: #800080\">    0.9540205001831055     </span>│\n",
       "│<span style=\"color: #008080; text-decoration-color: #008080\">    TestEpoch/Precision    </span>│<span style=\"color: #800080; text-decoration-color: #800080\">    0.9544605016708374     </span>│\n",
       "│<span style=\"color: #008080; text-decoration-color: #008080\">     TestEpoch/Recall      </span>│<span style=\"color: #800080; text-decoration-color: #800080\">    0.9542132019996643     </span>│\n",
       "└───────────────────────────┴───────────────────────────┘\n",
       "</pre>\n"
      ],
      "text/plain": [
       "┏━━━━━━━━━━━━━━━━━━━━━━━━━━━┳━━━━━━━━━━━━━━━━━━━━━━━━━━━┓\n",
       "┃\u001b[1m \u001b[0m\u001b[1m  Runningstage.testing   \u001b[0m\u001b[1m \u001b[0m┃\u001b[1m                           \u001b[0m┃\n",
       "┃\u001b[1m \u001b[0m\u001b[1m         metric          \u001b[0m\u001b[1m \u001b[0m┃\u001b[1m \u001b[0m\u001b[1m      DataLoader 0       \u001b[0m\u001b[1m \u001b[0m┃\n",
       "┡━━━━━━━━━━━━━━━━━━━━━━━━━━━╇━━━━━━━━━━━━━━━━━━━━━━━━━━━┩\n",
       "│\u001b[36m \u001b[0m\u001b[36m      Test/Accuracy      \u001b[0m\u001b[36m \u001b[0m│\u001b[35m \u001b[0m\u001b[35m   0.9553800821304321    \u001b[0m\u001b[35m \u001b[0m│\n",
       "│\u001b[36m \u001b[0m\u001b[36m      Test/F1Score       \u001b[0m\u001b[36m \u001b[0m│\u001b[35m \u001b[0m\u001b[35m   0.9525717496871948    \u001b[0m\u001b[35m \u001b[0m│\n",
       "│\u001b[36m \u001b[0m\u001b[36m        Test/Loss        \u001b[0m\u001b[36m \u001b[0m│\u001b[35m \u001b[0m\u001b[35m   0.18337152898311615   \u001b[0m\u001b[35m \u001b[0m│\n",
       "│\u001b[36m \u001b[0m\u001b[36m     Test/Precision      \u001b[0m\u001b[36m \u001b[0m│\u001b[35m \u001b[0m\u001b[35m   0.9569716453552246    \u001b[0m\u001b[35m \u001b[0m│\n",
       "│\u001b[36m \u001b[0m\u001b[36m       Test/Recall       \u001b[0m\u001b[36m \u001b[0m│\u001b[35m \u001b[0m\u001b[35m   0.9553800821304321    \u001b[0m\u001b[35m \u001b[0m│\n",
       "│\u001b[36m \u001b[0m\u001b[36m   TestEpoch/Accuracy    \u001b[0m\u001b[36m \u001b[0m│\u001b[35m \u001b[0m\u001b[35m   0.9542132019996643    \u001b[0m\u001b[35m \u001b[0m│\n",
       "│\u001b[36m \u001b[0m\u001b[36m    TestEpoch/F1Score    \u001b[0m\u001b[36m \u001b[0m│\u001b[35m \u001b[0m\u001b[35m   0.9540205001831055    \u001b[0m\u001b[35m \u001b[0m│\n",
       "│\u001b[36m \u001b[0m\u001b[36m   TestEpoch/Precision   \u001b[0m\u001b[36m \u001b[0m│\u001b[35m \u001b[0m\u001b[35m   0.9544605016708374    \u001b[0m\u001b[35m \u001b[0m│\n",
       "│\u001b[36m \u001b[0m\u001b[36m    TestEpoch/Recall     \u001b[0m\u001b[36m \u001b[0m│\u001b[35m \u001b[0m\u001b[35m   0.9542132019996643    \u001b[0m\u001b[35m \u001b[0m│\n",
       "└───────────────────────────┴───────────────────────────┘\n"
      ]
     },
     "metadata": {},
     "output_type": "display_data"
    },
    {
     "name": "stderr",
     "output_type": "stream",
     "text": [
      "GPU available: True (cuda), used: True\n",
      "TPU available: False, using: 0 TPU cores\n",
      "IPU available: False, using: 0 IPUs\n",
      "HPU available: False, using: 0 HPUs\n",
      "You are using a CUDA device ('NVIDIA GeForce RTX 4070 Ti') that has Tensor Cores. To properly utilize them, you should set `torch.set_float32_matmul_precision('medium' | 'high')` which will trade-off precision for performance. For more details, read https://pytorch.org/docs/stable/generated/torch.set_float32_matmul_precision.html#torch.set_float32_matmul_precision\n",
      "LOCAL_RANK: 0 - CUDA_VISIBLE_DEVICES: [0,1]\n"
     ]
    },
    {
     "name": "stdout",
     "output_type": "stream",
     "text": [
      "Node 3 aggregate model with [2, 4]\n",
      "Performance of Node 3 after aggregation at round 4\n"
     ]
    },
    {
     "data": {
      "application/vnd.jupyter.widget-view+json": {
       "model_id": "e90ada7c6406434c85724e8c66a337ce",
       "version_major": 2,
       "version_minor": 0
      },
      "text/plain": [
       "Testing: 0it [00:00, ?it/s]"
      ]
     },
     "metadata": {},
     "output_type": "display_data"
    },
    {
     "name": "stdout",
     "output_type": "stream",
     "text": [
      "Epoch end: Test, epoch number: 6\n"
     ]
    },
    {
     "data": {
      "text/html": [
       "<pre style=\"white-space:pre;overflow-x:auto;line-height:normal;font-family:Menlo,'DejaVu Sans Mono',consolas,'Courier New',monospace\">┏━━━━━━━━━━━━━━━━━━━━━━━━━━━┳━━━━━━━━━━━━━━━━━━━━━━━━━━━┓\n",
       "┃<span style=\"font-weight: bold\">   Runningstage.testing    </span>┃<span style=\"font-weight: bold\">                           </span>┃\n",
       "┃<span style=\"font-weight: bold\">          metric           </span>┃<span style=\"font-weight: bold\">       DataLoader 0        </span>┃\n",
       "┡━━━━━━━━━━━━━━━━━━━━━━━━━━━╇━━━━━━━━━━━━━━━━━━━━━━━━━━━┩\n",
       "│<span style=\"color: #008080; text-decoration-color: #008080\">       Test/Accuracy       </span>│<span style=\"color: #800080; text-decoration-color: #800080\">    0.9417993426322937     </span>│\n",
       "│<span style=\"color: #008080; text-decoration-color: #008080\">       Test/F1Score        </span>│<span style=\"color: #800080; text-decoration-color: #800080\">    0.9364902973175049     </span>│\n",
       "│<span style=\"color: #008080; text-decoration-color: #008080\">         Test/Loss         </span>│<span style=\"color: #800080; text-decoration-color: #800080\">    0.2014114260673523     </span>│\n",
       "│<span style=\"color: #008080; text-decoration-color: #008080\">      Test/Precision       </span>│<span style=\"color: #800080; text-decoration-color: #800080\">    0.9419604539871216     </span>│\n",
       "│<span style=\"color: #008080; text-decoration-color: #008080\">        Test/Recall        </span>│<span style=\"color: #800080; text-decoration-color: #800080\">    0.9417993426322937     </span>│\n",
       "│<span style=\"color: #008080; text-decoration-color: #008080\">    TestEpoch/Accuracy     </span>│<span style=\"color: #800080; text-decoration-color: #800080\">    0.9380506277084351     </span>│\n",
       "│<span style=\"color: #008080; text-decoration-color: #008080\">     TestEpoch/F1Score     </span>│<span style=\"color: #800080; text-decoration-color: #800080\">    0.9373999238014221     </span>│\n",
       "│<span style=\"color: #008080; text-decoration-color: #008080\">    TestEpoch/Precision    </span>│<span style=\"color: #800080; text-decoration-color: #800080\">    0.9373321533203125     </span>│\n",
       "│<span style=\"color: #008080; text-decoration-color: #008080\">     TestEpoch/Recall      </span>│<span style=\"color: #800080; text-decoration-color: #800080\">    0.9380506277084351     </span>│\n",
       "└───────────────────────────┴───────────────────────────┘\n",
       "</pre>\n"
      ],
      "text/plain": [
       "┏━━━━━━━━━━━━━━━━━━━━━━━━━━━┳━━━━━━━━━━━━━━━━━━━━━━━━━━━┓\n",
       "┃\u001b[1m \u001b[0m\u001b[1m  Runningstage.testing   \u001b[0m\u001b[1m \u001b[0m┃\u001b[1m                           \u001b[0m┃\n",
       "┃\u001b[1m \u001b[0m\u001b[1m         metric          \u001b[0m\u001b[1m \u001b[0m┃\u001b[1m \u001b[0m\u001b[1m      DataLoader 0       \u001b[0m\u001b[1m \u001b[0m┃\n",
       "┡━━━━━━━━━━━━━━━━━━━━━━━━━━━╇━━━━━━━━━━━━━━━━━━━━━━━━━━━┩\n",
       "│\u001b[36m \u001b[0m\u001b[36m      Test/Accuracy      \u001b[0m\u001b[36m \u001b[0m│\u001b[35m \u001b[0m\u001b[35m   0.9417993426322937    \u001b[0m\u001b[35m \u001b[0m│\n",
       "│\u001b[36m \u001b[0m\u001b[36m      Test/F1Score       \u001b[0m\u001b[36m \u001b[0m│\u001b[35m \u001b[0m\u001b[35m   0.9364902973175049    \u001b[0m\u001b[35m \u001b[0m│\n",
       "│\u001b[36m \u001b[0m\u001b[36m        Test/Loss        \u001b[0m\u001b[36m \u001b[0m│\u001b[35m \u001b[0m\u001b[35m   0.2014114260673523    \u001b[0m\u001b[35m \u001b[0m│\n",
       "│\u001b[36m \u001b[0m\u001b[36m     Test/Precision      \u001b[0m\u001b[36m \u001b[0m│\u001b[35m \u001b[0m\u001b[35m   0.9419604539871216    \u001b[0m\u001b[35m \u001b[0m│\n",
       "│\u001b[36m \u001b[0m\u001b[36m       Test/Recall       \u001b[0m\u001b[36m \u001b[0m│\u001b[35m \u001b[0m\u001b[35m   0.9417993426322937    \u001b[0m\u001b[35m \u001b[0m│\n",
       "│\u001b[36m \u001b[0m\u001b[36m   TestEpoch/Accuracy    \u001b[0m\u001b[36m \u001b[0m│\u001b[35m \u001b[0m\u001b[35m   0.9380506277084351    \u001b[0m\u001b[35m \u001b[0m│\n",
       "│\u001b[36m \u001b[0m\u001b[36m    TestEpoch/F1Score    \u001b[0m\u001b[36m \u001b[0m│\u001b[35m \u001b[0m\u001b[35m   0.9373999238014221    \u001b[0m\u001b[35m \u001b[0m│\n",
       "│\u001b[36m \u001b[0m\u001b[36m   TestEpoch/Precision   \u001b[0m\u001b[36m \u001b[0m│\u001b[35m \u001b[0m\u001b[35m   0.9373321533203125    \u001b[0m\u001b[35m \u001b[0m│\n",
       "│\u001b[36m \u001b[0m\u001b[36m    TestEpoch/Recall     \u001b[0m\u001b[36m \u001b[0m│\u001b[35m \u001b[0m\u001b[35m   0.9380506277084351    \u001b[0m\u001b[35m \u001b[0m│\n",
       "└───────────────────────────┴───────────────────────────┘\n"
      ]
     },
     "metadata": {},
     "output_type": "display_data"
    },
    {
     "name": "stderr",
     "output_type": "stream",
     "text": [
      "GPU available: True (cuda), used: True\n",
      "TPU available: False, using: 0 TPU cores\n",
      "IPU available: False, using: 0 IPUs\n",
      "HPU available: False, using: 0 HPUs\n",
      "You are using a CUDA device ('NVIDIA GeForce RTX 4070 Ti') that has Tensor Cores. To properly utilize them, you should set `torch.set_float32_matmul_precision('medium' | 'high')` which will trade-off precision for performance. For more details, read https://pytorch.org/docs/stable/generated/torch.set_float32_matmul_precision.html#torch.set_float32_matmul_precision\n",
      "LOCAL_RANK: 0 - CUDA_VISIBLE_DEVICES: [0,1]\n"
     ]
    },
    {
     "name": "stdout",
     "output_type": "stream",
     "text": [
      "Node 4 aggregate model with [3, 5]\n",
      "Performance of Node 4 after aggregation at round 4\n"
     ]
    },
    {
     "data": {
      "application/vnd.jupyter.widget-view+json": {
       "model_id": "b515527e22b945409f122cb5d1480042",
       "version_major": 2,
       "version_minor": 0
      },
      "text/plain": [
       "Testing: 0it [00:00, ?it/s]"
      ]
     },
     "metadata": {},
     "output_type": "display_data"
    },
    {
     "name": "stdout",
     "output_type": "stream",
     "text": [
      "Epoch end: Test, epoch number: 6\n"
     ]
    },
    {
     "data": {
      "text/html": [
       "<pre style=\"white-space:pre;overflow-x:auto;line-height:normal;font-family:Menlo,'DejaVu Sans Mono',consolas,'Courier New',monospace\">┏━━━━━━━━━━━━━━━━━━━━━━━━━━━┳━━━━━━━━━━━━━━━━━━━━━━━━━━━┓\n",
       "┃<span style=\"font-weight: bold\">   Runningstage.testing    </span>┃<span style=\"font-weight: bold\">                           </span>┃\n",
       "┃<span style=\"font-weight: bold\">          metric           </span>┃<span style=\"font-weight: bold\">       DataLoader 0        </span>┃\n",
       "┡━━━━━━━━━━━━━━━━━━━━━━━━━━━╇━━━━━━━━━━━━━━━━━━━━━━━━━━━┩\n",
       "│<span style=\"color: #008080; text-decoration-color: #008080\">       Test/Accuracy       </span>│<span style=\"color: #800080; text-decoration-color: #800080\">    0.9341922402381897     </span>│\n",
       "│<span style=\"color: #008080; text-decoration-color: #008080\">       Test/F1Score        </span>│<span style=\"color: #800080; text-decoration-color: #800080\">    0.9274984002113342     </span>│\n",
       "│<span style=\"color: #008080; text-decoration-color: #008080\">         Test/Loss         </span>│<span style=\"color: #800080; text-decoration-color: #800080\">    0.23708400130271912    </span>│\n",
       "│<span style=\"color: #008080; text-decoration-color: #008080\">      Test/Precision       </span>│<span style=\"color: #800080; text-decoration-color: #800080\">    0.9358134269714355     </span>│\n",
       "│<span style=\"color: #008080; text-decoration-color: #008080\">        Test/Recall        </span>│<span style=\"color: #800080; text-decoration-color: #800080\">    0.9341922402381897     </span>│\n",
       "│<span style=\"color: #008080; text-decoration-color: #008080\">    TestEpoch/Accuracy     </span>│<span style=\"color: #800080; text-decoration-color: #800080\">    0.9372243285179138     </span>│\n",
       "│<span style=\"color: #008080; text-decoration-color: #008080\">     TestEpoch/F1Score     </span>│<span style=\"color: #800080; text-decoration-color: #800080\">     0.937126100063324     </span>│\n",
       "│<span style=\"color: #008080; text-decoration-color: #008080\">    TestEpoch/Precision    </span>│<span style=\"color: #800080; text-decoration-color: #800080\">    0.9379730224609375     </span>│\n",
       "│<span style=\"color: #008080; text-decoration-color: #008080\">     TestEpoch/Recall      </span>│<span style=\"color: #800080; text-decoration-color: #800080\">    0.9372243285179138     </span>│\n",
       "└───────────────────────────┴───────────────────────────┘\n",
       "</pre>\n"
      ],
      "text/plain": [
       "┏━━━━━━━━━━━━━━━━━━━━━━━━━━━┳━━━━━━━━━━━━━━━━━━━━━━━━━━━┓\n",
       "┃\u001b[1m \u001b[0m\u001b[1m  Runningstage.testing   \u001b[0m\u001b[1m \u001b[0m┃\u001b[1m                           \u001b[0m┃\n",
       "┃\u001b[1m \u001b[0m\u001b[1m         metric          \u001b[0m\u001b[1m \u001b[0m┃\u001b[1m \u001b[0m\u001b[1m      DataLoader 0       \u001b[0m\u001b[1m \u001b[0m┃\n",
       "┡━━━━━━━━━━━━━━━━━━━━━━━━━━━╇━━━━━━━━━━━━━━━━━━━━━━━━━━━┩\n",
       "│\u001b[36m \u001b[0m\u001b[36m      Test/Accuracy      \u001b[0m\u001b[36m \u001b[0m│\u001b[35m \u001b[0m\u001b[35m   0.9341922402381897    \u001b[0m\u001b[35m \u001b[0m│\n",
       "│\u001b[36m \u001b[0m\u001b[36m      Test/F1Score       \u001b[0m\u001b[36m \u001b[0m│\u001b[35m \u001b[0m\u001b[35m   0.9274984002113342    \u001b[0m\u001b[35m \u001b[0m│\n",
       "│\u001b[36m \u001b[0m\u001b[36m        Test/Loss        \u001b[0m\u001b[36m \u001b[0m│\u001b[35m \u001b[0m\u001b[35m   0.23708400130271912   \u001b[0m\u001b[35m \u001b[0m│\n",
       "│\u001b[36m \u001b[0m\u001b[36m     Test/Precision      \u001b[0m\u001b[36m \u001b[0m│\u001b[35m \u001b[0m\u001b[35m   0.9358134269714355    \u001b[0m\u001b[35m \u001b[0m│\n",
       "│\u001b[36m \u001b[0m\u001b[36m       Test/Recall       \u001b[0m\u001b[36m \u001b[0m│\u001b[35m \u001b[0m\u001b[35m   0.9341922402381897    \u001b[0m\u001b[35m \u001b[0m│\n",
       "│\u001b[36m \u001b[0m\u001b[36m   TestEpoch/Accuracy    \u001b[0m\u001b[36m \u001b[0m│\u001b[35m \u001b[0m\u001b[35m   0.9372243285179138    \u001b[0m\u001b[35m \u001b[0m│\n",
       "│\u001b[36m \u001b[0m\u001b[36m    TestEpoch/F1Score    \u001b[0m\u001b[36m \u001b[0m│\u001b[35m \u001b[0m\u001b[35m    0.937126100063324    \u001b[0m\u001b[35m \u001b[0m│\n",
       "│\u001b[36m \u001b[0m\u001b[36m   TestEpoch/Precision   \u001b[0m\u001b[36m \u001b[0m│\u001b[35m \u001b[0m\u001b[35m   0.9379730224609375    \u001b[0m\u001b[35m \u001b[0m│\n",
       "│\u001b[36m \u001b[0m\u001b[36m    TestEpoch/Recall     \u001b[0m\u001b[36m \u001b[0m│\u001b[35m \u001b[0m\u001b[35m   0.9372243285179138    \u001b[0m\u001b[35m \u001b[0m│\n",
       "└───────────────────────────┴───────────────────────────┘\n"
      ]
     },
     "metadata": {},
     "output_type": "display_data"
    },
    {
     "name": "stderr",
     "output_type": "stream",
     "text": [
      "GPU available: True (cuda), used: True\n",
      "TPU available: False, using: 0 TPU cores\n",
      "IPU available: False, using: 0 IPUs\n",
      "HPU available: False, using: 0 HPUs\n",
      "You are using a CUDA device ('NVIDIA GeForce RTX 4070 Ti') that has Tensor Cores. To properly utilize them, you should set `torch.set_float32_matmul_precision('medium' | 'high')` which will trade-off precision for performance. For more details, read https://pytorch.org/docs/stable/generated/torch.set_float32_matmul_precision.html#torch.set_float32_matmul_precision\n",
      "LOCAL_RANK: 0 - CUDA_VISIBLE_DEVICES: [0,1]\n"
     ]
    },
    {
     "name": "stdout",
     "output_type": "stream",
     "text": [
      "Node 5 aggregate model with [4, 6]\n",
      "Performance of Node 5 after aggregation at round 4\n"
     ]
    },
    {
     "data": {
      "application/vnd.jupyter.widget-view+json": {
       "model_id": "0afb0cee87474126907ce0f0a120d2a5",
       "version_major": 2,
       "version_minor": 0
      },
      "text/plain": [
       "Testing: 0it [00:00, ?it/s]"
      ]
     },
     "metadata": {},
     "output_type": "display_data"
    },
    {
     "name": "stdout",
     "output_type": "stream",
     "text": [
      "Epoch end: Test, epoch number: 6\n"
     ]
    },
    {
     "data": {
      "text/html": [
       "<pre style=\"white-space:pre;overflow-x:auto;line-height:normal;font-family:Menlo,'DejaVu Sans Mono',consolas,'Courier New',monospace\">┏━━━━━━━━━━━━━━━━━━━━━━━━━━━┳━━━━━━━━━━━━━━━━━━━━━━━━━━━┓\n",
       "┃<span style=\"font-weight: bold\">   Runningstage.testing    </span>┃<span style=\"font-weight: bold\">                           </span>┃\n",
       "┃<span style=\"font-weight: bold\">          metric           </span>┃<span style=\"font-weight: bold\">       DataLoader 0        </span>┃\n",
       "┡━━━━━━━━━━━━━━━━━━━━━━━━━━━╇━━━━━━━━━━━━━━━━━━━━━━━━━━━┩\n",
       "│<span style=\"color: #008080; text-decoration-color: #008080\">       Test/Accuracy       </span>│<span style=\"color: #800080; text-decoration-color: #800080\">    0.9457430839538574     </span>│\n",
       "│<span style=\"color: #008080; text-decoration-color: #008080\">       Test/F1Score        </span>│<span style=\"color: #800080; text-decoration-color: #800080\">    0.9388388395309448     </span>│\n",
       "│<span style=\"color: #008080; text-decoration-color: #008080\">         Test/Loss         </span>│<span style=\"color: #800080; text-decoration-color: #800080\">    0.2386627197265625     </span>│\n",
       "│<span style=\"color: #008080; text-decoration-color: #008080\">      Test/Precision       </span>│<span style=\"color: #800080; text-decoration-color: #800080\">     0.942955493927002     </span>│\n",
       "│<span style=\"color: #008080; text-decoration-color: #008080\">        Test/Recall        </span>│<span style=\"color: #800080; text-decoration-color: #800080\">    0.9457430839538574     </span>│\n",
       "│<span style=\"color: #008080; text-decoration-color: #008080\">    TestEpoch/Accuracy     </span>│<span style=\"color: #800080; text-decoration-color: #800080\">    0.9405851364135742     </span>│\n",
       "│<span style=\"color: #008080; text-decoration-color: #008080\">     TestEpoch/F1Score     </span>│<span style=\"color: #800080; text-decoration-color: #800080\">    0.9402392506599426     </span>│\n",
       "│<span style=\"color: #008080; text-decoration-color: #008080\">    TestEpoch/Precision    </span>│<span style=\"color: #800080; text-decoration-color: #800080\">    0.9408574104309082     </span>│\n",
       "│<span style=\"color: #008080; text-decoration-color: #008080\">     TestEpoch/Recall      </span>│<span style=\"color: #800080; text-decoration-color: #800080\">    0.9405851364135742     </span>│\n",
       "└───────────────────────────┴───────────────────────────┘\n",
       "</pre>\n"
      ],
      "text/plain": [
       "┏━━━━━━━━━━━━━━━━━━━━━━━━━━━┳━━━━━━━━━━━━━━━━━━━━━━━━━━━┓\n",
       "┃\u001b[1m \u001b[0m\u001b[1m  Runningstage.testing   \u001b[0m\u001b[1m \u001b[0m┃\u001b[1m                           \u001b[0m┃\n",
       "┃\u001b[1m \u001b[0m\u001b[1m         metric          \u001b[0m\u001b[1m \u001b[0m┃\u001b[1m \u001b[0m\u001b[1m      DataLoader 0       \u001b[0m\u001b[1m \u001b[0m┃\n",
       "┡━━━━━━━━━━━━━━━━━━━━━━━━━━━╇━━━━━━━━━━━━━━━━━━━━━━━━━━━┩\n",
       "│\u001b[36m \u001b[0m\u001b[36m      Test/Accuracy      \u001b[0m\u001b[36m \u001b[0m│\u001b[35m \u001b[0m\u001b[35m   0.9457430839538574    \u001b[0m\u001b[35m \u001b[0m│\n",
       "│\u001b[36m \u001b[0m\u001b[36m      Test/F1Score       \u001b[0m\u001b[36m \u001b[0m│\u001b[35m \u001b[0m\u001b[35m   0.9388388395309448    \u001b[0m\u001b[35m \u001b[0m│\n",
       "│\u001b[36m \u001b[0m\u001b[36m        Test/Loss        \u001b[0m\u001b[36m \u001b[0m│\u001b[35m \u001b[0m\u001b[35m   0.2386627197265625    \u001b[0m\u001b[35m \u001b[0m│\n",
       "│\u001b[36m \u001b[0m\u001b[36m     Test/Precision      \u001b[0m\u001b[36m \u001b[0m│\u001b[35m \u001b[0m\u001b[35m    0.942955493927002    \u001b[0m\u001b[35m \u001b[0m│\n",
       "│\u001b[36m \u001b[0m\u001b[36m       Test/Recall       \u001b[0m\u001b[36m \u001b[0m│\u001b[35m \u001b[0m\u001b[35m   0.9457430839538574    \u001b[0m\u001b[35m \u001b[0m│\n",
       "│\u001b[36m \u001b[0m\u001b[36m   TestEpoch/Accuracy    \u001b[0m\u001b[36m \u001b[0m│\u001b[35m \u001b[0m\u001b[35m   0.9405851364135742    \u001b[0m\u001b[35m \u001b[0m│\n",
       "│\u001b[36m \u001b[0m\u001b[36m    TestEpoch/F1Score    \u001b[0m\u001b[36m \u001b[0m│\u001b[35m \u001b[0m\u001b[35m   0.9402392506599426    \u001b[0m\u001b[35m \u001b[0m│\n",
       "│\u001b[36m \u001b[0m\u001b[36m   TestEpoch/Precision   \u001b[0m\u001b[36m \u001b[0m│\u001b[35m \u001b[0m\u001b[35m   0.9408574104309082    \u001b[0m\u001b[35m \u001b[0m│\n",
       "│\u001b[36m \u001b[0m\u001b[36m    TestEpoch/Recall     \u001b[0m\u001b[36m \u001b[0m│\u001b[35m \u001b[0m\u001b[35m   0.9405851364135742    \u001b[0m\u001b[35m \u001b[0m│\n",
       "└───────────────────────────┴───────────────────────────┘\n"
      ]
     },
     "metadata": {},
     "output_type": "display_data"
    },
    {
     "name": "stderr",
     "output_type": "stream",
     "text": [
      "GPU available: True (cuda), used: True\n",
      "TPU available: False, using: 0 TPU cores\n",
      "IPU available: False, using: 0 IPUs\n",
      "HPU available: False, using: 0 HPUs\n",
      "You are using a CUDA device ('NVIDIA GeForce RTX 4070 Ti') that has Tensor Cores. To properly utilize them, you should set `torch.set_float32_matmul_precision('medium' | 'high')` which will trade-off precision for performance. For more details, read https://pytorch.org/docs/stable/generated/torch.set_float32_matmul_precision.html#torch.set_float32_matmul_precision\n",
      "LOCAL_RANK: 0 - CUDA_VISIBLE_DEVICES: [0,1]\n"
     ]
    },
    {
     "name": "stdout",
     "output_type": "stream",
     "text": [
      "Node 6 aggregate model with [5, 7]\n",
      "Performance of Node 6 after aggregation at round 4\n"
     ]
    },
    {
     "data": {
      "application/vnd.jupyter.widget-view+json": {
       "model_id": "4d7e61a6537a401f8ab2b86efbb91ec5",
       "version_major": 2,
       "version_minor": 0
      },
      "text/plain": [
       "Testing: 0it [00:00, ?it/s]"
      ]
     },
     "metadata": {},
     "output_type": "display_data"
    },
    {
     "name": "stdout",
     "output_type": "stream",
     "text": [
      "Epoch end: Test, epoch number: 6\n"
     ]
    },
    {
     "data": {
      "text/html": [
       "<pre style=\"white-space:pre;overflow-x:auto;line-height:normal;font-family:Menlo,'DejaVu Sans Mono',consolas,'Courier New',monospace\">┏━━━━━━━━━━━━━━━━━━━━━━━━━━━┳━━━━━━━━━━━━━━━━━━━━━━━━━━━┓\n",
       "┃<span style=\"font-weight: bold\">   Runningstage.testing    </span>┃<span style=\"font-weight: bold\">                           </span>┃\n",
       "┃<span style=\"font-weight: bold\">          metric           </span>┃<span style=\"font-weight: bold\">       DataLoader 0        </span>┃\n",
       "┡━━━━━━━━━━━━━━━━━━━━━━━━━━━╇━━━━━━━━━━━━━━━━━━━━━━━━━━━┩\n",
       "│<span style=\"color: #008080; text-decoration-color: #008080\">       Test/Accuracy       </span>│<span style=\"color: #800080; text-decoration-color: #800080\">    0.9037467837333679     </span>│\n",
       "│<span style=\"color: #008080; text-decoration-color: #008080\">       Test/F1Score        </span>│<span style=\"color: #800080; text-decoration-color: #800080\">    0.8968875408172607     </span>│\n",
       "│<span style=\"color: #008080; text-decoration-color: #008080\">         Test/Loss         </span>│<span style=\"color: #800080; text-decoration-color: #800080\">    0.25431591272354126    </span>│\n",
       "│<span style=\"color: #008080; text-decoration-color: #008080\">      Test/Precision       </span>│<span style=\"color: #800080; text-decoration-color: #800080\">    0.9046174883842468     </span>│\n",
       "│<span style=\"color: #008080; text-decoration-color: #008080\">        Test/Recall        </span>│<span style=\"color: #800080; text-decoration-color: #800080\">    0.9037467837333679     </span>│\n",
       "│<span style=\"color: #008080; text-decoration-color: #008080\">    TestEpoch/Accuracy     </span>│<span style=\"color: #800080; text-decoration-color: #800080\">    0.9088544845581055     </span>│\n",
       "│<span style=\"color: #008080; text-decoration-color: #008080\">     TestEpoch/F1Score     </span>│<span style=\"color: #800080; text-decoration-color: #800080\">    0.9090311527252197     </span>│\n",
       "│<span style=\"color: #008080; text-decoration-color: #008080\">    TestEpoch/Precision    </span>│<span style=\"color: #800080; text-decoration-color: #800080\">    0.9117035865783691     </span>│\n",
       "│<span style=\"color: #008080; text-decoration-color: #008080\">     TestEpoch/Recall      </span>│<span style=\"color: #800080; text-decoration-color: #800080\">    0.9088544845581055     </span>│\n",
       "└───────────────────────────┴───────────────────────────┘\n",
       "</pre>\n"
      ],
      "text/plain": [
       "┏━━━━━━━━━━━━━━━━━━━━━━━━━━━┳━━━━━━━━━━━━━━━━━━━━━━━━━━━┓\n",
       "┃\u001b[1m \u001b[0m\u001b[1m  Runningstage.testing   \u001b[0m\u001b[1m \u001b[0m┃\u001b[1m                           \u001b[0m┃\n",
       "┃\u001b[1m \u001b[0m\u001b[1m         metric          \u001b[0m\u001b[1m \u001b[0m┃\u001b[1m \u001b[0m\u001b[1m      DataLoader 0       \u001b[0m\u001b[1m \u001b[0m┃\n",
       "┡━━━━━━━━━━━━━━━━━━━━━━━━━━━╇━━━━━━━━━━━━━━━━━━━━━━━━━━━┩\n",
       "│\u001b[36m \u001b[0m\u001b[36m      Test/Accuracy      \u001b[0m\u001b[36m \u001b[0m│\u001b[35m \u001b[0m\u001b[35m   0.9037467837333679    \u001b[0m\u001b[35m \u001b[0m│\n",
       "│\u001b[36m \u001b[0m\u001b[36m      Test/F1Score       \u001b[0m\u001b[36m \u001b[0m│\u001b[35m \u001b[0m\u001b[35m   0.8968875408172607    \u001b[0m\u001b[35m \u001b[0m│\n",
       "│\u001b[36m \u001b[0m\u001b[36m        Test/Loss        \u001b[0m\u001b[36m \u001b[0m│\u001b[35m \u001b[0m\u001b[35m   0.25431591272354126   \u001b[0m\u001b[35m \u001b[0m│\n",
       "│\u001b[36m \u001b[0m\u001b[36m     Test/Precision      \u001b[0m\u001b[36m \u001b[0m│\u001b[35m \u001b[0m\u001b[35m   0.9046174883842468    \u001b[0m\u001b[35m \u001b[0m│\n",
       "│\u001b[36m \u001b[0m\u001b[36m       Test/Recall       \u001b[0m\u001b[36m \u001b[0m│\u001b[35m \u001b[0m\u001b[35m   0.9037467837333679    \u001b[0m\u001b[35m \u001b[0m│\n",
       "│\u001b[36m \u001b[0m\u001b[36m   TestEpoch/Accuracy    \u001b[0m\u001b[36m \u001b[0m│\u001b[35m \u001b[0m\u001b[35m   0.9088544845581055    \u001b[0m\u001b[35m \u001b[0m│\n",
       "│\u001b[36m \u001b[0m\u001b[36m    TestEpoch/F1Score    \u001b[0m\u001b[36m \u001b[0m│\u001b[35m \u001b[0m\u001b[35m   0.9090311527252197    \u001b[0m\u001b[35m \u001b[0m│\n",
       "│\u001b[36m \u001b[0m\u001b[36m   TestEpoch/Precision   \u001b[0m\u001b[36m \u001b[0m│\u001b[35m \u001b[0m\u001b[35m   0.9117035865783691    \u001b[0m\u001b[35m \u001b[0m│\n",
       "│\u001b[36m \u001b[0m\u001b[36m    TestEpoch/Recall     \u001b[0m\u001b[36m \u001b[0m│\u001b[35m \u001b[0m\u001b[35m   0.9088544845581055    \u001b[0m\u001b[35m \u001b[0m│\n",
       "└───────────────────────────┴───────────────────────────┘\n"
      ]
     },
     "metadata": {},
     "output_type": "display_data"
    },
    {
     "name": "stderr",
     "output_type": "stream",
     "text": [
      "GPU available: True (cuda), used: True\n",
      "TPU available: False, using: 0 TPU cores\n",
      "IPU available: False, using: 0 IPUs\n",
      "HPU available: False, using: 0 HPUs\n",
      "You are using a CUDA device ('NVIDIA GeForce RTX 4070 Ti') that has Tensor Cores. To properly utilize them, you should set `torch.set_float32_matmul_precision('medium' | 'high')` which will trade-off precision for performance. For more details, read https://pytorch.org/docs/stable/generated/torch.set_float32_matmul_precision.html#torch.set_float32_matmul_precision\n",
      "LOCAL_RANK: 0 - CUDA_VISIBLE_DEVICES: [0,1]\n"
     ]
    },
    {
     "name": "stdout",
     "output_type": "stream",
     "text": [
      "Node 7 aggregate model with [6, 8]\n",
      "Performance of Node 7 after aggregation at round 4\n"
     ]
    },
    {
     "data": {
      "application/vnd.jupyter.widget-view+json": {
       "model_id": "c71035209c1a47cbb101a46eca941f70",
       "version_major": 2,
       "version_minor": 0
      },
      "text/plain": [
       "Testing: 0it [00:00, ?it/s]"
      ]
     },
     "metadata": {},
     "output_type": "display_data"
    },
    {
     "name": "stdout",
     "output_type": "stream",
     "text": [
      "Epoch end: Test, epoch number: 6\n"
     ]
    },
    {
     "data": {
      "text/html": [
       "<pre style=\"white-space:pre;overflow-x:auto;line-height:normal;font-family:Menlo,'DejaVu Sans Mono',consolas,'Courier New',monospace\">┏━━━━━━━━━━━━━━━━━━━━━━━━━━━┳━━━━━━━━━━━━━━━━━━━━━━━━━━━┓\n",
       "┃<span style=\"font-weight: bold\">   Runningstage.testing    </span>┃<span style=\"font-weight: bold\">                           </span>┃\n",
       "┃<span style=\"font-weight: bold\">          metric           </span>┃<span style=\"font-weight: bold\">       DataLoader 0        </span>┃\n",
       "┡━━━━━━━━━━━━━━━━━━━━━━━━━━━╇━━━━━━━━━━━━━━━━━━━━━━━━━━━┩\n",
       "│<span style=\"color: #008080; text-decoration-color: #008080\">       Test/Accuracy       </span>│<span style=\"color: #800080; text-decoration-color: #800080\">    0.9365343451499939     </span>│\n",
       "│<span style=\"color: #008080; text-decoration-color: #008080\">       Test/F1Score        </span>│<span style=\"color: #800080; text-decoration-color: #800080\">    0.9304295182228088     </span>│\n",
       "│<span style=\"color: #008080; text-decoration-color: #008080\">         Test/Loss         </span>│<span style=\"color: #800080; text-decoration-color: #800080\">    0.20820824801921844    </span>│\n",
       "│<span style=\"color: #008080; text-decoration-color: #008080\">      Test/Precision       </span>│<span style=\"color: #800080; text-decoration-color: #800080\">     0.940530002117157     </span>│\n",
       "│<span style=\"color: #008080; text-decoration-color: #008080\">        Test/Recall        </span>│<span style=\"color: #800080; text-decoration-color: #800080\">    0.9365343451499939     </span>│\n",
       "│<span style=\"color: #008080; text-decoration-color: #008080\">    TestEpoch/Accuracy     </span>│<span style=\"color: #800080; text-decoration-color: #800080\">    0.9388225078582764     </span>│\n",
       "│<span style=\"color: #008080; text-decoration-color: #008080\">     TestEpoch/F1Score     </span>│<span style=\"color: #800080; text-decoration-color: #800080\">    0.9391440749168396     </span>│\n",
       "│<span style=\"color: #008080; text-decoration-color: #008080\">    TestEpoch/Precision    </span>│<span style=\"color: #800080; text-decoration-color: #800080\">     0.940342903137207     </span>│\n",
       "│<span style=\"color: #008080; text-decoration-color: #008080\">     TestEpoch/Recall      </span>│<span style=\"color: #800080; text-decoration-color: #800080\">    0.9388225078582764     </span>│\n",
       "└───────────────────────────┴───────────────────────────┘\n",
       "</pre>\n"
      ],
      "text/plain": [
       "┏━━━━━━━━━━━━━━━━━━━━━━━━━━━┳━━━━━━━━━━━━━━━━━━━━━━━━━━━┓\n",
       "┃\u001b[1m \u001b[0m\u001b[1m  Runningstage.testing   \u001b[0m\u001b[1m \u001b[0m┃\u001b[1m                           \u001b[0m┃\n",
       "┃\u001b[1m \u001b[0m\u001b[1m         metric          \u001b[0m\u001b[1m \u001b[0m┃\u001b[1m \u001b[0m\u001b[1m      DataLoader 0       \u001b[0m\u001b[1m \u001b[0m┃\n",
       "┡━━━━━━━━━━━━━━━━━━━━━━━━━━━╇━━━━━━━━━━━━━━━━━━━━━━━━━━━┩\n",
       "│\u001b[36m \u001b[0m\u001b[36m      Test/Accuracy      \u001b[0m\u001b[36m \u001b[0m│\u001b[35m \u001b[0m\u001b[35m   0.9365343451499939    \u001b[0m\u001b[35m \u001b[0m│\n",
       "│\u001b[36m \u001b[0m\u001b[36m      Test/F1Score       \u001b[0m\u001b[36m \u001b[0m│\u001b[35m \u001b[0m\u001b[35m   0.9304295182228088    \u001b[0m\u001b[35m \u001b[0m│\n",
       "│\u001b[36m \u001b[0m\u001b[36m        Test/Loss        \u001b[0m\u001b[36m \u001b[0m│\u001b[35m \u001b[0m\u001b[35m   0.20820824801921844   \u001b[0m\u001b[35m \u001b[0m│\n",
       "│\u001b[36m \u001b[0m\u001b[36m     Test/Precision      \u001b[0m\u001b[36m \u001b[0m│\u001b[35m \u001b[0m\u001b[35m    0.940530002117157    \u001b[0m\u001b[35m \u001b[0m│\n",
       "│\u001b[36m \u001b[0m\u001b[36m       Test/Recall       \u001b[0m\u001b[36m \u001b[0m│\u001b[35m \u001b[0m\u001b[35m   0.9365343451499939    \u001b[0m\u001b[35m \u001b[0m│\n",
       "│\u001b[36m \u001b[0m\u001b[36m   TestEpoch/Accuracy    \u001b[0m\u001b[36m \u001b[0m│\u001b[35m \u001b[0m\u001b[35m   0.9388225078582764    \u001b[0m\u001b[35m \u001b[0m│\n",
       "│\u001b[36m \u001b[0m\u001b[36m    TestEpoch/F1Score    \u001b[0m\u001b[36m \u001b[0m│\u001b[35m \u001b[0m\u001b[35m   0.9391440749168396    \u001b[0m\u001b[35m \u001b[0m│\n",
       "│\u001b[36m \u001b[0m\u001b[36m   TestEpoch/Precision   \u001b[0m\u001b[36m \u001b[0m│\u001b[35m \u001b[0m\u001b[35m    0.940342903137207    \u001b[0m\u001b[35m \u001b[0m│\n",
       "│\u001b[36m \u001b[0m\u001b[36m    TestEpoch/Recall     \u001b[0m\u001b[36m \u001b[0m│\u001b[35m \u001b[0m\u001b[35m   0.9388225078582764    \u001b[0m\u001b[35m \u001b[0m│\n",
       "└───────────────────────────┴───────────────────────────┘\n"
      ]
     },
     "metadata": {},
     "output_type": "display_data"
    },
    {
     "name": "stderr",
     "output_type": "stream",
     "text": [
      "GPU available: True (cuda), used: True\n",
      "TPU available: False, using: 0 TPU cores\n",
      "IPU available: False, using: 0 IPUs\n",
      "HPU available: False, using: 0 HPUs\n",
      "You are using a CUDA device ('NVIDIA GeForce RTX 4070 Ti') that has Tensor Cores. To properly utilize them, you should set `torch.set_float32_matmul_precision('medium' | 'high')` which will trade-off precision for performance. For more details, read https://pytorch.org/docs/stable/generated/torch.set_float32_matmul_precision.html#torch.set_float32_matmul_precision\n",
      "LOCAL_RANK: 0 - CUDA_VISIBLE_DEVICES: [0,1]\n"
     ]
    },
    {
     "name": "stdout",
     "output_type": "stream",
     "text": [
      "Node 8 aggregate model with [7, 9]\n",
      "Performance of Node 8 after aggregation at round 4\n"
     ]
    },
    {
     "data": {
      "application/vnd.jupyter.widget-view+json": {
       "model_id": "1668ec032a6c489f9cc1a9834f5b78fa",
       "version_major": 2,
       "version_minor": 0
      },
      "text/plain": [
       "Testing: 0it [00:00, ?it/s]"
      ]
     },
     "metadata": {},
     "output_type": "display_data"
    },
    {
     "name": "stdout",
     "output_type": "stream",
     "text": [
      "Epoch end: Test, epoch number: 6\n"
     ]
    },
    {
     "data": {
      "text/html": [
       "<pre style=\"white-space:pre;overflow-x:auto;line-height:normal;font-family:Menlo,'DejaVu Sans Mono',consolas,'Courier New',monospace\">┏━━━━━━━━━━━━━━━━━━━━━━━━━━━┳━━━━━━━━━━━━━━━━━━━━━━━━━━━┓\n",
       "┃<span style=\"font-weight: bold\">   Runningstage.testing    </span>┃<span style=\"font-weight: bold\">                           </span>┃\n",
       "┃<span style=\"font-weight: bold\">          metric           </span>┃<span style=\"font-weight: bold\">       DataLoader 0        </span>┃\n",
       "┡━━━━━━━━━━━━━━━━━━━━━━━━━━━╇━━━━━━━━━━━━━━━━━━━━━━━━━━━┩\n",
       "│<span style=\"color: #008080; text-decoration-color: #008080\">       Test/Accuracy       </span>│<span style=\"color: #800080; text-decoration-color: #800080\">    0.9354870319366455     </span>│\n",
       "│<span style=\"color: #008080; text-decoration-color: #008080\">       Test/F1Score        </span>│<span style=\"color: #800080; text-decoration-color: #800080\">    0.9321731328964233     </span>│\n",
       "│<span style=\"color: #008080; text-decoration-color: #008080\">         Test/Loss         </span>│<span style=\"color: #800080; text-decoration-color: #800080\">    0.24689556658267975    </span>│\n",
       "│<span style=\"color: #008080; text-decoration-color: #008080\">      Test/Precision       </span>│<span style=\"color: #800080; text-decoration-color: #800080\">    0.9410785436630249     </span>│\n",
       "│<span style=\"color: #008080; text-decoration-color: #008080\">        Test/Recall        </span>│<span style=\"color: #800080; text-decoration-color: #800080\">    0.9354870319366455     </span>│\n",
       "│<span style=\"color: #008080; text-decoration-color: #008080\">    TestEpoch/Accuracy     </span>│<span style=\"color: #800080; text-decoration-color: #800080\">    0.9357975125312805     </span>│\n",
       "│<span style=\"color: #008080; text-decoration-color: #008080\">     TestEpoch/F1Score     </span>│<span style=\"color: #800080; text-decoration-color: #800080\">    0.9358009099960327     </span>│\n",
       "│<span style=\"color: #008080; text-decoration-color: #008080\">    TestEpoch/Precision    </span>│<span style=\"color: #800080; text-decoration-color: #800080\">    0.9365363121032715     </span>│\n",
       "│<span style=\"color: #008080; text-decoration-color: #008080\">     TestEpoch/Recall      </span>│<span style=\"color: #800080; text-decoration-color: #800080\">    0.9357975125312805     </span>│\n",
       "└───────────────────────────┴───────────────────────────┘\n",
       "</pre>\n"
      ],
      "text/plain": [
       "┏━━━━━━━━━━━━━━━━━━━━━━━━━━━┳━━━━━━━━━━━━━━━━━━━━━━━━━━━┓\n",
       "┃\u001b[1m \u001b[0m\u001b[1m  Runningstage.testing   \u001b[0m\u001b[1m \u001b[0m┃\u001b[1m                           \u001b[0m┃\n",
       "┃\u001b[1m \u001b[0m\u001b[1m         metric          \u001b[0m\u001b[1m \u001b[0m┃\u001b[1m \u001b[0m\u001b[1m      DataLoader 0       \u001b[0m\u001b[1m \u001b[0m┃\n",
       "┡━━━━━━━━━━━━━━━━━━━━━━━━━━━╇━━━━━━━━━━━━━━━━━━━━━━━━━━━┩\n",
       "│\u001b[36m \u001b[0m\u001b[36m      Test/Accuracy      \u001b[0m\u001b[36m \u001b[0m│\u001b[35m \u001b[0m\u001b[35m   0.9354870319366455    \u001b[0m\u001b[35m \u001b[0m│\n",
       "│\u001b[36m \u001b[0m\u001b[36m      Test/F1Score       \u001b[0m\u001b[36m \u001b[0m│\u001b[35m \u001b[0m\u001b[35m   0.9321731328964233    \u001b[0m\u001b[35m \u001b[0m│\n",
       "│\u001b[36m \u001b[0m\u001b[36m        Test/Loss        \u001b[0m\u001b[36m \u001b[0m│\u001b[35m \u001b[0m\u001b[35m   0.24689556658267975   \u001b[0m\u001b[35m \u001b[0m│\n",
       "│\u001b[36m \u001b[0m\u001b[36m     Test/Precision      \u001b[0m\u001b[36m \u001b[0m│\u001b[35m \u001b[0m\u001b[35m   0.9410785436630249    \u001b[0m\u001b[35m \u001b[0m│\n",
       "│\u001b[36m \u001b[0m\u001b[36m       Test/Recall       \u001b[0m\u001b[36m \u001b[0m│\u001b[35m \u001b[0m\u001b[35m   0.9354870319366455    \u001b[0m\u001b[35m \u001b[0m│\n",
       "│\u001b[36m \u001b[0m\u001b[36m   TestEpoch/Accuracy    \u001b[0m\u001b[36m \u001b[0m│\u001b[35m \u001b[0m\u001b[35m   0.9357975125312805    \u001b[0m\u001b[35m \u001b[0m│\n",
       "│\u001b[36m \u001b[0m\u001b[36m    TestEpoch/F1Score    \u001b[0m\u001b[36m \u001b[0m│\u001b[35m \u001b[0m\u001b[35m   0.9358009099960327    \u001b[0m\u001b[35m \u001b[0m│\n",
       "│\u001b[36m \u001b[0m\u001b[36m   TestEpoch/Precision   \u001b[0m\u001b[36m \u001b[0m│\u001b[35m \u001b[0m\u001b[35m   0.9365363121032715    \u001b[0m\u001b[35m \u001b[0m│\n",
       "│\u001b[36m \u001b[0m\u001b[36m    TestEpoch/Recall     \u001b[0m\u001b[36m \u001b[0m│\u001b[35m \u001b[0m\u001b[35m   0.9357975125312805    \u001b[0m\u001b[35m \u001b[0m│\n",
       "└───────────────────────────┴───────────────────────────┘\n"
      ]
     },
     "metadata": {},
     "output_type": "display_data"
    },
    {
     "name": "stderr",
     "output_type": "stream",
     "text": [
      "GPU available: True (cuda), used: True\n",
      "TPU available: False, using: 0 TPU cores\n",
      "IPU available: False, using: 0 IPUs\n",
      "HPU available: False, using: 0 HPUs\n",
      "You are using a CUDA device ('NVIDIA GeForce RTX 4070 Ti') that has Tensor Cores. To properly utilize them, you should set `torch.set_float32_matmul_precision('medium' | 'high')` which will trade-off precision for performance. For more details, read https://pytorch.org/docs/stable/generated/torch.set_float32_matmul_precision.html#torch.set_float32_matmul_precision\n",
      "LOCAL_RANK: 0 - CUDA_VISIBLE_DEVICES: [0,1]\n"
     ]
    },
    {
     "name": "stdout",
     "output_type": "stream",
     "text": [
      "Node 9 aggregate model with [0, 8]\n",
      "Performance of Node 9 after aggregation at round 4\n"
     ]
    },
    {
     "data": {
      "application/vnd.jupyter.widget-view+json": {
       "model_id": "1bf824f58adc4bc4862be9b7f731be59",
       "version_major": 2,
       "version_minor": 0
      },
      "text/plain": [
       "Testing: 0it [00:00, ?it/s]"
      ]
     },
     "metadata": {},
     "output_type": "display_data"
    },
    {
     "name": "stdout",
     "output_type": "stream",
     "text": [
      "Epoch end: Test, epoch number: 6\n"
     ]
    },
    {
     "data": {
      "text/html": [
       "<pre style=\"white-space:pre;overflow-x:auto;line-height:normal;font-family:Menlo,'DejaVu Sans Mono',consolas,'Courier New',monospace\">┏━━━━━━━━━━━━━━━━━━━━━━━━━━━┳━━━━━━━━━━━━━━━━━━━━━━━━━━━┓\n",
       "┃<span style=\"font-weight: bold\">   Runningstage.testing    </span>┃<span style=\"font-weight: bold\">                           </span>┃\n",
       "┃<span style=\"font-weight: bold\">          metric           </span>┃<span style=\"font-weight: bold\">       DataLoader 0        </span>┃\n",
       "┡━━━━━━━━━━━━━━━━━━━━━━━━━━━╇━━━━━━━━━━━━━━━━━━━━━━━━━━━┩\n",
       "│<span style=\"color: #008080; text-decoration-color: #008080\">       Test/Accuracy       </span>│<span style=\"color: #800080; text-decoration-color: #800080\">    0.9400697350502014     </span>│\n",
       "│<span style=\"color: #008080; text-decoration-color: #008080\">       Test/F1Score        </span>│<span style=\"color: #800080; text-decoration-color: #800080\">    0.9325424432754517     </span>│\n",
       "│<span style=\"color: #008080; text-decoration-color: #008080\">         Test/Loss         </span>│<span style=\"color: #800080; text-decoration-color: #800080\">    0.24677252769470215    </span>│\n",
       "│<span style=\"color: #008080; text-decoration-color: #008080\">      Test/Precision       </span>│<span style=\"color: #800080; text-decoration-color: #800080\">    0.9381434321403503     </span>│\n",
       "│<span style=\"color: #008080; text-decoration-color: #008080\">        Test/Recall        </span>│<span style=\"color: #800080; text-decoration-color: #800080\">    0.9400697350502014     </span>│\n",
       "│<span style=\"color: #008080; text-decoration-color: #008080\">    TestEpoch/Accuracy     </span>│<span style=\"color: #800080; text-decoration-color: #800080\">    0.9361209273338318     </span>│\n",
       "│<span style=\"color: #008080; text-decoration-color: #008080\">     TestEpoch/F1Score     </span>│<span style=\"color: #800080; text-decoration-color: #800080\">    0.9355063438415527     </span>│\n",
       "│<span style=\"color: #008080; text-decoration-color: #008080\">    TestEpoch/Precision    </span>│<span style=\"color: #800080; text-decoration-color: #800080\">     0.938035786151886     </span>│\n",
       "│<span style=\"color: #008080; text-decoration-color: #008080\">     TestEpoch/Recall      </span>│<span style=\"color: #800080; text-decoration-color: #800080\">    0.9361209273338318     </span>│\n",
       "└───────────────────────────┴───────────────────────────┘\n",
       "</pre>\n"
      ],
      "text/plain": [
       "┏━━━━━━━━━━━━━━━━━━━━━━━━━━━┳━━━━━━━━━━━━━━━━━━━━━━━━━━━┓\n",
       "┃\u001b[1m \u001b[0m\u001b[1m  Runningstage.testing   \u001b[0m\u001b[1m \u001b[0m┃\u001b[1m                           \u001b[0m┃\n",
       "┃\u001b[1m \u001b[0m\u001b[1m         metric          \u001b[0m\u001b[1m \u001b[0m┃\u001b[1m \u001b[0m\u001b[1m      DataLoader 0       \u001b[0m\u001b[1m \u001b[0m┃\n",
       "┡━━━━━━━━━━━━━━━━━━━━━━━━━━━╇━━━━━━━━━━━━━━━━━━━━━━━━━━━┩\n",
       "│\u001b[36m \u001b[0m\u001b[36m      Test/Accuracy      \u001b[0m\u001b[36m \u001b[0m│\u001b[35m \u001b[0m\u001b[35m   0.9400697350502014    \u001b[0m\u001b[35m \u001b[0m│\n",
       "│\u001b[36m \u001b[0m\u001b[36m      Test/F1Score       \u001b[0m\u001b[36m \u001b[0m│\u001b[35m \u001b[0m\u001b[35m   0.9325424432754517    \u001b[0m\u001b[35m \u001b[0m│\n",
       "│\u001b[36m \u001b[0m\u001b[36m        Test/Loss        \u001b[0m\u001b[36m \u001b[0m│\u001b[35m \u001b[0m\u001b[35m   0.24677252769470215   \u001b[0m\u001b[35m \u001b[0m│\n",
       "│\u001b[36m \u001b[0m\u001b[36m     Test/Precision      \u001b[0m\u001b[36m \u001b[0m│\u001b[35m \u001b[0m\u001b[35m   0.9381434321403503    \u001b[0m\u001b[35m \u001b[0m│\n",
       "│\u001b[36m \u001b[0m\u001b[36m       Test/Recall       \u001b[0m\u001b[36m \u001b[0m│\u001b[35m \u001b[0m\u001b[35m   0.9400697350502014    \u001b[0m\u001b[35m \u001b[0m│\n",
       "│\u001b[36m \u001b[0m\u001b[36m   TestEpoch/Accuracy    \u001b[0m\u001b[36m \u001b[0m│\u001b[35m \u001b[0m\u001b[35m   0.9361209273338318    \u001b[0m\u001b[35m \u001b[0m│\n",
       "│\u001b[36m \u001b[0m\u001b[36m    TestEpoch/F1Score    \u001b[0m\u001b[36m \u001b[0m│\u001b[35m \u001b[0m\u001b[35m   0.9355063438415527    \u001b[0m\u001b[35m \u001b[0m│\n",
       "│\u001b[36m \u001b[0m\u001b[36m   TestEpoch/Precision   \u001b[0m\u001b[36m \u001b[0m│\u001b[35m \u001b[0m\u001b[35m    0.938035786151886    \u001b[0m\u001b[35m \u001b[0m│\n",
       "│\u001b[36m \u001b[0m\u001b[36m    TestEpoch/Recall     \u001b[0m\u001b[36m \u001b[0m│\u001b[35m \u001b[0m\u001b[35m   0.9361209273338318    \u001b[0m\u001b[35m \u001b[0m│\n",
       "└───────────────────────────┴───────────────────────────┘\n"
      ]
     },
     "metadata": {},
     "output_type": "display_data"
    },
    {
     "name": "stderr",
     "output_type": "stream",
     "text": [
      "GPU available: True (cuda), used: True\n",
      "TPU available: False, using: 0 TPU cores\n",
      "IPU available: False, using: 0 IPUs\n",
      "HPU available: False, using: 0 HPUs\n",
      "You are using a CUDA device ('NVIDIA GeForce RTX 4070 Ti') that has Tensor Cores. To properly utilize them, you should set `torch.set_float32_matmul_precision('medium' | 'high')` which will trade-off precision for performance. For more details, read https://pytorch.org/docs/stable/generated/torch.set_float32_matmul_precision.html#torch.set_float32_matmul_precision\n",
      "LOCAL_RANK: 0 - CUDA_VISIBLE_DEVICES: [0,1]\n",
      "\n",
      "  | Name          | Type                      | Params | In sizes | Out sizes\n",
      "-----------------------------------------------------------------------------------\n",
      "0 | train_metrics | MetricCollection          | 0      | ?        | ?        \n",
      "1 | val_metrics   | MetricCollection          | 0      | ?        | ?        \n",
      "2 | test_metrics  | MetricCollection          | 0      | ?        | ?        \n",
      "3 | cm            | MulticlassConfusionMatrix | 0      | ?        | ?        \n",
      "4 | criterion     | CrossEntropyLoss          | 0      | ?        | ?        \n",
      "5 | l1            | Linear                    | 200 K  | [1, 784] | [1, 256] \n",
      "6 | l2            | Linear                    | 32.9 K | [1, 256] | [1, 128] \n",
      "7 | l3            | Linear                    | 1.3 K  | [1, 128] | [1, 10]  \n",
      "-----------------------------------------------------------------------------------\n",
      "235 K     Trainable params\n",
      "0         Non-trainable params\n",
      "235 K     Total params\n",
      "0.941     Total estimated model params size (MB)\n"
     ]
    },
    {
     "name": "stdout",
     "output_type": "stream",
     "text": [
      "Epoch end: Validation, epoch number: 12\n",
      "Epoch end: Validation, epoch number: 13\n",
      "Epoch end: Train, epoch number: 9\n",
      "Epoch end: Validation, epoch number: 14\n",
      "Epoch end: Train, epoch number: 10\n"
     ]
    },
    {
     "name": "stderr",
     "output_type": "stream",
     "text": [
      "`Trainer.fit` stopped: `max_epochs=3` reached.\n",
      "You are using a CUDA device ('NVIDIA GeForce RTX 4070 Ti') that has Tensor Cores. To properly utilize them, you should set `torch.set_float32_matmul_precision('medium' | 'high')` which will trade-off precision for performance. For more details, read https://pytorch.org/docs/stable/generated/torch.set_float32_matmul_precision.html#torch.set_float32_matmul_precision\n"
     ]
    },
    {
     "name": "stdout",
     "output_type": "stream",
     "text": [
      "Epoch end: Validation, epoch number: 15\n",
      "Epoch end: Train, epoch number: 11\n",
      "Performance of Node 0 before aggregation at round 5\n"
     ]
    },
    {
     "name": "stderr",
     "output_type": "stream",
     "text": [
      "LOCAL_RANK: 0 - CUDA_VISIBLE_DEVICES: [0,1]\n"
     ]
    },
    {
     "name": "stdout",
     "output_type": "stream",
     "text": [
      "Epoch end: Test, epoch number: 7\n"
     ]
    },
    {
     "data": {
      "text/html": [
       "<pre style=\"white-space:pre;overflow-x:auto;line-height:normal;font-family:Menlo,'DejaVu Sans Mono',consolas,'Courier New',monospace\">┏━━━━━━━━━━━━━━━━━━━━━━━━━━━┳━━━━━━━━━━━━━━━━━━━━━━━━━━━┓\n",
       "┃<span style=\"font-weight: bold\">   Runningstage.testing    </span>┃<span style=\"font-weight: bold\">                           </span>┃\n",
       "┃<span style=\"font-weight: bold\">          metric           </span>┃<span style=\"font-weight: bold\">       DataLoader 0        </span>┃\n",
       "┡━━━━━━━━━━━━━━━━━━━━━━━━━━━╇━━━━━━━━━━━━━━━━━━━━━━━━━━━┩\n",
       "│<span style=\"color: #008080; text-decoration-color: #008080\">       Test/Accuracy       </span>│<span style=\"color: #800080; text-decoration-color: #800080\">     0.925388753414154     </span>│\n",
       "│<span style=\"color: #008080; text-decoration-color: #008080\">       Test/F1Score        </span>│<span style=\"color: #800080; text-decoration-color: #800080\">    0.9229639768600464     </span>│\n",
       "│<span style=\"color: #008080; text-decoration-color: #008080\">         Test/Loss         </span>│<span style=\"color: #800080; text-decoration-color: #800080\">    0.2071092277765274     </span>│\n",
       "│<span style=\"color: #008080; text-decoration-color: #008080\">      Test/Precision       </span>│<span style=\"color: #800080; text-decoration-color: #800080\">    0.9320852160453796     </span>│\n",
       "│<span style=\"color: #008080; text-decoration-color: #008080\">        Test/Recall        </span>│<span style=\"color: #800080; text-decoration-color: #800080\">     0.925388753414154     </span>│\n",
       "│<span style=\"color: #008080; text-decoration-color: #008080\">    TestEpoch/Accuracy     </span>│<span style=\"color: #800080; text-decoration-color: #800080\">    0.9324272274971008     </span>│\n",
       "│<span style=\"color: #008080; text-decoration-color: #008080\">     TestEpoch/F1Score     </span>│<span style=\"color: #800080; text-decoration-color: #800080\">    0.9324219226837158     </span>│\n",
       "│<span style=\"color: #008080; text-decoration-color: #008080\">    TestEpoch/Precision    </span>│<span style=\"color: #800080; text-decoration-color: #800080\">    0.9329804182052612     </span>│\n",
       "│<span style=\"color: #008080; text-decoration-color: #008080\">     TestEpoch/Recall      </span>│<span style=\"color: #800080; text-decoration-color: #800080\">    0.9324272274971008     </span>│\n",
       "└───────────────────────────┴───────────────────────────┘\n",
       "</pre>\n"
      ],
      "text/plain": [
       "┏━━━━━━━━━━━━━━━━━━━━━━━━━━━┳━━━━━━━━━━━━━━━━━━━━━━━━━━━┓\n",
       "┃\u001b[1m \u001b[0m\u001b[1m  Runningstage.testing   \u001b[0m\u001b[1m \u001b[0m┃\u001b[1m                           \u001b[0m┃\n",
       "┃\u001b[1m \u001b[0m\u001b[1m         metric          \u001b[0m\u001b[1m \u001b[0m┃\u001b[1m \u001b[0m\u001b[1m      DataLoader 0       \u001b[0m\u001b[1m \u001b[0m┃\n",
       "┡━━━━━━━━━━━━━━━━━━━━━━━━━━━╇━━━━━━━━━━━━━━━━━━━━━━━━━━━┩\n",
       "│\u001b[36m \u001b[0m\u001b[36m      Test/Accuracy      \u001b[0m\u001b[36m \u001b[0m│\u001b[35m \u001b[0m\u001b[35m    0.925388753414154    \u001b[0m\u001b[35m \u001b[0m│\n",
       "│\u001b[36m \u001b[0m\u001b[36m      Test/F1Score       \u001b[0m\u001b[36m \u001b[0m│\u001b[35m \u001b[0m\u001b[35m   0.9229639768600464    \u001b[0m\u001b[35m \u001b[0m│\n",
       "│\u001b[36m \u001b[0m\u001b[36m        Test/Loss        \u001b[0m\u001b[36m \u001b[0m│\u001b[35m \u001b[0m\u001b[35m   0.2071092277765274    \u001b[0m\u001b[35m \u001b[0m│\n",
       "│\u001b[36m \u001b[0m\u001b[36m     Test/Precision      \u001b[0m\u001b[36m \u001b[0m│\u001b[35m \u001b[0m\u001b[35m   0.9320852160453796    \u001b[0m\u001b[35m \u001b[0m│\n",
       "│\u001b[36m \u001b[0m\u001b[36m       Test/Recall       \u001b[0m\u001b[36m \u001b[0m│\u001b[35m \u001b[0m\u001b[35m    0.925388753414154    \u001b[0m\u001b[35m \u001b[0m│\n",
       "│\u001b[36m \u001b[0m\u001b[36m   TestEpoch/Accuracy    \u001b[0m\u001b[36m \u001b[0m│\u001b[35m \u001b[0m\u001b[35m   0.9324272274971008    \u001b[0m\u001b[35m \u001b[0m│\n",
       "│\u001b[36m \u001b[0m\u001b[36m    TestEpoch/F1Score    \u001b[0m\u001b[36m \u001b[0m│\u001b[35m \u001b[0m\u001b[35m   0.9324219226837158    \u001b[0m\u001b[35m \u001b[0m│\n",
       "│\u001b[36m \u001b[0m\u001b[36m   TestEpoch/Precision   \u001b[0m\u001b[36m \u001b[0m│\u001b[35m \u001b[0m\u001b[35m   0.9329804182052612    \u001b[0m\u001b[35m \u001b[0m│\n",
       "│\u001b[36m \u001b[0m\u001b[36m    TestEpoch/Recall     \u001b[0m\u001b[36m \u001b[0m│\u001b[35m \u001b[0m\u001b[35m   0.9324272274971008    \u001b[0m\u001b[35m \u001b[0m│\n",
       "└───────────────────────────┴───────────────────────────┘\n"
      ]
     },
     "metadata": {},
     "output_type": "display_data"
    },
    {
     "name": "stderr",
     "output_type": "stream",
     "text": [
      "GPU available: True (cuda), used: True\n",
      "TPU available: False, using: 0 TPU cores\n",
      "IPU available: False, using: 0 IPUs\n",
      "HPU available: False, using: 0 HPUs\n",
      "You are using a CUDA device ('NVIDIA GeForce RTX 4070 Ti') that has Tensor Cores. To properly utilize them, you should set `torch.set_float32_matmul_precision('medium' | 'high')` which will trade-off precision for performance. For more details, read https://pytorch.org/docs/stable/generated/torch.set_float32_matmul_precision.html#torch.set_float32_matmul_precision\n",
      "LOCAL_RANK: 0 - CUDA_VISIBLE_DEVICES: [0,1]\n",
      "\n",
      "  | Name          | Type                      | Params | In sizes | Out sizes\n",
      "-----------------------------------------------------------------------------------\n",
      "0 | train_metrics | MetricCollection          | 0      | ?        | ?        \n",
      "1 | val_metrics   | MetricCollection          | 0      | ?        | ?        \n",
      "2 | test_metrics  | MetricCollection          | 0      | ?        | ?        \n",
      "3 | cm            | MulticlassConfusionMatrix | 0      | ?        | ?        \n",
      "4 | criterion     | CrossEntropyLoss          | 0      | ?        | ?        \n",
      "5 | l1            | Linear                    | 200 K  | [1, 784] | [1, 256] \n",
      "6 | l2            | Linear                    | 32.9 K | [1, 256] | [1, 128] \n",
      "7 | l3            | Linear                    | 1.3 K  | [1, 128] | [1, 10]  \n",
      "-----------------------------------------------------------------------------------\n",
      "235 K     Trainable params\n",
      "0         Non-trainable params\n",
      "235 K     Total params\n",
      "0.941     Total estimated model params size (MB)\n"
     ]
    },
    {
     "name": "stdout",
     "output_type": "stream",
     "text": [
      "Epoch end: Validation, epoch number: 12\n",
      "Epoch end: Validation, epoch number: 13\n",
      "Epoch end: Train, epoch number: 9\n",
      "Epoch end: Validation, epoch number: 14\n",
      "Epoch end: Train, epoch number: 10\n",
      "Epoch end: Validation, epoch number: 15\n"
     ]
    },
    {
     "name": "stderr",
     "output_type": "stream",
     "text": [
      "`Trainer.fit` stopped: `max_epochs=3` reached.\n",
      "You are using a CUDA device ('NVIDIA GeForce RTX 4070 Ti') that has Tensor Cores. To properly utilize them, you should set `torch.set_float32_matmul_precision('medium' | 'high')` which will trade-off precision for performance. For more details, read https://pytorch.org/docs/stable/generated/torch.set_float32_matmul_precision.html#torch.set_float32_matmul_precision\n",
      "LOCAL_RANK: 0 - CUDA_VISIBLE_DEVICES: [0,1]\n"
     ]
    },
    {
     "name": "stdout",
     "output_type": "stream",
     "text": [
      "Epoch end: Train, epoch number: 11\n",
      "Performance of Node 1 before aggregation at round 5\n",
      "Epoch end: Test, epoch number: 7\n"
     ]
    },
    {
     "data": {
      "text/html": [
       "<pre style=\"white-space:pre;overflow-x:auto;line-height:normal;font-family:Menlo,'DejaVu Sans Mono',consolas,'Courier New',monospace\">┏━━━━━━━━━━━━━━━━━━━━━━━━━━━┳━━━━━━━━━━━━━━━━━━━━━━━━━━━┓\n",
       "┃<span style=\"font-weight: bold\">   Runningstage.testing    </span>┃<span style=\"font-weight: bold\">                           </span>┃\n",
       "┃<span style=\"font-weight: bold\">          metric           </span>┃<span style=\"font-weight: bold\">       DataLoader 0        </span>┃\n",
       "┡━━━━━━━━━━━━━━━━━━━━━━━━━━━╇━━━━━━━━━━━━━━━━━━━━━━━━━━━┩\n",
       "│<span style=\"color: #008080; text-decoration-color: #008080\">       Test/Accuracy       </span>│<span style=\"color: #800080; text-decoration-color: #800080\">    0.9374541640281677     </span>│\n",
       "│<span style=\"color: #008080; text-decoration-color: #008080\">       Test/F1Score        </span>│<span style=\"color: #800080; text-decoration-color: #800080\">    0.9325166940689087     </span>│\n",
       "│<span style=\"color: #008080; text-decoration-color: #008080\">         Test/Loss         </span>│<span style=\"color: #800080; text-decoration-color: #800080\">    0.18001526594161987    </span>│\n",
       "│<span style=\"color: #008080; text-decoration-color: #008080\">      Test/Precision       </span>│<span style=\"color: #800080; text-decoration-color: #800080\">    0.9394381046295166     </span>│\n",
       "│<span style=\"color: #008080; text-decoration-color: #008080\">        Test/Recall        </span>│<span style=\"color: #800080; text-decoration-color: #800080\">    0.9374541640281677     </span>│\n",
       "│<span style=\"color: #008080; text-decoration-color: #008080\">    TestEpoch/Accuracy     </span>│<span style=\"color: #800080; text-decoration-color: #800080\">    0.9402391910552979     </span>│\n",
       "│<span style=\"color: #008080; text-decoration-color: #008080\">     TestEpoch/F1Score     </span>│<span style=\"color: #800080; text-decoration-color: #800080\">    0.9401605725288391     </span>│\n",
       "│<span style=\"color: #008080; text-decoration-color: #008080\">    TestEpoch/Precision    </span>│<span style=\"color: #800080; text-decoration-color: #800080\">    0.9418423175811768     </span>│\n",
       "│<span style=\"color: #008080; text-decoration-color: #008080\">     TestEpoch/Recall      </span>│<span style=\"color: #800080; text-decoration-color: #800080\">    0.9402391910552979     </span>│\n",
       "└───────────────────────────┴───────────────────────────┘\n",
       "</pre>\n"
      ],
      "text/plain": [
       "┏━━━━━━━━━━━━━━━━━━━━━━━━━━━┳━━━━━━━━━━━━━━━━━━━━━━━━━━━┓\n",
       "┃\u001b[1m \u001b[0m\u001b[1m  Runningstage.testing   \u001b[0m\u001b[1m \u001b[0m┃\u001b[1m                           \u001b[0m┃\n",
       "┃\u001b[1m \u001b[0m\u001b[1m         metric          \u001b[0m\u001b[1m \u001b[0m┃\u001b[1m \u001b[0m\u001b[1m      DataLoader 0       \u001b[0m\u001b[1m \u001b[0m┃\n",
       "┡━━━━━━━━━━━━━━━━━━━━━━━━━━━╇━━━━━━━━━━━━━━━━━━━━━━━━━━━┩\n",
       "│\u001b[36m \u001b[0m\u001b[36m      Test/Accuracy      \u001b[0m\u001b[36m \u001b[0m│\u001b[35m \u001b[0m\u001b[35m   0.9374541640281677    \u001b[0m\u001b[35m \u001b[0m│\n",
       "│\u001b[36m \u001b[0m\u001b[36m      Test/F1Score       \u001b[0m\u001b[36m \u001b[0m│\u001b[35m \u001b[0m\u001b[35m   0.9325166940689087    \u001b[0m\u001b[35m \u001b[0m│\n",
       "│\u001b[36m \u001b[0m\u001b[36m        Test/Loss        \u001b[0m\u001b[36m \u001b[0m│\u001b[35m \u001b[0m\u001b[35m   0.18001526594161987   \u001b[0m\u001b[35m \u001b[0m│\n",
       "│\u001b[36m \u001b[0m\u001b[36m     Test/Precision      \u001b[0m\u001b[36m \u001b[0m│\u001b[35m \u001b[0m\u001b[35m   0.9394381046295166    \u001b[0m\u001b[35m \u001b[0m│\n",
       "│\u001b[36m \u001b[0m\u001b[36m       Test/Recall       \u001b[0m\u001b[36m \u001b[0m│\u001b[35m \u001b[0m\u001b[35m   0.9374541640281677    \u001b[0m\u001b[35m \u001b[0m│\n",
       "│\u001b[36m \u001b[0m\u001b[36m   TestEpoch/Accuracy    \u001b[0m\u001b[36m \u001b[0m│\u001b[35m \u001b[0m\u001b[35m   0.9402391910552979    \u001b[0m\u001b[35m \u001b[0m│\n",
       "│\u001b[36m \u001b[0m\u001b[36m    TestEpoch/F1Score    \u001b[0m\u001b[36m \u001b[0m│\u001b[35m \u001b[0m\u001b[35m   0.9401605725288391    \u001b[0m\u001b[35m \u001b[0m│\n",
       "│\u001b[36m \u001b[0m\u001b[36m   TestEpoch/Precision   \u001b[0m\u001b[36m \u001b[0m│\u001b[35m \u001b[0m\u001b[35m   0.9418423175811768    \u001b[0m\u001b[35m \u001b[0m│\n",
       "│\u001b[36m \u001b[0m\u001b[36m    TestEpoch/Recall     \u001b[0m\u001b[36m \u001b[0m│\u001b[35m \u001b[0m\u001b[35m   0.9402391910552979    \u001b[0m\u001b[35m \u001b[0m│\n",
       "└───────────────────────────┴───────────────────────────┘\n"
      ]
     },
     "metadata": {},
     "output_type": "display_data"
    },
    {
     "name": "stderr",
     "output_type": "stream",
     "text": [
      "GPU available: True (cuda), used: True\n",
      "TPU available: False, using: 0 TPU cores\n",
      "IPU available: False, using: 0 IPUs\n",
      "HPU available: False, using: 0 HPUs\n",
      "You are using a CUDA device ('NVIDIA GeForce RTX 4070 Ti') that has Tensor Cores. To properly utilize them, you should set `torch.set_float32_matmul_precision('medium' | 'high')` which will trade-off precision for performance. For more details, read https://pytorch.org/docs/stable/generated/torch.set_float32_matmul_precision.html#torch.set_float32_matmul_precision\n",
      "LOCAL_RANK: 0 - CUDA_VISIBLE_DEVICES: [0,1]\n",
      "\n",
      "  | Name          | Type                      | Params | In sizes | Out sizes\n",
      "-----------------------------------------------------------------------------------\n",
      "0 | train_metrics | MetricCollection          | 0      | ?        | ?        \n",
      "1 | val_metrics   | MetricCollection          | 0      | ?        | ?        \n",
      "2 | test_metrics  | MetricCollection          | 0      | ?        | ?        \n",
      "3 | cm            | MulticlassConfusionMatrix | 0      | ?        | ?        \n",
      "4 | criterion     | CrossEntropyLoss          | 0      | ?        | ?        \n",
      "5 | l1            | Linear                    | 200 K  | [1, 784] | [1, 256] \n",
      "6 | l2            | Linear                    | 32.9 K | [1, 256] | [1, 128] \n",
      "7 | l3            | Linear                    | 1.3 K  | [1, 128] | [1, 10]  \n",
      "-----------------------------------------------------------------------------------\n",
      "235 K     Trainable params\n",
      "0         Non-trainable params\n",
      "235 K     Total params\n",
      "0.941     Total estimated model params size (MB)\n"
     ]
    },
    {
     "name": "stdout",
     "output_type": "stream",
     "text": [
      "Epoch end: Validation, epoch number: 12\n",
      "Epoch end: Validation, epoch number: 13\n",
      "Epoch end: Train, epoch number: 9\n",
      "Epoch end: Validation, epoch number: 14\n",
      "Epoch end: Train, epoch number: 10\n"
     ]
    },
    {
     "name": "stderr",
     "output_type": "stream",
     "text": [
      "`Trainer.fit` stopped: `max_epochs=3` reached.\n"
     ]
    },
    {
     "name": "stdout",
     "output_type": "stream",
     "text": [
      "Epoch end: Validation, epoch number: 15\n",
      "Epoch end: Train, epoch number: 11\n"
     ]
    },
    {
     "name": "stderr",
     "output_type": "stream",
     "text": [
      "You are using a CUDA device ('NVIDIA GeForce RTX 4070 Ti') that has Tensor Cores. To properly utilize them, you should set `torch.set_float32_matmul_precision('medium' | 'high')` which will trade-off precision for performance. For more details, read https://pytorch.org/docs/stable/generated/torch.set_float32_matmul_precision.html#torch.set_float32_matmul_precision\n",
      "LOCAL_RANK: 0 - CUDA_VISIBLE_DEVICES: [0,1]\n"
     ]
    },
    {
     "name": "stdout",
     "output_type": "stream",
     "text": [
      "Performance of Node 2 before aggregation at round 5\n",
      "Epoch end: Test, epoch number: 7\n"
     ]
    },
    {
     "data": {
      "text/html": [
       "<pre style=\"white-space:pre;overflow-x:auto;line-height:normal;font-family:Menlo,'DejaVu Sans Mono',consolas,'Courier New',monospace\">┏━━━━━━━━━━━━━━━━━━━━━━━━━━━┳━━━━━━━━━━━━━━━━━━━━━━━━━━━┓\n",
       "┃<span style=\"font-weight: bold\">   Runningstage.testing    </span>┃<span style=\"font-weight: bold\">                           </span>┃\n",
       "┃<span style=\"font-weight: bold\">          metric           </span>┃<span style=\"font-weight: bold\">       DataLoader 0        </span>┃\n",
       "┡━━━━━━━━━━━━━━━━━━━━━━━━━━━╇━━━━━━━━━━━━━━━━━━━━━━━━━━━┩\n",
       "│<span style=\"color: #008080; text-decoration-color: #008080\">       Test/Accuracy       </span>│<span style=\"color: #800080; text-decoration-color: #800080\">    0.9491559863090515     </span>│\n",
       "│<span style=\"color: #008080; text-decoration-color: #008080\">       Test/F1Score        </span>│<span style=\"color: #800080; text-decoration-color: #800080\">    0.9437459111213684     </span>│\n",
       "│<span style=\"color: #008080; text-decoration-color: #008080\">         Test/Loss         </span>│<span style=\"color: #800080; text-decoration-color: #800080\">    0.1871984899044037     </span>│\n",
       "│<span style=\"color: #008080; text-decoration-color: #008080\">      Test/Precision       </span>│<span style=\"color: #800080; text-decoration-color: #800080\">    0.9477813839912415     </span>│\n",
       "│<span style=\"color: #008080; text-decoration-color: #008080\">        Test/Recall        </span>│<span style=\"color: #800080; text-decoration-color: #800080\">    0.9491559863090515     </span>│\n",
       "│<span style=\"color: #008080; text-decoration-color: #008080\">    TestEpoch/Accuracy     </span>│<span style=\"color: #800080; text-decoration-color: #800080\">    0.9485555291175842     </span>│\n",
       "│<span style=\"color: #008080; text-decoration-color: #008080\">     TestEpoch/F1Score     </span>│<span style=\"color: #800080; text-decoration-color: #800080\">    0.9480174779891968     </span>│\n",
       "│<span style=\"color: #008080; text-decoration-color: #008080\">    TestEpoch/Precision    </span>│<span style=\"color: #800080; text-decoration-color: #800080\">    0.9489753246307373     </span>│\n",
       "│<span style=\"color: #008080; text-decoration-color: #008080\">     TestEpoch/Recall      </span>│<span style=\"color: #800080; text-decoration-color: #800080\">    0.9485555291175842     </span>│\n",
       "└───────────────────────────┴───────────────────────────┘\n",
       "</pre>\n"
      ],
      "text/plain": [
       "┏━━━━━━━━━━━━━━━━━━━━━━━━━━━┳━━━━━━━━━━━━━━━━━━━━━━━━━━━┓\n",
       "┃\u001b[1m \u001b[0m\u001b[1m  Runningstage.testing   \u001b[0m\u001b[1m \u001b[0m┃\u001b[1m                           \u001b[0m┃\n",
       "┃\u001b[1m \u001b[0m\u001b[1m         metric          \u001b[0m\u001b[1m \u001b[0m┃\u001b[1m \u001b[0m\u001b[1m      DataLoader 0       \u001b[0m\u001b[1m \u001b[0m┃\n",
       "┡━━━━━━━━━━━━━━━━━━━━━━━━━━━╇━━━━━━━━━━━━━━━━━━━━━━━━━━━┩\n",
       "│\u001b[36m \u001b[0m\u001b[36m      Test/Accuracy      \u001b[0m\u001b[36m \u001b[0m│\u001b[35m \u001b[0m\u001b[35m   0.9491559863090515    \u001b[0m\u001b[35m \u001b[0m│\n",
       "│\u001b[36m \u001b[0m\u001b[36m      Test/F1Score       \u001b[0m\u001b[36m \u001b[0m│\u001b[35m \u001b[0m\u001b[35m   0.9437459111213684    \u001b[0m\u001b[35m \u001b[0m│\n",
       "│\u001b[36m \u001b[0m\u001b[36m        Test/Loss        \u001b[0m\u001b[36m \u001b[0m│\u001b[35m \u001b[0m\u001b[35m   0.1871984899044037    \u001b[0m\u001b[35m \u001b[0m│\n",
       "│\u001b[36m \u001b[0m\u001b[36m     Test/Precision      \u001b[0m\u001b[36m \u001b[0m│\u001b[35m \u001b[0m\u001b[35m   0.9477813839912415    \u001b[0m\u001b[35m \u001b[0m│\n",
       "│\u001b[36m \u001b[0m\u001b[36m       Test/Recall       \u001b[0m\u001b[36m \u001b[0m│\u001b[35m \u001b[0m\u001b[35m   0.9491559863090515    \u001b[0m\u001b[35m \u001b[0m│\n",
       "│\u001b[36m \u001b[0m\u001b[36m   TestEpoch/Accuracy    \u001b[0m\u001b[36m \u001b[0m│\u001b[35m \u001b[0m\u001b[35m   0.9485555291175842    \u001b[0m\u001b[35m \u001b[0m│\n",
       "│\u001b[36m \u001b[0m\u001b[36m    TestEpoch/F1Score    \u001b[0m\u001b[36m \u001b[0m│\u001b[35m \u001b[0m\u001b[35m   0.9480174779891968    \u001b[0m\u001b[35m \u001b[0m│\n",
       "│\u001b[36m \u001b[0m\u001b[36m   TestEpoch/Precision   \u001b[0m\u001b[36m \u001b[0m│\u001b[35m \u001b[0m\u001b[35m   0.9489753246307373    \u001b[0m\u001b[35m \u001b[0m│\n",
       "│\u001b[36m \u001b[0m\u001b[36m    TestEpoch/Recall     \u001b[0m\u001b[36m \u001b[0m│\u001b[35m \u001b[0m\u001b[35m   0.9485555291175842    \u001b[0m\u001b[35m \u001b[0m│\n",
       "└───────────────────────────┴───────────────────────────┘\n"
      ]
     },
     "metadata": {},
     "output_type": "display_data"
    },
    {
     "name": "stderr",
     "output_type": "stream",
     "text": [
      "GPU available: True (cuda), used: True\n",
      "TPU available: False, using: 0 TPU cores\n",
      "IPU available: False, using: 0 IPUs\n",
      "HPU available: False, using: 0 HPUs\n",
      "You are using a CUDA device ('NVIDIA GeForce RTX 4070 Ti') that has Tensor Cores. To properly utilize them, you should set `torch.set_float32_matmul_precision('medium' | 'high')` which will trade-off precision for performance. For more details, read https://pytorch.org/docs/stable/generated/torch.set_float32_matmul_precision.html#torch.set_float32_matmul_precision\n",
      "LOCAL_RANK: 0 - CUDA_VISIBLE_DEVICES: [0,1]\n",
      "\n",
      "  | Name          | Type                      | Params | In sizes | Out sizes\n",
      "-----------------------------------------------------------------------------------\n",
      "0 | train_metrics | MetricCollection          | 0      | ?        | ?        \n",
      "1 | val_metrics   | MetricCollection          | 0      | ?        | ?        \n",
      "2 | test_metrics  | MetricCollection          | 0      | ?        | ?        \n",
      "3 | cm            | MulticlassConfusionMatrix | 0      | ?        | ?        \n",
      "4 | criterion     | CrossEntropyLoss          | 0      | ?        | ?        \n",
      "5 | l1            | Linear                    | 200 K  | [1, 784] | [1, 256] \n",
      "6 | l2            | Linear                    | 32.9 K | [1, 256] | [1, 128] \n",
      "7 | l3            | Linear                    | 1.3 K  | [1, 128] | [1, 10]  \n",
      "-----------------------------------------------------------------------------------\n",
      "235 K     Trainable params\n",
      "0         Non-trainable params\n",
      "235 K     Total params\n",
      "0.941     Total estimated model params size (MB)\n"
     ]
    },
    {
     "name": "stdout",
     "output_type": "stream",
     "text": [
      "Epoch end: Validation, epoch number: 12\n",
      "Epoch end: Validation, epoch number: 13\n",
      "Epoch end: Train, epoch number: 9\n",
      "Epoch end: Validation, epoch number: 14\n",
      "Epoch end: Train, epoch number: 10\n"
     ]
    },
    {
     "name": "stderr",
     "output_type": "stream",
     "text": [
      "`Trainer.fit` stopped: `max_epochs=3` reached.\n",
      "You are using a CUDA device ('NVIDIA GeForce RTX 4070 Ti') that has Tensor Cores. To properly utilize them, you should set `torch.set_float32_matmul_precision('medium' | 'high')` which will trade-off precision for performance. For more details, read https://pytorch.org/docs/stable/generated/torch.set_float32_matmul_precision.html#torch.set_float32_matmul_precision\n"
     ]
    },
    {
     "name": "stdout",
     "output_type": "stream",
     "text": [
      "Epoch end: Validation, epoch number: 15\n",
      "Epoch end: Train, epoch number: 11\n",
      "Performance of Node 3 before aggregation at round 5\n"
     ]
    },
    {
     "name": "stderr",
     "output_type": "stream",
     "text": [
      "LOCAL_RANK: 0 - CUDA_VISIBLE_DEVICES: [0,1]\n"
     ]
    },
    {
     "name": "stdout",
     "output_type": "stream",
     "text": [
      "Epoch end: Test, epoch number: 7\n"
     ]
    },
    {
     "data": {
      "text/html": [
       "<pre style=\"white-space:pre;overflow-x:auto;line-height:normal;font-family:Menlo,'DejaVu Sans Mono',consolas,'Courier New',monospace\">┏━━━━━━━━━━━━━━━━━━━━━━━━━━━┳━━━━━━━━━━━━━━━━━━━━━━━━━━━┓\n",
       "┃<span style=\"font-weight: bold\">   Runningstage.testing    </span>┃<span style=\"font-weight: bold\">                           </span>┃\n",
       "┃<span style=\"font-weight: bold\">          metric           </span>┃<span style=\"font-weight: bold\">       DataLoader 0        </span>┃\n",
       "┡━━━━━━━━━━━━━━━━━━━━━━━━━━━╇━━━━━━━━━━━━━━━━━━━━━━━━━━━┩\n",
       "│<span style=\"color: #008080; text-decoration-color: #008080\">       Test/Accuracy       </span>│<span style=\"color: #800080; text-decoration-color: #800080\">    0.9433560967445374     </span>│\n",
       "│<span style=\"color: #008080; text-decoration-color: #008080\">       Test/F1Score        </span>│<span style=\"color: #800080; text-decoration-color: #800080\">    0.9368177056312561     </span>│\n",
       "│<span style=\"color: #008080; text-decoration-color: #008080\">         Test/Loss         </span>│<span style=\"color: #800080; text-decoration-color: #800080\">    0.1942005604505539     </span>│\n",
       "│<span style=\"color: #008080; text-decoration-color: #008080\">      Test/Precision       </span>│<span style=\"color: #800080; text-decoration-color: #800080\">    0.9419132471084595     </span>│\n",
       "│<span style=\"color: #008080; text-decoration-color: #008080\">        Test/Recall        </span>│<span style=\"color: #800080; text-decoration-color: #800080\">    0.9433560967445374     </span>│\n",
       "│<span style=\"color: #008080; text-decoration-color: #008080\">    TestEpoch/Accuracy     </span>│<span style=\"color: #800080; text-decoration-color: #800080\">    0.9353218674659729     </span>│\n",
       "│<span style=\"color: #008080; text-decoration-color: #008080\">     TestEpoch/F1Score     </span>│<span style=\"color: #800080; text-decoration-color: #800080\">     0.935023844242096     </span>│\n",
       "│<span style=\"color: #008080; text-decoration-color: #008080\">    TestEpoch/Precision    </span>│<span style=\"color: #800080; text-decoration-color: #800080\">    0.9361733794212341     </span>│\n",
       "│<span style=\"color: #008080; text-decoration-color: #008080\">     TestEpoch/Recall      </span>│<span style=\"color: #800080; text-decoration-color: #800080\">    0.9353218674659729     </span>│\n",
       "└───────────────────────────┴───────────────────────────┘\n",
       "</pre>\n"
      ],
      "text/plain": [
       "┏━━━━━━━━━━━━━━━━━━━━━━━━━━━┳━━━━━━━━━━━━━━━━━━━━━━━━━━━┓\n",
       "┃\u001b[1m \u001b[0m\u001b[1m  Runningstage.testing   \u001b[0m\u001b[1m \u001b[0m┃\u001b[1m                           \u001b[0m┃\n",
       "┃\u001b[1m \u001b[0m\u001b[1m         metric          \u001b[0m\u001b[1m \u001b[0m┃\u001b[1m \u001b[0m\u001b[1m      DataLoader 0       \u001b[0m\u001b[1m \u001b[0m┃\n",
       "┡━━━━━━━━━━━━━━━━━━━━━━━━━━━╇━━━━━━━━━━━━━━━━━━━━━━━━━━━┩\n",
       "│\u001b[36m \u001b[0m\u001b[36m      Test/Accuracy      \u001b[0m\u001b[36m \u001b[0m│\u001b[35m \u001b[0m\u001b[35m   0.9433560967445374    \u001b[0m\u001b[35m \u001b[0m│\n",
       "│\u001b[36m \u001b[0m\u001b[36m      Test/F1Score       \u001b[0m\u001b[36m \u001b[0m│\u001b[35m \u001b[0m\u001b[35m   0.9368177056312561    \u001b[0m\u001b[35m \u001b[0m│\n",
       "│\u001b[36m \u001b[0m\u001b[36m        Test/Loss        \u001b[0m\u001b[36m \u001b[0m│\u001b[35m \u001b[0m\u001b[35m   0.1942005604505539    \u001b[0m\u001b[35m \u001b[0m│\n",
       "│\u001b[36m \u001b[0m\u001b[36m     Test/Precision      \u001b[0m\u001b[36m \u001b[0m│\u001b[35m \u001b[0m\u001b[35m   0.9419132471084595    \u001b[0m\u001b[35m \u001b[0m│\n",
       "│\u001b[36m \u001b[0m\u001b[36m       Test/Recall       \u001b[0m\u001b[36m \u001b[0m│\u001b[35m \u001b[0m\u001b[35m   0.9433560967445374    \u001b[0m\u001b[35m \u001b[0m│\n",
       "│\u001b[36m \u001b[0m\u001b[36m   TestEpoch/Accuracy    \u001b[0m\u001b[36m \u001b[0m│\u001b[35m \u001b[0m\u001b[35m   0.9353218674659729    \u001b[0m\u001b[35m \u001b[0m│\n",
       "│\u001b[36m \u001b[0m\u001b[36m    TestEpoch/F1Score    \u001b[0m\u001b[36m \u001b[0m│\u001b[35m \u001b[0m\u001b[35m    0.935023844242096    \u001b[0m\u001b[35m \u001b[0m│\n",
       "│\u001b[36m \u001b[0m\u001b[36m   TestEpoch/Precision   \u001b[0m\u001b[36m \u001b[0m│\u001b[35m \u001b[0m\u001b[35m   0.9361733794212341    \u001b[0m\u001b[35m \u001b[0m│\n",
       "│\u001b[36m \u001b[0m\u001b[36m    TestEpoch/Recall     \u001b[0m\u001b[36m \u001b[0m│\u001b[35m \u001b[0m\u001b[35m   0.9353218674659729    \u001b[0m\u001b[35m \u001b[0m│\n",
       "└───────────────────────────┴───────────────────────────┘\n"
      ]
     },
     "metadata": {},
     "output_type": "display_data"
    },
    {
     "name": "stderr",
     "output_type": "stream",
     "text": [
      "GPU available: True (cuda), used: True\n",
      "TPU available: False, using: 0 TPU cores\n",
      "IPU available: False, using: 0 IPUs\n",
      "HPU available: False, using: 0 HPUs\n",
      "You are using a CUDA device ('NVIDIA GeForce RTX 4070 Ti') that has Tensor Cores. To properly utilize them, you should set `torch.set_float32_matmul_precision('medium' | 'high')` which will trade-off precision for performance. For more details, read https://pytorch.org/docs/stable/generated/torch.set_float32_matmul_precision.html#torch.set_float32_matmul_precision\n",
      "LOCAL_RANK: 0 - CUDA_VISIBLE_DEVICES: [0,1]\n",
      "\n",
      "  | Name          | Type                      | Params | In sizes | Out sizes\n",
      "-----------------------------------------------------------------------------------\n",
      "0 | train_metrics | MetricCollection          | 0      | ?        | ?        \n",
      "1 | val_metrics   | MetricCollection          | 0      | ?        | ?        \n",
      "2 | test_metrics  | MetricCollection          | 0      | ?        | ?        \n",
      "3 | cm            | MulticlassConfusionMatrix | 0      | ?        | ?        \n",
      "4 | criterion     | CrossEntropyLoss          | 0      | ?        | ?        \n",
      "5 | l1            | Linear                    | 200 K  | [1, 784] | [1, 256] \n",
      "6 | l2            | Linear                    | 32.9 K | [1, 256] | [1, 128] \n",
      "7 | l3            | Linear                    | 1.3 K  | [1, 128] | [1, 10]  \n",
      "-----------------------------------------------------------------------------------\n",
      "235 K     Trainable params\n",
      "0         Non-trainable params\n",
      "235 K     Total params\n",
      "0.941     Total estimated model params size (MB)\n"
     ]
    },
    {
     "name": "stdout",
     "output_type": "stream",
     "text": [
      "Epoch end: Validation, epoch number: 12\n",
      "Epoch end: Validation, epoch number: 13\n",
      "Epoch end: Train, epoch number: 9\n",
      "Epoch end: Validation, epoch number: 14\n",
      "Epoch end: Train, epoch number: 10\n"
     ]
    },
    {
     "name": "stderr",
     "output_type": "stream",
     "text": [
      "`Trainer.fit` stopped: `max_epochs=3` reached.\n",
      "You are using a CUDA device ('NVIDIA GeForce RTX 4070 Ti') that has Tensor Cores. To properly utilize them, you should set `torch.set_float32_matmul_precision('medium' | 'high')` which will trade-off precision for performance. For more details, read https://pytorch.org/docs/stable/generated/torch.set_float32_matmul_precision.html#torch.set_float32_matmul_precision\n"
     ]
    },
    {
     "name": "stdout",
     "output_type": "stream",
     "text": [
      "Epoch end: Validation, epoch number: 15\n",
      "Epoch end: Train, epoch number: 11\n",
      "Performance of Node 4 before aggregation at round 5\n"
     ]
    },
    {
     "name": "stderr",
     "output_type": "stream",
     "text": [
      "LOCAL_RANK: 0 - CUDA_VISIBLE_DEVICES: [0,1]\n"
     ]
    },
    {
     "name": "stdout",
     "output_type": "stream",
     "text": [
      "Epoch end: Test, epoch number: 7\n"
     ]
    },
    {
     "data": {
      "text/html": [
       "<pre style=\"white-space:pre;overflow-x:auto;line-height:normal;font-family:Menlo,'DejaVu Sans Mono',consolas,'Courier New',monospace\">┏━━━━━━━━━━━━━━━━━━━━━━━━━━━┳━━━━━━━━━━━━━━━━━━━━━━━━━━━┓\n",
       "┃<span style=\"font-weight: bold\">   Runningstage.testing    </span>┃<span style=\"font-weight: bold\">                           </span>┃\n",
       "┃<span style=\"font-weight: bold\">          metric           </span>┃<span style=\"font-weight: bold\">       DataLoader 0        </span>┃\n",
       "┡━━━━━━━━━━━━━━━━━━━━━━━━━━━╇━━━━━━━━━━━━━━━━━━━━━━━━━━━┩\n",
       "│<span style=\"color: #008080; text-decoration-color: #008080\">       Test/Accuracy       </span>│<span style=\"color: #800080; text-decoration-color: #800080\">    0.9353750348091125     </span>│\n",
       "│<span style=\"color: #008080; text-decoration-color: #008080\">       Test/F1Score        </span>│<span style=\"color: #800080; text-decoration-color: #800080\">    0.9325190186500549     </span>│\n",
       "│<span style=\"color: #008080; text-decoration-color: #008080\">         Test/Loss         </span>│<span style=\"color: #800080; text-decoration-color: #800080\">    0.20118087530136108    </span>│\n",
       "│<span style=\"color: #008080; text-decoration-color: #008080\">      Test/Precision       </span>│<span style=\"color: #800080; text-decoration-color: #800080\">    0.9447835087776184     </span>│\n",
       "│<span style=\"color: #008080; text-decoration-color: #008080\">        Test/Recall        </span>│<span style=\"color: #800080; text-decoration-color: #800080\">    0.9353750348091125     </span>│\n",
       "│<span style=\"color: #008080; text-decoration-color: #008080\">    TestEpoch/Accuracy     </span>│<span style=\"color: #800080; text-decoration-color: #800080\">    0.9416225552558899     </span>│\n",
       "│<span style=\"color: #008080; text-decoration-color: #008080\">     TestEpoch/F1Score     </span>│<span style=\"color: #800080; text-decoration-color: #800080\">    0.9425705075263977     </span>│\n",
       "│<span style=\"color: #008080; text-decoration-color: #008080\">    TestEpoch/Precision    </span>│<span style=\"color: #800080; text-decoration-color: #800080\">    0.9450734257698059     </span>│\n",
       "│<span style=\"color: #008080; text-decoration-color: #008080\">     TestEpoch/Recall      </span>│<span style=\"color: #800080; text-decoration-color: #800080\">    0.9416225552558899     </span>│\n",
       "└───────────────────────────┴───────────────────────────┘\n",
       "</pre>\n"
      ],
      "text/plain": [
       "┏━━━━━━━━━━━━━━━━━━━━━━━━━━━┳━━━━━━━━━━━━━━━━━━━━━━━━━━━┓\n",
       "┃\u001b[1m \u001b[0m\u001b[1m  Runningstage.testing   \u001b[0m\u001b[1m \u001b[0m┃\u001b[1m                           \u001b[0m┃\n",
       "┃\u001b[1m \u001b[0m\u001b[1m         metric          \u001b[0m\u001b[1m \u001b[0m┃\u001b[1m \u001b[0m\u001b[1m      DataLoader 0       \u001b[0m\u001b[1m \u001b[0m┃\n",
       "┡━━━━━━━━━━━━━━━━━━━━━━━━━━━╇━━━━━━━━━━━━━━━━━━━━━━━━━━━┩\n",
       "│\u001b[36m \u001b[0m\u001b[36m      Test/Accuracy      \u001b[0m\u001b[36m \u001b[0m│\u001b[35m \u001b[0m\u001b[35m   0.9353750348091125    \u001b[0m\u001b[35m \u001b[0m│\n",
       "│\u001b[36m \u001b[0m\u001b[36m      Test/F1Score       \u001b[0m\u001b[36m \u001b[0m│\u001b[35m \u001b[0m\u001b[35m   0.9325190186500549    \u001b[0m\u001b[35m \u001b[0m│\n",
       "│\u001b[36m \u001b[0m\u001b[36m        Test/Loss        \u001b[0m\u001b[36m \u001b[0m│\u001b[35m \u001b[0m\u001b[35m   0.20118087530136108   \u001b[0m\u001b[35m \u001b[0m│\n",
       "│\u001b[36m \u001b[0m\u001b[36m     Test/Precision      \u001b[0m\u001b[36m \u001b[0m│\u001b[35m \u001b[0m\u001b[35m   0.9447835087776184    \u001b[0m\u001b[35m \u001b[0m│\n",
       "│\u001b[36m \u001b[0m\u001b[36m       Test/Recall       \u001b[0m\u001b[36m \u001b[0m│\u001b[35m \u001b[0m\u001b[35m   0.9353750348091125    \u001b[0m\u001b[35m \u001b[0m│\n",
       "│\u001b[36m \u001b[0m\u001b[36m   TestEpoch/Accuracy    \u001b[0m\u001b[36m \u001b[0m│\u001b[35m \u001b[0m\u001b[35m   0.9416225552558899    \u001b[0m\u001b[35m \u001b[0m│\n",
       "│\u001b[36m \u001b[0m\u001b[36m    TestEpoch/F1Score    \u001b[0m\u001b[36m \u001b[0m│\u001b[35m \u001b[0m\u001b[35m   0.9425705075263977    \u001b[0m\u001b[35m \u001b[0m│\n",
       "│\u001b[36m \u001b[0m\u001b[36m   TestEpoch/Precision   \u001b[0m\u001b[36m \u001b[0m│\u001b[35m \u001b[0m\u001b[35m   0.9450734257698059    \u001b[0m\u001b[35m \u001b[0m│\n",
       "│\u001b[36m \u001b[0m\u001b[36m    TestEpoch/Recall     \u001b[0m\u001b[36m \u001b[0m│\u001b[35m \u001b[0m\u001b[35m   0.9416225552558899    \u001b[0m\u001b[35m \u001b[0m│\n",
       "└───────────────────────────┴───────────────────────────┘\n"
      ]
     },
     "metadata": {},
     "output_type": "display_data"
    },
    {
     "name": "stderr",
     "output_type": "stream",
     "text": [
      "GPU available: True (cuda), used: True\n",
      "TPU available: False, using: 0 TPU cores\n",
      "IPU available: False, using: 0 IPUs\n",
      "HPU available: False, using: 0 HPUs\n",
      "You are using a CUDA device ('NVIDIA GeForce RTX 4070 Ti') that has Tensor Cores. To properly utilize them, you should set `torch.set_float32_matmul_precision('medium' | 'high')` which will trade-off precision for performance. For more details, read https://pytorch.org/docs/stable/generated/torch.set_float32_matmul_precision.html#torch.set_float32_matmul_precision\n",
      "LOCAL_RANK: 0 - CUDA_VISIBLE_DEVICES: [0,1]\n",
      "\n",
      "  | Name          | Type                      | Params | In sizes | Out sizes\n",
      "-----------------------------------------------------------------------------------\n",
      "0 | train_metrics | MetricCollection          | 0      | ?        | ?        \n",
      "1 | val_metrics   | MetricCollection          | 0      | ?        | ?        \n",
      "2 | test_metrics  | MetricCollection          | 0      | ?        | ?        \n",
      "3 | cm            | MulticlassConfusionMatrix | 0      | ?        | ?        \n",
      "4 | criterion     | CrossEntropyLoss          | 0      | ?        | ?        \n",
      "5 | l1            | Linear                    | 200 K  | [1, 784] | [1, 256] \n",
      "6 | l2            | Linear                    | 32.9 K | [1, 256] | [1, 128] \n",
      "7 | l3            | Linear                    | 1.3 K  | [1, 128] | [1, 10]  \n",
      "-----------------------------------------------------------------------------------\n",
      "235 K     Trainable params\n",
      "0         Non-trainable params\n",
      "235 K     Total params\n",
      "0.941     Total estimated model params size (MB)\n"
     ]
    },
    {
     "name": "stdout",
     "output_type": "stream",
     "text": [
      "Epoch end: Validation, epoch number: 12\n",
      "Epoch end: Validation, epoch number: 13\n",
      "Epoch end: Train, epoch number: 9\n",
      "Epoch end: Validation, epoch number: 14\n",
      "Epoch end: Train, epoch number: 10\n"
     ]
    },
    {
     "name": "stderr",
     "output_type": "stream",
     "text": [
      "`Trainer.fit` stopped: `max_epochs=3` reached.\n"
     ]
    },
    {
     "name": "stdout",
     "output_type": "stream",
     "text": [
      "Epoch end: Validation, epoch number: 15\n",
      "Epoch end: Train, epoch number: 11\n"
     ]
    },
    {
     "name": "stderr",
     "output_type": "stream",
     "text": [
      "You are using a CUDA device ('NVIDIA GeForce RTX 4070 Ti') that has Tensor Cores. To properly utilize them, you should set `torch.set_float32_matmul_precision('medium' | 'high')` which will trade-off precision for performance. For more details, read https://pytorch.org/docs/stable/generated/torch.set_float32_matmul_precision.html#torch.set_float32_matmul_precision\n",
      "LOCAL_RANK: 0 - CUDA_VISIBLE_DEVICES: [0,1]\n"
     ]
    },
    {
     "name": "stdout",
     "output_type": "stream",
     "text": [
      "Performance of Node 5 before aggregation at round 5\n",
      "Epoch end: Test, epoch number: 7\n"
     ]
    },
    {
     "data": {
      "text/html": [
       "<pre style=\"white-space:pre;overflow-x:auto;line-height:normal;font-family:Menlo,'DejaVu Sans Mono',consolas,'Courier New',monospace\">┏━━━━━━━━━━━━━━━━━━━━━━━━━━━┳━━━━━━━━━━━━━━━━━━━━━━━━━━━┓\n",
       "┃<span style=\"font-weight: bold\">   Runningstage.testing    </span>┃<span style=\"font-weight: bold\">                           </span>┃\n",
       "┃<span style=\"font-weight: bold\">          metric           </span>┃<span style=\"font-weight: bold\">       DataLoader 0        </span>┃\n",
       "┡━━━━━━━━━━━━━━━━━━━━━━━━━━━╇━━━━━━━━━━━━━━━━━━━━━━━━━━━┩\n",
       "│<span style=\"color: #008080; text-decoration-color: #008080\">       Test/Accuracy       </span>│<span style=\"color: #800080; text-decoration-color: #800080\">    0.9421356320381165     </span>│\n",
       "│<span style=\"color: #008080; text-decoration-color: #008080\">       Test/F1Score        </span>│<span style=\"color: #800080; text-decoration-color: #800080\">    0.9375062584877014     </span>│\n",
       "│<span style=\"color: #008080; text-decoration-color: #008080\">         Test/Loss         </span>│<span style=\"color: #800080; text-decoration-color: #800080\">    0.20365673303604126    </span>│\n",
       "│<span style=\"color: #008080; text-decoration-color: #008080\">      Test/Precision       </span>│<span style=\"color: #800080; text-decoration-color: #800080\">    0.9449167251586914     </span>│\n",
       "│<span style=\"color: #008080; text-decoration-color: #008080\">        Test/Recall        </span>│<span style=\"color: #800080; text-decoration-color: #800080\">    0.9421356320381165     </span>│\n",
       "│<span style=\"color: #008080; text-decoration-color: #008080\">    TestEpoch/Accuracy     </span>│<span style=\"color: #800080; text-decoration-color: #800080\">    0.9399195313453674     </span>│\n",
       "│<span style=\"color: #008080; text-decoration-color: #008080\">     TestEpoch/F1Score     </span>│<span style=\"color: #800080; text-decoration-color: #800080\">    0.9391356706619263     </span>│\n",
       "│<span style=\"color: #008080; text-decoration-color: #008080\">    TestEpoch/Precision    </span>│<span style=\"color: #800080; text-decoration-color: #800080\">    0.9403731822967529     </span>│\n",
       "│<span style=\"color: #008080; text-decoration-color: #008080\">     TestEpoch/Recall      </span>│<span style=\"color: #800080; text-decoration-color: #800080\">    0.9399195313453674     </span>│\n",
       "└───────────────────────────┴───────────────────────────┘\n",
       "</pre>\n"
      ],
      "text/plain": [
       "┏━━━━━━━━━━━━━━━━━━━━━━━━━━━┳━━━━━━━━━━━━━━━━━━━━━━━━━━━┓\n",
       "┃\u001b[1m \u001b[0m\u001b[1m  Runningstage.testing   \u001b[0m\u001b[1m \u001b[0m┃\u001b[1m                           \u001b[0m┃\n",
       "┃\u001b[1m \u001b[0m\u001b[1m         metric          \u001b[0m\u001b[1m \u001b[0m┃\u001b[1m \u001b[0m\u001b[1m      DataLoader 0       \u001b[0m\u001b[1m \u001b[0m┃\n",
       "┡━━━━━━━━━━━━━━━━━━━━━━━━━━━╇━━━━━━━━━━━━━━━━━━━━━━━━━━━┩\n",
       "│\u001b[36m \u001b[0m\u001b[36m      Test/Accuracy      \u001b[0m\u001b[36m \u001b[0m│\u001b[35m \u001b[0m\u001b[35m   0.9421356320381165    \u001b[0m\u001b[35m \u001b[0m│\n",
       "│\u001b[36m \u001b[0m\u001b[36m      Test/F1Score       \u001b[0m\u001b[36m \u001b[0m│\u001b[35m \u001b[0m\u001b[35m   0.9375062584877014    \u001b[0m\u001b[35m \u001b[0m│\n",
       "│\u001b[36m \u001b[0m\u001b[36m        Test/Loss        \u001b[0m\u001b[36m \u001b[0m│\u001b[35m \u001b[0m\u001b[35m   0.20365673303604126   \u001b[0m\u001b[35m \u001b[0m│\n",
       "│\u001b[36m \u001b[0m\u001b[36m     Test/Precision      \u001b[0m\u001b[36m \u001b[0m│\u001b[35m \u001b[0m\u001b[35m   0.9449167251586914    \u001b[0m\u001b[35m \u001b[0m│\n",
       "│\u001b[36m \u001b[0m\u001b[36m       Test/Recall       \u001b[0m\u001b[36m \u001b[0m│\u001b[35m \u001b[0m\u001b[35m   0.9421356320381165    \u001b[0m\u001b[35m \u001b[0m│\n",
       "│\u001b[36m \u001b[0m\u001b[36m   TestEpoch/Accuracy    \u001b[0m\u001b[36m \u001b[0m│\u001b[35m \u001b[0m\u001b[35m   0.9399195313453674    \u001b[0m\u001b[35m \u001b[0m│\n",
       "│\u001b[36m \u001b[0m\u001b[36m    TestEpoch/F1Score    \u001b[0m\u001b[36m \u001b[0m│\u001b[35m \u001b[0m\u001b[35m   0.9391356706619263    \u001b[0m\u001b[35m \u001b[0m│\n",
       "│\u001b[36m \u001b[0m\u001b[36m   TestEpoch/Precision   \u001b[0m\u001b[36m \u001b[0m│\u001b[35m \u001b[0m\u001b[35m   0.9403731822967529    \u001b[0m\u001b[35m \u001b[0m│\n",
       "│\u001b[36m \u001b[0m\u001b[36m    TestEpoch/Recall     \u001b[0m\u001b[36m \u001b[0m│\u001b[35m \u001b[0m\u001b[35m   0.9399195313453674    \u001b[0m\u001b[35m \u001b[0m│\n",
       "└───────────────────────────┴───────────────────────────┘\n"
      ]
     },
     "metadata": {},
     "output_type": "display_data"
    },
    {
     "name": "stderr",
     "output_type": "stream",
     "text": [
      "GPU available: True (cuda), used: True\n",
      "TPU available: False, using: 0 TPU cores\n",
      "IPU available: False, using: 0 IPUs\n",
      "HPU available: False, using: 0 HPUs\n",
      "You are using a CUDA device ('NVIDIA GeForce RTX 4070 Ti') that has Tensor Cores. To properly utilize them, you should set `torch.set_float32_matmul_precision('medium' | 'high')` which will trade-off precision for performance. For more details, read https://pytorch.org/docs/stable/generated/torch.set_float32_matmul_precision.html#torch.set_float32_matmul_precision\n",
      "LOCAL_RANK: 0 - CUDA_VISIBLE_DEVICES: [0,1]\n",
      "\n",
      "  | Name          | Type                      | Params | In sizes | Out sizes\n",
      "-----------------------------------------------------------------------------------\n",
      "0 | train_metrics | MetricCollection          | 0      | ?        | ?        \n",
      "1 | val_metrics   | MetricCollection          | 0      | ?        | ?        \n",
      "2 | test_metrics  | MetricCollection          | 0      | ?        | ?        \n",
      "3 | cm            | MulticlassConfusionMatrix | 0      | ?        | ?        \n",
      "4 | criterion     | CrossEntropyLoss          | 0      | ?        | ?        \n",
      "5 | l1            | Linear                    | 200 K  | [1, 784] | [1, 256] \n",
      "6 | l2            | Linear                    | 32.9 K | [1, 256] | [1, 128] \n",
      "7 | l3            | Linear                    | 1.3 K  | [1, 128] | [1, 10]  \n",
      "-----------------------------------------------------------------------------------\n",
      "235 K     Trainable params\n",
      "0         Non-trainable params\n",
      "235 K     Total params\n",
      "0.941     Total estimated model params size (MB)\n"
     ]
    },
    {
     "name": "stdout",
     "output_type": "stream",
     "text": [
      "Epoch end: Validation, epoch number: 12\n",
      "Epoch end: Validation, epoch number: 13\n",
      "Epoch end: Train, epoch number: 9\n",
      "Epoch end: Validation, epoch number: 14\n",
      "Epoch end: Train, epoch number: 10\n"
     ]
    },
    {
     "name": "stderr",
     "output_type": "stream",
     "text": [
      "`Trainer.fit` stopped: `max_epochs=3` reached.\n",
      "You are using a CUDA device ('NVIDIA GeForce RTX 4070 Ti') that has Tensor Cores. To properly utilize them, you should set `torch.set_float32_matmul_precision('medium' | 'high')` which will trade-off precision for performance. For more details, read https://pytorch.org/docs/stable/generated/torch.set_float32_matmul_precision.html#torch.set_float32_matmul_precision\n"
     ]
    },
    {
     "name": "stdout",
     "output_type": "stream",
     "text": [
      "Epoch end: Validation, epoch number: 15\n",
      "Epoch end: Train, epoch number: 11\n",
      "Performance of Node 6 before aggregation at round 5\n"
     ]
    },
    {
     "name": "stderr",
     "output_type": "stream",
     "text": [
      "LOCAL_RANK: 0 - CUDA_VISIBLE_DEVICES: [0,1]\n"
     ]
    },
    {
     "name": "stdout",
     "output_type": "stream",
     "text": [
      "Epoch end: Test, epoch number: 7\n"
     ]
    },
    {
     "data": {
      "text/html": [
       "<pre style=\"white-space:pre;overflow-x:auto;line-height:normal;font-family:Menlo,'DejaVu Sans Mono',consolas,'Courier New',monospace\">┏━━━━━━━━━━━━━━━━━━━━━━━━━━━┳━━━━━━━━━━━━━━━━━━━━━━━━━━━┓\n",
       "┃<span style=\"font-weight: bold\">   Runningstage.testing    </span>┃<span style=\"font-weight: bold\">                           </span>┃\n",
       "┃<span style=\"font-weight: bold\">          metric           </span>┃<span style=\"font-weight: bold\">       DataLoader 0        </span>┃\n",
       "┡━━━━━━━━━━━━━━━━━━━━━━━━━━━╇━━━━━━━━━━━━━━━━━━━━━━━━━━━┩\n",
       "│<span style=\"color: #008080; text-decoration-color: #008080\">       Test/Accuracy       </span>│<span style=\"color: #800080; text-decoration-color: #800080\">    0.9271897077560425     </span>│\n",
       "│<span style=\"color: #008080; text-decoration-color: #008080\">       Test/F1Score        </span>│<span style=\"color: #800080; text-decoration-color: #800080\">    0.9218984246253967     </span>│\n",
       "│<span style=\"color: #008080; text-decoration-color: #008080\">         Test/Loss         </span>│<span style=\"color: #800080; text-decoration-color: #800080\">     0.255148321390152     </span>│\n",
       "│<span style=\"color: #008080; text-decoration-color: #008080\">      Test/Precision       </span>│<span style=\"color: #800080; text-decoration-color: #800080\">    0.9298006296157837     </span>│\n",
       "│<span style=\"color: #008080; text-decoration-color: #008080\">        Test/Recall        </span>│<span style=\"color: #800080; text-decoration-color: #800080\">    0.9271897077560425     </span>│\n",
       "│<span style=\"color: #008080; text-decoration-color: #008080\">    TestEpoch/Accuracy     </span>│<span style=\"color: #800080; text-decoration-color: #800080\">    0.9342250823974609     </span>│\n",
       "│<span style=\"color: #008080; text-decoration-color: #008080\">     TestEpoch/F1Score     </span>│<span style=\"color: #800080; text-decoration-color: #800080\">    0.9336276650428772     </span>│\n",
       "│<span style=\"color: #008080; text-decoration-color: #008080\">    TestEpoch/Precision    </span>│<span style=\"color: #800080; text-decoration-color: #800080\">    0.9360435009002686     </span>│\n",
       "│<span style=\"color: #008080; text-decoration-color: #008080\">     TestEpoch/Recall      </span>│<span style=\"color: #800080; text-decoration-color: #800080\">    0.9342250823974609     </span>│\n",
       "└───────────────────────────┴───────────────────────────┘\n",
       "</pre>\n"
      ],
      "text/plain": [
       "┏━━━━━━━━━━━━━━━━━━━━━━━━━━━┳━━━━━━━━━━━━━━━━━━━━━━━━━━━┓\n",
       "┃\u001b[1m \u001b[0m\u001b[1m  Runningstage.testing   \u001b[0m\u001b[1m \u001b[0m┃\u001b[1m                           \u001b[0m┃\n",
       "┃\u001b[1m \u001b[0m\u001b[1m         metric          \u001b[0m\u001b[1m \u001b[0m┃\u001b[1m \u001b[0m\u001b[1m      DataLoader 0       \u001b[0m\u001b[1m \u001b[0m┃\n",
       "┡━━━━━━━━━━━━━━━━━━━━━━━━━━━╇━━━━━━━━━━━━━━━━━━━━━━━━━━━┩\n",
       "│\u001b[36m \u001b[0m\u001b[36m      Test/Accuracy      \u001b[0m\u001b[36m \u001b[0m│\u001b[35m \u001b[0m\u001b[35m   0.9271897077560425    \u001b[0m\u001b[35m \u001b[0m│\n",
       "│\u001b[36m \u001b[0m\u001b[36m      Test/F1Score       \u001b[0m\u001b[36m \u001b[0m│\u001b[35m \u001b[0m\u001b[35m   0.9218984246253967    \u001b[0m\u001b[35m \u001b[0m│\n",
       "│\u001b[36m \u001b[0m\u001b[36m        Test/Loss        \u001b[0m\u001b[36m \u001b[0m│\u001b[35m \u001b[0m\u001b[35m    0.255148321390152    \u001b[0m\u001b[35m \u001b[0m│\n",
       "│\u001b[36m \u001b[0m\u001b[36m     Test/Precision      \u001b[0m\u001b[36m \u001b[0m│\u001b[35m \u001b[0m\u001b[35m   0.9298006296157837    \u001b[0m\u001b[35m \u001b[0m│\n",
       "│\u001b[36m \u001b[0m\u001b[36m       Test/Recall       \u001b[0m\u001b[36m \u001b[0m│\u001b[35m \u001b[0m\u001b[35m   0.9271897077560425    \u001b[0m\u001b[35m \u001b[0m│\n",
       "│\u001b[36m \u001b[0m\u001b[36m   TestEpoch/Accuracy    \u001b[0m\u001b[36m \u001b[0m│\u001b[35m \u001b[0m\u001b[35m   0.9342250823974609    \u001b[0m\u001b[35m \u001b[0m│\n",
       "│\u001b[36m \u001b[0m\u001b[36m    TestEpoch/F1Score    \u001b[0m\u001b[36m \u001b[0m│\u001b[35m \u001b[0m\u001b[35m   0.9336276650428772    \u001b[0m\u001b[35m \u001b[0m│\n",
       "│\u001b[36m \u001b[0m\u001b[36m   TestEpoch/Precision   \u001b[0m\u001b[36m \u001b[0m│\u001b[35m \u001b[0m\u001b[35m   0.9360435009002686    \u001b[0m\u001b[35m \u001b[0m│\n",
       "│\u001b[36m \u001b[0m\u001b[36m    TestEpoch/Recall     \u001b[0m\u001b[36m \u001b[0m│\u001b[35m \u001b[0m\u001b[35m   0.9342250823974609    \u001b[0m\u001b[35m \u001b[0m│\n",
       "└───────────────────────────┴───────────────────────────┘\n"
      ]
     },
     "metadata": {},
     "output_type": "display_data"
    },
    {
     "name": "stderr",
     "output_type": "stream",
     "text": [
      "GPU available: True (cuda), used: True\n",
      "TPU available: False, using: 0 TPU cores\n",
      "IPU available: False, using: 0 IPUs\n",
      "HPU available: False, using: 0 HPUs\n",
      "You are using a CUDA device ('NVIDIA GeForce RTX 4070 Ti') that has Tensor Cores. To properly utilize them, you should set `torch.set_float32_matmul_precision('medium' | 'high')` which will trade-off precision for performance. For more details, read https://pytorch.org/docs/stable/generated/torch.set_float32_matmul_precision.html#torch.set_float32_matmul_precision\n",
      "LOCAL_RANK: 0 - CUDA_VISIBLE_DEVICES: [0,1]\n",
      "\n",
      "  | Name          | Type                      | Params | In sizes | Out sizes\n",
      "-----------------------------------------------------------------------------------\n",
      "0 | train_metrics | MetricCollection          | 0      | ?        | ?        \n",
      "1 | val_metrics   | MetricCollection          | 0      | ?        | ?        \n",
      "2 | test_metrics  | MetricCollection          | 0      | ?        | ?        \n",
      "3 | cm            | MulticlassConfusionMatrix | 0      | ?        | ?        \n",
      "4 | criterion     | CrossEntropyLoss          | 0      | ?        | ?        \n",
      "5 | l1            | Linear                    | 200 K  | [1, 784] | [1, 256] \n",
      "6 | l2            | Linear                    | 32.9 K | [1, 256] | [1, 128] \n",
      "7 | l3            | Linear                    | 1.3 K  | [1, 128] | [1, 10]  \n",
      "-----------------------------------------------------------------------------------\n",
      "235 K     Trainable params\n",
      "0         Non-trainable params\n",
      "235 K     Total params\n",
      "0.941     Total estimated model params size (MB)\n"
     ]
    },
    {
     "name": "stdout",
     "output_type": "stream",
     "text": [
      "Epoch end: Validation, epoch number: 12\n",
      "Epoch end: Validation, epoch number: 13\n",
      "Epoch end: Train, epoch number: 9\n",
      "Epoch end: Validation, epoch number: 14\n",
      "Epoch end: Train, epoch number: 10\n"
     ]
    },
    {
     "name": "stderr",
     "output_type": "stream",
     "text": [
      "`Trainer.fit` stopped: `max_epochs=3` reached.\n",
      "You are using a CUDA device ('NVIDIA GeForce RTX 4070 Ti') that has Tensor Cores. To properly utilize them, you should set `torch.set_float32_matmul_precision('medium' | 'high')` which will trade-off precision for performance. For more details, read https://pytorch.org/docs/stable/generated/torch.set_float32_matmul_precision.html#torch.set_float32_matmul_precision\n"
     ]
    },
    {
     "name": "stdout",
     "output_type": "stream",
     "text": [
      "Epoch end: Validation, epoch number: 15\n",
      "Epoch end: Train, epoch number: 11\n",
      "Performance of Node 7 before aggregation at round 5\n"
     ]
    },
    {
     "name": "stderr",
     "output_type": "stream",
     "text": [
      "LOCAL_RANK: 0 - CUDA_VISIBLE_DEVICES: [0,1]\n"
     ]
    },
    {
     "name": "stdout",
     "output_type": "stream",
     "text": [
      "Epoch end: Test, epoch number: 7\n"
     ]
    },
    {
     "data": {
      "text/html": [
       "<pre style=\"white-space:pre;overflow-x:auto;line-height:normal;font-family:Menlo,'DejaVu Sans Mono',consolas,'Courier New',monospace\">┏━━━━━━━━━━━━━━━━━━━━━━━━━━━┳━━━━━━━━━━━━━━━━━━━━━━━━━━━┓\n",
       "┃<span style=\"font-weight: bold\">   Runningstage.testing    </span>┃<span style=\"font-weight: bold\">                           </span>┃\n",
       "┃<span style=\"font-weight: bold\">          metric           </span>┃<span style=\"font-weight: bold\">       DataLoader 0        </span>┃\n",
       "┡━━━━━━━━━━━━━━━━━━━━━━━━━━━╇━━━━━━━━━━━━━━━━━━━━━━━━━━━┩\n",
       "│<span style=\"color: #008080; text-decoration-color: #008080\">       Test/Accuracy       </span>│<span style=\"color: #800080; text-decoration-color: #800080\">    0.9338852763175964     </span>│\n",
       "│<span style=\"color: #008080; text-decoration-color: #008080\">       Test/F1Score        </span>│<span style=\"color: #800080; text-decoration-color: #800080\">    0.9298598170280457     </span>│\n",
       "│<span style=\"color: #008080; text-decoration-color: #008080\">         Test/Loss         </span>│<span style=\"color: #800080; text-decoration-color: #800080\">    0.22887811064720154    </span>│\n",
       "│<span style=\"color: #008080; text-decoration-color: #008080\">      Test/Precision       </span>│<span style=\"color: #800080; text-decoration-color: #800080\">    0.9415485858917236     </span>│\n",
       "│<span style=\"color: #008080; text-decoration-color: #008080\">        Test/Recall        </span>│<span style=\"color: #800080; text-decoration-color: #800080\">    0.9338852763175964     </span>│\n",
       "│<span style=\"color: #008080; text-decoration-color: #008080\">    TestEpoch/Accuracy     </span>│<span style=\"color: #800080; text-decoration-color: #800080\">    0.9358728528022766     </span>│\n",
       "│<span style=\"color: #008080; text-decoration-color: #008080\">     TestEpoch/F1Score     </span>│<span style=\"color: #800080; text-decoration-color: #800080\">    0.9357432723045349     </span>│\n",
       "│<span style=\"color: #008080; text-decoration-color: #008080\">    TestEpoch/Precision    </span>│<span style=\"color: #800080; text-decoration-color: #800080\">    0.9382237195968628     </span>│\n",
       "│<span style=\"color: #008080; text-decoration-color: #008080\">     TestEpoch/Recall      </span>│<span style=\"color: #800080; text-decoration-color: #800080\">    0.9358728528022766     </span>│\n",
       "└───────────────────────────┴───────────────────────────┘\n",
       "</pre>\n"
      ],
      "text/plain": [
       "┏━━━━━━━━━━━━━━━━━━━━━━━━━━━┳━━━━━━━━━━━━━━━━━━━━━━━━━━━┓\n",
       "┃\u001b[1m \u001b[0m\u001b[1m  Runningstage.testing   \u001b[0m\u001b[1m \u001b[0m┃\u001b[1m                           \u001b[0m┃\n",
       "┃\u001b[1m \u001b[0m\u001b[1m         metric          \u001b[0m\u001b[1m \u001b[0m┃\u001b[1m \u001b[0m\u001b[1m      DataLoader 0       \u001b[0m\u001b[1m \u001b[0m┃\n",
       "┡━━━━━━━━━━━━━━━━━━━━━━━━━━━╇━━━━━━━━━━━━━━━━━━━━━━━━━━━┩\n",
       "│\u001b[36m \u001b[0m\u001b[36m      Test/Accuracy      \u001b[0m\u001b[36m \u001b[0m│\u001b[35m \u001b[0m\u001b[35m   0.9338852763175964    \u001b[0m\u001b[35m \u001b[0m│\n",
       "│\u001b[36m \u001b[0m\u001b[36m      Test/F1Score       \u001b[0m\u001b[36m \u001b[0m│\u001b[35m \u001b[0m\u001b[35m   0.9298598170280457    \u001b[0m\u001b[35m \u001b[0m│\n",
       "│\u001b[36m \u001b[0m\u001b[36m        Test/Loss        \u001b[0m\u001b[36m \u001b[0m│\u001b[35m \u001b[0m\u001b[35m   0.22887811064720154   \u001b[0m\u001b[35m \u001b[0m│\n",
       "│\u001b[36m \u001b[0m\u001b[36m     Test/Precision      \u001b[0m\u001b[36m \u001b[0m│\u001b[35m \u001b[0m\u001b[35m   0.9415485858917236    \u001b[0m\u001b[35m \u001b[0m│\n",
       "│\u001b[36m \u001b[0m\u001b[36m       Test/Recall       \u001b[0m\u001b[36m \u001b[0m│\u001b[35m \u001b[0m\u001b[35m   0.9338852763175964    \u001b[0m\u001b[35m \u001b[0m│\n",
       "│\u001b[36m \u001b[0m\u001b[36m   TestEpoch/Accuracy    \u001b[0m\u001b[36m \u001b[0m│\u001b[35m \u001b[0m\u001b[35m   0.9358728528022766    \u001b[0m\u001b[35m \u001b[0m│\n",
       "│\u001b[36m \u001b[0m\u001b[36m    TestEpoch/F1Score    \u001b[0m\u001b[36m \u001b[0m│\u001b[35m \u001b[0m\u001b[35m   0.9357432723045349    \u001b[0m\u001b[35m \u001b[0m│\n",
       "│\u001b[36m \u001b[0m\u001b[36m   TestEpoch/Precision   \u001b[0m\u001b[36m \u001b[0m│\u001b[35m \u001b[0m\u001b[35m   0.9382237195968628    \u001b[0m\u001b[35m \u001b[0m│\n",
       "│\u001b[36m \u001b[0m\u001b[36m    TestEpoch/Recall     \u001b[0m\u001b[36m \u001b[0m│\u001b[35m \u001b[0m\u001b[35m   0.9358728528022766    \u001b[0m\u001b[35m \u001b[0m│\n",
       "└───────────────────────────┴───────────────────────────┘\n"
      ]
     },
     "metadata": {},
     "output_type": "display_data"
    },
    {
     "name": "stderr",
     "output_type": "stream",
     "text": [
      "GPU available: True (cuda), used: True\n",
      "TPU available: False, using: 0 TPU cores\n",
      "IPU available: False, using: 0 IPUs\n",
      "HPU available: False, using: 0 HPUs\n",
      "You are using a CUDA device ('NVIDIA GeForce RTX 4070 Ti') that has Tensor Cores. To properly utilize them, you should set `torch.set_float32_matmul_precision('medium' | 'high')` which will trade-off precision for performance. For more details, read https://pytorch.org/docs/stable/generated/torch.set_float32_matmul_precision.html#torch.set_float32_matmul_precision\n",
      "LOCAL_RANK: 0 - CUDA_VISIBLE_DEVICES: [0,1]\n",
      "\n",
      "  | Name          | Type                      | Params | In sizes | Out sizes\n",
      "-----------------------------------------------------------------------------------\n",
      "0 | train_metrics | MetricCollection          | 0      | ?        | ?        \n",
      "1 | val_metrics   | MetricCollection          | 0      | ?        | ?        \n",
      "2 | test_metrics  | MetricCollection          | 0      | ?        | ?        \n",
      "3 | cm            | MulticlassConfusionMatrix | 0      | ?        | ?        \n",
      "4 | criterion     | CrossEntropyLoss          | 0      | ?        | ?        \n",
      "5 | l1            | Linear                    | 200 K  | [1, 784] | [1, 256] \n",
      "6 | l2            | Linear                    | 32.9 K | [1, 256] | [1, 128] \n",
      "7 | l3            | Linear                    | 1.3 K  | [1, 128] | [1, 10]  \n",
      "-----------------------------------------------------------------------------------\n",
      "235 K     Trainable params\n",
      "0         Non-trainable params\n",
      "235 K     Total params\n",
      "0.941     Total estimated model params size (MB)\n"
     ]
    },
    {
     "name": "stdout",
     "output_type": "stream",
     "text": [
      "Epoch end: Validation, epoch number: 12\n",
      "Epoch end: Validation, epoch number: 13\n",
      "Epoch end: Train, epoch number: 9\n",
      "Epoch end: Validation, epoch number: 14\n",
      "Epoch end: Train, epoch number: 10\n"
     ]
    },
    {
     "name": "stderr",
     "output_type": "stream",
     "text": [
      "`Trainer.fit` stopped: `max_epochs=3` reached.\n",
      "You are using a CUDA device ('NVIDIA GeForce RTX 4070 Ti') that has Tensor Cores. To properly utilize them, you should set `torch.set_float32_matmul_precision('medium' | 'high')` which will trade-off precision for performance. For more details, read https://pytorch.org/docs/stable/generated/torch.set_float32_matmul_precision.html#torch.set_float32_matmul_precision\n"
     ]
    },
    {
     "name": "stdout",
     "output_type": "stream",
     "text": [
      "Epoch end: Validation, epoch number: 15\n",
      "Epoch end: Train, epoch number: 11\n",
      "Performance of Node 8 before aggregation at round 5\n"
     ]
    },
    {
     "name": "stderr",
     "output_type": "stream",
     "text": [
      "LOCAL_RANK: 0 - CUDA_VISIBLE_DEVICES: [0,1]\n"
     ]
    },
    {
     "name": "stdout",
     "output_type": "stream",
     "text": [
      "Epoch end: Test, epoch number: 7\n"
     ]
    },
    {
     "data": {
      "text/html": [
       "<pre style=\"white-space:pre;overflow-x:auto;line-height:normal;font-family:Menlo,'DejaVu Sans Mono',consolas,'Courier New',monospace\">┏━━━━━━━━━━━━━━━━━━━━━━━━━━━┳━━━━━━━━━━━━━━━━━━━━━━━━━━━┓\n",
       "┃<span style=\"font-weight: bold\">   Runningstage.testing    </span>┃<span style=\"font-weight: bold\">                           </span>┃\n",
       "┃<span style=\"font-weight: bold\">          metric           </span>┃<span style=\"font-weight: bold\">       DataLoader 0        </span>┃\n",
       "┡━━━━━━━━━━━━━━━━━━━━━━━━━━━╇━━━━━━━━━━━━━━━━━━━━━━━━━━━┩\n",
       "│<span style=\"color: #008080; text-decoration-color: #008080\">       Test/Accuracy       </span>│<span style=\"color: #800080; text-decoration-color: #800080\">    0.9254202842712402     </span>│\n",
       "│<span style=\"color: #008080; text-decoration-color: #008080\">       Test/F1Score        </span>│<span style=\"color: #800080; text-decoration-color: #800080\">    0.9204255938529968     </span>│\n",
       "│<span style=\"color: #008080; text-decoration-color: #008080\">         Test/Loss         </span>│<span style=\"color: #800080; text-decoration-color: #800080\">    0.28528285026550293    </span>│\n",
       "│<span style=\"color: #008080; text-decoration-color: #008080\">      Test/Precision       </span>│<span style=\"color: #800080; text-decoration-color: #800080\">    0.9316242933273315     </span>│\n",
       "│<span style=\"color: #008080; text-decoration-color: #008080\">        Test/Recall        </span>│<span style=\"color: #800080; text-decoration-color: #800080\">    0.9254202842712402     </span>│\n",
       "│<span style=\"color: #008080; text-decoration-color: #008080\">    TestEpoch/Accuracy     </span>│<span style=\"color: #800080; text-decoration-color: #800080\">     0.924892008304596     </span>│\n",
       "│<span style=\"color: #008080; text-decoration-color: #008080\">     TestEpoch/F1Score     </span>│<span style=\"color: #800080; text-decoration-color: #800080\">    0.9239768981933594     </span>│\n",
       "│<span style=\"color: #008080; text-decoration-color: #008080\">    TestEpoch/Precision    </span>│<span style=\"color: #800080; text-decoration-color: #800080\">     0.92576003074646      </span>│\n",
       "│<span style=\"color: #008080; text-decoration-color: #008080\">     TestEpoch/Recall      </span>│<span style=\"color: #800080; text-decoration-color: #800080\">     0.924892008304596     </span>│\n",
       "└───────────────────────────┴───────────────────────────┘\n",
       "</pre>\n"
      ],
      "text/plain": [
       "┏━━━━━━━━━━━━━━━━━━━━━━━━━━━┳━━━━━━━━━━━━━━━━━━━━━━━━━━━┓\n",
       "┃\u001b[1m \u001b[0m\u001b[1m  Runningstage.testing   \u001b[0m\u001b[1m \u001b[0m┃\u001b[1m                           \u001b[0m┃\n",
       "┃\u001b[1m \u001b[0m\u001b[1m         metric          \u001b[0m\u001b[1m \u001b[0m┃\u001b[1m \u001b[0m\u001b[1m      DataLoader 0       \u001b[0m\u001b[1m \u001b[0m┃\n",
       "┡━━━━━━━━━━━━━━━━━━━━━━━━━━━╇━━━━━━━━━━━━━━━━━━━━━━━━━━━┩\n",
       "│\u001b[36m \u001b[0m\u001b[36m      Test/Accuracy      \u001b[0m\u001b[36m \u001b[0m│\u001b[35m \u001b[0m\u001b[35m   0.9254202842712402    \u001b[0m\u001b[35m \u001b[0m│\n",
       "│\u001b[36m \u001b[0m\u001b[36m      Test/F1Score       \u001b[0m\u001b[36m \u001b[0m│\u001b[35m \u001b[0m\u001b[35m   0.9204255938529968    \u001b[0m\u001b[35m \u001b[0m│\n",
       "│\u001b[36m \u001b[0m\u001b[36m        Test/Loss        \u001b[0m\u001b[36m \u001b[0m│\u001b[35m \u001b[0m\u001b[35m   0.28528285026550293   \u001b[0m\u001b[35m \u001b[0m│\n",
       "│\u001b[36m \u001b[0m\u001b[36m     Test/Precision      \u001b[0m\u001b[36m \u001b[0m│\u001b[35m \u001b[0m\u001b[35m   0.9316242933273315    \u001b[0m\u001b[35m \u001b[0m│\n",
       "│\u001b[36m \u001b[0m\u001b[36m       Test/Recall       \u001b[0m\u001b[36m \u001b[0m│\u001b[35m \u001b[0m\u001b[35m   0.9254202842712402    \u001b[0m\u001b[35m \u001b[0m│\n",
       "│\u001b[36m \u001b[0m\u001b[36m   TestEpoch/Accuracy    \u001b[0m\u001b[36m \u001b[0m│\u001b[35m \u001b[0m\u001b[35m    0.924892008304596    \u001b[0m\u001b[35m \u001b[0m│\n",
       "│\u001b[36m \u001b[0m\u001b[36m    TestEpoch/F1Score    \u001b[0m\u001b[36m \u001b[0m│\u001b[35m \u001b[0m\u001b[35m   0.9239768981933594    \u001b[0m\u001b[35m \u001b[0m│\n",
       "│\u001b[36m \u001b[0m\u001b[36m   TestEpoch/Precision   \u001b[0m\u001b[36m \u001b[0m│\u001b[35m \u001b[0m\u001b[35m    0.92576003074646     \u001b[0m\u001b[35m \u001b[0m│\n",
       "│\u001b[36m \u001b[0m\u001b[36m    TestEpoch/Recall     \u001b[0m\u001b[36m \u001b[0m│\u001b[35m \u001b[0m\u001b[35m    0.924892008304596    \u001b[0m\u001b[35m \u001b[0m│\n",
       "└───────────────────────────┴───────────────────────────┘\n"
      ]
     },
     "metadata": {},
     "output_type": "display_data"
    },
    {
     "name": "stderr",
     "output_type": "stream",
     "text": [
      "GPU available: True (cuda), used: True\n",
      "TPU available: False, using: 0 TPU cores\n",
      "IPU available: False, using: 0 IPUs\n",
      "HPU available: False, using: 0 HPUs\n",
      "You are using a CUDA device ('NVIDIA GeForce RTX 4070 Ti') that has Tensor Cores. To properly utilize them, you should set `torch.set_float32_matmul_precision('medium' | 'high')` which will trade-off precision for performance. For more details, read https://pytorch.org/docs/stable/generated/torch.set_float32_matmul_precision.html#torch.set_float32_matmul_precision\n",
      "LOCAL_RANK: 0 - CUDA_VISIBLE_DEVICES: [0,1]\n",
      "\n",
      "  | Name          | Type                      | Params | In sizes | Out sizes\n",
      "-----------------------------------------------------------------------------------\n",
      "0 | train_metrics | MetricCollection          | 0      | ?        | ?        \n",
      "1 | val_metrics   | MetricCollection          | 0      | ?        | ?        \n",
      "2 | test_metrics  | MetricCollection          | 0      | ?        | ?        \n",
      "3 | cm            | MulticlassConfusionMatrix | 0      | ?        | ?        \n",
      "4 | criterion     | CrossEntropyLoss          | 0      | ?        | ?        \n",
      "5 | l1            | Linear                    | 200 K  | [1, 784] | [1, 256] \n",
      "6 | l2            | Linear                    | 32.9 K | [1, 256] | [1, 128] \n",
      "7 | l3            | Linear                    | 1.3 K  | [1, 128] | [1, 10]  \n",
      "-----------------------------------------------------------------------------------\n",
      "235 K     Trainable params\n",
      "0         Non-trainable params\n",
      "235 K     Total params\n",
      "0.941     Total estimated model params size (MB)\n"
     ]
    },
    {
     "name": "stdout",
     "output_type": "stream",
     "text": [
      "Epoch end: Validation, epoch number: 12\n",
      "Epoch end: Validation, epoch number: 13\n",
      "Epoch end: Train, epoch number: 9\n",
      "Epoch end: Validation, epoch number: 14\n",
      "Epoch end: Train, epoch number: 10\n"
     ]
    },
    {
     "name": "stderr",
     "output_type": "stream",
     "text": [
      "`Trainer.fit` stopped: `max_epochs=3` reached.\n",
      "You are using a CUDA device ('NVIDIA GeForce RTX 4070 Ti') that has Tensor Cores. To properly utilize them, you should set `torch.set_float32_matmul_precision('medium' | 'high')` which will trade-off precision for performance. For more details, read https://pytorch.org/docs/stable/generated/torch.set_float32_matmul_precision.html#torch.set_float32_matmul_precision\n"
     ]
    },
    {
     "name": "stdout",
     "output_type": "stream",
     "text": [
      "Epoch end: Validation, epoch number: 15\n",
      "Epoch end: Train, epoch number: 11\n",
      "Performance of Node 9 before aggregation at round 5\n"
     ]
    },
    {
     "name": "stderr",
     "output_type": "stream",
     "text": [
      "LOCAL_RANK: 0 - CUDA_VISIBLE_DEVICES: [0,1]\n"
     ]
    },
    {
     "name": "stdout",
     "output_type": "stream",
     "text": [
      "Epoch end: Test, epoch number: 7\n"
     ]
    },
    {
     "data": {
      "text/html": [
       "<pre style=\"white-space:pre;overflow-x:auto;line-height:normal;font-family:Menlo,'DejaVu Sans Mono',consolas,'Courier New',monospace\">┏━━━━━━━━━━━━━━━━━━━━━━━━━━━┳━━━━━━━━━━━━━━━━━━━━━━━━━━━┓\n",
       "┃<span style=\"font-weight: bold\">   Runningstage.testing    </span>┃<span style=\"font-weight: bold\">                           </span>┃\n",
       "┃<span style=\"font-weight: bold\">          metric           </span>┃<span style=\"font-weight: bold\">       DataLoader 0        </span>┃\n",
       "┡━━━━━━━━━━━━━━━━━━━━━━━━━━━╇━━━━━━━━━━━━━━━━━━━━━━━━━━━┩\n",
       "│<span style=\"color: #008080; text-decoration-color: #008080\">       Test/Accuracy       </span>│<span style=\"color: #800080; text-decoration-color: #800080\">    0.9362757205963135     </span>│\n",
       "│<span style=\"color: #008080; text-decoration-color: #008080\">       Test/F1Score        </span>│<span style=\"color: #800080; text-decoration-color: #800080\">    0.9292222261428833     </span>│\n",
       "│<span style=\"color: #008080; text-decoration-color: #008080\">         Test/Loss         </span>│<span style=\"color: #800080; text-decoration-color: #800080\">    0.2431299388408661     </span>│\n",
       "│<span style=\"color: #008080; text-decoration-color: #008080\">      Test/Precision       </span>│<span style=\"color: #800080; text-decoration-color: #800080\">    0.9390000700950623     </span>│\n",
       "│<span style=\"color: #008080; text-decoration-color: #008080\">        Test/Recall        </span>│<span style=\"color: #800080; text-decoration-color: #800080\">    0.9362757205963135     </span>│\n",
       "│<span style=\"color: #008080; text-decoration-color: #008080\">    TestEpoch/Accuracy     </span>│<span style=\"color: #800080; text-decoration-color: #800080\">    0.9314615726470947     </span>│\n",
       "│<span style=\"color: #008080; text-decoration-color: #008080\">     TestEpoch/F1Score     </span>│<span style=\"color: #800080; text-decoration-color: #800080\">    0.9316772222518921     </span>│\n",
       "│<span style=\"color: #008080; text-decoration-color: #008080\">    TestEpoch/Precision    </span>│<span style=\"color: #800080; text-decoration-color: #800080\">    0.9354541897773743     </span>│\n",
       "│<span style=\"color: #008080; text-decoration-color: #008080\">     TestEpoch/Recall      </span>│<span style=\"color: #800080; text-decoration-color: #800080\">    0.9314615726470947     </span>│\n",
       "└───────────────────────────┴───────────────────────────┘\n",
       "</pre>\n"
      ],
      "text/plain": [
       "┏━━━━━━━━━━━━━━━━━━━━━━━━━━━┳━━━━━━━━━━━━━━━━━━━━━━━━━━━┓\n",
       "┃\u001b[1m \u001b[0m\u001b[1m  Runningstage.testing   \u001b[0m\u001b[1m \u001b[0m┃\u001b[1m                           \u001b[0m┃\n",
       "┃\u001b[1m \u001b[0m\u001b[1m         metric          \u001b[0m\u001b[1m \u001b[0m┃\u001b[1m \u001b[0m\u001b[1m      DataLoader 0       \u001b[0m\u001b[1m \u001b[0m┃\n",
       "┡━━━━━━━━━━━━━━━━━━━━━━━━━━━╇━━━━━━━━━━━━━━━━━━━━━━━━━━━┩\n",
       "│\u001b[36m \u001b[0m\u001b[36m      Test/Accuracy      \u001b[0m\u001b[36m \u001b[0m│\u001b[35m \u001b[0m\u001b[35m   0.9362757205963135    \u001b[0m\u001b[35m \u001b[0m│\n",
       "│\u001b[36m \u001b[0m\u001b[36m      Test/F1Score       \u001b[0m\u001b[36m \u001b[0m│\u001b[35m \u001b[0m\u001b[35m   0.9292222261428833    \u001b[0m\u001b[35m \u001b[0m│\n",
       "│\u001b[36m \u001b[0m\u001b[36m        Test/Loss        \u001b[0m\u001b[36m \u001b[0m│\u001b[35m \u001b[0m\u001b[35m   0.2431299388408661    \u001b[0m\u001b[35m \u001b[0m│\n",
       "│\u001b[36m \u001b[0m\u001b[36m     Test/Precision      \u001b[0m\u001b[36m \u001b[0m│\u001b[35m \u001b[0m\u001b[35m   0.9390000700950623    \u001b[0m\u001b[35m \u001b[0m│\n",
       "│\u001b[36m \u001b[0m\u001b[36m       Test/Recall       \u001b[0m\u001b[36m \u001b[0m│\u001b[35m \u001b[0m\u001b[35m   0.9362757205963135    \u001b[0m\u001b[35m \u001b[0m│\n",
       "│\u001b[36m \u001b[0m\u001b[36m   TestEpoch/Accuracy    \u001b[0m\u001b[36m \u001b[0m│\u001b[35m \u001b[0m\u001b[35m   0.9314615726470947    \u001b[0m\u001b[35m \u001b[0m│\n",
       "│\u001b[36m \u001b[0m\u001b[36m    TestEpoch/F1Score    \u001b[0m\u001b[36m \u001b[0m│\u001b[35m \u001b[0m\u001b[35m   0.9316772222518921    \u001b[0m\u001b[35m \u001b[0m│\n",
       "│\u001b[36m \u001b[0m\u001b[36m   TestEpoch/Precision   \u001b[0m\u001b[36m \u001b[0m│\u001b[35m \u001b[0m\u001b[35m   0.9354541897773743    \u001b[0m\u001b[35m \u001b[0m│\n",
       "│\u001b[36m \u001b[0m\u001b[36m    TestEpoch/Recall     \u001b[0m\u001b[36m \u001b[0m│\u001b[35m \u001b[0m\u001b[35m   0.9314615726470947    \u001b[0m\u001b[35m \u001b[0m│\n",
       "└───────────────────────────┴───────────────────────────┘\n"
      ]
     },
     "metadata": {},
     "output_type": "display_data"
    },
    {
     "name": "stderr",
     "output_type": "stream",
     "text": [
      "GPU available: True (cuda), used: True\n",
      "TPU available: False, using: 0 TPU cores\n",
      "IPU available: False, using: 0 IPUs\n",
      "HPU available: False, using: 0 HPUs\n",
      "You are using a CUDA device ('NVIDIA GeForce RTX 4070 Ti') that has Tensor Cores. To properly utilize them, you should set `torch.set_float32_matmul_precision('medium' | 'high')` which will trade-off precision for performance. For more details, read https://pytorch.org/docs/stable/generated/torch.set_float32_matmul_precision.html#torch.set_float32_matmul_precision\n",
      "LOCAL_RANK: 0 - CUDA_VISIBLE_DEVICES: [0,1]\n"
     ]
    },
    {
     "name": "stdout",
     "output_type": "stream",
     "text": [
      "Node 0 aggregate model with [1, 9]\n",
      "Performance of Node 0 after aggregation at round 5\n"
     ]
    },
    {
     "data": {
      "application/vnd.jupyter.widget-view+json": {
       "model_id": "bc527413b10042fda8639f91cd4c2114",
       "version_major": 2,
       "version_minor": 0
      },
      "text/plain": [
       "Testing: 0it [00:00, ?it/s]"
      ]
     },
     "metadata": {},
     "output_type": "display_data"
    },
    {
     "name": "stdout",
     "output_type": "stream",
     "text": [
      "Epoch end: Test, epoch number: 8\n"
     ]
    },
    {
     "data": {
      "text/html": [
       "<pre style=\"white-space:pre;overflow-x:auto;line-height:normal;font-family:Menlo,'DejaVu Sans Mono',consolas,'Courier New',monospace\">┏━━━━━━━━━━━━━━━━━━━━━━━━━━━┳━━━━━━━━━━━━━━━━━━━━━━━━━━━┓\n",
       "┃<span style=\"font-weight: bold\">   Runningstage.testing    </span>┃<span style=\"font-weight: bold\">                           </span>┃\n",
       "┃<span style=\"font-weight: bold\">          metric           </span>┃<span style=\"font-weight: bold\">       DataLoader 0        </span>┃\n",
       "┡━━━━━━━━━━━━━━━━━━━━━━━━━━━╇━━━━━━━━━━━━━━━━━━━━━━━━━━━┩\n",
       "│<span style=\"color: #008080; text-decoration-color: #008080\">       Test/Accuracy       </span>│<span style=\"color: #800080; text-decoration-color: #800080\">    0.9194673895835876     </span>│\n",
       "│<span style=\"color: #008080; text-decoration-color: #008080\">       Test/F1Score        </span>│<span style=\"color: #800080; text-decoration-color: #800080\">    0.9150184988975525     </span>│\n",
       "│<span style=\"color: #008080; text-decoration-color: #008080\">         Test/Loss         </span>│<span style=\"color: #800080; text-decoration-color: #800080\">    0.2174450159072876     </span>│\n",
       "│<span style=\"color: #008080; text-decoration-color: #008080\">      Test/Precision       </span>│<span style=\"color: #800080; text-decoration-color: #800080\">    0.9246464967727661     </span>│\n",
       "│<span style=\"color: #008080; text-decoration-color: #008080\">        Test/Recall        </span>│<span style=\"color: #800080; text-decoration-color: #800080\">    0.9194673895835876     </span>│\n",
       "│<span style=\"color: #008080; text-decoration-color: #008080\">    TestEpoch/Accuracy     </span>│<span style=\"color: #800080; text-decoration-color: #800080\">    0.9245789051055908     </span>│\n",
       "│<span style=\"color: #008080; text-decoration-color: #008080\">     TestEpoch/F1Score     </span>│<span style=\"color: #800080; text-decoration-color: #800080\">    0.9245923757553101     </span>│\n",
       "│<span style=\"color: #008080; text-decoration-color: #008080\">    TestEpoch/Precision    </span>│<span style=\"color: #800080; text-decoration-color: #800080\">    0.9257214665412903     </span>│\n",
       "│<span style=\"color: #008080; text-decoration-color: #008080\">     TestEpoch/Recall      </span>│<span style=\"color: #800080; text-decoration-color: #800080\">    0.9245789051055908     </span>│\n",
       "└───────────────────────────┴───────────────────────────┘\n",
       "</pre>\n"
      ],
      "text/plain": [
       "┏━━━━━━━━━━━━━━━━━━━━━━━━━━━┳━━━━━━━━━━━━━━━━━━━━━━━━━━━┓\n",
       "┃\u001b[1m \u001b[0m\u001b[1m  Runningstage.testing   \u001b[0m\u001b[1m \u001b[0m┃\u001b[1m                           \u001b[0m┃\n",
       "┃\u001b[1m \u001b[0m\u001b[1m         metric          \u001b[0m\u001b[1m \u001b[0m┃\u001b[1m \u001b[0m\u001b[1m      DataLoader 0       \u001b[0m\u001b[1m \u001b[0m┃\n",
       "┡━━━━━━━━━━━━━━━━━━━━━━━━━━━╇━━━━━━━━━━━━━━━━━━━━━━━━━━━┩\n",
       "│\u001b[36m \u001b[0m\u001b[36m      Test/Accuracy      \u001b[0m\u001b[36m \u001b[0m│\u001b[35m \u001b[0m\u001b[35m   0.9194673895835876    \u001b[0m\u001b[35m \u001b[0m│\n",
       "│\u001b[36m \u001b[0m\u001b[36m      Test/F1Score       \u001b[0m\u001b[36m \u001b[0m│\u001b[35m \u001b[0m\u001b[35m   0.9150184988975525    \u001b[0m\u001b[35m \u001b[0m│\n",
       "│\u001b[36m \u001b[0m\u001b[36m        Test/Loss        \u001b[0m\u001b[36m \u001b[0m│\u001b[35m \u001b[0m\u001b[35m   0.2174450159072876    \u001b[0m\u001b[35m \u001b[0m│\n",
       "│\u001b[36m \u001b[0m\u001b[36m     Test/Precision      \u001b[0m\u001b[36m \u001b[0m│\u001b[35m \u001b[0m\u001b[35m   0.9246464967727661    \u001b[0m\u001b[35m \u001b[0m│\n",
       "│\u001b[36m \u001b[0m\u001b[36m       Test/Recall       \u001b[0m\u001b[36m \u001b[0m│\u001b[35m \u001b[0m\u001b[35m   0.9194673895835876    \u001b[0m\u001b[35m \u001b[0m│\n",
       "│\u001b[36m \u001b[0m\u001b[36m   TestEpoch/Accuracy    \u001b[0m\u001b[36m \u001b[0m│\u001b[35m \u001b[0m\u001b[35m   0.9245789051055908    \u001b[0m\u001b[35m \u001b[0m│\n",
       "│\u001b[36m \u001b[0m\u001b[36m    TestEpoch/F1Score    \u001b[0m\u001b[36m \u001b[0m│\u001b[35m \u001b[0m\u001b[35m   0.9245923757553101    \u001b[0m\u001b[35m \u001b[0m│\n",
       "│\u001b[36m \u001b[0m\u001b[36m   TestEpoch/Precision   \u001b[0m\u001b[36m \u001b[0m│\u001b[35m \u001b[0m\u001b[35m   0.9257214665412903    \u001b[0m\u001b[35m \u001b[0m│\n",
       "│\u001b[36m \u001b[0m\u001b[36m    TestEpoch/Recall     \u001b[0m\u001b[36m \u001b[0m│\u001b[35m \u001b[0m\u001b[35m   0.9245789051055908    \u001b[0m\u001b[35m \u001b[0m│\n",
       "└───────────────────────────┴───────────────────────────┘\n"
      ]
     },
     "metadata": {},
     "output_type": "display_data"
    },
    {
     "name": "stderr",
     "output_type": "stream",
     "text": [
      "GPU available: True (cuda), used: True\n",
      "TPU available: False, using: 0 TPU cores\n",
      "IPU available: False, using: 0 IPUs\n",
      "HPU available: False, using: 0 HPUs\n",
      "You are using a CUDA device ('NVIDIA GeForce RTX 4070 Ti') that has Tensor Cores. To properly utilize them, you should set `torch.set_float32_matmul_precision('medium' | 'high')` which will trade-off precision for performance. For more details, read https://pytorch.org/docs/stable/generated/torch.set_float32_matmul_precision.html#torch.set_float32_matmul_precision\n",
      "LOCAL_RANK: 0 - CUDA_VISIBLE_DEVICES: [0,1]\n"
     ]
    },
    {
     "name": "stdout",
     "output_type": "stream",
     "text": [
      "Node 1 aggregate model with [0, 2]\n",
      "Performance of Node 1 after aggregation at round 5\n"
     ]
    },
    {
     "data": {
      "application/vnd.jupyter.widget-view+json": {
       "model_id": "6c2c7fdc98c04c62b87b96b7290505a2",
       "version_major": 2,
       "version_minor": 0
      },
      "text/plain": [
       "Testing: 0it [00:00, ?it/s]"
      ]
     },
     "metadata": {},
     "output_type": "display_data"
    },
    {
     "name": "stdout",
     "output_type": "stream",
     "text": [
      "Epoch end: Test, epoch number: 8\n"
     ]
    },
    {
     "data": {
      "text/html": [
       "<pre style=\"white-space:pre;overflow-x:auto;line-height:normal;font-family:Menlo,'DejaVu Sans Mono',consolas,'Courier New',monospace\">┏━━━━━━━━━━━━━━━━━━━━━━━━━━━┳━━━━━━━━━━━━━━━━━━━━━━━━━━━┓\n",
       "┃<span style=\"font-weight: bold\">   Runningstage.testing    </span>┃<span style=\"font-weight: bold\">                           </span>┃\n",
       "┃<span style=\"font-weight: bold\">          metric           </span>┃<span style=\"font-weight: bold\">       DataLoader 0        </span>┃\n",
       "┡━━━━━━━━━━━━━━━━━━━━━━━━━━━╇━━━━━━━━━━━━━━━━━━━━━━━━━━━┩\n",
       "│<span style=\"color: #008080; text-decoration-color: #008080\">       Test/Accuracy       </span>│<span style=\"color: #800080; text-decoration-color: #800080\">    0.9465257525444031     </span>│\n",
       "│<span style=\"color: #008080; text-decoration-color: #008080\">       Test/F1Score        </span>│<span style=\"color: #800080; text-decoration-color: #800080\">    0.9413667321205139     </span>│\n",
       "│<span style=\"color: #008080; text-decoration-color: #008080\">         Test/Loss         </span>│<span style=\"color: #800080; text-decoration-color: #800080\">    0.1731882393360138     </span>│\n",
       "│<span style=\"color: #008080; text-decoration-color: #008080\">      Test/Precision       </span>│<span style=\"color: #800080; text-decoration-color: #800080\">     0.946321964263916     </span>│\n",
       "│<span style=\"color: #008080; text-decoration-color: #008080\">        Test/Recall        </span>│<span style=\"color: #800080; text-decoration-color: #800080\">    0.9465257525444031     </span>│\n",
       "│<span style=\"color: #008080; text-decoration-color: #008080\">    TestEpoch/Accuracy     </span>│<span style=\"color: #800080; text-decoration-color: #800080\">    0.9501981735229492     </span>│\n",
       "│<span style=\"color: #008080; text-decoration-color: #008080\">     TestEpoch/F1Score     </span>│<span style=\"color: #800080; text-decoration-color: #800080\">    0.9496672749519348     </span>│\n",
       "│<span style=\"color: #008080; text-decoration-color: #008080\">    TestEpoch/Precision    </span>│<span style=\"color: #800080; text-decoration-color: #800080\">    0.9497519135475159     </span>│\n",
       "│<span style=\"color: #008080; text-decoration-color: #008080\">     TestEpoch/Recall      </span>│<span style=\"color: #800080; text-decoration-color: #800080\">    0.9501981735229492     </span>│\n",
       "└───────────────────────────┴───────────────────────────┘\n",
       "</pre>\n"
      ],
      "text/plain": [
       "┏━━━━━━━━━━━━━━━━━━━━━━━━━━━┳━━━━━━━━━━━━━━━━━━━━━━━━━━━┓\n",
       "┃\u001b[1m \u001b[0m\u001b[1m  Runningstage.testing   \u001b[0m\u001b[1m \u001b[0m┃\u001b[1m                           \u001b[0m┃\n",
       "┃\u001b[1m \u001b[0m\u001b[1m         metric          \u001b[0m\u001b[1m \u001b[0m┃\u001b[1m \u001b[0m\u001b[1m      DataLoader 0       \u001b[0m\u001b[1m \u001b[0m┃\n",
       "┡━━━━━━━━━━━━━━━━━━━━━━━━━━━╇━━━━━━━━━━━━━━━━━━━━━━━━━━━┩\n",
       "│\u001b[36m \u001b[0m\u001b[36m      Test/Accuracy      \u001b[0m\u001b[36m \u001b[0m│\u001b[35m \u001b[0m\u001b[35m   0.9465257525444031    \u001b[0m\u001b[35m \u001b[0m│\n",
       "│\u001b[36m \u001b[0m\u001b[36m      Test/F1Score       \u001b[0m\u001b[36m \u001b[0m│\u001b[35m \u001b[0m\u001b[35m   0.9413667321205139    \u001b[0m\u001b[35m \u001b[0m│\n",
       "│\u001b[36m \u001b[0m\u001b[36m        Test/Loss        \u001b[0m\u001b[36m \u001b[0m│\u001b[35m \u001b[0m\u001b[35m   0.1731882393360138    \u001b[0m\u001b[35m \u001b[0m│\n",
       "│\u001b[36m \u001b[0m\u001b[36m     Test/Precision      \u001b[0m\u001b[36m \u001b[0m│\u001b[35m \u001b[0m\u001b[35m    0.946321964263916    \u001b[0m\u001b[35m \u001b[0m│\n",
       "│\u001b[36m \u001b[0m\u001b[36m       Test/Recall       \u001b[0m\u001b[36m \u001b[0m│\u001b[35m \u001b[0m\u001b[35m   0.9465257525444031    \u001b[0m\u001b[35m \u001b[0m│\n",
       "│\u001b[36m \u001b[0m\u001b[36m   TestEpoch/Accuracy    \u001b[0m\u001b[36m \u001b[0m│\u001b[35m \u001b[0m\u001b[35m   0.9501981735229492    \u001b[0m\u001b[35m \u001b[0m│\n",
       "│\u001b[36m \u001b[0m\u001b[36m    TestEpoch/F1Score    \u001b[0m\u001b[36m \u001b[0m│\u001b[35m \u001b[0m\u001b[35m   0.9496672749519348    \u001b[0m\u001b[35m \u001b[0m│\n",
       "│\u001b[36m \u001b[0m\u001b[36m   TestEpoch/Precision   \u001b[0m\u001b[36m \u001b[0m│\u001b[35m \u001b[0m\u001b[35m   0.9497519135475159    \u001b[0m\u001b[35m \u001b[0m│\n",
       "│\u001b[36m \u001b[0m\u001b[36m    TestEpoch/Recall     \u001b[0m\u001b[36m \u001b[0m│\u001b[35m \u001b[0m\u001b[35m   0.9501981735229492    \u001b[0m\u001b[35m \u001b[0m│\n",
       "└───────────────────────────┴───────────────────────────┘\n"
      ]
     },
     "metadata": {},
     "output_type": "display_data"
    },
    {
     "name": "stderr",
     "output_type": "stream",
     "text": [
      "GPU available: True (cuda), used: True\n",
      "TPU available: False, using: 0 TPU cores\n",
      "IPU available: False, using: 0 IPUs\n",
      "HPU available: False, using: 0 HPUs\n",
      "You are using a CUDA device ('NVIDIA GeForce RTX 4070 Ti') that has Tensor Cores. To properly utilize them, you should set `torch.set_float32_matmul_precision('medium' | 'high')` which will trade-off precision for performance. For more details, read https://pytorch.org/docs/stable/generated/torch.set_float32_matmul_precision.html#torch.set_float32_matmul_precision\n",
      "LOCAL_RANK: 0 - CUDA_VISIBLE_DEVICES: [0,1]\n"
     ]
    },
    {
     "name": "stdout",
     "output_type": "stream",
     "text": [
      "Node 2 aggregate model with [1, 3]\n",
      "Performance of Node 2 after aggregation at round 5\n"
     ]
    },
    {
     "data": {
      "application/vnd.jupyter.widget-view+json": {
       "model_id": "d386d647319c4721af235a0fa3ae5e04",
       "version_major": 2,
       "version_minor": 0
      },
      "text/plain": [
       "Testing: 0it [00:00, ?it/s]"
      ]
     },
     "metadata": {},
     "output_type": "display_data"
    },
    {
     "name": "stdout",
     "output_type": "stream",
     "text": [
      "Epoch end: Test, epoch number: 8\n"
     ]
    },
    {
     "data": {
      "text/html": [
       "<pre style=\"white-space:pre;overflow-x:auto;line-height:normal;font-family:Menlo,'DejaVu Sans Mono',consolas,'Courier New',monospace\">┏━━━━━━━━━━━━━━━━━━━━━━━━━━━┳━━━━━━━━━━━━━━━━━━━━━━━━━━━┓\n",
       "┃<span style=\"font-weight: bold\">   Runningstage.testing    </span>┃<span style=\"font-weight: bold\">                           </span>┃\n",
       "┃<span style=\"font-weight: bold\">          metric           </span>┃<span style=\"font-weight: bold\">       DataLoader 0        </span>┃\n",
       "┡━━━━━━━━━━━━━━━━━━━━━━━━━━━╇━━━━━━━━━━━━━━━━━━━━━━━━━━━┩\n",
       "│<span style=\"color: #008080; text-decoration-color: #008080\">       Test/Accuracy       </span>│<span style=\"color: #800080; text-decoration-color: #800080\">    0.9621299505233765     </span>│\n",
       "│<span style=\"color: #008080; text-decoration-color: #008080\">       Test/F1Score        </span>│<span style=\"color: #800080; text-decoration-color: #800080\">    0.9582974910736084     </span>│\n",
       "│<span style=\"color: #008080; text-decoration-color: #008080\">         Test/Loss         </span>│<span style=\"color: #800080; text-decoration-color: #800080\">    0.15064352750778198    </span>│\n",
       "│<span style=\"color: #008080; text-decoration-color: #008080\">      Test/Precision       </span>│<span style=\"color: #800080; text-decoration-color: #800080\">     0.960647463798523     </span>│\n",
       "│<span style=\"color: #008080; text-decoration-color: #008080\">        Test/Recall        </span>│<span style=\"color: #800080; text-decoration-color: #800080\">    0.9621299505233765     </span>│\n",
       "│<span style=\"color: #008080; text-decoration-color: #008080\">    TestEpoch/Accuracy     </span>│<span style=\"color: #800080; text-decoration-color: #800080\">     0.961658775806427     </span>│\n",
       "│<span style=\"color: #008080; text-decoration-color: #008080\">     TestEpoch/F1Score     </span>│<span style=\"color: #800080; text-decoration-color: #800080\">    0.9612916707992554     </span>│\n",
       "│<span style=\"color: #008080; text-decoration-color: #008080\">    TestEpoch/Precision    </span>│<span style=\"color: #800080; text-decoration-color: #800080\">    0.9611830711364746     </span>│\n",
       "│<span style=\"color: #008080; text-decoration-color: #008080\">     TestEpoch/Recall      </span>│<span style=\"color: #800080; text-decoration-color: #800080\">     0.961658775806427     </span>│\n",
       "└───────────────────────────┴───────────────────────────┘\n",
       "</pre>\n"
      ],
      "text/plain": [
       "┏━━━━━━━━━━━━━━━━━━━━━━━━━━━┳━━━━━━━━━━━━━━━━━━━━━━━━━━━┓\n",
       "┃\u001b[1m \u001b[0m\u001b[1m  Runningstage.testing   \u001b[0m\u001b[1m \u001b[0m┃\u001b[1m                           \u001b[0m┃\n",
       "┃\u001b[1m \u001b[0m\u001b[1m         metric          \u001b[0m\u001b[1m \u001b[0m┃\u001b[1m \u001b[0m\u001b[1m      DataLoader 0       \u001b[0m\u001b[1m \u001b[0m┃\n",
       "┡━━━━━━━━━━━━━━━━━━━━━━━━━━━╇━━━━━━━━━━━━━━━━━━━━━━━━━━━┩\n",
       "│\u001b[36m \u001b[0m\u001b[36m      Test/Accuracy      \u001b[0m\u001b[36m \u001b[0m│\u001b[35m \u001b[0m\u001b[35m   0.9621299505233765    \u001b[0m\u001b[35m \u001b[0m│\n",
       "│\u001b[36m \u001b[0m\u001b[36m      Test/F1Score       \u001b[0m\u001b[36m \u001b[0m│\u001b[35m \u001b[0m\u001b[35m   0.9582974910736084    \u001b[0m\u001b[35m \u001b[0m│\n",
       "│\u001b[36m \u001b[0m\u001b[36m        Test/Loss        \u001b[0m\u001b[36m \u001b[0m│\u001b[35m \u001b[0m\u001b[35m   0.15064352750778198   \u001b[0m\u001b[35m \u001b[0m│\n",
       "│\u001b[36m \u001b[0m\u001b[36m     Test/Precision      \u001b[0m\u001b[36m \u001b[0m│\u001b[35m \u001b[0m\u001b[35m    0.960647463798523    \u001b[0m\u001b[35m \u001b[0m│\n",
       "│\u001b[36m \u001b[0m\u001b[36m       Test/Recall       \u001b[0m\u001b[36m \u001b[0m│\u001b[35m \u001b[0m\u001b[35m   0.9621299505233765    \u001b[0m\u001b[35m \u001b[0m│\n",
       "│\u001b[36m \u001b[0m\u001b[36m   TestEpoch/Accuracy    \u001b[0m\u001b[36m \u001b[0m│\u001b[35m \u001b[0m\u001b[35m    0.961658775806427    \u001b[0m\u001b[35m \u001b[0m│\n",
       "│\u001b[36m \u001b[0m\u001b[36m    TestEpoch/F1Score    \u001b[0m\u001b[36m \u001b[0m│\u001b[35m \u001b[0m\u001b[35m   0.9612916707992554    \u001b[0m\u001b[35m \u001b[0m│\n",
       "│\u001b[36m \u001b[0m\u001b[36m   TestEpoch/Precision   \u001b[0m\u001b[36m \u001b[0m│\u001b[35m \u001b[0m\u001b[35m   0.9611830711364746    \u001b[0m\u001b[35m \u001b[0m│\n",
       "│\u001b[36m \u001b[0m\u001b[36m    TestEpoch/Recall     \u001b[0m\u001b[36m \u001b[0m│\u001b[35m \u001b[0m\u001b[35m    0.961658775806427    \u001b[0m\u001b[35m \u001b[0m│\n",
       "└───────────────────────────┴───────────────────────────┘\n"
      ]
     },
     "metadata": {},
     "output_type": "display_data"
    },
    {
     "name": "stderr",
     "output_type": "stream",
     "text": [
      "GPU available: True (cuda), used: True\n",
      "TPU available: False, using: 0 TPU cores\n",
      "IPU available: False, using: 0 IPUs\n",
      "HPU available: False, using: 0 HPUs\n",
      "You are using a CUDA device ('NVIDIA GeForce RTX 4070 Ti') that has Tensor Cores. To properly utilize them, you should set `torch.set_float32_matmul_precision('medium' | 'high')` which will trade-off precision for performance. For more details, read https://pytorch.org/docs/stable/generated/torch.set_float32_matmul_precision.html#torch.set_float32_matmul_precision\n",
      "LOCAL_RANK: 0 - CUDA_VISIBLE_DEVICES: [0,1]\n"
     ]
    },
    {
     "name": "stdout",
     "output_type": "stream",
     "text": [
      "Node 3 aggregate model with [2, 4]\n",
      "Performance of Node 3 after aggregation at round 5\n"
     ]
    },
    {
     "data": {
      "application/vnd.jupyter.widget-view+json": {
       "model_id": "46850bf9553749e985a5ae77a0f8a544",
       "version_major": 2,
       "version_minor": 0
      },
      "text/plain": [
       "Testing: 0it [00:00, ?it/s]"
      ]
     },
     "metadata": {},
     "output_type": "display_data"
    },
    {
     "name": "stdout",
     "output_type": "stream",
     "text": [
      "Epoch end: Test, epoch number: 8\n"
     ]
    },
    {
     "data": {
      "text/html": [
       "<pre style=\"white-space:pre;overflow-x:auto;line-height:normal;font-family:Menlo,'DejaVu Sans Mono',consolas,'Courier New',monospace\">┏━━━━━━━━━━━━━━━━━━━━━━━━━━━┳━━━━━━━━━━━━━━━━━━━━━━━━━━━┓\n",
       "┃<span style=\"font-weight: bold\">   Runningstage.testing    </span>┃<span style=\"font-weight: bold\">                           </span>┃\n",
       "┃<span style=\"font-weight: bold\">          metric           </span>┃<span style=\"font-weight: bold\">       DataLoader 0        </span>┃\n",
       "┡━━━━━━━━━━━━━━━━━━━━━━━━━━━╇━━━━━━━━━━━━━━━━━━━━━━━━━━━┩\n",
       "│<span style=\"color: #008080; text-decoration-color: #008080\">       Test/Accuracy       </span>│<span style=\"color: #800080; text-decoration-color: #800080\">    0.9539593458175659     </span>│\n",
       "│<span style=\"color: #008080; text-decoration-color: #008080\">       Test/F1Score        </span>│<span style=\"color: #800080; text-decoration-color: #800080\">    0.9473667740821838     </span>│\n",
       "│<span style=\"color: #008080; text-decoration-color: #008080\">         Test/Loss         </span>│<span style=\"color: #800080; text-decoration-color: #800080\">    0.1800353229045868     </span>│\n",
       "│<span style=\"color: #008080; text-decoration-color: #008080\">      Test/Precision       </span>│<span style=\"color: #800080; text-decoration-color: #800080\">    0.9509403109550476     </span>│\n",
       "│<span style=\"color: #008080; text-decoration-color: #008080\">        Test/Recall        </span>│<span style=\"color: #800080; text-decoration-color: #800080\">    0.9539593458175659     </span>│\n",
       "│<span style=\"color: #008080; text-decoration-color: #008080\">    TestEpoch/Accuracy     </span>│<span style=\"color: #800080; text-decoration-color: #800080\">    0.9476963877677917     </span>│\n",
       "│<span style=\"color: #008080; text-decoration-color: #008080\">     TestEpoch/F1Score     </span>│<span style=\"color: #800080; text-decoration-color: #800080\">     0.94743812084198      </span>│\n",
       "│<span style=\"color: #008080; text-decoration-color: #008080\">    TestEpoch/Precision    </span>│<span style=\"color: #800080; text-decoration-color: #800080\">    0.9483160972595215     </span>│\n",
       "│<span style=\"color: #008080; text-decoration-color: #008080\">     TestEpoch/Recall      </span>│<span style=\"color: #800080; text-decoration-color: #800080\">    0.9476963877677917     </span>│\n",
       "└───────────────────────────┴───────────────────────────┘\n",
       "</pre>\n"
      ],
      "text/plain": [
       "┏━━━━━━━━━━━━━━━━━━━━━━━━━━━┳━━━━━━━━━━━━━━━━━━━━━━━━━━━┓\n",
       "┃\u001b[1m \u001b[0m\u001b[1m  Runningstage.testing   \u001b[0m\u001b[1m \u001b[0m┃\u001b[1m                           \u001b[0m┃\n",
       "┃\u001b[1m \u001b[0m\u001b[1m         metric          \u001b[0m\u001b[1m \u001b[0m┃\u001b[1m \u001b[0m\u001b[1m      DataLoader 0       \u001b[0m\u001b[1m \u001b[0m┃\n",
       "┡━━━━━━━━━━━━━━━━━━━━━━━━━━━╇━━━━━━━━━━━━━━━━━━━━━━━━━━━┩\n",
       "│\u001b[36m \u001b[0m\u001b[36m      Test/Accuracy      \u001b[0m\u001b[36m \u001b[0m│\u001b[35m \u001b[0m\u001b[35m   0.9539593458175659    \u001b[0m\u001b[35m \u001b[0m│\n",
       "│\u001b[36m \u001b[0m\u001b[36m      Test/F1Score       \u001b[0m\u001b[36m \u001b[0m│\u001b[35m \u001b[0m\u001b[35m   0.9473667740821838    \u001b[0m\u001b[35m \u001b[0m│\n",
       "│\u001b[36m \u001b[0m\u001b[36m        Test/Loss        \u001b[0m\u001b[36m \u001b[0m│\u001b[35m \u001b[0m\u001b[35m   0.1800353229045868    \u001b[0m\u001b[35m \u001b[0m│\n",
       "│\u001b[36m \u001b[0m\u001b[36m     Test/Precision      \u001b[0m\u001b[36m \u001b[0m│\u001b[35m \u001b[0m\u001b[35m   0.9509403109550476    \u001b[0m\u001b[35m \u001b[0m│\n",
       "│\u001b[36m \u001b[0m\u001b[36m       Test/Recall       \u001b[0m\u001b[36m \u001b[0m│\u001b[35m \u001b[0m\u001b[35m   0.9539593458175659    \u001b[0m\u001b[35m \u001b[0m│\n",
       "│\u001b[36m \u001b[0m\u001b[36m   TestEpoch/Accuracy    \u001b[0m\u001b[36m \u001b[0m│\u001b[35m \u001b[0m\u001b[35m   0.9476963877677917    \u001b[0m\u001b[35m \u001b[0m│\n",
       "│\u001b[36m \u001b[0m\u001b[36m    TestEpoch/F1Score    \u001b[0m\u001b[36m \u001b[0m│\u001b[35m \u001b[0m\u001b[35m    0.94743812084198     \u001b[0m\u001b[35m \u001b[0m│\n",
       "│\u001b[36m \u001b[0m\u001b[36m   TestEpoch/Precision   \u001b[0m\u001b[36m \u001b[0m│\u001b[35m \u001b[0m\u001b[35m   0.9483160972595215    \u001b[0m\u001b[35m \u001b[0m│\n",
       "│\u001b[36m \u001b[0m\u001b[36m    TestEpoch/Recall     \u001b[0m\u001b[36m \u001b[0m│\u001b[35m \u001b[0m\u001b[35m   0.9476963877677917    \u001b[0m\u001b[35m \u001b[0m│\n",
       "└───────────────────────────┴───────────────────────────┘\n"
      ]
     },
     "metadata": {},
     "output_type": "display_data"
    },
    {
     "name": "stderr",
     "output_type": "stream",
     "text": [
      "GPU available: True (cuda), used: True\n",
      "TPU available: False, using: 0 TPU cores\n",
      "IPU available: False, using: 0 IPUs\n",
      "HPU available: False, using: 0 HPUs\n",
      "You are using a CUDA device ('NVIDIA GeForce RTX 4070 Ti') that has Tensor Cores. To properly utilize them, you should set `torch.set_float32_matmul_precision('medium' | 'high')` which will trade-off precision for performance. For more details, read https://pytorch.org/docs/stable/generated/torch.set_float32_matmul_precision.html#torch.set_float32_matmul_precision\n",
      "LOCAL_RANK: 0 - CUDA_VISIBLE_DEVICES: [0,1]\n"
     ]
    },
    {
     "name": "stdout",
     "output_type": "stream",
     "text": [
      "Node 4 aggregate model with [3, 5]\n",
      "Performance of Node 4 after aggregation at round 5\n"
     ]
    },
    {
     "data": {
      "application/vnd.jupyter.widget-view+json": {
       "model_id": "d196d28d14004862a00c91821b5a12ff",
       "version_major": 2,
       "version_minor": 0
      },
      "text/plain": [
       "Testing: 0it [00:00, ?it/s]"
      ]
     },
     "metadata": {},
     "output_type": "display_data"
    },
    {
     "name": "stdout",
     "output_type": "stream",
     "text": [
      "Epoch end: Test, epoch number: 8\n"
     ]
    },
    {
     "data": {
      "text/html": [
       "<pre style=\"white-space:pre;overflow-x:auto;line-height:normal;font-family:Menlo,'DejaVu Sans Mono',consolas,'Courier New',monospace\">┏━━━━━━━━━━━━━━━━━━━━━━━━━━━┳━━━━━━━━━━━━━━━━━━━━━━━━━━━┓\n",
       "┃<span style=\"font-weight: bold\">   Runningstage.testing    </span>┃<span style=\"font-weight: bold\">                           </span>┃\n",
       "┃<span style=\"font-weight: bold\">          metric           </span>┃<span style=\"font-weight: bold\">       DataLoader 0        </span>┃\n",
       "┡━━━━━━━━━━━━━━━━━━━━━━━━━━━╇━━━━━━━━━━━━━━━━━━━━━━━━━━━┩\n",
       "│<span style=\"color: #008080; text-decoration-color: #008080\">       Test/Accuracy       </span>│<span style=\"color: #800080; text-decoration-color: #800080\">    0.9459666609764099     </span>│\n",
       "│<span style=\"color: #008080; text-decoration-color: #008080\">       Test/F1Score        </span>│<span style=\"color: #800080; text-decoration-color: #800080\">    0.9416029453277588     </span>│\n",
       "│<span style=\"color: #008080; text-decoration-color: #008080\">         Test/Loss         </span>│<span style=\"color: #800080; text-decoration-color: #800080\">    0.18919575214385986    </span>│\n",
       "│<span style=\"color: #008080; text-decoration-color: #008080\">      Test/Precision       </span>│<span style=\"color: #800080; text-decoration-color: #800080\">    0.9491248726844788     </span>│\n",
       "│<span style=\"color: #008080; text-decoration-color: #008080\">        Test/Recall        </span>│<span style=\"color: #800080; text-decoration-color: #800080\">    0.9459666609764099     </span>│\n",
       "│<span style=\"color: #008080; text-decoration-color: #008080\">    TestEpoch/Accuracy     </span>│<span style=\"color: #800080; text-decoration-color: #800080\">    0.9513660669326782     </span>│\n",
       "│<span style=\"color: #008080; text-decoration-color: #008080\">     TestEpoch/F1Score     </span>│<span style=\"color: #800080; text-decoration-color: #800080\">    0.9522302150726318     </span>│\n",
       "│<span style=\"color: #008080; text-decoration-color: #008080\">    TestEpoch/Precision    </span>│<span style=\"color: #800080; text-decoration-color: #800080\">    0.9537761807441711     </span>│\n",
       "│<span style=\"color: #008080; text-decoration-color: #008080\">     TestEpoch/Recall      </span>│<span style=\"color: #800080; text-decoration-color: #800080\">    0.9513660669326782     </span>│\n",
       "└───────────────────────────┴───────────────────────────┘\n",
       "</pre>\n"
      ],
      "text/plain": [
       "┏━━━━━━━━━━━━━━━━━━━━━━━━━━━┳━━━━━━━━━━━━━━━━━━━━━━━━━━━┓\n",
       "┃\u001b[1m \u001b[0m\u001b[1m  Runningstage.testing   \u001b[0m\u001b[1m \u001b[0m┃\u001b[1m                           \u001b[0m┃\n",
       "┃\u001b[1m \u001b[0m\u001b[1m         metric          \u001b[0m\u001b[1m \u001b[0m┃\u001b[1m \u001b[0m\u001b[1m      DataLoader 0       \u001b[0m\u001b[1m \u001b[0m┃\n",
       "┡━━━━━━━━━━━━━━━━━━━━━━━━━━━╇━━━━━━━━━━━━━━━━━━━━━━━━━━━┩\n",
       "│\u001b[36m \u001b[0m\u001b[36m      Test/Accuracy      \u001b[0m\u001b[36m \u001b[0m│\u001b[35m \u001b[0m\u001b[35m   0.9459666609764099    \u001b[0m\u001b[35m \u001b[0m│\n",
       "│\u001b[36m \u001b[0m\u001b[36m      Test/F1Score       \u001b[0m\u001b[36m \u001b[0m│\u001b[35m \u001b[0m\u001b[35m   0.9416029453277588    \u001b[0m\u001b[35m \u001b[0m│\n",
       "│\u001b[36m \u001b[0m\u001b[36m        Test/Loss        \u001b[0m\u001b[36m \u001b[0m│\u001b[35m \u001b[0m\u001b[35m   0.18919575214385986   \u001b[0m\u001b[35m \u001b[0m│\n",
       "│\u001b[36m \u001b[0m\u001b[36m     Test/Precision      \u001b[0m\u001b[36m \u001b[0m│\u001b[35m \u001b[0m\u001b[35m   0.9491248726844788    \u001b[0m\u001b[35m \u001b[0m│\n",
       "│\u001b[36m \u001b[0m\u001b[36m       Test/Recall       \u001b[0m\u001b[36m \u001b[0m│\u001b[35m \u001b[0m\u001b[35m   0.9459666609764099    \u001b[0m\u001b[35m \u001b[0m│\n",
       "│\u001b[36m \u001b[0m\u001b[36m   TestEpoch/Accuracy    \u001b[0m\u001b[36m \u001b[0m│\u001b[35m \u001b[0m\u001b[35m   0.9513660669326782    \u001b[0m\u001b[35m \u001b[0m│\n",
       "│\u001b[36m \u001b[0m\u001b[36m    TestEpoch/F1Score    \u001b[0m\u001b[36m \u001b[0m│\u001b[35m \u001b[0m\u001b[35m   0.9522302150726318    \u001b[0m\u001b[35m \u001b[0m│\n",
       "│\u001b[36m \u001b[0m\u001b[36m   TestEpoch/Precision   \u001b[0m\u001b[36m \u001b[0m│\u001b[35m \u001b[0m\u001b[35m   0.9537761807441711    \u001b[0m\u001b[35m \u001b[0m│\n",
       "│\u001b[36m \u001b[0m\u001b[36m    TestEpoch/Recall     \u001b[0m\u001b[36m \u001b[0m│\u001b[35m \u001b[0m\u001b[35m   0.9513660669326782    \u001b[0m\u001b[35m \u001b[0m│\n",
       "└───────────────────────────┴───────────────────────────┘\n"
      ]
     },
     "metadata": {},
     "output_type": "display_data"
    },
    {
     "name": "stderr",
     "output_type": "stream",
     "text": [
      "GPU available: True (cuda), used: True\n",
      "TPU available: False, using: 0 TPU cores\n",
      "IPU available: False, using: 0 IPUs\n",
      "HPU available: False, using: 0 HPUs\n",
      "You are using a CUDA device ('NVIDIA GeForce RTX 4070 Ti') that has Tensor Cores. To properly utilize them, you should set `torch.set_float32_matmul_precision('medium' | 'high')` which will trade-off precision for performance. For more details, read https://pytorch.org/docs/stable/generated/torch.set_float32_matmul_precision.html#torch.set_float32_matmul_precision\n",
      "LOCAL_RANK: 0 - CUDA_VISIBLE_DEVICES: [0,1]\n"
     ]
    },
    {
     "name": "stdout",
     "output_type": "stream",
     "text": [
      "Node 5 aggregate model with [4, 6]\n",
      "Performance of Node 5 after aggregation at round 5\n"
     ]
    },
    {
     "data": {
      "application/vnd.jupyter.widget-view+json": {
       "model_id": "701bc3bc839d4d1fa6774b94f45662da",
       "version_major": 2,
       "version_minor": 0
      },
      "text/plain": [
       "Testing: 0it [00:00, ?it/s]"
      ]
     },
     "metadata": {},
     "output_type": "display_data"
    },
    {
     "name": "stdout",
     "output_type": "stream",
     "text": [
      "Epoch end: Test, epoch number: 8\n"
     ]
    },
    {
     "data": {
      "text/html": [
       "<pre style=\"white-space:pre;overflow-x:auto;line-height:normal;font-family:Menlo,'DejaVu Sans Mono',consolas,'Courier New',monospace\">┏━━━━━━━━━━━━━━━━━━━━━━━━━━━┳━━━━━━━━━━━━━━━━━━━━━━━━━━━┓\n",
       "┃<span style=\"font-weight: bold\">   Runningstage.testing    </span>┃<span style=\"font-weight: bold\">                           </span>┃\n",
       "┃<span style=\"font-weight: bold\">          metric           </span>┃<span style=\"font-weight: bold\">       DataLoader 0        </span>┃\n",
       "┡━━━━━━━━━━━━━━━━━━━━━━━━━━━╇━━━━━━━━━━━━━━━━━━━━━━━━━━━┩\n",
       "│<span style=\"color: #008080; text-decoration-color: #008080\">       Test/Accuracy       </span>│<span style=\"color: #800080; text-decoration-color: #800080\">    0.9523195028305054     </span>│\n",
       "│<span style=\"color: #008080; text-decoration-color: #008080\">       Test/F1Score        </span>│<span style=\"color: #800080; text-decoration-color: #800080\">    0.9490098357200623     </span>│\n",
       "│<span style=\"color: #008080; text-decoration-color: #008080\">         Test/Loss         </span>│<span style=\"color: #800080; text-decoration-color: #800080\">    0.19010093808174133    </span>│\n",
       "│<span style=\"color: #008080; text-decoration-color: #008080\">      Test/Precision       </span>│<span style=\"color: #800080; text-decoration-color: #800080\">    0.9547306895256042     </span>│\n",
       "│<span style=\"color: #008080; text-decoration-color: #008080\">        Test/Recall        </span>│<span style=\"color: #800080; text-decoration-color: #800080\">    0.9523195028305054     </span>│\n",
       "│<span style=\"color: #008080; text-decoration-color: #008080\">    TestEpoch/Accuracy     </span>│<span style=\"color: #800080; text-decoration-color: #800080\">    0.9492257833480835     </span>│\n",
       "│<span style=\"color: #008080; text-decoration-color: #008080\">     TestEpoch/F1Score     </span>│<span style=\"color: #800080; text-decoration-color: #800080\">    0.9484965205192566     </span>│\n",
       "│<span style=\"color: #008080; text-decoration-color: #008080\">    TestEpoch/Precision    </span>│<span style=\"color: #800080; text-decoration-color: #800080\">     0.949280321598053     </span>│\n",
       "│<span style=\"color: #008080; text-decoration-color: #008080\">     TestEpoch/Recall      </span>│<span style=\"color: #800080; text-decoration-color: #800080\">    0.9492257833480835     </span>│\n",
       "└───────────────────────────┴───────────────────────────┘\n",
       "</pre>\n"
      ],
      "text/plain": [
       "┏━━━━━━━━━━━━━━━━━━━━━━━━━━━┳━━━━━━━━━━━━━━━━━━━━━━━━━━━┓\n",
       "┃\u001b[1m \u001b[0m\u001b[1m  Runningstage.testing   \u001b[0m\u001b[1m \u001b[0m┃\u001b[1m                           \u001b[0m┃\n",
       "┃\u001b[1m \u001b[0m\u001b[1m         metric          \u001b[0m\u001b[1m \u001b[0m┃\u001b[1m \u001b[0m\u001b[1m      DataLoader 0       \u001b[0m\u001b[1m \u001b[0m┃\n",
       "┡━━━━━━━━━━━━━━━━━━━━━━━━━━━╇━━━━━━━━━━━━━━━━━━━━━━━━━━━┩\n",
       "│\u001b[36m \u001b[0m\u001b[36m      Test/Accuracy      \u001b[0m\u001b[36m \u001b[0m│\u001b[35m \u001b[0m\u001b[35m   0.9523195028305054    \u001b[0m\u001b[35m \u001b[0m│\n",
       "│\u001b[36m \u001b[0m\u001b[36m      Test/F1Score       \u001b[0m\u001b[36m \u001b[0m│\u001b[35m \u001b[0m\u001b[35m   0.9490098357200623    \u001b[0m\u001b[35m \u001b[0m│\n",
       "│\u001b[36m \u001b[0m\u001b[36m        Test/Loss        \u001b[0m\u001b[36m \u001b[0m│\u001b[35m \u001b[0m\u001b[35m   0.19010093808174133   \u001b[0m\u001b[35m \u001b[0m│\n",
       "│\u001b[36m \u001b[0m\u001b[36m     Test/Precision      \u001b[0m\u001b[36m \u001b[0m│\u001b[35m \u001b[0m\u001b[35m   0.9547306895256042    \u001b[0m\u001b[35m \u001b[0m│\n",
       "│\u001b[36m \u001b[0m\u001b[36m       Test/Recall       \u001b[0m\u001b[36m \u001b[0m│\u001b[35m \u001b[0m\u001b[35m   0.9523195028305054    \u001b[0m\u001b[35m \u001b[0m│\n",
       "│\u001b[36m \u001b[0m\u001b[36m   TestEpoch/Accuracy    \u001b[0m\u001b[36m \u001b[0m│\u001b[35m \u001b[0m\u001b[35m   0.9492257833480835    \u001b[0m\u001b[35m \u001b[0m│\n",
       "│\u001b[36m \u001b[0m\u001b[36m    TestEpoch/F1Score    \u001b[0m\u001b[36m \u001b[0m│\u001b[35m \u001b[0m\u001b[35m   0.9484965205192566    \u001b[0m\u001b[35m \u001b[0m│\n",
       "│\u001b[36m \u001b[0m\u001b[36m   TestEpoch/Precision   \u001b[0m\u001b[36m \u001b[0m│\u001b[35m \u001b[0m\u001b[35m    0.949280321598053    \u001b[0m\u001b[35m \u001b[0m│\n",
       "│\u001b[36m \u001b[0m\u001b[36m    TestEpoch/Recall     \u001b[0m\u001b[36m \u001b[0m│\u001b[35m \u001b[0m\u001b[35m   0.9492257833480835    \u001b[0m\u001b[35m \u001b[0m│\n",
       "└───────────────────────────┴───────────────────────────┘\n"
      ]
     },
     "metadata": {},
     "output_type": "display_data"
    },
    {
     "name": "stderr",
     "output_type": "stream",
     "text": [
      "GPU available: True (cuda), used: True\n",
      "TPU available: False, using: 0 TPU cores\n",
      "IPU available: False, using: 0 IPUs\n",
      "HPU available: False, using: 0 HPUs\n",
      "You are using a CUDA device ('NVIDIA GeForce RTX 4070 Ti') that has Tensor Cores. To properly utilize them, you should set `torch.set_float32_matmul_precision('medium' | 'high')` which will trade-off precision for performance. For more details, read https://pytorch.org/docs/stable/generated/torch.set_float32_matmul_precision.html#torch.set_float32_matmul_precision\n",
      "LOCAL_RANK: 0 - CUDA_VISIBLE_DEVICES: [0,1]\n"
     ]
    },
    {
     "name": "stdout",
     "output_type": "stream",
     "text": [
      "Node 6 aggregate model with [5, 7]\n",
      "Performance of Node 6 after aggregation at round 5\n"
     ]
    },
    {
     "data": {
      "application/vnd.jupyter.widget-view+json": {
       "model_id": "cd7a103c6fab441e9ec05b61c0c18ce9",
       "version_major": 2,
       "version_minor": 0
      },
      "text/plain": [
       "Testing: 0it [00:00, ?it/s]"
      ]
     },
     "metadata": {},
     "output_type": "display_data"
    },
    {
     "name": "stdout",
     "output_type": "stream",
     "text": [
      "Epoch end: Test, epoch number: 8\n"
     ]
    },
    {
     "data": {
      "text/html": [
       "<pre style=\"white-space:pre;overflow-x:auto;line-height:normal;font-family:Menlo,'DejaVu Sans Mono',consolas,'Courier New',monospace\">┏━━━━━━━━━━━━━━━━━━━━━━━━━━━┳━━━━━━━━━━━━━━━━━━━━━━━━━━━┓\n",
       "┃<span style=\"font-weight: bold\">   Runningstage.testing    </span>┃<span style=\"font-weight: bold\">                           </span>┃\n",
       "┃<span style=\"font-weight: bold\">          metric           </span>┃<span style=\"font-weight: bold\">       DataLoader 0        </span>┃\n",
       "┡━━━━━━━━━━━━━━━━━━━━━━━━━━━╇━━━━━━━━━━━━━━━━━━━━━━━━━━━┩\n",
       "│<span style=\"color: #008080; text-decoration-color: #008080\">       Test/Accuracy       </span>│<span style=\"color: #800080; text-decoration-color: #800080\">    0.9278666973114014     </span>│\n",
       "│<span style=\"color: #008080; text-decoration-color: #008080\">       Test/F1Score        </span>│<span style=\"color: #800080; text-decoration-color: #800080\">    0.9203522205352783     </span>│\n",
       "│<span style=\"color: #008080; text-decoration-color: #008080\">         Test/Loss         </span>│<span style=\"color: #800080; text-decoration-color: #800080\">    0.23220540583133698    </span>│\n",
       "│<span style=\"color: #008080; text-decoration-color: #008080\">      Test/Precision       </span>│<span style=\"color: #800080; text-decoration-color: #800080\">    0.9273332953453064     </span>│\n",
       "│<span style=\"color: #008080; text-decoration-color: #008080\">        Test/Recall        </span>│<span style=\"color: #800080; text-decoration-color: #800080\">    0.9278666973114014     </span>│\n",
       "│<span style=\"color: #008080; text-decoration-color: #008080\">    TestEpoch/Accuracy     </span>│<span style=\"color: #800080; text-decoration-color: #800080\">    0.9350333213806152     </span>│\n",
       "│<span style=\"color: #008080; text-decoration-color: #008080\">     TestEpoch/F1Score     </span>│<span style=\"color: #800080; text-decoration-color: #800080\">    0.9339917898178101     </span>│\n",
       "│<span style=\"color: #008080; text-decoration-color: #008080\">    TestEpoch/Precision    </span>│<span style=\"color: #800080; text-decoration-color: #800080\">    0.9357240200042725     </span>│\n",
       "│<span style=\"color: #008080; text-decoration-color: #008080\">     TestEpoch/Recall      </span>│<span style=\"color: #800080; text-decoration-color: #800080\">    0.9350333213806152     </span>│\n",
       "└───────────────────────────┴───────────────────────────┘\n",
       "</pre>\n"
      ],
      "text/plain": [
       "┏━━━━━━━━━━━━━━━━━━━━━━━━━━━┳━━━━━━━━━━━━━━━━━━━━━━━━━━━┓\n",
       "┃\u001b[1m \u001b[0m\u001b[1m  Runningstage.testing   \u001b[0m\u001b[1m \u001b[0m┃\u001b[1m                           \u001b[0m┃\n",
       "┃\u001b[1m \u001b[0m\u001b[1m         metric          \u001b[0m\u001b[1m \u001b[0m┃\u001b[1m \u001b[0m\u001b[1m      DataLoader 0       \u001b[0m\u001b[1m \u001b[0m┃\n",
       "┡━━━━━━━━━━━━━━━━━━━━━━━━━━━╇━━━━━━━━━━━━━━━━━━━━━━━━━━━┩\n",
       "│\u001b[36m \u001b[0m\u001b[36m      Test/Accuracy      \u001b[0m\u001b[36m \u001b[0m│\u001b[35m \u001b[0m\u001b[35m   0.9278666973114014    \u001b[0m\u001b[35m \u001b[0m│\n",
       "│\u001b[36m \u001b[0m\u001b[36m      Test/F1Score       \u001b[0m\u001b[36m \u001b[0m│\u001b[35m \u001b[0m\u001b[35m   0.9203522205352783    \u001b[0m\u001b[35m \u001b[0m│\n",
       "│\u001b[36m \u001b[0m\u001b[36m        Test/Loss        \u001b[0m\u001b[36m \u001b[0m│\u001b[35m \u001b[0m\u001b[35m   0.23220540583133698   \u001b[0m\u001b[35m \u001b[0m│\n",
       "│\u001b[36m \u001b[0m\u001b[36m     Test/Precision      \u001b[0m\u001b[36m \u001b[0m│\u001b[35m \u001b[0m\u001b[35m   0.9273332953453064    \u001b[0m\u001b[35m \u001b[0m│\n",
       "│\u001b[36m \u001b[0m\u001b[36m       Test/Recall       \u001b[0m\u001b[36m \u001b[0m│\u001b[35m \u001b[0m\u001b[35m   0.9278666973114014    \u001b[0m\u001b[35m \u001b[0m│\n",
       "│\u001b[36m \u001b[0m\u001b[36m   TestEpoch/Accuracy    \u001b[0m\u001b[36m \u001b[0m│\u001b[35m \u001b[0m\u001b[35m   0.9350333213806152    \u001b[0m\u001b[35m \u001b[0m│\n",
       "│\u001b[36m \u001b[0m\u001b[36m    TestEpoch/F1Score    \u001b[0m\u001b[36m \u001b[0m│\u001b[35m \u001b[0m\u001b[35m   0.9339917898178101    \u001b[0m\u001b[35m \u001b[0m│\n",
       "│\u001b[36m \u001b[0m\u001b[36m   TestEpoch/Precision   \u001b[0m\u001b[36m \u001b[0m│\u001b[35m \u001b[0m\u001b[35m   0.9357240200042725    \u001b[0m\u001b[35m \u001b[0m│\n",
       "│\u001b[36m \u001b[0m\u001b[36m    TestEpoch/Recall     \u001b[0m\u001b[36m \u001b[0m│\u001b[35m \u001b[0m\u001b[35m   0.9350333213806152    \u001b[0m\u001b[35m \u001b[0m│\n",
       "└───────────────────────────┴───────────────────────────┘\n"
      ]
     },
     "metadata": {},
     "output_type": "display_data"
    },
    {
     "name": "stderr",
     "output_type": "stream",
     "text": [
      "GPU available: True (cuda), used: True\n",
      "TPU available: False, using: 0 TPU cores\n",
      "IPU available: False, using: 0 IPUs\n",
      "HPU available: False, using: 0 HPUs\n",
      "You are using a CUDA device ('NVIDIA GeForce RTX 4070 Ti') that has Tensor Cores. To properly utilize them, you should set `torch.set_float32_matmul_precision('medium' | 'high')` which will trade-off precision for performance. For more details, read https://pytorch.org/docs/stable/generated/torch.set_float32_matmul_precision.html#torch.set_float32_matmul_precision\n",
      "LOCAL_RANK: 0 - CUDA_VISIBLE_DEVICES: [0,1]\n"
     ]
    },
    {
     "name": "stdout",
     "output_type": "stream",
     "text": [
      "Node 7 aggregate model with [6, 8]\n",
      "Performance of Node 7 after aggregation at round 5\n"
     ]
    },
    {
     "data": {
      "application/vnd.jupyter.widget-view+json": {
       "model_id": "34b7ffce71504b20b86af0ae27067a6f",
       "version_major": 2,
       "version_minor": 0
      },
      "text/plain": [
       "Testing: 0it [00:00, ?it/s]"
      ]
     },
     "metadata": {},
     "output_type": "display_data"
    },
    {
     "name": "stdout",
     "output_type": "stream",
     "text": [
      "Epoch end: Test, epoch number: 8\n"
     ]
    },
    {
     "data": {
      "text/html": [
       "<pre style=\"white-space:pre;overflow-x:auto;line-height:normal;font-family:Menlo,'DejaVu Sans Mono',consolas,'Courier New',monospace\">┏━━━━━━━━━━━━━━━━━━━━━━━━━━━┳━━━━━━━━━━━━━━━━━━━━━━━━━━━┓\n",
       "┃<span style=\"font-weight: bold\">   Runningstage.testing    </span>┃<span style=\"font-weight: bold\">                           </span>┃\n",
       "┃<span style=\"font-weight: bold\">          metric           </span>┃<span style=\"font-weight: bold\">       DataLoader 0        </span>┃\n",
       "┡━━━━━━━━━━━━━━━━━━━━━━━━━━━╇━━━━━━━━━━━━━━━━━━━━━━━━━━━┩\n",
       "│<span style=\"color: #008080; text-decoration-color: #008080\">       Test/Accuracy       </span>│<span style=\"color: #800080; text-decoration-color: #800080\">    0.9401430487632751     </span>│\n",
       "│<span style=\"color: #008080; text-decoration-color: #008080\">       Test/F1Score        </span>│<span style=\"color: #800080; text-decoration-color: #800080\">    0.9357698559761047     </span>│\n",
       "│<span style=\"color: #008080; text-decoration-color: #008080\">         Test/Loss         </span>│<span style=\"color: #800080; text-decoration-color: #800080\">     0.181760773062706     </span>│\n",
       "│<span style=\"color: #008080; text-decoration-color: #008080\">      Test/Precision       </span>│<span style=\"color: #800080; text-decoration-color: #800080\">    0.9457667469978333     </span>│\n",
       "│<span style=\"color: #008080; text-decoration-color: #008080\">        Test/Recall        </span>│<span style=\"color: #800080; text-decoration-color: #800080\">    0.9401430487632751     </span>│\n",
       "│<span style=\"color: #008080; text-decoration-color: #008080\">    TestEpoch/Accuracy     </span>│<span style=\"color: #800080; text-decoration-color: #800080\">    0.9440048336982727     </span>│\n",
       "│<span style=\"color: #008080; text-decoration-color: #008080\">     TestEpoch/F1Score     </span>│<span style=\"color: #800080; text-decoration-color: #800080\">    0.9441792368888855     </span>│\n",
       "│<span style=\"color: #008080; text-decoration-color: #008080\">    TestEpoch/Precision    </span>│<span style=\"color: #800080; text-decoration-color: #800080\">    0.9452979564666748     </span>│\n",
       "│<span style=\"color: #008080; text-decoration-color: #008080\">     TestEpoch/Recall      </span>│<span style=\"color: #800080; text-decoration-color: #800080\">    0.9440048336982727     </span>│\n",
       "└───────────────────────────┴───────────────────────────┘\n",
       "</pre>\n"
      ],
      "text/plain": [
       "┏━━━━━━━━━━━━━━━━━━━━━━━━━━━┳━━━━━━━━━━━━━━━━━━━━━━━━━━━┓\n",
       "┃\u001b[1m \u001b[0m\u001b[1m  Runningstage.testing   \u001b[0m\u001b[1m \u001b[0m┃\u001b[1m                           \u001b[0m┃\n",
       "┃\u001b[1m \u001b[0m\u001b[1m         metric          \u001b[0m\u001b[1m \u001b[0m┃\u001b[1m \u001b[0m\u001b[1m      DataLoader 0       \u001b[0m\u001b[1m \u001b[0m┃\n",
       "┡━━━━━━━━━━━━━━━━━━━━━━━━━━━╇━━━━━━━━━━━━━━━━━━━━━━━━━━━┩\n",
       "│\u001b[36m \u001b[0m\u001b[36m      Test/Accuracy      \u001b[0m\u001b[36m \u001b[0m│\u001b[35m \u001b[0m\u001b[35m   0.9401430487632751    \u001b[0m\u001b[35m \u001b[0m│\n",
       "│\u001b[36m \u001b[0m\u001b[36m      Test/F1Score       \u001b[0m\u001b[36m \u001b[0m│\u001b[35m \u001b[0m\u001b[35m   0.9357698559761047    \u001b[0m\u001b[35m \u001b[0m│\n",
       "│\u001b[36m \u001b[0m\u001b[36m        Test/Loss        \u001b[0m\u001b[36m \u001b[0m│\u001b[35m \u001b[0m\u001b[35m    0.181760773062706    \u001b[0m\u001b[35m \u001b[0m│\n",
       "│\u001b[36m \u001b[0m\u001b[36m     Test/Precision      \u001b[0m\u001b[36m \u001b[0m│\u001b[35m \u001b[0m\u001b[35m   0.9457667469978333    \u001b[0m\u001b[35m \u001b[0m│\n",
       "│\u001b[36m \u001b[0m\u001b[36m       Test/Recall       \u001b[0m\u001b[36m \u001b[0m│\u001b[35m \u001b[0m\u001b[35m   0.9401430487632751    \u001b[0m\u001b[35m \u001b[0m│\n",
       "│\u001b[36m \u001b[0m\u001b[36m   TestEpoch/Accuracy    \u001b[0m\u001b[36m \u001b[0m│\u001b[35m \u001b[0m\u001b[35m   0.9440048336982727    \u001b[0m\u001b[35m \u001b[0m│\n",
       "│\u001b[36m \u001b[0m\u001b[36m    TestEpoch/F1Score    \u001b[0m\u001b[36m \u001b[0m│\u001b[35m \u001b[0m\u001b[35m   0.9441792368888855    \u001b[0m\u001b[35m \u001b[0m│\n",
       "│\u001b[36m \u001b[0m\u001b[36m   TestEpoch/Precision   \u001b[0m\u001b[36m \u001b[0m│\u001b[35m \u001b[0m\u001b[35m   0.9452979564666748    \u001b[0m\u001b[35m \u001b[0m│\n",
       "│\u001b[36m \u001b[0m\u001b[36m    TestEpoch/Recall     \u001b[0m\u001b[36m \u001b[0m│\u001b[35m \u001b[0m\u001b[35m   0.9440048336982727    \u001b[0m\u001b[35m \u001b[0m│\n",
       "└───────────────────────────┴───────────────────────────┘\n"
      ]
     },
     "metadata": {},
     "output_type": "display_data"
    },
    {
     "name": "stderr",
     "output_type": "stream",
     "text": [
      "GPU available: True (cuda), used: True\n",
      "TPU available: False, using: 0 TPU cores\n",
      "IPU available: False, using: 0 IPUs\n",
      "HPU available: False, using: 0 HPUs\n",
      "You are using a CUDA device ('NVIDIA GeForce RTX 4070 Ti') that has Tensor Cores. To properly utilize them, you should set `torch.set_float32_matmul_precision('medium' | 'high')` which will trade-off precision for performance. For more details, read https://pytorch.org/docs/stable/generated/torch.set_float32_matmul_precision.html#torch.set_float32_matmul_precision\n",
      "LOCAL_RANK: 0 - CUDA_VISIBLE_DEVICES: [0,1]\n"
     ]
    },
    {
     "name": "stdout",
     "output_type": "stream",
     "text": [
      "Node 8 aggregate model with [7, 9]\n",
      "Performance of Node 8 after aggregation at round 5\n"
     ]
    },
    {
     "data": {
      "application/vnd.jupyter.widget-view+json": {
       "model_id": "eb1a26bec8ea4558b143b4bc55367493",
       "version_major": 2,
       "version_minor": 0
      },
      "text/plain": [
       "Testing: 0it [00:00, ?it/s]"
      ]
     },
     "metadata": {},
     "output_type": "display_data"
    },
    {
     "name": "stdout",
     "output_type": "stream",
     "text": [
      "Epoch end: Test, epoch number: 8\n"
     ]
    },
    {
     "data": {
      "text/html": [
       "<pre style=\"white-space:pre;overflow-x:auto;line-height:normal;font-family:Menlo,'DejaVu Sans Mono',consolas,'Courier New',monospace\">┏━━━━━━━━━━━━━━━━━━━━━━━━━━━┳━━━━━━━━━━━━━━━━━━━━━━━━━━━┓\n",
       "┃<span style=\"font-weight: bold\">   Runningstage.testing    </span>┃<span style=\"font-weight: bold\">                           </span>┃\n",
       "┃<span style=\"font-weight: bold\">          metric           </span>┃<span style=\"font-weight: bold\">       DataLoader 0        </span>┃\n",
       "┡━━━━━━━━━━━━━━━━━━━━━━━━━━━╇━━━━━━━━━━━━━━━━━━━━━━━━━━━┩\n",
       "│<span style=\"color: #008080; text-decoration-color: #008080\">       Test/Accuracy       </span>│<span style=\"color: #800080; text-decoration-color: #800080\">     0.940515398979187     </span>│\n",
       "│<span style=\"color: #008080; text-decoration-color: #008080\">       Test/F1Score        </span>│<span style=\"color: #800080; text-decoration-color: #800080\">    0.9382660984992981     </span>│\n",
       "│<span style=\"color: #008080; text-decoration-color: #008080\">         Test/Loss         </span>│<span style=\"color: #800080; text-decoration-color: #800080\">    0.22293917834758759    </span>│\n",
       "│<span style=\"color: #008080; text-decoration-color: #008080\">      Test/Precision       </span>│<span style=\"color: #800080; text-decoration-color: #800080\">    0.9483723044395447     </span>│\n",
       "│<span style=\"color: #008080; text-decoration-color: #008080\">        Test/Recall        </span>│<span style=\"color: #800080; text-decoration-color: #800080\">     0.940515398979187     </span>│\n",
       "│<span style=\"color: #008080; text-decoration-color: #008080\">    TestEpoch/Accuracy     </span>│<span style=\"color: #800080; text-decoration-color: #800080\">    0.9411836862564087     </span>│\n",
       "│<span style=\"color: #008080; text-decoration-color: #008080\">     TestEpoch/F1Score     </span>│<span style=\"color: #800080; text-decoration-color: #800080\">    0.9414079189300537     </span>│\n",
       "│<span style=\"color: #008080; text-decoration-color: #008080\">    TestEpoch/Precision    </span>│<span style=\"color: #800080; text-decoration-color: #800080\">    0.9422836303710938     </span>│\n",
       "│<span style=\"color: #008080; text-decoration-color: #008080\">     TestEpoch/Recall      </span>│<span style=\"color: #800080; text-decoration-color: #800080\">    0.9411836862564087     </span>│\n",
       "└───────────────────────────┴───────────────────────────┘\n",
       "</pre>\n"
      ],
      "text/plain": [
       "┏━━━━━━━━━━━━━━━━━━━━━━━━━━━┳━━━━━━━━━━━━━━━━━━━━━━━━━━━┓\n",
       "┃\u001b[1m \u001b[0m\u001b[1m  Runningstage.testing   \u001b[0m\u001b[1m \u001b[0m┃\u001b[1m                           \u001b[0m┃\n",
       "┃\u001b[1m \u001b[0m\u001b[1m         metric          \u001b[0m\u001b[1m \u001b[0m┃\u001b[1m \u001b[0m\u001b[1m      DataLoader 0       \u001b[0m\u001b[1m \u001b[0m┃\n",
       "┡━━━━━━━━━━━━━━━━━━━━━━━━━━━╇━━━━━━━━━━━━━━━━━━━━━━━━━━━┩\n",
       "│\u001b[36m \u001b[0m\u001b[36m      Test/Accuracy      \u001b[0m\u001b[36m \u001b[0m│\u001b[35m \u001b[0m\u001b[35m    0.940515398979187    \u001b[0m\u001b[35m \u001b[0m│\n",
       "│\u001b[36m \u001b[0m\u001b[36m      Test/F1Score       \u001b[0m\u001b[36m \u001b[0m│\u001b[35m \u001b[0m\u001b[35m   0.9382660984992981    \u001b[0m\u001b[35m \u001b[0m│\n",
       "│\u001b[36m \u001b[0m\u001b[36m        Test/Loss        \u001b[0m\u001b[36m \u001b[0m│\u001b[35m \u001b[0m\u001b[35m   0.22293917834758759   \u001b[0m\u001b[35m \u001b[0m│\n",
       "│\u001b[36m \u001b[0m\u001b[36m     Test/Precision      \u001b[0m\u001b[36m \u001b[0m│\u001b[35m \u001b[0m\u001b[35m   0.9483723044395447    \u001b[0m\u001b[35m \u001b[0m│\n",
       "│\u001b[36m \u001b[0m\u001b[36m       Test/Recall       \u001b[0m\u001b[36m \u001b[0m│\u001b[35m \u001b[0m\u001b[35m    0.940515398979187    \u001b[0m\u001b[35m \u001b[0m│\n",
       "│\u001b[36m \u001b[0m\u001b[36m   TestEpoch/Accuracy    \u001b[0m\u001b[36m \u001b[0m│\u001b[35m \u001b[0m\u001b[35m   0.9411836862564087    \u001b[0m\u001b[35m \u001b[0m│\n",
       "│\u001b[36m \u001b[0m\u001b[36m    TestEpoch/F1Score    \u001b[0m\u001b[36m \u001b[0m│\u001b[35m \u001b[0m\u001b[35m   0.9414079189300537    \u001b[0m\u001b[35m \u001b[0m│\n",
       "│\u001b[36m \u001b[0m\u001b[36m   TestEpoch/Precision   \u001b[0m\u001b[36m \u001b[0m│\u001b[35m \u001b[0m\u001b[35m   0.9422836303710938    \u001b[0m\u001b[35m \u001b[0m│\n",
       "│\u001b[36m \u001b[0m\u001b[36m    TestEpoch/Recall     \u001b[0m\u001b[36m \u001b[0m│\u001b[35m \u001b[0m\u001b[35m   0.9411836862564087    \u001b[0m\u001b[35m \u001b[0m│\n",
       "└───────────────────────────┴───────────────────────────┘\n"
      ]
     },
     "metadata": {},
     "output_type": "display_data"
    },
    {
     "name": "stderr",
     "output_type": "stream",
     "text": [
      "GPU available: True (cuda), used: True\n",
      "TPU available: False, using: 0 TPU cores\n",
      "IPU available: False, using: 0 IPUs\n",
      "HPU available: False, using: 0 HPUs\n",
      "You are using a CUDA device ('NVIDIA GeForce RTX 4070 Ti') that has Tensor Cores. To properly utilize them, you should set `torch.set_float32_matmul_precision('medium' | 'high')` which will trade-off precision for performance. For more details, read https://pytorch.org/docs/stable/generated/torch.set_float32_matmul_precision.html#torch.set_float32_matmul_precision\n",
      "LOCAL_RANK: 0 - CUDA_VISIBLE_DEVICES: [0,1]\n"
     ]
    },
    {
     "name": "stdout",
     "output_type": "stream",
     "text": [
      "Node 9 aggregate model with [0, 8]\n",
      "Performance of Node 9 after aggregation at round 5\n"
     ]
    },
    {
     "data": {
      "application/vnd.jupyter.widget-view+json": {
       "model_id": "2354aef4e02e46e09663e52e3f4be9cb",
       "version_major": 2,
       "version_minor": 0
      },
      "text/plain": [
       "Testing: 0it [00:00, ?it/s]"
      ]
     },
     "metadata": {},
     "output_type": "display_data"
    },
    {
     "name": "stdout",
     "output_type": "stream",
     "text": [
      "Epoch end: Test, epoch number: 8\n"
     ]
    },
    {
     "data": {
      "text/html": [
       "<pre style=\"white-space:pre;overflow-x:auto;line-height:normal;font-family:Menlo,'DejaVu Sans Mono',consolas,'Courier New',monospace\">┏━━━━━━━━━━━━━━━━━━━━━━━━━━━┳━━━━━━━━━━━━━━━━━━━━━━━━━━━┓\n",
       "┃<span style=\"font-weight: bold\">   Runningstage.testing    </span>┃<span style=\"font-weight: bold\">                           </span>┃\n",
       "┃<span style=\"font-weight: bold\">          metric           </span>┃<span style=\"font-weight: bold\">       DataLoader 0        </span>┃\n",
       "┡━━━━━━━━━━━━━━━━━━━━━━━━━━━╇━━━━━━━━━━━━━━━━━━━━━━━━━━━┩\n",
       "│<span style=\"color: #008080; text-decoration-color: #008080\">       Test/Accuracy       </span>│<span style=\"color: #800080; text-decoration-color: #800080\">    0.9402123093605042     </span>│\n",
       "│<span style=\"color: #008080; text-decoration-color: #008080\">       Test/F1Score        </span>│<span style=\"color: #800080; text-decoration-color: #800080\">     0.933936357498169     </span>│\n",
       "│<span style=\"color: #008080; text-decoration-color: #008080\">         Test/Loss         </span>│<span style=\"color: #800080; text-decoration-color: #800080\">    0.21147607266902924    </span>│\n",
       "│<span style=\"color: #008080; text-decoration-color: #008080\">      Test/Precision       </span>│<span style=\"color: #800080; text-decoration-color: #800080\">    0.9428250193595886     </span>│\n",
       "│<span style=\"color: #008080; text-decoration-color: #008080\">        Test/Recall        </span>│<span style=\"color: #800080; text-decoration-color: #800080\">    0.9402123093605042     </span>│\n",
       "│<span style=\"color: #008080; text-decoration-color: #008080\">    TestEpoch/Accuracy     </span>│<span style=\"color: #800080; text-decoration-color: #800080\">    0.9370903372764587     </span>│\n",
       "│<span style=\"color: #008080; text-decoration-color: #008080\">     TestEpoch/F1Score     </span>│<span style=\"color: #800080; text-decoration-color: #800080\">    0.9370183348655701     </span>│\n",
       "│<span style=\"color: #008080; text-decoration-color: #008080\">    TestEpoch/Precision    </span>│<span style=\"color: #800080; text-decoration-color: #800080\">    0.9395456910133362     </span>│\n",
       "│<span style=\"color: #008080; text-decoration-color: #008080\">     TestEpoch/Recall      </span>│<span style=\"color: #800080; text-decoration-color: #800080\">    0.9370903372764587     </span>│\n",
       "└───────────────────────────┴───────────────────────────┘\n",
       "</pre>\n"
      ],
      "text/plain": [
       "┏━━━━━━━━━━━━━━━━━━━━━━━━━━━┳━━━━━━━━━━━━━━━━━━━━━━━━━━━┓\n",
       "┃\u001b[1m \u001b[0m\u001b[1m  Runningstage.testing   \u001b[0m\u001b[1m \u001b[0m┃\u001b[1m                           \u001b[0m┃\n",
       "┃\u001b[1m \u001b[0m\u001b[1m         metric          \u001b[0m\u001b[1m \u001b[0m┃\u001b[1m \u001b[0m\u001b[1m      DataLoader 0       \u001b[0m\u001b[1m \u001b[0m┃\n",
       "┡━━━━━━━━━━━━━━━━━━━━━━━━━━━╇━━━━━━━━━━━━━━━━━━━━━━━━━━━┩\n",
       "│\u001b[36m \u001b[0m\u001b[36m      Test/Accuracy      \u001b[0m\u001b[36m \u001b[0m│\u001b[35m \u001b[0m\u001b[35m   0.9402123093605042    \u001b[0m\u001b[35m \u001b[0m│\n",
       "│\u001b[36m \u001b[0m\u001b[36m      Test/F1Score       \u001b[0m\u001b[36m \u001b[0m│\u001b[35m \u001b[0m\u001b[35m    0.933936357498169    \u001b[0m\u001b[35m \u001b[0m│\n",
       "│\u001b[36m \u001b[0m\u001b[36m        Test/Loss        \u001b[0m\u001b[36m \u001b[0m│\u001b[35m \u001b[0m\u001b[35m   0.21147607266902924   \u001b[0m\u001b[35m \u001b[0m│\n",
       "│\u001b[36m \u001b[0m\u001b[36m     Test/Precision      \u001b[0m\u001b[36m \u001b[0m│\u001b[35m \u001b[0m\u001b[35m   0.9428250193595886    \u001b[0m\u001b[35m \u001b[0m│\n",
       "│\u001b[36m \u001b[0m\u001b[36m       Test/Recall       \u001b[0m\u001b[36m \u001b[0m│\u001b[35m \u001b[0m\u001b[35m   0.9402123093605042    \u001b[0m\u001b[35m \u001b[0m│\n",
       "│\u001b[36m \u001b[0m\u001b[36m   TestEpoch/Accuracy    \u001b[0m\u001b[36m \u001b[0m│\u001b[35m \u001b[0m\u001b[35m   0.9370903372764587    \u001b[0m\u001b[35m \u001b[0m│\n",
       "│\u001b[36m \u001b[0m\u001b[36m    TestEpoch/F1Score    \u001b[0m\u001b[36m \u001b[0m│\u001b[35m \u001b[0m\u001b[35m   0.9370183348655701    \u001b[0m\u001b[35m \u001b[0m│\n",
       "│\u001b[36m \u001b[0m\u001b[36m   TestEpoch/Precision   \u001b[0m\u001b[36m \u001b[0m│\u001b[35m \u001b[0m\u001b[35m   0.9395456910133362    \u001b[0m\u001b[35m \u001b[0m│\n",
       "│\u001b[36m \u001b[0m\u001b[36m    TestEpoch/Recall     \u001b[0m\u001b[36m \u001b[0m│\u001b[35m \u001b[0m\u001b[35m   0.9370903372764587    \u001b[0m\u001b[35m \u001b[0m│\n",
       "└───────────────────────────┴───────────────────────────┘\n"
      ]
     },
     "metadata": {},
     "output_type": "display_data"
    }
   ],
   "source": [
    "adj_matrix = get_adjacency_matrix(topology, num_peers)\n",
    "nei_list = adjacency_matrix_to_nei_list(adj_matrix)\n",
    "train_dataset = None\n",
    "test_dataset = None\n",
    "\n",
    "#define the attack\n",
    "attack_type = 'label flipping'\n",
    "targeted = False\n",
    "poisoned_node_ratio = 20\n",
    "noise_injected_ratio = 20\n",
    "poisoned_sample_ratio = 10\n",
    "attack_matrix = generate_attack_matrix(list(range(num_peers)), attack_type, targeted, poisoned_node_ratio, noise_injected_ratio, poisoned_sample_ratio)\n",
    "\n",
    "# dataset\n",
    "if dataset_name == \"MNIST\":\n",
    "    train_dataset = MNIST(\n",
    "        f\"{sys.path[0]}/data\", train=True, download=True, transform=transforms.ToTensor()\n",
    "    )\n",
    "    test_dataset = MNIST(\n",
    "        f\"{sys.path[0]}/data\", train=False, download=True, transform=transforms.ToTensor()\n",
    "    )\n",
    "\n",
    "# datetime object containing current date and time\n",
    "now = datetime.now()\n",
    "dt_string = now.strftime(\"%d_%m_%Y_%H_%M_%S\")\n",
    "experimentsName = f'{num_peers}_clients_alpha_{alpha}_{dataset_name}_{topology}_'+dt_string\n",
    "targets = train_dataset.targets\n",
    "client_indices = dirichlet_sampling_balanced(targets, alpha, num_peers)\n",
    "cwd = os.getcwd()\n",
    "\n",
    "experimentsName_path = cwd+'/experiments/'+experimentsName\n",
    "os.mkdir(experimentsName_path)\n",
    "\n",
    "\n",
    "for client in range(num_peers):\n",
    "    indices = client_indices[client]\n",
    "    node_id = client      \n",
    "    neiList = nei_list[client]\n",
    "    \n",
    "    attack_info = attack_matrix[node_id]\n",
    "    attack_type = attack_info['attack_type']\n",
    "    targeted = attack_info['targeted']\n",
    "    noise_injected_ratio = attack_info['noise_injected_ratio']\n",
    "    poisoned_sample_ratio = attack_info['poisoned_sample_ratio']\n",
    "\n",
    "    node_config = generate_node_configs(node_id, indices, experimentsName, experimentsName_path, \n",
    "                                        dataset_name, neiList, num_peers, maxRound, maxEpoch, \n",
    "                                        train_dataset, test_dataset, attack_type, targeted, \n",
    "                                        noise_injected_ratio, poisoned_sample_ratio)\n",
    "    \n",
    "    basic_config = node_config['basic_config']\n",
    "    data_train_loader = node_config['data_train_loader']\n",
    "    data_val_loader = node_config['data_val_loader']\n",
    "    test_dataset_loader = node_config['test_dataset_loader']\n",
    "    \n",
    "    node = local_node(node_id,basic_config, data_train_loader, data_val_loader, test_dataset_loader)\n",
    "    node_list[node_id] = node\n",
    "    \n",
    "    with open(experimentsName_path+f\"/{node_id}_config.pk\", \"wb\") as f:\n",
    "        pickle.dump(node_config, f)\n",
    "        f.close()\n",
    "    \n",
    "\n",
    "for round in range(maxRound):\n",
    "    for node_id in node_list:\n",
    "        node = node_list[node_id]\n",
    "        node.curren_round = round+1\n",
    "        node.local_training()\n",
    "        for nei in node.neiList:\n",
    "            node_list[nei].add_nei_model(round+1, node_id, node.model)\n",
    "    \n",
    "    for node_id in node_list:\n",
    "        node = node_list[node_id]\n",
    "        node.aggregation()\n",
    "        "
   ]
  }
 ],
 "metadata": {
  "kernelspec": {
   "display_name": "venv",
   "language": "python",
   "name": "python3"
  },
  "language_info": {
   "codemirror_mode": {
    "name": "ipython",
    "version": 3
   },
   "file_extension": ".py",
   "mimetype": "text/x-python",
   "name": "python",
   "nbconvert_exporter": "python",
   "pygments_lexer": "ipython3",
   "version": "3.11.4"
  }
 },
 "nbformat": 4,
 "nbformat_minor": 2
}
